{
 "cells": [
  {
   "cell_type": "code",
   "execution_count": 1,
   "outputs": [],
   "source": [
    "import pandas as pd\n",
    "import numpy as np"
   ],
   "metadata": {
    "collapsed": false,
    "ExecuteTime": {
     "start_time": "2023-04-22T19:46:57.149158Z",
     "end_time": "2023-04-22T19:46:57.198335Z"
    }
   }
  },
  {
   "cell_type": "code",
   "execution_count": 61,
   "outputs": [
    {
     "name": "stdout",
     "output_type": "stream",
     "text": [
      "Collecting openpyxl\r\n",
      "  Downloading openpyxl-3.1.2-py2.py3-none-any.whl (249 kB)\r\n",
      "\u001B[2K     \u001B[90m━━━━━━━━━━━━━━━━━━━━━━━━━━━━━━━━━━━━━━\u001B[0m \u001B[32m250.0/250.0 kB\u001B[0m \u001B[31m45.3 MB/s\u001B[0m eta \u001B[36m0:00:00\u001B[0m\r\n",
      "\u001B[?25hCollecting et-xmlfile\r\n",
      "  Downloading et_xmlfile-1.1.0-py3-none-any.whl (4.7 kB)\r\n",
      "Installing collected packages: et-xmlfile, openpyxl\r\n",
      "Successfully installed et-xmlfile-1.1.0 openpyxl-3.1.2\r\n",
      "Note: you may need to restart the kernel to use updated packages.\n"
     ]
    }
   ],
   "source": [
    "pip install openpyxl"
   ],
   "metadata": {
    "collapsed": false,
    "ExecuteTime": {
     "start_time": "2023-04-23T15:27:32.186081Z",
     "end_time": "2023-04-23T15:27:34.587457Z"
    }
   }
  },
  {
   "cell_type": "code",
   "execution_count": 2,
   "outputs": [],
   "source": [
    "tumors_oslo = pd.read_csv('/data/projects/TMOR/num_tumors_oslo.csv')\n",
    "tumors_standford = pd.read_csv('/data/projects/TMOR/num_tumors_standford.csv')\n",
    "oslo = pd.read_csv(\"/data/projects/TMOR/OsloMetsDemographics.csv\")\n",
    "standford = pd.read_csv(\"/data/projects/TMOR/stanford_labels.csv\")"
   ],
   "metadata": {
    "collapsed": false,
    "ExecuteTime": {
     "start_time": "2023-04-22T19:46:57.154302Z",
     "end_time": "2023-04-22T19:46:57.239982Z"
    }
   }
  },
  {
   "cell_type": "code",
   "execution_count": 3,
   "outputs": [
    {
     "data": {
      "text/plain": "   SubjectNumber  Number_tumors\n0      Subject01              2\n1      Subject02              6\n2      Subject03              4\n3      Subject04              1\n4      Subject05              2\n..           ...            ...\n62     Subject63              4\n63     Subject64              2\n64     Subject65              4\n65     Subject66              1\n66     Subject67              3\n\n[67 rows x 2 columns]",
      "text/html": "<div>\n<style scoped>\n    .dataframe tbody tr th:only-of-type {\n        vertical-align: middle;\n    }\n\n    .dataframe tbody tr th {\n        vertical-align: top;\n    }\n\n    .dataframe thead th {\n        text-align: right;\n    }\n</style>\n<table border=\"1\" class=\"dataframe\">\n  <thead>\n    <tr style=\"text-align: right;\">\n      <th></th>\n      <th>SubjectNumber</th>\n      <th>Number_tumors</th>\n    </tr>\n  </thead>\n  <tbody>\n    <tr>\n      <th>0</th>\n      <td>Subject01</td>\n      <td>2</td>\n    </tr>\n    <tr>\n      <th>1</th>\n      <td>Subject02</td>\n      <td>6</td>\n    </tr>\n    <tr>\n      <th>2</th>\n      <td>Subject03</td>\n      <td>4</td>\n    </tr>\n    <tr>\n      <th>3</th>\n      <td>Subject04</td>\n      <td>1</td>\n    </tr>\n    <tr>\n      <th>4</th>\n      <td>Subject05</td>\n      <td>2</td>\n    </tr>\n    <tr>\n      <th>...</th>\n      <td>...</td>\n      <td>...</td>\n    </tr>\n    <tr>\n      <th>62</th>\n      <td>Subject63</td>\n      <td>4</td>\n    </tr>\n    <tr>\n      <th>63</th>\n      <td>Subject64</td>\n      <td>2</td>\n    </tr>\n    <tr>\n      <th>64</th>\n      <td>Subject65</td>\n      <td>4</td>\n    </tr>\n    <tr>\n      <th>65</th>\n      <td>Subject66</td>\n      <td>1</td>\n    </tr>\n    <tr>\n      <th>66</th>\n      <td>Subject67</td>\n      <td>3</td>\n    </tr>\n  </tbody>\n</table>\n<p>67 rows × 2 columns</p>\n</div>"
     },
     "execution_count": 3,
     "metadata": {},
     "output_type": "execute_result"
    }
   ],
   "source": [
    "tumors_oslo"
   ],
   "metadata": {
    "collapsed": false,
    "ExecuteTime": {
     "start_time": "2023-04-22T19:46:57.169712Z",
     "end_time": "2023-04-22T19:46:57.255426Z"
    }
   }
  },
  {
   "cell_type": "code",
   "execution_count": 4,
   "outputs": [
    {
     "data": {
      "text/plain": "   SubjectNumber                       StudyID  Gender   Age PrimaryCancer   \n0      Subject01                           NaN    Male  58.0       mal.mel  \\\n1      Subject02                           NaN  Female  50.0       ca.pulm   \n2      Subject03                           NaN    Male  64.0       mal.mel   \n3      Subject04                           NaN    Male  56.0       mal.mel   \n4      Subject05                           NaN  Female  54.0       mal.mel   \n..           ...                           ...     ...   ...           ...   \n67           NaN                           NaN     NaN   NaN           NaN   \n68           NaN                  ROI complete     NaN   NaN           NaN   \n69           NaN  Missing ROI outside VAI slab     NaN   NaN           NaN   \n70           NaN              Missing all ROIs     NaN   NaN           NaN   \n71           NaN            Yet to be included     NaN   NaN           NaN   \n\n   # mets ROI status Pre treatment  Number of BMs  \n0       2        NaN       WB, SRS            2.0  \n1       7        NaN            WB            6.0  \n2       4        NaN        WB,SRS            4.0  \n3       1        NaN            No            1.0  \n4       1          ?        SRS,PO            2.0  \n..    ...        ...           ...            ...  \n67    NaN        NaN           NaN            NaN  \n68    NaN        NaN           NaN            NaN  \n69    NaN        NaN           NaN            NaN  \n70    NaN        NaN           NaN            NaN  \n71    NaN        NaN           NaN            NaN  \n\n[72 rows x 9 columns]",
      "text/html": "<div>\n<style scoped>\n    .dataframe tbody tr th:only-of-type {\n        vertical-align: middle;\n    }\n\n    .dataframe tbody tr th {\n        vertical-align: top;\n    }\n\n    .dataframe thead th {\n        text-align: right;\n    }\n</style>\n<table border=\"1\" class=\"dataframe\">\n  <thead>\n    <tr style=\"text-align: right;\">\n      <th></th>\n      <th>SubjectNumber</th>\n      <th>StudyID</th>\n      <th>Gender</th>\n      <th>Age</th>\n      <th>PrimaryCancer</th>\n      <th># mets</th>\n      <th>ROI status</th>\n      <th>Pre treatment</th>\n      <th>Number of BMs</th>\n    </tr>\n  </thead>\n  <tbody>\n    <tr>\n      <th>0</th>\n      <td>Subject01</td>\n      <td>NaN</td>\n      <td>Male</td>\n      <td>58.0</td>\n      <td>mal.mel</td>\n      <td>2</td>\n      <td>NaN</td>\n      <td>WB, SRS</td>\n      <td>2.0</td>\n    </tr>\n    <tr>\n      <th>1</th>\n      <td>Subject02</td>\n      <td>NaN</td>\n      <td>Female</td>\n      <td>50.0</td>\n      <td>ca.pulm</td>\n      <td>7</td>\n      <td>NaN</td>\n      <td>WB</td>\n      <td>6.0</td>\n    </tr>\n    <tr>\n      <th>2</th>\n      <td>Subject03</td>\n      <td>NaN</td>\n      <td>Male</td>\n      <td>64.0</td>\n      <td>mal.mel</td>\n      <td>4</td>\n      <td>NaN</td>\n      <td>WB,SRS</td>\n      <td>4.0</td>\n    </tr>\n    <tr>\n      <th>3</th>\n      <td>Subject04</td>\n      <td>NaN</td>\n      <td>Male</td>\n      <td>56.0</td>\n      <td>mal.mel</td>\n      <td>1</td>\n      <td>NaN</td>\n      <td>No</td>\n      <td>1.0</td>\n    </tr>\n    <tr>\n      <th>4</th>\n      <td>Subject05</td>\n      <td>NaN</td>\n      <td>Female</td>\n      <td>54.0</td>\n      <td>mal.mel</td>\n      <td>1</td>\n      <td>?</td>\n      <td>SRS,PO</td>\n      <td>2.0</td>\n    </tr>\n    <tr>\n      <th>...</th>\n      <td>...</td>\n      <td>...</td>\n      <td>...</td>\n      <td>...</td>\n      <td>...</td>\n      <td>...</td>\n      <td>...</td>\n      <td>...</td>\n      <td>...</td>\n    </tr>\n    <tr>\n      <th>67</th>\n      <td>NaN</td>\n      <td>NaN</td>\n      <td>NaN</td>\n      <td>NaN</td>\n      <td>NaN</td>\n      <td>NaN</td>\n      <td>NaN</td>\n      <td>NaN</td>\n      <td>NaN</td>\n    </tr>\n    <tr>\n      <th>68</th>\n      <td>NaN</td>\n      <td>ROI complete</td>\n      <td>NaN</td>\n      <td>NaN</td>\n      <td>NaN</td>\n      <td>NaN</td>\n      <td>NaN</td>\n      <td>NaN</td>\n      <td>NaN</td>\n    </tr>\n    <tr>\n      <th>69</th>\n      <td>NaN</td>\n      <td>Missing ROI outside VAI slab</td>\n      <td>NaN</td>\n      <td>NaN</td>\n      <td>NaN</td>\n      <td>NaN</td>\n      <td>NaN</td>\n      <td>NaN</td>\n      <td>NaN</td>\n    </tr>\n    <tr>\n      <th>70</th>\n      <td>NaN</td>\n      <td>Missing all ROIs</td>\n      <td>NaN</td>\n      <td>NaN</td>\n      <td>NaN</td>\n      <td>NaN</td>\n      <td>NaN</td>\n      <td>NaN</td>\n      <td>NaN</td>\n    </tr>\n    <tr>\n      <th>71</th>\n      <td>NaN</td>\n      <td>Yet to be included</td>\n      <td>NaN</td>\n      <td>NaN</td>\n      <td>NaN</td>\n      <td>NaN</td>\n      <td>NaN</td>\n      <td>NaN</td>\n      <td>NaN</td>\n    </tr>\n  </tbody>\n</table>\n<p>72 rows × 9 columns</p>\n</div>"
     },
     "execution_count": 4,
     "metadata": {},
     "output_type": "execute_result"
    }
   ],
   "source": [
    "oslo"
   ],
   "metadata": {
    "collapsed": false,
    "ExecuteTime": {
     "start_time": "2023-04-22T19:46:57.209565Z",
     "end_time": "2023-04-22T19:46:57.255692Z"
    }
   }
  },
  {
   "cell_type": "code",
   "execution_count": 5,
   "outputs": [
    {
     "data": {
      "text/plain": "   SubjectNumber StudyID  Gender   Age PrimaryCancer # mets ROI status   \n0      Subject01     NaN    Male  58.0       mal.mel      2        NaN  \\\n1      Subject02     NaN  Female  50.0       ca.pulm      7        NaN   \n2      Subject03     NaN    Male  64.0       mal.mel      4        NaN   \n3      Subject04     NaN    Male  56.0       mal.mel      1        NaN   \n4      Subject05     NaN  Female  54.0       mal.mel      1          ?   \n..           ...     ...     ...   ...           ...    ...        ...   \n61     Subject62     NaN    Male  77.0       ca.pulm      ?        NaN   \n62     Subject63     NaN    Male  32.0       mal.mel      ?        NaN   \n63     Subject64     NaN  Female  63.0       ca.pulm      ?        NaN   \n64     Subject65     NaN  Female  65.0       ca.pulm      ?        NaN   \n65     Subject66     NaN  Female  78.0       mal.mel      ?        NaN   \n\n   Pre treatment  Number of BMs  \n0        WB, SRS            2.0  \n1             WB            6.0  \n2         WB,SRS            4.0  \n3             No            1.0  \n4         SRS,PO            2.0  \n..           ...            ...  \n61           NaN            1.0  \n62           NaN            4.0  \n63           NaN            2.0  \n64           NaN            4.0  \n65           NaN            1.0  \n\n[66 rows x 9 columns]",
      "text/html": "<div>\n<style scoped>\n    .dataframe tbody tr th:only-of-type {\n        vertical-align: middle;\n    }\n\n    .dataframe tbody tr th {\n        vertical-align: top;\n    }\n\n    .dataframe thead th {\n        text-align: right;\n    }\n</style>\n<table border=\"1\" class=\"dataframe\">\n  <thead>\n    <tr style=\"text-align: right;\">\n      <th></th>\n      <th>SubjectNumber</th>\n      <th>StudyID</th>\n      <th>Gender</th>\n      <th>Age</th>\n      <th>PrimaryCancer</th>\n      <th># mets</th>\n      <th>ROI status</th>\n      <th>Pre treatment</th>\n      <th>Number of BMs</th>\n    </tr>\n  </thead>\n  <tbody>\n    <tr>\n      <th>0</th>\n      <td>Subject01</td>\n      <td>NaN</td>\n      <td>Male</td>\n      <td>58.0</td>\n      <td>mal.mel</td>\n      <td>2</td>\n      <td>NaN</td>\n      <td>WB, SRS</td>\n      <td>2.0</td>\n    </tr>\n    <tr>\n      <th>1</th>\n      <td>Subject02</td>\n      <td>NaN</td>\n      <td>Female</td>\n      <td>50.0</td>\n      <td>ca.pulm</td>\n      <td>7</td>\n      <td>NaN</td>\n      <td>WB</td>\n      <td>6.0</td>\n    </tr>\n    <tr>\n      <th>2</th>\n      <td>Subject03</td>\n      <td>NaN</td>\n      <td>Male</td>\n      <td>64.0</td>\n      <td>mal.mel</td>\n      <td>4</td>\n      <td>NaN</td>\n      <td>WB,SRS</td>\n      <td>4.0</td>\n    </tr>\n    <tr>\n      <th>3</th>\n      <td>Subject04</td>\n      <td>NaN</td>\n      <td>Male</td>\n      <td>56.0</td>\n      <td>mal.mel</td>\n      <td>1</td>\n      <td>NaN</td>\n      <td>No</td>\n      <td>1.0</td>\n    </tr>\n    <tr>\n      <th>4</th>\n      <td>Subject05</td>\n      <td>NaN</td>\n      <td>Female</td>\n      <td>54.0</td>\n      <td>mal.mel</td>\n      <td>1</td>\n      <td>?</td>\n      <td>SRS,PO</td>\n      <td>2.0</td>\n    </tr>\n    <tr>\n      <th>...</th>\n      <td>...</td>\n      <td>...</td>\n      <td>...</td>\n      <td>...</td>\n      <td>...</td>\n      <td>...</td>\n      <td>...</td>\n      <td>...</td>\n      <td>...</td>\n    </tr>\n    <tr>\n      <th>61</th>\n      <td>Subject62</td>\n      <td>NaN</td>\n      <td>Male</td>\n      <td>77.0</td>\n      <td>ca.pulm</td>\n      <td>?</td>\n      <td>NaN</td>\n      <td>NaN</td>\n      <td>1.0</td>\n    </tr>\n    <tr>\n      <th>62</th>\n      <td>Subject63</td>\n      <td>NaN</td>\n      <td>Male</td>\n      <td>32.0</td>\n      <td>mal.mel</td>\n      <td>?</td>\n      <td>NaN</td>\n      <td>NaN</td>\n      <td>4.0</td>\n    </tr>\n    <tr>\n      <th>63</th>\n      <td>Subject64</td>\n      <td>NaN</td>\n      <td>Female</td>\n      <td>63.0</td>\n      <td>ca.pulm</td>\n      <td>?</td>\n      <td>NaN</td>\n      <td>NaN</td>\n      <td>2.0</td>\n    </tr>\n    <tr>\n      <th>64</th>\n      <td>Subject65</td>\n      <td>NaN</td>\n      <td>Female</td>\n      <td>65.0</td>\n      <td>ca.pulm</td>\n      <td>?</td>\n      <td>NaN</td>\n      <td>NaN</td>\n      <td>4.0</td>\n    </tr>\n    <tr>\n      <th>65</th>\n      <td>Subject66</td>\n      <td>NaN</td>\n      <td>Female</td>\n      <td>78.0</td>\n      <td>mal.mel</td>\n      <td>?</td>\n      <td>NaN</td>\n      <td>NaN</td>\n      <td>1.0</td>\n    </tr>\n  </tbody>\n</table>\n<p>66 rows × 9 columns</p>\n</div>"
     },
     "execution_count": 5,
     "metadata": {},
     "output_type": "execute_result"
    }
   ],
   "source": [
    "oslo.iloc[:66]"
   ],
   "metadata": {
    "collapsed": false,
    "ExecuteTime": {
     "start_time": "2023-04-22T19:46:57.209661Z",
     "end_time": "2023-04-22T19:46:57.255786Z"
    }
   }
  },
  {
   "cell_type": "code",
   "execution_count": 6,
   "outputs": [],
   "source": [
    "oslo = oslo.iloc[:66]"
   ],
   "metadata": {
    "collapsed": false,
    "ExecuteTime": {
     "start_time": "2023-04-22T19:46:57.209788Z",
     "end_time": "2023-04-22T19:46:57.255844Z"
    }
   }
  },
  {
   "cell_type": "code",
   "execution_count": 7,
   "outputs": [],
   "source": [
    "oslo = pd.merge(oslo, tumors_oslo, how=\"left\", on=[\"SubjectNumber\"])"
   ],
   "metadata": {
    "collapsed": false,
    "ExecuteTime": {
     "start_time": "2023-04-22T19:46:57.209834Z",
     "end_time": "2023-04-22T19:46:57.255885Z"
    }
   }
  },
  {
   "cell_type": "code",
   "execution_count": 8,
   "outputs": [
    {
     "data": {
      "text/plain": "   SubjectNumber StudyID  Gender   Age PrimaryCancer # mets ROI status   \n0      Subject01     NaN    Male  58.0       mal.mel      2        NaN  \\\n1      Subject02     NaN  Female  50.0       ca.pulm      7        NaN   \n2      Subject03     NaN    Male  64.0       mal.mel      4        NaN   \n3      Subject04     NaN    Male  56.0       mal.mel      1        NaN   \n4      Subject05     NaN  Female  54.0       mal.mel      1          ?   \n..           ...     ...     ...   ...           ...    ...        ...   \n61     Subject62     NaN    Male  77.0       ca.pulm      ?        NaN   \n62     Subject63     NaN    Male  32.0       mal.mel      ?        NaN   \n63     Subject64     NaN  Female  63.0       ca.pulm      ?        NaN   \n64     Subject65     NaN  Female  65.0       ca.pulm      ?        NaN   \n65     Subject66     NaN  Female  78.0       mal.mel      ?        NaN   \n\n   Pre treatment  Number of BMs  Number_tumors  \n0        WB, SRS            2.0            2.0  \n1             WB            6.0            6.0  \n2         WB,SRS            4.0            4.0  \n3             No            1.0            1.0  \n4         SRS,PO            2.0            2.0  \n..           ...            ...            ...  \n61           NaN            1.0            1.0  \n62           NaN            4.0            4.0  \n63           NaN            2.0            2.0  \n64           NaN            4.0            4.0  \n65           NaN            1.0            1.0  \n\n[66 rows x 10 columns]",
      "text/html": "<div>\n<style scoped>\n    .dataframe tbody tr th:only-of-type {\n        vertical-align: middle;\n    }\n\n    .dataframe tbody tr th {\n        vertical-align: top;\n    }\n\n    .dataframe thead th {\n        text-align: right;\n    }\n</style>\n<table border=\"1\" class=\"dataframe\">\n  <thead>\n    <tr style=\"text-align: right;\">\n      <th></th>\n      <th>SubjectNumber</th>\n      <th>StudyID</th>\n      <th>Gender</th>\n      <th>Age</th>\n      <th>PrimaryCancer</th>\n      <th># mets</th>\n      <th>ROI status</th>\n      <th>Pre treatment</th>\n      <th>Number of BMs</th>\n      <th>Number_tumors</th>\n    </tr>\n  </thead>\n  <tbody>\n    <tr>\n      <th>0</th>\n      <td>Subject01</td>\n      <td>NaN</td>\n      <td>Male</td>\n      <td>58.0</td>\n      <td>mal.mel</td>\n      <td>2</td>\n      <td>NaN</td>\n      <td>WB, SRS</td>\n      <td>2.0</td>\n      <td>2.0</td>\n    </tr>\n    <tr>\n      <th>1</th>\n      <td>Subject02</td>\n      <td>NaN</td>\n      <td>Female</td>\n      <td>50.0</td>\n      <td>ca.pulm</td>\n      <td>7</td>\n      <td>NaN</td>\n      <td>WB</td>\n      <td>6.0</td>\n      <td>6.0</td>\n    </tr>\n    <tr>\n      <th>2</th>\n      <td>Subject03</td>\n      <td>NaN</td>\n      <td>Male</td>\n      <td>64.0</td>\n      <td>mal.mel</td>\n      <td>4</td>\n      <td>NaN</td>\n      <td>WB,SRS</td>\n      <td>4.0</td>\n      <td>4.0</td>\n    </tr>\n    <tr>\n      <th>3</th>\n      <td>Subject04</td>\n      <td>NaN</td>\n      <td>Male</td>\n      <td>56.0</td>\n      <td>mal.mel</td>\n      <td>1</td>\n      <td>NaN</td>\n      <td>No</td>\n      <td>1.0</td>\n      <td>1.0</td>\n    </tr>\n    <tr>\n      <th>4</th>\n      <td>Subject05</td>\n      <td>NaN</td>\n      <td>Female</td>\n      <td>54.0</td>\n      <td>mal.mel</td>\n      <td>1</td>\n      <td>?</td>\n      <td>SRS,PO</td>\n      <td>2.0</td>\n      <td>2.0</td>\n    </tr>\n    <tr>\n      <th>...</th>\n      <td>...</td>\n      <td>...</td>\n      <td>...</td>\n      <td>...</td>\n      <td>...</td>\n      <td>...</td>\n      <td>...</td>\n      <td>...</td>\n      <td>...</td>\n      <td>...</td>\n    </tr>\n    <tr>\n      <th>61</th>\n      <td>Subject62</td>\n      <td>NaN</td>\n      <td>Male</td>\n      <td>77.0</td>\n      <td>ca.pulm</td>\n      <td>?</td>\n      <td>NaN</td>\n      <td>NaN</td>\n      <td>1.0</td>\n      <td>1.0</td>\n    </tr>\n    <tr>\n      <th>62</th>\n      <td>Subject63</td>\n      <td>NaN</td>\n      <td>Male</td>\n      <td>32.0</td>\n      <td>mal.mel</td>\n      <td>?</td>\n      <td>NaN</td>\n      <td>NaN</td>\n      <td>4.0</td>\n      <td>4.0</td>\n    </tr>\n    <tr>\n      <th>63</th>\n      <td>Subject64</td>\n      <td>NaN</td>\n      <td>Female</td>\n      <td>63.0</td>\n      <td>ca.pulm</td>\n      <td>?</td>\n      <td>NaN</td>\n      <td>NaN</td>\n      <td>2.0</td>\n      <td>2.0</td>\n    </tr>\n    <tr>\n      <th>64</th>\n      <td>Subject65</td>\n      <td>NaN</td>\n      <td>Female</td>\n      <td>65.0</td>\n      <td>ca.pulm</td>\n      <td>?</td>\n      <td>NaN</td>\n      <td>NaN</td>\n      <td>4.0</td>\n      <td>4.0</td>\n    </tr>\n    <tr>\n      <th>65</th>\n      <td>Subject66</td>\n      <td>NaN</td>\n      <td>Female</td>\n      <td>78.0</td>\n      <td>mal.mel</td>\n      <td>?</td>\n      <td>NaN</td>\n      <td>NaN</td>\n      <td>1.0</td>\n      <td>1.0</td>\n    </tr>\n  </tbody>\n</table>\n<p>66 rows × 10 columns</p>\n</div>"
     },
     "execution_count": 8,
     "metadata": {},
     "output_type": "execute_result"
    }
   ],
   "source": [
    "oslo"
   ],
   "metadata": {
    "collapsed": false,
    "ExecuteTime": {
     "start_time": "2023-04-22T19:46:57.217284Z",
     "end_time": "2023-04-22T19:46:57.255962Z"
    }
   }
  },
  {
   "cell_type": "code",
   "execution_count": 9,
   "outputs": [
    {
     "data": {
      "text/plain": "     Patient_ID  Number_tumors\n0             5              3\n1             9             13\n2            10              3\n3            11              3\n4            13              2\n..          ...            ...\n151         321              5\n152         323             23\n153         326              1\n154         328             16\n155         338              4\n\n[156 rows x 2 columns]",
      "text/html": "<div>\n<style scoped>\n    .dataframe tbody tr th:only-of-type {\n        vertical-align: middle;\n    }\n\n    .dataframe tbody tr th {\n        vertical-align: top;\n    }\n\n    .dataframe thead th {\n        text-align: right;\n    }\n</style>\n<table border=\"1\" class=\"dataframe\">\n  <thead>\n    <tr style=\"text-align: right;\">\n      <th></th>\n      <th>Patient_ID</th>\n      <th>Number_tumors</th>\n    </tr>\n  </thead>\n  <tbody>\n    <tr>\n      <th>0</th>\n      <td>5</td>\n      <td>3</td>\n    </tr>\n    <tr>\n      <th>1</th>\n      <td>9</td>\n      <td>13</td>\n    </tr>\n    <tr>\n      <th>2</th>\n      <td>10</td>\n      <td>3</td>\n    </tr>\n    <tr>\n      <th>3</th>\n      <td>11</td>\n      <td>3</td>\n    </tr>\n    <tr>\n      <th>4</th>\n      <td>13</td>\n      <td>2</td>\n    </tr>\n    <tr>\n      <th>...</th>\n      <td>...</td>\n      <td>...</td>\n    </tr>\n    <tr>\n      <th>151</th>\n      <td>321</td>\n      <td>5</td>\n    </tr>\n    <tr>\n      <th>152</th>\n      <td>323</td>\n      <td>23</td>\n    </tr>\n    <tr>\n      <th>153</th>\n      <td>326</td>\n      <td>1</td>\n    </tr>\n    <tr>\n      <th>154</th>\n      <td>328</td>\n      <td>16</td>\n    </tr>\n    <tr>\n      <th>155</th>\n      <td>338</td>\n      <td>4</td>\n    </tr>\n  </tbody>\n</table>\n<p>156 rows × 2 columns</p>\n</div>"
     },
     "execution_count": 9,
     "metadata": {},
     "output_type": "execute_result"
    }
   ],
   "source": [
    "tumors_standford"
   ],
   "metadata": {
    "collapsed": false,
    "ExecuteTime": {
     "start_time": "2023-04-22T19:46:57.229220Z",
     "end_time": "2023-04-22T19:46:57.256048Z"
    }
   }
  },
  {
   "cell_type": "code",
   "execution_count": 10,
   "outputs": [
    {
     "data": {
      "text/plain": "     Patient_ID Scanner Type (GE, Emeryville, AMC) Scanner Strength (T)  Age   \n0             5                                 GE                  1,5   74  \\\n1             9                                 GE                    3   29   \n2            10                                 GE                    3   69   \n3            11                                 GE                  1,5   36   \n4            13                                 GE                    3   56   \n..          ...                                ...                  ...  ...   \n151         321                                NaN                  NaN   56   \n152         323                                NaN                  NaN   72   \n153         326                                NaN                  NaN   50   \n154         328                                NaN                  NaN   53   \n155         338                                NaN                  NaN   42   \n\n    Sex            Primary cancer type  Number of tumors  \n0     M                          NSCLC                 3  \n1     F                      breast ca                13  \n2     F                          NSCLC                 3  \n3     F                      breast ca                 3  \n4     F                          NSCLC                 2  \n..   ..                            ...               ...  \n151   M           calvarial metastases  Number of tumors  \n152   M  non small cell lung carcinoma  Number of tumors  \n153   M                  breast cancer  Number of tumors  \n154   M                    lung cancer  Number of tumors  \n155   F                    lung cancer  Number of tumors  \n\n[156 rows x 7 columns]",
      "text/html": "<div>\n<style scoped>\n    .dataframe tbody tr th:only-of-type {\n        vertical-align: middle;\n    }\n\n    .dataframe tbody tr th {\n        vertical-align: top;\n    }\n\n    .dataframe thead th {\n        text-align: right;\n    }\n</style>\n<table border=\"1\" class=\"dataframe\">\n  <thead>\n    <tr style=\"text-align: right;\">\n      <th></th>\n      <th>Patient_ID</th>\n      <th>Scanner Type (GE, Emeryville, AMC)</th>\n      <th>Scanner Strength (T)</th>\n      <th>Age</th>\n      <th>Sex</th>\n      <th>Primary cancer type</th>\n      <th>Number of tumors</th>\n    </tr>\n  </thead>\n  <tbody>\n    <tr>\n      <th>0</th>\n      <td>5</td>\n      <td>GE</td>\n      <td>1,5</td>\n      <td>74</td>\n      <td>M</td>\n      <td>NSCLC</td>\n      <td>3</td>\n    </tr>\n    <tr>\n      <th>1</th>\n      <td>9</td>\n      <td>GE</td>\n      <td>3</td>\n      <td>29</td>\n      <td>F</td>\n      <td>breast ca</td>\n      <td>13</td>\n    </tr>\n    <tr>\n      <th>2</th>\n      <td>10</td>\n      <td>GE</td>\n      <td>3</td>\n      <td>69</td>\n      <td>F</td>\n      <td>NSCLC</td>\n      <td>3</td>\n    </tr>\n    <tr>\n      <th>3</th>\n      <td>11</td>\n      <td>GE</td>\n      <td>1,5</td>\n      <td>36</td>\n      <td>F</td>\n      <td>breast ca</td>\n      <td>3</td>\n    </tr>\n    <tr>\n      <th>4</th>\n      <td>13</td>\n      <td>GE</td>\n      <td>3</td>\n      <td>56</td>\n      <td>F</td>\n      <td>NSCLC</td>\n      <td>2</td>\n    </tr>\n    <tr>\n      <th>...</th>\n      <td>...</td>\n      <td>...</td>\n      <td>...</td>\n      <td>...</td>\n      <td>...</td>\n      <td>...</td>\n      <td>...</td>\n    </tr>\n    <tr>\n      <th>151</th>\n      <td>321</td>\n      <td>NaN</td>\n      <td>NaN</td>\n      <td>56</td>\n      <td>M</td>\n      <td>calvarial metastases</td>\n      <td>Number of tumors</td>\n    </tr>\n    <tr>\n      <th>152</th>\n      <td>323</td>\n      <td>NaN</td>\n      <td>NaN</td>\n      <td>72</td>\n      <td>M</td>\n      <td>non small cell lung carcinoma</td>\n      <td>Number of tumors</td>\n    </tr>\n    <tr>\n      <th>153</th>\n      <td>326</td>\n      <td>NaN</td>\n      <td>NaN</td>\n      <td>50</td>\n      <td>M</td>\n      <td>breast cancer</td>\n      <td>Number of tumors</td>\n    </tr>\n    <tr>\n      <th>154</th>\n      <td>328</td>\n      <td>NaN</td>\n      <td>NaN</td>\n      <td>53</td>\n      <td>M</td>\n      <td>lung cancer</td>\n      <td>Number of tumors</td>\n    </tr>\n    <tr>\n      <th>155</th>\n      <td>338</td>\n      <td>NaN</td>\n      <td>NaN</td>\n      <td>42</td>\n      <td>F</td>\n      <td>lung cancer</td>\n      <td>Number of tumors</td>\n    </tr>\n  </tbody>\n</table>\n<p>156 rows × 7 columns</p>\n</div>"
     },
     "execution_count": 10,
     "metadata": {},
     "output_type": "execute_result"
    }
   ],
   "source": [
    "standford"
   ],
   "metadata": {
    "collapsed": false,
    "ExecuteTime": {
     "start_time": "2023-04-22T19:46:57.236334Z",
     "end_time": "2023-04-22T19:46:57.309125Z"
    }
   }
  },
  {
   "cell_type": "code",
   "execution_count": 11,
   "outputs": [
    {
     "data": {
      "text/plain": "     Patient_ID Scanner Type (GE, Emeryville, AMC) Scanner Strength (T)  Age   \n0             5                                 GE                  1,5   74  \\\n1             9                                 GE                    3   29   \n2            10                                 GE                    3   69   \n3            11                                 GE                  1,5   36   \n4            13                                 GE                    3   56   \n..          ...                                ...                  ...  ...   \n151         321                                NaN                  NaN   56   \n152         323                                NaN                  NaN   72   \n153         326                                NaN                  NaN   50   \n154         328                                NaN                  NaN   53   \n155         338                                NaN                  NaN   42   \n\n    Sex            Primary cancer type  Number of tumors  Number_tumors  \n0     M                          NSCLC                 3              3  \n1     F                      breast ca                13             13  \n2     F                          NSCLC                 3              3  \n3     F                      breast ca                 3              3  \n4     F                          NSCLC                 2              2  \n..   ..                            ...               ...            ...  \n151   M           calvarial metastases  Number of tumors              5  \n152   M  non small cell lung carcinoma  Number of tumors             23  \n153   M                  breast cancer  Number of tumors              1  \n154   M                    lung cancer  Number of tumors             16  \n155   F                    lung cancer  Number of tumors              4  \n\n[156 rows x 8 columns]",
      "text/html": "<div>\n<style scoped>\n    .dataframe tbody tr th:only-of-type {\n        vertical-align: middle;\n    }\n\n    .dataframe tbody tr th {\n        vertical-align: top;\n    }\n\n    .dataframe thead th {\n        text-align: right;\n    }\n</style>\n<table border=\"1\" class=\"dataframe\">\n  <thead>\n    <tr style=\"text-align: right;\">\n      <th></th>\n      <th>Patient_ID</th>\n      <th>Scanner Type (GE, Emeryville, AMC)</th>\n      <th>Scanner Strength (T)</th>\n      <th>Age</th>\n      <th>Sex</th>\n      <th>Primary cancer type</th>\n      <th>Number of tumors</th>\n      <th>Number_tumors</th>\n    </tr>\n  </thead>\n  <tbody>\n    <tr>\n      <th>0</th>\n      <td>5</td>\n      <td>GE</td>\n      <td>1,5</td>\n      <td>74</td>\n      <td>M</td>\n      <td>NSCLC</td>\n      <td>3</td>\n      <td>3</td>\n    </tr>\n    <tr>\n      <th>1</th>\n      <td>9</td>\n      <td>GE</td>\n      <td>3</td>\n      <td>29</td>\n      <td>F</td>\n      <td>breast ca</td>\n      <td>13</td>\n      <td>13</td>\n    </tr>\n    <tr>\n      <th>2</th>\n      <td>10</td>\n      <td>GE</td>\n      <td>3</td>\n      <td>69</td>\n      <td>F</td>\n      <td>NSCLC</td>\n      <td>3</td>\n      <td>3</td>\n    </tr>\n    <tr>\n      <th>3</th>\n      <td>11</td>\n      <td>GE</td>\n      <td>1,5</td>\n      <td>36</td>\n      <td>F</td>\n      <td>breast ca</td>\n      <td>3</td>\n      <td>3</td>\n    </tr>\n    <tr>\n      <th>4</th>\n      <td>13</td>\n      <td>GE</td>\n      <td>3</td>\n      <td>56</td>\n      <td>F</td>\n      <td>NSCLC</td>\n      <td>2</td>\n      <td>2</td>\n    </tr>\n    <tr>\n      <th>...</th>\n      <td>...</td>\n      <td>...</td>\n      <td>...</td>\n      <td>...</td>\n      <td>...</td>\n      <td>...</td>\n      <td>...</td>\n      <td>...</td>\n    </tr>\n    <tr>\n      <th>151</th>\n      <td>321</td>\n      <td>NaN</td>\n      <td>NaN</td>\n      <td>56</td>\n      <td>M</td>\n      <td>calvarial metastases</td>\n      <td>Number of tumors</td>\n      <td>5</td>\n    </tr>\n    <tr>\n      <th>152</th>\n      <td>323</td>\n      <td>NaN</td>\n      <td>NaN</td>\n      <td>72</td>\n      <td>M</td>\n      <td>non small cell lung carcinoma</td>\n      <td>Number of tumors</td>\n      <td>23</td>\n    </tr>\n    <tr>\n      <th>153</th>\n      <td>326</td>\n      <td>NaN</td>\n      <td>NaN</td>\n      <td>50</td>\n      <td>M</td>\n      <td>breast cancer</td>\n      <td>Number of tumors</td>\n      <td>1</td>\n    </tr>\n    <tr>\n      <th>154</th>\n      <td>328</td>\n      <td>NaN</td>\n      <td>NaN</td>\n      <td>53</td>\n      <td>M</td>\n      <td>lung cancer</td>\n      <td>Number of tumors</td>\n      <td>16</td>\n    </tr>\n    <tr>\n      <th>155</th>\n      <td>338</td>\n      <td>NaN</td>\n      <td>NaN</td>\n      <td>42</td>\n      <td>F</td>\n      <td>lung cancer</td>\n      <td>Number of tumors</td>\n      <td>4</td>\n    </tr>\n  </tbody>\n</table>\n<p>156 rows × 8 columns</p>\n</div>"
     },
     "execution_count": 11,
     "metadata": {},
     "output_type": "execute_result"
    }
   ],
   "source": [
    "standford = pd.merge(standford, tumors_standford, how=\"left\", on=[\"Patient_ID\"])\n",
    "standford"
   ],
   "metadata": {
    "collapsed": false,
    "ExecuteTime": {
     "start_time": "2023-04-22T19:46:57.284448Z",
     "end_time": "2023-04-22T19:46:57.309489Z"
    }
   }
  },
  {
   "cell_type": "markdown",
   "source": [
    "## Clean Standford dataset"
   ],
   "metadata": {
    "collapsed": false
   }
  },
  {
   "cell_type": "code",
   "execution_count": 12,
   "outputs": [
    {
     "data": {
      "text/plain": "     Patient_ID Scanner Type (GE, Emeryville, AMC) Scanner Strength (T)  Age   \n0             5                                 GE                  1,5   74  \\\n1             9                                 GE                    3   29   \n2            10                                 GE                    3   69   \n3            11                                 GE                  1,5   36   \n4            13                                 GE                    3   56   \n..          ...                                ...                  ...  ...   \n151         321                                NaN                  NaN   56   \n152         323                                NaN                  NaN   72   \n153         326                                NaN                  NaN   50   \n154         328                                NaN                  NaN   53   \n155         338                                NaN                  NaN   42   \n\n    Sex            Primary cancer type  Number of tumors  Number_tumors  \n0     M                          NSCLC                 3              3  \n1     F                      breast ca                13             13  \n2     F                          NSCLC                 3              3  \n3     F                      breast ca                 3              3  \n4     F                          NSCLC                 2              2  \n..   ..                            ...               ...            ...  \n151   M           calvarial metastases  Number of tumors              5  \n152   M  non small cell lung carcinoma  Number of tumors             23  \n153   M                  breast cancer  Number of tumors              1  \n154   M                    lung cancer  Number of tumors             16  \n155   F                    lung cancer  Number of tumors              4  \n\n[156 rows x 8 columns]",
      "text/html": "<div>\n<style scoped>\n    .dataframe tbody tr th:only-of-type {\n        vertical-align: middle;\n    }\n\n    .dataframe tbody tr th {\n        vertical-align: top;\n    }\n\n    .dataframe thead th {\n        text-align: right;\n    }\n</style>\n<table border=\"1\" class=\"dataframe\">\n  <thead>\n    <tr style=\"text-align: right;\">\n      <th></th>\n      <th>Patient_ID</th>\n      <th>Scanner Type (GE, Emeryville, AMC)</th>\n      <th>Scanner Strength (T)</th>\n      <th>Age</th>\n      <th>Sex</th>\n      <th>Primary cancer type</th>\n      <th>Number of tumors</th>\n      <th>Number_tumors</th>\n    </tr>\n  </thead>\n  <tbody>\n    <tr>\n      <th>0</th>\n      <td>5</td>\n      <td>GE</td>\n      <td>1,5</td>\n      <td>74</td>\n      <td>M</td>\n      <td>NSCLC</td>\n      <td>3</td>\n      <td>3</td>\n    </tr>\n    <tr>\n      <th>1</th>\n      <td>9</td>\n      <td>GE</td>\n      <td>3</td>\n      <td>29</td>\n      <td>F</td>\n      <td>breast ca</td>\n      <td>13</td>\n      <td>13</td>\n    </tr>\n    <tr>\n      <th>2</th>\n      <td>10</td>\n      <td>GE</td>\n      <td>3</td>\n      <td>69</td>\n      <td>F</td>\n      <td>NSCLC</td>\n      <td>3</td>\n      <td>3</td>\n    </tr>\n    <tr>\n      <th>3</th>\n      <td>11</td>\n      <td>GE</td>\n      <td>1,5</td>\n      <td>36</td>\n      <td>F</td>\n      <td>breast ca</td>\n      <td>3</td>\n      <td>3</td>\n    </tr>\n    <tr>\n      <th>4</th>\n      <td>13</td>\n      <td>GE</td>\n      <td>3</td>\n      <td>56</td>\n      <td>F</td>\n      <td>NSCLC</td>\n      <td>2</td>\n      <td>2</td>\n    </tr>\n    <tr>\n      <th>...</th>\n      <td>...</td>\n      <td>...</td>\n      <td>...</td>\n      <td>...</td>\n      <td>...</td>\n      <td>...</td>\n      <td>...</td>\n      <td>...</td>\n    </tr>\n    <tr>\n      <th>151</th>\n      <td>321</td>\n      <td>NaN</td>\n      <td>NaN</td>\n      <td>56</td>\n      <td>M</td>\n      <td>calvarial metastases</td>\n      <td>Number of tumors</td>\n      <td>5</td>\n    </tr>\n    <tr>\n      <th>152</th>\n      <td>323</td>\n      <td>NaN</td>\n      <td>NaN</td>\n      <td>72</td>\n      <td>M</td>\n      <td>non small cell lung carcinoma</td>\n      <td>Number of tumors</td>\n      <td>23</td>\n    </tr>\n    <tr>\n      <th>153</th>\n      <td>326</td>\n      <td>NaN</td>\n      <td>NaN</td>\n      <td>50</td>\n      <td>M</td>\n      <td>breast cancer</td>\n      <td>Number of tumors</td>\n      <td>1</td>\n    </tr>\n    <tr>\n      <th>154</th>\n      <td>328</td>\n      <td>NaN</td>\n      <td>NaN</td>\n      <td>53</td>\n      <td>M</td>\n      <td>lung cancer</td>\n      <td>Number of tumors</td>\n      <td>16</td>\n    </tr>\n    <tr>\n      <th>155</th>\n      <td>338</td>\n      <td>NaN</td>\n      <td>NaN</td>\n      <td>42</td>\n      <td>F</td>\n      <td>lung cancer</td>\n      <td>Number of tumors</td>\n      <td>4</td>\n    </tr>\n  </tbody>\n</table>\n<p>156 rows × 8 columns</p>\n</div>"
     },
     "execution_count": 12,
     "metadata": {},
     "output_type": "execute_result"
    }
   ],
   "source": [
    "standford"
   ],
   "metadata": {
    "collapsed": false,
    "ExecuteTime": {
     "start_time": "2023-04-22T19:46:57.284556Z",
     "end_time": "2023-04-22T19:46:57.309593Z"
    }
   }
  },
  {
   "cell_type": "code",
   "execution_count": 13,
   "outputs": [],
   "source": [
    "standford = standford.drop('Number of tumors', axis = 1)"
   ],
   "metadata": {
    "collapsed": false,
    "ExecuteTime": {
     "start_time": "2023-04-22T19:46:57.284673Z",
     "end_time": "2023-04-22T19:46:57.309649Z"
    }
   }
  },
  {
   "cell_type": "code",
   "execution_count": 14,
   "outputs": [
    {
     "data": {
      "text/plain": "     Patient_ID Scanner Type (GE, Emeryville, AMC) Scanner Strength (T)  Age   \n0             5                                 GE                  1,5   74  \\\n1             9                                 GE                    3   29   \n2            10                                 GE                    3   69   \n3            11                                 GE                  1,5   36   \n4            13                                 GE                    3   56   \n..          ...                                ...                  ...  ...   \n151         321                                NaN                  NaN   56   \n152         323                                NaN                  NaN   72   \n153         326                                NaN                  NaN   50   \n154         328                                NaN                  NaN   53   \n155         338                                NaN                  NaN   42   \n\n    Sex            Primary cancer type  Number_tumors  \n0     M                          NSCLC              3  \n1     F                      breast ca             13  \n2     F                          NSCLC              3  \n3     F                      breast ca              3  \n4     F                          NSCLC              2  \n..   ..                            ...            ...  \n151   M           calvarial metastases              5  \n152   M  non small cell lung carcinoma             23  \n153   M                  breast cancer              1  \n154   M                    lung cancer             16  \n155   F                    lung cancer              4  \n\n[156 rows x 7 columns]",
      "text/html": "<div>\n<style scoped>\n    .dataframe tbody tr th:only-of-type {\n        vertical-align: middle;\n    }\n\n    .dataframe tbody tr th {\n        vertical-align: top;\n    }\n\n    .dataframe thead th {\n        text-align: right;\n    }\n</style>\n<table border=\"1\" class=\"dataframe\">\n  <thead>\n    <tr style=\"text-align: right;\">\n      <th></th>\n      <th>Patient_ID</th>\n      <th>Scanner Type (GE, Emeryville, AMC)</th>\n      <th>Scanner Strength (T)</th>\n      <th>Age</th>\n      <th>Sex</th>\n      <th>Primary cancer type</th>\n      <th>Number_tumors</th>\n    </tr>\n  </thead>\n  <tbody>\n    <tr>\n      <th>0</th>\n      <td>5</td>\n      <td>GE</td>\n      <td>1,5</td>\n      <td>74</td>\n      <td>M</td>\n      <td>NSCLC</td>\n      <td>3</td>\n    </tr>\n    <tr>\n      <th>1</th>\n      <td>9</td>\n      <td>GE</td>\n      <td>3</td>\n      <td>29</td>\n      <td>F</td>\n      <td>breast ca</td>\n      <td>13</td>\n    </tr>\n    <tr>\n      <th>2</th>\n      <td>10</td>\n      <td>GE</td>\n      <td>3</td>\n      <td>69</td>\n      <td>F</td>\n      <td>NSCLC</td>\n      <td>3</td>\n    </tr>\n    <tr>\n      <th>3</th>\n      <td>11</td>\n      <td>GE</td>\n      <td>1,5</td>\n      <td>36</td>\n      <td>F</td>\n      <td>breast ca</td>\n      <td>3</td>\n    </tr>\n    <tr>\n      <th>4</th>\n      <td>13</td>\n      <td>GE</td>\n      <td>3</td>\n      <td>56</td>\n      <td>F</td>\n      <td>NSCLC</td>\n      <td>2</td>\n    </tr>\n    <tr>\n      <th>...</th>\n      <td>...</td>\n      <td>...</td>\n      <td>...</td>\n      <td>...</td>\n      <td>...</td>\n      <td>...</td>\n      <td>...</td>\n    </tr>\n    <tr>\n      <th>151</th>\n      <td>321</td>\n      <td>NaN</td>\n      <td>NaN</td>\n      <td>56</td>\n      <td>M</td>\n      <td>calvarial metastases</td>\n      <td>5</td>\n    </tr>\n    <tr>\n      <th>152</th>\n      <td>323</td>\n      <td>NaN</td>\n      <td>NaN</td>\n      <td>72</td>\n      <td>M</td>\n      <td>non small cell lung carcinoma</td>\n      <td>23</td>\n    </tr>\n    <tr>\n      <th>153</th>\n      <td>326</td>\n      <td>NaN</td>\n      <td>NaN</td>\n      <td>50</td>\n      <td>M</td>\n      <td>breast cancer</td>\n      <td>1</td>\n    </tr>\n    <tr>\n      <th>154</th>\n      <td>328</td>\n      <td>NaN</td>\n      <td>NaN</td>\n      <td>53</td>\n      <td>M</td>\n      <td>lung cancer</td>\n      <td>16</td>\n    </tr>\n    <tr>\n      <th>155</th>\n      <td>338</td>\n      <td>NaN</td>\n      <td>NaN</td>\n      <td>42</td>\n      <td>F</td>\n      <td>lung cancer</td>\n      <td>4</td>\n    </tr>\n  </tbody>\n</table>\n<p>156 rows × 7 columns</p>\n</div>"
     },
     "execution_count": 14,
     "metadata": {},
     "output_type": "execute_result"
    }
   ],
   "source": [
    "standford"
   ],
   "metadata": {
    "collapsed": false,
    "ExecuteTime": {
     "start_time": "2023-04-22T19:46:57.284703Z",
     "end_time": "2023-04-22T19:46:57.442678Z"
    }
   }
  },
  {
   "cell_type": "code",
   "execution_count": 15,
   "outputs": [
    {
     "data": {
      "text/plain": "Patient_ID                             int64\nScanner Type (GE, Emeryville, AMC)    object\nScanner Strength (T)                  object\nAge                                    int64\nSex                                   object\nPrimary cancer type                   object\nNumber_tumors                          int64\ndtype: object"
     },
     "execution_count": 15,
     "metadata": {},
     "output_type": "execute_result"
    }
   ],
   "source": [
    "standford.dtypes"
   ],
   "metadata": {
    "collapsed": false,
    "ExecuteTime": {
     "start_time": "2023-04-22T19:46:57.324565Z",
     "end_time": "2023-04-22T19:46:57.442891Z"
    }
   }
  },
  {
   "cell_type": "code",
   "execution_count": 16,
   "outputs": [],
   "source": [
    "standford.loc[standford['Primary cancer type'] == 'breast ca', 'Primary cancer type'] = 'breast_cancer'\n",
    "standford.loc[standford['Primary cancer type'] == 'Breast ca', 'Primary cancer type'] = 'breast_cancer'\n",
    "standford.loc[standford['Primary cancer type'] == 'small cell lung cancer', 'Primary cancer type'] = 'SCLC'\n",
    "standford.loc[standford['Primary cancer type'] == 'squamous cell lung cancer', 'Primary cancer type'] = 'NSCLC'\n",
    "standford.loc[standford['Primary cancer type'] == 'breast cancer', 'Primary cancer type'] = 'breast_cancer'\n",
    "standford.loc[standford['Primary cancer type'] == 'Melanoma', 'Primary cancer type'] = 'melanoma'\n",
    "standford.loc[standford['Primary cancer type'] == 'kidney ca', 'Primary cancer type'] = 'kidney'\n",
    "standford.loc[standford['Primary cancer type'] == 'lung adenocarcinoma', 'Primary cancer type'] = 'NSCLC'\n",
    "standford.loc[standford['Primary cancer type'] == 'Lung adenocarcinoma', 'Primary cancer type'] = 'NSCLC'\n",
    "standford.loc[standford['Primary cancer type'] == 'uterine cancer', 'Primary cancer type'] = 'uterus'\n",
    "standford.loc[standford['Primary cancer type'] == 'metastatic melanoma', 'Primary cancer type'] = 'melanoma'\n",
    "standford.loc[standford['Primary cancer type'] == 'brain metastatic lesions', 'Primary cancer type'] = 'brain'\n",
    "standford.loc[standford['Primary cancer type'] == 'metastatic NSCLC', 'Primary cancer type'] = 'NSCLC'\n",
    "standford.loc[standford['Primary cancer type'] == 'brain metastases', 'Primary cancer type'] = 'brain'\n",
    "standford.loc[standford['Primary cancer type'] == 'brain metastastic lesions', 'Primary cancer type'] = 'brain'\n",
    "standford.loc[standford['Primary cancer type'] == 'brain metastatic lesions', 'Primary cancer type'] = 'brain'\n",
    "standford.loc[standford['Primary cancer type'] == 'metastatic lung cancer', 'Primary cancer type'] = 'lung_cancer'\n",
    "standford.loc[standford['Primary cancer type'] == 'lung cancer', 'Primary cancer type'] = 'lung_cancer'\n",
    "standford.loc[standford['Primary cancer type'] == 'metastatic breast cancer', 'Primary cancer type'] = 'breast_cancer'\n",
    "standford.loc[standford['Primary cancer type'] == 'non small cell lung carcinoma', 'Primary cancer type'] = 'NSCLC'\n",
    "standford.loc[standford['Primary cancer type'] == 'Colon ca', 'Primary cancer type'] = 'colon'\n",
    "standford.loc[standford['Primary cancer type'] == 'scc lungs', 'Primary cancer type'] = 'NSCLC'\n",
    "standford.loc[standford['Primary cancer type'] == 'intercranial lung mets', 'Primary cancer type'] = 'lung_cancer'\n",
    "standford.loc[standford['Primary cancer type'] == 'frontal lobe lung metastases', 'Primary cancer type'] = 'lung_cancer'\n",
    "standford.loc[standford['Primary cancer type'] == 'squamous cell carcinoma of lung', 'Primary cancer type'] = 'lung_cancer'\n",
    "standford.loc[standford['Primary cancer type'] == 'breast_cancer', 'Primary cancer type'] = 'breast'\n",
    "standford.loc[standford['Primary cancer type'] == 'f/u multiple brain metastases', 'Primary cancer type'] = 'brain'\n",
    "standford.loc[standford['Primary cancer type'] == 'lung_cancer', 'Primary cancer type'] = 'lung'\n",
    "standford.loc[standford['Primary cancer type'] == 'NSCLC', 'Primary cancer type'] = 'lung'\n",
    "standford.loc[standford['Primary cancer type'] == 'SCLC', 'Primary cancer type'] = 'lung'\n"
   ],
   "metadata": {
    "collapsed": false,
    "ExecuteTime": {
     "start_time": "2023-04-22T19:46:57.324678Z",
     "end_time": "2023-04-22T19:46:57.442943Z"
    }
   }
  },
  {
   "cell_type": "markdown",
   "source": [],
   "metadata": {
    "collapsed": false
   }
  },
  {
   "cell_type": "code",
   "execution_count": 17,
   "outputs": [],
   "source": [
    "pene = standford[standford['Primary cancer type'] == 'lung adenocarcinoma and sacral metastases']"
   ],
   "metadata": {
    "collapsed": false,
    "ExecuteTime": {
     "start_time": "2023-04-22T19:46:57.324863Z",
     "end_time": "2023-04-22T19:46:57.442983Z"
    }
   }
  },
  {
   "cell_type": "code",
   "execution_count": 18,
   "outputs": [
    {
     "data": {
      "text/plain": "109    lung adenocarcinoma and sacral metastases\nName: Primary cancer type, dtype: object"
     },
     "execution_count": 18,
     "metadata": {},
     "output_type": "execute_result"
    }
   ],
   "source": [
    "pene['Primary cancer type']"
   ],
   "metadata": {
    "collapsed": false,
    "ExecuteTime": {
     "start_time": "2023-04-22T19:46:57.324942Z",
     "end_time": "2023-04-22T19:46:57.443084Z"
    }
   }
  },
  {
   "cell_type": "code",
   "execution_count": 19,
   "outputs": [
    {
     "data": {
      "text/plain": "     Patient_ID Scanner Type (GE, Emeryville, AMC) Scanner Strength (T)  Age   \n0             5                                 GE                  1,5   74  \\\n1             9                                 GE                    3   29   \n2            10                                 GE                    3   69   \n3            11                                 GE                  1,5   36   \n4            13                                 GE                    3   56   \n..          ...                                ...                  ...  ...   \n151         321                                NaN                  NaN   56   \n152         323                                NaN                  NaN   72   \n153         326                                NaN                  NaN   50   \n154         328                                NaN                  NaN   53   \n155         338                                NaN                  NaN   42   \n\n    Sex   Primary cancer type  Number_tumors  \n0     M                  lung              3  \n1     F                breast             13  \n2     F                  lung              3  \n3     F                breast              3  \n4     F                  lung              2  \n..   ..                   ...            ...  \n151   M  calvarial metastases              5  \n152   M                  lung             23  \n153   M                breast              1  \n154   M                  lung             16  \n155   F                  lung              4  \n\n[156 rows x 7 columns]",
      "text/html": "<div>\n<style scoped>\n    .dataframe tbody tr th:only-of-type {\n        vertical-align: middle;\n    }\n\n    .dataframe tbody tr th {\n        vertical-align: top;\n    }\n\n    .dataframe thead th {\n        text-align: right;\n    }\n</style>\n<table border=\"1\" class=\"dataframe\">\n  <thead>\n    <tr style=\"text-align: right;\">\n      <th></th>\n      <th>Patient_ID</th>\n      <th>Scanner Type (GE, Emeryville, AMC)</th>\n      <th>Scanner Strength (T)</th>\n      <th>Age</th>\n      <th>Sex</th>\n      <th>Primary cancer type</th>\n      <th>Number_tumors</th>\n    </tr>\n  </thead>\n  <tbody>\n    <tr>\n      <th>0</th>\n      <td>5</td>\n      <td>GE</td>\n      <td>1,5</td>\n      <td>74</td>\n      <td>M</td>\n      <td>lung</td>\n      <td>3</td>\n    </tr>\n    <tr>\n      <th>1</th>\n      <td>9</td>\n      <td>GE</td>\n      <td>3</td>\n      <td>29</td>\n      <td>F</td>\n      <td>breast</td>\n      <td>13</td>\n    </tr>\n    <tr>\n      <th>2</th>\n      <td>10</td>\n      <td>GE</td>\n      <td>3</td>\n      <td>69</td>\n      <td>F</td>\n      <td>lung</td>\n      <td>3</td>\n    </tr>\n    <tr>\n      <th>3</th>\n      <td>11</td>\n      <td>GE</td>\n      <td>1,5</td>\n      <td>36</td>\n      <td>F</td>\n      <td>breast</td>\n      <td>3</td>\n    </tr>\n    <tr>\n      <th>4</th>\n      <td>13</td>\n      <td>GE</td>\n      <td>3</td>\n      <td>56</td>\n      <td>F</td>\n      <td>lung</td>\n      <td>2</td>\n    </tr>\n    <tr>\n      <th>...</th>\n      <td>...</td>\n      <td>...</td>\n      <td>...</td>\n      <td>...</td>\n      <td>...</td>\n      <td>...</td>\n      <td>...</td>\n    </tr>\n    <tr>\n      <th>151</th>\n      <td>321</td>\n      <td>NaN</td>\n      <td>NaN</td>\n      <td>56</td>\n      <td>M</td>\n      <td>calvarial metastases</td>\n      <td>5</td>\n    </tr>\n    <tr>\n      <th>152</th>\n      <td>323</td>\n      <td>NaN</td>\n      <td>NaN</td>\n      <td>72</td>\n      <td>M</td>\n      <td>lung</td>\n      <td>23</td>\n    </tr>\n    <tr>\n      <th>153</th>\n      <td>326</td>\n      <td>NaN</td>\n      <td>NaN</td>\n      <td>50</td>\n      <td>M</td>\n      <td>breast</td>\n      <td>1</td>\n    </tr>\n    <tr>\n      <th>154</th>\n      <td>328</td>\n      <td>NaN</td>\n      <td>NaN</td>\n      <td>53</td>\n      <td>M</td>\n      <td>lung</td>\n      <td>16</td>\n    </tr>\n    <tr>\n      <th>155</th>\n      <td>338</td>\n      <td>NaN</td>\n      <td>NaN</td>\n      <td>42</td>\n      <td>F</td>\n      <td>lung</td>\n      <td>4</td>\n    </tr>\n  </tbody>\n</table>\n<p>156 rows × 7 columns</p>\n</div>"
     },
     "execution_count": 19,
     "metadata": {},
     "output_type": "execute_result"
    }
   ],
   "source": [
    "standford"
   ],
   "metadata": {
    "collapsed": false,
    "ExecuteTime": {
     "start_time": "2023-04-22T19:46:57.325057Z",
     "end_time": "2023-04-22T19:46:57.548934Z"
    }
   }
  },
  {
   "cell_type": "code",
   "execution_count": 20,
   "outputs": [
    {
     "data": {
      "text/plain": "     Patient_ID Scanner Type (GE, Emeryville, AMC) Scanner Strength (T)  Age   \n94          187                                NaN                  NaN   86  \\\n97          196                                NaN                  NaN   77   \n107         235                                NaN                  NaN   85   \n118         256                                NaN                  NaN   65   \n123         271                                NaN                  NaN   46   \n140         306                                NaN                  NaN   65   \n\n    Sex Primary cancer type  Number_tumors  \n94    F               brain             61  \n97    F               brain              4  \n107   M               brain              4  \n118   F               brain              3  \n123   F               brain             17  \n140   M               brain              1  ",
      "text/html": "<div>\n<style scoped>\n    .dataframe tbody tr th:only-of-type {\n        vertical-align: middle;\n    }\n\n    .dataframe tbody tr th {\n        vertical-align: top;\n    }\n\n    .dataframe thead th {\n        text-align: right;\n    }\n</style>\n<table border=\"1\" class=\"dataframe\">\n  <thead>\n    <tr style=\"text-align: right;\">\n      <th></th>\n      <th>Patient_ID</th>\n      <th>Scanner Type (GE, Emeryville, AMC)</th>\n      <th>Scanner Strength (T)</th>\n      <th>Age</th>\n      <th>Sex</th>\n      <th>Primary cancer type</th>\n      <th>Number_tumors</th>\n    </tr>\n  </thead>\n  <tbody>\n    <tr>\n      <th>94</th>\n      <td>187</td>\n      <td>NaN</td>\n      <td>NaN</td>\n      <td>86</td>\n      <td>F</td>\n      <td>brain</td>\n      <td>61</td>\n    </tr>\n    <tr>\n      <th>97</th>\n      <td>196</td>\n      <td>NaN</td>\n      <td>NaN</td>\n      <td>77</td>\n      <td>F</td>\n      <td>brain</td>\n      <td>4</td>\n    </tr>\n    <tr>\n      <th>107</th>\n      <td>235</td>\n      <td>NaN</td>\n      <td>NaN</td>\n      <td>85</td>\n      <td>M</td>\n      <td>brain</td>\n      <td>4</td>\n    </tr>\n    <tr>\n      <th>118</th>\n      <td>256</td>\n      <td>NaN</td>\n      <td>NaN</td>\n      <td>65</td>\n      <td>F</td>\n      <td>brain</td>\n      <td>3</td>\n    </tr>\n    <tr>\n      <th>123</th>\n      <td>271</td>\n      <td>NaN</td>\n      <td>NaN</td>\n      <td>46</td>\n      <td>F</td>\n      <td>brain</td>\n      <td>17</td>\n    </tr>\n    <tr>\n      <th>140</th>\n      <td>306</td>\n      <td>NaN</td>\n      <td>NaN</td>\n      <td>65</td>\n      <td>M</td>\n      <td>brain</td>\n      <td>1</td>\n    </tr>\n  </tbody>\n</table>\n</div>"
     },
     "execution_count": 20,
     "metadata": {},
     "output_type": "execute_result"
    }
   ],
   "source": [
    "brain = standford[standford['Primary cancer type'] == 'brain']\n",
    "brain"
   ],
   "metadata": {
    "collapsed": false,
    "ExecuteTime": {
     "start_time": "2023-04-22T19:46:57.364632Z",
     "end_time": "2023-04-22T19:46:57.549244Z"
    }
   }
  },
  {
   "cell_type": "markdown",
   "source": [
    "## create a new column with the same labels"
   ],
   "metadata": {
    "collapsed": false
   }
  },
  {
   "cell_type": "code",
   "execution_count": 21,
   "outputs": [
    {
     "data": {
      "text/plain": "     Patient_ID Scanner Type (GE, Emeryville, AMC) Scanner Strength (T)  Age   \n0             5                                 GE                  1,5   74  \\\n1             9                                 GE                    3   29   \n2            10                                 GE                    3   69   \n3            11                                 GE                  1,5   36   \n4            13                                 GE                    3   56   \n..          ...                                ...                  ...  ...   \n151         321                                NaN                  NaN   56   \n152         323                                NaN                  NaN   72   \n153         326                                NaN                  NaN   50   \n154         328                                NaN                  NaN   53   \n155         338                                NaN                  NaN   42   \n\n    Sex   Primary cancer type  Number_tumors  \n0     M                  lung              3  \n1     F                breast             13  \n2     F                  lung              3  \n3     F                breast              3  \n4     F                  lung              2  \n..   ..                   ...            ...  \n151   M  calvarial metastases              5  \n152   M                  lung             23  \n153   M                breast              1  \n154   M                  lung             16  \n155   F                  lung              4  \n\n[156 rows x 7 columns]",
      "text/html": "<div>\n<style scoped>\n    .dataframe tbody tr th:only-of-type {\n        vertical-align: middle;\n    }\n\n    .dataframe tbody tr th {\n        vertical-align: top;\n    }\n\n    .dataframe thead th {\n        text-align: right;\n    }\n</style>\n<table border=\"1\" class=\"dataframe\">\n  <thead>\n    <tr style=\"text-align: right;\">\n      <th></th>\n      <th>Patient_ID</th>\n      <th>Scanner Type (GE, Emeryville, AMC)</th>\n      <th>Scanner Strength (T)</th>\n      <th>Age</th>\n      <th>Sex</th>\n      <th>Primary cancer type</th>\n      <th>Number_tumors</th>\n    </tr>\n  </thead>\n  <tbody>\n    <tr>\n      <th>0</th>\n      <td>5</td>\n      <td>GE</td>\n      <td>1,5</td>\n      <td>74</td>\n      <td>M</td>\n      <td>lung</td>\n      <td>3</td>\n    </tr>\n    <tr>\n      <th>1</th>\n      <td>9</td>\n      <td>GE</td>\n      <td>3</td>\n      <td>29</td>\n      <td>F</td>\n      <td>breast</td>\n      <td>13</td>\n    </tr>\n    <tr>\n      <th>2</th>\n      <td>10</td>\n      <td>GE</td>\n      <td>3</td>\n      <td>69</td>\n      <td>F</td>\n      <td>lung</td>\n      <td>3</td>\n    </tr>\n    <tr>\n      <th>3</th>\n      <td>11</td>\n      <td>GE</td>\n      <td>1,5</td>\n      <td>36</td>\n      <td>F</td>\n      <td>breast</td>\n      <td>3</td>\n    </tr>\n    <tr>\n      <th>4</th>\n      <td>13</td>\n      <td>GE</td>\n      <td>3</td>\n      <td>56</td>\n      <td>F</td>\n      <td>lung</td>\n      <td>2</td>\n    </tr>\n    <tr>\n      <th>...</th>\n      <td>...</td>\n      <td>...</td>\n      <td>...</td>\n      <td>...</td>\n      <td>...</td>\n      <td>...</td>\n      <td>...</td>\n    </tr>\n    <tr>\n      <th>151</th>\n      <td>321</td>\n      <td>NaN</td>\n      <td>NaN</td>\n      <td>56</td>\n      <td>M</td>\n      <td>calvarial metastases</td>\n      <td>5</td>\n    </tr>\n    <tr>\n      <th>152</th>\n      <td>323</td>\n      <td>NaN</td>\n      <td>NaN</td>\n      <td>72</td>\n      <td>M</td>\n      <td>lung</td>\n      <td>23</td>\n    </tr>\n    <tr>\n      <th>153</th>\n      <td>326</td>\n      <td>NaN</td>\n      <td>NaN</td>\n      <td>50</td>\n      <td>M</td>\n      <td>breast</td>\n      <td>1</td>\n    </tr>\n    <tr>\n      <th>154</th>\n      <td>328</td>\n      <td>NaN</td>\n      <td>NaN</td>\n      <td>53</td>\n      <td>M</td>\n      <td>lung</td>\n      <td>16</td>\n    </tr>\n    <tr>\n      <th>155</th>\n      <td>338</td>\n      <td>NaN</td>\n      <td>NaN</td>\n      <td>42</td>\n      <td>F</td>\n      <td>lung</td>\n      <td>4</td>\n    </tr>\n  </tbody>\n</table>\n<p>156 rows × 7 columns</p>\n</div>"
     },
     "execution_count": 21,
     "metadata": {},
     "output_type": "execute_result"
    }
   ],
   "source": [
    "standford"
   ],
   "metadata": {
    "collapsed": false,
    "ExecuteTime": {
     "start_time": "2023-04-22T19:46:57.364688Z",
     "end_time": "2023-04-22T19:46:57.549401Z"
    }
   }
  },
  {
   "cell_type": "code",
   "execution_count": 22,
   "outputs": [],
   "source": [
    "import pandas as pd\n",
    "\n",
    "# Create a list of values to check for\n",
    "cancer_list = ['breast', 'lung', 'melanoma']\n",
    "\n",
    "# Define a function to create the labels column\n",
    "def create_labels(row):\n",
    "    if row['Primary cancer type'] in cancer_list:\n",
    "        return row['Primary cancer type']\n",
    "    else:\n",
    "        return 'other'\n",
    "\n",
    "# Apply the function to create the labels column\n",
    "standford['labels'] = standford.apply(create_labels, axis=1)"
   ],
   "metadata": {
    "collapsed": false,
    "ExecuteTime": {
     "start_time": "2023-04-22T19:46:57.364943Z",
     "end_time": "2023-04-22T19:46:57.549458Z"
    }
   }
  },
  {
   "cell_type": "code",
   "execution_count": 23,
   "outputs": [
    {
     "data": {
      "text/plain": "     Patient_ID Scanner Type (GE, Emeryville, AMC) Scanner Strength (T)  Age   \n0             5                                 GE                  1,5   74  \\\n1             9                                 GE                    3   29   \n2            10                                 GE                    3   69   \n3            11                                 GE                  1,5   36   \n4            13                                 GE                    3   56   \n..          ...                                ...                  ...  ...   \n151         321                                NaN                  NaN   56   \n152         323                                NaN                  NaN   72   \n153         326                                NaN                  NaN   50   \n154         328                                NaN                  NaN   53   \n155         338                                NaN                  NaN   42   \n\n    Sex   Primary cancer type  Number_tumors  labels  \n0     M                  lung              3    lung  \n1     F                breast             13  breast  \n2     F                  lung              3    lung  \n3     F                breast              3  breast  \n4     F                  lung              2    lung  \n..   ..                   ...            ...     ...  \n151   M  calvarial metastases              5   other  \n152   M                  lung             23    lung  \n153   M                breast              1  breast  \n154   M                  lung             16    lung  \n155   F                  lung              4    lung  \n\n[156 rows x 8 columns]",
      "text/html": "<div>\n<style scoped>\n    .dataframe tbody tr th:only-of-type {\n        vertical-align: middle;\n    }\n\n    .dataframe tbody tr th {\n        vertical-align: top;\n    }\n\n    .dataframe thead th {\n        text-align: right;\n    }\n</style>\n<table border=\"1\" class=\"dataframe\">\n  <thead>\n    <tr style=\"text-align: right;\">\n      <th></th>\n      <th>Patient_ID</th>\n      <th>Scanner Type (GE, Emeryville, AMC)</th>\n      <th>Scanner Strength (T)</th>\n      <th>Age</th>\n      <th>Sex</th>\n      <th>Primary cancer type</th>\n      <th>Number_tumors</th>\n      <th>labels</th>\n    </tr>\n  </thead>\n  <tbody>\n    <tr>\n      <th>0</th>\n      <td>5</td>\n      <td>GE</td>\n      <td>1,5</td>\n      <td>74</td>\n      <td>M</td>\n      <td>lung</td>\n      <td>3</td>\n      <td>lung</td>\n    </tr>\n    <tr>\n      <th>1</th>\n      <td>9</td>\n      <td>GE</td>\n      <td>3</td>\n      <td>29</td>\n      <td>F</td>\n      <td>breast</td>\n      <td>13</td>\n      <td>breast</td>\n    </tr>\n    <tr>\n      <th>2</th>\n      <td>10</td>\n      <td>GE</td>\n      <td>3</td>\n      <td>69</td>\n      <td>F</td>\n      <td>lung</td>\n      <td>3</td>\n      <td>lung</td>\n    </tr>\n    <tr>\n      <th>3</th>\n      <td>11</td>\n      <td>GE</td>\n      <td>1,5</td>\n      <td>36</td>\n      <td>F</td>\n      <td>breast</td>\n      <td>3</td>\n      <td>breast</td>\n    </tr>\n    <tr>\n      <th>4</th>\n      <td>13</td>\n      <td>GE</td>\n      <td>3</td>\n      <td>56</td>\n      <td>F</td>\n      <td>lung</td>\n      <td>2</td>\n      <td>lung</td>\n    </tr>\n    <tr>\n      <th>...</th>\n      <td>...</td>\n      <td>...</td>\n      <td>...</td>\n      <td>...</td>\n      <td>...</td>\n      <td>...</td>\n      <td>...</td>\n      <td>...</td>\n    </tr>\n    <tr>\n      <th>151</th>\n      <td>321</td>\n      <td>NaN</td>\n      <td>NaN</td>\n      <td>56</td>\n      <td>M</td>\n      <td>calvarial metastases</td>\n      <td>5</td>\n      <td>other</td>\n    </tr>\n    <tr>\n      <th>152</th>\n      <td>323</td>\n      <td>NaN</td>\n      <td>NaN</td>\n      <td>72</td>\n      <td>M</td>\n      <td>lung</td>\n      <td>23</td>\n      <td>lung</td>\n    </tr>\n    <tr>\n      <th>153</th>\n      <td>326</td>\n      <td>NaN</td>\n      <td>NaN</td>\n      <td>50</td>\n      <td>M</td>\n      <td>breast</td>\n      <td>1</td>\n      <td>breast</td>\n    </tr>\n    <tr>\n      <th>154</th>\n      <td>328</td>\n      <td>NaN</td>\n      <td>NaN</td>\n      <td>53</td>\n      <td>M</td>\n      <td>lung</td>\n      <td>16</td>\n      <td>lung</td>\n    </tr>\n    <tr>\n      <th>155</th>\n      <td>338</td>\n      <td>NaN</td>\n      <td>NaN</td>\n      <td>42</td>\n      <td>F</td>\n      <td>lung</td>\n      <td>4</td>\n      <td>lung</td>\n    </tr>\n  </tbody>\n</table>\n<p>156 rows × 8 columns</p>\n</div>"
     },
     "execution_count": 23,
     "metadata": {},
     "output_type": "execute_result"
    }
   ],
   "source": [
    "standford"
   ],
   "metadata": {
    "collapsed": false,
    "ExecuteTime": {
     "start_time": "2023-04-22T19:46:57.365005Z",
     "end_time": "2023-04-22T19:46:57.592255Z"
    }
   }
  },
  {
   "cell_type": "code",
   "execution_count": 38,
   "outputs": [
    {
     "data": {
      "text/plain": "     Patient_ID Scanner Type (GE, Emeryville, AMC) Scanner Strength (T)  Age   \n0             5                                 GE                  1,5   74  \\\n1             9                                 GE                    3   29   \n2            10                                 GE                    3   69   \n3            11                                 GE                  1,5   36   \n4            13                                 GE                    3   56   \n..          ...                                ...                  ...  ...   \n151         321                                NaN                  NaN   56   \n152         323                                NaN                  NaN   72   \n153         326                                NaN                  NaN   50   \n154         328                                NaN                  NaN   53   \n155         338                                NaN                  NaN   42   \n\n    Sex   Primary cancer type  Number_tumors  breast  lung  melanoma  other  \n0     M                  lung              3       0     1         0      0  \n1     F                breast             13       1     0         0      0  \n2     F                  lung              3       0     1         0      0  \n3     F                breast              3       1     0         0      0  \n4     F                  lung              2       0     1         0      0  \n..   ..                   ...            ...     ...   ...       ...    ...  \n151   M  calvarial metastases              5       0     0         0      1  \n152   M                  lung             23       0     1         0      0  \n153   M                breast              1       1     0         0      0  \n154   M                  lung             16       0     1         0      0  \n155   F                  lung              4       0     1         0      0  \n\n[156 rows x 11 columns]",
      "text/html": "<div>\n<style scoped>\n    .dataframe tbody tr th:only-of-type {\n        vertical-align: middle;\n    }\n\n    .dataframe tbody tr th {\n        vertical-align: top;\n    }\n\n    .dataframe thead th {\n        text-align: right;\n    }\n</style>\n<table border=\"1\" class=\"dataframe\">\n  <thead>\n    <tr style=\"text-align: right;\">\n      <th></th>\n      <th>Patient_ID</th>\n      <th>Scanner Type (GE, Emeryville, AMC)</th>\n      <th>Scanner Strength (T)</th>\n      <th>Age</th>\n      <th>Sex</th>\n      <th>Primary cancer type</th>\n      <th>Number_tumors</th>\n      <th>breast</th>\n      <th>lung</th>\n      <th>melanoma</th>\n      <th>other</th>\n    </tr>\n  </thead>\n  <tbody>\n    <tr>\n      <th>0</th>\n      <td>5</td>\n      <td>GE</td>\n      <td>1,5</td>\n      <td>74</td>\n      <td>M</td>\n      <td>lung</td>\n      <td>3</td>\n      <td>0</td>\n      <td>1</td>\n      <td>0</td>\n      <td>0</td>\n    </tr>\n    <tr>\n      <th>1</th>\n      <td>9</td>\n      <td>GE</td>\n      <td>3</td>\n      <td>29</td>\n      <td>F</td>\n      <td>breast</td>\n      <td>13</td>\n      <td>1</td>\n      <td>0</td>\n      <td>0</td>\n      <td>0</td>\n    </tr>\n    <tr>\n      <th>2</th>\n      <td>10</td>\n      <td>GE</td>\n      <td>3</td>\n      <td>69</td>\n      <td>F</td>\n      <td>lung</td>\n      <td>3</td>\n      <td>0</td>\n      <td>1</td>\n      <td>0</td>\n      <td>0</td>\n    </tr>\n    <tr>\n      <th>3</th>\n      <td>11</td>\n      <td>GE</td>\n      <td>1,5</td>\n      <td>36</td>\n      <td>F</td>\n      <td>breast</td>\n      <td>3</td>\n      <td>1</td>\n      <td>0</td>\n      <td>0</td>\n      <td>0</td>\n    </tr>\n    <tr>\n      <th>4</th>\n      <td>13</td>\n      <td>GE</td>\n      <td>3</td>\n      <td>56</td>\n      <td>F</td>\n      <td>lung</td>\n      <td>2</td>\n      <td>0</td>\n      <td>1</td>\n      <td>0</td>\n      <td>0</td>\n    </tr>\n    <tr>\n      <th>...</th>\n      <td>...</td>\n      <td>...</td>\n      <td>...</td>\n      <td>...</td>\n      <td>...</td>\n      <td>...</td>\n      <td>...</td>\n      <td>...</td>\n      <td>...</td>\n      <td>...</td>\n      <td>...</td>\n    </tr>\n    <tr>\n      <th>151</th>\n      <td>321</td>\n      <td>NaN</td>\n      <td>NaN</td>\n      <td>56</td>\n      <td>M</td>\n      <td>calvarial metastases</td>\n      <td>5</td>\n      <td>0</td>\n      <td>0</td>\n      <td>0</td>\n      <td>1</td>\n    </tr>\n    <tr>\n      <th>152</th>\n      <td>323</td>\n      <td>NaN</td>\n      <td>NaN</td>\n      <td>72</td>\n      <td>M</td>\n      <td>lung</td>\n      <td>23</td>\n      <td>0</td>\n      <td>1</td>\n      <td>0</td>\n      <td>0</td>\n    </tr>\n    <tr>\n      <th>153</th>\n      <td>326</td>\n      <td>NaN</td>\n      <td>NaN</td>\n      <td>50</td>\n      <td>M</td>\n      <td>breast</td>\n      <td>1</td>\n      <td>1</td>\n      <td>0</td>\n      <td>0</td>\n      <td>0</td>\n    </tr>\n    <tr>\n      <th>154</th>\n      <td>328</td>\n      <td>NaN</td>\n      <td>NaN</td>\n      <td>53</td>\n      <td>M</td>\n      <td>lung</td>\n      <td>16</td>\n      <td>0</td>\n      <td>1</td>\n      <td>0</td>\n      <td>0</td>\n    </tr>\n    <tr>\n      <th>155</th>\n      <td>338</td>\n      <td>NaN</td>\n      <td>NaN</td>\n      <td>42</td>\n      <td>F</td>\n      <td>lung</td>\n      <td>4</td>\n      <td>0</td>\n      <td>1</td>\n      <td>0</td>\n      <td>0</td>\n    </tr>\n  </tbody>\n</table>\n<p>156 rows × 11 columns</p>\n</div>"
     },
     "execution_count": 38,
     "metadata": {},
     "output_type": "execute_result"
    }
   ],
   "source": [
    "standford_dummy = pd.get_dummies(standford, columns=['labels'])\n",
    "standford_dummy['labels_breast'] = standford_dummy['labels_breast'].astype(int)\n",
    "standford_dummy['labels_lung'] = standford_dummy['labels_lung'].astype(int)\n",
    "standford_dummy['labels_melanoma'] = standford_dummy['labels_melanoma'].astype(int)\n",
    "standford_dummy['labels_other'] = standford_dummy['labels_other'].astype(int)\n",
    "\n",
    "standford_dummy = standford_dummy.rename(columns={'labels_other': 'other', 'labels_melanoma': 'melanoma', 'labels_lung': 'lung', 'labels_breast': 'breast'})\n",
    "standford_dummy"
   ],
   "metadata": {
    "collapsed": false,
    "ExecuteTime": {
     "start_time": "2023-04-22T20:04:24.601757Z",
     "end_time": "2023-04-22T20:04:24.640948Z"
    }
   }
  },
  {
   "cell_type": "code",
   "execution_count": 65,
   "outputs": [
    {
     "data": {
      "text/plain": "     Patient_ID Scanner Type (GE, Emeryville, AMC) Scanner Strength (T)  Age   \n0             5                                 GE                  1,5   74  \\\n1             9                                 GE                    3   29   \n2            10                                 GE                    3   69   \n3            11                                 GE                  1,5   36   \n4            13                                 GE                    3   56   \n..          ...                                ...                  ...  ...   \n151         321                                NaN                  NaN   56   \n152         323                                NaN                  NaN   72   \n153         326                                NaN                  NaN   50   \n154         328                                NaN                  NaN   53   \n155         338                                NaN                  NaN   42   \n\n    Sex   Primary cancer type  Number_tumors  breast  lung  melanoma  other  \n0     M                  lung              3       0     1         0      0  \n1     F                breast             13       1     0         0      0  \n2     F                  lung              3       0     1         0      0  \n3     F                breast              3       1     0         0      0  \n4     F                  lung              2       0     1         0      0  \n..   ..                   ...            ...     ...   ...       ...    ...  \n151   M  calvarial metastases              5       0     0         0      1  \n152   M                  lung             23       0     1         0      0  \n153   M                breast              1       1     0         0      0  \n154   M                  lung             16       0     1         0      0  \n155   F                  lung              4       0     1         0      0  \n\n[156 rows x 11 columns]",
      "text/html": "<div>\n<style scoped>\n    .dataframe tbody tr th:only-of-type {\n        vertical-align: middle;\n    }\n\n    .dataframe tbody tr th {\n        vertical-align: top;\n    }\n\n    .dataframe thead th {\n        text-align: right;\n    }\n</style>\n<table border=\"1\" class=\"dataframe\">\n  <thead>\n    <tr style=\"text-align: right;\">\n      <th></th>\n      <th>Patient_ID</th>\n      <th>Scanner Type (GE, Emeryville, AMC)</th>\n      <th>Scanner Strength (T)</th>\n      <th>Age</th>\n      <th>Sex</th>\n      <th>Primary cancer type</th>\n      <th>Number_tumors</th>\n      <th>breast</th>\n      <th>lung</th>\n      <th>melanoma</th>\n      <th>other</th>\n    </tr>\n  </thead>\n  <tbody>\n    <tr>\n      <th>0</th>\n      <td>5</td>\n      <td>GE</td>\n      <td>1,5</td>\n      <td>74</td>\n      <td>M</td>\n      <td>lung</td>\n      <td>3</td>\n      <td>0</td>\n      <td>1</td>\n      <td>0</td>\n      <td>0</td>\n    </tr>\n    <tr>\n      <th>1</th>\n      <td>9</td>\n      <td>GE</td>\n      <td>3</td>\n      <td>29</td>\n      <td>F</td>\n      <td>breast</td>\n      <td>13</td>\n      <td>1</td>\n      <td>0</td>\n      <td>0</td>\n      <td>0</td>\n    </tr>\n    <tr>\n      <th>2</th>\n      <td>10</td>\n      <td>GE</td>\n      <td>3</td>\n      <td>69</td>\n      <td>F</td>\n      <td>lung</td>\n      <td>3</td>\n      <td>0</td>\n      <td>1</td>\n      <td>0</td>\n      <td>0</td>\n    </tr>\n    <tr>\n      <th>3</th>\n      <td>11</td>\n      <td>GE</td>\n      <td>1,5</td>\n      <td>36</td>\n      <td>F</td>\n      <td>breast</td>\n      <td>3</td>\n      <td>1</td>\n      <td>0</td>\n      <td>0</td>\n      <td>0</td>\n    </tr>\n    <tr>\n      <th>4</th>\n      <td>13</td>\n      <td>GE</td>\n      <td>3</td>\n      <td>56</td>\n      <td>F</td>\n      <td>lung</td>\n      <td>2</td>\n      <td>0</td>\n      <td>1</td>\n      <td>0</td>\n      <td>0</td>\n    </tr>\n    <tr>\n      <th>...</th>\n      <td>...</td>\n      <td>...</td>\n      <td>...</td>\n      <td>...</td>\n      <td>...</td>\n      <td>...</td>\n      <td>...</td>\n      <td>...</td>\n      <td>...</td>\n      <td>...</td>\n      <td>...</td>\n    </tr>\n    <tr>\n      <th>151</th>\n      <td>321</td>\n      <td>NaN</td>\n      <td>NaN</td>\n      <td>56</td>\n      <td>M</td>\n      <td>calvarial metastases</td>\n      <td>5</td>\n      <td>0</td>\n      <td>0</td>\n      <td>0</td>\n      <td>1</td>\n    </tr>\n    <tr>\n      <th>152</th>\n      <td>323</td>\n      <td>NaN</td>\n      <td>NaN</td>\n      <td>72</td>\n      <td>M</td>\n      <td>lung</td>\n      <td>23</td>\n      <td>0</td>\n      <td>1</td>\n      <td>0</td>\n      <td>0</td>\n    </tr>\n    <tr>\n      <th>153</th>\n      <td>326</td>\n      <td>NaN</td>\n      <td>NaN</td>\n      <td>50</td>\n      <td>M</td>\n      <td>breast</td>\n      <td>1</td>\n      <td>1</td>\n      <td>0</td>\n      <td>0</td>\n      <td>0</td>\n    </tr>\n    <tr>\n      <th>154</th>\n      <td>328</td>\n      <td>NaN</td>\n      <td>NaN</td>\n      <td>53</td>\n      <td>M</td>\n      <td>lung</td>\n      <td>16</td>\n      <td>0</td>\n      <td>1</td>\n      <td>0</td>\n      <td>0</td>\n    </tr>\n    <tr>\n      <th>155</th>\n      <td>338</td>\n      <td>NaN</td>\n      <td>NaN</td>\n      <td>42</td>\n      <td>F</td>\n      <td>lung</td>\n      <td>4</td>\n      <td>0</td>\n      <td>1</td>\n      <td>0</td>\n      <td>0</td>\n    </tr>\n  </tbody>\n</table>\n<p>156 rows × 11 columns</p>\n</div>"
     },
     "execution_count": 65,
     "metadata": {},
     "output_type": "execute_result"
    }
   ],
   "source": [
    "standford_dummy"
   ],
   "metadata": {
    "collapsed": false,
    "ExecuteTime": {
     "start_time": "2023-04-23T15:35:29.205498Z",
     "end_time": "2023-04-23T15:35:29.216474Z"
    }
   }
  },
  {
   "cell_type": "markdown",
   "source": [
    "## clean the oslo dataset"
   ],
   "metadata": {
    "collapsed": false
   }
  },
  {
   "cell_type": "code",
   "execution_count": 40,
   "outputs": [
    {
     "data": {
      "text/plain": "SubjectNumber     object\nStudyID           object\nGender            object\nAge              float64\nPrimaryCancer     object\n# mets            object\nROI status        object\nPre treatment     object\nNumber of BMs    float64\nNumber_tumors    float64\ndtype: object"
     },
     "execution_count": 40,
     "metadata": {},
     "output_type": "execute_result"
    }
   ],
   "source": [
    "oslo.dtypes"
   ],
   "metadata": {
    "collapsed": false,
    "ExecuteTime": {
     "start_time": "2023-04-22T20:07:08.287292Z",
     "end_time": "2023-04-22T20:07:08.327561Z"
    }
   }
  },
  {
   "cell_type": "code",
   "execution_count": 41,
   "outputs": [
    {
     "data": {
      "text/plain": "   SubjectNumber StudyID  Gender   Age PrimaryCancer # mets ROI status   \n0      Subject01     NaN    Male  58.0       mal.mel      2        NaN  \\\n1      Subject02     NaN  Female  50.0       ca.pulm      7        NaN   \n2      Subject03     NaN    Male  64.0       mal.mel      4        NaN   \n3      Subject04     NaN    Male  56.0       mal.mel      1        NaN   \n4      Subject05     NaN  Female  54.0       mal.mel      1          ?   \n..           ...     ...     ...   ...           ...    ...        ...   \n61     Subject62     NaN    Male  77.0       ca.pulm      ?        NaN   \n62     Subject63     NaN    Male  32.0       mal.mel      ?        NaN   \n63     Subject64     NaN  Female  63.0       ca.pulm      ?        NaN   \n64     Subject65     NaN  Female  65.0       ca.pulm      ?        NaN   \n65     Subject66     NaN  Female  78.0       mal.mel      ?        NaN   \n\n   Pre treatment  Number of BMs  Number_tumors  \n0        WB, SRS            2.0            2.0  \n1             WB            6.0            6.0  \n2         WB,SRS            4.0            4.0  \n3             No            1.0            1.0  \n4         SRS,PO            2.0            2.0  \n..           ...            ...            ...  \n61           NaN            1.0            1.0  \n62           NaN            4.0            4.0  \n63           NaN            2.0            2.0  \n64           NaN            4.0            4.0  \n65           NaN            1.0            1.0  \n\n[66 rows x 10 columns]",
      "text/html": "<div>\n<style scoped>\n    .dataframe tbody tr th:only-of-type {\n        vertical-align: middle;\n    }\n\n    .dataframe tbody tr th {\n        vertical-align: top;\n    }\n\n    .dataframe thead th {\n        text-align: right;\n    }\n</style>\n<table border=\"1\" class=\"dataframe\">\n  <thead>\n    <tr style=\"text-align: right;\">\n      <th></th>\n      <th>SubjectNumber</th>\n      <th>StudyID</th>\n      <th>Gender</th>\n      <th>Age</th>\n      <th>PrimaryCancer</th>\n      <th># mets</th>\n      <th>ROI status</th>\n      <th>Pre treatment</th>\n      <th>Number of BMs</th>\n      <th>Number_tumors</th>\n    </tr>\n  </thead>\n  <tbody>\n    <tr>\n      <th>0</th>\n      <td>Subject01</td>\n      <td>NaN</td>\n      <td>Male</td>\n      <td>58.0</td>\n      <td>mal.mel</td>\n      <td>2</td>\n      <td>NaN</td>\n      <td>WB, SRS</td>\n      <td>2.0</td>\n      <td>2.0</td>\n    </tr>\n    <tr>\n      <th>1</th>\n      <td>Subject02</td>\n      <td>NaN</td>\n      <td>Female</td>\n      <td>50.0</td>\n      <td>ca.pulm</td>\n      <td>7</td>\n      <td>NaN</td>\n      <td>WB</td>\n      <td>6.0</td>\n      <td>6.0</td>\n    </tr>\n    <tr>\n      <th>2</th>\n      <td>Subject03</td>\n      <td>NaN</td>\n      <td>Male</td>\n      <td>64.0</td>\n      <td>mal.mel</td>\n      <td>4</td>\n      <td>NaN</td>\n      <td>WB,SRS</td>\n      <td>4.0</td>\n      <td>4.0</td>\n    </tr>\n    <tr>\n      <th>3</th>\n      <td>Subject04</td>\n      <td>NaN</td>\n      <td>Male</td>\n      <td>56.0</td>\n      <td>mal.mel</td>\n      <td>1</td>\n      <td>NaN</td>\n      <td>No</td>\n      <td>1.0</td>\n      <td>1.0</td>\n    </tr>\n    <tr>\n      <th>4</th>\n      <td>Subject05</td>\n      <td>NaN</td>\n      <td>Female</td>\n      <td>54.0</td>\n      <td>mal.mel</td>\n      <td>1</td>\n      <td>?</td>\n      <td>SRS,PO</td>\n      <td>2.0</td>\n      <td>2.0</td>\n    </tr>\n    <tr>\n      <th>...</th>\n      <td>...</td>\n      <td>...</td>\n      <td>...</td>\n      <td>...</td>\n      <td>...</td>\n      <td>...</td>\n      <td>...</td>\n      <td>...</td>\n      <td>...</td>\n      <td>...</td>\n    </tr>\n    <tr>\n      <th>61</th>\n      <td>Subject62</td>\n      <td>NaN</td>\n      <td>Male</td>\n      <td>77.0</td>\n      <td>ca.pulm</td>\n      <td>?</td>\n      <td>NaN</td>\n      <td>NaN</td>\n      <td>1.0</td>\n      <td>1.0</td>\n    </tr>\n    <tr>\n      <th>62</th>\n      <td>Subject63</td>\n      <td>NaN</td>\n      <td>Male</td>\n      <td>32.0</td>\n      <td>mal.mel</td>\n      <td>?</td>\n      <td>NaN</td>\n      <td>NaN</td>\n      <td>4.0</td>\n      <td>4.0</td>\n    </tr>\n    <tr>\n      <th>63</th>\n      <td>Subject64</td>\n      <td>NaN</td>\n      <td>Female</td>\n      <td>63.0</td>\n      <td>ca.pulm</td>\n      <td>?</td>\n      <td>NaN</td>\n      <td>NaN</td>\n      <td>2.0</td>\n      <td>2.0</td>\n    </tr>\n    <tr>\n      <th>64</th>\n      <td>Subject65</td>\n      <td>NaN</td>\n      <td>Female</td>\n      <td>65.0</td>\n      <td>ca.pulm</td>\n      <td>?</td>\n      <td>NaN</td>\n      <td>NaN</td>\n      <td>4.0</td>\n      <td>4.0</td>\n    </tr>\n    <tr>\n      <th>65</th>\n      <td>Subject66</td>\n      <td>NaN</td>\n      <td>Female</td>\n      <td>78.0</td>\n      <td>mal.mel</td>\n      <td>?</td>\n      <td>NaN</td>\n      <td>NaN</td>\n      <td>1.0</td>\n      <td>1.0</td>\n    </tr>\n  </tbody>\n</table>\n<p>66 rows × 10 columns</p>\n</div>"
     },
     "execution_count": 41,
     "metadata": {},
     "output_type": "execute_result"
    }
   ],
   "source": [
    "oslo"
   ],
   "metadata": {
    "collapsed": false,
    "ExecuteTime": {
     "start_time": "2023-04-22T20:07:20.050728Z",
     "end_time": "2023-04-22T20:07:20.054150Z"
    }
   }
  },
  {
   "cell_type": "code",
   "execution_count": 46,
   "outputs": [
    {
     "data": {
      "text/plain": "0     True\n1     True\n2     True\n3     True\n4     True\n      ... \n61    True\n62    True\n63    True\n64    True\n65    True\nLength: 66, dtype: bool"
     },
     "execution_count": 46,
     "metadata": {},
     "output_type": "execute_result"
    }
   ],
   "source": [
    "oslo['Number of BMs'] == oslo['Number_tumors']\n",
    "#here we can observe that for patients/subjects 57 and 58, Number_tumors column contains NaN therefore we will be using the Number of BMs column"
   ],
   "metadata": {
    "collapsed": false,
    "ExecuteTime": {
     "start_time": "2023-04-23T15:09:32.236478Z",
     "end_time": "2023-04-23T15:09:32.276178Z"
    }
   }
  },
  {
   "cell_type": "code",
   "execution_count": 47,
   "outputs": [],
   "source": [
    "oslo = oslo.drop('Number_tumors', axis=1)"
   ],
   "metadata": {
    "collapsed": false,
    "ExecuteTime": {
     "start_time": "2023-04-23T15:10:55.889874Z",
     "end_time": "2023-04-23T15:10:55.939862Z"
    }
   }
  },
  {
   "cell_type": "code",
   "execution_count": 50,
   "outputs": [
    {
     "data": {
      "text/plain": "   SubjectNumber StudyID  Gender   Age PrimaryCancer # mets ROI status   \n1      Subject02     NaN  Female  50.0       ca.pulm      7        NaN  \\\n5      Subject06     NaN  Female  73.0       ca.pulm      1        NaN   \n8      Subject09     NaN    Male  61.0       ca.pulm      2        NaN   \n9      Subject10     NaN    Male  59.0       ca.pulm      1        NaN   \n10     Subject11     NaN    Male  61.0       ca.pulm      1        NaN   \n12     Subject13     NaN  Female  57.0       ca.pulm      1        NaN   \n15     Subject16     NaN  Female  83.0       ca.pulm     2?        NaN   \n17     Subject18     NaN    Male  54.0       ca.pulm      3        NaN   \n18     Subject19     NaN  Female  74.0       ca.pulm      1        NaN   \n19     Subject20     NaN  Female  66.0       ca.pulm     2?        NaN   \n20     Subject21     NaN  Female  80.0       ca.pulm      1        NaN   \n21     Subject22     NaN    Male  73.0       ca.pulm      1        NaN   \n22     Subject23     NaN  Female  62.0       ca.pulm      1        NaN   \n23     Subject24     NaN  Female  67.0       ca.pulm      2        NaN   \n24     Subject25     NaN    Male  64.0       ca.pulm     10        NaN   \n25     Subject26     NaN  Female  71.0       ca.pulm      2        NaN   \n28     Subject29     NaN  Female  69.0       ca.pulm      2        NaN   \n30     Subject31     NaN  Female  61.0       ca.pulm     2?        NaN   \n31     Subject32     NaN  Female  71.0       ca.pulm      ?        NaN   \n32     Subject33     NaN  Female  55.0       ca.pulm      ?        NaN   \n33     Subject34     NaN  Female  64.0       ca.pulm      ?        NaN   \n34     Subject35     NaN  Female  64.0       ca.pulm      ?        NaN   \n35     Subject36     NaN  Female  78.0       ca.pulm     1?        NaN   \n36     Subject37     NaN    Male  65.0       ca.pulm      ?        NaN   \n37     Subject38     NaN    Male  69.0       ca.pulm      ?        NaN   \n38     Subject39     NaN  Female  71.0       ca.pulm     1?        NaN   \n40     Subject41     NaN    Male  74.0       ca.pulm     3?        NaN   \n41     Subject42     NaN    Male  70.0       ca.pulm      ?        NaN   \n42     Subject43     NaN    Male  64.0       ca.pulm     3?        NaN   \n43     Subject44     NaN    Male  82.0       ca.pulm     1?        NaN   \n44     Subject45     NaN  Female  44.0       ca.pulm     3?        NaN   \n45     Subject46     NaN  Female  74.0       ca.pulm     3?        NaN   \n46     Subject47     NaN    Male  79.0       ca.pulm     1?        NaN   \n47     Subject48     NaN  Female  63.0       ca.pulm     3?        NaN   \n50     Subject51     NaN  Female  64.0       ca.pulm     2?        NaN   \n51     Subject52     NaN    Male  66.0       ca.pulm     4?        NaN   \n54     Subject55     NaN    Male  66.0       ca.pulm     3?        NaN   \n55     Subject56     NaN    Male  65.0       ca.pulm      ?        NaN   \n56     Subject57     NaN  Female  52.0       ca.pulm      ?        NaN   \n57     Subject58     NaN    Male  74.0       ca.pulm      ?        NaN   \n58     Subject59     NaN    Male  66.0       ca.pulm      ?        NaN   \n59     Subject60     NaN    Male  70.0       ca.pulm      ?        NaN   \n61     Subject62     NaN    Male  77.0       ca.pulm      ?        NaN   \n63     Subject64     NaN  Female  63.0       ca.pulm      ?        NaN   \n64     Subject65     NaN  Female  65.0       ca.pulm      ?        NaN   \n\n   Pre treatment  Number of BMs  \n1             WB            6.0  \n5             No            1.0  \n8             No            2.0  \n9             No            1.0  \n10            No            1.0  \n12            No            1.0  \n15            No            2.0  \n17            No            3.0  \n18            No            1.0  \n19            No            2.0  \n20            No            1.0  \n21            PO            1.0  \n22         WB,PO            1.0  \n23           SRS            2.0  \n24            No           12.0  \n25           SRS            2.0  \n28            No            2.0  \n30            No            3.0  \n31            No            3.0  \n32            No            3.0  \n33            No            3.0  \n34            No            3.0  \n35            No            1.0  \n36           SRS            2.0  \n37            No            3.0  \n38            No            1.0  \n40            No            3.0  \n41            No            3.0  \n42            No            5.0  \n43            No            1.0  \n44            No            5.0  \n45            No            3.0  \n46            No            1.0  \n47            WB            3.0  \n50           SRS            2.0  \n51            No            4.0  \n54            No            3.0  \n55           NaN            1.0  \n56           NaN            1.0  \n57           NaN            1.0  \n58           NaN            1.0  \n59           NaN            1.0  \n61           NaN            1.0  \n63           NaN            2.0  \n64           NaN            4.0  ",
      "text/html": "<div>\n<style scoped>\n    .dataframe tbody tr th:only-of-type {\n        vertical-align: middle;\n    }\n\n    .dataframe tbody tr th {\n        vertical-align: top;\n    }\n\n    .dataframe thead th {\n        text-align: right;\n    }\n</style>\n<table border=\"1\" class=\"dataframe\">\n  <thead>\n    <tr style=\"text-align: right;\">\n      <th></th>\n      <th>SubjectNumber</th>\n      <th>StudyID</th>\n      <th>Gender</th>\n      <th>Age</th>\n      <th>PrimaryCancer</th>\n      <th># mets</th>\n      <th>ROI status</th>\n      <th>Pre treatment</th>\n      <th>Number of BMs</th>\n    </tr>\n  </thead>\n  <tbody>\n    <tr>\n      <th>1</th>\n      <td>Subject02</td>\n      <td>NaN</td>\n      <td>Female</td>\n      <td>50.0</td>\n      <td>ca.pulm</td>\n      <td>7</td>\n      <td>NaN</td>\n      <td>WB</td>\n      <td>6.0</td>\n    </tr>\n    <tr>\n      <th>5</th>\n      <td>Subject06</td>\n      <td>NaN</td>\n      <td>Female</td>\n      <td>73.0</td>\n      <td>ca.pulm</td>\n      <td>1</td>\n      <td>NaN</td>\n      <td>No</td>\n      <td>1.0</td>\n    </tr>\n    <tr>\n      <th>8</th>\n      <td>Subject09</td>\n      <td>NaN</td>\n      <td>Male</td>\n      <td>61.0</td>\n      <td>ca.pulm</td>\n      <td>2</td>\n      <td>NaN</td>\n      <td>No</td>\n      <td>2.0</td>\n    </tr>\n    <tr>\n      <th>9</th>\n      <td>Subject10</td>\n      <td>NaN</td>\n      <td>Male</td>\n      <td>59.0</td>\n      <td>ca.pulm</td>\n      <td>1</td>\n      <td>NaN</td>\n      <td>No</td>\n      <td>1.0</td>\n    </tr>\n    <tr>\n      <th>10</th>\n      <td>Subject11</td>\n      <td>NaN</td>\n      <td>Male</td>\n      <td>61.0</td>\n      <td>ca.pulm</td>\n      <td>1</td>\n      <td>NaN</td>\n      <td>No</td>\n      <td>1.0</td>\n    </tr>\n    <tr>\n      <th>12</th>\n      <td>Subject13</td>\n      <td>NaN</td>\n      <td>Female</td>\n      <td>57.0</td>\n      <td>ca.pulm</td>\n      <td>1</td>\n      <td>NaN</td>\n      <td>No</td>\n      <td>1.0</td>\n    </tr>\n    <tr>\n      <th>15</th>\n      <td>Subject16</td>\n      <td>NaN</td>\n      <td>Female</td>\n      <td>83.0</td>\n      <td>ca.pulm</td>\n      <td>2?</td>\n      <td>NaN</td>\n      <td>No</td>\n      <td>2.0</td>\n    </tr>\n    <tr>\n      <th>17</th>\n      <td>Subject18</td>\n      <td>NaN</td>\n      <td>Male</td>\n      <td>54.0</td>\n      <td>ca.pulm</td>\n      <td>3</td>\n      <td>NaN</td>\n      <td>No</td>\n      <td>3.0</td>\n    </tr>\n    <tr>\n      <th>18</th>\n      <td>Subject19</td>\n      <td>NaN</td>\n      <td>Female</td>\n      <td>74.0</td>\n      <td>ca.pulm</td>\n      <td>1</td>\n      <td>NaN</td>\n      <td>No</td>\n      <td>1.0</td>\n    </tr>\n    <tr>\n      <th>19</th>\n      <td>Subject20</td>\n      <td>NaN</td>\n      <td>Female</td>\n      <td>66.0</td>\n      <td>ca.pulm</td>\n      <td>2?</td>\n      <td>NaN</td>\n      <td>No</td>\n      <td>2.0</td>\n    </tr>\n    <tr>\n      <th>20</th>\n      <td>Subject21</td>\n      <td>NaN</td>\n      <td>Female</td>\n      <td>80.0</td>\n      <td>ca.pulm</td>\n      <td>1</td>\n      <td>NaN</td>\n      <td>No</td>\n      <td>1.0</td>\n    </tr>\n    <tr>\n      <th>21</th>\n      <td>Subject22</td>\n      <td>NaN</td>\n      <td>Male</td>\n      <td>73.0</td>\n      <td>ca.pulm</td>\n      <td>1</td>\n      <td>NaN</td>\n      <td>PO</td>\n      <td>1.0</td>\n    </tr>\n    <tr>\n      <th>22</th>\n      <td>Subject23</td>\n      <td>NaN</td>\n      <td>Female</td>\n      <td>62.0</td>\n      <td>ca.pulm</td>\n      <td>1</td>\n      <td>NaN</td>\n      <td>WB,PO</td>\n      <td>1.0</td>\n    </tr>\n    <tr>\n      <th>23</th>\n      <td>Subject24</td>\n      <td>NaN</td>\n      <td>Female</td>\n      <td>67.0</td>\n      <td>ca.pulm</td>\n      <td>2</td>\n      <td>NaN</td>\n      <td>SRS</td>\n      <td>2.0</td>\n    </tr>\n    <tr>\n      <th>24</th>\n      <td>Subject25</td>\n      <td>NaN</td>\n      <td>Male</td>\n      <td>64.0</td>\n      <td>ca.pulm</td>\n      <td>10</td>\n      <td>NaN</td>\n      <td>No</td>\n      <td>12.0</td>\n    </tr>\n    <tr>\n      <th>25</th>\n      <td>Subject26</td>\n      <td>NaN</td>\n      <td>Female</td>\n      <td>71.0</td>\n      <td>ca.pulm</td>\n      <td>2</td>\n      <td>NaN</td>\n      <td>SRS</td>\n      <td>2.0</td>\n    </tr>\n    <tr>\n      <th>28</th>\n      <td>Subject29</td>\n      <td>NaN</td>\n      <td>Female</td>\n      <td>69.0</td>\n      <td>ca.pulm</td>\n      <td>2</td>\n      <td>NaN</td>\n      <td>No</td>\n      <td>2.0</td>\n    </tr>\n    <tr>\n      <th>30</th>\n      <td>Subject31</td>\n      <td>NaN</td>\n      <td>Female</td>\n      <td>61.0</td>\n      <td>ca.pulm</td>\n      <td>2?</td>\n      <td>NaN</td>\n      <td>No</td>\n      <td>3.0</td>\n    </tr>\n    <tr>\n      <th>31</th>\n      <td>Subject32</td>\n      <td>NaN</td>\n      <td>Female</td>\n      <td>71.0</td>\n      <td>ca.pulm</td>\n      <td>?</td>\n      <td>NaN</td>\n      <td>No</td>\n      <td>3.0</td>\n    </tr>\n    <tr>\n      <th>32</th>\n      <td>Subject33</td>\n      <td>NaN</td>\n      <td>Female</td>\n      <td>55.0</td>\n      <td>ca.pulm</td>\n      <td>?</td>\n      <td>NaN</td>\n      <td>No</td>\n      <td>3.0</td>\n    </tr>\n    <tr>\n      <th>33</th>\n      <td>Subject34</td>\n      <td>NaN</td>\n      <td>Female</td>\n      <td>64.0</td>\n      <td>ca.pulm</td>\n      <td>?</td>\n      <td>NaN</td>\n      <td>No</td>\n      <td>3.0</td>\n    </tr>\n    <tr>\n      <th>34</th>\n      <td>Subject35</td>\n      <td>NaN</td>\n      <td>Female</td>\n      <td>64.0</td>\n      <td>ca.pulm</td>\n      <td>?</td>\n      <td>NaN</td>\n      <td>No</td>\n      <td>3.0</td>\n    </tr>\n    <tr>\n      <th>35</th>\n      <td>Subject36</td>\n      <td>NaN</td>\n      <td>Female</td>\n      <td>78.0</td>\n      <td>ca.pulm</td>\n      <td>1?</td>\n      <td>NaN</td>\n      <td>No</td>\n      <td>1.0</td>\n    </tr>\n    <tr>\n      <th>36</th>\n      <td>Subject37</td>\n      <td>NaN</td>\n      <td>Male</td>\n      <td>65.0</td>\n      <td>ca.pulm</td>\n      <td>?</td>\n      <td>NaN</td>\n      <td>SRS</td>\n      <td>2.0</td>\n    </tr>\n    <tr>\n      <th>37</th>\n      <td>Subject38</td>\n      <td>NaN</td>\n      <td>Male</td>\n      <td>69.0</td>\n      <td>ca.pulm</td>\n      <td>?</td>\n      <td>NaN</td>\n      <td>No</td>\n      <td>3.0</td>\n    </tr>\n    <tr>\n      <th>38</th>\n      <td>Subject39</td>\n      <td>NaN</td>\n      <td>Female</td>\n      <td>71.0</td>\n      <td>ca.pulm</td>\n      <td>1?</td>\n      <td>NaN</td>\n      <td>No</td>\n      <td>1.0</td>\n    </tr>\n    <tr>\n      <th>40</th>\n      <td>Subject41</td>\n      <td>NaN</td>\n      <td>Male</td>\n      <td>74.0</td>\n      <td>ca.pulm</td>\n      <td>3?</td>\n      <td>NaN</td>\n      <td>No</td>\n      <td>3.0</td>\n    </tr>\n    <tr>\n      <th>41</th>\n      <td>Subject42</td>\n      <td>NaN</td>\n      <td>Male</td>\n      <td>70.0</td>\n      <td>ca.pulm</td>\n      <td>?</td>\n      <td>NaN</td>\n      <td>No</td>\n      <td>3.0</td>\n    </tr>\n    <tr>\n      <th>42</th>\n      <td>Subject43</td>\n      <td>NaN</td>\n      <td>Male</td>\n      <td>64.0</td>\n      <td>ca.pulm</td>\n      <td>3?</td>\n      <td>NaN</td>\n      <td>No</td>\n      <td>5.0</td>\n    </tr>\n    <tr>\n      <th>43</th>\n      <td>Subject44</td>\n      <td>NaN</td>\n      <td>Male</td>\n      <td>82.0</td>\n      <td>ca.pulm</td>\n      <td>1?</td>\n      <td>NaN</td>\n      <td>No</td>\n      <td>1.0</td>\n    </tr>\n    <tr>\n      <th>44</th>\n      <td>Subject45</td>\n      <td>NaN</td>\n      <td>Female</td>\n      <td>44.0</td>\n      <td>ca.pulm</td>\n      <td>3?</td>\n      <td>NaN</td>\n      <td>No</td>\n      <td>5.0</td>\n    </tr>\n    <tr>\n      <th>45</th>\n      <td>Subject46</td>\n      <td>NaN</td>\n      <td>Female</td>\n      <td>74.0</td>\n      <td>ca.pulm</td>\n      <td>3?</td>\n      <td>NaN</td>\n      <td>No</td>\n      <td>3.0</td>\n    </tr>\n    <tr>\n      <th>46</th>\n      <td>Subject47</td>\n      <td>NaN</td>\n      <td>Male</td>\n      <td>79.0</td>\n      <td>ca.pulm</td>\n      <td>1?</td>\n      <td>NaN</td>\n      <td>No</td>\n      <td>1.0</td>\n    </tr>\n    <tr>\n      <th>47</th>\n      <td>Subject48</td>\n      <td>NaN</td>\n      <td>Female</td>\n      <td>63.0</td>\n      <td>ca.pulm</td>\n      <td>3?</td>\n      <td>NaN</td>\n      <td>WB</td>\n      <td>3.0</td>\n    </tr>\n    <tr>\n      <th>50</th>\n      <td>Subject51</td>\n      <td>NaN</td>\n      <td>Female</td>\n      <td>64.0</td>\n      <td>ca.pulm</td>\n      <td>2?</td>\n      <td>NaN</td>\n      <td>SRS</td>\n      <td>2.0</td>\n    </tr>\n    <tr>\n      <th>51</th>\n      <td>Subject52</td>\n      <td>NaN</td>\n      <td>Male</td>\n      <td>66.0</td>\n      <td>ca.pulm</td>\n      <td>4?</td>\n      <td>NaN</td>\n      <td>No</td>\n      <td>4.0</td>\n    </tr>\n    <tr>\n      <th>54</th>\n      <td>Subject55</td>\n      <td>NaN</td>\n      <td>Male</td>\n      <td>66.0</td>\n      <td>ca.pulm</td>\n      <td>3?</td>\n      <td>NaN</td>\n      <td>No</td>\n      <td>3.0</td>\n    </tr>\n    <tr>\n      <th>55</th>\n      <td>Subject56</td>\n      <td>NaN</td>\n      <td>Male</td>\n      <td>65.0</td>\n      <td>ca.pulm</td>\n      <td>?</td>\n      <td>NaN</td>\n      <td>NaN</td>\n      <td>1.0</td>\n    </tr>\n    <tr>\n      <th>56</th>\n      <td>Subject57</td>\n      <td>NaN</td>\n      <td>Female</td>\n      <td>52.0</td>\n      <td>ca.pulm</td>\n      <td>?</td>\n      <td>NaN</td>\n      <td>NaN</td>\n      <td>1.0</td>\n    </tr>\n    <tr>\n      <th>57</th>\n      <td>Subject58</td>\n      <td>NaN</td>\n      <td>Male</td>\n      <td>74.0</td>\n      <td>ca.pulm</td>\n      <td>?</td>\n      <td>NaN</td>\n      <td>NaN</td>\n      <td>1.0</td>\n    </tr>\n    <tr>\n      <th>58</th>\n      <td>Subject59</td>\n      <td>NaN</td>\n      <td>Male</td>\n      <td>66.0</td>\n      <td>ca.pulm</td>\n      <td>?</td>\n      <td>NaN</td>\n      <td>NaN</td>\n      <td>1.0</td>\n    </tr>\n    <tr>\n      <th>59</th>\n      <td>Subject60</td>\n      <td>NaN</td>\n      <td>Male</td>\n      <td>70.0</td>\n      <td>ca.pulm</td>\n      <td>?</td>\n      <td>NaN</td>\n      <td>NaN</td>\n      <td>1.0</td>\n    </tr>\n    <tr>\n      <th>61</th>\n      <td>Subject62</td>\n      <td>NaN</td>\n      <td>Male</td>\n      <td>77.0</td>\n      <td>ca.pulm</td>\n      <td>?</td>\n      <td>NaN</td>\n      <td>NaN</td>\n      <td>1.0</td>\n    </tr>\n    <tr>\n      <th>63</th>\n      <td>Subject64</td>\n      <td>NaN</td>\n      <td>Female</td>\n      <td>63.0</td>\n      <td>ca.pulm</td>\n      <td>?</td>\n      <td>NaN</td>\n      <td>NaN</td>\n      <td>2.0</td>\n    </tr>\n    <tr>\n      <th>64</th>\n      <td>Subject65</td>\n      <td>NaN</td>\n      <td>Female</td>\n      <td>65.0</td>\n      <td>ca.pulm</td>\n      <td>?</td>\n      <td>NaN</td>\n      <td>NaN</td>\n      <td>4.0</td>\n    </tr>\n  </tbody>\n</table>\n</div>"
     },
     "execution_count": 50,
     "metadata": {},
     "output_type": "execute_result"
    }
   ],
   "source": [
    "oslo[oslo['PrimaryCancer'] == 'ca.pulm']"
   ],
   "metadata": {
    "collapsed": false,
    "ExecuteTime": {
     "start_time": "2023-04-23T15:14:16.205098Z",
     "end_time": "2023-04-23T15:14:16.245531Z"
    }
   }
  },
  {
   "cell_type": "code",
   "execution_count": 52,
   "outputs": [
    {
     "data": {
      "text/plain": "   SubjectNumber StudyID  Gender   Age PrimaryCancer # mets ROI status   \n0      Subject01     NaN    Male  58.0      melanoma      2        NaN  \\\n1      Subject02     NaN  Female  50.0          lung      7        NaN   \n2      Subject03     NaN    Male  64.0      melanoma      4        NaN   \n3      Subject04     NaN    Male  56.0      melanoma      1        NaN   \n4      Subject05     NaN  Female  54.0      melanoma      1          ?   \n..           ...     ...     ...   ...           ...    ...        ...   \n61     Subject62     NaN    Male  77.0          lung      ?        NaN   \n62     Subject63     NaN    Male  32.0      melanoma      ?        NaN   \n63     Subject64     NaN  Female  63.0          lung      ?        NaN   \n64     Subject65     NaN  Female  65.0          lung      ?        NaN   \n65     Subject66     NaN  Female  78.0      melanoma      ?        NaN   \n\n   Pre treatment  Number of BMs  \n0        WB, SRS            2.0  \n1             WB            6.0  \n2         WB,SRS            4.0  \n3             No            1.0  \n4         SRS,PO            2.0  \n..           ...            ...  \n61           NaN            1.0  \n62           NaN            4.0  \n63           NaN            2.0  \n64           NaN            4.0  \n65           NaN            1.0  \n\n[66 rows x 9 columns]",
      "text/html": "<div>\n<style scoped>\n    .dataframe tbody tr th:only-of-type {\n        vertical-align: middle;\n    }\n\n    .dataframe tbody tr th {\n        vertical-align: top;\n    }\n\n    .dataframe thead th {\n        text-align: right;\n    }\n</style>\n<table border=\"1\" class=\"dataframe\">\n  <thead>\n    <tr style=\"text-align: right;\">\n      <th></th>\n      <th>SubjectNumber</th>\n      <th>StudyID</th>\n      <th>Gender</th>\n      <th>Age</th>\n      <th>PrimaryCancer</th>\n      <th># mets</th>\n      <th>ROI status</th>\n      <th>Pre treatment</th>\n      <th>Number of BMs</th>\n    </tr>\n  </thead>\n  <tbody>\n    <tr>\n      <th>0</th>\n      <td>Subject01</td>\n      <td>NaN</td>\n      <td>Male</td>\n      <td>58.0</td>\n      <td>melanoma</td>\n      <td>2</td>\n      <td>NaN</td>\n      <td>WB, SRS</td>\n      <td>2.0</td>\n    </tr>\n    <tr>\n      <th>1</th>\n      <td>Subject02</td>\n      <td>NaN</td>\n      <td>Female</td>\n      <td>50.0</td>\n      <td>lung</td>\n      <td>7</td>\n      <td>NaN</td>\n      <td>WB</td>\n      <td>6.0</td>\n    </tr>\n    <tr>\n      <th>2</th>\n      <td>Subject03</td>\n      <td>NaN</td>\n      <td>Male</td>\n      <td>64.0</td>\n      <td>melanoma</td>\n      <td>4</td>\n      <td>NaN</td>\n      <td>WB,SRS</td>\n      <td>4.0</td>\n    </tr>\n    <tr>\n      <th>3</th>\n      <td>Subject04</td>\n      <td>NaN</td>\n      <td>Male</td>\n      <td>56.0</td>\n      <td>melanoma</td>\n      <td>1</td>\n      <td>NaN</td>\n      <td>No</td>\n      <td>1.0</td>\n    </tr>\n    <tr>\n      <th>4</th>\n      <td>Subject05</td>\n      <td>NaN</td>\n      <td>Female</td>\n      <td>54.0</td>\n      <td>melanoma</td>\n      <td>1</td>\n      <td>?</td>\n      <td>SRS,PO</td>\n      <td>2.0</td>\n    </tr>\n    <tr>\n      <th>...</th>\n      <td>...</td>\n      <td>...</td>\n      <td>...</td>\n      <td>...</td>\n      <td>...</td>\n      <td>...</td>\n      <td>...</td>\n      <td>...</td>\n      <td>...</td>\n    </tr>\n    <tr>\n      <th>61</th>\n      <td>Subject62</td>\n      <td>NaN</td>\n      <td>Male</td>\n      <td>77.0</td>\n      <td>lung</td>\n      <td>?</td>\n      <td>NaN</td>\n      <td>NaN</td>\n      <td>1.0</td>\n    </tr>\n    <tr>\n      <th>62</th>\n      <td>Subject63</td>\n      <td>NaN</td>\n      <td>Male</td>\n      <td>32.0</td>\n      <td>melanoma</td>\n      <td>?</td>\n      <td>NaN</td>\n      <td>NaN</td>\n      <td>4.0</td>\n    </tr>\n    <tr>\n      <th>63</th>\n      <td>Subject64</td>\n      <td>NaN</td>\n      <td>Female</td>\n      <td>63.0</td>\n      <td>lung</td>\n      <td>?</td>\n      <td>NaN</td>\n      <td>NaN</td>\n      <td>2.0</td>\n    </tr>\n    <tr>\n      <th>64</th>\n      <td>Subject65</td>\n      <td>NaN</td>\n      <td>Female</td>\n      <td>65.0</td>\n      <td>lung</td>\n      <td>?</td>\n      <td>NaN</td>\n      <td>NaN</td>\n      <td>4.0</td>\n    </tr>\n    <tr>\n      <th>65</th>\n      <td>Subject66</td>\n      <td>NaN</td>\n      <td>Female</td>\n      <td>78.0</td>\n      <td>melanoma</td>\n      <td>?</td>\n      <td>NaN</td>\n      <td>NaN</td>\n      <td>1.0</td>\n    </tr>\n  </tbody>\n</table>\n<p>66 rows × 9 columns</p>\n</div>"
     },
     "execution_count": 52,
     "metadata": {},
     "output_type": "execute_result"
    }
   ],
   "source": [
    "oslo.loc[oslo['PrimaryCancer'] == 'mal.mel', 'PrimaryCancer'] = 'melanoma'\n",
    "oslo.loc[oslo['PrimaryCancer'] == 'ca.pulm', 'PrimaryCancer'] = 'lung'\n",
    "oslo"
   ],
   "metadata": {
    "collapsed": false,
    "ExecuteTime": {
     "start_time": "2023-04-23T15:14:56.776437Z",
     "end_time": "2023-04-23T15:14:56.781457Z"
    }
   }
  },
  {
   "cell_type": "code",
   "execution_count": 53,
   "outputs": [],
   "source": [
    "oslo = pd.get_dummies(oslo, columns=['PrimaryCancer'])"
   ],
   "metadata": {
    "collapsed": false,
    "ExecuteTime": {
     "start_time": "2023-04-23T15:16:57.373991Z",
     "end_time": "2023-04-23T15:16:57.413916Z"
    }
   }
  },
  {
   "cell_type": "code",
   "execution_count": 54,
   "outputs": [
    {
     "data": {
      "text/plain": "   SubjectNumber StudyID  Gender   Age # mets ROI status Pre treatment   \n0      Subject01     NaN    Male  58.0      2        NaN       WB, SRS  \\\n1      Subject02     NaN  Female  50.0      7        NaN            WB   \n2      Subject03     NaN    Male  64.0      4        NaN        WB,SRS   \n3      Subject04     NaN    Male  56.0      1        NaN            No   \n4      Subject05     NaN  Female  54.0      1          ?        SRS,PO   \n..           ...     ...     ...   ...    ...        ...           ...   \n61     Subject62     NaN    Male  77.0      ?        NaN           NaN   \n62     Subject63     NaN    Male  32.0      ?        NaN           NaN   \n63     Subject64     NaN  Female  63.0      ?        NaN           NaN   \n64     Subject65     NaN  Female  65.0      ?        NaN           NaN   \n65     Subject66     NaN  Female  78.0      ?        NaN           NaN   \n\n    Number of BMs  PrimaryCancer_lung  PrimaryCancer_melanoma  \n0             2.0               False                    True  \n1             6.0                True                   False  \n2             4.0               False                    True  \n3             1.0               False                    True  \n4             2.0               False                    True  \n..            ...                 ...                     ...  \n61            1.0                True                   False  \n62            4.0               False                    True  \n63            2.0                True                   False  \n64            4.0                True                   False  \n65            1.0               False                    True  \n\n[66 rows x 10 columns]",
      "text/html": "<div>\n<style scoped>\n    .dataframe tbody tr th:only-of-type {\n        vertical-align: middle;\n    }\n\n    .dataframe tbody tr th {\n        vertical-align: top;\n    }\n\n    .dataframe thead th {\n        text-align: right;\n    }\n</style>\n<table border=\"1\" class=\"dataframe\">\n  <thead>\n    <tr style=\"text-align: right;\">\n      <th></th>\n      <th>SubjectNumber</th>\n      <th>StudyID</th>\n      <th>Gender</th>\n      <th>Age</th>\n      <th># mets</th>\n      <th>ROI status</th>\n      <th>Pre treatment</th>\n      <th>Number of BMs</th>\n      <th>PrimaryCancer_lung</th>\n      <th>PrimaryCancer_melanoma</th>\n    </tr>\n  </thead>\n  <tbody>\n    <tr>\n      <th>0</th>\n      <td>Subject01</td>\n      <td>NaN</td>\n      <td>Male</td>\n      <td>58.0</td>\n      <td>2</td>\n      <td>NaN</td>\n      <td>WB, SRS</td>\n      <td>2.0</td>\n      <td>False</td>\n      <td>True</td>\n    </tr>\n    <tr>\n      <th>1</th>\n      <td>Subject02</td>\n      <td>NaN</td>\n      <td>Female</td>\n      <td>50.0</td>\n      <td>7</td>\n      <td>NaN</td>\n      <td>WB</td>\n      <td>6.0</td>\n      <td>True</td>\n      <td>False</td>\n    </tr>\n    <tr>\n      <th>2</th>\n      <td>Subject03</td>\n      <td>NaN</td>\n      <td>Male</td>\n      <td>64.0</td>\n      <td>4</td>\n      <td>NaN</td>\n      <td>WB,SRS</td>\n      <td>4.0</td>\n      <td>False</td>\n      <td>True</td>\n    </tr>\n    <tr>\n      <th>3</th>\n      <td>Subject04</td>\n      <td>NaN</td>\n      <td>Male</td>\n      <td>56.0</td>\n      <td>1</td>\n      <td>NaN</td>\n      <td>No</td>\n      <td>1.0</td>\n      <td>False</td>\n      <td>True</td>\n    </tr>\n    <tr>\n      <th>4</th>\n      <td>Subject05</td>\n      <td>NaN</td>\n      <td>Female</td>\n      <td>54.0</td>\n      <td>1</td>\n      <td>?</td>\n      <td>SRS,PO</td>\n      <td>2.0</td>\n      <td>False</td>\n      <td>True</td>\n    </tr>\n    <tr>\n      <th>...</th>\n      <td>...</td>\n      <td>...</td>\n      <td>...</td>\n      <td>...</td>\n      <td>...</td>\n      <td>...</td>\n      <td>...</td>\n      <td>...</td>\n      <td>...</td>\n      <td>...</td>\n    </tr>\n    <tr>\n      <th>61</th>\n      <td>Subject62</td>\n      <td>NaN</td>\n      <td>Male</td>\n      <td>77.0</td>\n      <td>?</td>\n      <td>NaN</td>\n      <td>NaN</td>\n      <td>1.0</td>\n      <td>True</td>\n      <td>False</td>\n    </tr>\n    <tr>\n      <th>62</th>\n      <td>Subject63</td>\n      <td>NaN</td>\n      <td>Male</td>\n      <td>32.0</td>\n      <td>?</td>\n      <td>NaN</td>\n      <td>NaN</td>\n      <td>4.0</td>\n      <td>False</td>\n      <td>True</td>\n    </tr>\n    <tr>\n      <th>63</th>\n      <td>Subject64</td>\n      <td>NaN</td>\n      <td>Female</td>\n      <td>63.0</td>\n      <td>?</td>\n      <td>NaN</td>\n      <td>NaN</td>\n      <td>2.0</td>\n      <td>True</td>\n      <td>False</td>\n    </tr>\n    <tr>\n      <th>64</th>\n      <td>Subject65</td>\n      <td>NaN</td>\n      <td>Female</td>\n      <td>65.0</td>\n      <td>?</td>\n      <td>NaN</td>\n      <td>NaN</td>\n      <td>4.0</td>\n      <td>True</td>\n      <td>False</td>\n    </tr>\n    <tr>\n      <th>65</th>\n      <td>Subject66</td>\n      <td>NaN</td>\n      <td>Female</td>\n      <td>78.0</td>\n      <td>?</td>\n      <td>NaN</td>\n      <td>NaN</td>\n      <td>1.0</td>\n      <td>False</td>\n      <td>True</td>\n    </tr>\n  </tbody>\n</table>\n<p>66 rows × 10 columns</p>\n</div>"
     },
     "execution_count": 54,
     "metadata": {},
     "output_type": "execute_result"
    }
   ],
   "source": [
    "oslo"
   ],
   "metadata": {
    "collapsed": false,
    "ExecuteTime": {
     "start_time": "2023-04-23T15:17:08.363658Z",
     "end_time": "2023-04-23T15:17:08.403306Z"
    }
   }
  },
  {
   "cell_type": "code",
   "execution_count": 55,
   "outputs": [
    {
     "data": {
      "text/plain": "   SubjectNumber StudyID  Gender   Age # mets ROI status Pre treatment   \n0      Subject01     NaN    Male  58.0      2        NaN       WB, SRS  \\\n1      Subject02     NaN  Female  50.0      7        NaN            WB   \n2      Subject03     NaN    Male  64.0      4        NaN        WB,SRS   \n3      Subject04     NaN    Male  56.0      1        NaN            No   \n4      Subject05     NaN  Female  54.0      1          ?        SRS,PO   \n..           ...     ...     ...   ...    ...        ...           ...   \n61     Subject62     NaN    Male  77.0      ?        NaN           NaN   \n62     Subject63     NaN    Male  32.0      ?        NaN           NaN   \n63     Subject64     NaN  Female  63.0      ?        NaN           NaN   \n64     Subject65     NaN  Female  65.0      ?        NaN           NaN   \n65     Subject66     NaN  Female  78.0      ?        NaN           NaN   \n\n    Number of BMs  PrimaryCancer_lung  PrimaryCancer_melanoma  \n0             2.0                   0                       1  \n1             6.0                   1                       0  \n2             4.0                   0                       1  \n3             1.0                   0                       1  \n4             2.0                   0                       1  \n..            ...                 ...                     ...  \n61            1.0                   1                       0  \n62            4.0                   0                       1  \n63            2.0                   1                       0  \n64            4.0                   1                       0  \n65            1.0                   0                       1  \n\n[66 rows x 10 columns]",
      "text/html": "<div>\n<style scoped>\n    .dataframe tbody tr th:only-of-type {\n        vertical-align: middle;\n    }\n\n    .dataframe tbody tr th {\n        vertical-align: top;\n    }\n\n    .dataframe thead th {\n        text-align: right;\n    }\n</style>\n<table border=\"1\" class=\"dataframe\">\n  <thead>\n    <tr style=\"text-align: right;\">\n      <th></th>\n      <th>SubjectNumber</th>\n      <th>StudyID</th>\n      <th>Gender</th>\n      <th>Age</th>\n      <th># mets</th>\n      <th>ROI status</th>\n      <th>Pre treatment</th>\n      <th>Number of BMs</th>\n      <th>PrimaryCancer_lung</th>\n      <th>PrimaryCancer_melanoma</th>\n    </tr>\n  </thead>\n  <tbody>\n    <tr>\n      <th>0</th>\n      <td>Subject01</td>\n      <td>NaN</td>\n      <td>Male</td>\n      <td>58.0</td>\n      <td>2</td>\n      <td>NaN</td>\n      <td>WB, SRS</td>\n      <td>2.0</td>\n      <td>0</td>\n      <td>1</td>\n    </tr>\n    <tr>\n      <th>1</th>\n      <td>Subject02</td>\n      <td>NaN</td>\n      <td>Female</td>\n      <td>50.0</td>\n      <td>7</td>\n      <td>NaN</td>\n      <td>WB</td>\n      <td>6.0</td>\n      <td>1</td>\n      <td>0</td>\n    </tr>\n    <tr>\n      <th>2</th>\n      <td>Subject03</td>\n      <td>NaN</td>\n      <td>Male</td>\n      <td>64.0</td>\n      <td>4</td>\n      <td>NaN</td>\n      <td>WB,SRS</td>\n      <td>4.0</td>\n      <td>0</td>\n      <td>1</td>\n    </tr>\n    <tr>\n      <th>3</th>\n      <td>Subject04</td>\n      <td>NaN</td>\n      <td>Male</td>\n      <td>56.0</td>\n      <td>1</td>\n      <td>NaN</td>\n      <td>No</td>\n      <td>1.0</td>\n      <td>0</td>\n      <td>1</td>\n    </tr>\n    <tr>\n      <th>4</th>\n      <td>Subject05</td>\n      <td>NaN</td>\n      <td>Female</td>\n      <td>54.0</td>\n      <td>1</td>\n      <td>?</td>\n      <td>SRS,PO</td>\n      <td>2.0</td>\n      <td>0</td>\n      <td>1</td>\n    </tr>\n    <tr>\n      <th>...</th>\n      <td>...</td>\n      <td>...</td>\n      <td>...</td>\n      <td>...</td>\n      <td>...</td>\n      <td>...</td>\n      <td>...</td>\n      <td>...</td>\n      <td>...</td>\n      <td>...</td>\n    </tr>\n    <tr>\n      <th>61</th>\n      <td>Subject62</td>\n      <td>NaN</td>\n      <td>Male</td>\n      <td>77.0</td>\n      <td>?</td>\n      <td>NaN</td>\n      <td>NaN</td>\n      <td>1.0</td>\n      <td>1</td>\n      <td>0</td>\n    </tr>\n    <tr>\n      <th>62</th>\n      <td>Subject63</td>\n      <td>NaN</td>\n      <td>Male</td>\n      <td>32.0</td>\n      <td>?</td>\n      <td>NaN</td>\n      <td>NaN</td>\n      <td>4.0</td>\n      <td>0</td>\n      <td>1</td>\n    </tr>\n    <tr>\n      <th>63</th>\n      <td>Subject64</td>\n      <td>NaN</td>\n      <td>Female</td>\n      <td>63.0</td>\n      <td>?</td>\n      <td>NaN</td>\n      <td>NaN</td>\n      <td>2.0</td>\n      <td>1</td>\n      <td>0</td>\n    </tr>\n    <tr>\n      <th>64</th>\n      <td>Subject65</td>\n      <td>NaN</td>\n      <td>Female</td>\n      <td>65.0</td>\n      <td>?</td>\n      <td>NaN</td>\n      <td>NaN</td>\n      <td>4.0</td>\n      <td>1</td>\n      <td>0</td>\n    </tr>\n    <tr>\n      <th>65</th>\n      <td>Subject66</td>\n      <td>NaN</td>\n      <td>Female</td>\n      <td>78.0</td>\n      <td>?</td>\n      <td>NaN</td>\n      <td>NaN</td>\n      <td>1.0</td>\n      <td>0</td>\n      <td>1</td>\n    </tr>\n  </tbody>\n</table>\n<p>66 rows × 10 columns</p>\n</div>"
     },
     "execution_count": 55,
     "metadata": {},
     "output_type": "execute_result"
    }
   ],
   "source": [
    "oslo['PrimaryCancer_lung'] = oslo['PrimaryCancer_lung'].astype(int)\n",
    "oslo['PrimaryCancer_melanoma'] = oslo['PrimaryCancer_melanoma'].astype(int)\n",
    "oslo"
   ],
   "metadata": {
    "collapsed": false,
    "ExecuteTime": {
     "start_time": "2023-04-23T15:18:06.134502Z",
     "end_time": "2023-04-23T15:18:06.174279Z"
    }
   }
  },
  {
   "cell_type": "code",
   "execution_count": 56,
   "outputs": [],
   "source": [
    "oslo = oslo.rename(columns={'PrimaryCancer_melanoma': 'melanoma', 'PrimaryCancer_lung': 'lung'})"
   ],
   "metadata": {
    "collapsed": false,
    "ExecuteTime": {
     "start_time": "2023-04-23T15:20:50.913170Z",
     "end_time": "2023-04-23T15:20:50.964953Z"
    }
   }
  },
  {
   "cell_type": "code",
   "execution_count": 63,
   "outputs": [
    {
     "data": {
      "text/plain": "   SubjectNumber StudyID  Gender   Age # mets ROI status Pre treatment   \n0      Subject01     NaN    Male  58.0      2        NaN       WB, SRS  \\\n1      Subject02     NaN  Female  50.0      7        NaN            WB   \n2      Subject03     NaN    Male  64.0      4        NaN        WB,SRS   \n3      Subject04     NaN    Male  56.0      1        NaN            No   \n4      Subject05     NaN  Female  54.0      1          ?        SRS,PO   \n..           ...     ...     ...   ...    ...        ...           ...   \n61     Subject62     NaN    Male  77.0      ?        NaN           NaN   \n62     Subject63     NaN    Male  32.0      ?        NaN           NaN   \n63     Subject64     NaN  Female  63.0      ?        NaN           NaN   \n64     Subject65     NaN  Female  65.0      ?        NaN           NaN   \n65     Subject66     NaN  Female  78.0      ?        NaN           NaN   \n\n    Number of BMs  lung  melanoma  \n0             2.0     0         1  \n1             6.0     1         0  \n2             4.0     0         1  \n3             1.0     0         1  \n4             2.0     0         1  \n..            ...   ...       ...  \n61            1.0     1         0  \n62            4.0     0         1  \n63            2.0     1         0  \n64            4.0     1         0  \n65            1.0     0         1  \n\n[66 rows x 10 columns]",
      "text/html": "<div>\n<style scoped>\n    .dataframe tbody tr th:only-of-type {\n        vertical-align: middle;\n    }\n\n    .dataframe tbody tr th {\n        vertical-align: top;\n    }\n\n    .dataframe thead th {\n        text-align: right;\n    }\n</style>\n<table border=\"1\" class=\"dataframe\">\n  <thead>\n    <tr style=\"text-align: right;\">\n      <th></th>\n      <th>SubjectNumber</th>\n      <th>StudyID</th>\n      <th>Gender</th>\n      <th>Age</th>\n      <th># mets</th>\n      <th>ROI status</th>\n      <th>Pre treatment</th>\n      <th>Number of BMs</th>\n      <th>lung</th>\n      <th>melanoma</th>\n    </tr>\n  </thead>\n  <tbody>\n    <tr>\n      <th>0</th>\n      <td>Subject01</td>\n      <td>NaN</td>\n      <td>Male</td>\n      <td>58.0</td>\n      <td>2</td>\n      <td>NaN</td>\n      <td>WB, SRS</td>\n      <td>2.0</td>\n      <td>0</td>\n      <td>1</td>\n    </tr>\n    <tr>\n      <th>1</th>\n      <td>Subject02</td>\n      <td>NaN</td>\n      <td>Female</td>\n      <td>50.0</td>\n      <td>7</td>\n      <td>NaN</td>\n      <td>WB</td>\n      <td>6.0</td>\n      <td>1</td>\n      <td>0</td>\n    </tr>\n    <tr>\n      <th>2</th>\n      <td>Subject03</td>\n      <td>NaN</td>\n      <td>Male</td>\n      <td>64.0</td>\n      <td>4</td>\n      <td>NaN</td>\n      <td>WB,SRS</td>\n      <td>4.0</td>\n      <td>0</td>\n      <td>1</td>\n    </tr>\n    <tr>\n      <th>3</th>\n      <td>Subject04</td>\n      <td>NaN</td>\n      <td>Male</td>\n      <td>56.0</td>\n      <td>1</td>\n      <td>NaN</td>\n      <td>No</td>\n      <td>1.0</td>\n      <td>0</td>\n      <td>1</td>\n    </tr>\n    <tr>\n      <th>4</th>\n      <td>Subject05</td>\n      <td>NaN</td>\n      <td>Female</td>\n      <td>54.0</td>\n      <td>1</td>\n      <td>?</td>\n      <td>SRS,PO</td>\n      <td>2.0</td>\n      <td>0</td>\n      <td>1</td>\n    </tr>\n    <tr>\n      <th>...</th>\n      <td>...</td>\n      <td>...</td>\n      <td>...</td>\n      <td>...</td>\n      <td>...</td>\n      <td>...</td>\n      <td>...</td>\n      <td>...</td>\n      <td>...</td>\n      <td>...</td>\n    </tr>\n    <tr>\n      <th>61</th>\n      <td>Subject62</td>\n      <td>NaN</td>\n      <td>Male</td>\n      <td>77.0</td>\n      <td>?</td>\n      <td>NaN</td>\n      <td>NaN</td>\n      <td>1.0</td>\n      <td>1</td>\n      <td>0</td>\n    </tr>\n    <tr>\n      <th>62</th>\n      <td>Subject63</td>\n      <td>NaN</td>\n      <td>Male</td>\n      <td>32.0</td>\n      <td>?</td>\n      <td>NaN</td>\n      <td>NaN</td>\n      <td>4.0</td>\n      <td>0</td>\n      <td>1</td>\n    </tr>\n    <tr>\n      <th>63</th>\n      <td>Subject64</td>\n      <td>NaN</td>\n      <td>Female</td>\n      <td>63.0</td>\n      <td>?</td>\n      <td>NaN</td>\n      <td>NaN</td>\n      <td>2.0</td>\n      <td>1</td>\n      <td>0</td>\n    </tr>\n    <tr>\n      <th>64</th>\n      <td>Subject65</td>\n      <td>NaN</td>\n      <td>Female</td>\n      <td>65.0</td>\n      <td>?</td>\n      <td>NaN</td>\n      <td>NaN</td>\n      <td>4.0</td>\n      <td>1</td>\n      <td>0</td>\n    </tr>\n    <tr>\n      <th>65</th>\n      <td>Subject66</td>\n      <td>NaN</td>\n      <td>Female</td>\n      <td>78.0</td>\n      <td>?</td>\n      <td>NaN</td>\n      <td>NaN</td>\n      <td>1.0</td>\n      <td>0</td>\n      <td>1</td>\n    </tr>\n  </tbody>\n</table>\n<p>66 rows × 10 columns</p>\n</div>"
     },
     "execution_count": 63,
     "metadata": {},
     "output_type": "execute_result"
    }
   ],
   "source": [
    "oslo"
   ],
   "metadata": {
    "collapsed": false,
    "ExecuteTime": {
     "start_time": "2023-04-23T15:28:31.502753Z",
     "end_time": "2023-04-23T15:28:31.542322Z"
    }
   }
  },
  {
   "cell_type": "markdown",
   "source": [
    "## Downloaded this dataframe to a xlsx format, remanes as labels_oslo so later I can open it and join it with the radiomic features by the patient number"
   ],
   "metadata": {
    "collapsed": false
   }
  },
  {
   "cell_type": "code",
   "execution_count": null,
   "outputs": [],
   "source": [],
   "metadata": {
    "collapsed": false
   }
  },
  {
   "cell_type": "code",
   "execution_count": null,
   "outputs": [],
   "source": [],
   "metadata": {
    "collapsed": false
   }
  },
  {
   "cell_type": "code",
   "execution_count": null,
   "outputs": [],
   "source": [],
   "metadata": {
    "collapsed": false
   }
  },
  {
   "cell_type": "code",
   "execution_count": null,
   "outputs": [],
   "source": [],
   "metadata": {
    "collapsed": false
   }
  }
 ],
 "metadata": {
  "kernelspec": {
   "display_name": "Python 3",
   "language": "python",
   "name": "python3"
  },
  "language_info": {
   "codemirror_mode": {
    "name": "ipython",
    "version": 2
   },
   "file_extension": ".py",
   "mimetype": "text/x-python",
   "name": "python",
   "nbconvert_exporter": "python",
   "pygments_lexer": "ipython2",
   "version": "2.7.6"
  }
 },
 "nbformat": 4,
 "nbformat_minor": 0
}
