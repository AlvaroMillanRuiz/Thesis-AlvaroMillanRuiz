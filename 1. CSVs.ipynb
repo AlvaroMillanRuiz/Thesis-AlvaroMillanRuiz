{
 "cells": [
  {
   "cell_type": "code",
   "execution_count": 1,
   "outputs": [],
   "source": [
    "import numpy as np\n",
    "import pandas as pd"
   ],
   "metadata": {
    "collapsed": false,
    "ExecuteTime": {
     "start_time": "2023-06-24T16:31:12.601364Z",
     "end_time": "2023-06-24T16:31:12.603947Z"
    }
   }
  },
  {
   "cell_type": "code",
   "execution_count": 2,
   "outputs": [],
   "source": [
    "tumors_oslo = pd.read_csv('/data/projects/TMOR/num_tumors_oslo.csv')\n",
    "tumors_standford = pd.read_csv('/data/projects/TMOR/num_tumors_standford.csv')\n",
    "oslo = pd.read_csv(\"/data/projects/TMOR/OsloMetsDemographics.csv\")\n",
    "standford = pd.read_csv(\"/data/projects/TMOR/stanford_labels.csv\")"
   ],
   "metadata": {
    "collapsed": false,
    "ExecuteTime": {
     "start_time": "2023-06-24T16:31:14.044541Z",
     "end_time": "2023-06-24T16:31:14.095588Z"
    }
   }
  },
  {
   "cell_type": "markdown",
   "source": [
    "## Oslo Data"
   ],
   "metadata": {
    "collapsed": false
   }
  },
  {
   "cell_type": "code",
   "execution_count": 3,
   "outputs": [
    {
     "data": {
      "text/plain": "   SubjectNumber  Number_tumors\n0      Subject01              2\n1      Subject02              6\n2      Subject03              4\n3      Subject04              1\n4      Subject05              2\n..           ...            ...\n62     Subject63              4\n63     Subject64              2\n64     Subject65              4\n65     Subject66              1\n66     Subject67              3\n\n[67 rows x 2 columns]",
      "text/html": "<div>\n<style scoped>\n    .dataframe tbody tr th:only-of-type {\n        vertical-align: middle;\n    }\n\n    .dataframe tbody tr th {\n        vertical-align: top;\n    }\n\n    .dataframe thead th {\n        text-align: right;\n    }\n</style>\n<table border=\"1\" class=\"dataframe\">\n  <thead>\n    <tr style=\"text-align: right;\">\n      <th></th>\n      <th>SubjectNumber</th>\n      <th>Number_tumors</th>\n    </tr>\n  </thead>\n  <tbody>\n    <tr>\n      <th>0</th>\n      <td>Subject01</td>\n      <td>2</td>\n    </tr>\n    <tr>\n      <th>1</th>\n      <td>Subject02</td>\n      <td>6</td>\n    </tr>\n    <tr>\n      <th>2</th>\n      <td>Subject03</td>\n      <td>4</td>\n    </tr>\n    <tr>\n      <th>3</th>\n      <td>Subject04</td>\n      <td>1</td>\n    </tr>\n    <tr>\n      <th>4</th>\n      <td>Subject05</td>\n      <td>2</td>\n    </tr>\n    <tr>\n      <th>...</th>\n      <td>...</td>\n      <td>...</td>\n    </tr>\n    <tr>\n      <th>62</th>\n      <td>Subject63</td>\n      <td>4</td>\n    </tr>\n    <tr>\n      <th>63</th>\n      <td>Subject64</td>\n      <td>2</td>\n    </tr>\n    <tr>\n      <th>64</th>\n      <td>Subject65</td>\n      <td>4</td>\n    </tr>\n    <tr>\n      <th>65</th>\n      <td>Subject66</td>\n      <td>1</td>\n    </tr>\n    <tr>\n      <th>66</th>\n      <td>Subject67</td>\n      <td>3</td>\n    </tr>\n  </tbody>\n</table>\n<p>67 rows × 2 columns</p>\n</div>"
     },
     "execution_count": 3,
     "metadata": {},
     "output_type": "execute_result"
    }
   ],
   "source": [
    "tumors_oslo"
   ],
   "metadata": {
    "collapsed": false,
    "ExecuteTime": {
     "start_time": "2023-05-02T15:55:56.355326Z",
     "end_time": "2023-05-02T15:55:57.168774Z"
    }
   }
  },
  {
   "cell_type": "code",
   "execution_count": 4,
   "outputs": [
    {
     "data": {
      "text/plain": "SubjectNumber    object\nNumber_tumors     int64\ndtype: object"
     },
     "execution_count": 4,
     "metadata": {},
     "output_type": "execute_result"
    }
   ],
   "source": [
    "tumors_oslo.dtypes"
   ],
   "metadata": {
    "collapsed": false,
    "ExecuteTime": {
     "start_time": "2023-05-02T15:55:56.355441Z",
     "end_time": "2023-05-02T15:55:57.168974Z"
    }
   }
  },
  {
   "cell_type": "code",
   "execution_count": 5,
   "outputs": [
    {
     "data": {
      "text/plain": "Empty DataFrame\nColumns: [SubjectNumber, Number_tumors]\nIndex: []",
      "text/html": "<div>\n<style scoped>\n    .dataframe tbody tr th:only-of-type {\n        vertical-align: middle;\n    }\n\n    .dataframe tbody tr th {\n        vertical-align: top;\n    }\n\n    .dataframe thead th {\n        text-align: right;\n    }\n</style>\n<table border=\"1\" class=\"dataframe\">\n  <thead>\n    <tr style=\"text-align: right;\">\n      <th></th>\n      <th>SubjectNumber</th>\n      <th>Number_tumors</th>\n    </tr>\n  </thead>\n  <tbody>\n  </tbody>\n</table>\n</div>"
     },
     "execution_count": 5,
     "metadata": {},
     "output_type": "execute_result"
    }
   ],
   "source": [
    "tumors_oslo[tumors_oslo['Number_tumors'].isna() == True] ## check for any possible missing values"
   ],
   "metadata": {
    "collapsed": false,
    "ExecuteTime": {
     "start_time": "2023-05-02T15:55:56.355521Z",
     "end_time": "2023-05-02T15:55:57.169099Z"
    }
   }
  },
  {
   "cell_type": "code",
   "execution_count": 6,
   "outputs": [
    {
     "data": {
      "text/plain": "   SubjectNumber                       StudyID  Gender   Age PrimaryCancer   \n0      Subject01                           NaN    Male  58.0       mal.mel  \\\n1      Subject02                           NaN  Female  50.0       ca.pulm   \n2      Subject03                           NaN    Male  64.0       mal.mel   \n3      Subject04                           NaN    Male  56.0       mal.mel   \n4      Subject05                           NaN  Female  54.0       mal.mel   \n..           ...                           ...     ...   ...           ...   \n67           NaN                           NaN     NaN   NaN           NaN   \n68           NaN                  ROI complete     NaN   NaN           NaN   \n69           NaN  Missing ROI outside VAI slab     NaN   NaN           NaN   \n70           NaN              Missing all ROIs     NaN   NaN           NaN   \n71           NaN            Yet to be included     NaN   NaN           NaN   \n\n   # mets ROI status Pre treatment  Number of BMs  \n0       2        NaN       WB, SRS            2.0  \n1       7        NaN            WB            6.0  \n2       4        NaN        WB,SRS            4.0  \n3       1        NaN            No            1.0  \n4       1          ?        SRS,PO            2.0  \n..    ...        ...           ...            ...  \n67    NaN        NaN           NaN            NaN  \n68    NaN        NaN           NaN            NaN  \n69    NaN        NaN           NaN            NaN  \n70    NaN        NaN           NaN            NaN  \n71    NaN        NaN           NaN            NaN  \n\n[72 rows x 9 columns]",
      "text/html": "<div>\n<style scoped>\n    .dataframe tbody tr th:only-of-type {\n        vertical-align: middle;\n    }\n\n    .dataframe tbody tr th {\n        vertical-align: top;\n    }\n\n    .dataframe thead th {\n        text-align: right;\n    }\n</style>\n<table border=\"1\" class=\"dataframe\">\n  <thead>\n    <tr style=\"text-align: right;\">\n      <th></th>\n      <th>SubjectNumber</th>\n      <th>StudyID</th>\n      <th>Gender</th>\n      <th>Age</th>\n      <th>PrimaryCancer</th>\n      <th># mets</th>\n      <th>ROI status</th>\n      <th>Pre treatment</th>\n      <th>Number of BMs</th>\n    </tr>\n  </thead>\n  <tbody>\n    <tr>\n      <th>0</th>\n      <td>Subject01</td>\n      <td>NaN</td>\n      <td>Male</td>\n      <td>58.0</td>\n      <td>mal.mel</td>\n      <td>2</td>\n      <td>NaN</td>\n      <td>WB, SRS</td>\n      <td>2.0</td>\n    </tr>\n    <tr>\n      <th>1</th>\n      <td>Subject02</td>\n      <td>NaN</td>\n      <td>Female</td>\n      <td>50.0</td>\n      <td>ca.pulm</td>\n      <td>7</td>\n      <td>NaN</td>\n      <td>WB</td>\n      <td>6.0</td>\n    </tr>\n    <tr>\n      <th>2</th>\n      <td>Subject03</td>\n      <td>NaN</td>\n      <td>Male</td>\n      <td>64.0</td>\n      <td>mal.mel</td>\n      <td>4</td>\n      <td>NaN</td>\n      <td>WB,SRS</td>\n      <td>4.0</td>\n    </tr>\n    <tr>\n      <th>3</th>\n      <td>Subject04</td>\n      <td>NaN</td>\n      <td>Male</td>\n      <td>56.0</td>\n      <td>mal.mel</td>\n      <td>1</td>\n      <td>NaN</td>\n      <td>No</td>\n      <td>1.0</td>\n    </tr>\n    <tr>\n      <th>4</th>\n      <td>Subject05</td>\n      <td>NaN</td>\n      <td>Female</td>\n      <td>54.0</td>\n      <td>mal.mel</td>\n      <td>1</td>\n      <td>?</td>\n      <td>SRS,PO</td>\n      <td>2.0</td>\n    </tr>\n    <tr>\n      <th>...</th>\n      <td>...</td>\n      <td>...</td>\n      <td>...</td>\n      <td>...</td>\n      <td>...</td>\n      <td>...</td>\n      <td>...</td>\n      <td>...</td>\n      <td>...</td>\n    </tr>\n    <tr>\n      <th>67</th>\n      <td>NaN</td>\n      <td>NaN</td>\n      <td>NaN</td>\n      <td>NaN</td>\n      <td>NaN</td>\n      <td>NaN</td>\n      <td>NaN</td>\n      <td>NaN</td>\n      <td>NaN</td>\n    </tr>\n    <tr>\n      <th>68</th>\n      <td>NaN</td>\n      <td>ROI complete</td>\n      <td>NaN</td>\n      <td>NaN</td>\n      <td>NaN</td>\n      <td>NaN</td>\n      <td>NaN</td>\n      <td>NaN</td>\n      <td>NaN</td>\n    </tr>\n    <tr>\n      <th>69</th>\n      <td>NaN</td>\n      <td>Missing ROI outside VAI slab</td>\n      <td>NaN</td>\n      <td>NaN</td>\n      <td>NaN</td>\n      <td>NaN</td>\n      <td>NaN</td>\n      <td>NaN</td>\n      <td>NaN</td>\n    </tr>\n    <tr>\n      <th>70</th>\n      <td>NaN</td>\n      <td>Missing all ROIs</td>\n      <td>NaN</td>\n      <td>NaN</td>\n      <td>NaN</td>\n      <td>NaN</td>\n      <td>NaN</td>\n      <td>NaN</td>\n      <td>NaN</td>\n    </tr>\n    <tr>\n      <th>71</th>\n      <td>NaN</td>\n      <td>Yet to be included</td>\n      <td>NaN</td>\n      <td>NaN</td>\n      <td>NaN</td>\n      <td>NaN</td>\n      <td>NaN</td>\n      <td>NaN</td>\n      <td>NaN</td>\n    </tr>\n  </tbody>\n</table>\n<p>72 rows × 9 columns</p>\n</div>"
     },
     "execution_count": 6,
     "metadata": {},
     "output_type": "execute_result"
    }
   ],
   "source": [
    "oslo"
   ],
   "metadata": {
    "collapsed": false,
    "ExecuteTime": {
     "start_time": "2023-05-02T15:55:56.359835Z",
     "end_time": "2023-05-02T15:55:57.169328Z"
    }
   }
  },
  {
   "cell_type": "code",
   "execution_count": 7,
   "outputs": [
    {
     "data": {
      "text/plain": "SubjectNumber     object\nStudyID           object\nGender            object\nAge              float64\nPrimaryCancer     object\n# mets            object\nROI status        object\nPre treatment     object\nNumber of BMs    float64\ndtype: object"
     },
     "execution_count": 7,
     "metadata": {},
     "output_type": "execute_result"
    }
   ],
   "source": [
    "oslo.dtypes"
   ],
   "metadata": {
    "collapsed": false,
    "ExecuteTime": {
     "start_time": "2023-05-02T15:55:56.379461Z",
     "end_time": "2023-05-02T15:55:57.169460Z"
    }
   }
  },
  {
   "cell_type": "code",
   "execution_count": 8,
   "outputs": [
    {
     "data": {
      "text/plain": "   SubjectNumber                       StudyID Gender  Age PrimaryCancer   \n66     Subject67                           NaN    NaN  NaN           NaN  \\\n67           NaN                           NaN    NaN  NaN           NaN   \n68           NaN                  ROI complete    NaN  NaN           NaN   \n69           NaN  Missing ROI outside VAI slab    NaN  NaN           NaN   \n70           NaN              Missing all ROIs    NaN  NaN           NaN   \n71           NaN            Yet to be included    NaN  NaN           NaN   \n\n   # mets ROI status Pre treatment  Number of BMs  \n66      ?        NaN           NaN            3.0  \n67    NaN        NaN           NaN            NaN  \n68    NaN        NaN           NaN            NaN  \n69    NaN        NaN           NaN            NaN  \n70    NaN        NaN           NaN            NaN  \n71    NaN        NaN           NaN            NaN  ",
      "text/html": "<div>\n<style scoped>\n    .dataframe tbody tr th:only-of-type {\n        vertical-align: middle;\n    }\n\n    .dataframe tbody tr th {\n        vertical-align: top;\n    }\n\n    .dataframe thead th {\n        text-align: right;\n    }\n</style>\n<table border=\"1\" class=\"dataframe\">\n  <thead>\n    <tr style=\"text-align: right;\">\n      <th></th>\n      <th>SubjectNumber</th>\n      <th>StudyID</th>\n      <th>Gender</th>\n      <th>Age</th>\n      <th>PrimaryCancer</th>\n      <th># mets</th>\n      <th>ROI status</th>\n      <th>Pre treatment</th>\n      <th>Number of BMs</th>\n    </tr>\n  </thead>\n  <tbody>\n    <tr>\n      <th>66</th>\n      <td>Subject67</td>\n      <td>NaN</td>\n      <td>NaN</td>\n      <td>NaN</td>\n      <td>NaN</td>\n      <td>?</td>\n      <td>NaN</td>\n      <td>NaN</td>\n      <td>3.0</td>\n    </tr>\n    <tr>\n      <th>67</th>\n      <td>NaN</td>\n      <td>NaN</td>\n      <td>NaN</td>\n      <td>NaN</td>\n      <td>NaN</td>\n      <td>NaN</td>\n      <td>NaN</td>\n      <td>NaN</td>\n      <td>NaN</td>\n    </tr>\n    <tr>\n      <th>68</th>\n      <td>NaN</td>\n      <td>ROI complete</td>\n      <td>NaN</td>\n      <td>NaN</td>\n      <td>NaN</td>\n      <td>NaN</td>\n      <td>NaN</td>\n      <td>NaN</td>\n      <td>NaN</td>\n    </tr>\n    <tr>\n      <th>69</th>\n      <td>NaN</td>\n      <td>Missing ROI outside VAI slab</td>\n      <td>NaN</td>\n      <td>NaN</td>\n      <td>NaN</td>\n      <td>NaN</td>\n      <td>NaN</td>\n      <td>NaN</td>\n      <td>NaN</td>\n    </tr>\n    <tr>\n      <th>70</th>\n      <td>NaN</td>\n      <td>Missing all ROIs</td>\n      <td>NaN</td>\n      <td>NaN</td>\n      <td>NaN</td>\n      <td>NaN</td>\n      <td>NaN</td>\n      <td>NaN</td>\n      <td>NaN</td>\n    </tr>\n    <tr>\n      <th>71</th>\n      <td>NaN</td>\n      <td>Yet to be included</td>\n      <td>NaN</td>\n      <td>NaN</td>\n      <td>NaN</td>\n      <td>NaN</td>\n      <td>NaN</td>\n      <td>NaN</td>\n      <td>NaN</td>\n    </tr>\n  </tbody>\n</table>\n</div>"
     },
     "execution_count": 8,
     "metadata": {},
     "output_type": "execute_result"
    }
   ],
   "source": [
    "oslo[oslo['Gender'].isna() == True]"
   ],
   "metadata": {
    "collapsed": false,
    "ExecuteTime": {
     "start_time": "2023-05-02T15:55:56.391229Z",
     "end_time": "2023-05-02T15:55:57.186045Z"
    }
   }
  },
  {
   "cell_type": "code",
   "execution_count": 9,
   "outputs": [
    {
     "data": {
      "text/plain": "   SubjectNumber                       StudyID Gender  Age PrimaryCancer   \n66     Subject67                           NaN    NaN  NaN           NaN  \\\n67           NaN                           NaN    NaN  NaN           NaN   \n68           NaN                  ROI complete    NaN  NaN           NaN   \n69           NaN  Missing ROI outside VAI slab    NaN  NaN           NaN   \n70           NaN              Missing all ROIs    NaN  NaN           NaN   \n71           NaN            Yet to be included    NaN  NaN           NaN   \n\n   # mets ROI status Pre treatment  Number of BMs  \n66      ?        NaN           NaN            3.0  \n67    NaN        NaN           NaN            NaN  \n68    NaN        NaN           NaN            NaN  \n69    NaN        NaN           NaN            NaN  \n70    NaN        NaN           NaN            NaN  \n71    NaN        NaN           NaN            NaN  ",
      "text/html": "<div>\n<style scoped>\n    .dataframe tbody tr th:only-of-type {\n        vertical-align: middle;\n    }\n\n    .dataframe tbody tr th {\n        vertical-align: top;\n    }\n\n    .dataframe thead th {\n        text-align: right;\n    }\n</style>\n<table border=\"1\" class=\"dataframe\">\n  <thead>\n    <tr style=\"text-align: right;\">\n      <th></th>\n      <th>SubjectNumber</th>\n      <th>StudyID</th>\n      <th>Gender</th>\n      <th>Age</th>\n      <th>PrimaryCancer</th>\n      <th># mets</th>\n      <th>ROI status</th>\n      <th>Pre treatment</th>\n      <th>Number of BMs</th>\n    </tr>\n  </thead>\n  <tbody>\n    <tr>\n      <th>66</th>\n      <td>Subject67</td>\n      <td>NaN</td>\n      <td>NaN</td>\n      <td>NaN</td>\n      <td>NaN</td>\n      <td>?</td>\n      <td>NaN</td>\n      <td>NaN</td>\n      <td>3.0</td>\n    </tr>\n    <tr>\n      <th>67</th>\n      <td>NaN</td>\n      <td>NaN</td>\n      <td>NaN</td>\n      <td>NaN</td>\n      <td>NaN</td>\n      <td>NaN</td>\n      <td>NaN</td>\n      <td>NaN</td>\n      <td>NaN</td>\n    </tr>\n    <tr>\n      <th>68</th>\n      <td>NaN</td>\n      <td>ROI complete</td>\n      <td>NaN</td>\n      <td>NaN</td>\n      <td>NaN</td>\n      <td>NaN</td>\n      <td>NaN</td>\n      <td>NaN</td>\n      <td>NaN</td>\n    </tr>\n    <tr>\n      <th>69</th>\n      <td>NaN</td>\n      <td>Missing ROI outside VAI slab</td>\n      <td>NaN</td>\n      <td>NaN</td>\n      <td>NaN</td>\n      <td>NaN</td>\n      <td>NaN</td>\n      <td>NaN</td>\n      <td>NaN</td>\n    </tr>\n    <tr>\n      <th>70</th>\n      <td>NaN</td>\n      <td>Missing all ROIs</td>\n      <td>NaN</td>\n      <td>NaN</td>\n      <td>NaN</td>\n      <td>NaN</td>\n      <td>NaN</td>\n      <td>NaN</td>\n      <td>NaN</td>\n    </tr>\n    <tr>\n      <th>71</th>\n      <td>NaN</td>\n      <td>Yet to be included</td>\n      <td>NaN</td>\n      <td>NaN</td>\n      <td>NaN</td>\n      <td>NaN</td>\n      <td>NaN</td>\n      <td>NaN</td>\n      <td>NaN</td>\n    </tr>\n  </tbody>\n</table>\n</div>"
     },
     "execution_count": 9,
     "metadata": {},
     "output_type": "execute_result"
    }
   ],
   "source": [
    "oslo[oslo['Age'].isna() == True]"
   ],
   "metadata": {
    "collapsed": false,
    "ExecuteTime": {
     "start_time": "2023-05-02T15:55:56.412375Z",
     "end_time": "2023-05-02T15:55:57.186563Z"
    }
   }
  },
  {
   "cell_type": "code",
   "execution_count": 10,
   "outputs": [],
   "source": [
    "oslo = oslo.iloc[:66] # we are missing info on sex and age of the Subject 67. Onwards that patient we cannot compute any other value since there are not subjects"
   ],
   "metadata": {
    "collapsed": false,
    "ExecuteTime": {
     "start_time": "2023-05-02T15:55:56.453419Z",
     "end_time": "2023-05-02T15:55:57.186638Z"
    }
   }
  },
  {
   "cell_type": "code",
   "execution_count": 11,
   "outputs": [
    {
     "name": "stderr",
     "output_type": "stream",
     "text": [
      "/home/amillanruiz/tmp/ipykernel_18729/2370569222.py:1: SettingWithCopyWarning: \n",
      "A value is trying to be set on a copy of a slice from a DataFrame.\n",
      "Try using .loc[row_indexer,col_indexer] = value instead\n",
      "\n",
      "See the caveats in the documentation: https://pandas.pydata.org/pandas-docs/stable/user_guide/indexing.html#returning-a-view-versus-a-copy\n",
      "  oslo['Age'] = oslo['Age'].astype(int)\n",
      "/home/amillanruiz/tmp/ipykernel_18729/2370569222.py:2: SettingWithCopyWarning: \n",
      "A value is trying to be set on a copy of a slice from a DataFrame.\n",
      "Try using .loc[row_indexer,col_indexer] = value instead\n",
      "\n",
      "See the caveats in the documentation: https://pandas.pydata.org/pandas-docs/stable/user_guide/indexing.html#returning-a-view-versus-a-copy\n",
      "  oslo['Number of BMs'] = oslo['Number of BMs'].astype(int)\n"
     ]
    },
    {
     "data": {
      "text/plain": "SubjectNumber    object\nStudyID          object\nGender           object\nAge               int64\nPrimaryCancer    object\n# mets           object\nROI status       object\nPre treatment    object\nNumber of BMs     int64\ndtype: object"
     },
     "execution_count": 11,
     "metadata": {},
     "output_type": "execute_result"
    }
   ],
   "source": [
    "oslo['Age'] = oslo['Age'].astype(int)\n",
    "oslo['Number of BMs'] = oslo['Number of BMs'].astype(int)\n",
    "oslo.dtypes"
   ],
   "metadata": {
    "collapsed": false,
    "ExecuteTime": {
     "start_time": "2023-05-02T15:55:56.453466Z",
     "end_time": "2023-05-02T15:55:57.186877Z"
    }
   }
  },
  {
   "cell_type": "code",
   "execution_count": 12,
   "outputs": [
    {
     "data": {
      "text/plain": "   SubjectNumber StudyID  Gender  Age PrimaryCancer # mets ROI status   \n0      Subject01     NaN    Male   58       mal.mel      2        NaN  \\\n1      Subject02     NaN  Female   50       ca.pulm      7        NaN   \n2      Subject03     NaN    Male   64       mal.mel      4        NaN   \n3      Subject04     NaN    Male   56       mal.mel      1        NaN   \n4      Subject05     NaN  Female   54       mal.mel      1          ?   \n..           ...     ...     ...  ...           ...    ...        ...   \n61     Subject62     NaN    Male   77       ca.pulm      ?        NaN   \n62     Subject63     NaN    Male   32       mal.mel      ?        NaN   \n63     Subject64     NaN  Female   63       ca.pulm      ?        NaN   \n64     Subject65     NaN  Female   65       ca.pulm      ?        NaN   \n65     Subject66     NaN  Female   78       mal.mel      ?        NaN   \n\n   Pre treatment  Number of BMs  Number_tumors  \n0        WB, SRS              2            2.0  \n1             WB              6            6.0  \n2         WB,SRS              4            4.0  \n3             No              1            1.0  \n4         SRS,PO              2            2.0  \n..           ...            ...            ...  \n61           NaN              1            1.0  \n62           NaN              4            4.0  \n63           NaN              2            2.0  \n64           NaN              4            4.0  \n65           NaN              1            1.0  \n\n[66 rows x 10 columns]",
      "text/html": "<div>\n<style scoped>\n    .dataframe tbody tr th:only-of-type {\n        vertical-align: middle;\n    }\n\n    .dataframe tbody tr th {\n        vertical-align: top;\n    }\n\n    .dataframe thead th {\n        text-align: right;\n    }\n</style>\n<table border=\"1\" class=\"dataframe\">\n  <thead>\n    <tr style=\"text-align: right;\">\n      <th></th>\n      <th>SubjectNumber</th>\n      <th>StudyID</th>\n      <th>Gender</th>\n      <th>Age</th>\n      <th>PrimaryCancer</th>\n      <th># mets</th>\n      <th>ROI status</th>\n      <th>Pre treatment</th>\n      <th>Number of BMs</th>\n      <th>Number_tumors</th>\n    </tr>\n  </thead>\n  <tbody>\n    <tr>\n      <th>0</th>\n      <td>Subject01</td>\n      <td>NaN</td>\n      <td>Male</td>\n      <td>58</td>\n      <td>mal.mel</td>\n      <td>2</td>\n      <td>NaN</td>\n      <td>WB, SRS</td>\n      <td>2</td>\n      <td>2.0</td>\n    </tr>\n    <tr>\n      <th>1</th>\n      <td>Subject02</td>\n      <td>NaN</td>\n      <td>Female</td>\n      <td>50</td>\n      <td>ca.pulm</td>\n      <td>7</td>\n      <td>NaN</td>\n      <td>WB</td>\n      <td>6</td>\n      <td>6.0</td>\n    </tr>\n    <tr>\n      <th>2</th>\n      <td>Subject03</td>\n      <td>NaN</td>\n      <td>Male</td>\n      <td>64</td>\n      <td>mal.mel</td>\n      <td>4</td>\n      <td>NaN</td>\n      <td>WB,SRS</td>\n      <td>4</td>\n      <td>4.0</td>\n    </tr>\n    <tr>\n      <th>3</th>\n      <td>Subject04</td>\n      <td>NaN</td>\n      <td>Male</td>\n      <td>56</td>\n      <td>mal.mel</td>\n      <td>1</td>\n      <td>NaN</td>\n      <td>No</td>\n      <td>1</td>\n      <td>1.0</td>\n    </tr>\n    <tr>\n      <th>4</th>\n      <td>Subject05</td>\n      <td>NaN</td>\n      <td>Female</td>\n      <td>54</td>\n      <td>mal.mel</td>\n      <td>1</td>\n      <td>?</td>\n      <td>SRS,PO</td>\n      <td>2</td>\n      <td>2.0</td>\n    </tr>\n    <tr>\n      <th>...</th>\n      <td>...</td>\n      <td>...</td>\n      <td>...</td>\n      <td>...</td>\n      <td>...</td>\n      <td>...</td>\n      <td>...</td>\n      <td>...</td>\n      <td>...</td>\n      <td>...</td>\n    </tr>\n    <tr>\n      <th>61</th>\n      <td>Subject62</td>\n      <td>NaN</td>\n      <td>Male</td>\n      <td>77</td>\n      <td>ca.pulm</td>\n      <td>?</td>\n      <td>NaN</td>\n      <td>NaN</td>\n      <td>1</td>\n      <td>1.0</td>\n    </tr>\n    <tr>\n      <th>62</th>\n      <td>Subject63</td>\n      <td>NaN</td>\n      <td>Male</td>\n      <td>32</td>\n      <td>mal.mel</td>\n      <td>?</td>\n      <td>NaN</td>\n      <td>NaN</td>\n      <td>4</td>\n      <td>4.0</td>\n    </tr>\n    <tr>\n      <th>63</th>\n      <td>Subject64</td>\n      <td>NaN</td>\n      <td>Female</td>\n      <td>63</td>\n      <td>ca.pulm</td>\n      <td>?</td>\n      <td>NaN</td>\n      <td>NaN</td>\n      <td>2</td>\n      <td>2.0</td>\n    </tr>\n    <tr>\n      <th>64</th>\n      <td>Subject65</td>\n      <td>NaN</td>\n      <td>Female</td>\n      <td>65</td>\n      <td>ca.pulm</td>\n      <td>?</td>\n      <td>NaN</td>\n      <td>NaN</td>\n      <td>4</td>\n      <td>4.0</td>\n    </tr>\n    <tr>\n      <th>65</th>\n      <td>Subject66</td>\n      <td>NaN</td>\n      <td>Female</td>\n      <td>78</td>\n      <td>mal.mel</td>\n      <td>?</td>\n      <td>NaN</td>\n      <td>NaN</td>\n      <td>1</td>\n      <td>1.0</td>\n    </tr>\n  </tbody>\n</table>\n<p>66 rows × 10 columns</p>\n</div>"
     },
     "execution_count": 12,
     "metadata": {},
     "output_type": "execute_result"
    }
   ],
   "source": [
    "oslo_labels = pd.merge(oslo, tumors_oslo, how=\"left\", on=[\"SubjectNumber\"])\n",
    "oslo_labels"
   ],
   "metadata": {
    "collapsed": false,
    "ExecuteTime": {
     "start_time": "2023-05-02T15:55:56.493564Z",
     "end_time": "2023-05-02T15:55:57.187140Z"
    }
   }
  },
  {
   "cell_type": "code",
   "execution_count": 13,
   "outputs": [
    {
     "data": {
      "text/plain": "SubjectNumber     object\nStudyID           object\nGender            object\nAge                int64\nPrimaryCancer     object\n# mets            object\nROI status        object\nPre treatment     object\nNumber of BMs      int64\nNumber_tumors    float64\ndtype: object"
     },
     "execution_count": 13,
     "metadata": {},
     "output_type": "execute_result"
    }
   ],
   "source": [
    "oslo_labels.dtypes"
   ],
   "metadata": {
    "collapsed": false,
    "ExecuteTime": {
     "start_time": "2023-05-02T15:55:56.493732Z",
     "end_time": "2023-05-02T15:55:57.187264Z"
    }
   }
  },
  {
   "cell_type": "code",
   "execution_count": 14,
   "outputs": [
    {
     "data": {
      "text/plain": "   SubjectNumber StudyID  Gender  Age PrimaryCancer # mets ROI status   \n56     Subject57     NaN  Female   52       ca.pulm      ?        NaN  \\\n57     Subject58     NaN    Male   74       ca.pulm      ?        NaN   \n\n   Pre treatment  Number of BMs  Number_tumors  \n56           NaN              1            NaN  \n57           NaN              1            NaN  ",
      "text/html": "<div>\n<style scoped>\n    .dataframe tbody tr th:only-of-type {\n        vertical-align: middle;\n    }\n\n    .dataframe tbody tr th {\n        vertical-align: top;\n    }\n\n    .dataframe thead th {\n        text-align: right;\n    }\n</style>\n<table border=\"1\" class=\"dataframe\">\n  <thead>\n    <tr style=\"text-align: right;\">\n      <th></th>\n      <th>SubjectNumber</th>\n      <th>StudyID</th>\n      <th>Gender</th>\n      <th>Age</th>\n      <th>PrimaryCancer</th>\n      <th># mets</th>\n      <th>ROI status</th>\n      <th>Pre treatment</th>\n      <th>Number of BMs</th>\n      <th>Number_tumors</th>\n    </tr>\n  </thead>\n  <tbody>\n    <tr>\n      <th>56</th>\n      <td>Subject57</td>\n      <td>NaN</td>\n      <td>Female</td>\n      <td>52</td>\n      <td>ca.pulm</td>\n      <td>?</td>\n      <td>NaN</td>\n      <td>NaN</td>\n      <td>1</td>\n      <td>NaN</td>\n    </tr>\n    <tr>\n      <th>57</th>\n      <td>Subject58</td>\n      <td>NaN</td>\n      <td>Male</td>\n      <td>74</td>\n      <td>ca.pulm</td>\n      <td>?</td>\n      <td>NaN</td>\n      <td>NaN</td>\n      <td>1</td>\n      <td>NaN</td>\n    </tr>\n  </tbody>\n</table>\n</div>"
     },
     "execution_count": 14,
     "metadata": {},
     "output_type": "execute_result"
    }
   ],
   "source": [
    "oslo_labels[oslo_labels['Number_tumors'].isna() == True] #due to problems of the SubjectId for Subject57 and Subject58 therefore we will drop it and so the other columns we dont need"
   ],
   "metadata": {
    "collapsed": false,
    "ExecuteTime": {
     "start_time": "2023-05-02T15:55:56.493814Z",
     "end_time": "2023-05-02T15:55:57.187358Z"
    }
   }
  },
  {
   "cell_type": "code",
   "execution_count": 15,
   "outputs": [
    {
     "data": {
      "text/plain": "   SubjectNumber  Gender  Age PrimaryCancer  Number of BMs\n0      Subject01    Male   58       mal.mel              2\n1      Subject02  Female   50       ca.pulm              6\n2      Subject03    Male   64       mal.mel              4\n3      Subject04    Male   56       mal.mel              1\n4      Subject05  Female   54       mal.mel              2\n..           ...     ...  ...           ...            ...\n61     Subject62    Male   77       ca.pulm              1\n62     Subject63    Male   32       mal.mel              4\n63     Subject64  Female   63       ca.pulm              2\n64     Subject65  Female   65       ca.pulm              4\n65     Subject66  Female   78       mal.mel              1\n\n[66 rows x 5 columns]",
      "text/html": "<div>\n<style scoped>\n    .dataframe tbody tr th:only-of-type {\n        vertical-align: middle;\n    }\n\n    .dataframe tbody tr th {\n        vertical-align: top;\n    }\n\n    .dataframe thead th {\n        text-align: right;\n    }\n</style>\n<table border=\"1\" class=\"dataframe\">\n  <thead>\n    <tr style=\"text-align: right;\">\n      <th></th>\n      <th>SubjectNumber</th>\n      <th>Gender</th>\n      <th>Age</th>\n      <th>PrimaryCancer</th>\n      <th>Number of BMs</th>\n    </tr>\n  </thead>\n  <tbody>\n    <tr>\n      <th>0</th>\n      <td>Subject01</td>\n      <td>Male</td>\n      <td>58</td>\n      <td>mal.mel</td>\n      <td>2</td>\n    </tr>\n    <tr>\n      <th>1</th>\n      <td>Subject02</td>\n      <td>Female</td>\n      <td>50</td>\n      <td>ca.pulm</td>\n      <td>6</td>\n    </tr>\n    <tr>\n      <th>2</th>\n      <td>Subject03</td>\n      <td>Male</td>\n      <td>64</td>\n      <td>mal.mel</td>\n      <td>4</td>\n    </tr>\n    <tr>\n      <th>3</th>\n      <td>Subject04</td>\n      <td>Male</td>\n      <td>56</td>\n      <td>mal.mel</td>\n      <td>1</td>\n    </tr>\n    <tr>\n      <th>4</th>\n      <td>Subject05</td>\n      <td>Female</td>\n      <td>54</td>\n      <td>mal.mel</td>\n      <td>2</td>\n    </tr>\n    <tr>\n      <th>...</th>\n      <td>...</td>\n      <td>...</td>\n      <td>...</td>\n      <td>...</td>\n      <td>...</td>\n    </tr>\n    <tr>\n      <th>61</th>\n      <td>Subject62</td>\n      <td>Male</td>\n      <td>77</td>\n      <td>ca.pulm</td>\n      <td>1</td>\n    </tr>\n    <tr>\n      <th>62</th>\n      <td>Subject63</td>\n      <td>Male</td>\n      <td>32</td>\n      <td>mal.mel</td>\n      <td>4</td>\n    </tr>\n    <tr>\n      <th>63</th>\n      <td>Subject64</td>\n      <td>Female</td>\n      <td>63</td>\n      <td>ca.pulm</td>\n      <td>2</td>\n    </tr>\n    <tr>\n      <th>64</th>\n      <td>Subject65</td>\n      <td>Female</td>\n      <td>65</td>\n      <td>ca.pulm</td>\n      <td>4</td>\n    </tr>\n    <tr>\n      <th>65</th>\n      <td>Subject66</td>\n      <td>Female</td>\n      <td>78</td>\n      <td>mal.mel</td>\n      <td>1</td>\n    </tr>\n  </tbody>\n</table>\n<p>66 rows × 5 columns</p>\n</div>"
     },
     "execution_count": 15,
     "metadata": {},
     "output_type": "execute_result"
    }
   ],
   "source": [
    "oslo_labels = oslo_labels.drop(['Number_tumors','StudyID','# mets', 'ROI status', 'Pre treatment'], axis=1)\n",
    "oslo_labels"
   ],
   "metadata": {
    "collapsed": false,
    "ExecuteTime": {
     "start_time": "2023-05-02T15:55:56.493929Z",
     "end_time": "2023-05-02T15:55:57.187751Z"
    }
   }
  },
  {
   "cell_type": "markdown",
   "source": [
    "## lets create some dummy variables for these table, dummy variables based on the primary cancer site(mal.mel and ca.pulm) and sex (Male and Female)"
   ],
   "metadata": {
    "collapsed": false
   }
  },
  {
   "cell_type": "code",
   "execution_count": 16,
   "outputs": [
    {
     "data": {
      "text/plain": "   SubjectNumber Gender  Age PrimaryCancer  Number of BMs Gender_Labels   \n0      Subject01      M   58      melanoma              2             M  \\\n1      Subject02      F   50          lung              6             F   \n2      Subject03      M   64      melanoma              4             M   \n3      Subject04      M   56      melanoma              1             M   \n4      Subject05      F   54      melanoma              2             F   \n..           ...    ...  ...           ...            ...           ...   \n61     Subject62      M   77          lung              1             M   \n62     Subject63      M   32      melanoma              4             M   \n63     Subject64      F   63          lung              2             F   \n64     Subject65      F   65          lung              4             F   \n65     Subject66      F   78      melanoma              1             F   \n\n   PrimaryCancer_Labels  \n0              melanoma  \n1                  lung  \n2              melanoma  \n3              melanoma  \n4              melanoma  \n..                  ...  \n61                 lung  \n62             melanoma  \n63                 lung  \n64                 lung  \n65             melanoma  \n\n[66 rows x 7 columns]",
      "text/html": "<div>\n<style scoped>\n    .dataframe tbody tr th:only-of-type {\n        vertical-align: middle;\n    }\n\n    .dataframe tbody tr th {\n        vertical-align: top;\n    }\n\n    .dataframe thead th {\n        text-align: right;\n    }\n</style>\n<table border=\"1\" class=\"dataframe\">\n  <thead>\n    <tr style=\"text-align: right;\">\n      <th></th>\n      <th>SubjectNumber</th>\n      <th>Gender</th>\n      <th>Age</th>\n      <th>PrimaryCancer</th>\n      <th>Number of BMs</th>\n      <th>Gender_Labels</th>\n      <th>PrimaryCancer_Labels</th>\n    </tr>\n  </thead>\n  <tbody>\n    <tr>\n      <th>0</th>\n      <td>Subject01</td>\n      <td>M</td>\n      <td>58</td>\n      <td>melanoma</td>\n      <td>2</td>\n      <td>M</td>\n      <td>melanoma</td>\n    </tr>\n    <tr>\n      <th>1</th>\n      <td>Subject02</td>\n      <td>F</td>\n      <td>50</td>\n      <td>lung</td>\n      <td>6</td>\n      <td>F</td>\n      <td>lung</td>\n    </tr>\n    <tr>\n      <th>2</th>\n      <td>Subject03</td>\n      <td>M</td>\n      <td>64</td>\n      <td>melanoma</td>\n      <td>4</td>\n      <td>M</td>\n      <td>melanoma</td>\n    </tr>\n    <tr>\n      <th>3</th>\n      <td>Subject04</td>\n      <td>M</td>\n      <td>56</td>\n      <td>melanoma</td>\n      <td>1</td>\n      <td>M</td>\n      <td>melanoma</td>\n    </tr>\n    <tr>\n      <th>4</th>\n      <td>Subject05</td>\n      <td>F</td>\n      <td>54</td>\n      <td>melanoma</td>\n      <td>2</td>\n      <td>F</td>\n      <td>melanoma</td>\n    </tr>\n    <tr>\n      <th>...</th>\n      <td>...</td>\n      <td>...</td>\n      <td>...</td>\n      <td>...</td>\n      <td>...</td>\n      <td>...</td>\n      <td>...</td>\n    </tr>\n    <tr>\n      <th>61</th>\n      <td>Subject62</td>\n      <td>M</td>\n      <td>77</td>\n      <td>lung</td>\n      <td>1</td>\n      <td>M</td>\n      <td>lung</td>\n    </tr>\n    <tr>\n      <th>62</th>\n      <td>Subject63</td>\n      <td>M</td>\n      <td>32</td>\n      <td>melanoma</td>\n      <td>4</td>\n      <td>M</td>\n      <td>melanoma</td>\n    </tr>\n    <tr>\n      <th>63</th>\n      <td>Subject64</td>\n      <td>F</td>\n      <td>63</td>\n      <td>lung</td>\n      <td>2</td>\n      <td>F</td>\n      <td>lung</td>\n    </tr>\n    <tr>\n      <th>64</th>\n      <td>Subject65</td>\n      <td>F</td>\n      <td>65</td>\n      <td>lung</td>\n      <td>4</td>\n      <td>F</td>\n      <td>lung</td>\n    </tr>\n    <tr>\n      <th>65</th>\n      <td>Subject66</td>\n      <td>F</td>\n      <td>78</td>\n      <td>melanoma</td>\n      <td>1</td>\n      <td>F</td>\n      <td>melanoma</td>\n    </tr>\n  </tbody>\n</table>\n<p>66 rows × 7 columns</p>\n</div>"
     },
     "execution_count": 16,
     "metadata": {},
     "output_type": "execute_result"
    }
   ],
   "source": [
    "oslo_labels.loc[oslo_labels['Gender'] == 'Male', 'Gender'] = 'M'\n",
    "oslo_labels.loc[oslo_labels['Gender'] == 'Female', 'Gender'] = 'F'\n",
    "\n",
    "oslo_labels.loc[oslo_labels['PrimaryCancer'] == 'mal.mel', 'PrimaryCancer'] = 'melanoma'\n",
    "oslo_labels.loc[oslo_labels['PrimaryCancer'] == 'ca.pulm', 'PrimaryCancer'] = 'lung'\n",
    "oslo_labels['Gender_Labels'] = oslo_labels[\"Gender\"]\n",
    "oslo_labels['PrimaryCancer_Labels'] = oslo_labels[\"PrimaryCancer\"]\n",
    "oslo_labels"
   ],
   "metadata": {
    "collapsed": false,
    "ExecuteTime": {
     "start_time": "2023-05-02T15:55:56.533309Z",
     "end_time": "2023-05-02T15:55:57.187888Z"
    }
   }
  },
  {
   "cell_type": "code",
   "execution_count": 17,
   "outputs": [
    {
     "data": {
      "text/plain": "   SubjectNumber Gender  Age PrimaryCancer  Number of BMs   \n0      Subject01      M   58      melanoma              2  \\\n1      Subject02      F   50          lung              6   \n2      Subject03      M   64      melanoma              4   \n3      Subject04      M   56      melanoma              1   \n4      Subject05      F   54      melanoma              2   \n..           ...    ...  ...           ...            ...   \n61     Subject62      M   77          lung              1   \n62     Subject63      M   32      melanoma              4   \n63     Subject64      F   63          lung              2   \n64     Subject65      F   65          lung              4   \n65     Subject66      F   78      melanoma              1   \n\n    PrimaryCancer_Labels_lung  PrimaryCancer_Labels_melanoma  Gender_Labels_F   \n0                           0                              1                0  \\\n1                           1                              0                1   \n2                           0                              1                0   \n3                           0                              1                0   \n4                           0                              1                1   \n..                        ...                            ...              ...   \n61                          1                              0                0   \n62                          0                              1                0   \n63                          1                              0                1   \n64                          1                              0                1   \n65                          0                              1                1   \n\n    Gender_Labels_M  \n0                 1  \n1                 0  \n2                 1  \n3                 1  \n4                 0  \n..              ...  \n61                1  \n62                1  \n63                0  \n64                0  \n65                0  \n\n[66 rows x 9 columns]",
      "text/html": "<div>\n<style scoped>\n    .dataframe tbody tr th:only-of-type {\n        vertical-align: middle;\n    }\n\n    .dataframe tbody tr th {\n        vertical-align: top;\n    }\n\n    .dataframe thead th {\n        text-align: right;\n    }\n</style>\n<table border=\"1\" class=\"dataframe\">\n  <thead>\n    <tr style=\"text-align: right;\">\n      <th></th>\n      <th>SubjectNumber</th>\n      <th>Gender</th>\n      <th>Age</th>\n      <th>PrimaryCancer</th>\n      <th>Number of BMs</th>\n      <th>PrimaryCancer_Labels_lung</th>\n      <th>PrimaryCancer_Labels_melanoma</th>\n      <th>Gender_Labels_F</th>\n      <th>Gender_Labels_M</th>\n    </tr>\n  </thead>\n  <tbody>\n    <tr>\n      <th>0</th>\n      <td>Subject01</td>\n      <td>M</td>\n      <td>58</td>\n      <td>melanoma</td>\n      <td>2</td>\n      <td>0</td>\n      <td>1</td>\n      <td>0</td>\n      <td>1</td>\n    </tr>\n    <tr>\n      <th>1</th>\n      <td>Subject02</td>\n      <td>F</td>\n      <td>50</td>\n      <td>lung</td>\n      <td>6</td>\n      <td>1</td>\n      <td>0</td>\n      <td>1</td>\n      <td>0</td>\n    </tr>\n    <tr>\n      <th>2</th>\n      <td>Subject03</td>\n      <td>M</td>\n      <td>64</td>\n      <td>melanoma</td>\n      <td>4</td>\n      <td>0</td>\n      <td>1</td>\n      <td>0</td>\n      <td>1</td>\n    </tr>\n    <tr>\n      <th>3</th>\n      <td>Subject04</td>\n      <td>M</td>\n      <td>56</td>\n      <td>melanoma</td>\n      <td>1</td>\n      <td>0</td>\n      <td>1</td>\n      <td>0</td>\n      <td>1</td>\n    </tr>\n    <tr>\n      <th>4</th>\n      <td>Subject05</td>\n      <td>F</td>\n      <td>54</td>\n      <td>melanoma</td>\n      <td>2</td>\n      <td>0</td>\n      <td>1</td>\n      <td>1</td>\n      <td>0</td>\n    </tr>\n    <tr>\n      <th>...</th>\n      <td>...</td>\n      <td>...</td>\n      <td>...</td>\n      <td>...</td>\n      <td>...</td>\n      <td>...</td>\n      <td>...</td>\n      <td>...</td>\n      <td>...</td>\n    </tr>\n    <tr>\n      <th>61</th>\n      <td>Subject62</td>\n      <td>M</td>\n      <td>77</td>\n      <td>lung</td>\n      <td>1</td>\n      <td>1</td>\n      <td>0</td>\n      <td>0</td>\n      <td>1</td>\n    </tr>\n    <tr>\n      <th>62</th>\n      <td>Subject63</td>\n      <td>M</td>\n      <td>32</td>\n      <td>melanoma</td>\n      <td>4</td>\n      <td>0</td>\n      <td>1</td>\n      <td>0</td>\n      <td>1</td>\n    </tr>\n    <tr>\n      <th>63</th>\n      <td>Subject64</td>\n      <td>F</td>\n      <td>63</td>\n      <td>lung</td>\n      <td>2</td>\n      <td>1</td>\n      <td>0</td>\n      <td>1</td>\n      <td>0</td>\n    </tr>\n    <tr>\n      <th>64</th>\n      <td>Subject65</td>\n      <td>F</td>\n      <td>65</td>\n      <td>lung</td>\n      <td>4</td>\n      <td>1</td>\n      <td>0</td>\n      <td>1</td>\n      <td>0</td>\n    </tr>\n    <tr>\n      <th>65</th>\n      <td>Subject66</td>\n      <td>F</td>\n      <td>78</td>\n      <td>melanoma</td>\n      <td>1</td>\n      <td>0</td>\n      <td>1</td>\n      <td>1</td>\n      <td>0</td>\n    </tr>\n  </tbody>\n</table>\n<p>66 rows × 9 columns</p>\n</div>"
     },
     "execution_count": 17,
     "metadata": {},
     "output_type": "execute_result"
    }
   ],
   "source": [
    "oslo_labels = pd.get_dummies(oslo_labels, columns=['PrimaryCancer_Labels'])\n",
    "oslo_labels = pd.get_dummies(oslo_labels, columns=['Gender_Labels'])\n",
    "oslo_labels['PrimaryCancer_Labels_lung'] = oslo_labels['PrimaryCancer_Labels_lung'].astype(int)\n",
    "oslo_labels['PrimaryCancer_Labels_melanoma'] = oslo_labels['PrimaryCancer_Labels_melanoma'].astype(int)\n",
    "oslo_labels['Gender_Labels_F'] = oslo_labels['Gender_Labels_F'].astype(int)\n",
    "oslo_labels['Gender_Labels_M'] = oslo_labels['Gender_Labels_M'].astype(int)\n",
    "oslo_labels"
   ],
   "metadata": {
    "collapsed": false,
    "ExecuteTime": {
     "start_time": "2023-05-02T15:55:56.533397Z",
     "end_time": "2023-05-02T15:55:57.187979Z"
    }
   }
  },
  {
   "cell_type": "code",
   "execution_count": 18,
   "outputs": [],
   "source": [
    "oslo_labels = oslo_labels.rename(columns={'PrimaryCancer_Labels_melanoma': 'Melanoma', 'PrimaryCancer_Labels_lung': 'Lung', 'Gender_Labels_F': 'F', 'Gender_Labels_M': 'M'})"
   ],
   "metadata": {
    "collapsed": false,
    "ExecuteTime": {
     "start_time": "2023-05-02T15:55:56.539200Z",
     "end_time": "2023-05-02T15:55:57.188029Z"
    }
   }
  },
  {
   "cell_type": "code",
   "execution_count": 19,
   "outputs": [
    {
     "data": {
      "text/plain": "   SubjectNumber Gender  Age PrimaryCancer  Number of BMs  Lung  Melanoma  F   \n0      Subject01      M   58      melanoma              2     0         1  0  \\\n1      Subject02      F   50          lung              6     1         0  1   \n2      Subject03      M   64      melanoma              4     0         1  0   \n3      Subject04      M   56      melanoma              1     0         1  0   \n4      Subject05      F   54      melanoma              2     0         1  1   \n..           ...    ...  ...           ...            ...   ...       ... ..   \n61     Subject62      M   77          lung              1     1         0  0   \n62     Subject63      M   32      melanoma              4     0         1  0   \n63     Subject64      F   63          lung              2     1         0  1   \n64     Subject65      F   65          lung              4     1         0  1   \n65     Subject66      F   78      melanoma              1     0         1  1   \n\n    M  number_annotations  \n0   1                   1  \n1   0                   1  \n2   1                   1  \n3   1                   1  \n4   0                   1  \n.. ..                 ...  \n61  1                   1  \n62  1                   1  \n63  0                   1  \n64  0                   1  \n65  0                   1  \n\n[66 rows x 10 columns]",
      "text/html": "<div>\n<style scoped>\n    .dataframe tbody tr th:only-of-type {\n        vertical-align: middle;\n    }\n\n    .dataframe tbody tr th {\n        vertical-align: top;\n    }\n\n    .dataframe thead th {\n        text-align: right;\n    }\n</style>\n<table border=\"1\" class=\"dataframe\">\n  <thead>\n    <tr style=\"text-align: right;\">\n      <th></th>\n      <th>SubjectNumber</th>\n      <th>Gender</th>\n      <th>Age</th>\n      <th>PrimaryCancer</th>\n      <th>Number of BMs</th>\n      <th>Lung</th>\n      <th>Melanoma</th>\n      <th>F</th>\n      <th>M</th>\n      <th>number_annotations</th>\n    </tr>\n  </thead>\n  <tbody>\n    <tr>\n      <th>0</th>\n      <td>Subject01</td>\n      <td>M</td>\n      <td>58</td>\n      <td>melanoma</td>\n      <td>2</td>\n      <td>0</td>\n      <td>1</td>\n      <td>0</td>\n      <td>1</td>\n      <td>1</td>\n    </tr>\n    <tr>\n      <th>1</th>\n      <td>Subject02</td>\n      <td>F</td>\n      <td>50</td>\n      <td>lung</td>\n      <td>6</td>\n      <td>1</td>\n      <td>0</td>\n      <td>1</td>\n      <td>0</td>\n      <td>1</td>\n    </tr>\n    <tr>\n      <th>2</th>\n      <td>Subject03</td>\n      <td>M</td>\n      <td>64</td>\n      <td>melanoma</td>\n      <td>4</td>\n      <td>0</td>\n      <td>1</td>\n      <td>0</td>\n      <td>1</td>\n      <td>1</td>\n    </tr>\n    <tr>\n      <th>3</th>\n      <td>Subject04</td>\n      <td>M</td>\n      <td>56</td>\n      <td>melanoma</td>\n      <td>1</td>\n      <td>0</td>\n      <td>1</td>\n      <td>0</td>\n      <td>1</td>\n      <td>1</td>\n    </tr>\n    <tr>\n      <th>4</th>\n      <td>Subject05</td>\n      <td>F</td>\n      <td>54</td>\n      <td>melanoma</td>\n      <td>2</td>\n      <td>0</td>\n      <td>1</td>\n      <td>1</td>\n      <td>0</td>\n      <td>1</td>\n    </tr>\n    <tr>\n      <th>...</th>\n      <td>...</td>\n      <td>...</td>\n      <td>...</td>\n      <td>...</td>\n      <td>...</td>\n      <td>...</td>\n      <td>...</td>\n      <td>...</td>\n      <td>...</td>\n      <td>...</td>\n    </tr>\n    <tr>\n      <th>61</th>\n      <td>Subject62</td>\n      <td>M</td>\n      <td>77</td>\n      <td>lung</td>\n      <td>1</td>\n      <td>1</td>\n      <td>0</td>\n      <td>0</td>\n      <td>1</td>\n      <td>1</td>\n    </tr>\n    <tr>\n      <th>62</th>\n      <td>Subject63</td>\n      <td>M</td>\n      <td>32</td>\n      <td>melanoma</td>\n      <td>4</td>\n      <td>0</td>\n      <td>1</td>\n      <td>0</td>\n      <td>1</td>\n      <td>1</td>\n    </tr>\n    <tr>\n      <th>63</th>\n      <td>Subject64</td>\n      <td>F</td>\n      <td>63</td>\n      <td>lung</td>\n      <td>2</td>\n      <td>1</td>\n      <td>0</td>\n      <td>1</td>\n      <td>0</td>\n      <td>1</td>\n    </tr>\n    <tr>\n      <th>64</th>\n      <td>Subject65</td>\n      <td>F</td>\n      <td>65</td>\n      <td>lung</td>\n      <td>4</td>\n      <td>1</td>\n      <td>0</td>\n      <td>1</td>\n      <td>0</td>\n      <td>1</td>\n    </tr>\n    <tr>\n      <th>65</th>\n      <td>Subject66</td>\n      <td>F</td>\n      <td>78</td>\n      <td>melanoma</td>\n      <td>1</td>\n      <td>0</td>\n      <td>1</td>\n      <td>1</td>\n      <td>0</td>\n      <td>1</td>\n    </tr>\n  </tbody>\n</table>\n<p>66 rows × 10 columns</p>\n</div>"
     },
     "execution_count": 19,
     "metadata": {},
     "output_type": "execute_result"
    }
   ],
   "source": [
    "def create_annotations(row):\n",
    "    annotations = row['PrimaryCancer'].split(',')\n",
    "    return len(annotations)\n",
    "\n",
    "oslo_labels['number_annotations'] = oslo_labels.apply(create_annotations, axis=1)\n",
    "oslo_labels"
   ],
   "metadata": {
    "collapsed": false,
    "ExecuteTime": {
     "start_time": "2023-05-02T15:55:56.548710Z",
     "end_time": "2023-05-02T15:55:57.188131Z"
    }
   }
  },
  {
   "cell_type": "markdown",
   "source": [
    "# Lets try move the columns a bit and create new columns that make up for 'breast' and 'other' in the standford dataset"
   ],
   "metadata": {
    "collapsed": false
   }
  },
  {
   "cell_type": "code",
   "execution_count": 20,
   "outputs": [
    {
     "data": {
      "text/plain": "   SubjectNumber Gender  Age PrimaryCancer  Number of BMs  Lung  Melanoma  F   \n0      Subject01      M   58      melanoma              2     0         1  0  \\\n1      Subject02      F   50          lung              6     1         0  1   \n2      Subject03      M   64      melanoma              4     0         1  0   \n3      Subject04      M   56      melanoma              1     0         1  0   \n4      Subject05      F   54      melanoma              2     0         1  1   \n..           ...    ...  ...           ...            ...   ...       ... ..   \n61     Subject62      M   77          lung              1     1         0  0   \n62     Subject63      M   32      melanoma              4     0         1  0   \n63     Subject64      F   63          lung              2     1         0  1   \n64     Subject65      F   65          lung              4     1         0  1   \n65     Subject66      F   78      melanoma              1     0         1  1   \n\n    M  number_annotations  other  breast  \n0   1                   1      0       0  \n1   0                   1      0       0  \n2   1                   1      0       0  \n3   1                   1      0       0  \n4   0                   1      0       0  \n.. ..                 ...    ...     ...  \n61  1                   1      0       0  \n62  1                   1      0       0  \n63  0                   1      0       0  \n64  0                   1      0       0  \n65  0                   1      0       0  \n\n[66 rows x 12 columns]",
      "text/html": "<div>\n<style scoped>\n    .dataframe tbody tr th:only-of-type {\n        vertical-align: middle;\n    }\n\n    .dataframe tbody tr th {\n        vertical-align: top;\n    }\n\n    .dataframe thead th {\n        text-align: right;\n    }\n</style>\n<table border=\"1\" class=\"dataframe\">\n  <thead>\n    <tr style=\"text-align: right;\">\n      <th></th>\n      <th>SubjectNumber</th>\n      <th>Gender</th>\n      <th>Age</th>\n      <th>PrimaryCancer</th>\n      <th>Number of BMs</th>\n      <th>Lung</th>\n      <th>Melanoma</th>\n      <th>F</th>\n      <th>M</th>\n      <th>number_annotations</th>\n      <th>other</th>\n      <th>breast</th>\n    </tr>\n  </thead>\n  <tbody>\n    <tr>\n      <th>0</th>\n      <td>Subject01</td>\n      <td>M</td>\n      <td>58</td>\n      <td>melanoma</td>\n      <td>2</td>\n      <td>0</td>\n      <td>1</td>\n      <td>0</td>\n      <td>1</td>\n      <td>1</td>\n      <td>0</td>\n      <td>0</td>\n    </tr>\n    <tr>\n      <th>1</th>\n      <td>Subject02</td>\n      <td>F</td>\n      <td>50</td>\n      <td>lung</td>\n      <td>6</td>\n      <td>1</td>\n      <td>0</td>\n      <td>1</td>\n      <td>0</td>\n      <td>1</td>\n      <td>0</td>\n      <td>0</td>\n    </tr>\n    <tr>\n      <th>2</th>\n      <td>Subject03</td>\n      <td>M</td>\n      <td>64</td>\n      <td>melanoma</td>\n      <td>4</td>\n      <td>0</td>\n      <td>1</td>\n      <td>0</td>\n      <td>1</td>\n      <td>1</td>\n      <td>0</td>\n      <td>0</td>\n    </tr>\n    <tr>\n      <th>3</th>\n      <td>Subject04</td>\n      <td>M</td>\n      <td>56</td>\n      <td>melanoma</td>\n      <td>1</td>\n      <td>0</td>\n      <td>1</td>\n      <td>0</td>\n      <td>1</td>\n      <td>1</td>\n      <td>0</td>\n      <td>0</td>\n    </tr>\n    <tr>\n      <th>4</th>\n      <td>Subject05</td>\n      <td>F</td>\n      <td>54</td>\n      <td>melanoma</td>\n      <td>2</td>\n      <td>0</td>\n      <td>1</td>\n      <td>1</td>\n      <td>0</td>\n      <td>1</td>\n      <td>0</td>\n      <td>0</td>\n    </tr>\n    <tr>\n      <th>...</th>\n      <td>...</td>\n      <td>...</td>\n      <td>...</td>\n      <td>...</td>\n      <td>...</td>\n      <td>...</td>\n      <td>...</td>\n      <td>...</td>\n      <td>...</td>\n      <td>...</td>\n      <td>...</td>\n      <td>...</td>\n    </tr>\n    <tr>\n      <th>61</th>\n      <td>Subject62</td>\n      <td>M</td>\n      <td>77</td>\n      <td>lung</td>\n      <td>1</td>\n      <td>1</td>\n      <td>0</td>\n      <td>0</td>\n      <td>1</td>\n      <td>1</td>\n      <td>0</td>\n      <td>0</td>\n    </tr>\n    <tr>\n      <th>62</th>\n      <td>Subject63</td>\n      <td>M</td>\n      <td>32</td>\n      <td>melanoma</td>\n      <td>4</td>\n      <td>0</td>\n      <td>1</td>\n      <td>0</td>\n      <td>1</td>\n      <td>1</td>\n      <td>0</td>\n      <td>0</td>\n    </tr>\n    <tr>\n      <th>63</th>\n      <td>Subject64</td>\n      <td>F</td>\n      <td>63</td>\n      <td>lung</td>\n      <td>2</td>\n      <td>1</td>\n      <td>0</td>\n      <td>1</td>\n      <td>0</td>\n      <td>1</td>\n      <td>0</td>\n      <td>0</td>\n    </tr>\n    <tr>\n      <th>64</th>\n      <td>Subject65</td>\n      <td>F</td>\n      <td>65</td>\n      <td>lung</td>\n      <td>4</td>\n      <td>1</td>\n      <td>0</td>\n      <td>1</td>\n      <td>0</td>\n      <td>1</td>\n      <td>0</td>\n      <td>0</td>\n    </tr>\n    <tr>\n      <th>65</th>\n      <td>Subject66</td>\n      <td>F</td>\n      <td>78</td>\n      <td>melanoma</td>\n      <td>1</td>\n      <td>0</td>\n      <td>1</td>\n      <td>1</td>\n      <td>0</td>\n      <td>1</td>\n      <td>0</td>\n      <td>0</td>\n    </tr>\n  </tbody>\n</table>\n<p>66 rows × 12 columns</p>\n</div>"
     },
     "execution_count": 20,
     "metadata": {},
     "output_type": "execute_result"
    }
   ],
   "source": [
    "oslo_labels['other'] = np.zeros(len(oslo_labels))\n",
    "oslo_labels['breast'] = np.zeros(len(oslo_labels))\n",
    "oslo_labels['other'] = oslo_labels['other'].astype(int)\n",
    "oslo_labels['breast'] = oslo_labels['breast'].astype(int)\n",
    "oslo_labels"
   ],
   "metadata": {
    "collapsed": false,
    "ExecuteTime": {
     "start_time": "2023-05-02T15:55:56.570258Z",
     "end_time": "2023-05-02T15:55:57.189187Z"
    }
   }
  },
  {
   "cell_type": "code",
   "execution_count": 21,
   "outputs": [
    {
     "data": {
      "text/plain": "['SubjectNumber',\n 'Number of BMs',\n 'Age',\n 'number_annotations',\n 'Gender',\n 'F',\n 'M',\n 'PrimaryCancer',\n 'breast',\n 'Lung',\n 'Melanoma',\n 'other']"
     },
     "execution_count": 21,
     "metadata": {},
     "output_type": "execute_result"
    }
   ],
   "source": [
    "temp_cols = oslo_labels.columns.tolist()\n",
    "index_numberofbms = oslo_labels.columns.get_loc('Number of BMs') # obtained index from the column 'NUmber of BMs'\n",
    "index_F = oslo_labels.columns.get_loc('F')\n",
    "index_M = oslo_labels.columns.get_loc('M')\n",
    "index_Gender = oslo_labels.columns.get_loc('Gender')\n",
    "index_primcancer = oslo_labels.columns.get_loc('PrimaryCancer')\n",
    "index_numannotations = oslo_labels.columns.get_loc('number_annotations')\n",
    "index_melanoma = oslo_labels.columns.get_loc('Melanoma')\n",
    "index_age = oslo_labels.columns.get_loc('Age')\n",
    "index_other = oslo_labels.columns.get_loc('other')\n",
    "index_breast = oslo_labels.columns.get_loc('breast')\n",
    "index_lung = oslo_labels.columns.get_loc('Lung')\n",
    "\n",
    "\n",
    "new_cols = temp_cols[0:1] + temp_cols[index_numberofbms:index_numberofbms + 1]  + temp_cols[index_age:index_age + 1] + temp_cols[index_numannotations:index_numannotations + 1] + temp_cols[index_Gender:index_Gender + 1] + temp_cols[index_F:index_M + 1] + temp_cols[index_primcancer:index_primcancer+1] + temp_cols[index_breast:index_breast+1] + temp_cols[index_lung:index_lung+1] + temp_cols[index_melanoma:index_melanoma+1] + temp_cols[index_other:index_other+1]\n",
    "\n",
    "new_cols"
   ],
   "metadata": {
    "collapsed": false,
    "ExecuteTime": {
     "start_time": "2023-05-02T15:55:56.590683Z",
     "end_time": "2023-05-02T15:55:57.189343Z"
    }
   }
  },
  {
   "cell_type": "code",
   "execution_count": 22,
   "outputs": [
    {
     "data": {
      "text/plain": "   SubjectNumber  Number of BMs  Age  number_annotations Gender  F  M   \n0      Subject01              2   58                   1      M  0  1  \\\n1      Subject02              6   50                   1      F  1  0   \n2      Subject03              4   64                   1      M  0  1   \n3      Subject04              1   56                   1      M  0  1   \n4      Subject05              2   54                   1      F  1  0   \n..           ...            ...  ...                 ...    ... .. ..   \n61     Subject62              1   77                   1      M  0  1   \n62     Subject63              4   32                   1      M  0  1   \n63     Subject64              2   63                   1      F  1  0   \n64     Subject65              4   65                   1      F  1  0   \n65     Subject66              1   78                   1      F  1  0   \n\n   PrimaryCancer  breast  Lung  Melanoma  other  \n0       melanoma       0     0         1      0  \n1           lung       0     1         0      0  \n2       melanoma       0     0         1      0  \n3       melanoma       0     0         1      0  \n4       melanoma       0     0         1      0  \n..           ...     ...   ...       ...    ...  \n61          lung       0     1         0      0  \n62      melanoma       0     0         1      0  \n63          lung       0     1         0      0  \n64          lung       0     1         0      0  \n65      melanoma       0     0         1      0  \n\n[66 rows x 12 columns]",
      "text/html": "<div>\n<style scoped>\n    .dataframe tbody tr th:only-of-type {\n        vertical-align: middle;\n    }\n\n    .dataframe tbody tr th {\n        vertical-align: top;\n    }\n\n    .dataframe thead th {\n        text-align: right;\n    }\n</style>\n<table border=\"1\" class=\"dataframe\">\n  <thead>\n    <tr style=\"text-align: right;\">\n      <th></th>\n      <th>SubjectNumber</th>\n      <th>Number of BMs</th>\n      <th>Age</th>\n      <th>number_annotations</th>\n      <th>Gender</th>\n      <th>F</th>\n      <th>M</th>\n      <th>PrimaryCancer</th>\n      <th>breast</th>\n      <th>Lung</th>\n      <th>Melanoma</th>\n      <th>other</th>\n    </tr>\n  </thead>\n  <tbody>\n    <tr>\n      <th>0</th>\n      <td>Subject01</td>\n      <td>2</td>\n      <td>58</td>\n      <td>1</td>\n      <td>M</td>\n      <td>0</td>\n      <td>1</td>\n      <td>melanoma</td>\n      <td>0</td>\n      <td>0</td>\n      <td>1</td>\n      <td>0</td>\n    </tr>\n    <tr>\n      <th>1</th>\n      <td>Subject02</td>\n      <td>6</td>\n      <td>50</td>\n      <td>1</td>\n      <td>F</td>\n      <td>1</td>\n      <td>0</td>\n      <td>lung</td>\n      <td>0</td>\n      <td>1</td>\n      <td>0</td>\n      <td>0</td>\n    </tr>\n    <tr>\n      <th>2</th>\n      <td>Subject03</td>\n      <td>4</td>\n      <td>64</td>\n      <td>1</td>\n      <td>M</td>\n      <td>0</td>\n      <td>1</td>\n      <td>melanoma</td>\n      <td>0</td>\n      <td>0</td>\n      <td>1</td>\n      <td>0</td>\n    </tr>\n    <tr>\n      <th>3</th>\n      <td>Subject04</td>\n      <td>1</td>\n      <td>56</td>\n      <td>1</td>\n      <td>M</td>\n      <td>0</td>\n      <td>1</td>\n      <td>melanoma</td>\n      <td>0</td>\n      <td>0</td>\n      <td>1</td>\n      <td>0</td>\n    </tr>\n    <tr>\n      <th>4</th>\n      <td>Subject05</td>\n      <td>2</td>\n      <td>54</td>\n      <td>1</td>\n      <td>F</td>\n      <td>1</td>\n      <td>0</td>\n      <td>melanoma</td>\n      <td>0</td>\n      <td>0</td>\n      <td>1</td>\n      <td>0</td>\n    </tr>\n    <tr>\n      <th>...</th>\n      <td>...</td>\n      <td>...</td>\n      <td>...</td>\n      <td>...</td>\n      <td>...</td>\n      <td>...</td>\n      <td>...</td>\n      <td>...</td>\n      <td>...</td>\n      <td>...</td>\n      <td>...</td>\n      <td>...</td>\n    </tr>\n    <tr>\n      <th>61</th>\n      <td>Subject62</td>\n      <td>1</td>\n      <td>77</td>\n      <td>1</td>\n      <td>M</td>\n      <td>0</td>\n      <td>1</td>\n      <td>lung</td>\n      <td>0</td>\n      <td>1</td>\n      <td>0</td>\n      <td>0</td>\n    </tr>\n    <tr>\n      <th>62</th>\n      <td>Subject63</td>\n      <td>4</td>\n      <td>32</td>\n      <td>1</td>\n      <td>M</td>\n      <td>0</td>\n      <td>1</td>\n      <td>melanoma</td>\n      <td>0</td>\n      <td>0</td>\n      <td>1</td>\n      <td>0</td>\n    </tr>\n    <tr>\n      <th>63</th>\n      <td>Subject64</td>\n      <td>2</td>\n      <td>63</td>\n      <td>1</td>\n      <td>F</td>\n      <td>1</td>\n      <td>0</td>\n      <td>lung</td>\n      <td>0</td>\n      <td>1</td>\n      <td>0</td>\n      <td>0</td>\n    </tr>\n    <tr>\n      <th>64</th>\n      <td>Subject65</td>\n      <td>4</td>\n      <td>65</td>\n      <td>1</td>\n      <td>F</td>\n      <td>1</td>\n      <td>0</td>\n      <td>lung</td>\n      <td>0</td>\n      <td>1</td>\n      <td>0</td>\n      <td>0</td>\n    </tr>\n    <tr>\n      <th>65</th>\n      <td>Subject66</td>\n      <td>1</td>\n      <td>78</td>\n      <td>1</td>\n      <td>F</td>\n      <td>1</td>\n      <td>0</td>\n      <td>melanoma</td>\n      <td>0</td>\n      <td>0</td>\n      <td>1</td>\n      <td>0</td>\n    </tr>\n  </tbody>\n</table>\n<p>66 rows × 12 columns</p>\n</div>"
     },
     "execution_count": 22,
     "metadata": {},
     "output_type": "execute_result"
    }
   ],
   "source": [
    "oslo_labels = oslo_labels[new_cols]\n",
    "oslo_labels"
   ],
   "metadata": {
    "collapsed": false,
    "ExecuteTime": {
     "start_time": "2023-05-02T15:55:56.604123Z",
     "end_time": "2023-05-02T15:55:58.185875Z"
    }
   }
  },
  {
   "cell_type": "code",
   "execution_count": 23,
   "outputs": [
    {
     "data": {
      "text/plain": "   SubjectNumber  Number_tumors  Age  number_annotations Sex  F  M    labels   \n0      Subject01              2   58                   1   M  0  1  melanoma  \\\n1      Subject02              6   50                   1   F  1  0      lung   \n2      Subject03              4   64                   1   M  0  1  melanoma   \n3      Subject04              1   56                   1   M  0  1  melanoma   \n4      Subject05              2   54                   1   F  1  0  melanoma   \n..           ...            ...  ...                 ...  .. .. ..       ...   \n61     Subject62              1   77                   1   M  0  1      lung   \n62     Subject63              4   32                   1   M  0  1  melanoma   \n63     Subject64              2   63                   1   F  1  0      lung   \n64     Subject65              4   65                   1   F  1  0      lung   \n65     Subject66              1   78                   1   F  1  0  melanoma   \n\n    breast  lung  melanoma  other  \n0        0     0         1      0  \n1        0     1         0      0  \n2        0     0         1      0  \n3        0     0         1      0  \n4        0     0         1      0  \n..     ...   ...       ...    ...  \n61       0     1         0      0  \n62       0     0         1      0  \n63       0     1         0      0  \n64       0     1         0      0  \n65       0     0         1      0  \n\n[66 rows x 12 columns]",
      "text/html": "<div>\n<style scoped>\n    .dataframe tbody tr th:only-of-type {\n        vertical-align: middle;\n    }\n\n    .dataframe tbody tr th {\n        vertical-align: top;\n    }\n\n    .dataframe thead th {\n        text-align: right;\n    }\n</style>\n<table border=\"1\" class=\"dataframe\">\n  <thead>\n    <tr style=\"text-align: right;\">\n      <th></th>\n      <th>SubjectNumber</th>\n      <th>Number_tumors</th>\n      <th>Age</th>\n      <th>number_annotations</th>\n      <th>Sex</th>\n      <th>F</th>\n      <th>M</th>\n      <th>labels</th>\n      <th>breast</th>\n      <th>lung</th>\n      <th>melanoma</th>\n      <th>other</th>\n    </tr>\n  </thead>\n  <tbody>\n    <tr>\n      <th>0</th>\n      <td>Subject01</td>\n      <td>2</td>\n      <td>58</td>\n      <td>1</td>\n      <td>M</td>\n      <td>0</td>\n      <td>1</td>\n      <td>melanoma</td>\n      <td>0</td>\n      <td>0</td>\n      <td>1</td>\n      <td>0</td>\n    </tr>\n    <tr>\n      <th>1</th>\n      <td>Subject02</td>\n      <td>6</td>\n      <td>50</td>\n      <td>1</td>\n      <td>F</td>\n      <td>1</td>\n      <td>0</td>\n      <td>lung</td>\n      <td>0</td>\n      <td>1</td>\n      <td>0</td>\n      <td>0</td>\n    </tr>\n    <tr>\n      <th>2</th>\n      <td>Subject03</td>\n      <td>4</td>\n      <td>64</td>\n      <td>1</td>\n      <td>M</td>\n      <td>0</td>\n      <td>1</td>\n      <td>melanoma</td>\n      <td>0</td>\n      <td>0</td>\n      <td>1</td>\n      <td>0</td>\n    </tr>\n    <tr>\n      <th>3</th>\n      <td>Subject04</td>\n      <td>1</td>\n      <td>56</td>\n      <td>1</td>\n      <td>M</td>\n      <td>0</td>\n      <td>1</td>\n      <td>melanoma</td>\n      <td>0</td>\n      <td>0</td>\n      <td>1</td>\n      <td>0</td>\n    </tr>\n    <tr>\n      <th>4</th>\n      <td>Subject05</td>\n      <td>2</td>\n      <td>54</td>\n      <td>1</td>\n      <td>F</td>\n      <td>1</td>\n      <td>0</td>\n      <td>melanoma</td>\n      <td>0</td>\n      <td>0</td>\n      <td>1</td>\n      <td>0</td>\n    </tr>\n    <tr>\n      <th>...</th>\n      <td>...</td>\n      <td>...</td>\n      <td>...</td>\n      <td>...</td>\n      <td>...</td>\n      <td>...</td>\n      <td>...</td>\n      <td>...</td>\n      <td>...</td>\n      <td>...</td>\n      <td>...</td>\n      <td>...</td>\n    </tr>\n    <tr>\n      <th>61</th>\n      <td>Subject62</td>\n      <td>1</td>\n      <td>77</td>\n      <td>1</td>\n      <td>M</td>\n      <td>0</td>\n      <td>1</td>\n      <td>lung</td>\n      <td>0</td>\n      <td>1</td>\n      <td>0</td>\n      <td>0</td>\n    </tr>\n    <tr>\n      <th>62</th>\n      <td>Subject63</td>\n      <td>4</td>\n      <td>32</td>\n      <td>1</td>\n      <td>M</td>\n      <td>0</td>\n      <td>1</td>\n      <td>melanoma</td>\n      <td>0</td>\n      <td>0</td>\n      <td>1</td>\n      <td>0</td>\n    </tr>\n    <tr>\n      <th>63</th>\n      <td>Subject64</td>\n      <td>2</td>\n      <td>63</td>\n      <td>1</td>\n      <td>F</td>\n      <td>1</td>\n      <td>0</td>\n      <td>lung</td>\n      <td>0</td>\n      <td>1</td>\n      <td>0</td>\n      <td>0</td>\n    </tr>\n    <tr>\n      <th>64</th>\n      <td>Subject65</td>\n      <td>4</td>\n      <td>65</td>\n      <td>1</td>\n      <td>F</td>\n      <td>1</td>\n      <td>0</td>\n      <td>lung</td>\n      <td>0</td>\n      <td>1</td>\n      <td>0</td>\n      <td>0</td>\n    </tr>\n    <tr>\n      <th>65</th>\n      <td>Subject66</td>\n      <td>1</td>\n      <td>78</td>\n      <td>1</td>\n      <td>F</td>\n      <td>1</td>\n      <td>0</td>\n      <td>melanoma</td>\n      <td>0</td>\n      <td>0</td>\n      <td>1</td>\n      <td>0</td>\n    </tr>\n  </tbody>\n</table>\n<p>66 rows × 12 columns</p>\n</div>"
     },
     "execution_count": 23,
     "metadata": {},
     "output_type": "execute_result"
    }
   ],
   "source": [
    "oslo_labels = oslo_labels.rename(columns={'Number of BMs': 'Number_tumors', 'Gender': 'Sex', 'PrimaryCancer': 'labels', 'Lung': 'lung', 'Melanoma': 'melanoma'})\n",
    "oslo_labels"
   ],
   "metadata": {
    "collapsed": false,
    "ExecuteTime": {
     "start_time": "2023-05-02T15:55:56.614967Z",
     "end_time": "2023-05-02T15:55:58.186150Z"
    }
   }
  },
  {
   "cell_type": "code",
   "execution_count": 24,
   "outputs": [],
   "source": [
    "oslo_labels.to_excel(r'oslo_labels.xlsx', index=False)"
   ],
   "metadata": {
    "collapsed": false,
    "ExecuteTime": {
     "start_time": "2023-05-02T15:55:56.633453Z",
     "end_time": "2023-05-02T15:55:58.186218Z"
    }
   }
  },
  {
   "cell_type": "markdown",
   "source": [
    "## Standford data set clean and creation  of dummy variables"
   ],
   "metadata": {
    "collapsed": false
   }
  },
  {
   "cell_type": "code",
   "execution_count": 3,
   "outputs": [
    {
     "data": {
      "text/plain": "     Patient_ID  Number_tumors\n0             5              3\n1             9             13\n2            10              3\n3            11              3\n4            13              2\n..          ...            ...\n151         321              5\n152         323             23\n153         326              1\n154         328             16\n155         338              4\n\n[156 rows x 2 columns]",
      "text/html": "<div>\n<style scoped>\n    .dataframe tbody tr th:only-of-type {\n        vertical-align: middle;\n    }\n\n    .dataframe tbody tr th {\n        vertical-align: top;\n    }\n\n    .dataframe thead th {\n        text-align: right;\n    }\n</style>\n<table border=\"1\" class=\"dataframe\">\n  <thead>\n    <tr style=\"text-align: right;\">\n      <th></th>\n      <th>Patient_ID</th>\n      <th>Number_tumors</th>\n    </tr>\n  </thead>\n  <tbody>\n    <tr>\n      <th>0</th>\n      <td>5</td>\n      <td>3</td>\n    </tr>\n    <tr>\n      <th>1</th>\n      <td>9</td>\n      <td>13</td>\n    </tr>\n    <tr>\n      <th>2</th>\n      <td>10</td>\n      <td>3</td>\n    </tr>\n    <tr>\n      <th>3</th>\n      <td>11</td>\n      <td>3</td>\n    </tr>\n    <tr>\n      <th>4</th>\n      <td>13</td>\n      <td>2</td>\n    </tr>\n    <tr>\n      <th>...</th>\n      <td>...</td>\n      <td>...</td>\n    </tr>\n    <tr>\n      <th>151</th>\n      <td>321</td>\n      <td>5</td>\n    </tr>\n    <tr>\n      <th>152</th>\n      <td>323</td>\n      <td>23</td>\n    </tr>\n    <tr>\n      <th>153</th>\n      <td>326</td>\n      <td>1</td>\n    </tr>\n    <tr>\n      <th>154</th>\n      <td>328</td>\n      <td>16</td>\n    </tr>\n    <tr>\n      <th>155</th>\n      <td>338</td>\n      <td>4</td>\n    </tr>\n  </tbody>\n</table>\n<p>156 rows × 2 columns</p>\n</div>"
     },
     "execution_count": 3,
     "metadata": {},
     "output_type": "execute_result"
    }
   ],
   "source": [
    "tumors_standford"
   ],
   "metadata": {
    "collapsed": false,
    "ExecuteTime": {
     "start_time": "2023-06-24T16:31:47.053370Z",
     "end_time": "2023-06-24T16:31:47.093669Z"
    }
   }
  },
  {
   "cell_type": "code",
   "execution_count": 4,
   "outputs": [
    {
     "data": {
      "text/plain": "Patient_ID       int64\nNumber_tumors    int64\ndtype: object"
     },
     "execution_count": 4,
     "metadata": {},
     "output_type": "execute_result"
    }
   ],
   "source": [
    "tumors_standford.dtypes"
   ],
   "metadata": {
    "collapsed": false,
    "ExecuteTime": {
     "start_time": "2023-06-24T16:32:01.186233Z",
     "end_time": "2023-06-24T16:32:01.189362Z"
    }
   }
  },
  {
   "cell_type": "code",
   "execution_count": 5,
   "outputs": [
    {
     "data": {
      "text/plain": "0"
     },
     "execution_count": 5,
     "metadata": {},
     "output_type": "execute_result"
    }
   ],
   "source": [
    "len(tumors_standford[tumors_standford['Number_tumors'].isna() == True]) #we have no missing values fro the number of tumors"
   ],
   "metadata": {
    "collapsed": false,
    "ExecuteTime": {
     "start_time": "2023-06-24T16:32:03.467361Z",
     "end_time": "2023-06-24T16:32:03.473246Z"
    }
   }
  },
  {
   "cell_type": "code",
   "execution_count": 6,
   "outputs": [
    {
     "data": {
      "text/plain": "     Patient_ID Scanner Type (GE, Emeryville, AMC) Scanner Strength (T)  Age   \n0             5                                 GE                  1,5   74  \\\n1             9                                 GE                    3   29   \n2            10                                 GE                    3   69   \n3            11                                 GE                  1,5   36   \n4            13                                 GE                    3   56   \n..          ...                                ...                  ...  ...   \n151         321                                NaN                  NaN   56   \n152         323                                NaN                  NaN   72   \n153         326                                NaN                  NaN   50   \n154         328                                NaN                  NaN   53   \n155         338                                NaN                  NaN   42   \n\n    Sex            Primary cancer type  Number of tumors  \n0     M                          NSCLC                 3  \n1     F                      breast ca                13  \n2     F                          NSCLC                 3  \n3     F                      breast ca                 3  \n4     F                          NSCLC                 2  \n..   ..                            ...               ...  \n151   M           calvarial metastases  Number of tumors  \n152   M  non small cell lung carcinoma  Number of tumors  \n153   M                  breast cancer  Number of tumors  \n154   M                    lung cancer  Number of tumors  \n155   F                    lung cancer  Number of tumors  \n\n[156 rows x 7 columns]",
      "text/html": "<div>\n<style scoped>\n    .dataframe tbody tr th:only-of-type {\n        vertical-align: middle;\n    }\n\n    .dataframe tbody tr th {\n        vertical-align: top;\n    }\n\n    .dataframe thead th {\n        text-align: right;\n    }\n</style>\n<table border=\"1\" class=\"dataframe\">\n  <thead>\n    <tr style=\"text-align: right;\">\n      <th></th>\n      <th>Patient_ID</th>\n      <th>Scanner Type (GE, Emeryville, AMC)</th>\n      <th>Scanner Strength (T)</th>\n      <th>Age</th>\n      <th>Sex</th>\n      <th>Primary cancer type</th>\n      <th>Number of tumors</th>\n    </tr>\n  </thead>\n  <tbody>\n    <tr>\n      <th>0</th>\n      <td>5</td>\n      <td>GE</td>\n      <td>1,5</td>\n      <td>74</td>\n      <td>M</td>\n      <td>NSCLC</td>\n      <td>3</td>\n    </tr>\n    <tr>\n      <th>1</th>\n      <td>9</td>\n      <td>GE</td>\n      <td>3</td>\n      <td>29</td>\n      <td>F</td>\n      <td>breast ca</td>\n      <td>13</td>\n    </tr>\n    <tr>\n      <th>2</th>\n      <td>10</td>\n      <td>GE</td>\n      <td>3</td>\n      <td>69</td>\n      <td>F</td>\n      <td>NSCLC</td>\n      <td>3</td>\n    </tr>\n    <tr>\n      <th>3</th>\n      <td>11</td>\n      <td>GE</td>\n      <td>1,5</td>\n      <td>36</td>\n      <td>F</td>\n      <td>breast ca</td>\n      <td>3</td>\n    </tr>\n    <tr>\n      <th>4</th>\n      <td>13</td>\n      <td>GE</td>\n      <td>3</td>\n      <td>56</td>\n      <td>F</td>\n      <td>NSCLC</td>\n      <td>2</td>\n    </tr>\n    <tr>\n      <th>...</th>\n      <td>...</td>\n      <td>...</td>\n      <td>...</td>\n      <td>...</td>\n      <td>...</td>\n      <td>...</td>\n      <td>...</td>\n    </tr>\n    <tr>\n      <th>151</th>\n      <td>321</td>\n      <td>NaN</td>\n      <td>NaN</td>\n      <td>56</td>\n      <td>M</td>\n      <td>calvarial metastases</td>\n      <td>Number of tumors</td>\n    </tr>\n    <tr>\n      <th>152</th>\n      <td>323</td>\n      <td>NaN</td>\n      <td>NaN</td>\n      <td>72</td>\n      <td>M</td>\n      <td>non small cell lung carcinoma</td>\n      <td>Number of tumors</td>\n    </tr>\n    <tr>\n      <th>153</th>\n      <td>326</td>\n      <td>NaN</td>\n      <td>NaN</td>\n      <td>50</td>\n      <td>M</td>\n      <td>breast cancer</td>\n      <td>Number of tumors</td>\n    </tr>\n    <tr>\n      <th>154</th>\n      <td>328</td>\n      <td>NaN</td>\n      <td>NaN</td>\n      <td>53</td>\n      <td>M</td>\n      <td>lung cancer</td>\n      <td>Number of tumors</td>\n    </tr>\n    <tr>\n      <th>155</th>\n      <td>338</td>\n      <td>NaN</td>\n      <td>NaN</td>\n      <td>42</td>\n      <td>F</td>\n      <td>lung cancer</td>\n      <td>Number of tumors</td>\n    </tr>\n  </tbody>\n</table>\n<p>156 rows × 7 columns</p>\n</div>"
     },
     "execution_count": 6,
     "metadata": {},
     "output_type": "execute_result"
    }
   ],
   "source": [
    "standford"
   ],
   "metadata": {
    "collapsed": false,
    "ExecuteTime": {
     "start_time": "2023-06-24T16:32:05.435518Z",
     "end_time": "2023-06-24T16:32:05.438636Z"
    }
   }
  },
  {
   "cell_type": "code",
   "execution_count": 7,
   "outputs": [
    {
     "data": {
      "text/plain": "Patient_ID                             int64\nScanner Type (GE, Emeryville, AMC)    object\nScanner Strength (T)                  object\nAge                                    int64\nSex                                   object\nPrimary cancer type                   object\nNumber of tumors                      object\ndtype: object"
     },
     "execution_count": 7,
     "metadata": {},
     "output_type": "execute_result"
    }
   ],
   "source": [
    "standford.dtypes"
   ],
   "metadata": {
    "collapsed": false,
    "ExecuteTime": {
     "start_time": "2023-06-24T16:32:13.231387Z",
     "end_time": "2023-06-24T16:32:13.272251Z"
    }
   }
  },
  {
   "cell_type": "code",
   "execution_count": 30,
   "outputs": [
    {
     "data": {
      "text/plain": "0"
     },
     "execution_count": 30,
     "metadata": {},
     "output_type": "execute_result"
    }
   ],
   "source": [
    "len(standford[standford['Age'].isna() == True]) #no missing values for age"
   ],
   "metadata": {
    "collapsed": false,
    "ExecuteTime": {
     "start_time": "2023-05-02T15:55:56.843360Z",
     "end_time": "2023-05-02T15:55:58.186792Z"
    }
   }
  },
  {
   "cell_type": "code",
   "execution_count": 31,
   "outputs": [
    {
     "data": {
      "text/plain": "0"
     },
     "execution_count": 31,
     "metadata": {},
     "output_type": "execute_result"
    }
   ],
   "source": [
    "len(standford[standford['Sex'].isna() == True]) #no missing values for sex"
   ],
   "metadata": {
    "collapsed": false,
    "ExecuteTime": {
     "start_time": "2023-05-02T15:55:56.843454Z",
     "end_time": "2023-05-02T15:55:58.186893Z"
    }
   }
  },
  {
   "cell_type": "code",
   "execution_count": 32,
   "outputs": [
    {
     "data": {
      "text/plain": "0"
     },
     "execution_count": 32,
     "metadata": {},
     "output_type": "execute_result"
    }
   ],
   "source": [
    "labels_sex = ['F', 'M']\n",
    "len(standford[standford['Sex'].isin(labels_sex) == False]) #there are no other values than the ones expected"
   ],
   "metadata": {
    "collapsed": false,
    "ExecuteTime": {
     "start_time": "2023-05-02T15:55:56.843534Z",
     "end_time": "2023-05-02T15:55:58.186981Z"
    }
   }
  },
  {
   "cell_type": "code",
   "execution_count": 33,
   "outputs": [],
   "source": [
    "standford['label_sex'] = standford['Sex']"
   ],
   "metadata": {
    "collapsed": false,
    "ExecuteTime": {
     "start_time": "2023-05-02T15:55:56.843586Z",
     "end_time": "2023-05-02T15:55:58.187027Z"
    }
   }
  },
  {
   "cell_type": "code",
   "execution_count": 34,
   "outputs": [
    {
     "data": {
      "text/plain": "     Patient_ID  Age Sex            Primary cancer type label_sex   \n0             5   74   M                          NSCLC         M  \\\n1             9   29   F                      breast ca         F   \n2            10   69   F                          NSCLC         F   \n3            11   36   F                      breast ca         F   \n4            13   56   F                          NSCLC         F   \n..          ...  ...  ..                            ...       ...   \n151         321   56   M           calvarial metastases         M   \n152         323   72   M  non small cell lung carcinoma         M   \n153         326   50   M                  breast cancer         M   \n154         328   53   M                    lung cancer         M   \n155         338   42   F                    lung cancer         F   \n\n     Number_tumors  \n0                3  \n1               13  \n2                3  \n3                3  \n4                2  \n..             ...  \n151              5  \n152             23  \n153              1  \n154             16  \n155              4  \n\n[156 rows x 6 columns]",
      "text/html": "<div>\n<style scoped>\n    .dataframe tbody tr th:only-of-type {\n        vertical-align: middle;\n    }\n\n    .dataframe tbody tr th {\n        vertical-align: top;\n    }\n\n    .dataframe thead th {\n        text-align: right;\n    }\n</style>\n<table border=\"1\" class=\"dataframe\">\n  <thead>\n    <tr style=\"text-align: right;\">\n      <th></th>\n      <th>Patient_ID</th>\n      <th>Age</th>\n      <th>Sex</th>\n      <th>Primary cancer type</th>\n      <th>label_sex</th>\n      <th>Number_tumors</th>\n    </tr>\n  </thead>\n  <tbody>\n    <tr>\n      <th>0</th>\n      <td>5</td>\n      <td>74</td>\n      <td>M</td>\n      <td>NSCLC</td>\n      <td>M</td>\n      <td>3</td>\n    </tr>\n    <tr>\n      <th>1</th>\n      <td>9</td>\n      <td>29</td>\n      <td>F</td>\n      <td>breast ca</td>\n      <td>F</td>\n      <td>13</td>\n    </tr>\n    <tr>\n      <th>2</th>\n      <td>10</td>\n      <td>69</td>\n      <td>F</td>\n      <td>NSCLC</td>\n      <td>F</td>\n      <td>3</td>\n    </tr>\n    <tr>\n      <th>3</th>\n      <td>11</td>\n      <td>36</td>\n      <td>F</td>\n      <td>breast ca</td>\n      <td>F</td>\n      <td>3</td>\n    </tr>\n    <tr>\n      <th>4</th>\n      <td>13</td>\n      <td>56</td>\n      <td>F</td>\n      <td>NSCLC</td>\n      <td>F</td>\n      <td>2</td>\n    </tr>\n    <tr>\n      <th>...</th>\n      <td>...</td>\n      <td>...</td>\n      <td>...</td>\n      <td>...</td>\n      <td>...</td>\n      <td>...</td>\n    </tr>\n    <tr>\n      <th>151</th>\n      <td>321</td>\n      <td>56</td>\n      <td>M</td>\n      <td>calvarial metastases</td>\n      <td>M</td>\n      <td>5</td>\n    </tr>\n    <tr>\n      <th>152</th>\n      <td>323</td>\n      <td>72</td>\n      <td>M</td>\n      <td>non small cell lung carcinoma</td>\n      <td>M</td>\n      <td>23</td>\n    </tr>\n    <tr>\n      <th>153</th>\n      <td>326</td>\n      <td>50</td>\n      <td>M</td>\n      <td>breast cancer</td>\n      <td>M</td>\n      <td>1</td>\n    </tr>\n    <tr>\n      <th>154</th>\n      <td>328</td>\n      <td>53</td>\n      <td>M</td>\n      <td>lung cancer</td>\n      <td>M</td>\n      <td>16</td>\n    </tr>\n    <tr>\n      <th>155</th>\n      <td>338</td>\n      <td>42</td>\n      <td>F</td>\n      <td>lung cancer</td>\n      <td>F</td>\n      <td>4</td>\n    </tr>\n  </tbody>\n</table>\n<p>156 rows × 6 columns</p>\n</div>"
     },
     "execution_count": 34,
     "metadata": {},
     "output_type": "execute_result"
    }
   ],
   "source": [
    "standford = standford.drop(['Scanner Type (GE, Emeryville, AMC)', 'Scanner Strength (T)', 'Number of tumors'], axis = 1)\n",
    "standford = pd.merge(standford, tumors_standford, how=\"left\", on=[\"Patient_ID\"])\n",
    "standford"
   ],
   "metadata": {
    "collapsed": false,
    "ExecuteTime": {
     "start_time": "2023-05-02T15:55:56.843627Z",
     "end_time": "2023-05-02T15:55:58.187134Z"
    }
   }
  },
  {
   "cell_type": "markdown",
   "source": [
    "## Clean Standford dataset Primary cancer type column"
   ],
   "metadata": {
    "collapsed": false
   }
  },
  {
   "cell_type": "code",
   "execution_count": 35,
   "outputs": [],
   "source": [
    "standford.loc[standford['Primary cancer type'] == 'breast ca', 'Primary cancer type'] = 'breast_cancer'\n",
    "standford.loc[standford['Primary cancer type'] == 'Breast ca', 'Primary cancer type'] = 'breast_cancer'\n",
    "standford.loc[standford['Primary cancer type'] == 'small cell lung cancer', 'Primary cancer type'] = 'SCLC'\n",
    "standford.loc[standford['Primary cancer type'] == 'squamous cell lung cancer', 'Primary cancer type'] = 'NSCLC'\n",
    "standford.loc[standford['Primary cancer type'] == 'breast cancer', 'Primary cancer type'] = 'breast_cancer'\n",
    "standford.loc[standford['Primary cancer type'] == 'Melanoma', 'Primary cancer type'] = 'melanoma'\n",
    "standford.loc[standford['Primary cancer type'] == 'kidney ca', 'Primary cancer type'] = 'kidney'\n",
    "standford.loc[standford['Primary cancer type'] == 'lung adenocarcinoma', 'Primary cancer type'] = 'NSCLC'\n",
    "standford.loc[standford['Primary cancer type'] == 'Lung adenocarcinoma', 'Primary cancer type'] = 'NSCLC'\n",
    "standford.loc[standford['Primary cancer type'] == 'uterine cancer', 'Primary cancer type'] = 'uterus'\n",
    "standford.loc[standford['Primary cancer type'] == 'metastatic melanoma', 'Primary cancer type'] = 'melanoma'\n",
    "standford.loc[standford['Primary cancer type'] == 'brain metastatic lesions', 'Primary cancer type'] = 'brain'\n",
    "standford.loc[standford['Primary cancer type'] == 'metastatic NSCLC', 'Primary cancer type'] = 'NSCLC'\n",
    "standford.loc[standford['Primary cancer type'] == 'brain metastases', 'Primary cancer type'] = 'brain'\n",
    "standford.loc[standford['Primary cancer type'] == 'brain metastastic lesions', 'Primary cancer type'] = 'brain'\n",
    "standford.loc[standford['Primary cancer type'] == 'brain metastatic lesions', 'Primary cancer type'] = 'brain'\n",
    "standford.loc[standford['Primary cancer type'] == 'metastatic lung cancer', 'Primary cancer type'] = 'lung_cancer'\n",
    "standford.loc[standford['Primary cancer type'] == 'lung cancer', 'Primary cancer type'] = 'lung_cancer'\n",
    "standford.loc[standford['Primary cancer type'] == 'metastatic breast cancer', 'Primary cancer type'] = 'breast_cancer'\n",
    "standford.loc[standford['Primary cancer type'] == 'non small cell lung carcinoma', 'Primary cancer type'] = 'NSCLC'\n",
    "standford.loc[standford['Primary cancer type'] == 'Colon ca', 'Primary cancer type'] = 'colon'\n",
    "standford.loc[standford['Primary cancer type'] == 'scc lungs', 'Primary cancer type'] = 'NSCLC'\n",
    "standford.loc[standford['Primary cancer type'] == 'intercranial lung mets', 'Primary cancer type'] = 'lung_cancer'\n",
    "standford.loc[standford['Primary cancer type'] == 'frontal lobe lung metastases', 'Primary cancer type'] = 'lung_cancer'\n",
    "standford.loc[standford['Primary cancer type'] == 'squamous cell carcinoma of lung', 'Primary cancer type'] = 'lung_cancer'\n",
    "standford.loc[standford['Primary cancer type'] == 'breast_cancer', 'Primary cancer type'] = 'breast'\n",
    "standford.loc[standford['Primary cancer type'] == 'f/u multiple brain metastases', 'Primary cancer type'] = 'brain'\n",
    "standford.loc[standford['Primary cancer type'] == 'lung_cancer', 'Primary cancer type'] = 'lung'\n",
    "standford.loc[standford['Primary cancer type'] == 'NSCLC', 'Primary cancer type'] = 'lung'\n",
    "standford.loc[standford['Primary cancer type'] == 'SCLC', 'Primary cancer type'] = 'lung'\n"
   ],
   "metadata": {
    "collapsed": false,
    "ExecuteTime": {
     "start_time": "2023-05-02T15:55:56.843828Z",
     "end_time": "2023-05-02T15:55:58.187230Z"
    }
   }
  },
  {
   "cell_type": "code",
   "execution_count": 36,
   "outputs": [
    {
     "data": {
      "text/plain": "Patient_ID                   298\nAge                           54\nSex                            M\nPrimary cancer type    COME BACK\nlabel_sex                      M\nNumber_tumors                  3\nName: 138, dtype: object"
     },
     "execution_count": 36,
     "metadata": {},
     "output_type": "execute_result"
    }
   ],
   "source": [
    "#patients 297 (index 138) does not have a label nor someething similar. We are going to have delete this one patient\n",
    "standford.iloc[138, :]"
   ],
   "metadata": {
    "collapsed": false,
    "ExecuteTime": {
     "start_time": "2023-05-02T15:55:56.865933Z",
     "end_time": "2023-05-02T15:55:58.187357Z"
    }
   }
  },
  {
   "cell_type": "code",
   "execution_count": 37,
   "outputs": [],
   "source": [
    "standford = standford.drop(labels=138, axis = 0)"
   ],
   "metadata": {
    "collapsed": false,
    "ExecuteTime": {
     "start_time": "2023-05-02T15:55:56.868919Z",
     "end_time": "2023-05-02T15:55:58.187401Z"
    }
   }
  },
  {
   "cell_type": "code",
   "execution_count": 38,
   "outputs": [
    {
     "data": {
      "text/plain": "     Patient_ID  Age Sex   Primary cancer type label_sex  Number_tumors\n0             5   74   M                  lung         M              3\n1             9   29   F                breast         F             13\n2            10   69   F                  lung         F              3\n3            11   36   F                breast         F              3\n4            13   56   F                  lung         F              2\n..          ...  ...  ..                   ...       ...            ...\n151         321   56   M  calvarial metastases         M              5\n152         323   72   M                  lung         M             23\n153         326   50   M                breast         M              1\n154         328   53   M                  lung         M             16\n155         338   42   F                  lung         F              4\n\n[155 rows x 6 columns]",
      "text/html": "<div>\n<style scoped>\n    .dataframe tbody tr th:only-of-type {\n        vertical-align: middle;\n    }\n\n    .dataframe tbody tr th {\n        vertical-align: top;\n    }\n\n    .dataframe thead th {\n        text-align: right;\n    }\n</style>\n<table border=\"1\" class=\"dataframe\">\n  <thead>\n    <tr style=\"text-align: right;\">\n      <th></th>\n      <th>Patient_ID</th>\n      <th>Age</th>\n      <th>Sex</th>\n      <th>Primary cancer type</th>\n      <th>label_sex</th>\n      <th>Number_tumors</th>\n    </tr>\n  </thead>\n  <tbody>\n    <tr>\n      <th>0</th>\n      <td>5</td>\n      <td>74</td>\n      <td>M</td>\n      <td>lung</td>\n      <td>M</td>\n      <td>3</td>\n    </tr>\n    <tr>\n      <th>1</th>\n      <td>9</td>\n      <td>29</td>\n      <td>F</td>\n      <td>breast</td>\n      <td>F</td>\n      <td>13</td>\n    </tr>\n    <tr>\n      <th>2</th>\n      <td>10</td>\n      <td>69</td>\n      <td>F</td>\n      <td>lung</td>\n      <td>F</td>\n      <td>3</td>\n    </tr>\n    <tr>\n      <th>3</th>\n      <td>11</td>\n      <td>36</td>\n      <td>F</td>\n      <td>breast</td>\n      <td>F</td>\n      <td>3</td>\n    </tr>\n    <tr>\n      <th>4</th>\n      <td>13</td>\n      <td>56</td>\n      <td>F</td>\n      <td>lung</td>\n      <td>F</td>\n      <td>2</td>\n    </tr>\n    <tr>\n      <th>...</th>\n      <td>...</td>\n      <td>...</td>\n      <td>...</td>\n      <td>...</td>\n      <td>...</td>\n      <td>...</td>\n    </tr>\n    <tr>\n      <th>151</th>\n      <td>321</td>\n      <td>56</td>\n      <td>M</td>\n      <td>calvarial metastases</td>\n      <td>M</td>\n      <td>5</td>\n    </tr>\n    <tr>\n      <th>152</th>\n      <td>323</td>\n      <td>72</td>\n      <td>M</td>\n      <td>lung</td>\n      <td>M</td>\n      <td>23</td>\n    </tr>\n    <tr>\n      <th>153</th>\n      <td>326</td>\n      <td>50</td>\n      <td>M</td>\n      <td>breast</td>\n      <td>M</td>\n      <td>1</td>\n    </tr>\n    <tr>\n      <th>154</th>\n      <td>328</td>\n      <td>53</td>\n      <td>M</td>\n      <td>lung</td>\n      <td>M</td>\n      <td>16</td>\n    </tr>\n    <tr>\n      <th>155</th>\n      <td>338</td>\n      <td>42</td>\n      <td>F</td>\n      <td>lung</td>\n      <td>F</td>\n      <td>4</td>\n    </tr>\n  </tbody>\n</table>\n<p>155 rows × 6 columns</p>\n</div>"
     },
     "execution_count": 38,
     "metadata": {},
     "output_type": "execute_result"
    }
   ],
   "source": [
    "standford"
   ],
   "metadata": {
    "collapsed": false,
    "ExecuteTime": {
     "start_time": "2023-05-02T15:55:56.881283Z",
     "end_time": "2023-05-02T15:55:58.187481Z"
    }
   }
  },
  {
   "cell_type": "markdown",
   "source": [
    "## we would like to know the number of annotations made for primary cancer type, if more than 1 it will be on the test set"
   ],
   "metadata": {
    "collapsed": false
   }
  },
  {
   "cell_type": "code",
   "execution_count": 39,
   "outputs": [
    {
     "data": {
      "text/plain": "     Patient_ID  Age Sex   Primary cancer type label_sex  Number_tumors   \n0             5   74   M                  lung         M              3  \\\n1             9   29   F                breast         F             13   \n2            10   69   F                  lung         F              3   \n3            11   36   F                breast         F              3   \n4            13   56   F                  lung         F              2   \n..          ...  ...  ..                   ...       ...            ...   \n151         321   56   M  calvarial metastases         M              5   \n152         323   72   M                  lung         M             23   \n153         326   50   M                breast         M              1   \n154         328   53   M                  lung         M             16   \n155         338   42   F                  lung         F              4   \n\n     number_annotations  \n0                     1  \n1                     1  \n2                     1  \n3                     1  \n4                     1  \n..                  ...  \n151                   1  \n152                   1  \n153                   1  \n154                   1  \n155                   1  \n\n[155 rows x 7 columns]",
      "text/html": "<div>\n<style scoped>\n    .dataframe tbody tr th:only-of-type {\n        vertical-align: middle;\n    }\n\n    .dataframe tbody tr th {\n        vertical-align: top;\n    }\n\n    .dataframe thead th {\n        text-align: right;\n    }\n</style>\n<table border=\"1\" class=\"dataframe\">\n  <thead>\n    <tr style=\"text-align: right;\">\n      <th></th>\n      <th>Patient_ID</th>\n      <th>Age</th>\n      <th>Sex</th>\n      <th>Primary cancer type</th>\n      <th>label_sex</th>\n      <th>Number_tumors</th>\n      <th>number_annotations</th>\n    </tr>\n  </thead>\n  <tbody>\n    <tr>\n      <th>0</th>\n      <td>5</td>\n      <td>74</td>\n      <td>M</td>\n      <td>lung</td>\n      <td>M</td>\n      <td>3</td>\n      <td>1</td>\n    </tr>\n    <tr>\n      <th>1</th>\n      <td>9</td>\n      <td>29</td>\n      <td>F</td>\n      <td>breast</td>\n      <td>F</td>\n      <td>13</td>\n      <td>1</td>\n    </tr>\n    <tr>\n      <th>2</th>\n      <td>10</td>\n      <td>69</td>\n      <td>F</td>\n      <td>lung</td>\n      <td>F</td>\n      <td>3</td>\n      <td>1</td>\n    </tr>\n    <tr>\n      <th>3</th>\n      <td>11</td>\n      <td>36</td>\n      <td>F</td>\n      <td>breast</td>\n      <td>F</td>\n      <td>3</td>\n      <td>1</td>\n    </tr>\n    <tr>\n      <th>4</th>\n      <td>13</td>\n      <td>56</td>\n      <td>F</td>\n      <td>lung</td>\n      <td>F</td>\n      <td>2</td>\n      <td>1</td>\n    </tr>\n    <tr>\n      <th>...</th>\n      <td>...</td>\n      <td>...</td>\n      <td>...</td>\n      <td>...</td>\n      <td>...</td>\n      <td>...</td>\n      <td>...</td>\n    </tr>\n    <tr>\n      <th>151</th>\n      <td>321</td>\n      <td>56</td>\n      <td>M</td>\n      <td>calvarial metastases</td>\n      <td>M</td>\n      <td>5</td>\n      <td>1</td>\n    </tr>\n    <tr>\n      <th>152</th>\n      <td>323</td>\n      <td>72</td>\n      <td>M</td>\n      <td>lung</td>\n      <td>M</td>\n      <td>23</td>\n      <td>1</td>\n    </tr>\n    <tr>\n      <th>153</th>\n      <td>326</td>\n      <td>50</td>\n      <td>M</td>\n      <td>breast</td>\n      <td>M</td>\n      <td>1</td>\n      <td>1</td>\n    </tr>\n    <tr>\n      <th>154</th>\n      <td>328</td>\n      <td>53</td>\n      <td>M</td>\n      <td>lung</td>\n      <td>M</td>\n      <td>16</td>\n      <td>1</td>\n    </tr>\n    <tr>\n      <th>155</th>\n      <td>338</td>\n      <td>42</td>\n      <td>F</td>\n      <td>lung</td>\n      <td>F</td>\n      <td>4</td>\n      <td>1</td>\n    </tr>\n  </tbody>\n</table>\n<p>155 rows × 7 columns</p>\n</div>"
     },
     "execution_count": 39,
     "metadata": {},
     "output_type": "execute_result"
    }
   ],
   "source": [
    "def create_annotations(row):\n",
    "    annotations = row['Primary cancer type'].split(',')\n",
    "    return len(annotations)\n",
    "\n",
    "standford['number_annotations'] = standford.apply(create_annotations, axis=1)\n",
    "standford"
   ],
   "metadata": {
    "collapsed": false,
    "ExecuteTime": {
     "start_time": "2023-05-02T15:55:56.884974Z",
     "end_time": "2023-05-02T15:55:58.187574Z"
    }
   }
  },
  {
   "cell_type": "markdown",
   "source": [
    "## create a new column with the same labels from Primary cancer type"
   ],
   "metadata": {
    "collapsed": false
   }
  },
  {
   "cell_type": "code",
   "execution_count": 40,
   "outputs": [
    {
     "data": {
      "text/plain": "     Patient_ID  Age Sex   Primary cancer type label_sex  Number_tumors   \n0             5   74   M                  lung         M              3  \\\n1             9   29   F                breast         F             13   \n2            10   69   F                  lung         F              3   \n3            11   36   F                breast         F              3   \n4            13   56   F                  lung         F              2   \n..          ...  ...  ..                   ...       ...            ...   \n151         321   56   M  calvarial metastases         M              5   \n152         323   72   M                  lung         M             23   \n153         326   50   M                breast         M              1   \n154         328   53   M                  lung         M             16   \n155         338   42   F                  lung         F              4   \n\n     number_annotations  labels  \n0                     1    lung  \n1                     1  breast  \n2                     1    lung  \n3                     1  breast  \n4                     1    lung  \n..                  ...     ...  \n151                   1   other  \n152                   1    lung  \n153                   1  breast  \n154                   1    lung  \n155                   1    lung  \n\n[155 rows x 8 columns]",
      "text/html": "<div>\n<style scoped>\n    .dataframe tbody tr th:only-of-type {\n        vertical-align: middle;\n    }\n\n    .dataframe tbody tr th {\n        vertical-align: top;\n    }\n\n    .dataframe thead th {\n        text-align: right;\n    }\n</style>\n<table border=\"1\" class=\"dataframe\">\n  <thead>\n    <tr style=\"text-align: right;\">\n      <th></th>\n      <th>Patient_ID</th>\n      <th>Age</th>\n      <th>Sex</th>\n      <th>Primary cancer type</th>\n      <th>label_sex</th>\n      <th>Number_tumors</th>\n      <th>number_annotations</th>\n      <th>labels</th>\n    </tr>\n  </thead>\n  <tbody>\n    <tr>\n      <th>0</th>\n      <td>5</td>\n      <td>74</td>\n      <td>M</td>\n      <td>lung</td>\n      <td>M</td>\n      <td>3</td>\n      <td>1</td>\n      <td>lung</td>\n    </tr>\n    <tr>\n      <th>1</th>\n      <td>9</td>\n      <td>29</td>\n      <td>F</td>\n      <td>breast</td>\n      <td>F</td>\n      <td>13</td>\n      <td>1</td>\n      <td>breast</td>\n    </tr>\n    <tr>\n      <th>2</th>\n      <td>10</td>\n      <td>69</td>\n      <td>F</td>\n      <td>lung</td>\n      <td>F</td>\n      <td>3</td>\n      <td>1</td>\n      <td>lung</td>\n    </tr>\n    <tr>\n      <th>3</th>\n      <td>11</td>\n      <td>36</td>\n      <td>F</td>\n      <td>breast</td>\n      <td>F</td>\n      <td>3</td>\n      <td>1</td>\n      <td>breast</td>\n    </tr>\n    <tr>\n      <th>4</th>\n      <td>13</td>\n      <td>56</td>\n      <td>F</td>\n      <td>lung</td>\n      <td>F</td>\n      <td>2</td>\n      <td>1</td>\n      <td>lung</td>\n    </tr>\n    <tr>\n      <th>...</th>\n      <td>...</td>\n      <td>...</td>\n      <td>...</td>\n      <td>...</td>\n      <td>...</td>\n      <td>...</td>\n      <td>...</td>\n      <td>...</td>\n    </tr>\n    <tr>\n      <th>151</th>\n      <td>321</td>\n      <td>56</td>\n      <td>M</td>\n      <td>calvarial metastases</td>\n      <td>M</td>\n      <td>5</td>\n      <td>1</td>\n      <td>other</td>\n    </tr>\n    <tr>\n      <th>152</th>\n      <td>323</td>\n      <td>72</td>\n      <td>M</td>\n      <td>lung</td>\n      <td>M</td>\n      <td>23</td>\n      <td>1</td>\n      <td>lung</td>\n    </tr>\n    <tr>\n      <th>153</th>\n      <td>326</td>\n      <td>50</td>\n      <td>M</td>\n      <td>breast</td>\n      <td>M</td>\n      <td>1</td>\n      <td>1</td>\n      <td>breast</td>\n    </tr>\n    <tr>\n      <th>154</th>\n      <td>328</td>\n      <td>53</td>\n      <td>M</td>\n      <td>lung</td>\n      <td>M</td>\n      <td>16</td>\n      <td>1</td>\n      <td>lung</td>\n    </tr>\n    <tr>\n      <th>155</th>\n      <td>338</td>\n      <td>42</td>\n      <td>F</td>\n      <td>lung</td>\n      <td>F</td>\n      <td>4</td>\n      <td>1</td>\n      <td>lung</td>\n    </tr>\n  </tbody>\n</table>\n<p>155 rows × 8 columns</p>\n</div>"
     },
     "execution_count": 40,
     "metadata": {},
     "output_type": "execute_result"
    }
   ],
   "source": [
    "# Create a list of values to check for\n",
    "cancer_list = ['breast', 'lung', 'melanoma']\n",
    "\n",
    "# Define a function to create the labels column\n",
    "def create_labels(row):\n",
    "    if row['Primary cancer type'] in cancer_list:\n",
    "        return row['Primary cancer type']\n",
    "    else:\n",
    "        return 'other'\n",
    "\n",
    "# Apply the function to create the labels column\n",
    "standford['labels'] = standford.apply(create_labels, axis=1)\n",
    "standford"
   ],
   "metadata": {
    "collapsed": false,
    "ExecuteTime": {
     "start_time": "2023-05-02T15:55:56.903158Z",
     "end_time": "2023-05-02T15:55:58.187672Z"
    }
   }
  },
  {
   "cell_type": "code",
   "execution_count": 41,
   "outputs": [
    {
     "data": {
      "text/plain": "     Patient_ID  Age Sex   Primary cancer type label_sex  Number_tumors   \n0             5   74   M                  lung         M              3  \\\n1             9   29   F                breast         F             13   \n2            10   69   F                  lung         F              3   \n3            11   36   F                breast         F              3   \n4            13   56   F                  lung         F              2   \n..          ...  ...  ..                   ...       ...            ...   \n151         321   56   M  calvarial metastases         M              5   \n152         323   72   M                  lung         M             23   \n153         326   50   M                breast         M              1   \n154         328   53   M                  lung         M             16   \n155         338   42   F                  lung         F              4   \n\n     number_annotations  labels  Labels  \n0                     1    lung    lung  \n1                     1  breast  breast  \n2                     1    lung    lung  \n3                     1  breast  breast  \n4                     1    lung    lung  \n..                  ...     ...     ...  \n151                   1   other   other  \n152                   1    lung    lung  \n153                   1  breast  breast  \n154                   1    lung    lung  \n155                   1    lung    lung  \n\n[155 rows x 9 columns]",
      "text/html": "<div>\n<style scoped>\n    .dataframe tbody tr th:only-of-type {\n        vertical-align: middle;\n    }\n\n    .dataframe tbody tr th {\n        vertical-align: top;\n    }\n\n    .dataframe thead th {\n        text-align: right;\n    }\n</style>\n<table border=\"1\" class=\"dataframe\">\n  <thead>\n    <tr style=\"text-align: right;\">\n      <th></th>\n      <th>Patient_ID</th>\n      <th>Age</th>\n      <th>Sex</th>\n      <th>Primary cancer type</th>\n      <th>label_sex</th>\n      <th>Number_tumors</th>\n      <th>number_annotations</th>\n      <th>labels</th>\n      <th>Labels</th>\n    </tr>\n  </thead>\n  <tbody>\n    <tr>\n      <th>0</th>\n      <td>5</td>\n      <td>74</td>\n      <td>M</td>\n      <td>lung</td>\n      <td>M</td>\n      <td>3</td>\n      <td>1</td>\n      <td>lung</td>\n      <td>lung</td>\n    </tr>\n    <tr>\n      <th>1</th>\n      <td>9</td>\n      <td>29</td>\n      <td>F</td>\n      <td>breast</td>\n      <td>F</td>\n      <td>13</td>\n      <td>1</td>\n      <td>breast</td>\n      <td>breast</td>\n    </tr>\n    <tr>\n      <th>2</th>\n      <td>10</td>\n      <td>69</td>\n      <td>F</td>\n      <td>lung</td>\n      <td>F</td>\n      <td>3</td>\n      <td>1</td>\n      <td>lung</td>\n      <td>lung</td>\n    </tr>\n    <tr>\n      <th>3</th>\n      <td>11</td>\n      <td>36</td>\n      <td>F</td>\n      <td>breast</td>\n      <td>F</td>\n      <td>3</td>\n      <td>1</td>\n      <td>breast</td>\n      <td>breast</td>\n    </tr>\n    <tr>\n      <th>4</th>\n      <td>13</td>\n      <td>56</td>\n      <td>F</td>\n      <td>lung</td>\n      <td>F</td>\n      <td>2</td>\n      <td>1</td>\n      <td>lung</td>\n      <td>lung</td>\n    </tr>\n    <tr>\n      <th>...</th>\n      <td>...</td>\n      <td>...</td>\n      <td>...</td>\n      <td>...</td>\n      <td>...</td>\n      <td>...</td>\n      <td>...</td>\n      <td>...</td>\n      <td>...</td>\n    </tr>\n    <tr>\n      <th>151</th>\n      <td>321</td>\n      <td>56</td>\n      <td>M</td>\n      <td>calvarial metastases</td>\n      <td>M</td>\n      <td>5</td>\n      <td>1</td>\n      <td>other</td>\n      <td>other</td>\n    </tr>\n    <tr>\n      <th>152</th>\n      <td>323</td>\n      <td>72</td>\n      <td>M</td>\n      <td>lung</td>\n      <td>M</td>\n      <td>23</td>\n      <td>1</td>\n      <td>lung</td>\n      <td>lung</td>\n    </tr>\n    <tr>\n      <th>153</th>\n      <td>326</td>\n      <td>50</td>\n      <td>M</td>\n      <td>breast</td>\n      <td>M</td>\n      <td>1</td>\n      <td>1</td>\n      <td>breast</td>\n      <td>breast</td>\n    </tr>\n    <tr>\n      <th>154</th>\n      <td>328</td>\n      <td>53</td>\n      <td>M</td>\n      <td>lung</td>\n      <td>M</td>\n      <td>16</td>\n      <td>1</td>\n      <td>lung</td>\n      <td>lung</td>\n    </tr>\n    <tr>\n      <th>155</th>\n      <td>338</td>\n      <td>42</td>\n      <td>F</td>\n      <td>lung</td>\n      <td>F</td>\n      <td>4</td>\n      <td>1</td>\n      <td>lung</td>\n      <td>lung</td>\n    </tr>\n  </tbody>\n</table>\n<p>155 rows × 9 columns</p>\n</div>"
     },
     "execution_count": 41,
     "metadata": {},
     "output_type": "execute_result"
    }
   ],
   "source": [
    "standford['Labels'] = standford['labels']\n",
    "standford"
   ],
   "metadata": {
    "collapsed": false,
    "ExecuteTime": {
     "start_time": "2023-05-02T15:55:56.913634Z",
     "end_time": "2023-05-02T15:55:58.187897Z"
    }
   }
  },
  {
   "cell_type": "code",
   "execution_count": 42,
   "outputs": [
    {
     "data": {
      "text/plain": "     Patient_ID  Age Sex   Primary cancer type label_sex  Number_tumors   \n0             5   74   M                  lung         M              3  \\\n1             9   29   F                breast         F             13   \n2            10   69   F                  lung         F              3   \n3            11   36   F                breast         F              3   \n4            13   56   F                  lung         F              2   \n..          ...  ...  ..                   ...       ...            ...   \n151         321   56   M  calvarial metastases         M              5   \n152         323   72   M                  lung         M             23   \n153         326   50   M                breast         M              1   \n154         328   53   M                  lung         M             16   \n155         338   42   F                  lung         F              4   \n\n     number_annotations  labels  breast  lung  melanoma  other  \n0                     1    lung       0     1         0      0  \n1                     1  breast       1     0         0      0  \n2                     1    lung       0     1         0      0  \n3                     1  breast       1     0         0      0  \n4                     1    lung       0     1         0      0  \n..                  ...     ...     ...   ...       ...    ...  \n151                   1   other       0     0         0      1  \n152                   1    lung       0     1         0      0  \n153                   1  breast       1     0         0      0  \n154                   1    lung       0     1         0      0  \n155                   1    lung       0     1         0      0  \n\n[155 rows x 12 columns]",
      "text/html": "<div>\n<style scoped>\n    .dataframe tbody tr th:only-of-type {\n        vertical-align: middle;\n    }\n\n    .dataframe tbody tr th {\n        vertical-align: top;\n    }\n\n    .dataframe thead th {\n        text-align: right;\n    }\n</style>\n<table border=\"1\" class=\"dataframe\">\n  <thead>\n    <tr style=\"text-align: right;\">\n      <th></th>\n      <th>Patient_ID</th>\n      <th>Age</th>\n      <th>Sex</th>\n      <th>Primary cancer type</th>\n      <th>label_sex</th>\n      <th>Number_tumors</th>\n      <th>number_annotations</th>\n      <th>labels</th>\n      <th>breast</th>\n      <th>lung</th>\n      <th>melanoma</th>\n      <th>other</th>\n    </tr>\n  </thead>\n  <tbody>\n    <tr>\n      <th>0</th>\n      <td>5</td>\n      <td>74</td>\n      <td>M</td>\n      <td>lung</td>\n      <td>M</td>\n      <td>3</td>\n      <td>1</td>\n      <td>lung</td>\n      <td>0</td>\n      <td>1</td>\n      <td>0</td>\n      <td>0</td>\n    </tr>\n    <tr>\n      <th>1</th>\n      <td>9</td>\n      <td>29</td>\n      <td>F</td>\n      <td>breast</td>\n      <td>F</td>\n      <td>13</td>\n      <td>1</td>\n      <td>breast</td>\n      <td>1</td>\n      <td>0</td>\n      <td>0</td>\n      <td>0</td>\n    </tr>\n    <tr>\n      <th>2</th>\n      <td>10</td>\n      <td>69</td>\n      <td>F</td>\n      <td>lung</td>\n      <td>F</td>\n      <td>3</td>\n      <td>1</td>\n      <td>lung</td>\n      <td>0</td>\n      <td>1</td>\n      <td>0</td>\n      <td>0</td>\n    </tr>\n    <tr>\n      <th>3</th>\n      <td>11</td>\n      <td>36</td>\n      <td>F</td>\n      <td>breast</td>\n      <td>F</td>\n      <td>3</td>\n      <td>1</td>\n      <td>breast</td>\n      <td>1</td>\n      <td>0</td>\n      <td>0</td>\n      <td>0</td>\n    </tr>\n    <tr>\n      <th>4</th>\n      <td>13</td>\n      <td>56</td>\n      <td>F</td>\n      <td>lung</td>\n      <td>F</td>\n      <td>2</td>\n      <td>1</td>\n      <td>lung</td>\n      <td>0</td>\n      <td>1</td>\n      <td>0</td>\n      <td>0</td>\n    </tr>\n    <tr>\n      <th>...</th>\n      <td>...</td>\n      <td>...</td>\n      <td>...</td>\n      <td>...</td>\n      <td>...</td>\n      <td>...</td>\n      <td>...</td>\n      <td>...</td>\n      <td>...</td>\n      <td>...</td>\n      <td>...</td>\n      <td>...</td>\n    </tr>\n    <tr>\n      <th>151</th>\n      <td>321</td>\n      <td>56</td>\n      <td>M</td>\n      <td>calvarial metastases</td>\n      <td>M</td>\n      <td>5</td>\n      <td>1</td>\n      <td>other</td>\n      <td>0</td>\n      <td>0</td>\n      <td>0</td>\n      <td>1</td>\n    </tr>\n    <tr>\n      <th>152</th>\n      <td>323</td>\n      <td>72</td>\n      <td>M</td>\n      <td>lung</td>\n      <td>M</td>\n      <td>23</td>\n      <td>1</td>\n      <td>lung</td>\n      <td>0</td>\n      <td>1</td>\n      <td>0</td>\n      <td>0</td>\n    </tr>\n    <tr>\n      <th>153</th>\n      <td>326</td>\n      <td>50</td>\n      <td>M</td>\n      <td>breast</td>\n      <td>M</td>\n      <td>1</td>\n      <td>1</td>\n      <td>breast</td>\n      <td>1</td>\n      <td>0</td>\n      <td>0</td>\n      <td>0</td>\n    </tr>\n    <tr>\n      <th>154</th>\n      <td>328</td>\n      <td>53</td>\n      <td>M</td>\n      <td>lung</td>\n      <td>M</td>\n      <td>16</td>\n      <td>1</td>\n      <td>lung</td>\n      <td>0</td>\n      <td>1</td>\n      <td>0</td>\n      <td>0</td>\n    </tr>\n    <tr>\n      <th>155</th>\n      <td>338</td>\n      <td>42</td>\n      <td>F</td>\n      <td>lung</td>\n      <td>F</td>\n      <td>4</td>\n      <td>1</td>\n      <td>lung</td>\n      <td>0</td>\n      <td>1</td>\n      <td>0</td>\n      <td>0</td>\n    </tr>\n  </tbody>\n</table>\n<p>155 rows × 12 columns</p>\n</div>"
     },
     "execution_count": 42,
     "metadata": {},
     "output_type": "execute_result"
    }
   ],
   "source": [
    "standford_dummy = pd.get_dummies(standford, columns=['Labels'])\n",
    "standford_dummy['Labels_breast'] = standford_dummy['Labels_breast'].astype(int)\n",
    "standford_dummy['Labels_lung'] = standford_dummy['Labels_lung'].astype(int)\n",
    "standford_dummy['Labels_melanoma'] = standford_dummy['Labels_melanoma'].astype(int)\n",
    "standford_dummy['Labels_other'] = standford_dummy['Labels_other'].astype(int)\n",
    "standford_dummy = standford_dummy.rename(columns={'Labels_other': 'other', 'Labels_melanoma': 'melanoma', 'Labels_lung': 'lung', 'Labels_breast': 'breast'})\n",
    "standford_dummy"
   ],
   "metadata": {
    "collapsed": false,
    "ExecuteTime": {
     "start_time": "2023-05-02T15:55:56.927163Z",
     "end_time": "2023-05-02T15:55:58.188181Z"
    }
   }
  },
  {
   "cell_type": "code",
   "execution_count": 43,
   "outputs": [],
   "source": [
    "standford_dummy = pd.get_dummies(standford_dummy, columns=['label_sex'])\n",
    "standford_dummy['label_sex_F'] = standford_dummy['label_sex_F'].astype(int)\n",
    "standford_dummy['label_sex_M'] = standford_dummy['label_sex_M'].astype(int)"
   ],
   "metadata": {
    "collapsed": false,
    "ExecuteTime": {
     "start_time": "2023-05-02T15:55:56.945708Z",
     "end_time": "2023-05-02T15:55:58.188316Z"
    }
   }
  },
  {
   "cell_type": "code",
   "execution_count": 44,
   "outputs": [
    {
     "data": {
      "text/plain": "     Patient_ID  Age Sex   Primary cancer type  Number_tumors   \n0             5   74   M                  lung              3  \\\n1             9   29   F                breast             13   \n2            10   69   F                  lung              3   \n3            11   36   F                breast              3   \n4            13   56   F                  lung              2   \n..          ...  ...  ..                   ...            ...   \n151         321   56   M  calvarial metastases              5   \n152         323   72   M                  lung             23   \n153         326   50   M                breast              1   \n154         328   53   M                  lung             16   \n155         338   42   F                  lung              4   \n\n     number_annotations  labels  breast  lung  melanoma  other  label_sex_F   \n0                     1    lung       0     1         0      0            0  \\\n1                     1  breast       1     0         0      0            1   \n2                     1    lung       0     1         0      0            1   \n3                     1  breast       1     0         0      0            1   \n4                     1    lung       0     1         0      0            1   \n..                  ...     ...     ...   ...       ...    ...          ...   \n151                   1   other       0     0         0      1            0   \n152                   1    lung       0     1         0      0            0   \n153                   1  breast       1     0         0      0            0   \n154                   1    lung       0     1         0      0            0   \n155                   1    lung       0     1         0      0            1   \n\n     label_sex_M  \n0              1  \n1              0  \n2              0  \n3              0  \n4              0  \n..           ...  \n151            1  \n152            1  \n153            1  \n154            1  \n155            0  \n\n[155 rows x 13 columns]",
      "text/html": "<div>\n<style scoped>\n    .dataframe tbody tr th:only-of-type {\n        vertical-align: middle;\n    }\n\n    .dataframe tbody tr th {\n        vertical-align: top;\n    }\n\n    .dataframe thead th {\n        text-align: right;\n    }\n</style>\n<table border=\"1\" class=\"dataframe\">\n  <thead>\n    <tr style=\"text-align: right;\">\n      <th></th>\n      <th>Patient_ID</th>\n      <th>Age</th>\n      <th>Sex</th>\n      <th>Primary cancer type</th>\n      <th>Number_tumors</th>\n      <th>number_annotations</th>\n      <th>labels</th>\n      <th>breast</th>\n      <th>lung</th>\n      <th>melanoma</th>\n      <th>other</th>\n      <th>label_sex_F</th>\n      <th>label_sex_M</th>\n    </tr>\n  </thead>\n  <tbody>\n    <tr>\n      <th>0</th>\n      <td>5</td>\n      <td>74</td>\n      <td>M</td>\n      <td>lung</td>\n      <td>3</td>\n      <td>1</td>\n      <td>lung</td>\n      <td>0</td>\n      <td>1</td>\n      <td>0</td>\n      <td>0</td>\n      <td>0</td>\n      <td>1</td>\n    </tr>\n    <tr>\n      <th>1</th>\n      <td>9</td>\n      <td>29</td>\n      <td>F</td>\n      <td>breast</td>\n      <td>13</td>\n      <td>1</td>\n      <td>breast</td>\n      <td>1</td>\n      <td>0</td>\n      <td>0</td>\n      <td>0</td>\n      <td>1</td>\n      <td>0</td>\n    </tr>\n    <tr>\n      <th>2</th>\n      <td>10</td>\n      <td>69</td>\n      <td>F</td>\n      <td>lung</td>\n      <td>3</td>\n      <td>1</td>\n      <td>lung</td>\n      <td>0</td>\n      <td>1</td>\n      <td>0</td>\n      <td>0</td>\n      <td>1</td>\n      <td>0</td>\n    </tr>\n    <tr>\n      <th>3</th>\n      <td>11</td>\n      <td>36</td>\n      <td>F</td>\n      <td>breast</td>\n      <td>3</td>\n      <td>1</td>\n      <td>breast</td>\n      <td>1</td>\n      <td>0</td>\n      <td>0</td>\n      <td>0</td>\n      <td>1</td>\n      <td>0</td>\n    </tr>\n    <tr>\n      <th>4</th>\n      <td>13</td>\n      <td>56</td>\n      <td>F</td>\n      <td>lung</td>\n      <td>2</td>\n      <td>1</td>\n      <td>lung</td>\n      <td>0</td>\n      <td>1</td>\n      <td>0</td>\n      <td>0</td>\n      <td>1</td>\n      <td>0</td>\n    </tr>\n    <tr>\n      <th>...</th>\n      <td>...</td>\n      <td>...</td>\n      <td>...</td>\n      <td>...</td>\n      <td>...</td>\n      <td>...</td>\n      <td>...</td>\n      <td>...</td>\n      <td>...</td>\n      <td>...</td>\n      <td>...</td>\n      <td>...</td>\n      <td>...</td>\n    </tr>\n    <tr>\n      <th>151</th>\n      <td>321</td>\n      <td>56</td>\n      <td>M</td>\n      <td>calvarial metastases</td>\n      <td>5</td>\n      <td>1</td>\n      <td>other</td>\n      <td>0</td>\n      <td>0</td>\n      <td>0</td>\n      <td>1</td>\n      <td>0</td>\n      <td>1</td>\n    </tr>\n    <tr>\n      <th>152</th>\n      <td>323</td>\n      <td>72</td>\n      <td>M</td>\n      <td>lung</td>\n      <td>23</td>\n      <td>1</td>\n      <td>lung</td>\n      <td>0</td>\n      <td>1</td>\n      <td>0</td>\n      <td>0</td>\n      <td>0</td>\n      <td>1</td>\n    </tr>\n    <tr>\n      <th>153</th>\n      <td>326</td>\n      <td>50</td>\n      <td>M</td>\n      <td>breast</td>\n      <td>1</td>\n      <td>1</td>\n      <td>breast</td>\n      <td>1</td>\n      <td>0</td>\n      <td>0</td>\n      <td>0</td>\n      <td>0</td>\n      <td>1</td>\n    </tr>\n    <tr>\n      <th>154</th>\n      <td>328</td>\n      <td>53</td>\n      <td>M</td>\n      <td>lung</td>\n      <td>16</td>\n      <td>1</td>\n      <td>lung</td>\n      <td>0</td>\n      <td>1</td>\n      <td>0</td>\n      <td>0</td>\n      <td>0</td>\n      <td>1</td>\n    </tr>\n    <tr>\n      <th>155</th>\n      <td>338</td>\n      <td>42</td>\n      <td>F</td>\n      <td>lung</td>\n      <td>4</td>\n      <td>1</td>\n      <td>lung</td>\n      <td>0</td>\n      <td>1</td>\n      <td>0</td>\n      <td>0</td>\n      <td>1</td>\n      <td>0</td>\n    </tr>\n  </tbody>\n</table>\n<p>155 rows × 13 columns</p>\n</div>"
     },
     "execution_count": 44,
     "metadata": {},
     "output_type": "execute_result"
    }
   ],
   "source": [
    "standford_dummy.rename(columns={'label_sex_F': 'F', 'label_sex_M': 'M'})\n",
    "standford_dummy"
   ],
   "metadata": {
    "collapsed": false,
    "ExecuteTime": {
     "start_time": "2023-05-02T15:55:56.951542Z",
     "end_time": "2023-05-02T15:55:58.188557Z"
    }
   }
  },
  {
   "cell_type": "code",
   "execution_count": 45,
   "outputs": [],
   "source": [
    "standford_dummy = standford_dummy.drop('Primary cancer type', axis = 1)"
   ],
   "metadata": {
    "collapsed": false,
    "ExecuteTime": {
     "start_time": "2023-05-02T15:55:56.966542Z",
     "end_time": "2023-05-02T15:55:58.188696Z"
    }
   }
  },
  {
   "cell_type": "code",
   "execution_count": 46,
   "outputs": [
    {
     "data": {
      "text/plain": "     Patient_ID  Age Sex  Number_tumors  number_annotations  labels  breast   \n0             5   74   M              3                   1    lung       0  \\\n1             9   29   F             13                   1  breast       1   \n2            10   69   F              3                   1    lung       0   \n3            11   36   F              3                   1  breast       1   \n4            13   56   F              2                   1    lung       0   \n..          ...  ...  ..            ...                 ...     ...     ...   \n151         321   56   M              5                   1   other       0   \n152         323   72   M             23                   1    lung       0   \n153         326   50   M              1                   1  breast       1   \n154         328   53   M             16                   1    lung       0   \n155         338   42   F              4                   1    lung       0   \n\n     lung  melanoma  other  label_sex_F  label_sex_M  \n0       1         0      0            0            1  \n1       0         0      0            1            0  \n2       1         0      0            1            0  \n3       0         0      0            1            0  \n4       1         0      0            1            0  \n..    ...       ...    ...          ...          ...  \n151     0         0      1            0            1  \n152     1         0      0            0            1  \n153     0         0      0            0            1  \n154     1         0      0            0            1  \n155     1         0      0            1            0  \n\n[155 rows x 12 columns]",
      "text/html": "<div>\n<style scoped>\n    .dataframe tbody tr th:only-of-type {\n        vertical-align: middle;\n    }\n\n    .dataframe tbody tr th {\n        vertical-align: top;\n    }\n\n    .dataframe thead th {\n        text-align: right;\n    }\n</style>\n<table border=\"1\" class=\"dataframe\">\n  <thead>\n    <tr style=\"text-align: right;\">\n      <th></th>\n      <th>Patient_ID</th>\n      <th>Age</th>\n      <th>Sex</th>\n      <th>Number_tumors</th>\n      <th>number_annotations</th>\n      <th>labels</th>\n      <th>breast</th>\n      <th>lung</th>\n      <th>melanoma</th>\n      <th>other</th>\n      <th>label_sex_F</th>\n      <th>label_sex_M</th>\n    </tr>\n  </thead>\n  <tbody>\n    <tr>\n      <th>0</th>\n      <td>5</td>\n      <td>74</td>\n      <td>M</td>\n      <td>3</td>\n      <td>1</td>\n      <td>lung</td>\n      <td>0</td>\n      <td>1</td>\n      <td>0</td>\n      <td>0</td>\n      <td>0</td>\n      <td>1</td>\n    </tr>\n    <tr>\n      <th>1</th>\n      <td>9</td>\n      <td>29</td>\n      <td>F</td>\n      <td>13</td>\n      <td>1</td>\n      <td>breast</td>\n      <td>1</td>\n      <td>0</td>\n      <td>0</td>\n      <td>0</td>\n      <td>1</td>\n      <td>0</td>\n    </tr>\n    <tr>\n      <th>2</th>\n      <td>10</td>\n      <td>69</td>\n      <td>F</td>\n      <td>3</td>\n      <td>1</td>\n      <td>lung</td>\n      <td>0</td>\n      <td>1</td>\n      <td>0</td>\n      <td>0</td>\n      <td>1</td>\n      <td>0</td>\n    </tr>\n    <tr>\n      <th>3</th>\n      <td>11</td>\n      <td>36</td>\n      <td>F</td>\n      <td>3</td>\n      <td>1</td>\n      <td>breast</td>\n      <td>1</td>\n      <td>0</td>\n      <td>0</td>\n      <td>0</td>\n      <td>1</td>\n      <td>0</td>\n    </tr>\n    <tr>\n      <th>4</th>\n      <td>13</td>\n      <td>56</td>\n      <td>F</td>\n      <td>2</td>\n      <td>1</td>\n      <td>lung</td>\n      <td>0</td>\n      <td>1</td>\n      <td>0</td>\n      <td>0</td>\n      <td>1</td>\n      <td>0</td>\n    </tr>\n    <tr>\n      <th>...</th>\n      <td>...</td>\n      <td>...</td>\n      <td>...</td>\n      <td>...</td>\n      <td>...</td>\n      <td>...</td>\n      <td>...</td>\n      <td>...</td>\n      <td>...</td>\n      <td>...</td>\n      <td>...</td>\n      <td>...</td>\n    </tr>\n    <tr>\n      <th>151</th>\n      <td>321</td>\n      <td>56</td>\n      <td>M</td>\n      <td>5</td>\n      <td>1</td>\n      <td>other</td>\n      <td>0</td>\n      <td>0</td>\n      <td>0</td>\n      <td>1</td>\n      <td>0</td>\n      <td>1</td>\n    </tr>\n    <tr>\n      <th>152</th>\n      <td>323</td>\n      <td>72</td>\n      <td>M</td>\n      <td>23</td>\n      <td>1</td>\n      <td>lung</td>\n      <td>0</td>\n      <td>1</td>\n      <td>0</td>\n      <td>0</td>\n      <td>0</td>\n      <td>1</td>\n    </tr>\n    <tr>\n      <th>153</th>\n      <td>326</td>\n      <td>50</td>\n      <td>M</td>\n      <td>1</td>\n      <td>1</td>\n      <td>breast</td>\n      <td>1</td>\n      <td>0</td>\n      <td>0</td>\n      <td>0</td>\n      <td>0</td>\n      <td>1</td>\n    </tr>\n    <tr>\n      <th>154</th>\n      <td>328</td>\n      <td>53</td>\n      <td>M</td>\n      <td>16</td>\n      <td>1</td>\n      <td>lung</td>\n      <td>0</td>\n      <td>1</td>\n      <td>0</td>\n      <td>0</td>\n      <td>0</td>\n      <td>1</td>\n    </tr>\n    <tr>\n      <th>155</th>\n      <td>338</td>\n      <td>42</td>\n      <td>F</td>\n      <td>4</td>\n      <td>1</td>\n      <td>lung</td>\n      <td>0</td>\n      <td>1</td>\n      <td>0</td>\n      <td>0</td>\n      <td>1</td>\n      <td>0</td>\n    </tr>\n  </tbody>\n</table>\n<p>155 rows × 12 columns</p>\n</div>"
     },
     "execution_count": 46,
     "metadata": {},
     "output_type": "execute_result"
    }
   ],
   "source": [
    "standford_dummy"
   ],
   "metadata": {
    "collapsed": false,
    "ExecuteTime": {
     "start_time": "2023-05-02T15:55:56.975460Z",
     "end_time": "2023-05-02T15:55:58.188980Z"
    }
   }
  },
  {
   "cell_type": "code",
   "execution_count": 47,
   "outputs": [
    {
     "data": {
      "text/plain": "['Patient_ID',\n 'Number_tumors',\n 'Age',\n 'number_annotations',\n 'Sex',\n 'label_sex_F',\n 'label_sex_M',\n 'labels',\n 'breast',\n 'lung',\n 'melanoma',\n 'other']"
     },
     "execution_count": 47,
     "metadata": {},
     "output_type": "execute_result"
    }
   ],
   "source": [
    "temp_cols = standford_dummy.columns.tolist()\n",
    "index_F = standford_dummy.columns.get_loc('label_sex_F') #\n",
    "index_sex = standford_dummy.columns.get_loc('Sex') #\n",
    "index_labels = standford_dummy.columns.get_loc('labels') #\n",
    "index_F = standford_dummy.columns.get_loc('label_sex_F')\n",
    "index_age = standford_dummy.columns.get_loc('Age')\n",
    "index_nrtumors = standford_dummy.columns.get_loc('Number_tumors')\n",
    "index_annotations = standford_dummy.columns.get_loc('number_annotations')\n",
    "\n",
    "new_cols = temp_cols[0:1] +  temp_cols[index_nrtumors:index_nrtumors + 1] +temp_cols[1:index_age + 1] + temp_cols[index_annotations:index_annotations+1] + temp_cols[index_sex:index_sex+1] + temp_cols[index_F:index_F+2] + temp_cols[index_labels:index_labels+5]\n",
    "#new_cols = temp_cols[0:index_sex + 1] + temp_cols[index_F:] + temp_cols[index_sex + 1: index_F] #Moved the columns 'F' and 'M' close to gender and 'Lung and 'Melanomma at the end'\n",
    "new_cols"
   ],
   "metadata": {
    "collapsed": false,
    "ExecuteTime": {
     "start_time": "2023-05-02T15:55:56.986359Z",
     "end_time": "2023-05-02T15:55:58.189261Z"
    }
   }
  },
  {
   "cell_type": "code",
   "execution_count": 48,
   "outputs": [
    {
     "data": {
      "text/plain": "     Patient_ID  Number_tumors  Age  number_annotations Sex  F  M  labels   \n0             5              3   74                   1   M  0  1    lung  \\\n1             9             13   29                   1   F  1  0  breast   \n2            10              3   69                   1   F  1  0    lung   \n3            11              3   36                   1   F  1  0  breast   \n4            13              2   56                   1   F  1  0    lung   \n..          ...            ...  ...                 ...  .. .. ..     ...   \n151         321              5   56                   1   M  0  1   other   \n152         323             23   72                   1   M  0  1    lung   \n153         326              1   50                   1   M  0  1  breast   \n154         328             16   53                   1   M  0  1    lung   \n155         338              4   42                   1   F  1  0    lung   \n\n     breast  lung  melanoma  other  \n0         0     1         0      0  \n1         1     0         0      0  \n2         0     1         0      0  \n3         1     0         0      0  \n4         0     1         0      0  \n..      ...   ...       ...    ...  \n151       0     0         0      1  \n152       0     1         0      0  \n153       1     0         0      0  \n154       0     1         0      0  \n155       0     1         0      0  \n\n[155 rows x 12 columns]",
      "text/html": "<div>\n<style scoped>\n    .dataframe tbody tr th:only-of-type {\n        vertical-align: middle;\n    }\n\n    .dataframe tbody tr th {\n        vertical-align: top;\n    }\n\n    .dataframe thead th {\n        text-align: right;\n    }\n</style>\n<table border=\"1\" class=\"dataframe\">\n  <thead>\n    <tr style=\"text-align: right;\">\n      <th></th>\n      <th>Patient_ID</th>\n      <th>Number_tumors</th>\n      <th>Age</th>\n      <th>number_annotations</th>\n      <th>Sex</th>\n      <th>F</th>\n      <th>M</th>\n      <th>labels</th>\n      <th>breast</th>\n      <th>lung</th>\n      <th>melanoma</th>\n      <th>other</th>\n    </tr>\n  </thead>\n  <tbody>\n    <tr>\n      <th>0</th>\n      <td>5</td>\n      <td>3</td>\n      <td>74</td>\n      <td>1</td>\n      <td>M</td>\n      <td>0</td>\n      <td>1</td>\n      <td>lung</td>\n      <td>0</td>\n      <td>1</td>\n      <td>0</td>\n      <td>0</td>\n    </tr>\n    <tr>\n      <th>1</th>\n      <td>9</td>\n      <td>13</td>\n      <td>29</td>\n      <td>1</td>\n      <td>F</td>\n      <td>1</td>\n      <td>0</td>\n      <td>breast</td>\n      <td>1</td>\n      <td>0</td>\n      <td>0</td>\n      <td>0</td>\n    </tr>\n    <tr>\n      <th>2</th>\n      <td>10</td>\n      <td>3</td>\n      <td>69</td>\n      <td>1</td>\n      <td>F</td>\n      <td>1</td>\n      <td>0</td>\n      <td>lung</td>\n      <td>0</td>\n      <td>1</td>\n      <td>0</td>\n      <td>0</td>\n    </tr>\n    <tr>\n      <th>3</th>\n      <td>11</td>\n      <td>3</td>\n      <td>36</td>\n      <td>1</td>\n      <td>F</td>\n      <td>1</td>\n      <td>0</td>\n      <td>breast</td>\n      <td>1</td>\n      <td>0</td>\n      <td>0</td>\n      <td>0</td>\n    </tr>\n    <tr>\n      <th>4</th>\n      <td>13</td>\n      <td>2</td>\n      <td>56</td>\n      <td>1</td>\n      <td>F</td>\n      <td>1</td>\n      <td>0</td>\n      <td>lung</td>\n      <td>0</td>\n      <td>1</td>\n      <td>0</td>\n      <td>0</td>\n    </tr>\n    <tr>\n      <th>...</th>\n      <td>...</td>\n      <td>...</td>\n      <td>...</td>\n      <td>...</td>\n      <td>...</td>\n      <td>...</td>\n      <td>...</td>\n      <td>...</td>\n      <td>...</td>\n      <td>...</td>\n      <td>...</td>\n      <td>...</td>\n    </tr>\n    <tr>\n      <th>151</th>\n      <td>321</td>\n      <td>5</td>\n      <td>56</td>\n      <td>1</td>\n      <td>M</td>\n      <td>0</td>\n      <td>1</td>\n      <td>other</td>\n      <td>0</td>\n      <td>0</td>\n      <td>0</td>\n      <td>1</td>\n    </tr>\n    <tr>\n      <th>152</th>\n      <td>323</td>\n      <td>23</td>\n      <td>72</td>\n      <td>1</td>\n      <td>M</td>\n      <td>0</td>\n      <td>1</td>\n      <td>lung</td>\n      <td>0</td>\n      <td>1</td>\n      <td>0</td>\n      <td>0</td>\n    </tr>\n    <tr>\n      <th>153</th>\n      <td>326</td>\n      <td>1</td>\n      <td>50</td>\n      <td>1</td>\n      <td>M</td>\n      <td>0</td>\n      <td>1</td>\n      <td>breast</td>\n      <td>1</td>\n      <td>0</td>\n      <td>0</td>\n      <td>0</td>\n    </tr>\n    <tr>\n      <th>154</th>\n      <td>328</td>\n      <td>16</td>\n      <td>53</td>\n      <td>1</td>\n      <td>M</td>\n      <td>0</td>\n      <td>1</td>\n      <td>lung</td>\n      <td>0</td>\n      <td>1</td>\n      <td>0</td>\n      <td>0</td>\n    </tr>\n    <tr>\n      <th>155</th>\n      <td>338</td>\n      <td>4</td>\n      <td>42</td>\n      <td>1</td>\n      <td>F</td>\n      <td>1</td>\n      <td>0</td>\n      <td>lung</td>\n      <td>0</td>\n      <td>1</td>\n      <td>0</td>\n      <td>0</td>\n    </tr>\n  </tbody>\n</table>\n<p>155 rows × 12 columns</p>\n</div>"
     },
     "execution_count": 48,
     "metadata": {},
     "output_type": "execute_result"
    }
   ],
   "source": [
    "standford_dummy = standford_dummy[new_cols]\n",
    "standford_dummy = standford_dummy.rename(columns ={'label_sex_F':'F', 'label_sex_M':'M'})\n",
    "\n",
    "standford_dummy"
   ],
   "metadata": {
    "collapsed": false,
    "ExecuteTime": {
     "start_time": "2023-05-02T15:55:56.991829Z",
     "end_time": "2023-05-02T15:55:58.189524Z"
    }
   }
  },
  {
   "cell_type": "code",
   "execution_count": 49,
   "outputs": [],
   "source": [
    "standford_dummy.to_excel(r'standford_labels.xlsx', index=False)"
   ],
   "metadata": {
    "collapsed": false,
    "ExecuteTime": {
     "start_time": "2023-05-02T15:55:57.040658Z",
     "end_time": "2023-05-02T15:55:58.189662Z"
    }
   }
  },
  {
   "cell_type": "markdown",
   "source": [
    "## Downloaded this dataframe to a xlsx format, remanes as labels_oslo and labels_standford that can be found in: /data/projects/TMOR/Final_labels/labels_oslo.xlsx so later I can open it and join it with the radiomic features by the patient number"
   ],
   "metadata": {
    "collapsed": false
   }
  },
  {
   "cell_type": "code",
   "execution_count": 49,
   "outputs": [],
   "source": [],
   "metadata": {
    "collapsed": false,
    "ExecuteTime": {
     "start_time": "2023-05-02T15:55:57.067500Z",
     "end_time": "2023-05-02T15:55:58.189783Z"
    }
   }
  },
  {
   "cell_type": "code",
   "execution_count": 49,
   "outputs": [],
   "source": [],
   "metadata": {
    "collapsed": false,
    "ExecuteTime": {
     "start_time": "2023-05-02T15:55:57.107524Z",
     "end_time": "2023-05-02T15:55:58.189860Z"
    }
   }
  },
  {
   "cell_type": "code",
   "execution_count": 49,
   "outputs": [],
   "source": [],
   "metadata": {
    "collapsed": false,
    "ExecuteTime": {
     "start_time": "2023-05-02T15:55:57.107671Z",
     "end_time": "2023-05-02T15:55:58.189905Z"
    }
   }
  },
  {
   "cell_type": "code",
   "execution_count": 49,
   "outputs": [],
   "source": [],
   "metadata": {
    "collapsed": false,
    "ExecuteTime": {
     "start_time": "2023-05-02T15:55:57.107761Z",
     "end_time": "2023-05-02T15:55:58.189952Z"
    }
   }
  }
 ],
 "metadata": {
  "kernelspec": {
   "display_name": "Python 3",
   "language": "python",
   "name": "python3"
  },
  "language_info": {
   "codemirror_mode": {
    "name": "ipython",
    "version": 2
   },
   "file_extension": ".py",
   "mimetype": "text/x-python",
   "name": "python",
   "nbconvert_exporter": "python",
   "pygments_lexer": "ipython2",
   "version": "2.7.6"
  }
 },
 "nbformat": 4,
 "nbformat_minor": 0
}
