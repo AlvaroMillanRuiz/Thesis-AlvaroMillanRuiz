{
 "cells": [
  {
   "cell_type": "code",
   "execution_count": 1,
   "metadata": {
    "collapsed": true,
    "ExecuteTime": {
     "start_time": "2023-07-06T11:31:23.278027Z",
     "end_time": "2023-07-06T11:31:25.586916Z"
    }
   },
   "outputs": [],
   "source": [
    "import pandas as pd\n",
    "import numpy as np\n",
    "import os\n",
    "import torch\n",
    "from torch.utils.data import Dataset\n",
    "import nibabel as nib\n",
    "import pandas as pd\n",
    "from sklearn.model_selection import train_test_split\n",
    "import os\n",
    "import glob\n",
    "from torchvision import transforms"
   ]
  },
  {
   "cell_type": "code",
   "execution_count": 2,
   "outputs": [
    {
     "data": {
      "text/plain": "        subjid  label  shape_Elongation  shape_Flatness   \n0       Oslo01      1          0.829356        0.682981  \\\n1       Oslo01      2          0.944143        0.900681   \n4       Oslo02      4          0.849295        0.841082   \n5       Oslo02      5          0.939828        0.821847   \n7       Oslo03      1          0.930698        0.629604   \n...        ...    ...               ...             ...   \n2408  Stan_328      1          0.810571        0.325076   \n2415  Stan_328      8          0.967496        0.597282   \n2418  Stan_328     11          0.561746        0.506390   \n2419  Stan_328     12          0.959775        0.756903   \n2427  Stan_338      4          0.819799        0.618051   \n\n      shape_LeastAxisLength  shape_MajorAxisLength   \n0                  8.512717              12.464063  \\\n1                 14.133927              15.692487   \n4                  8.703783              10.348315   \n5                 12.093804              14.715396   \n7                 10.914986              17.336268   \n...                     ...                    ...   \n2408               8.769420              26.976501   \n2415               6.131668              10.265944   \n2418               5.004740               9.883181   \n2419               5.164755               6.823538   \n2427               8.548537              13.831433   \n\n      shape_Maximum2DDiameterColumn  shape_Maximum2DDiameterRow   \n0                         14.866069                   14.560220  \\\n1                         17.804494                   19.416488   \n4                         10.816654                   11.704700   \n5                         17.262677                   17.888544   \n7                         20.615528                   18.439089   \n...                             ...                         ...   \n2408                      31.384710                   28.160256   \n2415                      11.661904                   12.369317   \n2418                       8.246211                   11.704700   \n2419                       7.615773                    8.602325   \n2427                      14.142136                   15.297059   \n\n      shape_Maximum2DDiameterSlice  shape_Maximum3DDiameter  ...   \n0                        12.529964                15.394804  ...  \\\n1                        18.681542                19.467922  ...   \n4                        11.704700                12.449900  ...   \n5                        17.492856                18.000000  ...   \n7                        19.416488                20.712315  ...   \n...                            ...                      ...  ...   \n2408                     27.459060                33.075671  ...   \n2415                     12.165525                12.688578  ...   \n2418                     10.000000                12.124356  ...   \n2419                      8.602325                 8.602325  ...   \n2427                     17.204651                17.291616  ...   \n\n      ngtdm_Busyness  ngtdm_Coarseness  ngtdm_Complexity  ngtdm_Contrast   \n0         158.977235          0.008929          0.302273        0.074659  \\\n1          39.445794          0.007407          0.115448        0.010426   \n4          14.239428          0.022868          0.159307        0.020316   \n5          49.609354          0.008536          0.137901        0.028455   \n7          43.648474          0.007781          0.123220        0.017415   \n...              ...               ...               ...             ...   \n2408       12.988427          0.019891          0.030104        0.000639   \n2415       18.452502          0.024791          0.208465        0.046975   \n2418        0.553323          0.468447          0.025263        0.000748   \n2419        0.000000    1000000.000000          0.000000        0.000000   \n2427        6.977967          0.040814          0.057854        0.005610   \n\n      ngtdm_Strength  Age  number_annotations  F  M  labels  \n0           0.008950   58                   1  0  1       0  \n1           0.007130   58                   1  0  1       0  \n4           0.023465   50                   1  1  0       1  \n5           0.008212   50                   1  1  0       1  \n7           0.007982   64                   1  0  1       0  \n...              ...  ...                 ... .. ..     ...  \n2408        0.019768   53                   1  0  1       1  \n2415        0.023205   53                   1  0  1       1  \n2418        0.365681   53                   1  0  1       1  \n2419        0.000000   53                   1  0  1       1  \n2427        0.031493   42                   1  1  0       1  \n\n[438 rows x 114 columns]",
      "text/html": "<div>\n<style scoped>\n    .dataframe tbody tr th:only-of-type {\n        vertical-align: middle;\n    }\n\n    .dataframe tbody tr th {\n        vertical-align: top;\n    }\n\n    .dataframe thead th {\n        text-align: right;\n    }\n</style>\n<table border=\"1\" class=\"dataframe\">\n  <thead>\n    <tr style=\"text-align: right;\">\n      <th></th>\n      <th>subjid</th>\n      <th>label</th>\n      <th>shape_Elongation</th>\n      <th>shape_Flatness</th>\n      <th>shape_LeastAxisLength</th>\n      <th>shape_MajorAxisLength</th>\n      <th>shape_Maximum2DDiameterColumn</th>\n      <th>shape_Maximum2DDiameterRow</th>\n      <th>shape_Maximum2DDiameterSlice</th>\n      <th>shape_Maximum3DDiameter</th>\n      <th>...</th>\n      <th>ngtdm_Busyness</th>\n      <th>ngtdm_Coarseness</th>\n      <th>ngtdm_Complexity</th>\n      <th>ngtdm_Contrast</th>\n      <th>ngtdm_Strength</th>\n      <th>Age</th>\n      <th>number_annotations</th>\n      <th>F</th>\n      <th>M</th>\n      <th>labels</th>\n    </tr>\n  </thead>\n  <tbody>\n    <tr>\n      <th>0</th>\n      <td>Oslo01</td>\n      <td>1</td>\n      <td>0.829356</td>\n      <td>0.682981</td>\n      <td>8.512717</td>\n      <td>12.464063</td>\n      <td>14.866069</td>\n      <td>14.560220</td>\n      <td>12.529964</td>\n      <td>15.394804</td>\n      <td>...</td>\n      <td>158.977235</td>\n      <td>0.008929</td>\n      <td>0.302273</td>\n      <td>0.074659</td>\n      <td>0.008950</td>\n      <td>58</td>\n      <td>1</td>\n      <td>0</td>\n      <td>1</td>\n      <td>0</td>\n    </tr>\n    <tr>\n      <th>1</th>\n      <td>Oslo01</td>\n      <td>2</td>\n      <td>0.944143</td>\n      <td>0.900681</td>\n      <td>14.133927</td>\n      <td>15.692487</td>\n      <td>17.804494</td>\n      <td>19.416488</td>\n      <td>18.681542</td>\n      <td>19.467922</td>\n      <td>...</td>\n      <td>39.445794</td>\n      <td>0.007407</td>\n      <td>0.115448</td>\n      <td>0.010426</td>\n      <td>0.007130</td>\n      <td>58</td>\n      <td>1</td>\n      <td>0</td>\n      <td>1</td>\n      <td>0</td>\n    </tr>\n    <tr>\n      <th>4</th>\n      <td>Oslo02</td>\n      <td>4</td>\n      <td>0.849295</td>\n      <td>0.841082</td>\n      <td>8.703783</td>\n      <td>10.348315</td>\n      <td>10.816654</td>\n      <td>11.704700</td>\n      <td>11.704700</td>\n      <td>12.449900</td>\n      <td>...</td>\n      <td>14.239428</td>\n      <td>0.022868</td>\n      <td>0.159307</td>\n      <td>0.020316</td>\n      <td>0.023465</td>\n      <td>50</td>\n      <td>1</td>\n      <td>1</td>\n      <td>0</td>\n      <td>1</td>\n    </tr>\n    <tr>\n      <th>5</th>\n      <td>Oslo02</td>\n      <td>5</td>\n      <td>0.939828</td>\n      <td>0.821847</td>\n      <td>12.093804</td>\n      <td>14.715396</td>\n      <td>17.262677</td>\n      <td>17.888544</td>\n      <td>17.492856</td>\n      <td>18.000000</td>\n      <td>...</td>\n      <td>49.609354</td>\n      <td>0.008536</td>\n      <td>0.137901</td>\n      <td>0.028455</td>\n      <td>0.008212</td>\n      <td>50</td>\n      <td>1</td>\n      <td>1</td>\n      <td>0</td>\n      <td>1</td>\n    </tr>\n    <tr>\n      <th>7</th>\n      <td>Oslo03</td>\n      <td>1</td>\n      <td>0.930698</td>\n      <td>0.629604</td>\n      <td>10.914986</td>\n      <td>17.336268</td>\n      <td>20.615528</td>\n      <td>18.439089</td>\n      <td>19.416488</td>\n      <td>20.712315</td>\n      <td>...</td>\n      <td>43.648474</td>\n      <td>0.007781</td>\n      <td>0.123220</td>\n      <td>0.017415</td>\n      <td>0.007982</td>\n      <td>64</td>\n      <td>1</td>\n      <td>0</td>\n      <td>1</td>\n      <td>0</td>\n    </tr>\n    <tr>\n      <th>...</th>\n      <td>...</td>\n      <td>...</td>\n      <td>...</td>\n      <td>...</td>\n      <td>...</td>\n      <td>...</td>\n      <td>...</td>\n      <td>...</td>\n      <td>...</td>\n      <td>...</td>\n      <td>...</td>\n      <td>...</td>\n      <td>...</td>\n      <td>...</td>\n      <td>...</td>\n      <td>...</td>\n      <td>...</td>\n      <td>...</td>\n      <td>...</td>\n      <td>...</td>\n      <td>...</td>\n    </tr>\n    <tr>\n      <th>2408</th>\n      <td>Stan_328</td>\n      <td>1</td>\n      <td>0.810571</td>\n      <td>0.325076</td>\n      <td>8.769420</td>\n      <td>26.976501</td>\n      <td>31.384710</td>\n      <td>28.160256</td>\n      <td>27.459060</td>\n      <td>33.075671</td>\n      <td>...</td>\n      <td>12.988427</td>\n      <td>0.019891</td>\n      <td>0.030104</td>\n      <td>0.000639</td>\n      <td>0.019768</td>\n      <td>53</td>\n      <td>1</td>\n      <td>0</td>\n      <td>1</td>\n      <td>1</td>\n    </tr>\n    <tr>\n      <th>2415</th>\n      <td>Stan_328</td>\n      <td>8</td>\n      <td>0.967496</td>\n      <td>0.597282</td>\n      <td>6.131668</td>\n      <td>10.265944</td>\n      <td>11.661904</td>\n      <td>12.369317</td>\n      <td>12.165525</td>\n      <td>12.688578</td>\n      <td>...</td>\n      <td>18.452502</td>\n      <td>0.024791</td>\n      <td>0.208465</td>\n      <td>0.046975</td>\n      <td>0.023205</td>\n      <td>53</td>\n      <td>1</td>\n      <td>0</td>\n      <td>1</td>\n      <td>1</td>\n    </tr>\n    <tr>\n      <th>2418</th>\n      <td>Stan_328</td>\n      <td>11</td>\n      <td>0.561746</td>\n      <td>0.506390</td>\n      <td>5.004740</td>\n      <td>9.883181</td>\n      <td>8.246211</td>\n      <td>11.704700</td>\n      <td>10.000000</td>\n      <td>12.124356</td>\n      <td>...</td>\n      <td>0.553323</td>\n      <td>0.468447</td>\n      <td>0.025263</td>\n      <td>0.000748</td>\n      <td>0.365681</td>\n      <td>53</td>\n      <td>1</td>\n      <td>0</td>\n      <td>1</td>\n      <td>1</td>\n    </tr>\n    <tr>\n      <th>2419</th>\n      <td>Stan_328</td>\n      <td>12</td>\n      <td>0.959775</td>\n      <td>0.756903</td>\n      <td>5.164755</td>\n      <td>6.823538</td>\n      <td>7.615773</td>\n      <td>8.602325</td>\n      <td>8.602325</td>\n      <td>8.602325</td>\n      <td>...</td>\n      <td>0.000000</td>\n      <td>1000000.000000</td>\n      <td>0.000000</td>\n      <td>0.000000</td>\n      <td>0.000000</td>\n      <td>53</td>\n      <td>1</td>\n      <td>0</td>\n      <td>1</td>\n      <td>1</td>\n    </tr>\n    <tr>\n      <th>2427</th>\n      <td>Stan_338</td>\n      <td>4</td>\n      <td>0.819799</td>\n      <td>0.618051</td>\n      <td>8.548537</td>\n      <td>13.831433</td>\n      <td>14.142136</td>\n      <td>15.297059</td>\n      <td>17.204651</td>\n      <td>17.291616</td>\n      <td>...</td>\n      <td>6.977967</td>\n      <td>0.040814</td>\n      <td>0.057854</td>\n      <td>0.005610</td>\n      <td>0.031493</td>\n      <td>42</td>\n      <td>1</td>\n      <td>1</td>\n      <td>0</td>\n      <td>1</td>\n    </tr>\n  </tbody>\n</table>\n<p>438 rows × 114 columns</p>\n</div>"
     },
     "execution_count": 2,
     "metadata": {},
     "output_type": "execute_result"
    }
   ],
   "source": [
    "df = pd.read_excel('all_patients.xlsx')\n",
    "df = df[df.shape_VoxelVolume > 125]\n",
    "df.drop(df[df['labels'] == 3].index, inplace = True) ## dropping label of the call OTHERS\n",
    "df.drop(df[df['number_annotations'] > 1].index, inplace = True)\n",
    "df"
   ],
   "metadata": {
    "collapsed": false,
    "ExecuteTime": {
     "start_time": "2023-07-06T11:31:28.488175Z",
     "end_time": "2023-07-06T11:31:31.320702Z"
    }
   }
  },
  {
   "cell_type": "code",
   "execution_count": 3,
   "outputs": [
    {
     "data": {
      "text/plain": "        Subjid  Tumor  Labels\n0       Oslo01      1       0\n4       Oslo02      4       1\n7       Oslo03      1       0\n11      Oslo04      1       0\n13      Oslo06      1       1\n...        ...    ...     ...\n2359  Stan_318      1       1\n2369  Stan_319      2       1\n2387  Stan_323      3       1\n2408  Stan_328      1       1\n2427  Stan_338      4       1\n\n[158 rows x 3 columns]",
      "text/html": "<div>\n<style scoped>\n    .dataframe tbody tr th:only-of-type {\n        vertical-align: middle;\n    }\n\n    .dataframe tbody tr th {\n        vertical-align: top;\n    }\n\n    .dataframe thead th {\n        text-align: right;\n    }\n</style>\n<table border=\"1\" class=\"dataframe\">\n  <thead>\n    <tr style=\"text-align: right;\">\n      <th></th>\n      <th>Subjid</th>\n      <th>Tumor</th>\n      <th>Labels</th>\n    </tr>\n  </thead>\n  <tbody>\n    <tr>\n      <th>0</th>\n      <td>Oslo01</td>\n      <td>1</td>\n      <td>0</td>\n    </tr>\n    <tr>\n      <th>4</th>\n      <td>Oslo02</td>\n      <td>4</td>\n      <td>1</td>\n    </tr>\n    <tr>\n      <th>7</th>\n      <td>Oslo03</td>\n      <td>1</td>\n      <td>0</td>\n    </tr>\n    <tr>\n      <th>11</th>\n      <td>Oslo04</td>\n      <td>1</td>\n      <td>0</td>\n    </tr>\n    <tr>\n      <th>13</th>\n      <td>Oslo06</td>\n      <td>1</td>\n      <td>1</td>\n    </tr>\n    <tr>\n      <th>...</th>\n      <td>...</td>\n      <td>...</td>\n      <td>...</td>\n    </tr>\n    <tr>\n      <th>2359</th>\n      <td>Stan_318</td>\n      <td>1</td>\n      <td>1</td>\n    </tr>\n    <tr>\n      <th>2369</th>\n      <td>Stan_319</td>\n      <td>2</td>\n      <td>1</td>\n    </tr>\n    <tr>\n      <th>2387</th>\n      <td>Stan_323</td>\n      <td>3</td>\n      <td>1</td>\n    </tr>\n    <tr>\n      <th>2408</th>\n      <td>Stan_328</td>\n      <td>1</td>\n      <td>1</td>\n    </tr>\n    <tr>\n      <th>2427</th>\n      <td>Stan_338</td>\n      <td>4</td>\n      <td>1</td>\n    </tr>\n  </tbody>\n</table>\n<p>158 rows × 3 columns</p>\n</div>"
     },
     "execution_count": 3,
     "metadata": {},
     "output_type": "execute_result"
    }
   ],
   "source": [
    "new_df = pd.DataFrame({'Subjid': df.iloc[:, 0], 'Tumor': df.iloc[:, 1], 'Labels': df.iloc[:, -1]})\n",
    "new_df = new_df.drop_duplicates(subset='Subjid', keep='first')\n",
    "#new_df.to_excel('labels_DL.xlsx', index = False)\n",
    "new_df"
   ],
   "metadata": {
    "collapsed": false,
    "ExecuteTime": {
     "start_time": "2023-07-06T11:31:41.793869Z",
     "end_time": "2023-07-06T11:31:41.797178Z"
    }
   }
  },
  {
   "cell_type": "code",
   "execution_count": 4,
   "outputs": [],
   "source": [
    "stan = new_df['Subjid'][59:].to_list()\n",
    "oslo = new_df['Subjid'][:59].to_list()"
   ],
   "metadata": {
    "collapsed": false,
    "ExecuteTime": {
     "start_time": "2023-07-06T11:31:49.211766Z",
     "end_time": "2023-07-06T11:31:49.215024Z"
    }
   }
  },
  {
   "cell_type": "markdown",
   "source": [
    "## we have created a new folder called deep learning with all the folder with all the folder per patient labels as 0, 1 or 2 with tumors greater than 125mm3"
   ],
   "metadata": {
    "collapsed": false
   }
  },
  {
   "cell_type": "code",
   "execution_count": 324,
   "outputs": [],
   "source": [
    "# Specify the path to the parent folder\n",
    "parent_folder = '/data/projects/TMOR/data/Deeplearning/'\n",
    "\n",
    "# Get a list of all subfolders within the parent folder\n",
    "subfolders = [f.path for f in os.scandir(parent_folder) if f.is_dir()]\n",
    "\n",
    "# Iterate over the subfolders and rename them\n",
    "\n",
    "for folder in subfolders:\n",
    "    folder_name = os.path.basename(folder)\n",
    "    new_folder_name = folder_name.replace(\"Subject\", \"Oslo\")\n",
    "    #new_folder_name = folder_name.replace(\"Mets\", \"Stan\")\n",
    "    new_folder_path = os.path.join(parent_folder, new_folder_name)\n",
    "    os.rename(folder, new_folder_path)\n"
   ],
   "metadata": {
    "collapsed": false,
    "ExecuteTime": {
     "start_time": "2023-06-19T17:47:59.313418Z",
     "end_time": "2023-06-19T17:47:59.341160Z"
    }
   }
  },
  {
   "cell_type": "code",
   "execution_count": 325,
   "outputs": [],
   "source": [
    "#delete the other file for OSLO\n",
    "directory = '/data/projects/TMOR/data/Deeplearning/'\n",
    "\n",
    "# Get a list of all patient folders\n",
    "patient_folders = glob.glob(os.path.join(directory, 'Oslo*'))\n",
    "\n",
    "for patient_folder in patient_folders:\n",
    "    #id = patient_folder[-2:]\n",
    "    seg_folders = glob.glob(os.path.join(patient_folder, 'seg*'))\n",
    "    t1_gds = glob.glob(os.path.join(patient_folder, 't1_gd*'))\n",
    "    #print(seg_folders)\n",
    "    # Iterate over each seg folder\n",
    "    for seg_folder in seg_folders:\n",
    "        for t1_gd in t1_gds:\n",
    "            #print(seg_folder)\n",
    "            image_files = glob.glob(os.path.join(patient_folder, '*'))\n",
    "            #print(image_files)\n",
    "            # Delete all the image files except for 'seg_1'\n",
    "            for file in image_files:\n",
    "            # Check if the file is in the segmentation folder or T1-Gd folder\n",
    "                if file not in [seg_folder, t1_gd]:\n",
    "                    os.remove(file)"
   ],
   "metadata": {
    "collapsed": false,
    "ExecuteTime": {
     "start_time": "2023-06-19T17:48:07.240665Z",
     "end_time": "2023-06-19T17:48:07.380290Z"
    }
   }
  },
  {
   "cell_type": "code",
   "execution_count": 326,
   "outputs": [],
   "source": [
    "patient_folders = glob.glob(os.path.join(directory, 'Oslo*'))\n",
    "import shutil\n",
    "for patient_folder in patient_folders:\n",
    "    id = patient_folder[-6:]\n",
    "    if id not in oslo:\n",
    "        shutil.rmtree(patient_folder)"
   ],
   "metadata": {
    "collapsed": false,
    "ExecuteTime": {
     "start_time": "2023-06-19T17:48:30.041220Z",
     "end_time": "2023-06-19T17:48:30.067252Z"
    }
   }
  },
  {
   "cell_type": "code",
   "execution_count": 196,
   "outputs": [],
   "source": [
    "import os\n",
    "\n",
    "directory = '/data/projects/TMOR/data/Deeplearning/'\n",
    "\n",
    "patient_folders = glob.glob(os.path.join(directory, 'Oslo*'))\n",
    "\n",
    "\n",
    "# Iterate over patient folders\n",
    "for patient_folder in patient_folders:\n",
    "    #patient_path = os.path.join(directory, patient_folder)\n",
    "    seg_folders = glob.glob(os.path.join(patient_folder, 'seg*'))\n",
    "    # Rename segmentation files\n",
    "    for seg_folder in seg_folders:\n",
    "        seg_old_path = seg_folder\n",
    "        seg_new_path = os.path.join(patient_folder, 'seg.nii.gz')\n",
    "        os.rename(seg_old_path, seg_new_path)\n",
    "        #print(seg_new_path)"
   ],
   "metadata": {
    "collapsed": false,
    "ExecuteTime": {
     "start_time": "2023-06-20T21:41:11.352413Z",
     "end_time": "2023-06-20T21:41:11.359538Z"
    }
   }
  },
  {
   "cell_type": "markdown",
   "source": [
    "## STANDFORD DATA"
   ],
   "metadata": {
    "collapsed": false
   }
  },
  {
   "cell_type": "code",
   "execution_count": 328,
   "outputs": [],
   "source": [
    "# Specify the path to the parent folder\n",
    "parent_folder = '/data/projects/TMOR/data/Deeplearning/'\n",
    "\n",
    "# Get a list of all subfolders within the parent folder\n",
    "subfolders = [f.path for f in os.scandir(parent_folder) if f.is_dir()]\n",
    "\n",
    "# Iterate over the subfolders and rename them\n",
    "\n",
    "for folder in subfolders:\n",
    "    folder_name = os.path.basename(folder)\n",
    "    new_folder_name = folder_name.replace(\"Mets\", \"Stan\")\n",
    "    new_folder_path = os.path.join(parent_folder, new_folder_name)\n",
    "    os.rename(folder, new_folder_path)\n"
   ],
   "metadata": {
    "collapsed": false,
    "ExecuteTime": {
     "start_time": "2023-06-19T17:51:09.426017Z",
     "end_time": "2023-06-19T17:51:09.465564Z"
    }
   }
  },
  {
   "cell_type": "code",
   "execution_count": 329,
   "outputs": [],
   "source": [
    "import os\n",
    "import glob\n",
    "#delete the other file for OSLO\n",
    "directory = '/data/projects/TMOR/data/Deeplearning/'\n",
    "\n",
    "# Get a list of all patient folders\n",
    "patient_folders = glob.glob(os.path.join(directory, 'Stan*'))\n",
    "\n",
    "for patient_folder in patient_folders:\n",
    "    seg_folders = glob.glob(os.path.join(patient_folder, 'seg*'))\n",
    "    t1_gds = glob.glob(os.path.join(patient_folder, 't1_gd*'))\n",
    "    # Iterate over each seg folder\n",
    "    for seg_folder in seg_folders:\n",
    "        for t1_gd in t1_gds:\n",
    "            image_files = glob.glob(os.path.join(patient_folder, '*'))\n",
    "            # Delete all the image files except for 'seg_1'\n",
    "            for file in image_files:\n",
    "                # Check if the file is in the segmentation folder or T1-Gd folder\n",
    "                if file not in [seg_folder, t1_gd]:\n",
    "                    os.remove(file)\n"
   ],
   "metadata": {
    "collapsed": false,
    "ExecuteTime": {
     "start_time": "2023-06-19T17:51:13.837773Z",
     "end_time": "2023-06-19T17:51:14.245613Z"
    }
   }
  },
  {
   "cell_type": "code",
   "execution_count": 330,
   "outputs": [],
   "source": [
    "#Remove all the files that are not within stan\n",
    "import shutil\n",
    "for patient_folder in patient_folders:\n",
    "    id = patient_folder[-8:]\n",
    "    if id not in stan:\n",
    "        shutil.rmtree(patient_folder)"
   ],
   "metadata": {
    "collapsed": false,
    "ExecuteTime": {
     "start_time": "2023-06-19T17:51:18.497052Z",
     "end_time": "2023-06-19T17:51:18.561806Z"
    }
   }
  },
  {
   "cell_type": "markdown",
   "source": [
    "## move all t1_pre to the right folder of /data/projects/TMOR/data/Deeplearning/A/"
   ],
   "metadata": {
    "collapsed": false
   }
  },
  {
   "cell_type": "markdown",
   "source": [
    "## OSLO"
   ],
   "metadata": {
    "collapsed": false
   }
  },
  {
   "cell_type": "code",
   "execution_count": 28,
   "outputs": [],
   "source": [
    "# Specify the path to the parent folder\n",
    "parent_folder = '/data/projects/TMOR/data/OsloPreprocessed/OsloPreprocessed/'\n",
    "\n",
    "# Get a list of all subfolders within the parent folder\n",
    "subfolders = [f.path for f in os.scandir(parent_folder) if f.is_dir()]\n",
    "\n",
    "# Iterate over the subfolders and rename them\n",
    "\n",
    "for folder in subfolders:\n",
    "    folder_name = os.path.basename(folder)\n",
    "    new_folder_name = folder_name.replace(\"Subject\", \"Oslo\")\n",
    "    #new_folder_name = folder_name.replace(\"Mets\", \"Stan\")\n",
    "    new_folder_path = os.path.join(parent_folder, new_folder_name)\n",
    "    os.rename(folder, new_folder_path)"
   ],
   "metadata": {
    "collapsed": false,
    "ExecuteTime": {
     "start_time": "2023-07-06T11:55:52.166448Z",
     "end_time": "2023-07-06T11:55:52.181085Z"
    }
   }
  },
  {
   "cell_type": "code",
   "execution_count": 44,
   "outputs": [],
   "source": [
    "import shutil\n",
    "directory = '/data/projects/TMOR/data/OsloPreprocessed/OsloPreprocessed/'\n",
    "\n",
    "patient_folders = glob.glob(os.path.join(directory, 'Oslo*'))\n",
    "\n",
    "repository = '/data/projects/TMOR/data/Deeplearning/'\n",
    "\n",
    "pacientes = glob.glob(os.path.join(repository, 'Oslo*'))\n",
    "\n",
    "for patient_folder in patient_folders:\n",
    "    t1_pre_files = glob.glob(os.path.join(patient_folder, 't1_pre*'))\n",
    "    for t1 in t1_pre_files:\n",
    "        patient_id = os.path.basename(patient_folder)\n",
    "        patient_match = next((p for p in pacientes if patient_id in p), None)\n",
    "        if patient_match:\n",
    "        # Move each t1-pre file to the respective patient folder\n",
    "            for t1_pre_file in t1_pre_files:\n",
    "                destination_folder = os.path.join(patient_match, os.path.basename(t1_pre_file))\n",
    "                shutil.copy(t1_pre_file, destination_folder)"
   ],
   "metadata": {
    "collapsed": false,
    "ExecuteTime": {
     "start_time": "2023-07-06T12:08:01.073832Z",
     "end_time": "2023-07-06T12:08:02.492279Z"
    }
   }
  },
  {
   "cell_type": "markdown",
   "source": [
    "## Standford"
   ],
   "metadata": {
    "collapsed": false
   }
  },
  {
   "cell_type": "code",
   "execution_count": 45,
   "outputs": [],
   "source": [
    "# Specify the path to the parent folder\n",
    "parent_folder = '/data/projects/TMOR/data/StanfordPreprocessed/StanfordPreprocessed/'\n",
    "\n",
    "# Get a list of all subfolders within the parent folder\n",
    "subfolders = [f.path for f in os.scandir(parent_folder) if f.is_dir()]\n",
    "\n",
    "# Iterate over the subfolders and rename them\n",
    "\n",
    "for folder in subfolders:\n",
    "    folder_name = os.path.basename(folder)\n",
    "    #new_folder_name = folder_name.replace(\"Subject\", \"Oslo\")\n",
    "    new_folder_name = folder_name.replace(\"Mets\", \"Stan\")\n",
    "    new_folder_path = os.path.join(parent_folder, new_folder_name)\n",
    "    os.rename(folder, new_folder_path)"
   ],
   "metadata": {
    "collapsed": false,
    "ExecuteTime": {
     "start_time": "2023-07-06T12:15:15.366395Z",
     "end_time": "2023-07-06T12:15:15.406773Z"
    }
   }
  },
  {
   "cell_type": "code",
   "execution_count": 46,
   "outputs": [],
   "source": [
    "directory = '/data/projects/TMOR/data/StanfordPreprocessed/StanfordPreprocessed/'\n",
    "\n",
    "patient_folders = glob.glob(os.path.join(directory, 'Stan*'))\n",
    "\n",
    "repository = '/data/projects/TMOR/data/Deeplearning/'\n",
    "\n",
    "pacientes = glob.glob(os.path.join(repository, 'Stan*'))\n",
    "\n",
    "for patient_folder in patient_folders:\n",
    "    t1_pre_files = glob.glob(os.path.join(patient_folder, 't1_pre*'))\n",
    "    for t1 in t1_pre_files:\n",
    "        patient_id = os.path.basename(patient_folder)\n",
    "        patient_match = next((p for p in pacientes if patient_id in p), None)\n",
    "        if patient_match:\n",
    "        # Move each t1-pre file to the respective patient folder\n",
    "            for t1_pre_file in t1_pre_files:\n",
    "                destination_folder = os.path.join(patient_match, os.path.basename(t1_pre_file))\n",
    "                shutil.copy(t1_pre_file, destination_folder)"
   ],
   "metadata": {
    "collapsed": false,
    "ExecuteTime": {
     "start_time": "2023-07-06T12:16:31.730909Z",
     "end_time": "2023-07-06T12:16:33.740620Z"
    }
   }
  },
  {
   "cell_type": "markdown",
   "source": [
    "## class object"
   ],
   "metadata": {
    "collapsed": false
   }
  },
  {
   "cell_type": "markdown",
   "source": [
    "## lets divide the tumors"
   ],
   "metadata": {
    "collapsed": false
   }
  },
  {
   "cell_type": "code",
   "execution_count": 575,
   "outputs": [
    {
     "name": "stderr",
     "output_type": "stream",
     "text": [
      "100%|██████████| 157/157 [00:50<00:00,  3.09it/s]\n"
     ]
    }
   ],
   "source": [
    "D_x_max, D_y_max, D_z_max = 0, 0, 0\n",
    "seg_dir = '/data/projects/TMOR/data/Deeplearning/'\n",
    "#indices = []\n",
    "for subj_id in tqdm(os.listdir(seg_dir)):\n",
    "    #extrasct the correct id from the subjects\n",
    "    # Define paths to the segmentation and regular t1 postprocessed files for this subject\n",
    "    seg_glob = os.path.join(seg_dir, f'{subj_id}', f'seg.nii.gz')\n",
    "    reg_glob = os.path.join(seg_dir, f'{subj_id}', f't1_gd.nii.gz')\n",
    "    seg_paths = glob.glob(seg_glob)\n",
    "    reg_paths = glob.glob(reg_glob)\n",
    "    # Loop through all matching segmentation and registration files\n",
    "    for seg, reg in zip(seg_paths, reg_paths):\n",
    "        if os.path.exists(seg) and os.path.exists(reg):\n",
    "            mask = nib.load(seg)\n",
    "            vol_mask = mask.get_fdata()\n",
    "            for label in np.unique(vol_mask):\n",
    "                if label != 0:\n",
    "                    label_indices = np.argwhere(vol_mask == label)\n",
    "                    if len(label_indices) > 125:\n",
    "                        indices = label_indices\n",
    "                        X_min, X_max = np.min(indices[:, 0]), np.max(indices[:, 0])\n",
    "                        Y_min, Y_max = np.min(indices[:, 1]), np.max(indices[:, 1])\n",
    "                        Z_min, Z_max = np.min(indices[:, 2]), np.max(indices[:, 2])\n",
    "                        #we need the differences now boi\n",
    "                        D_x = X_max - X_min\n",
    "                        D_y = Y_max - Y_min\n",
    "                        D_z = Z_max - Z_min\n",
    "                        if D_x_max < D_x:\n",
    "                        \tD_x_max = D_x\n",
    "                        if D_y_max < D_y:\n",
    "                        \tD_y_max = D_y\n",
    "                        if D_z_max < D_z:\n",
    "                        \tD_z_max = D_z"
   ],
   "metadata": {
    "collapsed": false,
    "ExecuteTime": {
     "start_time": "2023-07-10T19:28:16.392124Z",
     "end_time": "2023-07-10T19:29:07.247802Z"
    }
   }
  },
  {
   "cell_type": "markdown",
   "source": [
    "## very final A"
   ],
   "metadata": {
    "collapsed": false
   }
  },
  {
   "cell_type": "code",
   "execution_count": 576,
   "outputs": [
    {
     "name": "stderr",
     "output_type": "stream",
     "text": [
      "100%|██████████| 157/157 [01:36<00:00,  1.62it/s]\n"
     ]
    }
   ],
   "source": [
    "drop_dir = '/data/projects/TMOR/data/'\n",
    "seg_dir = '/data/projects/TMOR/data/Deeplearning/'\n",
    "#indices = []\n",
    "from tqdm import tqdm\n",
    "for subj_id in tqdm(os.listdir(seg_dir)):\n",
    "    #extrasct the correct id from the subjects\n",
    "    # Define paths to the segmentation and regular t1 postprocessed files for this subject\n",
    "    seg_glob = os.path.join(seg_dir, f'{subj_id}', f'seg.nii.gz')\n",
    "    reg_glob = os.path.join(seg_dir, f'{subj_id}', f't1_gd.nii.gz')\n",
    "    reg2_glob = os.path.join(seg_dir, f'{subj_id}', f't1_pre.nii.gz')\n",
    "    seg_paths = glob.glob(seg_glob)\n",
    "    reg_paths = glob.glob(reg_glob)\n",
    "    reg2_paths = glob.glob(reg2_glob)\n",
    "    # Loop through all matching segmentation and registration files\n",
    "    for seg, reg, reg2 in zip(seg_paths, reg_paths, reg2_paths):\n",
    "        if os.path.exists(seg) and os.path.exists(reg) and os.path.exists(reg2):\n",
    "            mask = nib.load(seg)\n",
    "            vol_mask = mask.get_fdata()\n",
    "            t1_gd = nib.load(reg)\n",
    "            vol_t1_gd = t1_gd.get_fdata()\n",
    "            t1_pre = nib.load(reg2)\n",
    "            vol_t1_pre = t1_pre.get_fdata()\n",
    "            vol = vol_t1_gd.shape\n",
    "            for label in np.unique(vol_mask):\n",
    "                if label != 0:\n",
    "                    label_indices = np.argwhere(vol_mask == label)\n",
    "                    if len(label_indices) > 125:\n",
    "                        indices = label_indices\n",
    "                        X_min, X_max = np.min(indices[:, 0]), np.max(indices[:, 0])\n",
    "                        Y_min, Y_max = np.min(indices[:, 1]), np.max(indices[:, 1])\n",
    "                        Z_min, Z_max = np.min(indices[:, 2]), np.max(indices[:, 2])\n",
    "\n",
    "                        X_avg = (X_min + X_max) // 2\n",
    "                        Y_avg = (Y_min + Y_max) // 2\n",
    "                        Z_avg = (Z_min + Z_max) // 2\n",
    "                        # Pad the indices with zeros\n",
    "\n",
    "                        X_low = max(X_avg - (D_x_max // 2), 0)\n",
    "                        X_high = min(X_avg + (D_x_max // 2),  vol_mask.shape[0])\n",
    "                        Y_low = max(Y_avg - (D_y_max // 2), 0)\n",
    "                        Y_high = min(Y_avg + (D_y_max // 2), vol_mask.shape[1])\n",
    "                        Z_low = max(Z_avg - (D_z_max // 2), 0)\n",
    "                        Z_high = min(Z_avg + (D_z_max // 2), vol_mask.shape[2])\n",
    "\n",
    "                        pene = vol_mask[X_low:X_high, Y_low:Y_high, Z_low:Z_high]\n",
    "                        t1_desp = vol_t1_gd[X_low:X_high, Y_low:Y_high, Z_low:Z_high]\n",
    "                        t1_antes = vol_t1_pre[X_low:X_high, Y_low:Y_high, Z_low:Z_high]\n",
    "\n",
    "                        ## define the pads\n",
    "                        pad_width = [\n",
    "                            (0, max(D_x_max - pene.shape[0], 0)),\n",
    "                            (0, max(D_y_max - pene.shape[1], 0)),\n",
    "                            (0, max(D_z_max - pene.shape[2], 0))\n",
    "                        ]\n",
    "                        # define the partitions\n",
    "                        seg_partitioned = np.pad(pene, pad_width, mode='constant', constant_values=0)\n",
    "                        t1_gd_partitioned = np.pad(t1_desp, pad_width, mode='constant', constant_values=0)\n",
    "                        t1_pre_partitioned = np.pad(t1_antes, pad_width, mode='constant', constant_values=0)\n",
    "                        #\n",
    "                        output_dir = os.path.join(drop_dir, 'VeryFinalA', subj_id, str(int(label)))\n",
    "                        os.makedirs(output_dir, exist_ok=True)\n",
    "                        # tumors segemented of the segmentation of mask\n",
    "                        output_path_1 = os.path.join(output_dir, 'seg.nii.gz')\n",
    "                        nib.save(nib.Nifti1Image(seg_partitioned, mask.affine), output_path_1)\n",
    "                        # tumors segmented of the t1_gd\n",
    "                        output_path_2 = os.path.join(output_dir, 't1_gd.nii.gz')\n",
    "                        nib.save(nib.Nifti1Image(t1_gd_partitioned, t1_gd.affine), output_path_2)\n",
    "                        # tumors segemented if t1_pre\n",
    "                        output_path_3 = os.path.join(output_dir, 't1_pre.nii.gz')\n",
    "                        nib.save(nib.Nifti1Image(t1_pre_partitioned, t1_pre.affine), output_path_3)"
   ],
   "metadata": {
    "collapsed": false,
    "ExecuteTime": {
     "start_time": "2023-07-10T19:39:35.194774Z",
     "end_time": "2023-07-10T19:41:12.022138Z"
    }
   }
  },
  {
   "cell_type": "code",
   "execution_count": 593,
   "outputs": [
    {
     "name": "stderr",
     "output_type": "stream",
     "text": [
      "100%|██████████| 157/157 [05:31<00:00,  2.11s/it]\n"
     ]
    }
   ],
   "source": [
    "from matplotlib import pyplot as plt\n",
    "\n",
    "drop_dir = '/data/projects/TMOR/data/'\n",
    "seg_dir = '/data/projects/TMOR/data/Deeplearning/'\n",
    "#indices = []\n",
    "for subj_id in tqdm(os.listdir(seg_dir)):\n",
    "    #extrasct the correct id from the subjects\n",
    "    # Define paths to the segmentation and regular t1 postprocessed files for this subject\n",
    "    seg_glob = os.path.join(seg_dir, f'{subj_id}', f'seg.nii.gz')\n",
    "    reg_glob = os.path.join(seg_dir, f'{subj_id}', f't1_gd.nii.gz')\n",
    "    reg2_glob = os.path.join(seg_dir, f'{subj_id}', f't1_pre.nii.gz')\n",
    "    seg_paths = glob.glob(seg_glob)\n",
    "    reg_paths = glob.glob(reg_glob)\n",
    "    reg2_paths = glob.glob(reg2_glob)\n",
    "    # Loop through all matching segmentation and registration files\n",
    "    for seg, reg, reg2 in zip(seg_paths, reg_paths, reg2_paths):\n",
    "        if os.path.exists(seg) and os.path.exists(reg) and os.path.exists(reg2):\n",
    "            mask = nib.load(seg)\n",
    "            vol_mask = mask.get_fdata()\n",
    "            t1_gd = nib.load(reg)\n",
    "            vol_t1_gd = t1_gd.get_fdata()\n",
    "            t1_pre = nib.load(reg2)\n",
    "            vol_t1_pre = t1_pre.get_fdata()\n",
    "            vol = vol_t1_gd\n",
    "            for label in np.unique(vol_mask):\n",
    "                if label != 0:\n",
    "                    label_indices = np.argwhere(vol_mask == label)\n",
    "                    if len(label_indices) > 125:\n",
    "                        indices = label_indices\n",
    "                        X_min, X_max = np.min(indices[:, 0]), np.max(indices[:, 0])\n",
    "                        Y_min, Y_max = np.min(indices[:, 1]), np.max(indices[:, 1])\n",
    "                        Z_min, Z_max = np.min(indices[:, 2]), np.max(indices[:, 2])\n",
    "\n",
    "                        mean_x = (X_min + X_max) // 2 #if != vol.shape[0] else vol.shape[0] - 1\n",
    "                        mean_y = (Y_min + Y_max) // 2\n",
    "                        mean_z  = (Z_min + Z_max) // 2\n",
    "\n",
    "                        x_start = max(mean_x - (D_x_max // 2), 0)\n",
    "                        x_end = min(mean_x + (D_x_max // 2),  vol_mask.shape[0])\n",
    "                        y_start = max(mean_y - (D_y_max // 2), 0)\n",
    "                        y_end = min(mean_y + (D_y_max // 2), vol_mask.shape[1])\n",
    "                        z_start = max(mean_z - (D_z_max // 2), 0)\n",
    "                        z_end = min(mean_z + (D_z_max // 2), vol_mask.shape[2])\n",
    "\n",
    "                        fig, axes = plt.subplots(2,2)\n",
    "                        axes[0,1].imshow(vol[mean_x, :, :].T, origin='lower')\n",
    "                        axes[0,1].scatter(mean_y, mean_z)\n",
    "                        axes[0,1].plot([y_start, y_start], [z_start, z_end])\n",
    "                        axes[0,1].plot([y_end, y_end], [z_start, z_end])\n",
    "                        axes[0,1].plot([y_start, y_end], [z_start, z_start])\n",
    "                        axes[0,1].plot([y_start, y_end], [z_end, z_end])\n",
    "                        axes[0,1].set_xlabel('y axis')\n",
    "                        axes[0,1].set_ylabel('z axis')\n",
    "                        axes[0,1].set_title('x plane')\n",
    "                        axes[0,1].set_aspect('equal')\n",
    "                        axes[0,0].imshow(vol[:, mean_y, :].T, origin='lower')\n",
    "                        axes[0,0].scatter(mean_x, mean_z)\n",
    "                        axes[0,0].plot([x_start, x_start], [z_start, z_end])\n",
    "                        axes[0,0].plot([x_end, x_end], [z_start, z_end])\n",
    "                        axes[0,0].plot([x_start, x_end], [z_start, z_start])\n",
    "                        axes[0,0].plot([x_start, x_end], [z_end, z_end])\n",
    "                        axes[0,0].set_xlabel('x axis')\n",
    "                        axes[0,0].set_ylabel('z axis')\n",
    "                        axes[0,0].set_title('y plane')\n",
    "                        axes[0,0].set_aspect('equal')\n",
    "                        axes[1,0].imshow(vol[:, :, mean_z].T, origin='lower')\n",
    "                        axes[1,0].scatter(mean_x, mean_y)\n",
    "                        axes[1,0].plot([x_start, x_start], [y_start, y_end])\n",
    "                        axes[1,0].plot([x_end, x_end], [y_start, y_end])\n",
    "                        axes[1,0].plot([x_start, x_end], [y_start, y_start])\n",
    "                        axes[1,0].plot([x_start, x_end], [y_end, y_end])\n",
    "                        axes[1,0].set_xlabel('x axis')\n",
    "                        axes[1,0].set_ylabel('y axis')\n",
    "                        axes[1,0].set_title('z plane')\n",
    "                        axes[1,0].set_aspect('equal')\n",
    "                        axes[1,1].axis('off')\n",
    "                        fig.suptitle(f'3D MRI scan with bounding box (Label: {label})')\n",
    "                        fig.tight_layout()\n",
    "                        fig.savefig(f'mri_scan_{label}.png')  # Save the figure to a file\n",
    "                        plt.close(fig)\n",
    "\n",
    "                        output_dir = os.path.join(drop_dir, 'VeryFinalRepresentationA')\n",
    "                        os.makedirs(output_dir, exist_ok=True)\n",
    "\n",
    "                        fig.savefig(os.path.join(output_dir, f'{subj_id}mri_scan_{label}.png'))\n"
   ],
   "metadata": {
    "collapsed": false,
    "ExecuteTime": {
     "start_time": "2023-07-11T12:44:16.572243Z",
     "end_time": "2023-07-11T12:49:48.150999Z"
    }
   }
  },
  {
   "cell_type": "markdown",
   "source": [
    "## very final B"
   ],
   "metadata": {
    "collapsed": false
   }
  },
  {
   "cell_type": "code",
   "execution_count": 602,
   "outputs": [
    {
     "name": "stderr",
     "output_type": "stream",
     "text": [
      "100%|██████████| 157/157 [02:16<00:00,  1.15it/s]\n"
     ]
    }
   ],
   "source": [
    "drop_dir = '/data/projects/TMOR/data/'\n",
    "seg_dir = '/data/projects/TMOR/data/Deeplearning/'\n",
    "#indices = []\n",
    "from tqdm import tqdm\n",
    "for subj_id in tqdm(os.listdir(seg_dir)):\n",
    "    #extrasct the correct id from the subjects\n",
    "    # Define paths to the segmentation and regular t1 postprocessed files for this subject\n",
    "    seg_glob = os.path.join(seg_dir, f'{subj_id}', f'seg.nii.gz')\n",
    "    reg_glob = os.path.join(seg_dir, f'{subj_id}', f't1_gd.nii.gz')\n",
    "    reg2_glob = os.path.join(seg_dir, f'{subj_id}', f't1_pre.nii.gz')\n",
    "    seg_paths = glob.glob(seg_glob)\n",
    "    reg_paths = glob.glob(reg_glob)\n",
    "    reg2_paths = glob.glob(reg2_glob)\n",
    "    # Loop through all matching segmentation and registration files\n",
    "    for seg, reg, reg2 in zip(seg_paths, reg_paths, reg2_paths):\n",
    "        if os.path.exists(seg) and os.path.exists(reg) and os.path.exists(reg2):\n",
    "            mask = nib.load(seg)\n",
    "            vol_mask = mask.get_fdata()\n",
    "            t1_gd = nib.load(reg)\n",
    "            vol_t1_gd = t1_gd.get_fdata()\n",
    "            t1_pre = nib.load(reg2)\n",
    "            vol_t1_pre = t1_pre.get_fdata()\n",
    "            vol = vol_t1_gd\n",
    "            for label in np.unique(vol_mask):\n",
    "                if label != 0:\n",
    "                    label_indices = np.argwhere(vol_mask == label)\n",
    "                    if len(label_indices) > 125:\n",
    "                        indices = label_indices\n",
    "                        X_min, X_max = np.min(indices[:, 0]), np.max(indices[:, 0])\n",
    "                        Y_min, Y_max = np.min(indices[:, 1]), np.max(indices[:, 1])\n",
    "                        Z_min, Z_max = np.min(indices[:, 2]), np.max(indices[:, 2])\n",
    "\n",
    "                        X_avg = (X_min + X_max) // 2\n",
    "                        Y_avg = (Y_min + Y_max) // 2\n",
    "                        Z_avg = (Z_min + Z_max) // 2\n",
    "                        # Pad the indices with zeros\n",
    "\n",
    "                        X_low = max(X_avg - (D_x_max // 2), min(np.argwhere(vol_mask != 0)[:, 0]) - 10)\n",
    "                        X_high = min(X_avg + (D_x_max // 2),  max(np.argwhere(vol_mask != 0)[:, 0]) + 10)\n",
    "                        Y_low = max(Y_avg - (D_y_max // 2), min(np.argwhere(vol_mask != 0)[:, 1]) - 10)\n",
    "                        Y_high = min(Y_avg + (D_y_max // 2), max(np.argwhere(vol_mask != 0)[:, 1]) + 10)\n",
    "                        Z_low = max(Z_avg - (D_z_max // 2), min(np.argwhere(vol_mask != 0)[:, 2]) - 10)\n",
    "                        Z_high = min(Z_avg + (D_z_max // 2), max(np.argwhere(vol_mask != 0)[:, 2]) + 10)\n",
    "\n",
    "                        pene = vol_mask[X_low:X_high, Y_low:Y_high, Z_low:Z_high]\n",
    "                        t1_desp = vol_t1_gd[X_low:X_high, Y_low:Y_high, Z_low:Z_high]\n",
    "                        t1_antes = vol_t1_pre[X_low:X_high, Y_low:Y_high, Z_low:Z_high]\n",
    "\n",
    "                        ## define the pads\n",
    "                        pad_width = [\n",
    "                            (0, max(D_x_max - pene.shape[0], 0)),\n",
    "                            (0, max(D_y_max - pene.shape[1], 0)),\n",
    "                            (0, max(D_z_max - pene.shape[2], 0))\n",
    "                        ]\n",
    "                        # define the partitions\n",
    "                        seg_partitioned = np.pad(pene, pad_width, mode='constant', constant_values=0)\n",
    "                        t1_gd_partitioned = np.pad(t1_desp, pad_width, mode='constant', constant_values=0)\n",
    "                        t1_pre_partitioned = np.pad(t1_antes, pad_width, mode='constant', constant_values=0)\n",
    "                        #\n",
    "                        output_dir = os.path.join(drop_dir, 'VeryFinalB', subj_id, str(int(label)))\n",
    "                        os.makedirs(output_dir, exist_ok=True)\n",
    "                        # tumors segemented of the segmentation of mask\n",
    "                        output_path_1 = os.path.join(output_dir, 'seg.nii.gz')\n",
    "                        nib.save(nib.Nifti1Image(seg_partitioned, mask.affine), output_path_1)\n",
    "                        # tumors segmented of the t1_gd\n",
    "                        output_path_2 = os.path.join(output_dir, 't1_gd.nii.gz')\n",
    "                        nib.save(nib.Nifti1Image(t1_gd_partitioned, t1_gd.affine), output_path_2)\n",
    "                        # tumors segemented if t1_pre\n",
    "                        output_path_3 = os.path.join(output_dir, 't1_pre.nii.gz')\n",
    "                        nib.save(nib.Nifti1Image(t1_pre_partitioned, t1_pre.affine), output_path_3)"
   ],
   "metadata": {
    "collapsed": false,
    "ExecuteTime": {
     "start_time": "2023-07-11T13:09:18.980278Z",
     "end_time": "2023-07-11T13:11:35.423864Z"
    }
   }
  },
  {
   "cell_type": "code",
   "execution_count": 601,
   "outputs": [
    {
     "name": "stderr",
     "output_type": "stream",
     "text": [
      "100%|██████████| 157/157 [06:04<00:00,  2.32s/it]\n"
     ]
    }
   ],
   "source": [
    "drop_dir = '/data/projects/TMOR/data/'\n",
    "seg_dir = '/data/projects/TMOR/data/Deeplearning/'\n",
    "#indices = []\n",
    "from tqdm import tqdm\n",
    "for subj_id in tqdm(os.listdir(seg_dir)):\n",
    "    #extrasct the correct id from the subjects\n",
    "    # Define paths to the segmentation and regular t1 postprocessed files for this subject\n",
    "    seg_glob = os.path.join(seg_dir, f'{subj_id}', f'seg.nii.gz')\n",
    "    reg_glob = os.path.join(seg_dir, f'{subj_id}', f't1_gd.nii.gz')\n",
    "    reg2_glob = os.path.join(seg_dir, f'{subj_id}', f't1_pre.nii.gz')\n",
    "    seg_paths = glob.glob(seg_glob)\n",
    "    reg_paths = glob.glob(reg_glob)\n",
    "    reg2_paths = glob.glob(reg2_glob)\n",
    "    # Loop through all matching segmentation and registration files\n",
    "    for seg, reg, reg2 in zip(seg_paths, reg_paths, reg2_paths):\n",
    "        if os.path.exists(seg) and os.path.exists(reg) and os.path.exists(reg2):\n",
    "            mask = nib.load(seg)\n",
    "            vol_mask = mask.get_fdata()\n",
    "            t1_gd = nib.load(reg)\n",
    "            vol_t1_gd = t1_gd.get_fdata()\n",
    "            t1_pre = nib.load(reg2)\n",
    "            vol_t1_pre = t1_pre.get_fdata()\n",
    "            vol = vol_t1_gd\n",
    "            for label in np.unique(vol_mask):\n",
    "                if label != 0:\n",
    "                    label_indices = np.argwhere(vol_mask == label)\n",
    "                    if len(label_indices) > 125:\n",
    "                        indices = label_indices\n",
    "                        X_min, X_max = np.min(indices[:, 0]), np.max(indices[:, 0])\n",
    "                        Y_min, Y_max = np.min(indices[:, 1]), np.max(indices[:, 1])\n",
    "                        Z_min, Z_max = np.min(indices[:, 2]), np.max(indices[:, 2])\n",
    "\n",
    "                        mean_x = (X_min + X_max) // 2\n",
    "                        mean_y = (Y_min + Y_max) // 2\n",
    "                        mean_z = (Z_min + Z_max) // 2\n",
    "                        # Pad the indices with zeros\n",
    "\n",
    "                        x_start = max(mean_x - (D_x_max // 2), min(np.argwhere(vol_mask != 0)[:, 0]) - 10)\n",
    "                        x_end = min(mean_x + (D_x_max // 2),  max(np.argwhere(vol_mask != 0)[:, 0]) + 10)\n",
    "                        y_start = max(mean_y - (D_y_max // 2), min(np.argwhere(vol_mask != 0)[:, 1]) - 10)\n",
    "                        y_end = min(mean_y + (D_y_max // 2), max(np.argwhere(vol_mask != 0)[:, 1]) + 10)\n",
    "                        z_start = max(mean_z - (D_z_max // 2), min(np.argwhere(vol_mask != 0)[:, 2]) - 10)\n",
    "                        z_end = min(mean_z + (D_z_max // 2), max(np.argwhere(vol_mask != 0)[:, 2]) + 10)\n",
    "\n",
    "                        fig, axes = plt.subplots(2,2)\n",
    "                        axes[0,1].imshow(vol[mean_x, :, :].T, origin='lower')\n",
    "                        axes[0,1].scatter(mean_y, mean_z)\n",
    "                        axes[0,1].plot([y_start, y_start], [z_start, z_end])\n",
    "                        axes[0,1].plot([y_end, y_end], [z_start, z_end])\n",
    "                        axes[0,1].plot([y_start, y_end], [z_start, z_start])\n",
    "                        axes[0,1].plot([y_start, y_end], [z_end, z_end])\n",
    "                        axes[0,1].set_xlabel('y axis')\n",
    "                        axes[0,1].set_ylabel('z axis')\n",
    "                        axes[0,1].set_title('x plane')\n",
    "                        axes[0,1].set_aspect('equal')\n",
    "                        axes[0,0].imshow(vol[:, mean_y, :].T, origin='lower')\n",
    "                        axes[0,0].scatter(mean_x, mean_z)\n",
    "                        axes[0,0].plot([x_start, x_start], [z_start, z_end])\n",
    "                        axes[0,0].plot([x_end, x_end], [z_start, z_end])\n",
    "                        axes[0,0].plot([x_start, x_end], [z_start, z_start])\n",
    "                        axes[0,0].plot([x_start, x_end], [z_end, z_end])\n",
    "                        axes[0,0].set_xlabel('x axis')\n",
    "                        axes[0,0].set_ylabel('z axis')\n",
    "                        axes[0,0].set_title('y plane')\n",
    "                        axes[0,0].set_aspect('equal')\n",
    "                        axes[1,0].imshow(vol[:, :, mean_z].T, origin='lower')\n",
    "                        axes[1,0].scatter(mean_x, mean_y)\n",
    "                        axes[1,0].plot([x_start, x_start], [y_start, y_end])\n",
    "                        axes[1,0].plot([x_end, x_end], [y_start, y_end])\n",
    "                        axes[1,0].plot([x_start, x_end], [y_start, y_start])\n",
    "                        axes[1,0].plot([x_start, x_end], [y_end, y_end])\n",
    "                        axes[1,0].set_xlabel('x axis')\n",
    "                        axes[1,0].set_ylabel('y axis')\n",
    "                        axes[1,0].set_title('z plane')\n",
    "                        axes[1,0].set_aspect('equal')\n",
    "                        axes[1,1].axis('off')\n",
    "                        fig.suptitle(f'3D MRI scan with bounding box (Label: {label})')\n",
    "                        fig.tight_layout()\n",
    "                        fig.savefig(f'mri_scan_{label}.png')  # Save the figure to a file\n",
    "                        plt.close(fig)\n",
    "\n",
    "                        output_dir = os.path.join(drop_dir, 'VeryFinalRepresentationB')\n",
    "                        os.makedirs(output_dir, exist_ok=True)\n",
    "\n",
    "                        fig.savefig(os.path.join(output_dir, f'{subj_id}mri_scan_{label}.png'))\n",
    "\n"
   ],
   "metadata": {
    "collapsed": false,
    "ExecuteTime": {
     "start_time": "2023-07-11T13:00:52.281123Z",
     "end_time": "2023-07-11T13:06:56.793418Z"
    }
   }
  },
  {
   "cell_type": "markdown",
   "source": [
    "## vERY FINAL C"
   ],
   "metadata": {
    "collapsed": false
   }
  },
  {
   "cell_type": "code",
   "execution_count": 604,
   "outputs": [
    {
     "name": "stderr",
     "output_type": "stream",
     "text": [
      "100%|██████████| 157/157 [02:21<00:00,  1.11it/s]\n"
     ]
    }
   ],
   "source": [
    "from matplotlib import pyplot as plt\n",
    "\n",
    "drop_dir = '/data/projects/TMOR/data/'\n",
    "seg_dir = '/data/projects/TMOR/data/Deeplearning/'\n",
    "#indices = []\n",
    "from tqdm import tqdm\n",
    "for subj_id in tqdm(os.listdir(seg_dir)):\n",
    "    #extrasct the correct id from the subjects\n",
    "    # Define paths to the segmentation and regular t1 postprocessed files for this subject\n",
    "    seg_glob = os.path.join(seg_dir, f'{subj_id}', f'seg.nii.gz')\n",
    "    reg_glob = os.path.join(seg_dir, f'{subj_id}', f't1_gd.nii.gz')\n",
    "    reg2_glob = os.path.join(seg_dir, f'{subj_id}', f't1_pre.nii.gz')\n",
    "    seg_paths = glob.glob(seg_glob)\n",
    "    reg_paths = glob.glob(reg_glob)\n",
    "    reg2_paths = glob.glob(reg2_glob)\n",
    "    # Loop through all matching segmentation and registration files\n",
    "    for seg, reg, reg2 in zip(seg_paths, reg_paths, reg2_paths):\n",
    "        if os.path.exists(seg) and os.path.exists(reg) and os.path.exists(reg2):\n",
    "            mask = nib.load(seg)\n",
    "            vol_mask = mask.get_fdata()\n",
    "            t1_gd = nib.load(reg)\n",
    "            vol_t1_gd = t1_gd.get_fdata()\n",
    "            t1_pre = nib.load(reg2)\n",
    "            vol_t1_pre = t1_pre.get_fdata()\n",
    "            vol = vol_t1_gd\n",
    "            for label in np.unique(vol_mask):\n",
    "                if label != 0:\n",
    "                    label_indices = np.argwhere(vol_mask == label)\n",
    "                    if len(label_indices) > 125:\n",
    "                        indices = label_indices\n",
    "                        X_min, X_max = np.min(indices[:, 0]), np.max(indices[:, 0])\n",
    "                        Y_min, Y_max = np.min(indices[:, 1]), np.max(indices[:, 1])\n",
    "                        Z_min, Z_max = np.min(indices[:, 2]), np.max(indices[:, 2])\n",
    "\n",
    "                        mean_x = (X_min + X_max) // 2\n",
    "                        mean_y = (Y_min + Y_max) // 2\n",
    "                        mean_z  = (Z_min + Z_max) // 2\n",
    "                        # Pad the indices with zeros\n",
    "                        x_start1 = max(mean_x - (D_x_max // 2), min(np.argwhere(vol_mask != 0)[:, 0]))\n",
    "                        x_end1 = min(mean_x + (D_x_max // 2),  max(np.argwhere(vol_mask != 0)[:, 0]))\n",
    "                        y_start1 = max(mean_y - (D_y_max // 2), min(np.argwhere(vol_mask != 0)[:, 1]))\n",
    "                        y_end1 = min(mean_y + (D_y_max // 2), max(np.argwhere(vol_mask != 0)[:, 1]))\n",
    "                        z_start1 = max(mean_z - (D_z_max // 2), min(np.argwhere(vol_mask != 0)[:, 2]))\n",
    "                        z_end1 = min(mean_z + (D_z_max // 2), max(np.argwhere(vol_mask != 0)[:, 2]))\n",
    "\n",
    "                        x_diff_down1 = mean_x - x_start1\n",
    "                        x_diff_up1 = x_end1 - mean_x\n",
    "                        y_diff_down1 = mean_y - y_start1\n",
    "                        y_diff_up1 = y_end1 - mean_y\n",
    "                        z_diff_down1 = mean_z - z_start1\n",
    "                        z_diff_up1 = z_end1- mean_z########\n",
    "\n",
    "                        x_diff_down = x_diff_down1 if x_diff_down1 < 20 else 20\n",
    "                        x_diff_up = x_diff_up1 if x_diff_up1 < 20 else 20\n",
    "                        y_diff_down = y_diff_down1 if y_diff_down1 < 20 else 20\n",
    "                        y_diff_up = y_diff_up1 if y_diff_up1 < 20 else 20\n",
    "                        z_diff_down = z_diff_down1 if z_diff_down1 < 20 else 20\n",
    "                        z_diff_up = z_diff_up1 if z_diff_up1 < 20 else 20\n",
    "\n",
    "                        x_start = x_start1 - 5 if x_diff_down < x_diff_up else mean_x - (x_diff_up) - 5\n",
    "                        x_end = x_end1 + 5 if x_diff_up < x_diff_down else mean_x + (x_diff_down) + 5\n",
    "                        y_start = y_start1 - 5 if y_diff_down < y_diff_up else mean_y - (y_diff_up) - 5\n",
    "                        y_end = y_end1 + 5 if y_diff_up < y_diff_down else mean_y + (y_diff_down ) + 5\n",
    "                        z_start = z_start1 -5 if z_diff_down < z_diff_up else mean_z - (z_diff_up) - 5\n",
    "                        z_end = z_end1 +5 if z_diff_up < z_diff_down else mean_z + (z_diff_down) + 5\n",
    "\n",
    "                        #x_start = x_start2 - 5\n",
    "                        #x_end = x_end2 + 5\n",
    "                        #y_start = y_start2 - 5\n",
    "                        #y_end = y_end2 + 5\n",
    "                        #z_start = z_start2 - 5\n",
    "                        #z_end =  z_end2 + 5\n",
    "                        #if mean_x >= vol.shape[0]:\n",
    "                            #continue\n",
    "                        pene = vol_mask[x_start:x_end, y_start:y_end, z_start:z_end]\n",
    "                        t1_desp = vol_t1_gd[x_start:x_end, y_start:y_end, z_start:z_end]\n",
    "                        t1_antes = vol_t1_pre[x_start:x_end, y_start:y_end, z_start:z_end]\n",
    "\n",
    "                        ## define the pads\n",
    "                        pad_width = [\n",
    "                            (0, max(D_x_max - pene.shape[0], 0)),\n",
    "                            (0, max(D_y_max - pene.shape[1], 0)),\n",
    "                            (0, max(D_z_max - pene.shape[2], 0))\n",
    "                        ]\n",
    "                        # define the partitions\n",
    "                        seg_partitioned = np.pad(pene, pad_width, mode='constant', constant_values=0)\n",
    "                        t1_gd_partitioned = np.pad(t1_desp, pad_width, mode='constant', constant_values=0)\n",
    "                        t1_pre_partitioned = np.pad(t1_antes, pad_width, mode='constant', constant_values=0)\n",
    "                        #\n",
    "                        output_dir = os.path.join(drop_dir, 'VeryFinalC', subj_id, str(int(label)))\n",
    "                        os.makedirs(output_dir, exist_ok=True)\n",
    "                        # tumors segemented of the segmentation of mask\n",
    "                        output_path_1 = os.path.join(output_dir, 'seg.nii.gz')\n",
    "                        nib.save(nib.Nifti1Image(seg_partitioned, mask.affine), output_path_1)\n",
    "                        # tumors segmented of the t1_gd\n",
    "                        output_path_2 = os.path.join(output_dir, 't1_gd.nii.gz')\n",
    "                        nib.save(nib.Nifti1Image(t1_gd_partitioned, t1_gd.affine), output_path_2)\n",
    "                        # tumors segemented if t1_pre\n",
    "                        output_path_3 = os.path.join(output_dir, 't1_pre.nii.gz')\n",
    "                        nib.save(nib.Nifti1Image(t1_pre_partitioned, t1_pre.affine), output_path_3)\n"
   ],
   "metadata": {
    "collapsed": false,
    "ExecuteTime": {
     "start_time": "2023-07-11T14:36:26.339345Z",
     "end_time": "2023-07-11T14:38:47.948754Z"
    }
   }
  },
  {
   "cell_type": "code",
   "execution_count": 605,
   "outputs": [
    {
     "name": "stderr",
     "output_type": "stream",
     "text": [
      "100%|██████████| 157/157 [06:32<00:00,  2.50s/it]\n"
     ]
    }
   ],
   "source": [
    "from matplotlib import pyplot as plt\n",
    "\n",
    "drop_dir = '/data/projects/TMOR/data/'\n",
    "seg_dir = '/data/projects/TMOR/data/Deeplearning/'\n",
    "#indices = []\n",
    "from tqdm import tqdm\n",
    "for subj_id in tqdm(os.listdir(seg_dir)):\n",
    "    #extrasct the correct id from the subjects\n",
    "    # Define paths to the segmentation and regular t1 postprocessed files for this subject\n",
    "    seg_glob = os.path.join(seg_dir, f'{subj_id}', f'seg.nii.gz')\n",
    "    reg_glob = os.path.join(seg_dir, f'{subj_id}', f't1_gd.nii.gz')\n",
    "    reg2_glob = os.path.join(seg_dir, f'{subj_id}', f't1_pre.nii.gz')\n",
    "    seg_paths = glob.glob(seg_glob)\n",
    "    reg_paths = glob.glob(reg_glob)\n",
    "    reg2_paths = glob.glob(reg2_glob)\n",
    "    # Loop through all matching segmentation and registration files\n",
    "    for seg, reg, reg2 in zip(seg_paths, reg_paths, reg2_paths):\n",
    "        if os.path.exists(seg) and os.path.exists(reg) and os.path.exists(reg2):\n",
    "            mask = nib.load(seg)\n",
    "            vol_mask = mask.get_fdata()\n",
    "            t1_gd = nib.load(reg)\n",
    "            vol_t1_gd = t1_gd.get_fdata()\n",
    "            t1_pre = nib.load(reg2)\n",
    "            vol_t1_pre = t1_pre.get_fdata()\n",
    "            vol = vol_t1_gd\n",
    "            for label in np.unique(vol_mask):\n",
    "                if label != 0:\n",
    "                    label_indices = np.argwhere(vol_mask == label)\n",
    "                    if len(label_indices) > 125:\n",
    "                        indices = label_indices\n",
    "                        X_min, X_max = np.min(indices[:, 0]), np.max(indices[:, 0])\n",
    "                        Y_min, Y_max = np.min(indices[:, 1]), np.max(indices[:, 1])\n",
    "                        Z_min, Z_max = np.min(indices[:, 2]), np.max(indices[:, 2])\n",
    "\n",
    "                        mean_x = (X_min + X_max) // 2\n",
    "                        mean_y = (Y_min + Y_max) // 2\n",
    "                        mean_z  = (Z_min + Z_max) // 2\n",
    "                        # Pad the indices with zeros\n",
    "                        x_start1 = max(mean_x - (D_x_max // 2), min(np.argwhere(vol_mask != 0)[:, 0]))\n",
    "                        x_end1 = min(mean_x + (D_x_max // 2),  max(np.argwhere(vol_mask != 0)[:, 0]))\n",
    "                        y_start1 = max(mean_y - (D_y_max // 2), min(np.argwhere(vol_mask != 0)[:, 1]))\n",
    "                        y_end1 = min(mean_y + (D_y_max // 2), max(np.argwhere(vol_mask != 0)[:, 1]))\n",
    "                        z_start1 = max(mean_z - (D_z_max // 2), min(np.argwhere(vol_mask != 0)[:, 2]))\n",
    "                        z_end1 = min(mean_z + (D_z_max // 2), max(np.argwhere(vol_mask != 0)[:, 2]))\n",
    "\n",
    "                        x_diff_down1 = mean_x - x_start1\n",
    "                        x_diff_up1 = x_end1 - mean_x\n",
    "                        y_diff_down1 = mean_y - y_start1\n",
    "                        y_diff_up1 = y_end1 - mean_y\n",
    "                        z_diff_down1 = mean_z - z_start1\n",
    "                        z_diff_up1 = z_end1- mean_z########\n",
    "\n",
    "                        x_diff_down = x_diff_down1 if x_diff_down1 < 20 else 20\n",
    "                        x_diff_up = x_diff_up1 if x_diff_up1 < 20 else 20\n",
    "                        y_diff_down = y_diff_down1 if y_diff_down1 < 20 else 20\n",
    "                        y_diff_up = y_diff_up1 if y_diff_up1 < 20 else 20\n",
    "                        z_diff_down = z_diff_down1 if z_diff_down1 < 20 else 20\n",
    "                        z_diff_up = z_diff_up1 if z_diff_up1 < 20 else 20\n",
    "\n",
    "                        x_start = x_start1 - 5 if x_diff_down < x_diff_up else mean_x - (x_diff_up) - 5\n",
    "                        x_end = x_end1 + 5 if x_diff_up < x_diff_down else mean_x + (x_diff_down) + 5\n",
    "                        y_start = y_start1 - 5 if y_diff_down < y_diff_up else mean_y - (y_diff_up) - 5\n",
    "                        y_end = y_end1 + 5 if y_diff_up < y_diff_down else mean_y + (y_diff_down ) + 5\n",
    "                        z_start = z_start1 -5 if z_diff_down < z_diff_up else mean_z - (z_diff_up) - 5\n",
    "                        z_end = z_end1 +5 if z_diff_up < z_diff_down else mean_z + (z_diff_down) + 5\n",
    "\n",
    "                        #x_start = x_start2 - 5\n",
    "                        #x_end = x_end2 + 5\n",
    "                        #y_start = y_start2 - 5\n",
    "                        #y_end = y_end2 + 5\n",
    "                        #z_start = z_start2 - 5\n",
    "                        #z_end =  z_end2 + 5\n",
    "                        #if mean_x >= vol.shape[0]:\n",
    "                            #continue\n",
    "                        # Display the tensor\n",
    "                        fig, axes = plt.subplots(2,2)\n",
    "                        axes[0,1].imshow(vol[mean_x, :, :].T, origin='lower')\n",
    "                        axes[0,1].scatter(mean_y, mean_z)\n",
    "                        axes[0,1].plot([y_start, y_start], [z_start, z_end])\n",
    "                        axes[0,1].plot([y_end, y_end], [z_start, z_end])\n",
    "                        axes[0,1].plot([y_start, y_end], [z_start, z_start])\n",
    "                        axes[0,1].plot([y_start, y_end], [z_end, z_end])\n",
    "                        axes[0,1].set_xlabel('y axis')\n",
    "                        axes[0,1].set_ylabel('z axis')\n",
    "                        axes[0,1].set_title('x plane')\n",
    "                        axes[0,1].set_aspect('equal')\n",
    "                        axes[0,0].imshow(vol[:, mean_y, :].T, origin='lower')\n",
    "                        axes[0,0].scatter(mean_x, mean_z)\n",
    "                        axes[0,0].plot([x_start, x_start], [z_start, z_end])\n",
    "                        axes[0,0].plot([x_end, x_end], [z_start, z_end])\n",
    "                        axes[0,0].plot([x_start, x_end], [z_start, z_start])\n",
    "                        axes[0,0].plot([x_start, x_end], [z_end, z_end])\n",
    "                        axes[0,0].set_xlabel('x axis')\n",
    "                        axes[0,0].set_ylabel('z axis')\n",
    "                        axes[0,0].set_title('y plane')\n",
    "                        axes[0,0].set_aspect('equal')\n",
    "                        axes[1,0].imshow(vol[:, :, mean_z].T, origin='lower')\n",
    "                        axes[1,0].scatter(mean_x, mean_y)\n",
    "                        axes[1,0].plot([x_start, x_start], [y_start, y_end])\n",
    "                        axes[1,0].plot([x_end, x_end], [y_start, y_end])\n",
    "                        axes[1,0].plot([x_start, x_end], [y_start, y_start])\n",
    "                        axes[1,0].plot([x_start, x_end], [y_end, y_end])\n",
    "                        axes[1,0].set_xlabel('x axis')\n",
    "                        axes[1,0].set_ylabel('y axis')\n",
    "                        axes[1,0].set_title('z plane')\n",
    "                        axes[1,0].set_aspect('equal')\n",
    "                        axes[1,1].axis('off')\n",
    "                        fig.suptitle(f'3D MRI scan with bounding box (Label: {label})')\n",
    "                        fig.tight_layout()\n",
    "                        fig.savefig(f'mri_scan_{label}.png')  # Save the figure to a file\n",
    "                        plt.close(fig)\n",
    "\n",
    "                        output_dir = os.path.join(drop_dir, 'VeryFinalRepresentationC')\n",
    "                        os.makedirs(output_dir, exist_ok=True)\n",
    "\n",
    "                        fig.savefig(os.path.join(output_dir, f'{subj_id}mri_scan_{label}.png'))\n"
   ],
   "metadata": {
    "collapsed": false,
    "ExecuteTime": {
     "start_time": "2023-07-11T14:38:57.138265Z",
     "end_time": "2023-07-11T14:45:29.884798Z"
    }
   }
  },
  {
   "cell_type": "markdown",
   "source": [
    "## Very final representation D"
   ],
   "metadata": {
    "collapsed": false
   }
  },
  {
   "cell_type": "code",
   "execution_count": 608,
   "outputs": [
    {
     "name": "stderr",
     "output_type": "stream",
     "text": [
      "100%|██████████| 157/157 [01:39<00:00,  1.57it/s]\n"
     ]
    }
   ],
   "source": [
    "from matplotlib import pyplot as plt\n",
    "\n",
    "drop_dir = '/data/projects/TMOR/data/'\n",
    "seg_dir = '/data/projects/TMOR/data/Deeplearning/'\n",
    "#indices = []\n",
    "from tqdm import tqdm\n",
    "for subj_id in tqdm(os.listdir(seg_dir)):\n",
    "    #extrasct the correct id from the subjects\n",
    "    # Define paths to the segmentation and regular t1 postprocessed files for this subject\n",
    "    seg_glob = os.path.join(seg_dir, f'{subj_id}', f'seg.nii.gz')\n",
    "    reg_glob = os.path.join(seg_dir, f'{subj_id}', f't1_gd.nii.gz')\n",
    "    reg2_glob = os.path.join(seg_dir, f'{subj_id}', f't1_pre.nii.gz')\n",
    "    seg_paths = glob.glob(seg_glob)\n",
    "    reg_paths = glob.glob(reg_glob)\n",
    "    reg2_paths = glob.glob(reg2_glob)\n",
    "    # Loop through all matching segmentation and registration files\n",
    "    for seg, reg, reg2 in zip(seg_paths, reg_paths, reg2_paths):\n",
    "        if os.path.exists(seg) and os.path.exists(reg) and os.path.exists(reg2):\n",
    "            mask = nib.load(seg)\n",
    "            vol_mask = mask.get_fdata()\n",
    "            t1_gd = nib.load(reg)\n",
    "            vol_t1_gd = t1_gd.get_fdata()\n",
    "            t1_pre = nib.load(reg2)\n",
    "            vol_t1_pre = t1_pre.get_fdata()\n",
    "            vol = vol_t1_gd\n",
    "            for label in np.unique(vol_mask):\n",
    "                if label != 0:\n",
    "                    label_indices = np.argwhere(vol_mask == label)\n",
    "                    if len(label_indices) > 125:\n",
    "                        indices = label_indices\n",
    "                        X_min, X_max = np.min(indices[:, 0]), np.max(indices[:, 0])\n",
    "                        Y_min, Y_max = np.min(indices[:, 1]), np.max(indices[:, 1])\n",
    "                        Z_min, Z_max = np.min(indices[:, 2]), np.max(indices[:, 2])\n",
    "\n",
    "                        mean_x = (X_min + X_max) // 2\n",
    "                        mean_y = (Y_min + Y_max) // 2\n",
    "                        mean_z  = (Z_min + Z_max) // 2\n",
    "                        # Pad the indices with zeros\n",
    "                        x_start = X_min - 15\n",
    "                        x_end = X_max + 15\n",
    "                        y_start = Y_min - 15\n",
    "                        y_end = Y_max + 15\n",
    "                        z_start = Z_min - 15\n",
    "                        z_end = Z_max + 15\n",
    "\n",
    "                        pene = vol_mask[x_start:x_end, y_start:y_end, z_start:z_end]\n",
    "                        t1_desp = vol_t1_gd[x_start:x_end, y_start:y_end, z_start:z_end]\n",
    "                        t1_antes = vol_t1_pre[x_start:x_end, y_start:y_end, z_start:z_end]\n",
    "\n",
    "                        ## define the pads\n",
    "                        pad_width = [\n",
    "                            (0, max(D_x_max - pene.shape[0], 0)),\n",
    "                            (0, max(D_y_max - pene.shape[1], 0)),\n",
    "                            (0, max(D_z_max - pene.shape[2], 0))\n",
    "                        ]\n",
    "                        # define the partitions\n",
    "                        seg_partitioned = np.pad(pene, pad_width, mode='constant', constant_values=0)\n",
    "                        t1_gd_partitioned = np.pad(t1_desp, pad_width, mode='constant', constant_values=0)\n",
    "                        t1_pre_partitioned = np.pad(t1_antes, pad_width, mode='constant', constant_values=0)\n",
    "                        #\n",
    "                        output_dir = os.path.join(drop_dir, 'VeryFinalD', subj_id, str(int(label)))\n",
    "                        os.makedirs(output_dir, exist_ok=True)\n",
    "                        # tumors segemented of the segmentation of mask\n",
    "                        output_path_1 = os.path.join(output_dir, 'seg.nii.gz')\n",
    "                        nib.save(nib.Nifti1Image(seg_partitioned, mask.affine), output_path_1)\n",
    "                        # tumors segmented of the t1_gd\n",
    "                        output_path_2 = os.path.join(output_dir, 't1_gd.nii.gz')\n",
    "                        nib.save(nib.Nifti1Image(t1_gd_partitioned, t1_gd.affine), output_path_2)\n",
    "                        # tumors segemented if t1_pre\n",
    "                        output_path_3 = os.path.join(output_dir, 't1_pre.nii.gz')\n",
    "                        nib.save(nib.Nifti1Image(t1_pre_partitioned, t1_pre.affine), output_path_3)\n"
   ],
   "metadata": {
    "collapsed": false,
    "ExecuteTime": {
     "start_time": "2023-07-11T15:01:04.775436Z",
     "end_time": "2023-07-11T15:02:44.721611Z"
    }
   }
  },
  {
   "cell_type": "code",
   "execution_count": 607,
   "outputs": [
    {
     "name": "stderr",
     "output_type": "stream",
     "text": [
      "100%|██████████| 157/157 [05:56<00:00,  2.27s/it]\n"
     ]
    }
   ],
   "source": [
    "from matplotlib import pyplot as plt\n",
    "\n",
    "drop_dir = '/data/projects/TMOR/data/'\n",
    "seg_dir = '/data/projects/TMOR/data/Deeplearning/'\n",
    "#indices = []\n",
    "from tqdm import tqdm\n",
    "for subj_id in tqdm(os.listdir(seg_dir)):\n",
    "    #extrasct the correct id from the subjects\n",
    "    # Define paths to the segmentation and regular t1 postprocessed files for this subject\n",
    "    seg_glob = os.path.join(seg_dir, f'{subj_id}', f'seg.nii.gz')\n",
    "    reg_glob = os.path.join(seg_dir, f'{subj_id}', f't1_gd.nii.gz')\n",
    "    reg2_glob = os.path.join(seg_dir, f'{subj_id}', f't1_pre.nii.gz')\n",
    "    seg_paths = glob.glob(seg_glob)\n",
    "    reg_paths = glob.glob(reg_glob)\n",
    "    reg2_paths = glob.glob(reg2_glob)\n",
    "    # Loop through all matching segmentation and registration files\n",
    "    for seg, reg, reg2 in zip(seg_paths, reg_paths, reg2_paths):\n",
    "        if os.path.exists(seg) and os.path.exists(reg) and os.path.exists(reg2):\n",
    "            mask = nib.load(seg)\n",
    "            vol_mask = mask.get_fdata()\n",
    "            t1_gd = nib.load(reg)\n",
    "            vol_t1_gd = t1_gd.get_fdata()\n",
    "            t1_pre = nib.load(reg2)\n",
    "            vol_t1_pre = t1_pre.get_fdata()\n",
    "            vol = vol_t1_gd\n",
    "            for label in np.unique(vol_mask):\n",
    "                if label != 0:\n",
    "                    label_indices = np.argwhere(vol_mask == label)\n",
    "                    if len(label_indices) > 125:\n",
    "                        indices = label_indices\n",
    "                        X_min, X_max = np.min(indices[:, 0]), np.max(indices[:, 0])\n",
    "                        Y_min, Y_max = np.min(indices[:, 1]), np.max(indices[:, 1])\n",
    "                        Z_min, Z_max = np.min(indices[:, 2]), np.max(indices[:, 2])\n",
    "\n",
    "                        mean_x = (X_min + X_max) // 2\n",
    "                        mean_y = (Y_min + Y_max) // 2\n",
    "                        mean_z  = (Z_min + Z_max) // 2\n",
    "                        # Pad the indices with zeros\n",
    "                        x_start = X_min - 15\n",
    "                        x_end = X_max + 15\n",
    "                        y_start = Y_min - 15\n",
    "                        y_end = Y_max + 15\n",
    "                        z_start = Z_min - 15\n",
    "                        z_end = Z_max + 15\n",
    "\n",
    "                        # Display the tensor\n",
    "                        fig, axes = plt.subplots(2,2)\n",
    "                        axes[0,1].imshow(vol[mean_x, :, :].T, origin='lower')\n",
    "                        axes[0,1].scatter(mean_y, mean_z)\n",
    "                        axes[0,1].plot([y_start, y_start], [z_start, z_end])\n",
    "                        axes[0,1].plot([y_end, y_end], [z_start, z_end])\n",
    "                        axes[0,1].plot([y_start, y_end], [z_start, z_start])\n",
    "                        axes[0,1].plot([y_start, y_end], [z_end, z_end])\n",
    "                        axes[0,1].set_xlabel('y axis')\n",
    "                        axes[0,1].set_ylabel('z axis')\n",
    "                        axes[0,1].set_title('x plane')\n",
    "                        axes[0,1].set_aspect('equal')\n",
    "                        axes[0,0].imshow(vol[:, mean_y, :].T, origin='lower')\n",
    "                        axes[0,0].scatter(mean_x, mean_z)\n",
    "                        axes[0,0].plot([x_start, x_start], [z_start, z_end])\n",
    "                        axes[0,0].plot([x_end, x_end], [z_start, z_end])\n",
    "                        axes[0,0].plot([x_start, x_end], [z_start, z_start])\n",
    "                        axes[0,0].plot([x_start, x_end], [z_end, z_end])\n",
    "                        axes[0,0].set_xlabel('x axis')\n",
    "                        axes[0,0].set_ylabel('z axis')\n",
    "                        axes[0,0].set_title('y plane')\n",
    "                        axes[0,0].set_aspect('equal')\n",
    "                        axes[1,0].imshow(vol[:, :, mean_z].T, origin='lower')\n",
    "                        axes[1,0].scatter(mean_x, mean_y)\n",
    "                        axes[1,0].plot([x_start, x_start], [y_start, y_end])\n",
    "                        axes[1,0].plot([x_end, x_end], [y_start, y_end])\n",
    "                        axes[1,0].plot([x_start, x_end], [y_start, y_start])\n",
    "                        axes[1,0].plot([x_start, x_end], [y_end, y_end])\n",
    "                        axes[1,0].set_xlabel('x axis')\n",
    "                        axes[1,0].set_ylabel('y axis')\n",
    "                        axes[1,0].set_title('z plane')\n",
    "                        axes[1,0].set_aspect('equal')\n",
    "                        axes[1,1].axis('off')\n",
    "                        fig.suptitle(f'3D MRI scan with bounding box (Label: {label})')\n",
    "                        fig.tight_layout()\n",
    "                        fig.savefig(f'mri_scan_{label}.png')  # Save the figure to a file\n",
    "                        plt.close(fig)\n",
    "\n",
    "                        output_dir = os.path.join(drop_dir, 'VeryFinalRepresentationD')\n",
    "                        os.makedirs(output_dir, exist_ok=True)\n",
    "\n",
    "                        fig.savefig(os.path.join(output_dir, f'{subj_id}mri_scan_{label}.png'))\n"
   ],
   "metadata": {
    "collapsed": false,
    "ExecuteTime": {
     "start_time": "2023-07-11T14:54:33.701279Z",
     "end_time": "2023-07-11T15:00:30.110273Z"
    }
   }
  },
  {
   "cell_type": "markdown",
   "source": [
    "## nothing more this is maybe a E but dont thin so"
   ],
   "metadata": {
    "collapsed": false
   }
  },
  {
   "cell_type": "code",
   "execution_count": 451,
   "outputs": [
    {
     "name": "stderr",
     "output_type": "stream",
     "text": [
      " 17%|█▋        | 27/157 [00:33<02:41,  1.25s/it]\n"
     ]
    },
    {
     "ename": "KeyboardInterrupt",
     "evalue": "",
     "output_type": "error",
     "traceback": [
      "\u001B[0;31m---------------------------------------------------------------------------\u001B[0m",
      "\u001B[0;31mKeyboardInterrupt\u001B[0m                         Traceback (most recent call last)",
      "Cell \u001B[0;32mIn[451], line 89\u001B[0m\n\u001B[1;32m     86\u001B[0m output_dir \u001B[38;5;241m=\u001B[39m os\u001B[38;5;241m.\u001B[39mpath\u001B[38;5;241m.\u001B[39mjoin(drop_dir, \u001B[38;5;124m'\u001B[39m\u001B[38;5;124mVeryFinalRepresentationD\u001B[39m\u001B[38;5;124m'\u001B[39m)\n\u001B[1;32m     87\u001B[0m os\u001B[38;5;241m.\u001B[39mmakedirs(output_dir, exist_ok\u001B[38;5;241m=\u001B[39m\u001B[38;5;28;01mTrue\u001B[39;00m)\n\u001B[0;32m---> 89\u001B[0m \u001B[43mfig\u001B[49m\u001B[38;5;241;43m.\u001B[39;49m\u001B[43msavefig\u001B[49m\u001B[43m(\u001B[49m\u001B[43mos\u001B[49m\u001B[38;5;241;43m.\u001B[39;49m\u001B[43mpath\u001B[49m\u001B[38;5;241;43m.\u001B[39;49m\u001B[43mjoin\u001B[49m\u001B[43m(\u001B[49m\u001B[43moutput_dir\u001B[49m\u001B[43m,\u001B[49m\u001B[43m \u001B[49m\u001B[38;5;124;43mf\u001B[39;49m\u001B[38;5;124;43m'\u001B[39;49m\u001B[38;5;132;43;01m{\u001B[39;49;00m\u001B[43msubj_id\u001B[49m\u001B[38;5;132;43;01m}\u001B[39;49;00m\u001B[38;5;124;43mmri_scan_\u001B[39;49m\u001B[38;5;132;43;01m{\u001B[39;49;00m\u001B[43mlabel\u001B[49m\u001B[38;5;132;43;01m}\u001B[39;49;00m\u001B[38;5;124;43m.png\u001B[39;49m\u001B[38;5;124;43m'\u001B[39;49m\u001B[43m)\u001B[49m\u001B[43m)\u001B[49m\n",
      "File \u001B[0;32m~/.conda/envs/secondenv/lib/python3.9/site-packages/matplotlib/figure.py:3343\u001B[0m, in \u001B[0;36mFigure.savefig\u001B[0;34m(self, fname, transparent, **kwargs)\u001B[0m\n\u001B[1;32m   3339\u001B[0m     \u001B[38;5;28;01mfor\u001B[39;00m ax \u001B[38;5;129;01min\u001B[39;00m \u001B[38;5;28mself\u001B[39m\u001B[38;5;241m.\u001B[39maxes:\n\u001B[1;32m   3340\u001B[0m         stack\u001B[38;5;241m.\u001B[39menter_context(\n\u001B[1;32m   3341\u001B[0m             ax\u001B[38;5;241m.\u001B[39mpatch\u001B[38;5;241m.\u001B[39m_cm_set(facecolor\u001B[38;5;241m=\u001B[39m\u001B[38;5;124m'\u001B[39m\u001B[38;5;124mnone\u001B[39m\u001B[38;5;124m'\u001B[39m, edgecolor\u001B[38;5;241m=\u001B[39m\u001B[38;5;124m'\u001B[39m\u001B[38;5;124mnone\u001B[39m\u001B[38;5;124m'\u001B[39m))\n\u001B[0;32m-> 3343\u001B[0m \u001B[38;5;28;43mself\u001B[39;49m\u001B[38;5;241;43m.\u001B[39;49m\u001B[43mcanvas\u001B[49m\u001B[38;5;241;43m.\u001B[39;49m\u001B[43mprint_figure\u001B[49m\u001B[43m(\u001B[49m\u001B[43mfname\u001B[49m\u001B[43m,\u001B[49m\u001B[43m \u001B[49m\u001B[38;5;241;43m*\u001B[39;49m\u001B[38;5;241;43m*\u001B[39;49m\u001B[43mkwargs\u001B[49m\u001B[43m)\u001B[49m\n",
      "File \u001B[0;32m~/.conda/envs/secondenv/lib/python3.9/site-packages/matplotlib/backend_bases.py:2366\u001B[0m, in \u001B[0;36mFigureCanvasBase.print_figure\u001B[0;34m(self, filename, dpi, facecolor, edgecolor, orientation, format, bbox_inches, pad_inches, bbox_extra_artists, backend, **kwargs)\u001B[0m\n\u001B[1;32m   2362\u001B[0m \u001B[38;5;28;01mtry\u001B[39;00m:\n\u001B[1;32m   2363\u001B[0m     \u001B[38;5;66;03m# _get_renderer may change the figure dpi (as vector formats\u001B[39;00m\n\u001B[1;32m   2364\u001B[0m     \u001B[38;5;66;03m# force the figure dpi to 72), so we need to set it again here.\u001B[39;00m\n\u001B[1;32m   2365\u001B[0m     \u001B[38;5;28;01mwith\u001B[39;00m cbook\u001B[38;5;241m.\u001B[39m_setattr_cm(\u001B[38;5;28mself\u001B[39m\u001B[38;5;241m.\u001B[39mfigure, dpi\u001B[38;5;241m=\u001B[39mdpi):\n\u001B[0;32m-> 2366\u001B[0m         result \u001B[38;5;241m=\u001B[39m \u001B[43mprint_method\u001B[49m\u001B[43m(\u001B[49m\n\u001B[1;32m   2367\u001B[0m \u001B[43m            \u001B[49m\u001B[43mfilename\u001B[49m\u001B[43m,\u001B[49m\n\u001B[1;32m   2368\u001B[0m \u001B[43m            \u001B[49m\u001B[43mfacecolor\u001B[49m\u001B[38;5;241;43m=\u001B[39;49m\u001B[43mfacecolor\u001B[49m\u001B[43m,\u001B[49m\n\u001B[1;32m   2369\u001B[0m \u001B[43m            \u001B[49m\u001B[43medgecolor\u001B[49m\u001B[38;5;241;43m=\u001B[39;49m\u001B[43medgecolor\u001B[49m\u001B[43m,\u001B[49m\n\u001B[1;32m   2370\u001B[0m \u001B[43m            \u001B[49m\u001B[43morientation\u001B[49m\u001B[38;5;241;43m=\u001B[39;49m\u001B[43morientation\u001B[49m\u001B[43m,\u001B[49m\n\u001B[1;32m   2371\u001B[0m \u001B[43m            \u001B[49m\u001B[43mbbox_inches_restore\u001B[49m\u001B[38;5;241;43m=\u001B[39;49m\u001B[43m_bbox_inches_restore\u001B[49m\u001B[43m,\u001B[49m\n\u001B[1;32m   2372\u001B[0m \u001B[43m            \u001B[49m\u001B[38;5;241;43m*\u001B[39;49m\u001B[38;5;241;43m*\u001B[39;49m\u001B[43mkwargs\u001B[49m\u001B[43m)\u001B[49m\n\u001B[1;32m   2373\u001B[0m \u001B[38;5;28;01mfinally\u001B[39;00m:\n\u001B[1;32m   2374\u001B[0m     \u001B[38;5;28;01mif\u001B[39;00m bbox_inches \u001B[38;5;129;01mand\u001B[39;00m restore_bbox:\n",
      "File \u001B[0;32m~/.conda/envs/secondenv/lib/python3.9/site-packages/matplotlib/backend_bases.py:2232\u001B[0m, in \u001B[0;36mFigureCanvasBase._switch_canvas_and_return_print_method.<locals>.<lambda>\u001B[0;34m(*args, **kwargs)\u001B[0m\n\u001B[1;32m   2228\u001B[0m     optional_kws \u001B[38;5;241m=\u001B[39m {  \u001B[38;5;66;03m# Passed by print_figure for other renderers.\u001B[39;00m\n\u001B[1;32m   2229\u001B[0m         \u001B[38;5;124m\"\u001B[39m\u001B[38;5;124mdpi\u001B[39m\u001B[38;5;124m\"\u001B[39m, \u001B[38;5;124m\"\u001B[39m\u001B[38;5;124mfacecolor\u001B[39m\u001B[38;5;124m\"\u001B[39m, \u001B[38;5;124m\"\u001B[39m\u001B[38;5;124medgecolor\u001B[39m\u001B[38;5;124m\"\u001B[39m, \u001B[38;5;124m\"\u001B[39m\u001B[38;5;124morientation\u001B[39m\u001B[38;5;124m\"\u001B[39m,\n\u001B[1;32m   2230\u001B[0m         \u001B[38;5;124m\"\u001B[39m\u001B[38;5;124mbbox_inches_restore\u001B[39m\u001B[38;5;124m\"\u001B[39m}\n\u001B[1;32m   2231\u001B[0m     skip \u001B[38;5;241m=\u001B[39m optional_kws \u001B[38;5;241m-\u001B[39m {\u001B[38;5;241m*\u001B[39minspect\u001B[38;5;241m.\u001B[39msignature(meth)\u001B[38;5;241m.\u001B[39mparameters}\n\u001B[0;32m-> 2232\u001B[0m     print_method \u001B[38;5;241m=\u001B[39m functools\u001B[38;5;241m.\u001B[39mwraps(meth)(\u001B[38;5;28;01mlambda\u001B[39;00m \u001B[38;5;241m*\u001B[39margs, \u001B[38;5;241m*\u001B[39m\u001B[38;5;241m*\u001B[39mkwargs: \u001B[43mmeth\u001B[49m\u001B[43m(\u001B[49m\n\u001B[1;32m   2233\u001B[0m \u001B[43m        \u001B[49m\u001B[38;5;241;43m*\u001B[39;49m\u001B[43margs\u001B[49m\u001B[43m,\u001B[49m\u001B[43m \u001B[49m\u001B[38;5;241;43m*\u001B[39;49m\u001B[38;5;241;43m*\u001B[39;49m\u001B[43m{\u001B[49m\u001B[43mk\u001B[49m\u001B[43m:\u001B[49m\u001B[43m \u001B[49m\u001B[43mv\u001B[49m\u001B[43m \u001B[49m\u001B[38;5;28;43;01mfor\u001B[39;49;00m\u001B[43m \u001B[49m\u001B[43mk\u001B[49m\u001B[43m,\u001B[49m\u001B[43m \u001B[49m\u001B[43mv\u001B[49m\u001B[43m \u001B[49m\u001B[38;5;129;43;01min\u001B[39;49;00m\u001B[43m \u001B[49m\u001B[43mkwargs\u001B[49m\u001B[38;5;241;43m.\u001B[39;49m\u001B[43mitems\u001B[49m\u001B[43m(\u001B[49m\u001B[43m)\u001B[49m\u001B[43m \u001B[49m\u001B[38;5;28;43;01mif\u001B[39;49;00m\u001B[43m \u001B[49m\u001B[43mk\u001B[49m\u001B[43m \u001B[49m\u001B[38;5;129;43;01mnot\u001B[39;49;00m\u001B[43m \u001B[49m\u001B[38;5;129;43;01min\u001B[39;49;00m\u001B[43m \u001B[49m\u001B[43mskip\u001B[49m\u001B[43m}\u001B[49m\u001B[43m)\u001B[49m)\n\u001B[1;32m   2234\u001B[0m \u001B[38;5;28;01melse\u001B[39;00m:  \u001B[38;5;66;03m# Let third-parties do as they see fit.\u001B[39;00m\n\u001B[1;32m   2235\u001B[0m     print_method \u001B[38;5;241m=\u001B[39m meth\n",
      "File \u001B[0;32m~/.conda/envs/secondenv/lib/python3.9/site-packages/matplotlib/backends/backend_agg.py:509\u001B[0m, in \u001B[0;36mFigureCanvasAgg.print_png\u001B[0;34m(self, filename_or_obj, metadata, pil_kwargs)\u001B[0m\n\u001B[1;32m    462\u001B[0m \u001B[38;5;28;01mdef\u001B[39;00m \u001B[38;5;21mprint_png\u001B[39m(\u001B[38;5;28mself\u001B[39m, filename_or_obj, \u001B[38;5;241m*\u001B[39m, metadata\u001B[38;5;241m=\u001B[39m\u001B[38;5;28;01mNone\u001B[39;00m, pil_kwargs\u001B[38;5;241m=\u001B[39m\u001B[38;5;28;01mNone\u001B[39;00m):\n\u001B[1;32m    463\u001B[0m     \u001B[38;5;124;03m\"\"\"\u001B[39;00m\n\u001B[1;32m    464\u001B[0m \u001B[38;5;124;03m    Write the figure to a PNG file.\u001B[39;00m\n\u001B[1;32m    465\u001B[0m \n\u001B[0;32m   (...)\u001B[0m\n\u001B[1;32m    507\u001B[0m \u001B[38;5;124;03m        *metadata*, including the default 'Software' key.\u001B[39;00m\n\u001B[1;32m    508\u001B[0m \u001B[38;5;124;03m    \"\"\"\u001B[39;00m\n\u001B[0;32m--> 509\u001B[0m     \u001B[38;5;28;43mself\u001B[39;49m\u001B[38;5;241;43m.\u001B[39;49m\u001B[43m_print_pil\u001B[49m\u001B[43m(\u001B[49m\u001B[43mfilename_or_obj\u001B[49m\u001B[43m,\u001B[49m\u001B[43m \u001B[49m\u001B[38;5;124;43m\"\u001B[39;49m\u001B[38;5;124;43mpng\u001B[39;49m\u001B[38;5;124;43m\"\u001B[39;49m\u001B[43m,\u001B[49m\u001B[43m \u001B[49m\u001B[43mpil_kwargs\u001B[49m\u001B[43m,\u001B[49m\u001B[43m \u001B[49m\u001B[43mmetadata\u001B[49m\u001B[43m)\u001B[49m\n",
      "File \u001B[0;32m~/.conda/envs/secondenv/lib/python3.9/site-packages/matplotlib/backends/backend_agg.py:457\u001B[0m, in \u001B[0;36mFigureCanvasAgg._print_pil\u001B[0;34m(self, filename_or_obj, fmt, pil_kwargs, metadata)\u001B[0m\n\u001B[1;32m    452\u001B[0m \u001B[38;5;28;01mdef\u001B[39;00m \u001B[38;5;21m_print_pil\u001B[39m(\u001B[38;5;28mself\u001B[39m, filename_or_obj, fmt, pil_kwargs, metadata\u001B[38;5;241m=\u001B[39m\u001B[38;5;28;01mNone\u001B[39;00m):\n\u001B[1;32m    453\u001B[0m     \u001B[38;5;124;03m\"\"\"\u001B[39;00m\n\u001B[1;32m    454\u001B[0m \u001B[38;5;124;03m    Draw the canvas, then save it using `.image.imsave` (to which\u001B[39;00m\n\u001B[1;32m    455\u001B[0m \u001B[38;5;124;03m    *pil_kwargs* and *metadata* are forwarded).\u001B[39;00m\n\u001B[1;32m    456\u001B[0m \u001B[38;5;124;03m    \"\"\"\u001B[39;00m\n\u001B[0;32m--> 457\u001B[0m     \u001B[43mFigureCanvasAgg\u001B[49m\u001B[38;5;241;43m.\u001B[39;49m\u001B[43mdraw\u001B[49m\u001B[43m(\u001B[49m\u001B[38;5;28;43mself\u001B[39;49m\u001B[43m)\u001B[49m\n\u001B[1;32m    458\u001B[0m     mpl\u001B[38;5;241m.\u001B[39mimage\u001B[38;5;241m.\u001B[39mimsave(\n\u001B[1;32m    459\u001B[0m         filename_or_obj, \u001B[38;5;28mself\u001B[39m\u001B[38;5;241m.\u001B[39mbuffer_rgba(), \u001B[38;5;28mformat\u001B[39m\u001B[38;5;241m=\u001B[39mfmt, origin\u001B[38;5;241m=\u001B[39m\u001B[38;5;124m\"\u001B[39m\u001B[38;5;124mupper\u001B[39m\u001B[38;5;124m\"\u001B[39m,\n\u001B[1;32m    460\u001B[0m         dpi\u001B[38;5;241m=\u001B[39m\u001B[38;5;28mself\u001B[39m\u001B[38;5;241m.\u001B[39mfigure\u001B[38;5;241m.\u001B[39mdpi, metadata\u001B[38;5;241m=\u001B[39mmetadata, pil_kwargs\u001B[38;5;241m=\u001B[39mpil_kwargs)\n",
      "File \u001B[0;32m~/.conda/envs/secondenv/lib/python3.9/site-packages/matplotlib/backends/backend_agg.py:400\u001B[0m, in \u001B[0;36mFigureCanvasAgg.draw\u001B[0;34m(self)\u001B[0m\n\u001B[1;32m    396\u001B[0m \u001B[38;5;66;03m# Acquire a lock on the shared font cache.\u001B[39;00m\n\u001B[1;32m    397\u001B[0m \u001B[38;5;28;01mwith\u001B[39;00m RendererAgg\u001B[38;5;241m.\u001B[39mlock, \\\n\u001B[1;32m    398\u001B[0m      (\u001B[38;5;28mself\u001B[39m\u001B[38;5;241m.\u001B[39mtoolbar\u001B[38;5;241m.\u001B[39m_wait_cursor_for_draw_cm() \u001B[38;5;28;01mif\u001B[39;00m \u001B[38;5;28mself\u001B[39m\u001B[38;5;241m.\u001B[39mtoolbar\n\u001B[1;32m    399\u001B[0m       \u001B[38;5;28;01melse\u001B[39;00m nullcontext()):\n\u001B[0;32m--> 400\u001B[0m     \u001B[38;5;28;43mself\u001B[39;49m\u001B[38;5;241;43m.\u001B[39;49m\u001B[43mfigure\u001B[49m\u001B[38;5;241;43m.\u001B[39;49m\u001B[43mdraw\u001B[49m\u001B[43m(\u001B[49m\u001B[38;5;28;43mself\u001B[39;49m\u001B[38;5;241;43m.\u001B[39;49m\u001B[43mrenderer\u001B[49m\u001B[43m)\u001B[49m\n\u001B[1;32m    401\u001B[0m     \u001B[38;5;66;03m# A GUI class may be need to update a window using this draw, so\u001B[39;00m\n\u001B[1;32m    402\u001B[0m     \u001B[38;5;66;03m# don't forget to call the superclass.\u001B[39;00m\n\u001B[1;32m    403\u001B[0m     \u001B[38;5;28msuper\u001B[39m()\u001B[38;5;241m.\u001B[39mdraw()\n",
      "File \u001B[0;32m~/.conda/envs/secondenv/lib/python3.9/site-packages/matplotlib/artist.py:95\u001B[0m, in \u001B[0;36m_finalize_rasterization.<locals>.draw_wrapper\u001B[0;34m(artist, renderer, *args, **kwargs)\u001B[0m\n\u001B[1;32m     93\u001B[0m \u001B[38;5;129m@wraps\u001B[39m(draw)\n\u001B[1;32m     94\u001B[0m \u001B[38;5;28;01mdef\u001B[39;00m \u001B[38;5;21mdraw_wrapper\u001B[39m(artist, renderer, \u001B[38;5;241m*\u001B[39margs, \u001B[38;5;241m*\u001B[39m\u001B[38;5;241m*\u001B[39mkwargs):\n\u001B[0;32m---> 95\u001B[0m     result \u001B[38;5;241m=\u001B[39m \u001B[43mdraw\u001B[49m\u001B[43m(\u001B[49m\u001B[43martist\u001B[49m\u001B[43m,\u001B[49m\u001B[43m \u001B[49m\u001B[43mrenderer\u001B[49m\u001B[43m,\u001B[49m\u001B[43m \u001B[49m\u001B[38;5;241;43m*\u001B[39;49m\u001B[43margs\u001B[49m\u001B[43m,\u001B[49m\u001B[43m \u001B[49m\u001B[38;5;241;43m*\u001B[39;49m\u001B[38;5;241;43m*\u001B[39;49m\u001B[43mkwargs\u001B[49m\u001B[43m)\u001B[49m\n\u001B[1;32m     96\u001B[0m     \u001B[38;5;28;01mif\u001B[39;00m renderer\u001B[38;5;241m.\u001B[39m_rasterizing:\n\u001B[1;32m     97\u001B[0m         renderer\u001B[38;5;241m.\u001B[39mstop_rasterizing()\n",
      "File \u001B[0;32m~/.conda/envs/secondenv/lib/python3.9/site-packages/matplotlib/artist.py:72\u001B[0m, in \u001B[0;36mallow_rasterization.<locals>.draw_wrapper\u001B[0;34m(artist, renderer)\u001B[0m\n\u001B[1;32m     69\u001B[0m     \u001B[38;5;28;01mif\u001B[39;00m artist\u001B[38;5;241m.\u001B[39mget_agg_filter() \u001B[38;5;129;01mis\u001B[39;00m \u001B[38;5;129;01mnot\u001B[39;00m \u001B[38;5;28;01mNone\u001B[39;00m:\n\u001B[1;32m     70\u001B[0m         renderer\u001B[38;5;241m.\u001B[39mstart_filter()\n\u001B[0;32m---> 72\u001B[0m     \u001B[38;5;28;01mreturn\u001B[39;00m \u001B[43mdraw\u001B[49m\u001B[43m(\u001B[49m\u001B[43martist\u001B[49m\u001B[43m,\u001B[49m\u001B[43m \u001B[49m\u001B[43mrenderer\u001B[49m\u001B[43m)\u001B[49m\n\u001B[1;32m     73\u001B[0m \u001B[38;5;28;01mfinally\u001B[39;00m:\n\u001B[1;32m     74\u001B[0m     \u001B[38;5;28;01mif\u001B[39;00m artist\u001B[38;5;241m.\u001B[39mget_agg_filter() \u001B[38;5;129;01mis\u001B[39;00m \u001B[38;5;129;01mnot\u001B[39;00m \u001B[38;5;28;01mNone\u001B[39;00m:\n",
      "File \u001B[0;32m~/.conda/envs/secondenv/lib/python3.9/site-packages/matplotlib/figure.py:3140\u001B[0m, in \u001B[0;36mFigure.draw\u001B[0;34m(self, renderer)\u001B[0m\n\u001B[1;32m   3137\u001B[0m         \u001B[38;5;66;03m# ValueError can occur when resizing a window.\u001B[39;00m\n\u001B[1;32m   3139\u001B[0m \u001B[38;5;28mself\u001B[39m\u001B[38;5;241m.\u001B[39mpatch\u001B[38;5;241m.\u001B[39mdraw(renderer)\n\u001B[0;32m-> 3140\u001B[0m \u001B[43mmimage\u001B[49m\u001B[38;5;241;43m.\u001B[39;49m\u001B[43m_draw_list_compositing_images\u001B[49m\u001B[43m(\u001B[49m\n\u001B[1;32m   3141\u001B[0m \u001B[43m    \u001B[49m\u001B[43mrenderer\u001B[49m\u001B[43m,\u001B[49m\u001B[43m \u001B[49m\u001B[38;5;28;43mself\u001B[39;49m\u001B[43m,\u001B[49m\u001B[43m \u001B[49m\u001B[43martists\u001B[49m\u001B[43m,\u001B[49m\u001B[43m \u001B[49m\u001B[38;5;28;43mself\u001B[39;49m\u001B[38;5;241;43m.\u001B[39;49m\u001B[43msuppressComposite\u001B[49m\u001B[43m)\u001B[49m\n\u001B[1;32m   3143\u001B[0m \u001B[38;5;28;01mfor\u001B[39;00m sfig \u001B[38;5;129;01min\u001B[39;00m \u001B[38;5;28mself\u001B[39m\u001B[38;5;241m.\u001B[39msubfigs:\n\u001B[1;32m   3144\u001B[0m     sfig\u001B[38;5;241m.\u001B[39mdraw(renderer)\n",
      "File \u001B[0;32m~/.conda/envs/secondenv/lib/python3.9/site-packages/matplotlib/image.py:131\u001B[0m, in \u001B[0;36m_draw_list_compositing_images\u001B[0;34m(renderer, parent, artists, suppress_composite)\u001B[0m\n\u001B[1;32m    129\u001B[0m \u001B[38;5;28;01mif\u001B[39;00m not_composite \u001B[38;5;129;01mor\u001B[39;00m \u001B[38;5;129;01mnot\u001B[39;00m has_images:\n\u001B[1;32m    130\u001B[0m     \u001B[38;5;28;01mfor\u001B[39;00m a \u001B[38;5;129;01min\u001B[39;00m artists:\n\u001B[0;32m--> 131\u001B[0m         \u001B[43ma\u001B[49m\u001B[38;5;241;43m.\u001B[39;49m\u001B[43mdraw\u001B[49m\u001B[43m(\u001B[49m\u001B[43mrenderer\u001B[49m\u001B[43m)\u001B[49m\n\u001B[1;32m    132\u001B[0m \u001B[38;5;28;01melse\u001B[39;00m:\n\u001B[1;32m    133\u001B[0m     \u001B[38;5;66;03m# Composite any adjacent images together\u001B[39;00m\n\u001B[1;32m    134\u001B[0m     image_group \u001B[38;5;241m=\u001B[39m []\n",
      "File \u001B[0;32m~/.conda/envs/secondenv/lib/python3.9/site-packages/matplotlib/artist.py:72\u001B[0m, in \u001B[0;36mallow_rasterization.<locals>.draw_wrapper\u001B[0;34m(artist, renderer)\u001B[0m\n\u001B[1;32m     69\u001B[0m     \u001B[38;5;28;01mif\u001B[39;00m artist\u001B[38;5;241m.\u001B[39mget_agg_filter() \u001B[38;5;129;01mis\u001B[39;00m \u001B[38;5;129;01mnot\u001B[39;00m \u001B[38;5;28;01mNone\u001B[39;00m:\n\u001B[1;32m     70\u001B[0m         renderer\u001B[38;5;241m.\u001B[39mstart_filter()\n\u001B[0;32m---> 72\u001B[0m     \u001B[38;5;28;01mreturn\u001B[39;00m \u001B[43mdraw\u001B[49m\u001B[43m(\u001B[49m\u001B[43martist\u001B[49m\u001B[43m,\u001B[49m\u001B[43m \u001B[49m\u001B[43mrenderer\u001B[49m\u001B[43m)\u001B[49m\n\u001B[1;32m     73\u001B[0m \u001B[38;5;28;01mfinally\u001B[39;00m:\n\u001B[1;32m     74\u001B[0m     \u001B[38;5;28;01mif\u001B[39;00m artist\u001B[38;5;241m.\u001B[39mget_agg_filter() \u001B[38;5;129;01mis\u001B[39;00m \u001B[38;5;129;01mnot\u001B[39;00m \u001B[38;5;28;01mNone\u001B[39;00m:\n",
      "File \u001B[0;32m~/.conda/envs/secondenv/lib/python3.9/site-packages/matplotlib/axes/_base.py:3064\u001B[0m, in \u001B[0;36m_AxesBase.draw\u001B[0;34m(self, renderer)\u001B[0m\n\u001B[1;32m   3061\u001B[0m \u001B[38;5;28;01mif\u001B[39;00m artists_rasterized:\n\u001B[1;32m   3062\u001B[0m     _draw_rasterized(\u001B[38;5;28mself\u001B[39m\u001B[38;5;241m.\u001B[39mfigure, artists_rasterized, renderer)\n\u001B[0;32m-> 3064\u001B[0m \u001B[43mmimage\u001B[49m\u001B[38;5;241;43m.\u001B[39;49m\u001B[43m_draw_list_compositing_images\u001B[49m\u001B[43m(\u001B[49m\n\u001B[1;32m   3065\u001B[0m \u001B[43m    \u001B[49m\u001B[43mrenderer\u001B[49m\u001B[43m,\u001B[49m\u001B[43m \u001B[49m\u001B[38;5;28;43mself\u001B[39;49m\u001B[43m,\u001B[49m\u001B[43m \u001B[49m\u001B[43martists\u001B[49m\u001B[43m,\u001B[49m\u001B[43m \u001B[49m\u001B[38;5;28;43mself\u001B[39;49m\u001B[38;5;241;43m.\u001B[39;49m\u001B[43mfigure\u001B[49m\u001B[38;5;241;43m.\u001B[39;49m\u001B[43msuppressComposite\u001B[49m\u001B[43m)\u001B[49m\n\u001B[1;32m   3067\u001B[0m renderer\u001B[38;5;241m.\u001B[39mclose_group(\u001B[38;5;124m'\u001B[39m\u001B[38;5;124maxes\u001B[39m\u001B[38;5;124m'\u001B[39m)\n\u001B[1;32m   3068\u001B[0m \u001B[38;5;28mself\u001B[39m\u001B[38;5;241m.\u001B[39mstale \u001B[38;5;241m=\u001B[39m \u001B[38;5;28;01mFalse\u001B[39;00m\n",
      "File \u001B[0;32m~/.conda/envs/secondenv/lib/python3.9/site-packages/matplotlib/image.py:131\u001B[0m, in \u001B[0;36m_draw_list_compositing_images\u001B[0;34m(renderer, parent, artists, suppress_composite)\u001B[0m\n\u001B[1;32m    129\u001B[0m \u001B[38;5;28;01mif\u001B[39;00m not_composite \u001B[38;5;129;01mor\u001B[39;00m \u001B[38;5;129;01mnot\u001B[39;00m has_images:\n\u001B[1;32m    130\u001B[0m     \u001B[38;5;28;01mfor\u001B[39;00m a \u001B[38;5;129;01min\u001B[39;00m artists:\n\u001B[0;32m--> 131\u001B[0m         \u001B[43ma\u001B[49m\u001B[38;5;241;43m.\u001B[39;49m\u001B[43mdraw\u001B[49m\u001B[43m(\u001B[49m\u001B[43mrenderer\u001B[49m\u001B[43m)\u001B[49m\n\u001B[1;32m    132\u001B[0m \u001B[38;5;28;01melse\u001B[39;00m:\n\u001B[1;32m    133\u001B[0m     \u001B[38;5;66;03m# Composite any adjacent images together\u001B[39;00m\n\u001B[1;32m    134\u001B[0m     image_group \u001B[38;5;241m=\u001B[39m []\n",
      "File \u001B[0;32m~/.conda/envs/secondenv/lib/python3.9/site-packages/matplotlib/artist.py:72\u001B[0m, in \u001B[0;36mallow_rasterization.<locals>.draw_wrapper\u001B[0;34m(artist, renderer)\u001B[0m\n\u001B[1;32m     69\u001B[0m     \u001B[38;5;28;01mif\u001B[39;00m artist\u001B[38;5;241m.\u001B[39mget_agg_filter() \u001B[38;5;129;01mis\u001B[39;00m \u001B[38;5;129;01mnot\u001B[39;00m \u001B[38;5;28;01mNone\u001B[39;00m:\n\u001B[1;32m     70\u001B[0m         renderer\u001B[38;5;241m.\u001B[39mstart_filter()\n\u001B[0;32m---> 72\u001B[0m     \u001B[38;5;28;01mreturn\u001B[39;00m \u001B[43mdraw\u001B[49m\u001B[43m(\u001B[49m\u001B[43martist\u001B[49m\u001B[43m,\u001B[49m\u001B[43m \u001B[49m\u001B[43mrenderer\u001B[49m\u001B[43m)\u001B[49m\n\u001B[1;32m     73\u001B[0m \u001B[38;5;28;01mfinally\u001B[39;00m:\n\u001B[1;32m     74\u001B[0m     \u001B[38;5;28;01mif\u001B[39;00m artist\u001B[38;5;241m.\u001B[39mget_agg_filter() \u001B[38;5;129;01mis\u001B[39;00m \u001B[38;5;129;01mnot\u001B[39;00m \u001B[38;5;28;01mNone\u001B[39;00m:\n",
      "File \u001B[0;32m~/.conda/envs/secondenv/lib/python3.9/site-packages/matplotlib/collections.py:972\u001B[0m, in \u001B[0;36m_CollectionWithSizes.draw\u001B[0;34m(self, renderer)\u001B[0m\n\u001B[1;32m    969\u001B[0m \u001B[38;5;129m@artist\u001B[39m\u001B[38;5;241m.\u001B[39mallow_rasterization\n\u001B[1;32m    970\u001B[0m \u001B[38;5;28;01mdef\u001B[39;00m \u001B[38;5;21mdraw\u001B[39m(\u001B[38;5;28mself\u001B[39m, renderer):\n\u001B[1;32m    971\u001B[0m     \u001B[38;5;28mself\u001B[39m\u001B[38;5;241m.\u001B[39mset_sizes(\u001B[38;5;28mself\u001B[39m\u001B[38;5;241m.\u001B[39m_sizes, \u001B[38;5;28mself\u001B[39m\u001B[38;5;241m.\u001B[39mfigure\u001B[38;5;241m.\u001B[39mdpi)\n\u001B[0;32m--> 972\u001B[0m     \u001B[38;5;28;43msuper\u001B[39;49m\u001B[43m(\u001B[49m\u001B[43m)\u001B[49m\u001B[38;5;241;43m.\u001B[39;49m\u001B[43mdraw\u001B[49m\u001B[43m(\u001B[49m\u001B[43mrenderer\u001B[49m\u001B[43m)\u001B[49m\n",
      "File \u001B[0;32m~/.conda/envs/secondenv/lib/python3.9/site-packages/matplotlib/artist.py:72\u001B[0m, in \u001B[0;36mallow_rasterization.<locals>.draw_wrapper\u001B[0;34m(artist, renderer)\u001B[0m\n\u001B[1;32m     69\u001B[0m     \u001B[38;5;28;01mif\u001B[39;00m artist\u001B[38;5;241m.\u001B[39mget_agg_filter() \u001B[38;5;129;01mis\u001B[39;00m \u001B[38;5;129;01mnot\u001B[39;00m \u001B[38;5;28;01mNone\u001B[39;00m:\n\u001B[1;32m     70\u001B[0m         renderer\u001B[38;5;241m.\u001B[39mstart_filter()\n\u001B[0;32m---> 72\u001B[0m     \u001B[38;5;28;01mreturn\u001B[39;00m \u001B[43mdraw\u001B[49m\u001B[43m(\u001B[49m\u001B[43martist\u001B[49m\u001B[43m,\u001B[49m\u001B[43m \u001B[49m\u001B[43mrenderer\u001B[49m\u001B[43m)\u001B[49m\n\u001B[1;32m     73\u001B[0m \u001B[38;5;28;01mfinally\u001B[39;00m:\n\u001B[1;32m     74\u001B[0m     \u001B[38;5;28;01mif\u001B[39;00m artist\u001B[38;5;241m.\u001B[39mget_agg_filter() \u001B[38;5;129;01mis\u001B[39;00m \u001B[38;5;129;01mnot\u001B[39;00m \u001B[38;5;28;01mNone\u001B[39;00m:\n",
      "File \u001B[0;32m~/.conda/envs/secondenv/lib/python3.9/site-packages/matplotlib/collections.py:388\u001B[0m, in \u001B[0;36mCollection.draw\u001B[0;34m(self, renderer)\u001B[0m\n\u001B[1;32m    386\u001B[0m \u001B[38;5;28;01melse\u001B[39;00m:\n\u001B[1;32m    387\u001B[0m     combined_transform \u001B[38;5;241m=\u001B[39m transform\n\u001B[0;32m--> 388\u001B[0m extents \u001B[38;5;241m=\u001B[39m \u001B[43mpaths\u001B[49m\u001B[43m[\u001B[49m\u001B[38;5;241;43m0\u001B[39;49m\u001B[43m]\u001B[49m\u001B[38;5;241;43m.\u001B[39;49m\u001B[43mget_extents\u001B[49m\u001B[43m(\u001B[49m\u001B[43mcombined_transform\u001B[49m\u001B[43m)\u001B[49m\n\u001B[1;32m    389\u001B[0m \u001B[38;5;28;01mif\u001B[39;00m (extents\u001B[38;5;241m.\u001B[39mwidth \u001B[38;5;241m<\u001B[39m \u001B[38;5;28mself\u001B[39m\u001B[38;5;241m.\u001B[39mfigure\u001B[38;5;241m.\u001B[39mbbox\u001B[38;5;241m.\u001B[39mwidth\n\u001B[1;32m    390\u001B[0m         \u001B[38;5;129;01mand\u001B[39;00m extents\u001B[38;5;241m.\u001B[39mheight \u001B[38;5;241m<\u001B[39m \u001B[38;5;28mself\u001B[39m\u001B[38;5;241m.\u001B[39mfigure\u001B[38;5;241m.\u001B[39mbbox\u001B[38;5;241m.\u001B[39mheight):\n\u001B[1;32m    391\u001B[0m     do_single_path_optimization \u001B[38;5;241m=\u001B[39m \u001B[38;5;28;01mTrue\u001B[39;00m\n",
      "File \u001B[0;32m~/.conda/envs/secondenv/lib/python3.9/site-packages/matplotlib/path.py:635\u001B[0m, in \u001B[0;36mPath.get_extents\u001B[0;34m(self, transform, **kwargs)\u001B[0m\n\u001B[1;32m    632\u001B[0m xys \u001B[38;5;241m=\u001B[39m []\n\u001B[1;32m    633\u001B[0m \u001B[38;5;28;01mfor\u001B[39;00m curve, code \u001B[38;5;129;01min\u001B[39;00m \u001B[38;5;28mself\u001B[39m\u001B[38;5;241m.\u001B[39miter_bezier(\u001B[38;5;241m*\u001B[39m\u001B[38;5;241m*\u001B[39mkwargs):\n\u001B[1;32m    634\u001B[0m     \u001B[38;5;66;03m# places where the derivative is zero can be extrema\u001B[39;00m\n\u001B[0;32m--> 635\u001B[0m     _, dzeros \u001B[38;5;241m=\u001B[39m \u001B[43mcurve\u001B[49m\u001B[38;5;241;43m.\u001B[39;49m\u001B[43maxis_aligned_extrema\u001B[49m\u001B[43m(\u001B[49m\u001B[43m)\u001B[49m\n\u001B[1;32m    636\u001B[0m     \u001B[38;5;66;03m# as can the ends of the curve\u001B[39;00m\n\u001B[1;32m    637\u001B[0m     xys\u001B[38;5;241m.\u001B[39mappend(curve([\u001B[38;5;241m0\u001B[39m, \u001B[38;5;241m*\u001B[39mdzeros, \u001B[38;5;241m1\u001B[39m]))\n",
      "File \u001B[0;32m~/.conda/envs/secondenv/lib/python3.9/site-packages/matplotlib/bezier.py:299\u001B[0m, in \u001B[0;36mBezierSegment.axis_aligned_extrema\u001B[0;34m(self)\u001B[0m\n\u001B[1;32m    297\u001B[0m roots \u001B[38;5;241m=\u001B[39m []\n\u001B[1;32m    298\u001B[0m \u001B[38;5;28;01mfor\u001B[39;00m i, pi \u001B[38;5;129;01min\u001B[39;00m \u001B[38;5;28menumerate\u001B[39m(dCj\u001B[38;5;241m.\u001B[39mT):\n\u001B[0;32m--> 299\u001B[0m     r \u001B[38;5;241m=\u001B[39m \u001B[43mnp\u001B[49m\u001B[38;5;241;43m.\u001B[39;49m\u001B[43mroots\u001B[49m\u001B[43m(\u001B[49m\u001B[43mpi\u001B[49m\u001B[43m[\u001B[49m\u001B[43m:\u001B[49m\u001B[43m:\u001B[49m\u001B[38;5;241;43m-\u001B[39;49m\u001B[38;5;241;43m1\u001B[39;49m\u001B[43m]\u001B[49m\u001B[43m)\u001B[49m\n\u001B[1;32m    300\u001B[0m     roots\u001B[38;5;241m.\u001B[39mappend(r)\n\u001B[1;32m    301\u001B[0m     dims\u001B[38;5;241m.\u001B[39mappend(np\u001B[38;5;241m.\u001B[39mfull_like(r, i))\n",
      "File \u001B[0;32m<__array_function__ internals>:200\u001B[0m, in \u001B[0;36mroots\u001B[0;34m(*args, **kwargs)\u001B[0m\n",
      "File \u001B[0;32m~/.conda/envs/secondenv/lib/python3.9/site-packages/numpy/lib/polynomial.py:254\u001B[0m, in \u001B[0;36mroots\u001B[0;34m(p)\u001B[0m\n\u001B[1;32m    252\u001B[0m     A \u001B[38;5;241m=\u001B[39m diag(NX\u001B[38;5;241m.\u001B[39mones((N\u001B[38;5;241m-\u001B[39m\u001B[38;5;241m2\u001B[39m,), p\u001B[38;5;241m.\u001B[39mdtype), \u001B[38;5;241m-\u001B[39m\u001B[38;5;241m1\u001B[39m)\n\u001B[1;32m    253\u001B[0m     A[\u001B[38;5;241m0\u001B[39m,:] \u001B[38;5;241m=\u001B[39m \u001B[38;5;241m-\u001B[39mp[\u001B[38;5;241m1\u001B[39m:] \u001B[38;5;241m/\u001B[39m p[\u001B[38;5;241m0\u001B[39m]\n\u001B[0;32m--> 254\u001B[0m     roots \u001B[38;5;241m=\u001B[39m \u001B[43meigvals\u001B[49m\u001B[43m(\u001B[49m\u001B[43mA\u001B[49m\u001B[43m)\u001B[49m\n\u001B[1;32m    255\u001B[0m \u001B[38;5;28;01melse\u001B[39;00m:\n\u001B[1;32m    256\u001B[0m     roots \u001B[38;5;241m=\u001B[39m NX\u001B[38;5;241m.\u001B[39marray([])\n",
      "File \u001B[0;32m<__array_function__ internals>:200\u001B[0m, in \u001B[0;36meigvals\u001B[0;34m(*args, **kwargs)\u001B[0m\n",
      "File \u001B[0;32m~/.conda/envs/secondenv/lib/python3.9/site-packages/numpy/linalg/linalg.py:1043\u001B[0m, in \u001B[0;36meigvals\u001B[0;34m(a)\u001B[0m\n\u001B[1;32m   1041\u001B[0m _assert_stacked_2d(a)\n\u001B[1;32m   1042\u001B[0m _assert_stacked_square(a)\n\u001B[0;32m-> 1043\u001B[0m \u001B[43m_assert_finite\u001B[49m\u001B[43m(\u001B[49m\u001B[43ma\u001B[49m\u001B[43m)\u001B[49m\n\u001B[1;32m   1044\u001B[0m t, result_t \u001B[38;5;241m=\u001B[39m _commonType(a)\n\u001B[1;32m   1046\u001B[0m extobj \u001B[38;5;241m=\u001B[39m get_linalg_error_extobj(\n\u001B[1;32m   1047\u001B[0m     _raise_linalgerror_eigenvalues_nonconvergence)\n",
      "File \u001B[0;32m~/.conda/envs/secondenv/lib/python3.9/site-packages/numpy/linalg/linalg.py:194\u001B[0m, in \u001B[0;36m_assert_finite\u001B[0;34m(*arrays)\u001B[0m\n\u001B[1;32m    192\u001B[0m \u001B[38;5;28;01mdef\u001B[39;00m \u001B[38;5;21m_assert_finite\u001B[39m(\u001B[38;5;241m*\u001B[39marrays):\n\u001B[1;32m    193\u001B[0m     \u001B[38;5;28;01mfor\u001B[39;00m a \u001B[38;5;129;01min\u001B[39;00m arrays:\n\u001B[0;32m--> 194\u001B[0m         \u001B[38;5;28;01mif\u001B[39;00m \u001B[38;5;129;01mnot\u001B[39;00m \u001B[43misfinite\u001B[49m\u001B[43m(\u001B[49m\u001B[43ma\u001B[49m\u001B[43m)\u001B[49m\u001B[38;5;241;43m.\u001B[39;49m\u001B[43mall\u001B[49m\u001B[43m(\u001B[49m\u001B[43m)\u001B[49m:\n\u001B[1;32m    195\u001B[0m             \u001B[38;5;28;01mraise\u001B[39;00m LinAlgError(\u001B[38;5;124m\"\u001B[39m\u001B[38;5;124mArray must not contain infs or NaNs\u001B[39m\u001B[38;5;124m\"\u001B[39m)\n",
      "File \u001B[0;32m~/.conda/envs/secondenv/lib/python3.9/site-packages/numpy/core/_methods.py:64\u001B[0m, in \u001B[0;36m_all\u001B[0;34m(a, axis, dtype, out, keepdims, where)\u001B[0m\n\u001B[1;32m     61\u001B[0m \u001B[38;5;28;01mdef\u001B[39;00m \u001B[38;5;21m_all\u001B[39m(a, axis\u001B[38;5;241m=\u001B[39m\u001B[38;5;28;01mNone\u001B[39;00m, dtype\u001B[38;5;241m=\u001B[39m\u001B[38;5;28;01mNone\u001B[39;00m, out\u001B[38;5;241m=\u001B[39m\u001B[38;5;28;01mNone\u001B[39;00m, keepdims\u001B[38;5;241m=\u001B[39m\u001B[38;5;28;01mFalse\u001B[39;00m, \u001B[38;5;241m*\u001B[39m, where\u001B[38;5;241m=\u001B[39m\u001B[38;5;28;01mTrue\u001B[39;00m):\n\u001B[1;32m     62\u001B[0m     \u001B[38;5;66;03m# Parsing keyword arguments is currently fairly slow, so avoid it for now\u001B[39;00m\n\u001B[1;32m     63\u001B[0m     \u001B[38;5;28;01mif\u001B[39;00m where \u001B[38;5;129;01mis\u001B[39;00m \u001B[38;5;28;01mTrue\u001B[39;00m:\n\u001B[0;32m---> 64\u001B[0m         \u001B[38;5;28;01mreturn\u001B[39;00m \u001B[43mumr_all\u001B[49m\u001B[43m(\u001B[49m\u001B[43ma\u001B[49m\u001B[43m,\u001B[49m\u001B[43m \u001B[49m\u001B[43maxis\u001B[49m\u001B[43m,\u001B[49m\u001B[43m \u001B[49m\u001B[43mdtype\u001B[49m\u001B[43m,\u001B[49m\u001B[43m \u001B[49m\u001B[43mout\u001B[49m\u001B[43m,\u001B[49m\u001B[43m \u001B[49m\u001B[43mkeepdims\u001B[49m\u001B[43m)\u001B[49m\n\u001B[1;32m     65\u001B[0m     \u001B[38;5;28;01mreturn\u001B[39;00m umr_all(a, axis, dtype, out, keepdims, where\u001B[38;5;241m=\u001B[39mwhere)\n",
      "\u001B[0;31mKeyboardInterrupt\u001B[0m: "
     ]
    }
   ],
   "source": [
    "from matplotlib import pyplot as plt\n",
    "\n",
    "drop_dir = '/data/projects/TMOR/data/'\n",
    "seg_dir = '/data/projects/TMOR/data/Deeplearning/'\n",
    "#indices = []\n",
    "from tqdm import tqdm\n",
    "for subj_id in tqdm(os.listdir(seg_dir)):\n",
    "    if subj_id != 'Oslo66':\n",
    "        #extrasct the correct id from the subjects\n",
    "        # Define paths to the segmentation and regular t1 postprocessed files for this subject\n",
    "        seg_glob = os.path.join(seg_dir, f'{subj_id}', f'seg.nii.gz')\n",
    "        reg_glob = os.path.join(seg_dir, f'{subj_id}', f't1_gd.nii.gz')\n",
    "        reg2_glob = os.path.join(seg_dir, f'{subj_id}', f't1_pre.nii.gz')\n",
    "        seg_paths = glob.glob(seg_glob)\n",
    "        reg_paths = glob.glob(reg_glob)\n",
    "        reg2_paths = glob.glob(reg2_glob)\n",
    "        # Loop through all matching segmentation and registration files\n",
    "        for seg, reg, reg2 in zip(seg_paths, reg_paths, reg2_paths):\n",
    "            if os.path.exists(seg) and os.path.exists(reg) and os.path.exists(reg2):\n",
    "                mask = nib.load(seg)\n",
    "                vol_mask = mask.get_fdata()\n",
    "                t1_gd = nib.load(reg)\n",
    "                vol_t1_gd = t1_gd.get_fdata()\n",
    "                t1_pre = nib.load(reg2)\n",
    "                vol_t1_pre = t1_pre.get_fdata()\n",
    "                vol = vol_t1_gd\n",
    "                for label in np.unique(vol_mask):\n",
    "                    if label != 0:\n",
    "                        label_indices = np.argwhere(vol_mask == label)\n",
    "                        if len(label_indices) > 125:\n",
    "                            indices = label_indices\n",
    "                            X_min, X_max = np.min(indices[:, 0]), np.max(indices[:, 0])\n",
    "                            Y_min, Y_max = np.min(indices[:, 1]), np.max(indices[:, 1])\n",
    "                            Z_min, Z_max = np.min(indices[:, 2]), np.max(indices[:, 2])\n",
    "\n",
    "                            mean_x = (X_min + X_max) // 2\n",
    "                            mean_y = (Y_min + Y_max) // 2\n",
    "                            mean_z  = (Z_min + Z_max) // 2\n",
    "                            # Pad the indices with zeros\n",
    "                            x_start = max(mean_x - (D_x_max // 2), min(np.argwhere(vol_mask != 0)[:, 0]) - 10)\n",
    "                            x_end = min(mean_x + (D_x_max // 2),  max(np.argwhere(vol_mask != 0)[:, 0]) + 10)\n",
    "                            y_start = max(mean_y - (D_y_max // 2), min(np.argwhere(vol_mask != 0)[:, 1]) - 10)\n",
    "                            y_end = min(mean_y + (D_y_max // 2), max(np.argwhere(vol_mask != 0)[:, 1]) + 10)\n",
    "                            z_start = max(mean_z - (D_z_max // 2), min(np.argwhere(vol_mask != 0)[:, 2]) - 10)\n",
    "                            z_end = min(mean_z + (D_z_max // 2), max(np.argwhere(vol_mask != 0)[:, 2]) + 10)\n",
    "                            #if mean_x >= vol.shape[0]:\n",
    "                                #continue\n",
    "                            # Display the tensor\n",
    "                            fig, axes = plt.subplots(2,2)\n",
    "                            axes[0,0].imshow(vol[mean_x])\n",
    "                            axes[0,0].scatter(mean_z, mean_y)\n",
    "                            axes[0,0].plot([z_start, z_end], [y_start, y_start])\n",
    "                            axes[0,0].plot([z_start, z_end], [y_end, y_end])\n",
    "                            axes[0,0].plot([z_start, z_start], [y_start, y_end])\n",
    "                            axes[0,0].plot([z_end, z_end], [y_start, y_end])\n",
    "                            axes[0,0].set_xlabel('y axis')\n",
    "                            axes[0,0].set_ylabel('z axis')\n",
    "                            axes[0,0].set_title('x plane')\n",
    "                            axes[0,0].set_aspect('equal')\n",
    "                            axes[0,1].imshow(vol[:, mean_y])\n",
    "                            axes[0,1].scatter(mean_z, mean_x)\n",
    "                            axes[0,1].plot([z_start, z_end], [x_start, x_start])\n",
    "                            axes[0,1].plot([z_start, z_end], [x_end, x_end])\n",
    "                            axes[0,1].plot([z_start, z_start], [x_start, x_end])\n",
    "                            axes[0,1].plot([z_end, z_end], [x_start, x_end])\n",
    "                            axes[0,1].set_xlabel('x axis')\n",
    "                            axes[0,1].set_ylabel('z axis')\n",
    "                            axes[0,1].set_title('y plane')\n",
    "                            axes[0,1].set_aspect('equal')\n",
    "                            axes[1,0].imshow(vol[:, :, mean_z])\n",
    "                            axes[1,0].scatter(mean_y, mean_x)\n",
    "                            axes[1,0].plot([y_start, y_start], [x_start, x_end])\n",
    "                            axes[1,0].plot([y_end, y_end], [x_start, x_end])\n",
    "                            axes[1,0].plot([y_start, y_end], [x_start, x_start])\n",
    "                            axes[1,0].plot([y_start, y_end], [x_end, x_end])\n",
    "                            axes[1,0].set_xlabel('x axis')\n",
    "                            axes[1,0].set_ylabel('y axis')\n",
    "                            axes[1,0].set_title('z plane')\n",
    "                            axes[1,0].set_aspect('equal')\n",
    "                            axes[1,1].axis('off')\n",
    "                            fig.suptitle(f'3D MRI scan with bounding box (Label: {label})')\n",
    "                            fig.tight_layout()\n",
    "                            fig.savefig(f'mri_scan_{label}.png')  # Save the figure to a file\n",
    "                            plt.close(fig)\n",
    "\n",
    "                            output_dir = os.path.join(drop_dir, 'VeryFinalRepresentationD')\n",
    "                            os.makedirs(output_dir, exist_ok=True)\n",
    "\n",
    "                            fig.savefig(os.path.join(output_dir, f'{subj_id}mri_scan_{label}.png'))"
   ],
   "metadata": {
    "collapsed": false
   }
  },
  {
   "cell_type": "markdown",
   "source": [
    "## Maarten way"
   ],
   "metadata": {
    "collapsed": false
   }
  },
  {
   "cell_type": "code",
   "execution_count": 611,
   "outputs": [
    {
     "name": "stderr",
     "output_type": "stream",
     "text": [
      "100%|██████████| 157/157 [01:35<00:00,  1.64it/s]\n"
     ]
    }
   ],
   "source": [
    "drop_dir = '/data/projects/TMOR/data/'\n",
    "\n",
    "def clamp(num, mn, mx):\n",
    "    \"\"\"\n",
    "    Clamps a number between two values.\n",
    "    :param num: The number to clamp.\n",
    "    :param mn: The minimum value.\n",
    "    :param mx: The maximum value.\n",
    "    :return: The clamped number.\n",
    "    \"\"\"\n",
    "    return max(min(num, mx), mn)\n",
    "\n",
    "\n",
    "seg_dir = '/data/projects/TMOR/data/Deeplearning/'\n",
    "#indices = []\n",
    "for subj_id in tqdm(os.listdir(seg_dir)):\n",
    "    #extrasct the correct id from the subjects\n",
    "    # Define paths to the segmentation and regular t1 postprocessed files for this subject\n",
    "    seg_glob = os.path.join(seg_dir, f'{subj_id}', f'seg.nii.gz')\n",
    "    reg_glob = os.path.join(seg_dir, f'{subj_id}', f't1_gd.nii.gz')\n",
    "    reg2_glob = os.path.join(seg_dir, f'{subj_id}', f't1_pre.nii.gz')\n",
    "    seg_paths = glob.glob(seg_glob)\n",
    "    reg_paths = glob.glob(reg_glob)\n",
    "    reg2_paths = glob.glob(reg2_glob)\n",
    "    # Loop through all matching segmentation and registration files\n",
    "    for seg, reg, reg2 in zip(seg_paths, reg_paths, reg2_paths):\n",
    "        if os.path.exists(seg) and os.path.exists(reg) and os.path.exists(reg2):\n",
    "            mask = nib.load(seg)\n",
    "            vol_mask = mask.get_fdata()\n",
    "            t1_gd = nib.load(reg)\n",
    "            vol_t1_gd = t1_gd.get_fdata()\n",
    "            t1_pre = nib.load(reg2)\n",
    "            vol_t1_pre = t1_pre.get_fdata()\n",
    "            for label in np.unique(vol_mask):\n",
    "                if label != 0:\n",
    "                    label_indices = np.argwhere(vol_mask == label)\n",
    "                    if len(label_indices) > 125:\n",
    "                        indices = label_indices\n",
    "                        X_min, X_max = np.min(indices[:, 0]), np.max(indices[:, 0])\n",
    "                        Y_min, Y_max = np.min(indices[:, 1]), np.max(indices[:, 1])\n",
    "                        Z_min, Z_max = np.min(indices[:, 2]), np.max(indices[:, 2])\n",
    "\n",
    "                        mean_x = (X_min + X_max) // 2\n",
    "                        mean_y = (Y_min + Y_max) // 2\n",
    "                        mean_z = (Z_min + Z_max) // 2\n",
    "                        ###############################\n",
    "                        d_x = D_x_max\n",
    "                        d_y = D_y_max\n",
    "                        d_z = D_z_max\n",
    "                        ##################################\n",
    "                        x_start = clamp(mean_x - d_x // 2, 0, vol_mask.shape[0])\n",
    "                        x_end = clamp(mean_x + d_x // 2, 0, vol_mask.shape[0])\n",
    "\n",
    "                        y_start = clamp(mean_y - d_y // 2, 0, vol_mask.shape[1])\n",
    "                        y_end = clamp(mean_y + d_y // 2, 0, vol_mask.shape[1])\n",
    "\n",
    "                        z_start = clamp(mean_z - d_z // 2, 0, vol_mask.shape[2])\n",
    "                        z_end = clamp(mean_z + d_z // 2, 0, vol_mask.shape[2])\n",
    "\n",
    "                        tumor_cutout = vol_mask[x_start:x_end, y_start:y_end, z_start:z_end]\n",
    "                        t1_gd_cutout = vol_t1_gd[x_start:x_end, y_start:y_end, z_start:z_end]\n",
    "                        t1_pre_cutout = vol_t1_pre[x_start:x_end, y_start:y_end, z_start:z_end]\n",
    "                        ###################################\n",
    "                        tensor = np.zeros([d_x, d_y, d_z])\n",
    "                        # Define the position of the bounding box in the tensor\n",
    "                        tx_start = abs(mean_x - d_x // 2) if mean_x - d_x // 2 < 0 else 0\n",
    "                        tx_end = tumor_cutout.shape[0] + tx_start\n",
    "\n",
    "                        ty_start = abs(mean_y - d_y // 2) if mean_y - d_y // 2 < 0 else 0\n",
    "                        ty_end = tumor_cutout.shape[1] + ty_start\n",
    "\n",
    "                        tz_start = abs(mean_z - d_z // 2) if mean_z - d_z // 2 < 0 else 0\n",
    "                        tz_end = tumor_cutout.shape[2] + tz_start\n",
    "\n",
    "                        ## place the output\n",
    "                        output_dir = os.path.join(drop_dir, 'VeryFinalM', subj_id, str(int(label)))\n",
    "                        os.makedirs(output_dir, exist_ok=True)\n",
    "                        # Place the bounding box in the tensor\n",
    "                        tensor[tx_start:tx_end, ty_start:ty_end, tz_start:tz_end] = tumor_cutout\n",
    "                         # Save the seg_partitioned into a file\n",
    "                        #output_path = os.path.join(output_dir, f'{label}seg_seg_.nii.gz')\n",
    "                        #nib.save(nib.Nifti1Image(tumor_cutout, mask.affine), output_path)\n",
    "                        output_path_1 = os.path.join(output_dir, 'seg.nii.gz')\n",
    "                        nib.save(nib.Nifti1Image(tumor_cutout, mask.affine), output_path_1)\n",
    "                        ### t1_gd\n",
    "                        tensor[tx_start:tx_end, ty_start:ty_end, tz_start:tz_end] = t1_gd_cutout\n",
    "                        output_path_2 = os.path.join(output_dir, 't1_gd.nii.gz')\n",
    "                        nib.save(nib.Nifti1Image(t1_gd_cutout, t1_gd.affine), output_path_2)\n",
    "\n",
    "                        ### t1_pre\n",
    "                        tensor[tx_start:tx_end, ty_start:ty_end, tz_start:tz_end] = t1_pre_cutout\n",
    "                        output_path_3 = os.path.join(output_dir, 't1_pre.nii.gz')\n",
    "                        nib.save(nib.Nifti1Image(t1_pre_cutout, t1_pre.affine), output_path_3)\n"
   ],
   "metadata": {
    "collapsed": false,
    "ExecuteTime": {
     "start_time": "2023-07-11T15:13:14.972219Z",
     "end_time": "2023-07-11T15:14:50.801246Z"
    }
   }
  },
  {
   "cell_type": "code",
   "execution_count": 609,
   "outputs": [
    {
     "name": "stderr",
     "output_type": "stream",
     "text": [
      "100%|██████████| 157/157 [05:43<00:00,  2.18s/it]\n"
     ]
    }
   ],
   "source": [
    "drop_dir = '/data/projects/TMOR/data/'\n",
    "\n",
    "def clamp(num, mn, mx):\n",
    "    \"\"\"\n",
    "    Clamps a number between two values.\n",
    "    :param num: The number to clamp.\n",
    "    :param mn: The minimum value.\n",
    "    :param mx: The maximum value.\n",
    "    :return: The clamped number.\n",
    "    \"\"\"\n",
    "    return max(min(num, mx), mn)\n",
    "\n",
    "\n",
    "seg_dir = '/data/projects/TMOR/data/Deeplearning/'\n",
    "#indices = []\n",
    "for subj_id in tqdm(os.listdir(seg_dir)):\n",
    "    #extrasct the correct id from the subjects\n",
    "    # Define paths to the segmentation and regular t1 postprocessed files for this subject\n",
    "    seg_glob = os.path.join(seg_dir, f'{subj_id}', f'seg.nii.gz')\n",
    "    reg_glob = os.path.join(seg_dir, f'{subj_id}', f't1_gd.nii.gz')\n",
    "    reg2_glob = os.path.join(seg_dir, f'{subj_id}', f't1_pre.nii.gz')\n",
    "    seg_paths = glob.glob(seg_glob)\n",
    "    reg_paths = glob.glob(reg_glob)\n",
    "    reg2_paths = glob.glob(reg2_glob)\n",
    "    # Loop through all matching segmentation and registration files\n",
    "    for seg, reg, reg2 in zip(seg_paths, reg_paths, reg2_paths):\n",
    "        if os.path.exists(seg) and os.path.exists(reg) and os.path.exists(reg2):\n",
    "            mask = nib.load(seg)\n",
    "            vol_mask = mask.get_fdata()\n",
    "            t1_gd = nib.load(reg)\n",
    "            vol_t1_gd = t1_gd.get_fdata()\n",
    "            t1_pre = nib.load(reg2)\n",
    "            vol_t1_pre = t1_pre.get_fdata()\n",
    "            vol = vol_t1_gd\n",
    "            for label in np.unique(vol_mask):\n",
    "                if label != 0:\n",
    "                    label_indices = np.argwhere(vol_mask == label)\n",
    "                    if len(label_indices) > 125:\n",
    "                        indices = label_indices\n",
    "                        X_min, X_max = np.min(indices[:, 0]), np.max(indices[:, 0])\n",
    "                        Y_min, Y_max = np.min(indices[:, 1]), np.max(indices[:, 1])\n",
    "                        Z_min, Z_max = np.min(indices[:, 2]), np.max(indices[:, 2])\n",
    "\n",
    "                        mean_x = (X_min + X_max) // 2\n",
    "                        mean_y = (Y_min + Y_max) // 2\n",
    "                        mean_z = (Z_min + Z_max) // 2\n",
    "                        ###############################\n",
    "                        d_x = D_x_max\n",
    "                        d_y = D_y_max\n",
    "                        d_z = D_z_max\n",
    "                        ##################################\n",
    "                        x_start = clamp(mean_x - d_x // 2, 0, vol_mask.shape[0])\n",
    "                        x_end = clamp(mean_x + d_x // 2, 0, vol_mask.shape[0])\n",
    "\n",
    "                        y_start = clamp(mean_y - d_y // 2, 0, vol_mask.shape[1])\n",
    "                        y_end = clamp(mean_y + d_y // 2, 0, vol_mask.shape[1])\n",
    "\n",
    "                        z_start = clamp(mean_z - d_z // 2, 0, vol_mask.shape[2])\n",
    "                        z_end = clamp(mean_z + d_z // 2, 0, vol_mask.shape[2])\n",
    "\n",
    "                        tumor_cutout = vol_mask[x_start:x_end, y_start:y_end, z_start:z_end]\n",
    "                        t1_gd_cutout = vol_t1_gd[x_start:x_end, y_start:y_end, z_start:z_end]\n",
    "                        t1_pre_cutout = vol_t1_pre[x_start:x_end, y_start:y_end, z_start:z_end]\n",
    "                        ###################################\n",
    "                        tensor = np.zeros([d_x, d_y, d_z])\n",
    "                        # Define the position of the bounding box in the tensor\n",
    "                        tx_start = abs(mean_x - d_x // 2) if mean_x - d_x // 2 < 0 else 0\n",
    "                        tx_end = tumor_cutout.shape[0] + tx_start\n",
    "\n",
    "                        ty_start = abs(mean_y - d_y // 2) if mean_y - d_y // 2 < 0 else 0\n",
    "                        ty_end = tumor_cutout.shape[1] + ty_start\n",
    "\n",
    "                        tz_start = abs(mean_z - d_z // 2) if mean_z - d_z // 2 < 0 else 0\n",
    "                        tz_end = tumor_cutout.shape[2] + tz_start\n",
    "\n",
    "                        fig, axes = plt.subplots(2,2)\n",
    "                        axes[0,1].imshow(vol[mean_x, :, :].T, origin='lower')\n",
    "                        axes[0,1].scatter(mean_y, mean_z)\n",
    "                        axes[0,1].plot([y_start, y_start], [z_start, z_end])\n",
    "                        axes[0,1].plot([y_end, y_end], [z_start, z_end])\n",
    "                        axes[0,1].plot([y_start, y_end], [z_start, z_start])\n",
    "                        axes[0,1].plot([y_start, y_end], [z_end, z_end])\n",
    "                        axes[0,1].set_xlabel('y axis')\n",
    "                        axes[0,1].set_ylabel('z axis')\n",
    "                        axes[0,1].set_title('x plane')\n",
    "                        axes[0,1].set_aspect('equal')\n",
    "                        axes[0,0].imshow(vol[:, mean_y, :].T, origin='lower')\n",
    "                        axes[0,0].scatter(mean_x, mean_z)\n",
    "                        axes[0,0].plot([x_start, x_start], [z_start, z_end])\n",
    "                        axes[0,0].plot([x_end, x_end], [z_start, z_end])\n",
    "                        axes[0,0].plot([x_start, x_end], [z_start, z_start])\n",
    "                        axes[0,0].plot([x_start, x_end], [z_end, z_end])\n",
    "                        axes[0,0].set_xlabel('x axis')\n",
    "                        axes[0,0].set_ylabel('z axis')\n",
    "                        axes[0,0].set_title('y plane')\n",
    "                        axes[0,0].set_aspect('equal')\n",
    "                        axes[1,0].imshow(vol[:, :, mean_z].T, origin='lower')\n",
    "                        axes[1,0].scatter(mean_x, mean_y)\n",
    "                        axes[1,0].plot([x_start, x_start], [y_start, y_end])\n",
    "                        axes[1,0].plot([x_end, x_end], [y_start, y_end])\n",
    "                        axes[1,0].plot([x_start, x_end], [y_start, y_start])\n",
    "                        axes[1,0].plot([x_start, x_end], [y_end, y_end])\n",
    "                        axes[1,0].set_xlabel('x axis')\n",
    "                        axes[1,0].set_ylabel('y axis')\n",
    "                        axes[1,0].set_title('z plane')\n",
    "                        axes[1,0].set_aspect('equal')\n",
    "                        axes[1,1].axis('off')\n",
    "                        fig.suptitle(f'3D MRI scan with bounding box (Label: {label})')\n",
    "                        fig.tight_layout()\n",
    "                        fig.savefig(f'mri_scan_{label}.png')  # Save the figure to a file\n",
    "                        plt.close(fig)\n",
    "\n",
    "                        output_dir = os.path.join(drop_dir, 'VeryFinalRepresentationM')\n",
    "                        os.makedirs(output_dir, exist_ok=True)\n",
    "\n",
    "                        fig.savefig(os.path.join(output_dir, f'{subj_id}mri_scan_{label}.png'))"
   ],
   "metadata": {
    "collapsed": false,
    "ExecuteTime": {
     "start_time": "2023-07-11T15:06:28.440227Z",
     "end_time": "2023-07-11T15:12:11.475219Z"
    }
   }
  },
  {
   "cell_type": "code",
   "execution_count": 156,
   "outputs": [],
   "source": [
    "df2 = df[['subjid']].join(df['label']).join(df['labels'])\n",
    "df2.to_excel('final_labels.xlsx')"
   ],
   "metadata": {
    "collapsed": false,
    "ExecuteTime": {
     "start_time": "2023-07-06T18:58:57.451416Z",
     "end_time": "2023-07-06T18:58:57.494919Z"
    }
   }
  },
  {
   "cell_type": "code",
   "execution_count": 610,
   "outputs": [
    {
     "data": {
      "text/plain": "86"
     },
     "execution_count": 610,
     "metadata": {},
     "output_type": "execute_result"
    }
   ],
   "source": [
    "D_x_max"
   ],
   "metadata": {
    "collapsed": false,
    "ExecuteTime": {
     "start_time": "2023-07-11T15:12:11.476740Z",
     "end_time": "2023-07-11T15:12:11.480049Z"
    }
   }
  },
  {
   "cell_type": "markdown",
   "source": [
    "## standadrd scale the images"
   ],
   "metadata": {
    "collapsed": false
   }
  },
  {
   "cell_type": "code",
   "execution_count": 33,
   "outputs": [
    {
     "ename": "FileNotFoundError",
     "evalue": "No such file or no access: '/data/projects/TMOR/data/VeryFinalA/veryfinalA_normalized/Sandard_f/t1_gd.nii.gz'",
     "output_type": "error",
     "traceback": [
      "\u001B[0;31m---------------------------------------------------------------------------\u001B[0m",
      "\u001B[0;31mFileNotFoundError\u001B[0m                         Traceback (most recent call last)",
      "File \u001B[0;32m~/.conda/envs/secondenv/lib/python3.9/site-packages/nibabel/loadsave.py:87\u001B[0m, in \u001B[0;36mload\u001B[0;34m(filename, **kwargs)\u001B[0m\n\u001B[1;32m     86\u001B[0m \u001B[38;5;28;01mtry\u001B[39;00m:\n\u001B[0;32m---> 87\u001B[0m     stat_result \u001B[38;5;241m=\u001B[39m \u001B[43mos\u001B[49m\u001B[38;5;241;43m.\u001B[39;49m\u001B[43mstat\u001B[49m\u001B[43m(\u001B[49m\u001B[43mfilename\u001B[49m\u001B[43m)\u001B[49m\n\u001B[1;32m     88\u001B[0m \u001B[38;5;28;01mexcept\u001B[39;00m \u001B[38;5;167;01mOSError\u001B[39;00m:\n",
      "\u001B[0;31mFileNotFoundError\u001B[0m: [Errno 2] No such file or directory: '/data/projects/TMOR/data/VeryFinalA/veryfinalA_normalized/Sandard_f/t1_gd.nii.gz'",
      "\nDuring handling of the above exception, another exception occurred:\n",
      "\u001B[0;31mFileNotFoundError\u001B[0m                         Traceback (most recent call last)",
      "Cell \u001B[0;32mIn[33], line 32\u001B[0m\n\u001B[1;32m     30\u001B[0m drop_dir \u001B[38;5;241m=\u001B[39m  \u001B[38;5;124m'\u001B[39m\u001B[38;5;124m/data/projects/TMOR/data/\u001B[39m\u001B[38;5;124m'\u001B[39m\n\u001B[1;32m     31\u001B[0m \u001B[38;5;66;03m#normalize_nifti_images(input_folder_path, output_folder_path, normalization_type='min-max')\u001B[39;00m\n\u001B[0;32m---> 32\u001B[0m \u001B[43mnormalize_nifti_images\u001B[49m\u001B[43m(\u001B[49m\u001B[43mimg_dir\u001B[49m\u001B[43m,\u001B[49m\u001B[43m \u001B[49m\u001B[43mdrop_dir\u001B[49m\u001B[43m,\u001B[49m\u001B[43m \u001B[49m\u001B[43mnormalization\u001B[49m\u001B[38;5;241;43m=\u001B[39;49m\u001B[38;5;124;43m'\u001B[39;49m\u001B[38;5;124;43mstandard\u001B[39;49m\u001B[38;5;124;43m'\u001B[39;49m\u001B[43m)\u001B[49m\n",
      "Cell \u001B[0;32mIn[33], line 14\u001B[0m, in \u001B[0;36mnormalize_nifti_images\u001B[0;34m(img_dir, drop_dir, normalization)\u001B[0m\n\u001B[1;32m     12\u001B[0m subj_id \u001B[38;5;241m=\u001B[39m path\u001B[38;5;241m.\u001B[39msplit(\u001B[38;5;124m'\u001B[39m\u001B[38;5;124m/\u001B[39m\u001B[38;5;124m'\u001B[39m)[\u001B[38;5;241m-\u001B[39m\u001B[38;5;241m3\u001B[39m]\n\u001B[1;32m     13\u001B[0m label \u001B[38;5;241m=\u001B[39m path\u001B[38;5;241m.\u001B[39msplit(\u001B[38;5;124m'\u001B[39m\u001B[38;5;124m/\u001B[39m\u001B[38;5;124m'\u001B[39m)[\u001B[38;5;241m-\u001B[39m\u001B[38;5;241m2\u001B[39m]\n\u001B[0;32m---> 14\u001B[0m image  \u001B[38;5;241m=\u001B[39m \u001B[43mnib\u001B[49m\u001B[38;5;241;43m.\u001B[39;49m\u001B[43mload\u001B[49m\u001B[43m(\u001B[49m\u001B[43mpath\u001B[49m\u001B[43m)\u001B[49m\n\u001B[1;32m     15\u001B[0m vol \u001B[38;5;241m=\u001B[39m image\u001B[38;5;241m.\u001B[39mget_fdata()\n\u001B[1;32m     16\u001B[0m \u001B[38;5;66;03m#print(vol.shape)\u001B[39;00m\n",
      "File \u001B[0;32m~/.conda/envs/secondenv/lib/python3.9/site-packages/nibabel/loadsave.py:89\u001B[0m, in \u001B[0;36mload\u001B[0;34m(filename, **kwargs)\u001B[0m\n\u001B[1;32m     87\u001B[0m     stat_result \u001B[38;5;241m=\u001B[39m os\u001B[38;5;241m.\u001B[39mstat(filename)\n\u001B[1;32m     88\u001B[0m \u001B[38;5;28;01mexcept\u001B[39;00m \u001B[38;5;167;01mOSError\u001B[39;00m:\n\u001B[0;32m---> 89\u001B[0m     \u001B[38;5;28;01mraise\u001B[39;00m \u001B[38;5;167;01mFileNotFoundError\u001B[39;00m(\u001B[38;5;124mf\u001B[39m\u001B[38;5;124m\"\u001B[39m\u001B[38;5;124mNo such file or no access: \u001B[39m\u001B[38;5;124m'\u001B[39m\u001B[38;5;132;01m{\u001B[39;00mfilename\u001B[38;5;132;01m}\u001B[39;00m\u001B[38;5;124m'\u001B[39m\u001B[38;5;124m\"\u001B[39m)\n\u001B[1;32m     90\u001B[0m \u001B[38;5;28;01mif\u001B[39;00m stat_result\u001B[38;5;241m.\u001B[39mst_size \u001B[38;5;241m<\u001B[39m\u001B[38;5;241m=\u001B[39m \u001B[38;5;241m0\u001B[39m:\n\u001B[1;32m     91\u001B[0m     \u001B[38;5;28;01mraise\u001B[39;00m ImageFileError(\u001B[38;5;124mf\u001B[39m\u001B[38;5;124m\"\u001B[39m\u001B[38;5;124mEmpty file: \u001B[39m\u001B[38;5;124m'\u001B[39m\u001B[38;5;132;01m{\u001B[39;00mfilename\u001B[38;5;132;01m}\u001B[39;00m\u001B[38;5;124m'\u001B[39m\u001B[38;5;124m\"\u001B[39m)\n",
      "\u001B[0;31mFileNotFoundError\u001B[0m: No such file or no access: '/data/projects/TMOR/data/VeryFinalA/veryfinalA_normalized/Sandard_f/t1_gd.nii.gz'"
     ]
    }
   ],
   "source": [
    "import os\n",
    "import glob\n",
    "import numpy as np\n",
    "import nibabel as nib\n",
    "from sklearn.preprocessing import MinMaxScaler, StandardScaler\n",
    "\n",
    "def normalize_nifti_images(img_dir, drop_dir, normalization=None):\n",
    "    indices = glob.glob(os.path.join(img_dir, '*', '*'))\n",
    "    for i in indices:\n",
    "        path = os.path.join(i, f't1_gd.nii.gz')\n",
    "        name_folder = path.split('/')[-4]\n",
    "        subj_id = path.split('/')[-3]\n",
    "        label = path.split('/')[-2]\n",
    "        image  = nib.load(path)\n",
    "        vol = image.get_fdata()\n",
    "        #print(vol.shape)\n",
    "\n",
    "        if normalization == 'standard':\n",
    "            scaler = MinMaxScaler()\n",
    "            normalized_image_data = scaler.fit_transform(vol.reshape(-1, vol.shape[-1])).reshape(vol.shape)\n",
    "\n",
    "        output_dir = os.path.join(drop_dir, f'Sandard_f{name_folder}', subj_id, str(int(label)))\n",
    "        os.makedirs(output_dir, exist_ok=True)\n",
    "        # Place the bounding box in the tensor\n",
    "        output_path_1 = os.path.join(output_dir, 't1_gd.nii.gz')\n",
    "        nib.save(nib.Nifti1Image(normalized_image_data, image.affine), output_path_1)\n",
    "        # Example usage:\n",
    "\n",
    "img_dir = '/data/projects/TMOR/data/VeryFinalA/'\n",
    "drop_dir =  '/data/projects/TMOR/data/'\n",
    "#normalize_nifti_images(input_folder_path, output_folder_path, normalization_type='min-max')\n",
    "normalize_nifti_images(img_dir, drop_dir, normalization='standard')\n"
   ],
   "metadata": {
    "collapsed": false,
    "ExecuteTime": {
     "start_time": "2023-07-24T21:03:46.358607Z",
     "end_time": "2023-07-24T21:03:46.457979Z"
    }
   }
  },
  {
   "cell_type": "code",
   "execution_count": 45,
   "outputs": [
    {
     "data": {
      "text/plain": "3"
     },
     "execution_count": 45,
     "metadata": {},
     "output_type": "execute_result"
    }
   ],
   "source": [
    "img_dir = '/data/projects/TMOR/data/Sandard_fVeryFinalA/Oslo65/1/t1_gd.nii.gz'\n",
    "\n",
    "image  = nib.load(img_dir)\n",
    "\n",
    "image.ndim"
   ],
   "metadata": {
    "collapsed": false,
    "ExecuteTime": {
     "start_time": "2023-07-24T22:11:05.655904Z",
     "end_time": "2023-07-24T22:11:05.779114Z"
    }
   }
  }
 ],
 "metadata": {
  "kernelspec": {
   "display_name": "Python 3",
   "language": "python",
   "name": "python3"
  },
  "language_info": {
   "codemirror_mode": {
    "name": "ipython",
    "version": 2
   },
   "file_extension": ".py",
   "mimetype": "text/x-python",
   "name": "python",
   "nbconvert_exporter": "python",
   "pygments_lexer": "ipython2",
   "version": "2.7.6"
  }
 },
 "nbformat": 4,
 "nbformat_minor": 0
}
