{
 "cells": [
  {
   "cell_type": "code",
   "execution_count": 1,
   "metadata": {
    "collapsed": true,
    "ExecuteTime": {
     "start_time": "2023-07-25T16:19:06.505987Z",
     "end_time": "2023-07-25T16:19:08.487492Z"
    }
   },
   "outputs": [],
   "source": [
    "import pandas as pd\n",
    "import numpy as np\n",
    "import os\n",
    "import nibabel as nib\n",
    "import pandas as pd\n",
    "from sklearn.metrics import accuracy_score\n",
    "from sklearn.model_selection import train_test_split\n",
    "from sklearn.model_selection import StratifiedKFold\n",
    "from sklearn.model_selection import StratifiedShuffleSplit\n",
    "from utils import flatten\n",
    "from utils import DataLoader2DT1GD ## the 2D one with slices t1_gd\n",
    "from utils import DataLoader2DALL ## the 2D one with slices of t1_gd, flair and pre_gd\n",
    "from utils import DataLoader2 ## no slices and all the modes\n",
    "from utils import CustomDataset\n",
    "from utils import visualize_slices\n",
    "from utils import train_validate_model\n",
    "from utils import multiclass_roc_auc_score\n",
    "from utils import class_vs_rest_roc_auc_score\n",
    "from utils import calculate_specificity\n",
    "from utils import calculate_sensitivity\n",
    "from utils import calculate_f1_score\n",
    "from utils import calculate_accuracy\n",
    "from utils import calculate_precision\n",
    "from imblearn.over_sampling import SMOTE\n",
    "import seaborn as sns\n",
    "from torch.utils.data import Dataset, DataLoader\n",
    "from torchvision.models import resnet50, ResNet50_Weights\n",
    "import torch\n",
    "import torch.nn as nn\n",
    "import torch.optim as optim\n",
    "from torch.utils.data import DataLoader, TensorDataset\n",
    "from torchvision.models import resnet50, ResNet50_Weights\n",
    "from tqdm import tqdm\n",
    "from utils import test_model\n",
    "from sklearn.metrics import confusion_matrix\n",
    "import torchvision.transforms as T\n",
    "import torchio\n",
    "from torchio.transforms import (\n",
    "    CropOrPad,\n",
    "    OneOf,\n",
    "    RescaleIntensity,\n",
    "    RandomAffine,\n",
    "    RandomElasticDeformation,\n",
    "    RandomFlip,\n",
    "    Compose,\n",
    ")\n",
    "from sklearn.utils.class_weight import compute_class_weight\n",
    "from efficientnet_pytorch import EfficientNet\n"
   ]
  },
  {
   "cell_type": "code",
   "execution_count": 2,
   "outputs": [
    {
     "data": {
      "text/plain": "        subjid  label  shape_Elongation  shape_Flatness   \n0       Oslo01      1          0.829356        0.682981  \\\n1       Oslo01      2          0.944143        0.900681   \n4       Oslo02      4          0.849295        0.841082   \n5       Oslo02      5          0.939828        0.821847   \n7       Oslo03      1          0.930698        0.629604   \n...        ...    ...               ...             ...   \n2408  Stan_328      1          0.810571        0.325076   \n2415  Stan_328      8          0.967496        0.597282   \n2418  Stan_328     11          0.561746        0.506390   \n2419  Stan_328     12          0.959775        0.756903   \n2427  Stan_338      4          0.819799        0.618051   \n\n      shape_LeastAxisLength  shape_MajorAxisLength   \n0                  8.512717              12.464063  \\\n1                 14.133927              15.692487   \n4                  8.703783              10.348315   \n5                 12.093804              14.715396   \n7                 10.914986              17.336268   \n...                     ...                    ...   \n2408               8.769420              26.976501   \n2415               6.131668              10.265944   \n2418               5.004740               9.883181   \n2419               5.164755               6.823538   \n2427               8.548537              13.831433   \n\n      shape_Maximum2DDiameterColumn  shape_Maximum2DDiameterRow   \n0                         14.866069                   14.560220  \\\n1                         17.804494                   19.416488   \n4                         10.816654                   11.704700   \n5                         17.262677                   17.888544   \n7                         20.615528                   18.439089   \n...                             ...                         ...   \n2408                      31.384710                   28.160256   \n2415                      11.661904                   12.369317   \n2418                       8.246211                   11.704700   \n2419                       7.615773                    8.602325   \n2427                      14.142136                   15.297059   \n\n      shape_Maximum2DDiameterSlice  shape_Maximum3DDiameter  ...   \n0                        12.529964                15.394804  ...  \\\n1                        18.681542                19.467922  ...   \n4                        11.704700                12.449900  ...   \n5                        17.492856                18.000000  ...   \n7                        19.416488                20.712315  ...   \n...                            ...                      ...  ...   \n2408                     27.459060                33.075671  ...   \n2415                     12.165525                12.688578  ...   \n2418                     10.000000                12.124356  ...   \n2419                      8.602325                 8.602325  ...   \n2427                     17.204651                17.291616  ...   \n\n      ngtdm_Busyness  ngtdm_Coarseness  ngtdm_Complexity  ngtdm_Contrast   \n0         158.977235          0.008929          0.302273        0.074659  \\\n1          39.445794          0.007407          0.115448        0.010426   \n4          14.239428          0.022868          0.159307        0.020316   \n5          49.609354          0.008536          0.137901        0.028455   \n7          43.648474          0.007781          0.123220        0.017415   \n...              ...               ...               ...             ...   \n2408       12.988427          0.019891          0.030104        0.000639   \n2415       18.452502          0.024791          0.208465        0.046975   \n2418        0.553323          0.468447          0.025263        0.000748   \n2419        0.000000    1000000.000000          0.000000        0.000000   \n2427        6.977967          0.040814          0.057854        0.005610   \n\n      ngtdm_Strength  Age  number_annotations  F  M  labels  \n0           0.008950   58                   1  0  1       0  \n1           0.007130   58                   1  0  1       0  \n4           0.023465   50                   1  1  0       1  \n5           0.008212   50                   1  1  0       1  \n7           0.007982   64                   1  0  1       0  \n...              ...  ...                 ... .. ..     ...  \n2408        0.019768   53                   1  0  1       1  \n2415        0.023205   53                   1  0  1       1  \n2418        0.365681   53                   1  0  1       1  \n2419        0.000000   53                   1  0  1       1  \n2427        0.031493   42                   1  1  0       1  \n\n[438 rows x 114 columns]",
      "text/html": "<div>\n<style scoped>\n    .dataframe tbody tr th:only-of-type {\n        vertical-align: middle;\n    }\n\n    .dataframe tbody tr th {\n        vertical-align: top;\n    }\n\n    .dataframe thead th {\n        text-align: right;\n    }\n</style>\n<table border=\"1\" class=\"dataframe\">\n  <thead>\n    <tr style=\"text-align: right;\">\n      <th></th>\n      <th>subjid</th>\n      <th>label</th>\n      <th>shape_Elongation</th>\n      <th>shape_Flatness</th>\n      <th>shape_LeastAxisLength</th>\n      <th>shape_MajorAxisLength</th>\n      <th>shape_Maximum2DDiameterColumn</th>\n      <th>shape_Maximum2DDiameterRow</th>\n      <th>shape_Maximum2DDiameterSlice</th>\n      <th>shape_Maximum3DDiameter</th>\n      <th>...</th>\n      <th>ngtdm_Busyness</th>\n      <th>ngtdm_Coarseness</th>\n      <th>ngtdm_Complexity</th>\n      <th>ngtdm_Contrast</th>\n      <th>ngtdm_Strength</th>\n      <th>Age</th>\n      <th>number_annotations</th>\n      <th>F</th>\n      <th>M</th>\n      <th>labels</th>\n    </tr>\n  </thead>\n  <tbody>\n    <tr>\n      <th>0</th>\n      <td>Oslo01</td>\n      <td>1</td>\n      <td>0.829356</td>\n      <td>0.682981</td>\n      <td>8.512717</td>\n      <td>12.464063</td>\n      <td>14.866069</td>\n      <td>14.560220</td>\n      <td>12.529964</td>\n      <td>15.394804</td>\n      <td>...</td>\n      <td>158.977235</td>\n      <td>0.008929</td>\n      <td>0.302273</td>\n      <td>0.074659</td>\n      <td>0.008950</td>\n      <td>58</td>\n      <td>1</td>\n      <td>0</td>\n      <td>1</td>\n      <td>0</td>\n    </tr>\n    <tr>\n      <th>1</th>\n      <td>Oslo01</td>\n      <td>2</td>\n      <td>0.944143</td>\n      <td>0.900681</td>\n      <td>14.133927</td>\n      <td>15.692487</td>\n      <td>17.804494</td>\n      <td>19.416488</td>\n      <td>18.681542</td>\n      <td>19.467922</td>\n      <td>...</td>\n      <td>39.445794</td>\n      <td>0.007407</td>\n      <td>0.115448</td>\n      <td>0.010426</td>\n      <td>0.007130</td>\n      <td>58</td>\n      <td>1</td>\n      <td>0</td>\n      <td>1</td>\n      <td>0</td>\n    </tr>\n    <tr>\n      <th>4</th>\n      <td>Oslo02</td>\n      <td>4</td>\n      <td>0.849295</td>\n      <td>0.841082</td>\n      <td>8.703783</td>\n      <td>10.348315</td>\n      <td>10.816654</td>\n      <td>11.704700</td>\n      <td>11.704700</td>\n      <td>12.449900</td>\n      <td>...</td>\n      <td>14.239428</td>\n      <td>0.022868</td>\n      <td>0.159307</td>\n      <td>0.020316</td>\n      <td>0.023465</td>\n      <td>50</td>\n      <td>1</td>\n      <td>1</td>\n      <td>0</td>\n      <td>1</td>\n    </tr>\n    <tr>\n      <th>5</th>\n      <td>Oslo02</td>\n      <td>5</td>\n      <td>0.939828</td>\n      <td>0.821847</td>\n      <td>12.093804</td>\n      <td>14.715396</td>\n      <td>17.262677</td>\n      <td>17.888544</td>\n      <td>17.492856</td>\n      <td>18.000000</td>\n      <td>...</td>\n      <td>49.609354</td>\n      <td>0.008536</td>\n      <td>0.137901</td>\n      <td>0.028455</td>\n      <td>0.008212</td>\n      <td>50</td>\n      <td>1</td>\n      <td>1</td>\n      <td>0</td>\n      <td>1</td>\n    </tr>\n    <tr>\n      <th>7</th>\n      <td>Oslo03</td>\n      <td>1</td>\n      <td>0.930698</td>\n      <td>0.629604</td>\n      <td>10.914986</td>\n      <td>17.336268</td>\n      <td>20.615528</td>\n      <td>18.439089</td>\n      <td>19.416488</td>\n      <td>20.712315</td>\n      <td>...</td>\n      <td>43.648474</td>\n      <td>0.007781</td>\n      <td>0.123220</td>\n      <td>0.017415</td>\n      <td>0.007982</td>\n      <td>64</td>\n      <td>1</td>\n      <td>0</td>\n      <td>1</td>\n      <td>0</td>\n    </tr>\n    <tr>\n      <th>...</th>\n      <td>...</td>\n      <td>...</td>\n      <td>...</td>\n      <td>...</td>\n      <td>...</td>\n      <td>...</td>\n      <td>...</td>\n      <td>...</td>\n      <td>...</td>\n      <td>...</td>\n      <td>...</td>\n      <td>...</td>\n      <td>...</td>\n      <td>...</td>\n      <td>...</td>\n      <td>...</td>\n      <td>...</td>\n      <td>...</td>\n      <td>...</td>\n      <td>...</td>\n      <td>...</td>\n    </tr>\n    <tr>\n      <th>2408</th>\n      <td>Stan_328</td>\n      <td>1</td>\n      <td>0.810571</td>\n      <td>0.325076</td>\n      <td>8.769420</td>\n      <td>26.976501</td>\n      <td>31.384710</td>\n      <td>28.160256</td>\n      <td>27.459060</td>\n      <td>33.075671</td>\n      <td>...</td>\n      <td>12.988427</td>\n      <td>0.019891</td>\n      <td>0.030104</td>\n      <td>0.000639</td>\n      <td>0.019768</td>\n      <td>53</td>\n      <td>1</td>\n      <td>0</td>\n      <td>1</td>\n      <td>1</td>\n    </tr>\n    <tr>\n      <th>2415</th>\n      <td>Stan_328</td>\n      <td>8</td>\n      <td>0.967496</td>\n      <td>0.597282</td>\n      <td>6.131668</td>\n      <td>10.265944</td>\n      <td>11.661904</td>\n      <td>12.369317</td>\n      <td>12.165525</td>\n      <td>12.688578</td>\n      <td>...</td>\n      <td>18.452502</td>\n      <td>0.024791</td>\n      <td>0.208465</td>\n      <td>0.046975</td>\n      <td>0.023205</td>\n      <td>53</td>\n      <td>1</td>\n      <td>0</td>\n      <td>1</td>\n      <td>1</td>\n    </tr>\n    <tr>\n      <th>2418</th>\n      <td>Stan_328</td>\n      <td>11</td>\n      <td>0.561746</td>\n      <td>0.506390</td>\n      <td>5.004740</td>\n      <td>9.883181</td>\n      <td>8.246211</td>\n      <td>11.704700</td>\n      <td>10.000000</td>\n      <td>12.124356</td>\n      <td>...</td>\n      <td>0.553323</td>\n      <td>0.468447</td>\n      <td>0.025263</td>\n      <td>0.000748</td>\n      <td>0.365681</td>\n      <td>53</td>\n      <td>1</td>\n      <td>0</td>\n      <td>1</td>\n      <td>1</td>\n    </tr>\n    <tr>\n      <th>2419</th>\n      <td>Stan_328</td>\n      <td>12</td>\n      <td>0.959775</td>\n      <td>0.756903</td>\n      <td>5.164755</td>\n      <td>6.823538</td>\n      <td>7.615773</td>\n      <td>8.602325</td>\n      <td>8.602325</td>\n      <td>8.602325</td>\n      <td>...</td>\n      <td>0.000000</td>\n      <td>1000000.000000</td>\n      <td>0.000000</td>\n      <td>0.000000</td>\n      <td>0.000000</td>\n      <td>53</td>\n      <td>1</td>\n      <td>0</td>\n      <td>1</td>\n      <td>1</td>\n    </tr>\n    <tr>\n      <th>2427</th>\n      <td>Stan_338</td>\n      <td>4</td>\n      <td>0.819799</td>\n      <td>0.618051</td>\n      <td>8.548537</td>\n      <td>13.831433</td>\n      <td>14.142136</td>\n      <td>15.297059</td>\n      <td>17.204651</td>\n      <td>17.291616</td>\n      <td>...</td>\n      <td>6.977967</td>\n      <td>0.040814</td>\n      <td>0.057854</td>\n      <td>0.005610</td>\n      <td>0.031493</td>\n      <td>42</td>\n      <td>1</td>\n      <td>1</td>\n      <td>0</td>\n      <td>1</td>\n    </tr>\n  </tbody>\n</table>\n<p>438 rows × 114 columns</p>\n</div>"
     },
     "execution_count": 2,
     "metadata": {},
     "output_type": "execute_result"
    }
   ],
   "source": [
    "df = pd.read_excel('all_patients.xlsx')\n",
    "df = df[df.shape_VoxelVolume > 125]\n",
    "df.drop(df[df['labels'] == 3].index, inplace = True) ## dropping label of the call OTHERS\n",
    "df.drop(df[df['number_annotations'] > 1].index, inplace = True)\n",
    "df"
   ],
   "metadata": {
    "collapsed": false,
    "ExecuteTime": {
     "start_time": "2023-07-25T16:19:08.485301Z",
     "end_time": "2023-07-25T16:19:11.323167Z"
    }
   }
  },
  {
   "cell_type": "markdown",
   "source": [
    "## we have created a new folder called deep learning with all the folder with all the folder per patient labels as 0, 1 or 2 with tumors greater than 125mm3"
   ],
   "metadata": {
    "collapsed": false
   }
  },
  {
   "cell_type": "code",
   "execution_count": 3,
   "outputs": [
    {
     "data": {
      "text/plain": "        subjid  label  labels\n0       Oslo01      1       0\n1       Oslo01      2       0\n4       Oslo02      4       1\n5       Oslo02      5       1\n7       Oslo03      1       0\n...        ...    ...     ...\n2408  Stan_328      1       1\n2415  Stan_328      8       1\n2418  Stan_328     11       1\n2419  Stan_328     12       1\n2427  Stan_338      4       1\n\n[438 rows x 3 columns]",
      "text/html": "<div>\n<style scoped>\n    .dataframe tbody tr th:only-of-type {\n        vertical-align: middle;\n    }\n\n    .dataframe tbody tr th {\n        vertical-align: top;\n    }\n\n    .dataframe thead th {\n        text-align: right;\n    }\n</style>\n<table border=\"1\" class=\"dataframe\">\n  <thead>\n    <tr style=\"text-align: right;\">\n      <th></th>\n      <th>subjid</th>\n      <th>label</th>\n      <th>labels</th>\n    </tr>\n  </thead>\n  <tbody>\n    <tr>\n      <th>0</th>\n      <td>Oslo01</td>\n      <td>1</td>\n      <td>0</td>\n    </tr>\n    <tr>\n      <th>1</th>\n      <td>Oslo01</td>\n      <td>2</td>\n      <td>0</td>\n    </tr>\n    <tr>\n      <th>4</th>\n      <td>Oslo02</td>\n      <td>4</td>\n      <td>1</td>\n    </tr>\n    <tr>\n      <th>5</th>\n      <td>Oslo02</td>\n      <td>5</td>\n      <td>1</td>\n    </tr>\n    <tr>\n      <th>7</th>\n      <td>Oslo03</td>\n      <td>1</td>\n      <td>0</td>\n    </tr>\n    <tr>\n      <th>...</th>\n      <td>...</td>\n      <td>...</td>\n      <td>...</td>\n    </tr>\n    <tr>\n      <th>2408</th>\n      <td>Stan_328</td>\n      <td>1</td>\n      <td>1</td>\n    </tr>\n    <tr>\n      <th>2415</th>\n      <td>Stan_328</td>\n      <td>8</td>\n      <td>1</td>\n    </tr>\n    <tr>\n      <th>2418</th>\n      <td>Stan_328</td>\n      <td>11</td>\n      <td>1</td>\n    </tr>\n    <tr>\n      <th>2419</th>\n      <td>Stan_328</td>\n      <td>12</td>\n      <td>1</td>\n    </tr>\n    <tr>\n      <th>2427</th>\n      <td>Stan_338</td>\n      <td>4</td>\n      <td>1</td>\n    </tr>\n  </tbody>\n</table>\n<p>438 rows × 3 columns</p>\n</div>"
     },
     "execution_count": 3,
     "metadata": {},
     "output_type": "execute_result"
    }
   ],
   "source": [
    "df2 = df[['subjid']].join(df['label']).join(df['labels'])\n",
    "#df2.to_excel('final_labels.xlsx')\n",
    "df2"
   ],
   "metadata": {
    "collapsed": false,
    "ExecuteTime": {
     "start_time": "2023-07-25T16:19:12.028001Z",
     "end_time": "2023-07-25T16:19:12.036420Z"
    }
   }
  },
  {
   "cell_type": "code",
   "execution_count": 4,
   "outputs": [],
   "source": [
    "new_df = pd.DataFrame({'Subjid': df.iloc[:, 0], 'Tumor': df.iloc[:, 1], 'Labels': df.iloc[:, -1]})\n",
    "new_df = new_df.drop_duplicates(subset='Subjid', keep='first')\n",
    "new_df = new_df[new_df['Subjid'] != 'Oslo66']\n",
    "y_patients = new_df['Labels']"
   ],
   "metadata": {
    "collapsed": false,
    "ExecuteTime": {
     "start_time": "2023-07-25T16:19:16.571642Z",
     "end_time": "2023-07-25T16:19:16.586546Z"
    }
   }
  },
  {
   "cell_type": "code",
   "execution_count": 5,
   "outputs": [
    {
     "data": {
      "text/plain": "437"
     },
     "execution_count": 5,
     "metadata": {},
     "output_type": "execute_result"
    }
   ],
   "source": [
    "df3 = pd.read_excel('final_labels.xlsx')\n",
    "df3.set_index('subjid')\n",
    "y = df3['labels']\n",
    "len(y)"
   ],
   "metadata": {
    "collapsed": false,
    "ExecuteTime": {
     "start_time": "2023-07-25T16:19:19.830164Z",
     "end_time": "2023-07-25T16:19:22.231124Z"
    }
   }
  },
  {
   "cell_type": "markdown",
   "source": [
    "## lets see if the slices thing work"
   ],
   "metadata": {
    "collapsed": false
   }
  },
  {
   "cell_type": "code",
   "execution_count": 10,
   "outputs": [
    {
     "data": {
      "text/plain": "<Figure size 1500x500 with 7 Axes>",
      "image/png": "[encoded data removed]"
     },
     "metadata": {},
     "output_type": "display_data"
    }
   ],
   "source": [
    "img_dir = f'/data/projects/TMOR/data/VeryFinalA/Oslo02/4/t1_gd.nii.gz'\n",
    "\n",
    "visualize_slices(img_dir)"
   ],
   "metadata": {
    "collapsed": false,
    "ExecuteTime": {
     "start_time": "2023-07-25T16:20:53.330342Z",
     "end_time": "2023-07-25T16:20:55.881072Z"
    }
   }
  },
  {
   "cell_type": "markdown",
   "source": [
    "## 2D T1GD"
   ],
   "metadata": {
    "collapsed": false
   }
  },
  {
   "cell_type": "code",
   "execution_count": 41,
   "outputs": [
    {
     "name": "stdout",
     "output_type": "stream",
     "text": [
      "TRAINING\n"
     ]
    },
    {
     "name": "stderr",
     "output_type": "stream",
     "text": [
      "Training Progress:   0%|          | 0/30 [00:00<?, ?it/s]"
     ]
    },
    {
     "name": "stdout",
     "output_type": "stream",
     "text": [
      "------------------------------------------------------------------------------------------------------------------------------------------\n",
      "Epoch [1/30]: Train Loss: 0.8585 | Val Loss: 1.0195 | Val Acc: 33.33%\n",
      "Validation loss decreased (inf --> 1.019486).  Saving model ...\n"
     ]
    },
    {
     "name": "stderr",
     "output_type": "stream",
     "text": [
      "Training Progress:   3%|▎         | 1/30 [01:35<46:04, 95.34s/it]\n"
     ]
    },
    {
     "ename": "KeyboardInterrupt",
     "evalue": "",
     "output_type": "error",
     "traceback": [
      "\u001B[0;31m---------------------------------------------------------------------------\u001B[0m",
      "\u001B[0;31mKeyboardInterrupt\u001B[0m                         Traceback (most recent call last)",
      "Cell \u001B[0;32mIn[41], line 97\u001B[0m\n\u001B[1;32m     95\u001B[0m test_loader \u001B[38;5;241m=\u001B[39m DataLoader(test_dataset, batch_size\u001B[38;5;241m=\u001B[39mbatch_size)\n\u001B[1;32m     96\u001B[0m \u001B[38;5;28mprint\u001B[39m(\u001B[38;5;124m'\u001B[39m\u001B[38;5;124mTRAINING\u001B[39m\u001B[38;5;124m'\u001B[39m)\n\u001B[0;32m---> 97\u001B[0m \u001B[43mtrain_validate_model\u001B[49m\u001B[43m(\u001B[49m\u001B[43mmodel\u001B[49m\u001B[43m,\u001B[49m\u001B[43m \u001B[49m\u001B[43mtrain_loader\u001B[49m\u001B[43m,\u001B[49m\u001B[43m \u001B[49m\u001B[43mval_loader\u001B[49m\u001B[43m,\u001B[49m\u001B[43m \u001B[49m\u001B[43mcriterion\u001B[49m\u001B[43m,\u001B[49m\u001B[43m \u001B[49m\u001B[43moptimizer\u001B[49m\u001B[43m,\u001B[49m\u001B[43m \u001B[49m\u001B[43mnum_epochs\u001B[49m\u001B[43m,\u001B[49m\u001B[43m \u001B[49m\u001B[43mpatience\u001B[49m\u001B[43m,\u001B[49m\u001B[43m \u001B[49m\u001B[43mpath\u001B[49m\u001B[38;5;241;43m=\u001B[39;49m\u001B[43mpath\u001B[49m\u001B[43m)\u001B[49m\n\u001B[1;32m     99\u001B[0m model\u001B[38;5;241m.\u001B[39mload_state_dict(torch\u001B[38;5;241m.\u001B[39mload(\u001B[38;5;124mf\u001B[39m\u001B[38;5;124m'\u001B[39m\u001B[38;5;124mcheckpoint_ResNet50_2D(2).pt\u001B[39m\u001B[38;5;124m'\u001B[39m))\n\u001B[1;32m    100\u001B[0m \u001B[38;5;28mprint\u001B[39m(\u001B[38;5;124m'\u001B[39m\u001B[38;5;124mTESTING\u001B[39m\u001B[38;5;124m'\u001B[39m)\n",
      "File \u001B[0;32m~/PycharmProjects/pythonProject/utils.py:364\u001B[0m, in \u001B[0;36mtrain_validate_model\u001B[0;34m(model, train_loader, val_loader, criterion, optimizer, num_epochs, patience, path)\u001B[0m\n\u001B[1;32m    362\u001B[0m     \u001B[38;5;66;03m# Backward pass and optimization\u001B[39;00m\n\u001B[1;32m    363\u001B[0m     optimizer\u001B[38;5;241m.\u001B[39mzero_grad()\n\u001B[0;32m--> 364\u001B[0m     \u001B[43mloss\u001B[49m\u001B[38;5;241;43m.\u001B[39;49m\u001B[43mbackward\u001B[49m\u001B[43m(\u001B[49m\u001B[43m)\u001B[49m\n\u001B[1;32m    365\u001B[0m     optimizer\u001B[38;5;241m.\u001B[39mstep()\n\u001B[1;32m    367\u001B[0m \u001B[38;5;66;03m# Validation loop\u001B[39;00m\n",
      "File \u001B[0;32m~/.conda/envs/secondenv/lib/python3.9/site-packages/torch/_tensor.py:487\u001B[0m, in \u001B[0;36mTensor.backward\u001B[0;34m(self, gradient, retain_graph, create_graph, inputs)\u001B[0m\n\u001B[1;32m    477\u001B[0m \u001B[38;5;28;01mif\u001B[39;00m has_torch_function_unary(\u001B[38;5;28mself\u001B[39m):\n\u001B[1;32m    478\u001B[0m     \u001B[38;5;28;01mreturn\u001B[39;00m handle_torch_function(\n\u001B[1;32m    479\u001B[0m         Tensor\u001B[38;5;241m.\u001B[39mbackward,\n\u001B[1;32m    480\u001B[0m         (\u001B[38;5;28mself\u001B[39m,),\n\u001B[0;32m   (...)\u001B[0m\n\u001B[1;32m    485\u001B[0m         inputs\u001B[38;5;241m=\u001B[39minputs,\n\u001B[1;32m    486\u001B[0m     )\n\u001B[0;32m--> 487\u001B[0m \u001B[43mtorch\u001B[49m\u001B[38;5;241;43m.\u001B[39;49m\u001B[43mautograd\u001B[49m\u001B[38;5;241;43m.\u001B[39;49m\u001B[43mbackward\u001B[49m\u001B[43m(\u001B[49m\n\u001B[1;32m    488\u001B[0m \u001B[43m    \u001B[49m\u001B[38;5;28;43mself\u001B[39;49m\u001B[43m,\u001B[49m\u001B[43m \u001B[49m\u001B[43mgradient\u001B[49m\u001B[43m,\u001B[49m\u001B[43m \u001B[49m\u001B[43mretain_graph\u001B[49m\u001B[43m,\u001B[49m\u001B[43m \u001B[49m\u001B[43mcreate_graph\u001B[49m\u001B[43m,\u001B[49m\u001B[43m \u001B[49m\u001B[43minputs\u001B[49m\u001B[38;5;241;43m=\u001B[39;49m\u001B[43minputs\u001B[49m\n\u001B[1;32m    489\u001B[0m \u001B[43m\u001B[49m\u001B[43m)\u001B[49m\n",
      "File \u001B[0;32m~/.conda/envs/secondenv/lib/python3.9/site-packages/torch/autograd/__init__.py:200\u001B[0m, in \u001B[0;36mbackward\u001B[0;34m(tensors, grad_tensors, retain_graph, create_graph, grad_variables, inputs)\u001B[0m\n\u001B[1;32m    195\u001B[0m     retain_graph \u001B[38;5;241m=\u001B[39m create_graph\n\u001B[1;32m    197\u001B[0m \u001B[38;5;66;03m# The reason we repeat same the comment below is that\u001B[39;00m\n\u001B[1;32m    198\u001B[0m \u001B[38;5;66;03m# some Python versions print out the first line of a multi-line function\u001B[39;00m\n\u001B[1;32m    199\u001B[0m \u001B[38;5;66;03m# calls in the traceback and some print out the last line\u001B[39;00m\n\u001B[0;32m--> 200\u001B[0m \u001B[43mVariable\u001B[49m\u001B[38;5;241;43m.\u001B[39;49m\u001B[43m_execution_engine\u001B[49m\u001B[38;5;241;43m.\u001B[39;49m\u001B[43mrun_backward\u001B[49m\u001B[43m(\u001B[49m\u001B[43m  \u001B[49m\u001B[38;5;66;43;03m# Calls into the C++ engine to run the backward pass\u001B[39;49;00m\n\u001B[1;32m    201\u001B[0m \u001B[43m    \u001B[49m\u001B[43mtensors\u001B[49m\u001B[43m,\u001B[49m\u001B[43m \u001B[49m\u001B[43mgrad_tensors_\u001B[49m\u001B[43m,\u001B[49m\u001B[43m \u001B[49m\u001B[43mretain_graph\u001B[49m\u001B[43m,\u001B[49m\u001B[43m \u001B[49m\u001B[43mcreate_graph\u001B[49m\u001B[43m,\u001B[49m\u001B[43m \u001B[49m\u001B[43minputs\u001B[49m\u001B[43m,\u001B[49m\n\u001B[1;32m    202\u001B[0m \u001B[43m    \u001B[49m\u001B[43mallow_unreachable\u001B[49m\u001B[38;5;241;43m=\u001B[39;49m\u001B[38;5;28;43;01mTrue\u001B[39;49;00m\u001B[43m,\u001B[49m\u001B[43m \u001B[49m\u001B[43maccumulate_grad\u001B[49m\u001B[38;5;241;43m=\u001B[39;49m\u001B[38;5;28;43;01mTrue\u001B[39;49;00m\u001B[43m)\u001B[49m\n",
      "\u001B[0;31mKeyboardInterrupt\u001B[0m: "
     ]
    }
   ],
   "source": [
    "scores = {'acc': [], 'SD_acc': [], 'CI_acc': [], 'auc_tot': [], 'SD_auc_tot': [], 'CI_auc_tot': [], 'auc_class': [], 'SD_auc_class': [], 'CI_auc_class': [], 'Sen_mean': [], 'Sen_CI': [], 'Sen_SD': [], 'Spe_mean': [], 'Spe_CI': [], 'Spe_sd': [], 'Pre_mean': [], 'Pre_CI': [], 'Pre_sd': [], 'F1_mean': [], 'F1_CI': [], 'F1_sd': [], 'Accy_mean': [], 'Accy_CI': [], 'Accy_sd': []}\n",
    "\n",
    "num_classes = len(np.unique(y))\n",
    "sum_confusion_matrix_rf = np.zeros((num_classes, num_classes))\n",
    "\n",
    "data_loader = DataLoader2DT1GD()\n",
    "\n",
    "# Splitting into train, validation, and test sets\n",
    "unique_patients = list(new_df['Subjid'])\n",
    "\n",
    "\n",
    "# Splitting unique_patient_ids into trainval and test patient IDs\n",
    "trainval_patient_ids, test_patient_ids = train_test_split(unique_patients, test_size=0.2, random_state=0, stratify = y_patients)\n",
    "\n",
    "trainval_y = [new_df[new_df['Subjid'] == i]['Labels'].values[0] for i in trainval_patient_ids]\n",
    "\n",
    "# Perform stratified shuffle split on train indices\n",
    "#kf = KFold(n_splits=5, random_state=42, shuffle=True)\n",
    "sss = StratifiedKFold(n_splits=10, random_state=42, shuffle=True)\n",
    "#sss = StratifiedShuffleSplit(n_splits=5, test_size=0.25, random_state=42)\n",
    "for train_index, val_index in sss.split(trainval_patient_ids, trainval_y):\n",
    "    fold_acc = []\n",
    "    fold_auc_tot = []\n",
    "    fold_auc_class = []\n",
    "    sensi = []\n",
    "    speci = []\n",
    "    prec = []\n",
    "    f1 = []\n",
    "    accy = []\n",
    "    features = []\n",
    "    p_value = []\n",
    "    feat = []\n",
    "    value = []\n",
    "    ######## training #########################################################\n",
    "    train_patients = [trainval_patient_ids[i] for i in train_index]\n",
    "    training_tumors = flatten([df3[df3['subjid'] == s].index for s in train_patients])\n",
    "    X_train, y_train = data_loader[training_tumors]\n",
    "    #num_samples, channels, height, width = X_train.shape\n",
    "    #X_train_reshaped = X_train.reshape((num_samples, channels * height * width))\n",
    "    #X_train_np = np.array(X_train_reshaped)\n",
    "    #y_train_np = np.array(y_train)\n",
    "\n",
    "    # Apply SMOTE-ENN resampling\n",
    "    #sm = SMOTE(sampling_strategy='not majority')\n",
    "    #X_resampled_np, y_resampled_np = sm.fit_resample(X_train_np, y_train_np)\n",
    "\n",
    "    #X_train_resampled = X_resampled_np.reshape((X_resampled_np.shape[0],channels, height, width))\n",
    "    #X_train_resampled = torch.Tensor(X_train_resampled)\n",
    "    #y_train_resampled = y_resampled_np\n",
    "\n",
    "    ########## validation ############################################################\n",
    "    val_patients = [trainval_patient_ids[i] for i in val_index]\n",
    "    val_tumors = flatten([df3[df3['subjid'] == s].index for s in val_patients])\n",
    "    X_val, y_val = data_loader[val_tumors]\n",
    "\n",
    "    ######## test ############################################################################\n",
    "    test_tumors = flatten([df3[df3['subjid'] == s].index for s in test_patient_ids])\n",
    "    X_test, y_test = data_loader[test_tumors]\n",
    "\n",
    "    #### set class weights to account for imbalanced dataset\n",
    "    class_weights = compute_class_weight('balanced', classes=np.unique(y_train), y=y_train)\n",
    "\n",
    "    ## Rescaling\n",
    "    #rescale = RescaleIntensity((0.05, 99.5))\n",
    "    #randaffine = torchio.RandomAffine(scales=(0.9,1.2),degrees=10, isotropic=True, image_interpolation='nearest')\n",
    "    #flip = torchio.RandomFlip(axes=('LR'), p=0.5)\n",
    "    #transforms = [flip, randaffine]\n",
    "    #transform = Compose(transforms)\n",
    "\n",
    "    train_transform = T.Compose([\n",
    "        T.RandomHorizontalFlip(0.5),\n",
    "        T.RandomVerticalFlip(0.5),\n",
    "        T.RandomRotation(degrees=15)\n",
    "        ])\n",
    "\n",
    "    model = resnet50(weights = ResNet50_Weights.IMAGENET1K_V2)\n",
    "    model.conv1 = nn.Conv2d(1, 64, kernel_size=7, stride=2, padding=5, bias=False)\n",
    "    model.fc = nn.Linear(2048, 3)\n",
    "\n",
    "    criterion = nn.CrossEntropyLoss(weight=torch.FloatTensor(class_weights))\n",
    "    optimizer = optim.Adam(model.parameters(), lr=0.001)\n",
    "\n",
    "    # Convert data to TensorDataset\n",
    "    train_dataset = CustomDataset(X_train, y_train, transform = train_transform)\n",
    "    val_dataset = CustomDataset(X_val, y_val)\n",
    "    test_dataset = CustomDataset(X_test, y_test)\n",
    "\n",
    "    batch_size = 32\n",
    "    num_epochs = 30\n",
    "    patience = 2\n",
    "    path=f'checkpoint_ResNet50_2D(2).pt'\n",
    "    # Create data loaders\n",
    "    train_loader = DataLoader(train_dataset, batch_size=batch_size, shuffle=True)\n",
    "    val_loader = DataLoader(val_dataset, batch_size=batch_size)\n",
    "    test_loader = DataLoader(test_dataset, batch_size=batch_size)\n",
    "    print('TRAINING')\n",
    "    train_validate_model(model, train_loader, val_loader, criterion, optimizer, num_epochs, patience, path=path)\n",
    "\n",
    "    model.load_state_dict(torch.load(f'checkpoint_ResNet50_2D(2).pt'))\n",
    "    print('TESTING')\n",
    "    test_model(model, test_loader, criterion)\n",
    "    y_pred = test_model(model, test_loader, criterion)\n",
    "\n",
    "    accuracy = accuracy_score(y_test, y_pred)\n",
    "    num_classes = len(np.unique(y_test))\n",
    "    cm = confusion_matrix(y_test, y_pred, labels=np.unique(y_test))\n",
    "    specificity = calculate_specificity(cm)\n",
    "    sensitivity = calculate_sensitivity(cm)\n",
    "    precision = calculate_precision(cm)\n",
    "    F1 = calculate_f1_score(cm)\n",
    "    Accy = calculate_accuracy(cm)\n",
    "    sum_confusion_matrix_rf += cm\n",
    "    break\n"
   ],
   "metadata": {
    "collapsed": false,
    "ExecuteTime": {
     "start_time": "2023-07-20T19:01:54.501800Z",
     "end_time": "2023-07-20T19:05:03.089722Z"
    }
   }
  },
  {
   "cell_type": "markdown",
   "source": [
    "## EfficientNet"
   ],
   "metadata": {
    "collapsed": false
   }
  },
  {
   "cell_type": "code",
   "execution_count": 7,
   "outputs": [
    {
     "name": "stdout",
     "output_type": "stream",
     "text": [
      "Loaded pretrained weights for efficientnet-b0\n"
     ]
    }
   ],
   "source": [
    "model_name = 'efficientnet-b0'\n",
    "\n",
    "# Create the EfficientNet model\n",
    "model = EfficientNet.from_pretrained('efficientnet-b0')"
   ],
   "metadata": {
    "collapsed": false,
    "ExecuteTime": {
     "start_time": "2023-07-24T23:00:11.297854Z",
     "end_time": "2023-07-24T23:00:11.463364Z"
    }
   }
  },
  {
   "cell_type": "code",
   "execution_count": 11,
   "outputs": [
    {
     "name": "stdout",
     "output_type": "stream",
     "text": [
      "Loaded pretrained weights for efficientnet-b0\n",
      "TRAINING\n"
     ]
    },
    {
     "name": "stderr",
     "output_type": "stream",
     "text": [
      "Training Progress:   2%|▏         | 1/50 [00:19<16:14, 19.89s/it]"
     ]
    },
    {
     "name": "stdout",
     "output_type": "stream",
     "text": [
      "------------------------------------------------------------------------------------------------------------------------------------------\n",
      "Epoch [1/50]: Train Loss: 0.9392 | Val Loss: 1.0726 | Val Acc: 28.89%\n",
      "Validation loss decreased (inf --> 1.072603).  Saving model ...\n"
     ]
    },
    {
     "name": "stderr",
     "output_type": "stream",
     "text": [
      "Training Progress:   4%|▍         | 2/50 [00:30<11:36, 14.51s/it]"
     ]
    },
    {
     "name": "stdout",
     "output_type": "stream",
     "text": [
      "------------------------------------------------------------------------------------------------------------------------------------------\n",
      "Epoch [2/50]: Train Loss: 1.0025 | Val Loss: 1.1199 | Val Acc: 26.67%\n",
      "EarlyStopping counter: 1 out of 10\n"
     ]
    },
    {
     "name": "stderr",
     "output_type": "stream",
     "text": [
      "Training Progress:   6%|▌         | 3/50 [00:40<09:49, 12.54s/it]"
     ]
    },
    {
     "name": "stdout",
     "output_type": "stream",
     "text": [
      "------------------------------------------------------------------------------------------------------------------------------------------\n",
      "Epoch [3/50]: Train Loss: 0.8178 | Val Loss: 0.9033 | Val Acc: 42.22%\n",
      "Validation loss decreased (1.072603 --> 0.903288).  Saving model ...\n"
     ]
    },
    {
     "name": "stderr",
     "output_type": "stream",
     "text": [
      "Training Progress:   8%|▊         | 4/50 [00:52<09:23, 12.25s/it]"
     ]
    },
    {
     "name": "stdout",
     "output_type": "stream",
     "text": [
      "------------------------------------------------------------------------------------------------------------------------------------------\n",
      "Epoch [4/50]: Train Loss: 0.7377 | Val Loss: 0.9502 | Val Acc: 28.89%\n",
      "EarlyStopping counter: 1 out of 10\n"
     ]
    },
    {
     "name": "stderr",
     "output_type": "stream",
     "text": [
      "Training Progress:  10%|█         | 5/50 [01:08<10:15, 13.68s/it]"
     ]
    },
    {
     "name": "stdout",
     "output_type": "stream",
     "text": [
      "------------------------------------------------------------------------------------------------------------------------------------------\n",
      "Epoch [5/50]: Train Loss: 0.4751 | Val Loss: 0.9843 | Val Acc: 35.56%\n",
      "EarlyStopping counter: 2 out of 10\n"
     ]
    },
    {
     "name": "stderr",
     "output_type": "stream",
     "text": [
      "Training Progress:  12%|█▏        | 6/50 [01:25<10:41, 14.59s/it]"
     ]
    },
    {
     "name": "stdout",
     "output_type": "stream",
     "text": [
      "------------------------------------------------------------------------------------------------------------------------------------------\n",
      "Epoch [6/50]: Train Loss: 0.7336 | Val Loss: 1.1915 | Val Acc: 51.11%\n",
      "EarlyStopping counter: 3 out of 10\n"
     ]
    },
    {
     "name": "stderr",
     "output_type": "stream",
     "text": [
      "Training Progress:  14%|█▍        | 7/50 [01:37<09:49, 13.71s/it]"
     ]
    },
    {
     "name": "stdout",
     "output_type": "stream",
     "text": [
      "------------------------------------------------------------------------------------------------------------------------------------------\n",
      "Epoch [7/50]: Train Loss: 0.3742 | Val Loss: 1.8133 | Val Acc: 60.00%\n",
      "EarlyStopping counter: 4 out of 10\n"
     ]
    },
    {
     "name": "stderr",
     "output_type": "stream",
     "text": [
      "Training Progress:  16%|█▌        | 8/50 [01:46<08:40, 12.39s/it]"
     ]
    },
    {
     "name": "stdout",
     "output_type": "stream",
     "text": [
      "------------------------------------------------------------------------------------------------------------------------------------------\n",
      "Epoch [8/50]: Train Loss: 0.5226 | Val Loss: 2.1227 | Val Acc: 55.56%\n",
      "EarlyStopping counter: 5 out of 10\n"
     ]
    },
    {
     "name": "stderr",
     "output_type": "stream",
     "text": [
      "Training Progress:  18%|█▊        | 9/50 [01:56<07:53, 11.55s/it]"
     ]
    },
    {
     "name": "stdout",
     "output_type": "stream",
     "text": [
      "------------------------------------------------------------------------------------------------------------------------------------------\n",
      "Epoch [9/50]: Train Loss: 0.5185 | Val Loss: 1.9966 | Val Acc: 48.89%\n",
      "EarlyStopping counter: 6 out of 10\n"
     ]
    },
    {
     "name": "stderr",
     "output_type": "stream",
     "text": [
      "Training Progress:  20%|██        | 10/50 [02:07<07:32, 11.31s/it]"
     ]
    },
    {
     "name": "stdout",
     "output_type": "stream",
     "text": [
      "------------------------------------------------------------------------------------------------------------------------------------------\n",
      "Epoch [10/50]: Train Loss: 0.4307 | Val Loss: 2.3769 | Val Acc: 51.11%\n",
      "EarlyStopping counter: 7 out of 10\n"
     ]
    },
    {
     "name": "stderr",
     "output_type": "stream",
     "text": [
      "Training Progress:  22%|██▏       | 11/50 [02:20<07:41, 11.84s/it]"
     ]
    },
    {
     "name": "stdout",
     "output_type": "stream",
     "text": [
      "------------------------------------------------------------------------------------------------------------------------------------------\n",
      "Epoch [11/50]: Train Loss: 0.2743 | Val Loss: 1.9315 | Val Acc: 60.00%\n",
      "EarlyStopping counter: 8 out of 10\n"
     ]
    },
    {
     "name": "stderr",
     "output_type": "stream",
     "text": [
      "Training Progress:  24%|██▍       | 12/50 [02:38<08:40, 13.68s/it]"
     ]
    },
    {
     "name": "stdout",
     "output_type": "stream",
     "text": [
      "------------------------------------------------------------------------------------------------------------------------------------------\n",
      "Epoch [12/50]: Train Loss: 0.4674 | Val Loss: 2.1531 | Val Acc: 57.78%\n",
      "EarlyStopping counter: 9 out of 10\n"
     ]
    },
    {
     "name": "stderr",
     "output_type": "stream",
     "text": [
      "Training Progress:  24%|██▍       | 12/50 [02:49<08:57, 14.16s/it]"
     ]
    },
    {
     "name": "stdout",
     "output_type": "stream",
     "text": [
      "------------------------------------------------------------------------------------------------------------------------------------------\n",
      "Epoch [13/50]: Train Loss: 0.3648 | Val Loss: 1.6266 | Val Acc: 35.56%\n",
      "EarlyStopping counter: 10 out of 10\n",
      "Early stopping\n"
     ]
    },
    {
     "name": "stderr",
     "output_type": "stream",
     "text": [
      "\n"
     ]
    },
    {
     "name": "stdout",
     "output_type": "stream",
     "text": [
      "Test Loss: 0.984067\n",
      "\n",
      "Test Accuracy of     0: 60% ( 3/ 5)\n",
      "Test Accuracy of     1: 63% (46/73)\n",
      "Test Accuracy of     2: 46% ( 6/13)\n",
      "\n",
      "Test Accuracy (Overall): 60% (55/91)\n",
      "[[ 3  2  0]\n",
      " [12 46 15]\n",
      " [ 2  5  6]]\n",
      "Loaded pretrained weights for efficientnet-b0\n",
      "TRAINING\n"
     ]
    },
    {
     "name": "stderr",
     "output_type": "stream",
     "text": [
      "Training Progress:   2%|▏         | 1/50 [00:13<11:19, 13.87s/it]"
     ]
    },
    {
     "name": "stdout",
     "output_type": "stream",
     "text": [
      "------------------------------------------------------------------------------------------------------------------------------------------\n",
      "Epoch [1/50]: Train Loss: 1.2136 | Val Loss: 1.1450 | Val Acc: 48.39%\n",
      "Validation loss decreased (inf --> 1.144972).  Saving model ...\n"
     ]
    },
    {
     "name": "stderr",
     "output_type": "stream",
     "text": [
      "Training Progress:   4%|▍         | 2/50 [00:29<11:47, 14.74s/it]"
     ]
    },
    {
     "name": "stdout",
     "output_type": "stream",
     "text": [
      "------------------------------------------------------------------------------------------------------------------------------------------\n",
      "Epoch [2/50]: Train Loss: 0.7182 | Val Loss: 1.2116 | Val Acc: 48.39%\n",
      "EarlyStopping counter: 1 out of 10\n"
     ]
    },
    {
     "name": "stderr",
     "output_type": "stream",
     "text": [
      "Training Progress:   6%|▌         | 3/50 [00:41<10:31, 13.43s/it]"
     ]
    },
    {
     "name": "stdout",
     "output_type": "stream",
     "text": [
      "------------------------------------------------------------------------------------------------------------------------------------------\n",
      "Epoch [3/50]: Train Loss: 0.5457 | Val Loss: 1.4173 | Val Acc: 45.16%\n",
      "EarlyStopping counter: 2 out of 10\n"
     ]
    },
    {
     "name": "stderr",
     "output_type": "stream",
     "text": [
      "Training Progress:   8%|▊         | 4/50 [00:53<10:01, 13.07s/it]"
     ]
    },
    {
     "name": "stdout",
     "output_type": "stream",
     "text": [
      "------------------------------------------------------------------------------------------------------------------------------------------\n",
      "Epoch [4/50]: Train Loss: 0.4215 | Val Loss: 1.8629 | Val Acc: 58.06%\n",
      "EarlyStopping counter: 3 out of 10\n"
     ]
    },
    {
     "name": "stderr",
     "output_type": "stream",
     "text": [
      "Training Progress:  10%|█         | 5/50 [01:06<09:51, 13.13s/it]"
     ]
    },
    {
     "name": "stdout",
     "output_type": "stream",
     "text": [
      "------------------------------------------------------------------------------------------------------------------------------------------\n",
      "Epoch [5/50]: Train Loss: 0.3997 | Val Loss: 2.6618 | Val Acc: 54.84%\n",
      "EarlyStopping counter: 4 out of 10\n"
     ]
    },
    {
     "name": "stderr",
     "output_type": "stream",
     "text": [
      "Training Progress:  12%|█▏        | 6/50 [01:19<09:23, 12.81s/it]"
     ]
    },
    {
     "name": "stdout",
     "output_type": "stream",
     "text": [
      "------------------------------------------------------------------------------------------------------------------------------------------\n",
      "Epoch [6/50]: Train Loss: 0.3595 | Val Loss: 2.4492 | Val Acc: 58.06%\n",
      "EarlyStopping counter: 5 out of 10\n"
     ]
    },
    {
     "name": "stderr",
     "output_type": "stream",
     "text": [
      "Training Progress:  14%|█▍        | 7/50 [01:32<09:25, 13.16s/it]"
     ]
    },
    {
     "name": "stdout",
     "output_type": "stream",
     "text": [
      "------------------------------------------------------------------------------------------------------------------------------------------\n",
      "Epoch [7/50]: Train Loss: 0.2162 | Val Loss: 2.4543 | Val Acc: 48.39%\n",
      "EarlyStopping counter: 6 out of 10\n"
     ]
    },
    {
     "name": "stderr",
     "output_type": "stream",
     "text": [
      "Training Progress:  16%|█▌        | 8/50 [01:46<09:18, 13.29s/it]"
     ]
    },
    {
     "name": "stdout",
     "output_type": "stream",
     "text": [
      "------------------------------------------------------------------------------------------------------------------------------------------\n",
      "Epoch [8/50]: Train Loss: 0.2809 | Val Loss: 1.7967 | Val Acc: 48.39%\n",
      "EarlyStopping counter: 7 out of 10\n"
     ]
    },
    {
     "name": "stderr",
     "output_type": "stream",
     "text": [
      "Training Progress:  18%|█▊        | 9/50 [02:00<09:09, 13.40s/it]"
     ]
    },
    {
     "name": "stdout",
     "output_type": "stream",
     "text": [
      "------------------------------------------------------------------------------------------------------------------------------------------\n",
      "Epoch [9/50]: Train Loss: 0.2455 | Val Loss: 4.1015 | Val Acc: 51.61%\n",
      "EarlyStopping counter: 8 out of 10\n"
     ]
    },
    {
     "name": "stderr",
     "output_type": "stream",
     "text": [
      "Training Progress:  20%|██        | 10/50 [02:13<08:50, 13.26s/it]"
     ]
    },
    {
     "name": "stdout",
     "output_type": "stream",
     "text": [
      "------------------------------------------------------------------------------------------------------------------------------------------\n",
      "Epoch [10/50]: Train Loss: 0.1367 | Val Loss: 3.9185 | Val Acc: 48.39%\n",
      "EarlyStopping counter: 9 out of 10\n"
     ]
    },
    {
     "name": "stderr",
     "output_type": "stream",
     "text": [
      "Training Progress:  20%|██        | 10/50 [02:27<09:48, 14.72s/it]"
     ]
    },
    {
     "name": "stdout",
     "output_type": "stream",
     "text": [
      "------------------------------------------------------------------------------------------------------------------------------------------\n",
      "Epoch [11/50]: Train Loss: 0.2349 | Val Loss: 4.9632 | Val Acc: 51.61%\n",
      "EarlyStopping counter: 10 out of 10\n",
      "Early stopping\n"
     ]
    },
    {
     "name": "stderr",
     "output_type": "stream",
     "text": [
      "\n"
     ]
    },
    {
     "name": "stdout",
     "output_type": "stream",
     "text": [
      "Test Loss: 1.008885\n",
      "\n",
      "Test Accuracy of     0: 100% ( 5/ 5)\n",
      "Test Accuracy of     1: 56% (41/73)\n",
      "Test Accuracy of     2:  0% ( 0/13)\n",
      "\n",
      "Test Accuracy (Overall): 50% (46/91)\n",
      "[[ 5  0  0]\n",
      " [28 41  4]\n",
      " [ 3 10  0]]\n"
     ]
    },
    {
     "name": "stderr",
     "output_type": "stream",
     "text": [
      "/home/amillanruiz/PycharmProjects/pythonProject/utils.py:109: RuntimeWarning: invalid value encountered in scalar divide\n",
      "  f1_scores[i] = 2 * ((precision * recall) / (precision + recall)) * 100\n"
     ]
    },
    {
     "name": "stdout",
     "output_type": "stream",
     "text": [
      "Loaded pretrained weights for efficientnet-b0\n",
      "TRAINING\n"
     ]
    },
    {
     "name": "stderr",
     "output_type": "stream",
     "text": [
      "Training Progress:   2%|▏         | 1/50 [00:13<10:51, 13.30s/it]"
     ]
    },
    {
     "name": "stdout",
     "output_type": "stream",
     "text": [
      "------------------------------------------------------------------------------------------------------------------------------------------\n",
      "Epoch [1/50]: Train Loss: 0.8158 | Val Loss: 1.2439 | Val Acc: 16.00%\n",
      "Validation loss decreased (inf --> 1.243908).  Saving model ...\n"
     ]
    },
    {
     "name": "stderr",
     "output_type": "stream",
     "text": [
      "Training Progress:   4%|▍         | 2/50 [00:26<10:35, 13.24s/it]"
     ]
    },
    {
     "name": "stdout",
     "output_type": "stream",
     "text": [
      "------------------------------------------------------------------------------------------------------------------------------------------\n",
      "Epoch [2/50]: Train Loss: 0.5781 | Val Loss: 1.1584 | Val Acc: 28.00%\n",
      "Validation loss decreased (1.243908 --> 1.158354).  Saving model ...\n"
     ]
    },
    {
     "name": "stderr",
     "output_type": "stream",
     "text": [
      "Training Progress:   6%|▌         | 3/50 [00:38<10:05, 12.88s/it]"
     ]
    },
    {
     "name": "stdout",
     "output_type": "stream",
     "text": [
      "------------------------------------------------------------------------------------------------------------------------------------------\n",
      "Epoch [3/50]: Train Loss: 0.5105 | Val Loss: 1.1181 | Val Acc: 12.00%\n",
      "Validation loss decreased (1.158354 --> 1.118086).  Saving model ...\n"
     ]
    },
    {
     "name": "stderr",
     "output_type": "stream",
     "text": [
      "Training Progress:   8%|▊         | 4/50 [00:50<09:25, 12.30s/it]"
     ]
    },
    {
     "name": "stdout",
     "output_type": "stream",
     "text": [
      "------------------------------------------------------------------------------------------------------------------------------------------\n",
      "Epoch [4/50]: Train Loss: 0.3026 | Val Loss: 1.3314 | Val Acc: 24.00%\n",
      "EarlyStopping counter: 1 out of 10\n"
     ]
    },
    {
     "name": "stderr",
     "output_type": "stream",
     "text": [
      "Training Progress:  10%|█         | 5/50 [01:04<09:47, 13.06s/it]"
     ]
    },
    {
     "name": "stdout",
     "output_type": "stream",
     "text": [
      "------------------------------------------------------------------------------------------------------------------------------------------\n",
      "Epoch [5/50]: Train Loss: 0.0888 | Val Loss: 0.8521 | Val Acc: 52.00%\n",
      "Validation loss decreased (1.118086 --> 0.852122).  Saving model ...\n"
     ]
    },
    {
     "name": "stderr",
     "output_type": "stream",
     "text": [
      "Training Progress:  12%|█▏        | 6/50 [01:17<09:35, 13.08s/it]"
     ]
    },
    {
     "name": "stdout",
     "output_type": "stream",
     "text": [
      "------------------------------------------------------------------------------------------------------------------------------------------\n",
      "Epoch [6/50]: Train Loss: 0.0684 | Val Loss: 0.7562 | Val Acc: 60.00%\n",
      "Validation loss decreased (0.852122 --> 0.756156).  Saving model ...\n"
     ]
    },
    {
     "name": "stderr",
     "output_type": "stream",
     "text": [
      "Training Progress:  14%|█▍        | 7/50 [01:31<09:23, 13.11s/it]"
     ]
    },
    {
     "name": "stdout",
     "output_type": "stream",
     "text": [
      "------------------------------------------------------------------------------------------------------------------------------------------\n",
      "Epoch [7/50]: Train Loss: 0.0492 | Val Loss: 1.1699 | Val Acc: 48.00%\n",
      "EarlyStopping counter: 1 out of 10\n"
     ]
    },
    {
     "name": "stderr",
     "output_type": "stream",
     "text": [
      "Training Progress:  16%|█▌        | 8/50 [01:42<08:47, 12.55s/it]"
     ]
    },
    {
     "name": "stdout",
     "output_type": "stream",
     "text": [
      "------------------------------------------------------------------------------------------------------------------------------------------\n",
      "Epoch [8/50]: Train Loss: 0.0360 | Val Loss: 1.3225 | Val Acc: 52.00%\n",
      "EarlyStopping counter: 2 out of 10\n"
     ]
    },
    {
     "name": "stderr",
     "output_type": "stream",
     "text": [
      "Training Progress:  18%|█▊        | 9/50 [01:54<08:33, 12.52s/it]"
     ]
    },
    {
     "name": "stdout",
     "output_type": "stream",
     "text": [
      "------------------------------------------------------------------------------------------------------------------------------------------\n",
      "Epoch [9/50]: Train Loss: 0.0108 | Val Loss: 2.5310 | Val Acc: 64.00%\n",
      "EarlyStopping counter: 3 out of 10\n"
     ]
    },
    {
     "name": "stderr",
     "output_type": "stream",
     "text": [
      "Training Progress:  20%|██        | 10/50 [02:04<07:48, 11.71s/it]"
     ]
    },
    {
     "name": "stdout",
     "output_type": "stream",
     "text": [
      "------------------------------------------------------------------------------------------------------------------------------------------\n",
      "Epoch [10/50]: Train Loss: 0.0128 | Val Loss: 2.4528 | Val Acc: 44.00%\n",
      "EarlyStopping counter: 4 out of 10\n"
     ]
    },
    {
     "name": "stderr",
     "output_type": "stream",
     "text": [
      "Training Progress:  22%|██▏       | 11/50 [02:15<07:29, 11.53s/it]"
     ]
    },
    {
     "name": "stdout",
     "output_type": "stream",
     "text": [
      "------------------------------------------------------------------------------------------------------------------------------------------\n",
      "Epoch [11/50]: Train Loss: 0.0165 | Val Loss: 1.9034 | Val Acc: 64.00%\n",
      "EarlyStopping counter: 5 out of 10\n"
     ]
    },
    {
     "name": "stderr",
     "output_type": "stream",
     "text": [
      "Training Progress:  24%|██▍       | 12/50 [02:26<07:08, 11.29s/it]"
     ]
    },
    {
     "name": "stdout",
     "output_type": "stream",
     "text": [
      "------------------------------------------------------------------------------------------------------------------------------------------\n",
      "Epoch [12/50]: Train Loss: 0.0064 | Val Loss: 1.8042 | Val Acc: 68.00%\n",
      "EarlyStopping counter: 6 out of 10\n"
     ]
    },
    {
     "name": "stderr",
     "output_type": "stream",
     "text": [
      "Training Progress:  26%|██▌       | 13/50 [02:36<06:45, 10.96s/it]"
     ]
    },
    {
     "name": "stdout",
     "output_type": "stream",
     "text": [
      "------------------------------------------------------------------------------------------------------------------------------------------\n",
      "Epoch [13/50]: Train Loss: 0.0139 | Val Loss: 2.2729 | Val Acc: 60.00%\n",
      "EarlyStopping counter: 7 out of 10\n"
     ]
    },
    {
     "name": "stderr",
     "output_type": "stream",
     "text": [
      "Training Progress:  28%|██▊       | 14/50 [02:48<06:44, 11.24s/it]"
     ]
    },
    {
     "name": "stdout",
     "output_type": "stream",
     "text": [
      "------------------------------------------------------------------------------------------------------------------------------------------\n",
      "Epoch [14/50]: Train Loss: 0.0036 | Val Loss: 1.5624 | Val Acc: 64.00%\n",
      "EarlyStopping counter: 8 out of 10\n"
     ]
    },
    {
     "name": "stderr",
     "output_type": "stream",
     "text": [
      "Training Progress:  30%|███       | 15/50 [03:00<06:37, 11.36s/it]"
     ]
    },
    {
     "name": "stdout",
     "output_type": "stream",
     "text": [
      "------------------------------------------------------------------------------------------------------------------------------------------\n",
      "Epoch [15/50]: Train Loss: 0.0023 | Val Loss: 1.6652 | Val Acc: 60.00%\n",
      "EarlyStopping counter: 9 out of 10\n"
     ]
    },
    {
     "name": "stderr",
     "output_type": "stream",
     "text": [
      "Training Progress:  30%|███       | 15/50 [03:10<07:25, 12.72s/it]"
     ]
    },
    {
     "name": "stdout",
     "output_type": "stream",
     "text": [
      "------------------------------------------------------------------------------------------------------------------------------------------\n",
      "Epoch [16/50]: Train Loss: 0.0068 | Val Loss: 1.4598 | Val Acc: 32.00%\n",
      "EarlyStopping counter: 10 out of 10\n",
      "Early stopping\n"
     ]
    },
    {
     "name": "stderr",
     "output_type": "stream",
     "text": [
      "\n"
     ]
    },
    {
     "name": "stdout",
     "output_type": "stream",
     "text": [
      "Test Loss: 1.270353\n",
      "\n",
      "Test Accuracy of     0: 20% ( 1/ 5)\n",
      "Test Accuracy of     1: 68% (50/73)\n",
      "Test Accuracy of     2:  7% ( 1/13)\n",
      "\n",
      "Test Accuracy (Overall): 57% (52/91)\n",
      "[[ 1  4  0]\n",
      " [13 50 10]\n",
      " [ 3  9  1]]\n",
      "Loaded pretrained weights for efficientnet-b0\n",
      "TRAINING\n"
     ]
    },
    {
     "name": "stderr",
     "output_type": "stream",
     "text": [
      "Training Progress:   2%|▏         | 1/50 [00:10<08:23, 10.27s/it]"
     ]
    },
    {
     "name": "stdout",
     "output_type": "stream",
     "text": [
      "------------------------------------------------------------------------------------------------------------------------------------------\n",
      "Epoch [1/50]: Train Loss: 0.9612 | Val Loss: 1.2629 | Val Acc: 23.68%\n",
      "Validation loss decreased (inf --> 1.262860).  Saving model ...\n"
     ]
    },
    {
     "name": "stderr",
     "output_type": "stream",
     "text": [
      "Training Progress:   4%|▍         | 2/50 [00:21<08:47, 10.99s/it]"
     ]
    },
    {
     "name": "stdout",
     "output_type": "stream",
     "text": [
      "------------------------------------------------------------------------------------------------------------------------------------------\n",
      "Epoch [2/50]: Train Loss: 0.8843 | Val Loss: 1.3853 | Val Acc: 15.79%\n",
      "EarlyStopping counter: 1 out of 10\n"
     ]
    },
    {
     "name": "stderr",
     "output_type": "stream",
     "text": [
      "Training Progress:   6%|▌         | 3/50 [00:31<08:06, 10.35s/it]"
     ]
    },
    {
     "name": "stdout",
     "output_type": "stream",
     "text": [
      "------------------------------------------------------------------------------------------------------------------------------------------\n",
      "Epoch [3/50]: Train Loss: 0.7384 | Val Loss: 1.3306 | Val Acc: 10.53%\n",
      "EarlyStopping counter: 2 out of 10\n"
     ]
    },
    {
     "name": "stderr",
     "output_type": "stream",
     "text": [
      "Training Progress:   8%|▊         | 4/50 [00:40<07:42, 10.06s/it]"
     ]
    },
    {
     "name": "stdout",
     "output_type": "stream",
     "text": [
      "------------------------------------------------------------------------------------------------------------------------------------------\n",
      "Epoch [4/50]: Train Loss: 0.6808 | Val Loss: 1.7524 | Val Acc: 13.16%\n",
      "EarlyStopping counter: 3 out of 10\n"
     ]
    },
    {
     "name": "stderr",
     "output_type": "stream",
     "text": [
      "Training Progress:  10%|█         | 5/50 [00:51<07:37, 10.17s/it]"
     ]
    },
    {
     "name": "stdout",
     "output_type": "stream",
     "text": [
      "------------------------------------------------------------------------------------------------------------------------------------------\n",
      "Epoch [5/50]: Train Loss: 0.5869 | Val Loss: 2.5981 | Val Acc: 21.05%\n",
      "EarlyStopping counter: 4 out of 10\n"
     ]
    },
    {
     "name": "stderr",
     "output_type": "stream",
     "text": [
      "Training Progress:  12%|█▏        | 6/50 [01:00<07:19,  9.99s/it]"
     ]
    },
    {
     "name": "stdout",
     "output_type": "stream",
     "text": [
      "------------------------------------------------------------------------------------------------------------------------------------------\n",
      "Epoch [6/50]: Train Loss: 0.5146 | Val Loss: 2.2377 | Val Acc: 28.95%\n",
      "EarlyStopping counter: 5 out of 10\n"
     ]
    },
    {
     "name": "stderr",
     "output_type": "stream",
     "text": [
      "Training Progress:  14%|█▍        | 7/50 [01:11<07:12, 10.07s/it]"
     ]
    },
    {
     "name": "stdout",
     "output_type": "stream",
     "text": [
      "------------------------------------------------------------------------------------------------------------------------------------------\n",
      "Epoch [7/50]: Train Loss: 0.4067 | Val Loss: 1.9701 | Val Acc: 36.84%\n",
      "EarlyStopping counter: 6 out of 10\n"
     ]
    },
    {
     "name": "stderr",
     "output_type": "stream",
     "text": [
      "Training Progress:  16%|█▌        | 8/50 [01:23<07:30, 10.73s/it]"
     ]
    },
    {
     "name": "stdout",
     "output_type": "stream",
     "text": [
      "------------------------------------------------------------------------------------------------------------------------------------------\n",
      "Epoch [8/50]: Train Loss: 0.4923 | Val Loss: 1.8309 | Val Acc: 36.84%\n",
      "EarlyStopping counter: 7 out of 10\n"
     ]
    },
    {
     "name": "stderr",
     "output_type": "stream",
     "text": [
      "Training Progress:  18%|█▊        | 9/50 [01:37<08:00, 11.71s/it]"
     ]
    },
    {
     "name": "stdout",
     "output_type": "stream",
     "text": [
      "------------------------------------------------------------------------------------------------------------------------------------------\n",
      "Epoch [9/50]: Train Loss: 0.5325 | Val Loss: 1.5063 | Val Acc: 28.95%\n",
      "EarlyStopping counter: 8 out of 10\n"
     ]
    },
    {
     "name": "stderr",
     "output_type": "stream",
     "text": [
      "Training Progress:  20%|██        | 10/50 [01:48<07:48, 11.72s/it]"
     ]
    },
    {
     "name": "stdout",
     "output_type": "stream",
     "text": [
      "------------------------------------------------------------------------------------------------------------------------------------------\n",
      "Epoch [10/50]: Train Loss: 0.3738 | Val Loss: 1.6861 | Val Acc: 21.05%\n",
      "EarlyStopping counter: 9 out of 10\n"
     ]
    },
    {
     "name": "stderr",
     "output_type": "stream",
     "text": [
      "Training Progress:  20%|██        | 10/50 [02:00<08:03, 12.08s/it]"
     ]
    },
    {
     "name": "stdout",
     "output_type": "stream",
     "text": [
      "------------------------------------------------------------------------------------------------------------------------------------------\n",
      "Epoch [11/50]: Train Loss: 0.3189 | Val Loss: 1.7514 | Val Acc: 21.05%\n",
      "EarlyStopping counter: 10 out of 10\n",
      "Early stopping\n"
     ]
    },
    {
     "name": "stderr",
     "output_type": "stream",
     "text": [
      "\n"
     ]
    },
    {
     "name": "stdout",
     "output_type": "stream",
     "text": [
      "Test Loss: 0.966083\n",
      "\n",
      "Test Accuracy of     0: 40% ( 2/ 5)\n",
      "Test Accuracy of     1: 15% (11/73)\n",
      "Test Accuracy of     2: 100% (13/13)\n",
      "\n",
      "Test Accuracy (Overall): 28% (26/91)\n",
      "[[ 2  1  2]\n",
      " [ 2 11 60]\n",
      " [ 0  0 13]]\n",
      "Loaded pretrained weights for efficientnet-b0\n",
      "TRAINING\n"
     ]
    },
    {
     "name": "stderr",
     "output_type": "stream",
     "text": [
      "Training Progress:   2%|▏         | 1/50 [00:23<18:54, 23.16s/it]"
     ]
    },
    {
     "name": "stdout",
     "output_type": "stream",
     "text": [
      "------------------------------------------------------------------------------------------------------------------------------------------\n",
      "Epoch [1/50]: Train Loss: 0.8526 | Val Loss: 1.0493 | Val Acc: 39.62%\n",
      "Validation loss decreased (inf --> 1.049266).  Saving model ...\n"
     ]
    },
    {
     "name": "stderr",
     "output_type": "stream",
     "text": [
      "Training Progress:   4%|▍         | 2/50 [00:34<13:06, 16.39s/it]"
     ]
    },
    {
     "name": "stdout",
     "output_type": "stream",
     "text": [
      "------------------------------------------------------------------------------------------------------------------------------------------\n",
      "Epoch [2/50]: Train Loss: 0.7025 | Val Loss: 1.2201 | Val Acc: 52.83%\n",
      "EarlyStopping counter: 1 out of 10\n"
     ]
    },
    {
     "name": "stderr",
     "output_type": "stream",
     "text": [
      "Training Progress:   6%|▌         | 3/50 [00:45<10:54, 13.93s/it]"
     ]
    },
    {
     "name": "stdout",
     "output_type": "stream",
     "text": [
      "------------------------------------------------------------------------------------------------------------------------------------------\n",
      "Epoch [3/50]: Train Loss: 0.6653 | Val Loss: 1.5643 | Val Acc: 50.94%\n",
      "EarlyStopping counter: 2 out of 10\n"
     ]
    },
    {
     "name": "stderr",
     "output_type": "stream",
     "text": [
      "Training Progress:   8%|▊         | 4/50 [00:54<09:12, 12.02s/it]"
     ]
    },
    {
     "name": "stdout",
     "output_type": "stream",
     "text": [
      "------------------------------------------------------------------------------------------------------------------------------------------\n",
      "Epoch [4/50]: Train Loss: 0.5587 | Val Loss: 2.1282 | Val Acc: 54.72%\n",
      "EarlyStopping counter: 3 out of 10\n"
     ]
    },
    {
     "name": "stderr",
     "output_type": "stream",
     "text": [
      "Training Progress:  10%|█         | 5/50 [01:03<08:12, 10.95s/it]"
     ]
    },
    {
     "name": "stdout",
     "output_type": "stream",
     "text": [
      "------------------------------------------------------------------------------------------------------------------------------------------\n",
      "Epoch [5/50]: Train Loss: 0.7711 | Val Loss: 1.9218 | Val Acc: 43.40%\n",
      "EarlyStopping counter: 4 out of 10\n"
     ]
    },
    {
     "name": "stderr",
     "output_type": "stream",
     "text": [
      "Training Progress:  12%|█▏        | 6/50 [01:15<08:10, 11.15s/it]"
     ]
    },
    {
     "name": "stdout",
     "output_type": "stream",
     "text": [
      "------------------------------------------------------------------------------------------------------------------------------------------\n",
      "Epoch [6/50]: Train Loss: 0.5005 | Val Loss: 2.0706 | Val Acc: 45.28%\n",
      "EarlyStopping counter: 5 out of 10\n"
     ]
    },
    {
     "name": "stderr",
     "output_type": "stream",
     "text": [
      "Training Progress:  14%|█▍        | 7/50 [01:30<08:58, 12.53s/it]"
     ]
    },
    {
     "name": "stdout",
     "output_type": "stream",
     "text": [
      "------------------------------------------------------------------------------------------------------------------------------------------\n",
      "Epoch [7/50]: Train Loss: 0.7106 | Val Loss: 2.9636 | Val Acc: 54.72%\n",
      "EarlyStopping counter: 6 out of 10\n"
     ]
    },
    {
     "name": "stderr",
     "output_type": "stream",
     "text": [
      "Training Progress:  16%|█▌        | 8/50 [01:47<09:46, 13.97s/it]"
     ]
    },
    {
     "name": "stdout",
     "output_type": "stream",
     "text": [
      "------------------------------------------------------------------------------------------------------------------------------------------\n",
      "Epoch [8/50]: Train Loss: 0.2369 | Val Loss: 2.3816 | Val Acc: 54.72%\n",
      "EarlyStopping counter: 7 out of 10\n"
     ]
    },
    {
     "name": "stderr",
     "output_type": "stream",
     "text": [
      "Training Progress:  18%|█▊        | 9/50 [01:58<08:49, 12.91s/it]"
     ]
    },
    {
     "name": "stdout",
     "output_type": "stream",
     "text": [
      "------------------------------------------------------------------------------------------------------------------------------------------\n",
      "Epoch [9/50]: Train Loss: 0.2178 | Val Loss: 2.3726 | Val Acc: 52.83%\n",
      "EarlyStopping counter: 8 out of 10\n"
     ]
    },
    {
     "name": "stderr",
     "output_type": "stream",
     "text": [
      "Training Progress:  20%|██        | 10/50 [02:08<07:56, 11.92s/it]"
     ]
    },
    {
     "name": "stdout",
     "output_type": "stream",
     "text": [
      "------------------------------------------------------------------------------------------------------------------------------------------\n",
      "Epoch [10/50]: Train Loss: 0.3666 | Val Loss: 3.3412 | Val Acc: 52.83%\n",
      "EarlyStopping counter: 9 out of 10\n"
     ]
    },
    {
     "name": "stderr",
     "output_type": "stream",
     "text": [
      "Training Progress:  20%|██        | 10/50 [02:17<09:10, 13.76s/it]"
     ]
    },
    {
     "name": "stdout",
     "output_type": "stream",
     "text": [
      "------------------------------------------------------------------------------------------------------------------------------------------\n",
      "Epoch [11/50]: Train Loss: 0.1038 | Val Loss: 2.3113 | Val Acc: 50.94%\n",
      "EarlyStopping counter: 10 out of 10\n",
      "Early stopping\n"
     ]
    },
    {
     "name": "stderr",
     "output_type": "stream",
     "text": [
      "\n"
     ]
    },
    {
     "name": "stdout",
     "output_type": "stream",
     "text": [
      "Test Loss: 1.075527\n",
      "\n",
      "Test Accuracy of     0: 100% ( 5/ 5)\n",
      "Test Accuracy of     1: 24% (18/73)\n",
      "Test Accuracy of     2: 23% ( 3/13)\n",
      "\n",
      "Test Accuracy (Overall): 28% (26/91)\n",
      "[[ 5  0  0]\n",
      " [48 18  7]\n",
      " [ 8  2  3]]\n",
      "Loaded pretrained weights for efficientnet-b0\n",
      "TRAINING\n"
     ]
    },
    {
     "name": "stderr",
     "output_type": "stream",
     "text": [
      "Training Progress:   2%|▏         | 1/50 [00:11<09:18, 11.40s/it]"
     ]
    },
    {
     "name": "stdout",
     "output_type": "stream",
     "text": [
      "------------------------------------------------------------------------------------------------------------------------------------------\n",
      "Epoch [1/50]: Train Loss: 1.1428 | Val Loss: 0.9761 | Val Acc: 37.04%\n",
      "Validation loss decreased (inf --> 0.976074).  Saving model ...\n"
     ]
    },
    {
     "name": "stderr",
     "output_type": "stream",
     "text": [
      "Training Progress:   4%|▍         | 2/50 [00:36<15:21, 19.19s/it]"
     ]
    },
    {
     "name": "stdout",
     "output_type": "stream",
     "text": [
      "------------------------------------------------------------------------------------------------------------------------------------------\n",
      "Epoch [2/50]: Train Loss: 0.8869 | Val Loss: 1.0445 | Val Acc: 29.63%\n",
      "EarlyStopping counter: 1 out of 10\n"
     ]
    },
    {
     "name": "stderr",
     "output_type": "stream",
     "text": [
      "Training Progress:   6%|▌         | 3/50 [00:48<12:44, 16.27s/it]"
     ]
    },
    {
     "name": "stdout",
     "output_type": "stream",
     "text": [
      "------------------------------------------------------------------------------------------------------------------------------------------\n",
      "Epoch [3/50]: Train Loss: 0.7827 | Val Loss: 1.2573 | Val Acc: 14.81%\n",
      "EarlyStopping counter: 2 out of 10\n"
     ]
    },
    {
     "name": "stderr",
     "output_type": "stream",
     "text": [
      "Training Progress:   8%|▊         | 4/50 [01:01<11:18, 14.76s/it]"
     ]
    },
    {
     "name": "stdout",
     "output_type": "stream",
     "text": [
      "------------------------------------------------------------------------------------------------------------------------------------------\n",
      "Epoch [4/50]: Train Loss: 0.5671 | Val Loss: 1.4032 | Val Acc: 18.52%\n",
      "EarlyStopping counter: 3 out of 10\n"
     ]
    },
    {
     "name": "stderr",
     "output_type": "stream",
     "text": [
      "Training Progress:  10%|█         | 5/50 [01:11<09:49, 13.10s/it]"
     ]
    },
    {
     "name": "stdout",
     "output_type": "stream",
     "text": [
      "------------------------------------------------------------------------------------------------------------------------------------------\n",
      "Epoch [5/50]: Train Loss: 0.4244 | Val Loss: 1.4980 | Val Acc: 11.11%\n",
      "EarlyStopping counter: 4 out of 10\n"
     ]
    },
    {
     "name": "stderr",
     "output_type": "stream",
     "text": [
      "Training Progress:  12%|█▏        | 6/50 [01:22<09:13, 12.57s/it]"
     ]
    },
    {
     "name": "stdout",
     "output_type": "stream",
     "text": [
      "------------------------------------------------------------------------------------------------------------------------------------------\n",
      "Epoch [6/50]: Train Loss: 0.3631 | Val Loss: 1.0133 | Val Acc: 29.63%\n",
      "EarlyStopping counter: 5 out of 10\n"
     ]
    },
    {
     "name": "stderr",
     "output_type": "stream",
     "text": [
      "Training Progress:  14%|█▍        | 7/50 [01:38<09:35, 13.39s/it]"
     ]
    },
    {
     "name": "stdout",
     "output_type": "stream",
     "text": [
      "------------------------------------------------------------------------------------------------------------------------------------------\n",
      "Epoch [7/50]: Train Loss: 0.3865 | Val Loss: 0.8498 | Val Acc: 51.85%\n",
      "Validation loss decreased (0.976074 --> 0.849782).  Saving model ...\n"
     ]
    },
    {
     "name": "stderr",
     "output_type": "stream",
     "text": [
      "Training Progress:  16%|█▌        | 8/50 [01:57<10:45, 15.36s/it]"
     ]
    },
    {
     "name": "stdout",
     "output_type": "stream",
     "text": [
      "------------------------------------------------------------------------------------------------------------------------------------------\n",
      "Epoch [8/50]: Train Loss: 0.2162 | Val Loss: 0.9750 | Val Acc: 51.85%\n",
      "EarlyStopping counter: 1 out of 10\n"
     ]
    },
    {
     "name": "stderr",
     "output_type": "stream",
     "text": [
      "Training Progress:  18%|█▊        | 9/50 [02:10<10:03, 14.71s/it]"
     ]
    },
    {
     "name": "stdout",
     "output_type": "stream",
     "text": [
      "------------------------------------------------------------------------------------------------------------------------------------------\n",
      "Epoch [9/50]: Train Loss: 0.1997 | Val Loss: 1.1336 | Val Acc: 33.33%\n",
      "EarlyStopping counter: 2 out of 10\n"
     ]
    },
    {
     "name": "stderr",
     "output_type": "stream",
     "text": [
      "Training Progress:  20%|██        | 10/50 [02:22<09:10, 13.76s/it]"
     ]
    },
    {
     "name": "stdout",
     "output_type": "stream",
     "text": [
      "------------------------------------------------------------------------------------------------------------------------------------------\n",
      "Epoch [10/50]: Train Loss: 0.2770 | Val Loss: 0.9928 | Val Acc: 44.44%\n",
      "EarlyStopping counter: 3 out of 10\n"
     ]
    },
    {
     "name": "stderr",
     "output_type": "stream",
     "text": [
      "Training Progress:  22%|██▏       | 11/50 [02:34<08:29, 13.06s/it]"
     ]
    },
    {
     "name": "stdout",
     "output_type": "stream",
     "text": [
      "------------------------------------------------------------------------------------------------------------------------------------------\n",
      "Epoch [11/50]: Train Loss: 0.1154 | Val Loss: 1.3989 | Val Acc: 37.04%\n",
      "EarlyStopping counter: 4 out of 10\n"
     ]
    },
    {
     "name": "stderr",
     "output_type": "stream",
     "text": [
      "Training Progress:  24%|██▍       | 12/50 [02:46<08:14, 13.01s/it]"
     ]
    },
    {
     "name": "stdout",
     "output_type": "stream",
     "text": [
      "------------------------------------------------------------------------------------------------------------------------------------------\n",
      "Epoch [12/50]: Train Loss: 0.1443 | Val Loss: 1.0376 | Val Acc: 37.04%\n",
      "EarlyStopping counter: 5 out of 10\n"
     ]
    },
    {
     "name": "stderr",
     "output_type": "stream",
     "text": [
      "Training Progress:  26%|██▌       | 13/50 [03:06<09:13, 14.95s/it]"
     ]
    },
    {
     "name": "stdout",
     "output_type": "stream",
     "text": [
      "------------------------------------------------------------------------------------------------------------------------------------------\n",
      "Epoch [13/50]: Train Loss: 0.0886 | Val Loss: 1.6729 | Val Acc: 37.04%\n",
      "EarlyStopping counter: 6 out of 10\n"
     ]
    },
    {
     "name": "stderr",
     "output_type": "stream",
     "text": [
      "Training Progress:  28%|██▊       | 14/50 [03:22<09:06, 15.19s/it]"
     ]
    },
    {
     "name": "stdout",
     "output_type": "stream",
     "text": [
      "------------------------------------------------------------------------------------------------------------------------------------------\n",
      "Epoch [14/50]: Train Loss: 0.2664 | Val Loss: 1.3837 | Val Acc: 48.15%\n",
      "EarlyStopping counter: 7 out of 10\n"
     ]
    },
    {
     "name": "stderr",
     "output_type": "stream",
     "text": [
      "Training Progress:  30%|███       | 15/50 [03:35<08:28, 14.54s/it]"
     ]
    },
    {
     "name": "stdout",
     "output_type": "stream",
     "text": [
      "------------------------------------------------------------------------------------------------------------------------------------------\n",
      "Epoch [15/50]: Train Loss: 0.0652 | Val Loss: 1.9060 | Val Acc: 40.74%\n",
      "EarlyStopping counter: 8 out of 10\n"
     ]
    },
    {
     "name": "stderr",
     "output_type": "stream",
     "text": [
      "Training Progress:  32%|███▏      | 16/50 [03:47<07:50, 13.85s/it]"
     ]
    },
    {
     "name": "stdout",
     "output_type": "stream",
     "text": [
      "------------------------------------------------------------------------------------------------------------------------------------------\n",
      "Epoch [16/50]: Train Loss: 0.0987 | Val Loss: 2.0444 | Val Acc: 37.04%\n",
      "EarlyStopping counter: 9 out of 10\n"
     ]
    },
    {
     "name": "stderr",
     "output_type": "stream",
     "text": [
      "Training Progress:  32%|███▏      | 16/50 [04:00<08:30, 15.02s/it]"
     ]
    },
    {
     "name": "stdout",
     "output_type": "stream",
     "text": [
      "------------------------------------------------------------------------------------------------------------------------------------------\n",
      "Epoch [17/50]: Train Loss: 0.1382 | Val Loss: 2.1965 | Val Acc: 18.52%\n",
      "EarlyStopping counter: 10 out of 10\n",
      "Early stopping\n"
     ]
    },
    {
     "name": "stderr",
     "output_type": "stream",
     "text": [
      "\n"
     ]
    },
    {
     "name": "stdout",
     "output_type": "stream",
     "text": [
      "Test Loss: 1.693060\n",
      "\n",
      "Test Accuracy of     0: 20% ( 1/ 5)\n",
      "Test Accuracy of     1: 78% (57/73)\n",
      "Test Accuracy of     2:  0% ( 0/13)\n",
      "\n",
      "Test Accuracy (Overall): 63% (58/91)\n",
      "[[ 1  4  0]\n",
      " [12 57  4]\n",
      " [ 2 11  0]]\n"
     ]
    },
    {
     "name": "stderr",
     "output_type": "stream",
     "text": [
      "/home/amillanruiz/PycharmProjects/pythonProject/utils.py:109: RuntimeWarning: invalid value encountered in scalar divide\n",
      "  f1_scores[i] = 2 * ((precision * recall) / (precision + recall)) * 100\n"
     ]
    },
    {
     "name": "stdout",
     "output_type": "stream",
     "text": [
      "Loaded pretrained weights for efficientnet-b0\n",
      "TRAINING\n"
     ]
    },
    {
     "name": "stderr",
     "output_type": "stream",
     "text": [
      "Training Progress:   2%|▏         | 1/50 [00:16<13:50, 16.96s/it]"
     ]
    },
    {
     "name": "stdout",
     "output_type": "stream",
     "text": [
      "------------------------------------------------------------------------------------------------------------------------------------------\n",
      "Epoch [1/50]: Train Loss: 1.0979 | Val Loss: 1.0563 | Val Acc: 46.67%\n",
      "Validation loss decreased (inf --> 1.056260).  Saving model ...\n"
     ]
    },
    {
     "name": "stderr",
     "output_type": "stream",
     "text": [
      "Training Progress:   4%|▍         | 2/50 [00:30<11:48, 14.76s/it]"
     ]
    },
    {
     "name": "stdout",
     "output_type": "stream",
     "text": [
      "------------------------------------------------------------------------------------------------------------------------------------------\n",
      "Epoch [2/50]: Train Loss: 1.1165 | Val Loss: 1.0305 | Val Acc: 60.00%\n",
      "Validation loss decreased (1.056260 --> 1.030470).  Saving model ...\n"
     ]
    },
    {
     "name": "stderr",
     "output_type": "stream",
     "text": [
      "Training Progress:   6%|▌         | 3/50 [00:42<10:35, 13.52s/it]"
     ]
    },
    {
     "name": "stdout",
     "output_type": "stream",
     "text": [
      "------------------------------------------------------------------------------------------------------------------------------------------\n",
      "Epoch [3/50]: Train Loss: 1.2415 | Val Loss: 0.9641 | Val Acc: 83.33%\n",
      "Validation loss decreased (1.030470 --> 0.964095).  Saving model ...\n"
     ]
    },
    {
     "name": "stderr",
     "output_type": "stream",
     "text": [
      "Training Progress:   8%|▊         | 4/50 [00:55<10:13, 13.33s/it]"
     ]
    },
    {
     "name": "stdout",
     "output_type": "stream",
     "text": [
      "------------------------------------------------------------------------------------------------------------------------------------------\n",
      "Epoch [4/50]: Train Loss: 0.6493 | Val Loss: 1.2789 | Val Acc: 66.67%\n",
      "EarlyStopping counter: 1 out of 10\n"
     ]
    },
    {
     "name": "stderr",
     "output_type": "stream",
     "text": [
      "Training Progress:  10%|█         | 5/50 [01:15<11:46, 15.70s/it]"
     ]
    },
    {
     "name": "stdout",
     "output_type": "stream",
     "text": [
      "------------------------------------------------------------------------------------------------------------------------------------------\n",
      "Epoch [5/50]: Train Loss: 0.5799 | Val Loss: 1.4318 | Val Acc: 63.33%\n",
      "EarlyStopping counter: 2 out of 10\n"
     ]
    },
    {
     "name": "stderr",
     "output_type": "stream",
     "text": [
      "Training Progress:  12%|█▏        | 6/50 [01:31<11:39, 15.89s/it]"
     ]
    },
    {
     "name": "stdout",
     "output_type": "stream",
     "text": [
      "------------------------------------------------------------------------------------------------------------------------------------------\n",
      "Epoch [6/50]: Train Loss: 0.4231 | Val Loss: 2.0270 | Val Acc: 76.67%\n",
      "EarlyStopping counter: 3 out of 10\n"
     ]
    },
    {
     "name": "stderr",
     "output_type": "stream",
     "text": [
      "Training Progress:  14%|█▍        | 7/50 [01:43<10:36, 14.80s/it]"
     ]
    },
    {
     "name": "stdout",
     "output_type": "stream",
     "text": [
      "------------------------------------------------------------------------------------------------------------------------------------------\n",
      "Epoch [7/50]: Train Loss: 0.2854 | Val Loss: 2.7445 | Val Acc: 83.33%\n",
      "EarlyStopping counter: 4 out of 10\n"
     ]
    },
    {
     "name": "stderr",
     "output_type": "stream",
     "text": [
      "Training Progress:  16%|█▌        | 8/50 [01:56<09:45, 13.95s/it]"
     ]
    },
    {
     "name": "stdout",
     "output_type": "stream",
     "text": [
      "------------------------------------------------------------------------------------------------------------------------------------------\n",
      "Epoch [8/50]: Train Loss: 0.2528 | Val Loss: 2.4584 | Val Acc: 73.33%\n",
      "EarlyStopping counter: 5 out of 10\n"
     ]
    },
    {
     "name": "stderr",
     "output_type": "stream",
     "text": [
      "Training Progress:  18%|█▊        | 9/50 [02:09<09:23, 13.74s/it]"
     ]
    },
    {
     "name": "stdout",
     "output_type": "stream",
     "text": [
      "------------------------------------------------------------------------------------------------------------------------------------------\n",
      "Epoch [9/50]: Train Loss: 0.1644 | Val Loss: 1.7618 | Val Acc: 63.33%\n",
      "EarlyStopping counter: 6 out of 10\n"
     ]
    },
    {
     "name": "stderr",
     "output_type": "stream",
     "text": [
      "Training Progress:  20%|██        | 10/50 [02:24<09:21, 14.03s/it]"
     ]
    },
    {
     "name": "stdout",
     "output_type": "stream",
     "text": [
      "------------------------------------------------------------------------------------------------------------------------------------------\n",
      "Epoch [10/50]: Train Loss: 0.3349 | Val Loss: 1.8207 | Val Acc: 36.67%\n",
      "EarlyStopping counter: 7 out of 10\n"
     ]
    },
    {
     "name": "stderr",
     "output_type": "stream",
     "text": [
      "Training Progress:  22%|██▏       | 11/50 [02:42<10:05, 15.53s/it]"
     ]
    },
    {
     "name": "stdout",
     "output_type": "stream",
     "text": [
      "------------------------------------------------------------------------------------------------------------------------------------------\n",
      "Epoch [11/50]: Train Loss: 0.1707 | Val Loss: 2.5956 | Val Acc: 63.33%\n",
      "EarlyStopping counter: 8 out of 10\n"
     ]
    },
    {
     "name": "stderr",
     "output_type": "stream",
     "text": [
      "Training Progress:  24%|██▍       | 12/50 [02:59<09:56, 15.70s/it]"
     ]
    },
    {
     "name": "stdout",
     "output_type": "stream",
     "text": [
      "------------------------------------------------------------------------------------------------------------------------------------------\n",
      "Epoch [12/50]: Train Loss: 0.2576 | Val Loss: 2.5160 | Val Acc: 53.33%\n",
      "EarlyStopping counter: 9 out of 10\n"
     ]
    },
    {
     "name": "stderr",
     "output_type": "stream",
     "text": [
      "Training Progress:  24%|██▍       | 12/50 [03:17<10:24, 16.43s/it]"
     ]
    },
    {
     "name": "stdout",
     "output_type": "stream",
     "text": [
      "------------------------------------------------------------------------------------------------------------------------------------------\n",
      "Epoch [13/50]: Train Loss: 0.2007 | Val Loss: 2.5056 | Val Acc: 20.00%\n",
      "EarlyStopping counter: 10 out of 10\n",
      "Early stopping\n"
     ]
    },
    {
     "name": "stderr",
     "output_type": "stream",
     "text": [
      "\n"
     ]
    },
    {
     "name": "stdout",
     "output_type": "stream",
     "text": [
      "Test Loss: 0.929731\n",
      "\n",
      "Test Accuracy of     0: 60% ( 3/ 5)\n",
      "Test Accuracy of     1: 65% (48/73)\n",
      "Test Accuracy of     2: 38% ( 5/13)\n",
      "\n",
      "Test Accuracy (Overall): 61% (56/91)\n",
      "[[ 3  2  0]\n",
      " [15 48 10]\n",
      " [ 2  6  5]]\n",
      "Loaded pretrained weights for efficientnet-b0\n",
      "TRAINING\n"
     ]
    },
    {
     "name": "stderr",
     "output_type": "stream",
     "text": [
      "Training Progress:   2%|▏         | 1/50 [00:14<11:37, 14.24s/it]"
     ]
    },
    {
     "name": "stdout",
     "output_type": "stream",
     "text": [
      "------------------------------------------------------------------------------------------------------------------------------------------\n",
      "Epoch [1/50]: Train Loss: 1.1176 | Val Loss: 1.1313 | Val Acc: 37.93%\n",
      "Validation loss decreased (inf --> 1.131306).  Saving model ...\n"
     ]
    },
    {
     "name": "stderr",
     "output_type": "stream",
     "text": [
      "Training Progress:   4%|▍         | 2/50 [00:27<10:50, 13.56s/it]"
     ]
    },
    {
     "name": "stdout",
     "output_type": "stream",
     "text": [
      "------------------------------------------------------------------------------------------------------------------------------------------\n",
      "Epoch [2/50]: Train Loss: 0.7402 | Val Loss: 1.1981 | Val Acc: 13.79%\n",
      "EarlyStopping counter: 1 out of 10\n"
     ]
    },
    {
     "name": "stderr",
     "output_type": "stream",
     "text": [
      "Training Progress:   6%|▌         | 3/50 [00:43<11:25, 14.59s/it]"
     ]
    },
    {
     "name": "stdout",
     "output_type": "stream",
     "text": [
      "------------------------------------------------------------------------------------------------------------------------------------------\n",
      "Epoch [3/50]: Train Loss: 0.5426 | Val Loss: 1.5884 | Val Acc: 10.34%\n",
      "EarlyStopping counter: 2 out of 10\n"
     ]
    },
    {
     "name": "stderr",
     "output_type": "stream",
     "text": [
      "Training Progress:   8%|▊         | 4/50 [00:57<11:02, 14.41s/it]"
     ]
    },
    {
     "name": "stdout",
     "output_type": "stream",
     "text": [
      "------------------------------------------------------------------------------------------------------------------------------------------\n",
      "Epoch [4/50]: Train Loss: 0.5675 | Val Loss: 1.6251 | Val Acc: 10.34%\n",
      "EarlyStopping counter: 3 out of 10\n"
     ]
    },
    {
     "name": "stderr",
     "output_type": "stream",
     "text": [
      "Training Progress:  10%|█         | 5/50 [01:10<10:30, 14.00s/it]"
     ]
    },
    {
     "name": "stdout",
     "output_type": "stream",
     "text": [
      "------------------------------------------------------------------------------------------------------------------------------------------\n",
      "Epoch [5/50]: Train Loss: 0.3976 | Val Loss: 1.7327 | Val Acc: 6.90%\n",
      "EarlyStopping counter: 4 out of 10\n"
     ]
    },
    {
     "name": "stderr",
     "output_type": "stream",
     "text": [
      "Training Progress:  12%|█▏        | 6/50 [01:25<10:27, 14.25s/it]"
     ]
    },
    {
     "name": "stdout",
     "output_type": "stream",
     "text": [
      "------------------------------------------------------------------------------------------------------------------------------------------\n",
      "Epoch [6/50]: Train Loss: 0.3125 | Val Loss: 1.7418 | Val Acc: 27.59%\n",
      "EarlyStopping counter: 5 out of 10\n"
     ]
    },
    {
     "name": "stderr",
     "output_type": "stream",
     "text": [
      "Training Progress:  14%|█▍        | 7/50 [01:38<10:02, 14.02s/it]"
     ]
    },
    {
     "name": "stdout",
     "output_type": "stream",
     "text": [
      "------------------------------------------------------------------------------------------------------------------------------------------\n",
      "Epoch [7/50]: Train Loss: 0.3738 | Val Loss: 1.2759 | Val Acc: 37.93%\n",
      "EarlyStopping counter: 6 out of 10\n"
     ]
    },
    {
     "name": "stderr",
     "output_type": "stream",
     "text": [
      "Training Progress:  16%|█▌        | 8/50 [01:52<09:49, 14.04s/it]"
     ]
    },
    {
     "name": "stdout",
     "output_type": "stream",
     "text": [
      "------------------------------------------------------------------------------------------------------------------------------------------\n",
      "Epoch [8/50]: Train Loss: 0.2000 | Val Loss: 1.3501 | Val Acc: 31.03%\n",
      "EarlyStopping counter: 7 out of 10\n"
     ]
    },
    {
     "name": "stderr",
     "output_type": "stream",
     "text": [
      "Training Progress:  18%|█▊        | 9/50 [02:06<09:25, 13.79s/it]"
     ]
    },
    {
     "name": "stdout",
     "output_type": "stream",
     "text": [
      "------------------------------------------------------------------------------------------------------------------------------------------\n",
      "Epoch [9/50]: Train Loss: 0.1571 | Val Loss: 1.2942 | Val Acc: 24.14%\n",
      "EarlyStopping counter: 8 out of 10\n"
     ]
    },
    {
     "name": "stderr",
     "output_type": "stream",
     "text": [
      "Training Progress:  20%|██        | 10/50 [02:19<09:06, 13.66s/it]"
     ]
    },
    {
     "name": "stdout",
     "output_type": "stream",
     "text": [
      "------------------------------------------------------------------------------------------------------------------------------------------\n",
      "Epoch [10/50]: Train Loss: 0.3270 | Val Loss: 1.6570 | Val Acc: 41.38%\n",
      "EarlyStopping counter: 9 out of 10\n"
     ]
    },
    {
     "name": "stderr",
     "output_type": "stream",
     "text": [
      "Training Progress:  22%|██▏       | 11/50 [02:32<08:50, 13.60s/it]"
     ]
    },
    {
     "name": "stdout",
     "output_type": "stream",
     "text": [
      "------------------------------------------------------------------------------------------------------------------------------------------\n",
      "Epoch [11/50]: Train Loss: 0.1165 | Val Loss: 1.1005 | Val Acc: 37.93%\n",
      "Validation loss decreased (1.131306 --> 1.100529).  Saving model ...\n"
     ]
    },
    {
     "name": "stderr",
     "output_type": "stream",
     "text": [
      "Training Progress:  24%|██▍       | 12/50 [02:45<08:29, 13.42s/it]"
     ]
    },
    {
     "name": "stdout",
     "output_type": "stream",
     "text": [
      "------------------------------------------------------------------------------------------------------------------------------------------\n",
      "Epoch [12/50]: Train Loss: 0.3255 | Val Loss: 1.3433 | Val Acc: 44.83%\n",
      "EarlyStopping counter: 1 out of 10\n"
     ]
    },
    {
     "name": "stderr",
     "output_type": "stream",
     "text": [
      "Training Progress:  26%|██▌       | 13/50 [02:57<07:57, 12.90s/it]"
     ]
    },
    {
     "name": "stdout",
     "output_type": "stream",
     "text": [
      "------------------------------------------------------------------------------------------------------------------------------------------\n",
      "Epoch [13/50]: Train Loss: 0.2222 | Val Loss: 1.3085 | Val Acc: 62.07%\n",
      "EarlyStopping counter: 2 out of 10\n"
     ]
    },
    {
     "name": "stderr",
     "output_type": "stream",
     "text": [
      "Training Progress:  28%|██▊       | 14/50 [03:09<07:29, 12.48s/it]"
     ]
    },
    {
     "name": "stdout",
     "output_type": "stream",
     "text": [
      "------------------------------------------------------------------------------------------------------------------------------------------\n",
      "Epoch [14/50]: Train Loss: 0.1058 | Val Loss: 1.3804 | Val Acc: 44.83%\n",
      "EarlyStopping counter: 3 out of 10\n"
     ]
    },
    {
     "name": "stderr",
     "output_type": "stream",
     "text": [
      "Training Progress:  30%|███       | 15/50 [03:20<07:00, 12.00s/it]"
     ]
    },
    {
     "name": "stdout",
     "output_type": "stream",
     "text": [
      "------------------------------------------------------------------------------------------------------------------------------------------\n",
      "Epoch [15/50]: Train Loss: 0.1257 | Val Loss: 1.3204 | Val Acc: 34.48%\n",
      "EarlyStopping counter: 4 out of 10\n"
     ]
    },
    {
     "name": "stderr",
     "output_type": "stream",
     "text": [
      "Training Progress:  32%|███▏      | 16/50 [03:33<07:05, 12.51s/it]"
     ]
    },
    {
     "name": "stdout",
     "output_type": "stream",
     "text": [
      "------------------------------------------------------------------------------------------------------------------------------------------\n",
      "Epoch [16/50]: Train Loss: 0.0670 | Val Loss: 1.2423 | Val Acc: 55.17%\n",
      "EarlyStopping counter: 5 out of 10\n"
     ]
    },
    {
     "name": "stderr",
     "output_type": "stream",
     "text": [
      "Training Progress:  34%|███▍      | 17/50 [03:45<06:42, 12.21s/it]"
     ]
    },
    {
     "name": "stdout",
     "output_type": "stream",
     "text": [
      "------------------------------------------------------------------------------------------------------------------------------------------\n",
      "Epoch [17/50]: Train Loss: 0.1013 | Val Loss: 1.2865 | Val Acc: 34.48%\n",
      "EarlyStopping counter: 6 out of 10\n"
     ]
    },
    {
     "name": "stderr",
     "output_type": "stream",
     "text": [
      "Training Progress:  36%|███▌      | 18/50 [03:56<06:25, 12.04s/it]"
     ]
    },
    {
     "name": "stdout",
     "output_type": "stream",
     "text": [
      "------------------------------------------------------------------------------------------------------------------------------------------\n",
      "Epoch [18/50]: Train Loss: 0.0777 | Val Loss: 2.1441 | Val Acc: 48.28%\n",
      "EarlyStopping counter: 7 out of 10\n"
     ]
    },
    {
     "name": "stderr",
     "output_type": "stream",
     "text": [
      "Training Progress:  38%|███▊      | 19/50 [04:06<05:52, 11.38s/it]"
     ]
    },
    {
     "name": "stdout",
     "output_type": "stream",
     "text": [
      "------------------------------------------------------------------------------------------------------------------------------------------\n",
      "Epoch [19/50]: Train Loss: 0.0961 | Val Loss: 1.2822 | Val Acc: 44.83%\n",
      "EarlyStopping counter: 8 out of 10\n"
     ]
    },
    {
     "name": "stderr",
     "output_type": "stream",
     "text": [
      "Training Progress:  40%|████      | 20/50 [04:16<05:26, 10.88s/it]"
     ]
    },
    {
     "name": "stdout",
     "output_type": "stream",
     "text": [
      "------------------------------------------------------------------------------------------------------------------------------------------\n",
      "Epoch [20/50]: Train Loss: 0.0521 | Val Loss: 1.1219 | Val Acc: 48.28%\n",
      "EarlyStopping counter: 9 out of 10\n"
     ]
    },
    {
     "name": "stderr",
     "output_type": "stream",
     "text": [
      "Training Progress:  42%|████▏     | 21/50 [04:26<05:11, 10.73s/it]"
     ]
    },
    {
     "name": "stdout",
     "output_type": "stream",
     "text": [
      "------------------------------------------------------------------------------------------------------------------------------------------\n",
      "Epoch [21/50]: Train Loss: 0.0298 | Val Loss: 0.9056 | Val Acc: 58.62%\n",
      "Validation loss decreased (1.100529 --> 0.905611).  Saving model ...\n"
     ]
    },
    {
     "name": "stderr",
     "output_type": "stream",
     "text": [
      "Training Progress:  44%|████▍     | 22/50 [04:36<04:52, 10.44s/it]"
     ]
    },
    {
     "name": "stdout",
     "output_type": "stream",
     "text": [
      "------------------------------------------------------------------------------------------------------------------------------------------\n",
      "Epoch [22/50]: Train Loss: 0.0573 | Val Loss: 2.0607 | Val Acc: 44.83%\n",
      "EarlyStopping counter: 1 out of 10\n"
     ]
    },
    {
     "name": "stderr",
     "output_type": "stream",
     "text": [
      "Training Progress:  46%|████▌     | 23/50 [04:46<04:34, 10.15s/it]"
     ]
    },
    {
     "name": "stdout",
     "output_type": "stream",
     "text": [
      "------------------------------------------------------------------------------------------------------------------------------------------\n",
      "Epoch [23/50]: Train Loss: 0.0753 | Val Loss: 2.5275 | Val Acc: 48.28%\n",
      "EarlyStopping counter: 2 out of 10\n"
     ]
    },
    {
     "name": "stderr",
     "output_type": "stream",
     "text": [
      "Training Progress:  48%|████▊     | 24/50 [04:56<04:25, 10.23s/it]"
     ]
    },
    {
     "name": "stdout",
     "output_type": "stream",
     "text": [
      "------------------------------------------------------------------------------------------------------------------------------------------\n",
      "Epoch [24/50]: Train Loss: 0.0454 | Val Loss: 2.1163 | Val Acc: 31.03%\n",
      "EarlyStopping counter: 3 out of 10\n"
     ]
    },
    {
     "name": "stderr",
     "output_type": "stream",
     "text": [
      "Training Progress:  50%|█████     | 25/50 [05:07<04:21, 10.44s/it]"
     ]
    },
    {
     "name": "stdout",
     "output_type": "stream",
     "text": [
      "------------------------------------------------------------------------------------------------------------------------------------------\n",
      "Epoch [25/50]: Train Loss: 0.0334 | Val Loss: 2.2986 | Val Acc: 37.93%\n",
      "EarlyStopping counter: 4 out of 10\n"
     ]
    },
    {
     "name": "stderr",
     "output_type": "stream",
     "text": [
      "Training Progress:  52%|█████▏    | 26/50 [05:18<04:14, 10.58s/it]"
     ]
    },
    {
     "name": "stdout",
     "output_type": "stream",
     "text": [
      "------------------------------------------------------------------------------------------------------------------------------------------\n",
      "Epoch [26/50]: Train Loss: 0.0466 | Val Loss: 3.3420 | Val Acc: 41.38%\n",
      "EarlyStopping counter: 5 out of 10\n"
     ]
    },
    {
     "name": "stderr",
     "output_type": "stream",
     "text": [
      "Training Progress:  54%|█████▍    | 27/50 [05:28<04:00, 10.44s/it]"
     ]
    },
    {
     "name": "stdout",
     "output_type": "stream",
     "text": [
      "------------------------------------------------------------------------------------------------------------------------------------------\n",
      "Epoch [27/50]: Train Loss: 0.0055 | Val Loss: 2.9850 | Val Acc: 31.03%\n",
      "EarlyStopping counter: 6 out of 10\n"
     ]
    },
    {
     "name": "stderr",
     "output_type": "stream",
     "text": [
      "Training Progress:  56%|█████▌    | 28/50 [05:38<03:45, 10.24s/it]"
     ]
    },
    {
     "name": "stdout",
     "output_type": "stream",
     "text": [
      "------------------------------------------------------------------------------------------------------------------------------------------\n",
      "Epoch [28/50]: Train Loss: 0.0088 | Val Loss: 3.0803 | Val Acc: 34.48%\n",
      "EarlyStopping counter: 7 out of 10\n"
     ]
    },
    {
     "name": "stderr",
     "output_type": "stream",
     "text": [
      "Training Progress:  58%|█████▊    | 29/50 [05:48<03:35, 10.28s/it]"
     ]
    },
    {
     "name": "stdout",
     "output_type": "stream",
     "text": [
      "------------------------------------------------------------------------------------------------------------------------------------------\n",
      "Epoch [29/50]: Train Loss: 0.0240 | Val Loss: 2.5131 | Val Acc: 55.17%\n",
      "EarlyStopping counter: 8 out of 10\n"
     ]
    },
    {
     "name": "stderr",
     "output_type": "stream",
     "text": [
      "Training Progress:  60%|██████    | 30/50 [05:58<03:22, 10.15s/it]"
     ]
    },
    {
     "name": "stdout",
     "output_type": "stream",
     "text": [
      "------------------------------------------------------------------------------------------------------------------------------------------\n",
      "Epoch [30/50]: Train Loss: 0.1006 | Val Loss: 2.7403 | Val Acc: 62.07%\n",
      "EarlyStopping counter: 9 out of 10\n"
     ]
    },
    {
     "name": "stderr",
     "output_type": "stream",
     "text": [
      "Training Progress:  60%|██████    | 30/50 [06:08<04:05, 12.28s/it]"
     ]
    },
    {
     "name": "stdout",
     "output_type": "stream",
     "text": [
      "------------------------------------------------------------------------------------------------------------------------------------------\n",
      "Epoch [31/50]: Train Loss: 0.0063 | Val Loss: 3.0023 | Val Acc: 72.41%\n",
      "EarlyStopping counter: 10 out of 10\n",
      "Early stopping\n"
     ]
    },
    {
     "name": "stderr",
     "output_type": "stream",
     "text": [
      "\n"
     ]
    },
    {
     "name": "stdout",
     "output_type": "stream",
     "text": [
      "Test Loss: 1.941248\n",
      "\n",
      "Test Accuracy of     0: 20% ( 1/ 5)\n",
      "Test Accuracy of     1: 98% (72/73)\n",
      "Test Accuracy of     2: 15% ( 2/13)\n",
      "\n",
      "Test Accuracy (Overall): 82% (75/91)\n",
      "[[ 1  4  0]\n",
      " [ 0 72  1]\n",
      " [ 0 11  2]]\n",
      "Loaded pretrained weights for efficientnet-b0\n",
      "TRAINING\n"
     ]
    },
    {
     "name": "stderr",
     "output_type": "stream",
     "text": [
      "Training Progress:   2%|▏         | 1/50 [00:10<08:37, 10.57s/it]"
     ]
    },
    {
     "name": "stdout",
     "output_type": "stream",
     "text": [
      "------------------------------------------------------------------------------------------------------------------------------------------\n",
      "Epoch [1/50]: Train Loss: 1.0169 | Val Loss: 0.9263 | Val Acc: 72.50%\n",
      "Validation loss decreased (inf --> 0.926346).  Saving model ...\n"
     ]
    },
    {
     "name": "stderr",
     "output_type": "stream",
     "text": [
      "Training Progress:   4%|▍         | 2/50 [00:21<08:23, 10.49s/it]"
     ]
    },
    {
     "name": "stdout",
     "output_type": "stream",
     "text": [
      "------------------------------------------------------------------------------------------------------------------------------------------\n",
      "Epoch [2/50]: Train Loss: 0.9109 | Val Loss: 0.9550 | Val Acc: 47.50%\n",
      "EarlyStopping counter: 1 out of 10\n"
     ]
    },
    {
     "name": "stderr",
     "output_type": "stream",
     "text": [
      "Training Progress:   6%|▌         | 3/50 [00:31<08:14, 10.52s/it]"
     ]
    },
    {
     "name": "stdout",
     "output_type": "stream",
     "text": [
      "------------------------------------------------------------------------------------------------------------------------------------------\n",
      "Epoch [3/50]: Train Loss: 0.8516 | Val Loss: 0.9741 | Val Acc: 47.50%\n",
      "EarlyStopping counter: 2 out of 10\n"
     ]
    },
    {
     "name": "stderr",
     "output_type": "stream",
     "text": [
      "Training Progress:   8%|▊         | 4/50 [00:41<07:58, 10.39s/it]"
     ]
    },
    {
     "name": "stdout",
     "output_type": "stream",
     "text": [
      "------------------------------------------------------------------------------------------------------------------------------------------\n",
      "Epoch [4/50]: Train Loss: 0.7715 | Val Loss: 1.0304 | Val Acc: 47.50%\n",
      "EarlyStopping counter: 3 out of 10\n"
     ]
    },
    {
     "name": "stderr",
     "output_type": "stream",
     "text": [
      "Training Progress:  10%|█         | 5/50 [00:52<07:57, 10.61s/it]"
     ]
    },
    {
     "name": "stdout",
     "output_type": "stream",
     "text": [
      "------------------------------------------------------------------------------------------------------------------------------------------\n",
      "Epoch [5/50]: Train Loss: 0.5618 | Val Loss: 0.9965 | Val Acc: 57.50%\n",
      "EarlyStopping counter: 4 out of 10\n"
     ]
    },
    {
     "name": "stderr",
     "output_type": "stream",
     "text": [
      "Training Progress:  12%|█▏        | 6/50 [01:03<07:43, 10.54s/it]"
     ]
    },
    {
     "name": "stdout",
     "output_type": "stream",
     "text": [
      "------------------------------------------------------------------------------------------------------------------------------------------\n",
      "Epoch [6/50]: Train Loss: 0.7002 | Val Loss: 1.1175 | Val Acc: 45.00%\n",
      "EarlyStopping counter: 5 out of 10\n"
     ]
    },
    {
     "name": "stderr",
     "output_type": "stream",
     "text": [
      "Training Progress:  14%|█▍        | 7/50 [01:13<07:34, 10.57s/it]"
     ]
    },
    {
     "name": "stdout",
     "output_type": "stream",
     "text": [
      "------------------------------------------------------------------------------------------------------------------------------------------\n",
      "Epoch [7/50]: Train Loss: 0.6938 | Val Loss: 1.0701 | Val Acc: 42.50%\n",
      "EarlyStopping counter: 6 out of 10\n"
     ]
    },
    {
     "name": "stderr",
     "output_type": "stream",
     "text": [
      "Training Progress:  16%|█▌        | 8/50 [01:24<07:28, 10.68s/it]"
     ]
    },
    {
     "name": "stdout",
     "output_type": "stream",
     "text": [
      "------------------------------------------------------------------------------------------------------------------------------------------\n",
      "Epoch [8/50]: Train Loss: 0.4532 | Val Loss: 1.0246 | Val Acc: 45.00%\n",
      "EarlyStopping counter: 7 out of 10\n"
     ]
    },
    {
     "name": "stderr",
     "output_type": "stream",
     "text": [
      "Training Progress:  18%|█▊        | 9/50 [01:35<07:17, 10.68s/it]"
     ]
    },
    {
     "name": "stdout",
     "output_type": "stream",
     "text": [
      "------------------------------------------------------------------------------------------------------------------------------------------\n",
      "Epoch [9/50]: Train Loss: 0.3962 | Val Loss: 0.9943 | Val Acc: 60.00%\n",
      "EarlyStopping counter: 8 out of 10\n"
     ]
    },
    {
     "name": "stderr",
     "output_type": "stream",
     "text": [
      "Training Progress:  20%|██        | 10/50 [01:46<07:11, 10.79s/it]"
     ]
    },
    {
     "name": "stdout",
     "output_type": "stream",
     "text": [
      "------------------------------------------------------------------------------------------------------------------------------------------\n",
      "Epoch [10/50]: Train Loss: 0.3559 | Val Loss: 1.0084 | Val Acc: 67.50%\n",
      "EarlyStopping counter: 9 out of 10\n"
     ]
    },
    {
     "name": "stderr",
     "output_type": "stream",
     "text": [
      "Training Progress:  20%|██        | 10/50 [01:57<07:49, 11.73s/it]"
     ]
    },
    {
     "name": "stdout",
     "output_type": "stream",
     "text": [
      "------------------------------------------------------------------------------------------------------------------------------------------\n",
      "Epoch [11/50]: Train Loss: 0.5104 | Val Loss: 0.9761 | Val Acc: 75.00%\n",
      "EarlyStopping counter: 10 out of 10\n",
      "Early stopping\n"
     ]
    },
    {
     "name": "stderr",
     "output_type": "stream",
     "text": [
      "\n"
     ]
    },
    {
     "name": "stdout",
     "output_type": "stream",
     "text": [
      "Test Loss: 0.960345\n",
      "\n",
      "Test Accuracy of     0:  0% ( 0/ 5)\n",
      "Test Accuracy of     1: 89% (65/73)\n",
      "Test Accuracy of     2:  7% ( 1/13)\n",
      "\n",
      "Test Accuracy (Overall): 72% (66/91)\n",
      "[[ 0  5  0]\n",
      " [ 1 65  7]\n",
      " [ 1 11  1]]\n"
     ]
    },
    {
     "name": "stderr",
     "output_type": "stream",
     "text": [
      "/home/amillanruiz/PycharmProjects/pythonProject/utils.py:109: RuntimeWarning: invalid value encountered in scalar divide\n",
      "  f1_scores[i] = 2 * ((precision * recall) / (precision + recall)) * 100\n"
     ]
    },
    {
     "name": "stdout",
     "output_type": "stream",
     "text": [
      "Loaded pretrained weights for efficientnet-b0\n",
      "TRAINING\n"
     ]
    },
    {
     "name": "stderr",
     "output_type": "stream",
     "text": [
      "Training Progress:   2%|▏         | 1/50 [00:09<07:37,  9.33s/it]"
     ]
    },
    {
     "name": "stdout",
     "output_type": "stream",
     "text": [
      "------------------------------------------------------------------------------------------------------------------------------------------\n",
      "Epoch [1/50]: Train Loss: 1.2241 | Val Loss: 1.1092 | Val Acc: 14.29%\n",
      "Validation loss decreased (inf --> 1.109155).  Saving model ...\n"
     ]
    },
    {
     "name": "stderr",
     "output_type": "stream",
     "text": [
      "Training Progress:   4%|▍         | 2/50 [00:18<07:18,  9.13s/it]"
     ]
    },
    {
     "name": "stdout",
     "output_type": "stream",
     "text": [
      "------------------------------------------------------------------------------------------------------------------------------------------\n",
      "Epoch [2/50]: Train Loss: 0.6793 | Val Loss: 1.4887 | Val Acc: 28.57%\n",
      "EarlyStopping counter: 1 out of 10\n"
     ]
    },
    {
     "name": "stderr",
     "output_type": "stream",
     "text": [
      "Training Progress:   6%|▌         | 3/50 [00:27<07:12,  9.20s/it]"
     ]
    },
    {
     "name": "stdout",
     "output_type": "stream",
     "text": [
      "------------------------------------------------------------------------------------------------------------------------------------------\n",
      "Epoch [3/50]: Train Loss: 0.7086 | Val Loss: 1.5462 | Val Acc: 60.71%\n",
      "EarlyStopping counter: 2 out of 10\n"
     ]
    },
    {
     "name": "stderr",
     "output_type": "stream",
     "text": [
      "Training Progress:   8%|▊         | 4/50 [00:36<07:02,  9.19s/it]"
     ]
    },
    {
     "name": "stdout",
     "output_type": "stream",
     "text": [
      "------------------------------------------------------------------------------------------------------------------------------------------\n",
      "Epoch [4/50]: Train Loss: 0.5052 | Val Loss: 1.8467 | Val Acc: 64.29%\n",
      "EarlyStopping counter: 3 out of 10\n"
     ]
    },
    {
     "name": "stderr",
     "output_type": "stream",
     "text": [
      "Training Progress:  10%|█         | 5/50 [00:51<08:26, 11.27s/it]"
     ]
    },
    {
     "name": "stdout",
     "output_type": "stream",
     "text": [
      "------------------------------------------------------------------------------------------------------------------------------------------\n",
      "Epoch [5/50]: Train Loss: 0.3361 | Val Loss: 2.6126 | Val Acc: 60.71%\n",
      "EarlyStopping counter: 4 out of 10\n"
     ]
    },
    {
     "name": "stderr",
     "output_type": "stream",
     "text": [
      "Training Progress:  12%|█▏        | 6/50 [01:09<09:55, 13.54s/it]"
     ]
    },
    {
     "name": "stdout",
     "output_type": "stream",
     "text": [
      "------------------------------------------------------------------------------------------------------------------------------------------\n",
      "Epoch [6/50]: Train Loss: 0.3502 | Val Loss: 1.7856 | Val Acc: 50.00%\n",
      "EarlyStopping counter: 5 out of 10\n"
     ]
    },
    {
     "name": "stderr",
     "output_type": "stream",
     "text": [
      "Training Progress:  14%|█▍        | 7/50 [01:21<09:17, 12.95s/it]"
     ]
    },
    {
     "name": "stdout",
     "output_type": "stream",
     "text": [
      "------------------------------------------------------------------------------------------------------------------------------------------\n",
      "Epoch [7/50]: Train Loss: 0.3611 | Val Loss: 1.6138 | Val Acc: 50.00%\n",
      "EarlyStopping counter: 6 out of 10\n"
     ]
    },
    {
     "name": "stderr",
     "output_type": "stream",
     "text": [
      "Training Progress:  16%|█▌        | 8/50 [01:31<08:30, 12.14s/it]"
     ]
    },
    {
     "name": "stdout",
     "output_type": "stream",
     "text": [
      "------------------------------------------------------------------------------------------------------------------------------------------\n",
      "Epoch [8/50]: Train Loss: 0.1817 | Val Loss: 3.0771 | Val Acc: 64.29%\n",
      "EarlyStopping counter: 7 out of 10\n"
     ]
    },
    {
     "name": "stderr",
     "output_type": "stream",
     "text": [
      "Training Progress:  18%|█▊        | 9/50 [01:41<07:52, 11.51s/it]"
     ]
    },
    {
     "name": "stdout",
     "output_type": "stream",
     "text": [
      "------------------------------------------------------------------------------------------------------------------------------------------\n",
      "Epoch [9/50]: Train Loss: 0.2094 | Val Loss: 3.3151 | Val Acc: 60.71%\n",
      "EarlyStopping counter: 8 out of 10\n"
     ]
    },
    {
     "name": "stderr",
     "output_type": "stream",
     "text": [
      "Training Progress:  20%|██        | 10/50 [01:54<07:59, 11.98s/it]"
     ]
    },
    {
     "name": "stdout",
     "output_type": "stream",
     "text": [
      "------------------------------------------------------------------------------------------------------------------------------------------\n",
      "Epoch [10/50]: Train Loss: 0.2263 | Val Loss: 2.7739 | Val Acc: 57.14%\n",
      "EarlyStopping counter: 9 out of 10\n"
     ]
    },
    {
     "name": "stderr",
     "output_type": "stream",
     "text": [
      "Training Progress:  20%|██        | 10/50 [02:20<09:23, 14.10s/it]"
     ]
    },
    {
     "name": "stdout",
     "output_type": "stream",
     "text": [
      "------------------------------------------------------------------------------------------------------------------------------------------\n",
      "Epoch [11/50]: Train Loss: 0.2651 | Val Loss: 3.1617 | Val Acc: 64.29%\n",
      "EarlyStopping counter: 10 out of 10\n",
      "Early stopping\n"
     ]
    },
    {
     "name": "stderr",
     "output_type": "stream",
     "text": [
      "\n"
     ]
    },
    {
     "name": "stdout",
     "output_type": "stream",
     "text": [
      "Test Loss: 1.050193\n",
      "\n",
      "Test Accuracy of     0: 40% ( 2/ 5)\n",
      "Test Accuracy of     1: 64% (47/73)\n",
      "Test Accuracy of     2: 15% ( 2/13)\n",
      "\n",
      "Test Accuracy (Overall): 56% (51/91)\n",
      "[[ 2  3  0]\n",
      " [21 47  5]\n",
      " [ 2  9  2]]\n"
     ]
    }
   ],
   "source": [
    "scores = {'acc': [], 'SD_acc': [], 'CI_acc': [], 'auc_tot': [], 'SD_auc_tot': [], 'CI_auc_tot': [], 'auc_class': [], 'SD_auc_class': [], 'CI_auc_class': [], 'Sen_mean': [], 'Sen_CI': [], 'Sen_SD': [], 'Spe_mean': [], 'Spe_CI': [], 'Spe_sd': [], 'Pre_mean': [], 'Pre_CI': [], 'Pre_sd': [], 'F1_mean': [], 'F1_CI': [], 'F1_sd': [], 'Accy_mean': [], 'Accy_CI': [], 'Accy_sd': []}\n",
    "\n",
    "num_classes = len(np.unique(y))\n",
    "sum_confusion_matrix_rf = np.zeros((num_classes, num_classes))\n",
    "\n",
    "data_loader = DataLoader2DT1GD()\n",
    "\n",
    "# Splitting into train, validation, and test sets\n",
    "unique_patients = list(new_df['Subjid'])\n",
    "\n",
    "\n",
    "# Splitting unique_patient_ids into trainval and test patient IDs\n",
    "trainval_patient_ids, test_patient_ids = train_test_split(unique_patients, test_size=0.2, random_state=0, stratify = y_patients)\n",
    "\n",
    "trainval_y = [new_df[new_df['Subjid'] == i]['Labels'].values[0] for i in trainval_patient_ids]\n",
    "\n",
    "# Perform stratified shuffle split on train indices\n",
    "#kf = KFold(n_splits=5, random_state=42, shuffle=True)\n",
    "sss = StratifiedKFold(n_splits=10, random_state=0, shuffle=True)\n",
    "#sss = StratifiedShuffleSplit(n_splits=5, test_size=0.25, random_state=42)\n",
    "fold_acc = []\n",
    "fold_auc_tot = []\n",
    "fold_auc_class = []\n",
    "sensi = []\n",
    "speci = []\n",
    "prec = []\n",
    "f1 = []\n",
    "accy = []\n",
    "for train_index, val_index in sss.split(trainval_patient_ids, trainval_y):\n",
    "    ######## training #########################################################\n",
    "    train_patients = [trainval_patient_ids[i] for i in train_index]\n",
    "    training_tumors = flatten([df3[df3['subjid'] == s].index for s in train_patients])\n",
    "    X_train, y_train = data_loader[training_tumors]\n",
    "    ########## validation ############################################################\n",
    "    val_patients = [trainval_patient_ids[i] for i in val_index]\n",
    "    val_tumors = flatten([df3[df3['subjid'] == s].index for s in val_patients])\n",
    "    X_val, y_val = data_loader[val_tumors]\n",
    "\n",
    "    ######## test ############################################################################\n",
    "    test_tumors = flatten([df3[df3['subjid'] == s].index for s in test_patient_ids])\n",
    "    X_test, y_test = data_loader[test_tumors]\n",
    "\n",
    "    #### set class weights to account for imbalanced dataset\n",
    "    class_weights = compute_class_weight('balanced', classes=np.unique(y_train), y=y_train)\n",
    "\n",
    "    ## Rescaling\n",
    "    #rescale = RescaleIntensity((0.05, 99.5))\n",
    "    #randaffine = torchio.RandomAffine(scales=(0.9,1.2),degrees=10, isotropic=True, image_interpolation='nearest')\n",
    "    #flip = torchio.RandomFlip(axes=('LR'), p=0.5)\n",
    "    #transforms = [flip, randaffine]\n",
    "    #transform = Compose(transforms)\n",
    "\n",
    "    train_transform = T.Compose([\n",
    "    T.RandomHorizontalFlip(0.5),\n",
    "    T.RandomVerticalFlip(0.5),\n",
    "    T.RandomRotation(degrees=15),\n",
    "    T.CenterCrop(size=150)])\n",
    "\n",
    "    model = EfficientNet.from_pretrained('efficientnet-b0')\n",
    "    model._conv_stem.in_channels = 1\n",
    "    #model._conv_stem.weight = torch.mean(model._conv_stem.weight, axis = 1, keepdim=True)\n",
    "    weights = torch.mean(model._conv_stem.weight, axis=1, keepdim=True)\n",
    "    model._conv_stem.weight = torch.nn.Parameter(weights)\n",
    "    #model._conv_stem.weight = torch.nn.Parameter(torch.cat([model._conv_stem.weight, model._conv_stem.weight], axis=1))\n",
    "    model._fc = nn.Linear(in_features=1280, out_features=3, bias=True)\n",
    "\n",
    "    criterion = nn.CrossEntropyLoss(weight=torch.FloatTensor(class_weights))\n",
    "    optimizer = optim.Adam(model.parameters(), lr=0.001)\n",
    "\n",
    "    # Convert data to TensorDataset\n",
    "    train_dataset = CustomDataset(X_train, y_train, transform = train_transform)\n",
    "    val_dataset = CustomDataset(X_val, y_val, transform = train_transform)\n",
    "    test_dataset = CustomDataset(X_test, y_test)\n",
    "\n",
    "    batch_size = 32\n",
    "    num_epochs = 50\n",
    "    patience = 10\n",
    "    path=f'checkpoint_EfficientNet.pt'\n",
    "    # Create data loaders\n",
    "    train_loader = DataLoader(train_dataset, batch_size=batch_size)\n",
    "    val_loader = DataLoader(val_dataset, batch_size=batch_size)\n",
    "    test_loader = DataLoader(test_dataset, batch_size=batch_size)\n",
    "    print('TRAINING')\n",
    "    train_validate_model(model, train_loader, val_loader, criterion, optimizer, num_epochs, patience, path=path)\n",
    "\n",
    "    model.load_state_dict(torch.load(path))\n",
    "    y_pred = test_model(model, test_loader, criterion)\n",
    "\n",
    "    accuracy = accuracy_score(y_test, y_pred)\n",
    "    num_classes = len(np.unique(y_test))\n",
    "    cm = confusion_matrix(y_test, y_pred, labels=np.unique(y_test))\n",
    "    print(cm)\n",
    "    specificity = calculate_specificity(cm)\n",
    "    sensitivity = calculate_sensitivity(cm)\n",
    "    precision = calculate_precision(cm)\n",
    "    F1 = calculate_f1_score(cm)\n",
    "    Accuracy = calculate_accuracy(cm)\n",
    "    sum_confusion_matrix_rf += cm\n",
    "\n",
    "    #accuracy = accuracy_score(y_test, y_pred)\n",
    "    fold_acc.append(accuracy)\n",
    "\n",
    "    # Calculate AUC score\n",
    "    auc_tot = multiclass_roc_auc_score(y_test, y_pred)\n",
    "    fold_auc_tot.append(auc_tot)\n",
    "\n",
    "    auc_class = class_vs_rest_roc_auc_score(y_test, y_pred)\n",
    "    fold_auc_class.append(auc_class)\n",
    "\n",
    "    speci.append(specificity)\n",
    "    sensi.append(sensitivity)\n",
    "    prec.append(precision)\n",
    "    f1.append(F1)\n",
    "    accy.append(Accuracy)"
   ],
   "metadata": {
    "collapsed": false,
    "ExecuteTime": {
     "start_time": "2023-07-25T16:22:10.715479Z",
     "end_time": "2023-07-25T16:54:50.027959Z"
    }
   }
  },
  {
   "cell_type": "code",
   "execution_count": 16,
   "outputs": [
    {
     "data": {
      "text/plain": "array([[ 23.,  25.,   2.],\n       [152., 455., 123.],\n       [ 23.,  74.,  33.]])"
     },
     "execution_count": 16,
     "metadata": {},
     "output_type": "execute_result"
    }
   ],
   "source": [
    "sum_confusion_matrix_rf"
   ],
   "metadata": {
    "collapsed": false,
    "ExecuteTime": {
     "start_time": "2023-07-25T16:56:58.306527Z",
     "end_time": "2023-07-25T16:56:58.475383Z"
    }
   }
  },
  {
   "cell_type": "code",
   "execution_count": 17,
   "outputs": [],
   "source": [
    "from scipy import stats\n",
    "confidence = 0.95\n",
    "avg_acc = np.mean(fold_acc)\n",
    "scores['acc'].append(avg_acc)\n",
    "#scores_svc['acc'] = scores_svc['acc'][-1]\n",
    "ci = stats.t.interval(confidence, len(fold_acc) - 1, loc=np.mean(fold_acc), scale=stats.sem(fold_acc))\n",
    "scores['CI_acc'].append(ci)\n",
    "scores['SD_acc'].append(np.std(fold_acc))\n",
    "\n",
    "#auc_tot\n",
    "avg_auc_tot = np.mean(fold_auc_tot)\n",
    "scores['auc_tot'].append(avg_auc_tot)\n",
    "scores['auc_tot'] = scores['auc_tot'][-1]\n",
    "ci = stats.t.interval(confidence, len(fold_auc_tot) - 1, loc=np.mean(fold_auc_tot), scale=stats.sem(fold_auc_tot))\n",
    "scores['CI_auc_tot'].append(ci)\n",
    "scores['SD_auc_tot'].append(np.std(fold_auc_tot))\n",
    "\n",
    "#auc_class\n",
    "list_0 = list(d[0] for d in fold_auc_class)\n",
    "list_1 = list(d[1] for d in fold_auc_class)\n",
    "list_2 = list(d[2] for d in fold_auc_class)\n",
    "\n",
    "avg_auc_class = {0: np.mean(list_0), 1: np.mean(list_1), 2: np.mean(list_2)}\n",
    "scores['auc_class'].append(avg_auc_class)\n",
    "\n",
    "sd_auc_class = {0: np.std(list_0), 1: np.std(list_1), 2: np.std(list_2)}\n",
    "scores['SD_auc_class'].append(sd_auc_class)\n",
    "\n",
    "ci_0 = stats.t.interval(confidence, len(list_0) - 1, loc=np.mean(list_0), scale=stats.sem(list_0))\n",
    "ci_1 = stats.t.interval(confidence, len(list_1) - 1, loc=np.mean(list_1), scale=stats.sem(list_1))\n",
    "ci_2 = stats.t.interval(confidence, len(list_2) - 1, loc=np.mean(list_2), scale=stats.sem(list_2))\n",
    "\n",
    "CI_auc_class = {0: ci_0, 1: ci_1, 2: ci_2}\n",
    "scores['CI_auc_class'].append(CI_auc_class)\n",
    "\n",
    "#sensitivity\n",
    "list_0 = list(d[0] for d in sensi)\n",
    "list_1 = list(d[1] for d in sensi)\n",
    "list_2 = list(d[2] for d in sensi)\n",
    "\n",
    "avg_sensi_class = {0: np.mean(list_0), 1: np.mean(list_1), 2: np.mean(list_2)}\n",
    "scores['Sen_mean'].append(avg_sensi_class)\n",
    "\n",
    "sd_sensi_class = {0: np.std(list_0), 1: np.std(list_1), 2: np.std(list_2)}\n",
    "scores['Sen_SD'].append(sd_sensi_class)\n",
    "\n",
    "ci_0 = stats.t.interval(confidence, len(list_0) - 1, loc=np.mean(list_0), scale=stats.sem(list_0))\n",
    "ci_1 = stats.t.interval(confidence, len(list_1) - 1, loc=np.mean(list_1), scale=stats.sem(list_1))\n",
    "ci_2 = stats.t.interval(confidence, len(list_2) - 1, loc=np.mean(list_2), scale=stats.sem(list_2))\n",
    "\n",
    "CI_sen_class = {0: ci_0, 1: ci_1, 2: ci_2}\n",
    "scores['Sen_CI'].append(CI_sen_class)\n",
    "\n",
    "#specificity\n",
    "list_0 = list(d[0] for d in speci)\n",
    "list_1 = list(d[1] for d in speci)\n",
    "list_2 = list(d[2] for d in speci)\n",
    "\n",
    "avg_speci_class = {0: np.mean(list_0), 1: np.mean(list_1), 2: np.mean(list_2)}\n",
    "scores['Spe_mean'].append(avg_speci_class)\n",
    "sd_speci_class = {0: np.std(list_0), 1: np.std(list_1), 2: np.std(list_2)}\n",
    "scores['Spe_sd'].append(sd_speci_class)\n",
    "\n",
    "ci_0 = stats.t.interval(confidence, len(list_0) - 1, loc=np.mean(list_0), scale=stats.sem(list_0))\n",
    "ci_1 = stats.t.interval(confidence, len(list_1) - 1, loc=np.mean(list_1), scale=stats.sem(list_1))\n",
    "ci_2 = stats.t.interval(confidence, len(list_2) - 1, loc=np.mean(list_2), scale=stats.sem(list_2))\n",
    "\n",
    "CI_spe_class = {0: ci_0, 1: ci_1, 2: ci_2}\n",
    "scores['Spe_CI'].append(CI_spe_class)\n",
    "\n",
    "#precision\n",
    "list_0 = list(d[0] for d in prec)\n",
    "list_1 = list(d[1] for d in prec)\n",
    "list_2 = list(d[2] for d in prec)\n",
    "\n",
    "avg_prec_class = {0: np.mean(list_0), 1: np.mean(list_1), 2: np.mean(list_2)}\n",
    "scores['Pre_mean'].append(avg_prec_class)\n",
    "sd_prec_class = {0: np.std(list_0), 1: np.std(list_1), 2: np.std(list_2)}\n",
    "scores['Pre_sd'].append(sd_prec_class)\n",
    "\n",
    "ci_0 = stats.t.interval(confidence, len(list_0) - 1, loc=np.mean(list_0), scale=stats.sem(list_0))\n",
    "ci_1 = stats.t.interval(confidence, len(list_1) - 1, loc=np.mean(list_1), scale=stats.sem(list_1))\n",
    "ci_2 = stats.t.interval(confidence, len(list_2) - 1, loc=np.mean(list_2), scale=stats.sem(list_2))\n",
    "\n",
    "CI_pre_class = {0: ci_0, 1: ci_1, 2: ci_2}\n",
    "scores['Pre_CI'].append(CI_pre_class)\n",
    "\n",
    "#F1\n",
    "list_0 = list(d[0] for d in f1)\n",
    "list_1 = list(d[1] for d in f1)\n",
    "list_2 = list(d[2] for d in f1)\n",
    "\n",
    "avg_f1_class = {0: np.mean(list_0), 1: np.mean(list_1), 2: np.mean(list_2)}\n",
    "scores['F1_mean'].append(avg_f1_class)\n",
    "sd_f1_class = {0: np.std(list_0), 1: np.std(list_1), 2: np.std(list_2)}\n",
    "scores['F1_sd'].append(sd_f1_class)\n",
    "\n",
    "ci_0 = stats.t.interval(confidence, len(list_0) - 1, loc=np.mean(list_0), scale=stats.sem(list_0))\n",
    "ci_1 = stats.t.interval(confidence, len(list_1) - 1, loc=np.mean(list_1), scale=stats.sem(list_1))\n",
    "ci_2 = stats.t.interval(confidence, len(list_2) - 1, loc=np.mean(list_2), scale=stats.sem(list_2))\n",
    "\n",
    "CI_F1_class = {0: ci_0, 1: ci_1, 2: ci_2}\n",
    "scores['F1_CI'].append(CI_F1_class)\n",
    "list_0 = list(d[0] for d in accy)\n",
    "list_1 = list(d[1] for d in accy)\n",
    "list_2 = list(d[2] for d in accy)\n",
    "\n",
    "avg_accy_class = {0: np.mean(list_0), 1: np.mean(list_1), 2: np.mean(list_2)}\n",
    "scores['Accy_mean'].append(avg_accy_class)\n",
    "sd_accy_class = {0: np.std(list_0), 1: np.std(list_1), 2: np.std(list_2)}\n",
    "scores['Accy_sd'].append(sd_accy_class)\n",
    "\n",
    "ci_0 = stats.t.interval(confidence, len(list_0) - 1, loc=np.mean(list_0), scale=stats.sem(list_0))\n",
    "ci_1 = stats.t.interval(confidence, len(list_1) - 1, loc=np.mean(list_1), scale=stats.sem(list_1))\n",
    "ci_2 = stats.t.interval(confidence, len(list_2) - 1, loc=np.mean(list_2), scale=stats.sem(list_2))\n",
    "\n",
    "CI_accy_class = {0: ci_0, 1: ci_1, 2: ci_2}\n",
    "scores['Accy_CI'].append(CI_accy_class)"
   ],
   "metadata": {
    "collapsed": false,
    "ExecuteTime": {
     "start_time": "2023-07-25T16:57:38.096977Z",
     "end_time": "2023-07-25T16:57:38.137514Z"
    }
   }
  },
  {
   "cell_type": "code",
   "execution_count": 22,
   "outputs": [
    {
     "data": {
      "text/plain": "{'acc': [0.5615384615384615],\n 'SD_acc': [0.1617625716095135],\n 'CI_acc': [(0.43956100819517374, 0.6835159148817493)],\n 'auc_tot': 0.5705648404549329,\n 'SD_auc_tot': [0.06153658569368196],\n 'CI_auc_tot': [(0.5241630310890705, 0.6169666498207954)],\n 'auc_class': [{0: 0.6282558139534883,\n   1: 0.5366438356164382,\n   2: 0.5467948717948719}],\n 'SD_auc_class': [{0: 0.10336293678548139,\n   1: 0.05133350367798552,\n   2: 0.060951393100088805}],\n 'CI_auc_class': [{0: (0.5503147446830813, 0.7061968832238953),\n   1: (0.4979356846051896, 0.5753519866276869),\n   2: (0.5008343283014026, 0.5927554152883411)}],\n 'Sen_mean': [{0: 46.0, 1: 62.32876712328766, 2: 25.384615384615383}],\n 'Sen_CI': [{0: (21.635821717999946, 70.36417828200005),\n   1: (43.820532494464665, 80.83700175211067),\n   2: (3.673744992154024, 47.095485777076746)}],\n 'Sen_SD': [{0: 32.31098884280702, 1: 24.54502489968084, 2: 28.792257341866}],\n 'Spe_mean': [{0: 79.65116279069768,\n   1: 44.99999999999999,\n   2: 83.97435897435896}],\n 'Spe_CI': [{0: (65.764108900087, 93.53821668130837),\n   1: (23.767014340446917, 66.23298565955307),\n   2: (67.61826246726163, 100.3304554814563)}],\n 'Spe_sd': [{0: 18.41656378169252,\n   1: 28.158501994387084,\n   2: 21.690928609857217}],\n 'Pre_mean': [{0: 22.528168863173683,\n   1: 83.57638593246868,\n   2: 22.606709956709956}],\n 'Pre_CI': [{0: (0.7200550510648114, 44.336282675282554),\n   1: (80.23776890257325, 86.91500296236411),\n   2: (8.465635316864354, 36.74778459655556)}],\n 'Pre_sd': [{0: 28.921218434290303,\n   1: 4.427566419633889,\n   2: 18.753437921233463}],\n 'F1_mean': [{0: nan, 1: 67.59333473332156, 2: nan}],\n 'F1_CI': [{0: (nan, nan),\n   1: (53.2719244342481, 81.914745032395),\n   2: (nan, nan)}],\n 'F1_sd': [{0: nan, 1: 18.99259326666845, 2: nan}],\n 'Accy_mean': [{0: 77.8021978021978,\n   1: 58.9010989010989,\n   2: 75.60439560439559}],\n 'Accy_CI': [{0: (65.72693794598042, 89.87745765841517),\n   1: (47.8694356112707, 69.9327621909271),\n   2: (64.37777227605575, 86.83101893273543)}],\n 'Accy_sd': [{0: 16.013820863249993,\n   1: 14.629836695070432,\n   2: 14.888386421485666}]}"
     },
     "execution_count": 22,
     "metadata": {},
     "output_type": "execute_result"
    }
   ],
   "source": [
    "scores"
   ],
   "metadata": {
    "collapsed": false,
    "ExecuteTime": {
     "start_time": "2023-07-25T17:01:50.183416Z",
     "end_time": "2023-07-25T17:01:50.288258Z"
    }
   }
  },
  {
   "cell_type": "markdown",
   "source": [
    "## Shuffling rpresentation"
   ],
   "metadata": {
    "collapsed": false
   }
  },
  {
   "cell_type": "code",
   "execution_count": 23,
   "outputs": [
    {
     "name": "stdout",
     "output_type": "stream",
     "text": [
      "Loaded pretrained weights for efficientnet-b0\n",
      "TRAINING\n"
     ]
    },
    {
     "name": "stderr",
     "output_type": "stream",
     "text": [
      "Training Progress:   2%|▏         | 1/50 [00:12<10:07, 12.40s/it]"
     ]
    },
    {
     "name": "stdout",
     "output_type": "stream",
     "text": [
      "------------------------------------------------------------------------------------------------------------------------------------------\n",
      "Epoch [1/50]: Train Loss: 1.1437 | Val Loss: 1.0116 | Val Acc: 35.56%\n",
      "Validation loss decreased (inf --> 1.011626).  Saving model ...\n"
     ]
    },
    {
     "name": "stderr",
     "output_type": "stream",
     "text": [
      "Training Progress:   4%|▍         | 2/50 [00:22<08:55, 11.15s/it]"
     ]
    },
    {
     "name": "stdout",
     "output_type": "stream",
     "text": [
      "------------------------------------------------------------------------------------------------------------------------------------------\n",
      "Epoch [2/50]: Train Loss: 1.0583 | Val Loss: 1.0114 | Val Acc: 26.67%\n",
      "Validation loss decreased (1.011626 --> 1.011418).  Saving model ...\n"
     ]
    },
    {
     "name": "stderr",
     "output_type": "stream",
     "text": [
      "Training Progress:   6%|▌         | 3/50 [00:32<08:22, 10.69s/it]"
     ]
    },
    {
     "name": "stdout",
     "output_type": "stream",
     "text": [
      "------------------------------------------------------------------------------------------------------------------------------------------\n",
      "Epoch [3/50]: Train Loss: 0.6718 | Val Loss: 0.9894 | Val Acc: 28.89%\n",
      "Validation loss decreased (1.011418 --> 0.989447).  Saving model ...\n"
     ]
    },
    {
     "name": "stderr",
     "output_type": "stream",
     "text": [
      "Training Progress:   8%|▊         | 4/50 [00:43<08:08, 10.61s/it]"
     ]
    },
    {
     "name": "stdout",
     "output_type": "stream",
     "text": [
      "------------------------------------------------------------------------------------------------------------------------------------------\n",
      "Epoch [4/50]: Train Loss: 0.7010 | Val Loss: 1.4665 | Val Acc: 28.89%\n",
      "EarlyStopping counter: 1 out of 10\n"
     ]
    },
    {
     "name": "stderr",
     "output_type": "stream",
     "text": [
      "Training Progress:  10%|█         | 5/50 [00:55<08:17, 11.05s/it]"
     ]
    },
    {
     "name": "stdout",
     "output_type": "stream",
     "text": [
      "------------------------------------------------------------------------------------------------------------------------------------------\n",
      "Epoch [5/50]: Train Loss: 0.6986 | Val Loss: 1.9245 | Val Acc: 24.44%\n",
      "EarlyStopping counter: 2 out of 10\n"
     ]
    },
    {
     "name": "stderr",
     "output_type": "stream",
     "text": [
      "Training Progress:  12%|█▏        | 6/50 [01:09<09:01, 12.30s/it]"
     ]
    },
    {
     "name": "stdout",
     "output_type": "stream",
     "text": [
      "------------------------------------------------------------------------------------------------------------------------------------------\n",
      "Epoch [6/50]: Train Loss: 0.6436 | Val Loss: 1.4290 | Val Acc: 26.67%\n",
      "EarlyStopping counter: 3 out of 10\n"
     ]
    },
    {
     "name": "stderr",
     "output_type": "stream",
     "text": [
      "Training Progress:  14%|█▍        | 7/50 [01:20<08:21, 11.67s/it]"
     ]
    },
    {
     "name": "stdout",
     "output_type": "stream",
     "text": [
      "------------------------------------------------------------------------------------------------------------------------------------------\n",
      "Epoch [7/50]: Train Loss: 0.2154 | Val Loss: 1.0780 | Val Acc: 26.67%\n",
      "EarlyStopping counter: 4 out of 10\n"
     ]
    },
    {
     "name": "stderr",
     "output_type": "stream",
     "text": [
      "Training Progress:  16%|█▌        | 8/50 [01:31<07:58, 11.40s/it]"
     ]
    },
    {
     "name": "stdout",
     "output_type": "stream",
     "text": [
      "------------------------------------------------------------------------------------------------------------------------------------------\n",
      "Epoch [8/50]: Train Loss: 1.0508 | Val Loss: 1.1680 | Val Acc: 20.00%\n",
      "EarlyStopping counter: 5 out of 10\n"
     ]
    },
    {
     "name": "stderr",
     "output_type": "stream",
     "text": [
      "Training Progress:  18%|█▊        | 9/50 [01:41<07:33, 11.06s/it]"
     ]
    },
    {
     "name": "stdout",
     "output_type": "stream",
     "text": [
      "------------------------------------------------------------------------------------------------------------------------------------------\n",
      "Epoch [9/50]: Train Loss: 0.4408 | Val Loss: 1.4908 | Val Acc: 13.33%\n",
      "EarlyStopping counter: 6 out of 10\n"
     ]
    },
    {
     "name": "stderr",
     "output_type": "stream",
     "text": [
      "Training Progress:  20%|██        | 10/50 [01:51<07:09, 10.74s/it]"
     ]
    },
    {
     "name": "stdout",
     "output_type": "stream",
     "text": [
      "------------------------------------------------------------------------------------------------------------------------------------------\n",
      "Epoch [10/50]: Train Loss: 0.4926 | Val Loss: 1.8324 | Val Acc: 17.78%\n",
      "EarlyStopping counter: 7 out of 10\n"
     ]
    },
    {
     "name": "stderr",
     "output_type": "stream",
     "text": [
      "Training Progress:  22%|██▏       | 11/50 [02:00<06:42, 10.31s/it]"
     ]
    },
    {
     "name": "stdout",
     "output_type": "stream",
     "text": [
      "------------------------------------------------------------------------------------------------------------------------------------------\n",
      "Epoch [11/50]: Train Loss: 0.3134 | Val Loss: 2.1351 | Val Acc: 8.89%\n",
      "EarlyStopping counter: 8 out of 10\n"
     ]
    },
    {
     "name": "stderr",
     "output_type": "stream",
     "text": [
      "Training Progress:  24%|██▍       | 12/50 [02:11<06:35, 10.41s/it]"
     ]
    },
    {
     "name": "stdout",
     "output_type": "stream",
     "text": [
      "------------------------------------------------------------------------------------------------------------------------------------------\n",
      "Epoch [12/50]: Train Loss: 0.9845 | Val Loss: 1.9962 | Val Acc: 11.11%\n",
      "EarlyStopping counter: 9 out of 10\n"
     ]
    },
    {
     "name": "stderr",
     "output_type": "stream",
     "text": [
      "Training Progress:  24%|██▍       | 12/50 [02:22<07:32, 11.90s/it]"
     ]
    },
    {
     "name": "stdout",
     "output_type": "stream",
     "text": [
      "------------------------------------------------------------------------------------------------------------------------------------------\n",
      "Epoch [13/50]: Train Loss: 0.2096 | Val Loss: 2.2067 | Val Acc: 8.89%\n",
      "EarlyStopping counter: 10 out of 10\n",
      "Early stopping\n"
     ]
    },
    {
     "name": "stderr",
     "output_type": "stream",
     "text": [
      "\n"
     ]
    },
    {
     "name": "stdout",
     "output_type": "stream",
     "text": [
      "Test Loss: 1.468256\n",
      "\n",
      "Test Accuracy of     0: 100% ( 5/ 5)\n",
      "Test Accuracy of     1:  0% ( 0/73)\n",
      "Test Accuracy of     2: 61% ( 8/13)\n",
      "\n",
      "Test Accuracy (Overall): 14% (13/91)\n",
      "[[ 5  0  0]\n",
      " [35  0 38]\n",
      " [ 5  0  8]]\n"
     ]
    },
    {
     "name": "stderr",
     "output_type": "stream",
     "text": [
      "/home/amillanruiz/PycharmProjects/pythonProject/utils.py:90: RuntimeWarning: invalid value encountered in scalar divide\n",
      "  precision[i] = 100*(tp / (tp + fp))\n",
      "/home/amillanruiz/PycharmProjects/pythonProject/utils.py:107: RuntimeWarning: invalid value encountered in scalar divide\n",
      "  precision = tp / (tp + fp)\n"
     ]
    },
    {
     "name": "stdout",
     "output_type": "stream",
     "text": [
      "Loaded pretrained weights for efficientnet-b0\n",
      "TRAINING\n"
     ]
    },
    {
     "name": "stderr",
     "output_type": "stream",
     "text": [
      "Training Progress:   2%|▏         | 1/50 [00:10<08:12, 10.06s/it]"
     ]
    },
    {
     "name": "stdout",
     "output_type": "stream",
     "text": [
      "------------------------------------------------------------------------------------------------------------------------------------------\n",
      "Epoch [1/50]: Train Loss: 1.0125 | Val Loss: 1.0263 | Val Acc: 32.26%\n",
      "Validation loss decreased (inf --> 1.026258).  Saving model ...\n"
     ]
    },
    {
     "name": "stderr",
     "output_type": "stream",
     "text": [
      "Training Progress:   4%|▍         | 2/50 [00:20<08:10, 10.23s/it]"
     ]
    },
    {
     "name": "stdout",
     "output_type": "stream",
     "text": [
      "------------------------------------------------------------------------------------------------------------------------------------------\n",
      "Epoch [2/50]: Train Loss: 0.6955 | Val Loss: 1.0464 | Val Acc: 25.81%\n",
      "EarlyStopping counter: 1 out of 10\n"
     ]
    },
    {
     "name": "stderr",
     "output_type": "stream",
     "text": [
      "Training Progress:   6%|▌         | 3/50 [00:31<08:24, 10.73s/it]"
     ]
    },
    {
     "name": "stdout",
     "output_type": "stream",
     "text": [
      "------------------------------------------------------------------------------------------------------------------------------------------\n",
      "Epoch [3/50]: Train Loss: 0.6517 | Val Loss: 0.9646 | Val Acc: 22.58%\n",
      "Validation loss decreased (1.026258 --> 0.964563).  Saving model ...\n"
     ]
    },
    {
     "name": "stderr",
     "output_type": "stream",
     "text": [
      "Training Progress:   8%|▊         | 4/50 [00:42<08:10, 10.66s/it]"
     ]
    },
    {
     "name": "stdout",
     "output_type": "stream",
     "text": [
      "------------------------------------------------------------------------------------------------------------------------------------------\n",
      "Epoch [4/50]: Train Loss: 0.5872 | Val Loss: 1.5741 | Val Acc: 19.35%\n",
      "EarlyStopping counter: 1 out of 10\n"
     ]
    },
    {
     "name": "stderr",
     "output_type": "stream",
     "text": [
      "Training Progress:  10%|█         | 5/50 [00:53<08:10, 10.89s/it]"
     ]
    },
    {
     "name": "stdout",
     "output_type": "stream",
     "text": [
      "------------------------------------------------------------------------------------------------------------------------------------------\n",
      "Epoch [5/50]: Train Loss: 0.2732 | Val Loss: 2.1747 | Val Acc: 19.35%\n",
      "EarlyStopping counter: 2 out of 10\n"
     ]
    },
    {
     "name": "stderr",
     "output_type": "stream",
     "text": [
      "Training Progress:  12%|█▏        | 6/50 [01:05<08:10, 11.15s/it]"
     ]
    },
    {
     "name": "stdout",
     "output_type": "stream",
     "text": [
      "------------------------------------------------------------------------------------------------------------------------------------------\n",
      "Epoch [6/50]: Train Loss: 0.5563 | Val Loss: 1.9652 | Val Acc: 38.71%\n",
      "EarlyStopping counter: 3 out of 10\n"
     ]
    },
    {
     "name": "stderr",
     "output_type": "stream",
     "text": [
      "Training Progress:  14%|█▍        | 7/50 [01:15<07:53, 11.01s/it]"
     ]
    },
    {
     "name": "stdout",
     "output_type": "stream",
     "text": [
      "------------------------------------------------------------------------------------------------------------------------------------------\n",
      "Epoch [7/50]: Train Loss: 0.3266 | Val Loss: 2.4269 | Val Acc: 38.71%\n",
      "EarlyStopping counter: 4 out of 10\n"
     ]
    },
    {
     "name": "stderr",
     "output_type": "stream",
     "text": [
      "Training Progress:  16%|█▌        | 8/50 [01:27<07:43, 11.02s/it]"
     ]
    },
    {
     "name": "stdout",
     "output_type": "stream",
     "text": [
      "------------------------------------------------------------------------------------------------------------------------------------------\n",
      "Epoch [8/50]: Train Loss: 0.1256 | Val Loss: 3.3604 | Val Acc: 32.26%\n",
      "EarlyStopping counter: 5 out of 10\n"
     ]
    },
    {
     "name": "stderr",
     "output_type": "stream",
     "text": [
      "Training Progress:  18%|█▊        | 9/50 [01:37<07:21, 10.77s/it]"
     ]
    },
    {
     "name": "stdout",
     "output_type": "stream",
     "text": [
      "------------------------------------------------------------------------------------------------------------------------------------------\n",
      "Epoch [9/50]: Train Loss: 0.1738 | Val Loss: 3.2499 | Val Acc: 35.48%\n",
      "EarlyStopping counter: 6 out of 10\n"
     ]
    },
    {
     "name": "stderr",
     "output_type": "stream",
     "text": [
      "Training Progress:  20%|██        | 10/50 [01:47<06:59, 10.49s/it]"
     ]
    },
    {
     "name": "stdout",
     "output_type": "stream",
     "text": [
      "------------------------------------------------------------------------------------------------------------------------------------------\n",
      "Epoch [10/50]: Train Loss: 0.2398 | Val Loss: 3.3250 | Val Acc: 48.39%\n",
      "EarlyStopping counter: 7 out of 10\n"
     ]
    },
    {
     "name": "stderr",
     "output_type": "stream",
     "text": [
      "Training Progress:  22%|██▏       | 11/50 [01:57<06:48, 10.47s/it]"
     ]
    },
    {
     "name": "stdout",
     "output_type": "stream",
     "text": [
      "------------------------------------------------------------------------------------------------------------------------------------------\n",
      "Epoch [11/50]: Train Loss: 0.1647 | Val Loss: 2.7272 | Val Acc: 48.39%\n",
      "EarlyStopping counter: 8 out of 10\n"
     ]
    },
    {
     "name": "stderr",
     "output_type": "stream",
     "text": [
      "Training Progress:  24%|██▍       | 12/50 [02:08<06:38, 10.50s/it]"
     ]
    },
    {
     "name": "stdout",
     "output_type": "stream",
     "text": [
      "------------------------------------------------------------------------------------------------------------------------------------------\n",
      "Epoch [12/50]: Train Loss: 0.0568 | Val Loss: 3.0989 | Val Acc: 41.94%\n",
      "EarlyStopping counter: 9 out of 10\n"
     ]
    },
    {
     "name": "stderr",
     "output_type": "stream",
     "text": [
      "Training Progress:  24%|██▍       | 12/50 [02:20<07:24, 11.70s/it]"
     ]
    },
    {
     "name": "stdout",
     "output_type": "stream",
     "text": [
      "------------------------------------------------------------------------------------------------------------------------------------------\n",
      "Epoch [13/50]: Train Loss: 0.8948 | Val Loss: 1.1555 | Val Acc: 35.48%\n",
      "EarlyStopping counter: 10 out of 10\n",
      "Early stopping\n"
     ]
    },
    {
     "name": "stderr",
     "output_type": "stream",
     "text": [
      "\n"
     ]
    },
    {
     "name": "stdout",
     "output_type": "stream",
     "text": [
      "Test Loss: 1.088958\n",
      "\n",
      "Test Accuracy of     0: 100% ( 5/ 5)\n",
      "Test Accuracy of     1: 36% (27/73)\n",
      "Test Accuracy of     2:  7% ( 1/13)\n",
      "\n",
      "Test Accuracy (Overall): 36% (33/91)\n",
      "[[ 5  0  0]\n",
      " [44 27  2]\n",
      " [ 3  9  1]]\n",
      "Loaded pretrained weights for efficientnet-b0\n",
      "TRAINING\n"
     ]
    },
    {
     "name": "stderr",
     "output_type": "stream",
     "text": [
      "Training Progress:   2%|▏         | 1/50 [00:12<10:27, 12.81s/it]"
     ]
    },
    {
     "name": "stdout",
     "output_type": "stream",
     "text": [
      "------------------------------------------------------------------------------------------------------------------------------------------\n",
      "Epoch [1/50]: Train Loss: 0.9888 | Val Loss: 1.1121 | Val Acc: 76.00%\n",
      "Validation loss decreased (inf --> 1.112128).  Saving model ...\n"
     ]
    },
    {
     "name": "stderr",
     "output_type": "stream",
     "text": [
      "Training Progress:   4%|▍         | 2/50 [00:27<11:17, 14.12s/it]"
     ]
    },
    {
     "name": "stdout",
     "output_type": "stream",
     "text": [
      "------------------------------------------------------------------------------------------------------------------------------------------\n",
      "Epoch [2/50]: Train Loss: 0.6084 | Val Loss: 0.9185 | Val Acc: 72.00%\n",
      "Validation loss decreased (1.112128 --> 0.918511).  Saving model ...\n"
     ]
    },
    {
     "name": "stderr",
     "output_type": "stream",
     "text": [
      "Training Progress:   6%|▌         | 3/50 [00:41<10:51, 13.87s/it]"
     ]
    },
    {
     "name": "stdout",
     "output_type": "stream",
     "text": [
      "------------------------------------------------------------------------------------------------------------------------------------------\n",
      "Epoch [3/50]: Train Loss: 2.1384 | Val Loss: 1.1154 | Val Acc: 48.00%\n",
      "EarlyStopping counter: 1 out of 10\n"
     ]
    },
    {
     "name": "stderr",
     "output_type": "stream",
     "text": [
      "Training Progress:   8%|▊         | 4/50 [00:58<11:39, 15.21s/it]"
     ]
    },
    {
     "name": "stdout",
     "output_type": "stream",
     "text": [
      "------------------------------------------------------------------------------------------------------------------------------------------\n",
      "Epoch [4/50]: Train Loss: 0.6211 | Val Loss: 1.3487 | Val Acc: 20.00%\n",
      "EarlyStopping counter: 2 out of 10\n"
     ]
    },
    {
     "name": "stderr",
     "output_type": "stream",
     "text": [
      "Training Progress:  10%|█         | 5/50 [01:19<12:48, 17.09s/it]"
     ]
    },
    {
     "name": "stdout",
     "output_type": "stream",
     "text": [
      "------------------------------------------------------------------------------------------------------------------------------------------\n",
      "Epoch [5/50]: Train Loss: 0.5904 | Val Loss: 1.3239 | Val Acc: 36.00%\n",
      "EarlyStopping counter: 3 out of 10\n"
     ]
    },
    {
     "name": "stderr",
     "output_type": "stream",
     "text": [
      "Training Progress:  12%|█▏        | 6/50 [01:33<11:49, 16.12s/it]"
     ]
    },
    {
     "name": "stdout",
     "output_type": "stream",
     "text": [
      "------------------------------------------------------------------------------------------------------------------------------------------\n",
      "Epoch [6/50]: Train Loss: 0.4061 | Val Loss: 1.3738 | Val Acc: 52.00%\n",
      "EarlyStopping counter: 4 out of 10\n"
     ]
    },
    {
     "name": "stderr",
     "output_type": "stream",
     "text": [
      "Training Progress:  14%|█▍        | 7/50 [01:44<10:26, 14.58s/it]"
     ]
    },
    {
     "name": "stdout",
     "output_type": "stream",
     "text": [
      "------------------------------------------------------------------------------------------------------------------------------------------\n",
      "Epoch [7/50]: Train Loss: 0.2845 | Val Loss: 2.4258 | Val Acc: 64.00%\n",
      "EarlyStopping counter: 5 out of 10\n"
     ]
    },
    {
     "name": "stderr",
     "output_type": "stream",
     "text": [
      "Training Progress:  16%|█▌        | 8/50 [01:55<09:20, 13.35s/it]"
     ]
    },
    {
     "name": "stdout",
     "output_type": "stream",
     "text": [
      "------------------------------------------------------------------------------------------------------------------------------------------\n",
      "Epoch [8/50]: Train Loss: 1.9400 | Val Loss: 2.8269 | Val Acc: 64.00%\n",
      "EarlyStopping counter: 6 out of 10\n"
     ]
    },
    {
     "name": "stderr",
     "output_type": "stream",
     "text": [
      "Training Progress:  18%|█▊        | 9/50 [02:08<08:59, 13.16s/it]"
     ]
    },
    {
     "name": "stdout",
     "output_type": "stream",
     "text": [
      "------------------------------------------------------------------------------------------------------------------------------------------\n",
      "Epoch [9/50]: Train Loss: 0.3414 | Val Loss: 2.4476 | Val Acc: 60.00%\n",
      "EarlyStopping counter: 7 out of 10\n"
     ]
    },
    {
     "name": "stderr",
     "output_type": "stream",
     "text": [
      "Training Progress:  20%|██        | 10/50 [02:26<09:45, 14.64s/it]"
     ]
    },
    {
     "name": "stdout",
     "output_type": "stream",
     "text": [
      "------------------------------------------------------------------------------------------------------------------------------------------\n",
      "Epoch [10/50]: Train Loss: 0.2258 | Val Loss: 2.2407 | Val Acc: 48.00%\n",
      "EarlyStopping counter: 8 out of 10\n"
     ]
    },
    {
     "name": "stderr",
     "output_type": "stream",
     "text": [
      "Training Progress:  22%|██▏       | 11/50 [02:43<10:08, 15.61s/it]"
     ]
    },
    {
     "name": "stdout",
     "output_type": "stream",
     "text": [
      "------------------------------------------------------------------------------------------------------------------------------------------\n",
      "Epoch [11/50]: Train Loss: 0.2379 | Val Loss: 1.8619 | Val Acc: 44.00%\n",
      "EarlyStopping counter: 9 out of 10\n"
     ]
    },
    {
     "name": "stderr",
     "output_type": "stream",
     "text": [
      "Training Progress:  22%|██▏       | 11/50 [02:58<10:34, 16.26s/it]"
     ]
    },
    {
     "name": "stdout",
     "output_type": "stream",
     "text": [
      "------------------------------------------------------------------------------------------------------------------------------------------\n",
      "Epoch [12/50]: Train Loss: 2.2864 | Val Loss: 2.2352 | Val Acc: 20.00%\n",
      "EarlyStopping counter: 10 out of 10\n",
      "Early stopping\n"
     ]
    },
    {
     "name": "stderr",
     "output_type": "stream",
     "text": [
      "\n"
     ]
    },
    {
     "name": "stdout",
     "output_type": "stream",
     "text": [
      "Test Loss: 1.026566\n",
      "\n",
      "Test Accuracy of     0: 80% ( 4/ 5)\n",
      "Test Accuracy of     1: 47% (35/73)\n",
      "Test Accuracy of     2:  0% ( 0/13)\n",
      "\n",
      "Test Accuracy (Overall): 42% (39/91)\n",
      "[[ 4  1  0]\n",
      " [35 35  3]\n",
      " [ 3 10  0]]\n"
     ]
    },
    {
     "name": "stderr",
     "output_type": "stream",
     "text": [
      "/home/amillanruiz/PycharmProjects/pythonProject/utils.py:109: RuntimeWarning: invalid value encountered in scalar divide\n",
      "  f1_scores[i] = 2 * ((precision * recall) / (precision + recall)) * 100\n"
     ]
    },
    {
     "name": "stdout",
     "output_type": "stream",
     "text": [
      "Loaded pretrained weights for efficientnet-b0\n",
      "TRAINING\n"
     ]
    },
    {
     "name": "stderr",
     "output_type": "stream",
     "text": [
      "Training Progress:   0%|          | 0/50 [00:00<?, ?it/s]"
     ]
    },
    {
     "name": "stdout",
     "output_type": "stream",
     "text": [
      "------------------------------------------------------------------------------------------------------------------------------------------\n",
      "Epoch [1/50]: Train Loss: 1.2486 | Val Loss: 1.4317 | Val Acc: 10.53%\n",
      "Validation loss decreased (inf --> 1.431666).  Saving model ...\n"
     ]
    },
    {
     "name": "stderr",
     "output_type": "stream",
     "text": [
      "Training Progress:   4%|▍         | 2/50 [00:21<08:46, 10.97s/it]"
     ]
    },
    {
     "name": "stdout",
     "output_type": "stream",
     "text": [
      "------------------------------------------------------------------------------------------------------------------------------------------\n",
      "Epoch [2/50]: Train Loss: 0.7612 | Val Loss: 1.3434 | Val Acc: 15.79%\n",
      "Validation loss decreased (1.431666 --> 1.343437).  Saving model ...\n"
     ]
    },
    {
     "name": "stderr",
     "output_type": "stream",
     "text": [
      "Training Progress:   6%|▌         | 3/50 [00:40<11:32, 14.74s/it]"
     ]
    },
    {
     "name": "stdout",
     "output_type": "stream",
     "text": [
      "------------------------------------------------------------------------------------------------------------------------------------------\n",
      "Epoch [3/50]: Train Loss: 0.7984 | Val Loss: 1.8499 | Val Acc: 10.53%\n",
      "EarlyStopping counter: 1 out of 10\n"
     ]
    },
    {
     "name": "stderr",
     "output_type": "stream",
     "text": [
      "Training Progress:   8%|▊         | 4/50 [00:57<11:43, 15.29s/it]"
     ]
    },
    {
     "name": "stdout",
     "output_type": "stream",
     "text": [
      "------------------------------------------------------------------------------------------------------------------------------------------\n",
      "Epoch [4/50]: Train Loss: 0.5655 | Val Loss: 2.0401 | Val Acc: 15.79%\n",
      "EarlyStopping counter: 2 out of 10\n"
     ]
    },
    {
     "name": "stderr",
     "output_type": "stream",
     "text": [
      "Training Progress:  10%|█         | 5/50 [01:11<11:05, 14.80s/it]"
     ]
    },
    {
     "name": "stdout",
     "output_type": "stream",
     "text": [
      "------------------------------------------------------------------------------------------------------------------------------------------\n",
      "Epoch [5/50]: Train Loss: 0.4617 | Val Loss: 1.6687 | Val Acc: 21.05%\n",
      "EarlyStopping counter: 3 out of 10\n"
     ]
    },
    {
     "name": "stderr",
     "output_type": "stream",
     "text": [
      "Training Progress:  12%|█▏        | 6/50 [01:21<09:48, 13.38s/it]"
     ]
    },
    {
     "name": "stdout",
     "output_type": "stream",
     "text": [
      "------------------------------------------------------------------------------------------------------------------------------------------\n",
      "Epoch [6/50]: Train Loss: 0.7640 | Val Loss: 1.7661 | Val Acc: 18.42%\n",
      "EarlyStopping counter: 4 out of 10\n"
     ]
    },
    {
     "name": "stderr",
     "output_type": "stream",
     "text": [
      "Training Progress:  14%|█▍        | 7/50 [01:35<09:39, 13.49s/it]"
     ]
    },
    {
     "name": "stdout",
     "output_type": "stream",
     "text": [
      "------------------------------------------------------------------------------------------------------------------------------------------\n",
      "Epoch [7/50]: Train Loss: 0.5237 | Val Loss: 2.3259 | Val Acc: 26.32%\n",
      "EarlyStopping counter: 5 out of 10\n"
     ]
    },
    {
     "name": "stderr",
     "output_type": "stream",
     "text": [
      "Training Progress:  16%|█▌        | 8/50 [01:46<09:00, 12.88s/it]"
     ]
    },
    {
     "name": "stdout",
     "output_type": "stream",
     "text": [
      "------------------------------------------------------------------------------------------------------------------------------------------\n",
      "Epoch [8/50]: Train Loss: 0.2130 | Val Loss: 2.6639 | Val Acc: 26.32%\n",
      "EarlyStopping counter: 6 out of 10\n"
     ]
    },
    {
     "name": "stderr",
     "output_type": "stream",
     "text": [
      "Training Progress:  18%|█▊        | 9/50 [02:08<10:41, 15.66s/it]"
     ]
    },
    {
     "name": "stdout",
     "output_type": "stream",
     "text": [
      "------------------------------------------------------------------------------------------------------------------------------------------\n",
      "Epoch [9/50]: Train Loss: 0.1652 | Val Loss: 3.8707 | Val Acc: 28.95%\n",
      "EarlyStopping counter: 7 out of 10\n"
     ]
    },
    {
     "name": "stderr",
     "output_type": "stream",
     "text": [
      "Training Progress:  20%|██        | 10/50 [02:22<10:06, 15.16s/it]"
     ]
    },
    {
     "name": "stdout",
     "output_type": "stream",
     "text": [
      "------------------------------------------------------------------------------------------------------------------------------------------\n",
      "Epoch [10/50]: Train Loss: 0.1927 | Val Loss: 5.0670 | Val Acc: 34.21%\n",
      "EarlyStopping counter: 8 out of 10\n"
     ]
    },
    {
     "name": "stderr",
     "output_type": "stream",
     "text": [
      "Training Progress:  22%|██▏       | 11/50 [02:34<09:07, 14.03s/it]"
     ]
    },
    {
     "name": "stdout",
     "output_type": "stream",
     "text": [
      "------------------------------------------------------------------------------------------------------------------------------------------\n",
      "Epoch [11/50]: Train Loss: 0.0616 | Val Loss: 3.8850 | Val Acc: 36.84%\n",
      "EarlyStopping counter: 9 out of 10\n"
     ]
    },
    {
     "name": "stderr",
     "output_type": "stream",
     "text": [
      "Training Progress:  22%|██▏       | 11/50 [02:45<09:47, 15.07s/it]"
     ]
    },
    {
     "name": "stdout",
     "output_type": "stream",
     "text": [
      "------------------------------------------------------------------------------------------------------------------------------------------\n",
      "Epoch [12/50]: Train Loss: 0.0646 | Val Loss: 4.4195 | Val Acc: 39.47%\n",
      "EarlyStopping counter: 10 out of 10\n",
      "Early stopping\n"
     ]
    },
    {
     "name": "stderr",
     "output_type": "stream",
     "text": [
      "\n"
     ]
    },
    {
     "name": "stdout",
     "output_type": "stream",
     "text": [
      "Test Loss: 0.982137\n",
      "\n",
      "Test Accuracy of     0: 20% ( 1/ 5)\n",
      "Test Accuracy of     1: 60% (44/73)\n",
      "Test Accuracy of     2:  0% ( 0/13)\n",
      "\n",
      "Test Accuracy (Overall): 49% (45/91)\n",
      "[[ 1  4  0]\n",
      " [ 5 44 24]\n",
      " [ 1 12  0]]\n"
     ]
    },
    {
     "name": "stderr",
     "output_type": "stream",
     "text": [
      "/home/amillanruiz/PycharmProjects/pythonProject/utils.py:109: RuntimeWarning: invalid value encountered in scalar divide\n",
      "  f1_scores[i] = 2 * ((precision * recall) / (precision + recall)) * 100\n"
     ]
    },
    {
     "name": "stdout",
     "output_type": "stream",
     "text": [
      "Loaded pretrained weights for efficientnet-b0\n",
      "TRAINING\n"
     ]
    },
    {
     "name": "stderr",
     "output_type": "stream",
     "text": [
      "Training Progress:   2%|▏         | 1/50 [00:19<15:59, 19.59s/it]"
     ]
    },
    {
     "name": "stdout",
     "output_type": "stream",
     "text": [
      "------------------------------------------------------------------------------------------------------------------------------------------\n",
      "Epoch [1/50]: Train Loss: 1.1773 | Val Loss: 1.1374 | Val Acc: 20.75%\n",
      "Validation loss decreased (inf --> 1.137385).  Saving model ...\n"
     ]
    },
    {
     "name": "stderr",
     "output_type": "stream",
     "text": [
      "Training Progress:   4%|▍         | 2/50 [00:35<13:58, 17.47s/it]"
     ]
    },
    {
     "name": "stdout",
     "output_type": "stream",
     "text": [
      "------------------------------------------------------------------------------------------------------------------------------------------\n",
      "Epoch [2/50]: Train Loss: 0.9645 | Val Loss: 1.2151 | Val Acc: 28.30%\n",
      "EarlyStopping counter: 1 out of 10\n"
     ]
    },
    {
     "name": "stderr",
     "output_type": "stream",
     "text": [
      "Training Progress:   6%|▌         | 3/50 [00:48<12:02, 15.37s/it]"
     ]
    },
    {
     "name": "stdout",
     "output_type": "stream",
     "text": [
      "------------------------------------------------------------------------------------------------------------------------------------------\n",
      "Epoch [3/50]: Train Loss: 0.9148 | Val Loss: 1.2615 | Val Acc: 47.17%\n",
      "EarlyStopping counter: 2 out of 10\n"
     ]
    },
    {
     "name": "stderr",
     "output_type": "stream",
     "text": [
      "Training Progress:   8%|▊         | 4/50 [00:58<10:03, 13.11s/it]"
     ]
    },
    {
     "name": "stdout",
     "output_type": "stream",
     "text": [
      "------------------------------------------------------------------------------------------------------------------------------------------\n",
      "Epoch [4/50]: Train Loss: 0.5365 | Val Loss: 1.5800 | Val Acc: 41.51%\n",
      "EarlyStopping counter: 3 out of 10\n"
     ]
    },
    {
     "name": "stderr",
     "output_type": "stream",
     "text": [
      "Training Progress:  10%|█         | 5/50 [01:09<09:23, 12.53s/it]"
     ]
    },
    {
     "name": "stdout",
     "output_type": "stream",
     "text": [
      "------------------------------------------------------------------------------------------------------------------------------------------\n",
      "Epoch [5/50]: Train Loss: 0.9652 | Val Loss: 2.1481 | Val Acc: 43.40%\n",
      "EarlyStopping counter: 4 out of 10\n"
     ]
    },
    {
     "name": "stderr",
     "output_type": "stream",
     "text": [
      "Training Progress:  12%|█▏        | 6/50 [01:20<08:52, 12.09s/it]"
     ]
    },
    {
     "name": "stdout",
     "output_type": "stream",
     "text": [
      "------------------------------------------------------------------------------------------------------------------------------------------\n",
      "Epoch [6/50]: Train Loss: 0.3863 | Val Loss: 2.1146 | Val Acc: 18.87%\n",
      "EarlyStopping counter: 5 out of 10\n"
     ]
    },
    {
     "name": "stderr",
     "output_type": "stream",
     "text": [
      "Training Progress:  14%|█▍        | 7/50 [01:40<10:26, 14.57s/it]"
     ]
    },
    {
     "name": "stdout",
     "output_type": "stream",
     "text": [
      "------------------------------------------------------------------------------------------------------------------------------------------\n",
      "Epoch [7/50]: Train Loss: 0.5567 | Val Loss: 3.0486 | Val Acc: 18.87%\n",
      "EarlyStopping counter: 6 out of 10\n"
     ]
    },
    {
     "name": "stderr",
     "output_type": "stream",
     "text": [
      "Training Progress:  16%|█▌        | 8/50 [01:52<09:38, 13.78s/it]"
     ]
    },
    {
     "name": "stdout",
     "output_type": "stream",
     "text": [
      "------------------------------------------------------------------------------------------------------------------------------------------\n",
      "Epoch [8/50]: Train Loss: 0.5860 | Val Loss: 2.5514 | Val Acc: 20.75%\n",
      "EarlyStopping counter: 7 out of 10\n"
     ]
    },
    {
     "name": "stderr",
     "output_type": "stream",
     "text": [
      "Training Progress:  18%|█▊        | 9/50 [02:03<08:52, 12.99s/it]"
     ]
    },
    {
     "name": "stdout",
     "output_type": "stream",
     "text": [
      "------------------------------------------------------------------------------------------------------------------------------------------\n",
      "Epoch [9/50]: Train Loss: 0.8095 | Val Loss: 1.8759 | Val Acc: 33.96%\n",
      "EarlyStopping counter: 8 out of 10\n"
     ]
    },
    {
     "name": "stderr",
     "output_type": "stream",
     "text": [
      "Training Progress:  20%|██        | 10/50 [02:13<08:04, 12.11s/it]"
     ]
    },
    {
     "name": "stdout",
     "output_type": "stream",
     "text": [
      "------------------------------------------------------------------------------------------------------------------------------------------\n",
      "Epoch [10/50]: Train Loss: 1.1135 | Val Loss: 1.5482 | Val Acc: 28.30%\n",
      "EarlyStopping counter: 9 out of 10\n"
     ]
    },
    {
     "name": "stderr",
     "output_type": "stream",
     "text": [
      "Training Progress:  20%|██        | 10/50 [02:26<09:45, 14.63s/it]"
     ]
    },
    {
     "name": "stdout",
     "output_type": "stream",
     "text": [
      "------------------------------------------------------------------------------------------------------------------------------------------\n",
      "Epoch [11/50]: Train Loss: 1.2646 | Val Loss: 1.8491 | Val Acc: 24.53%\n",
      "EarlyStopping counter: 10 out of 10\n",
      "Early stopping\n"
     ]
    },
    {
     "name": "stderr",
     "output_type": "stream",
     "text": [
      "\n"
     ]
    },
    {
     "name": "stdout",
     "output_type": "stream",
     "text": [
      "Test Loss: 1.152273\n",
      "\n",
      "Test Accuracy of     0: 100% ( 5/ 5)\n",
      "Test Accuracy of     1: 30% (22/73)\n",
      "Test Accuracy of     2:  7% ( 1/13)\n",
      "\n",
      "Test Accuracy (Overall): 30% (28/91)\n",
      "[[ 5  0  0]\n",
      " [51 22  0]\n",
      " [ 8  4  1]]\n",
      "Loaded pretrained weights for efficientnet-b0\n",
      "TRAINING\n"
     ]
    },
    {
     "name": "stderr",
     "output_type": "stream",
     "text": [
      "Training Progress:   2%|▏         | 1/50 [00:20<16:36, 20.34s/it]"
     ]
    },
    {
     "name": "stdout",
     "output_type": "stream",
     "text": [
      "------------------------------------------------------------------------------------------------------------------------------------------\n",
      "Epoch [1/50]: Train Loss: 0.9443 | Val Loss: 1.1635 | Val Acc: 11.11%\n",
      "Validation loss decreased (inf --> 1.163493).  Saving model ...\n"
     ]
    },
    {
     "name": "stderr",
     "output_type": "stream",
     "text": [
      "Training Progress:   4%|▍         | 2/50 [00:33<12:47, 15.99s/it]"
     ]
    },
    {
     "name": "stdout",
     "output_type": "stream",
     "text": [
      "------------------------------------------------------------------------------------------------------------------------------------------\n",
      "Epoch [2/50]: Train Loss: 1.0182 | Val Loss: 1.1829 | Val Acc: 11.11%\n",
      "EarlyStopping counter: 1 out of 10\n"
     ]
    },
    {
     "name": "stderr",
     "output_type": "stream",
     "text": [
      "Training Progress:   6%|▌         | 3/50 [00:44<10:40, 13.63s/it]"
     ]
    },
    {
     "name": "stdout",
     "output_type": "stream",
     "text": [
      "------------------------------------------------------------------------------------------------------------------------------------------\n",
      "Epoch [3/50]: Train Loss: 0.4492 | Val Loss: 1.4840 | Val Acc: 18.52%\n",
      "EarlyStopping counter: 2 out of 10\n"
     ]
    },
    {
     "name": "stderr",
     "output_type": "stream",
     "text": [
      "Training Progress:   8%|▊         | 4/50 [00:54<09:35, 12.51s/it]"
     ]
    },
    {
     "name": "stdout",
     "output_type": "stream",
     "text": [
      "------------------------------------------------------------------------------------------------------------------------------------------\n",
      "Epoch [4/50]: Train Loss: 0.3635 | Val Loss: 2.0286 | Val Acc: 18.52%\n",
      "EarlyStopping counter: 3 out of 10\n"
     ]
    },
    {
     "name": "stderr",
     "output_type": "stream",
     "text": [
      "Training Progress:  10%|█         | 5/50 [01:07<09:28, 12.63s/it]"
     ]
    },
    {
     "name": "stdout",
     "output_type": "stream",
     "text": [
      "------------------------------------------------------------------------------------------------------------------------------------------\n",
      "Epoch [5/50]: Train Loss: 0.4756 | Val Loss: 2.6156 | Val Acc: 22.22%\n",
      "EarlyStopping counter: 4 out of 10\n"
     ]
    },
    {
     "name": "stderr",
     "output_type": "stream",
     "text": [
      "Training Progress:  12%|█▏        | 6/50 [01:28<11:18, 15.43s/it]"
     ]
    },
    {
     "name": "stdout",
     "output_type": "stream",
     "text": [
      "------------------------------------------------------------------------------------------------------------------------------------------\n",
      "Epoch [6/50]: Train Loss: 0.4375 | Val Loss: 3.1099 | Val Acc: 40.74%\n",
      "EarlyStopping counter: 5 out of 10\n"
     ]
    },
    {
     "name": "stderr",
     "output_type": "stream",
     "text": [
      "Training Progress:  14%|█▍        | 7/50 [01:39<10:02, 14.01s/it]"
     ]
    },
    {
     "name": "stdout",
     "output_type": "stream",
     "text": [
      "------------------------------------------------------------------------------------------------------------------------------------------\n",
      "Epoch [7/50]: Train Loss: 0.7298 | Val Loss: 2.2746 | Val Acc: 66.67%\n",
      "EarlyStopping counter: 6 out of 10\n"
     ]
    },
    {
     "name": "stderr",
     "output_type": "stream",
     "text": [
      "Training Progress:  16%|█▌        | 8/50 [01:54<10:01, 14.31s/it]"
     ]
    },
    {
     "name": "stdout",
     "output_type": "stream",
     "text": [
      "------------------------------------------------------------------------------------------------------------------------------------------\n",
      "Epoch [8/50]: Train Loss: 0.1748 | Val Loss: 2.3442 | Val Acc: 37.04%\n",
      "EarlyStopping counter: 7 out of 10\n"
     ]
    },
    {
     "name": "stderr",
     "output_type": "stream",
     "text": [
      "Training Progress:  18%|█▊        | 9/50 [02:10<10:11, 14.91s/it]"
     ]
    },
    {
     "name": "stdout",
     "output_type": "stream",
     "text": [
      "------------------------------------------------------------------------------------------------------------------------------------------\n",
      "Epoch [9/50]: Train Loss: 0.4648 | Val Loss: 1.8492 | Val Acc: 48.15%\n",
      "EarlyStopping counter: 8 out of 10\n"
     ]
    },
    {
     "name": "stderr",
     "output_type": "stream",
     "text": [
      "Training Progress:  20%|██        | 10/50 [02:23<09:27, 14.18s/it]"
     ]
    },
    {
     "name": "stdout",
     "output_type": "stream",
     "text": [
      "------------------------------------------------------------------------------------------------------------------------------------------\n",
      "Epoch [10/50]: Train Loss: 0.3718 | Val Loss: 1.5462 | Val Acc: 44.44%\n",
      "EarlyStopping counter: 9 out of 10\n"
     ]
    },
    {
     "name": "stderr",
     "output_type": "stream",
     "text": [
      "Training Progress:  22%|██▏       | 11/50 [02:37<09:14, 14.23s/it]"
     ]
    },
    {
     "name": "stdout",
     "output_type": "stream",
     "text": [
      "------------------------------------------------------------------------------------------------------------------------------------------\n",
      "Epoch [11/50]: Train Loss: 0.5633 | Val Loss: 0.9193 | Val Acc: 44.44%\n",
      "Validation loss decreased (1.163493 --> 0.919323).  Saving model ...\n"
     ]
    },
    {
     "name": "stderr",
     "output_type": "stream",
     "text": [
      "Training Progress:  24%|██▍       | 12/50 [02:51<08:55, 14.08s/it]"
     ]
    },
    {
     "name": "stdout",
     "output_type": "stream",
     "text": [
      "------------------------------------------------------------------------------------------------------------------------------------------\n",
      "Epoch [12/50]: Train Loss: 0.2386 | Val Loss: 1.3715 | Val Acc: 25.93%\n",
      "EarlyStopping counter: 1 out of 10\n"
     ]
    },
    {
     "name": "stderr",
     "output_type": "stream",
     "text": [
      "Training Progress:  26%|██▌       | 13/50 [03:05<08:40, 14.07s/it]"
     ]
    },
    {
     "name": "stdout",
     "output_type": "stream",
     "text": [
      "------------------------------------------------------------------------------------------------------------------------------------------\n",
      "Epoch [13/50]: Train Loss: 0.1708 | Val Loss: 1.1829 | Val Acc: 37.04%\n",
      "EarlyStopping counter: 2 out of 10\n"
     ]
    },
    {
     "name": "stderr",
     "output_type": "stream",
     "text": [
      "Training Progress:  28%|██▊       | 14/50 [03:18<08:18, 13.85s/it]"
     ]
    },
    {
     "name": "stdout",
     "output_type": "stream",
     "text": [
      "------------------------------------------------------------------------------------------------------------------------------------------\n",
      "Epoch [14/50]: Train Loss: 0.2209 | Val Loss: 1.1199 | Val Acc: 37.04%\n",
      "EarlyStopping counter: 3 out of 10\n"
     ]
    },
    {
     "name": "stderr",
     "output_type": "stream",
     "text": [
      "Training Progress:  30%|███       | 15/50 [03:32<08:03, 13.81s/it]"
     ]
    },
    {
     "name": "stdout",
     "output_type": "stream",
     "text": [
      "------------------------------------------------------------------------------------------------------------------------------------------\n",
      "Epoch [15/50]: Train Loss: 0.1755 | Val Loss: 1.4848 | Val Acc: 22.22%\n",
      "EarlyStopping counter: 4 out of 10\n"
     ]
    },
    {
     "name": "stderr",
     "output_type": "stream",
     "text": [
      "Training Progress:  32%|███▏      | 16/50 [03:46<07:46, 13.73s/it]"
     ]
    },
    {
     "name": "stdout",
     "output_type": "stream",
     "text": [
      "------------------------------------------------------------------------------------------------------------------------------------------\n",
      "Epoch [16/50]: Train Loss: 0.0506 | Val Loss: 1.3403 | Val Acc: 37.04%\n",
      "EarlyStopping counter: 5 out of 10\n"
     ]
    },
    {
     "name": "stderr",
     "output_type": "stream",
     "text": [
      "Training Progress:  34%|███▍      | 17/50 [03:59<07:29, 13.62s/it]"
     ]
    },
    {
     "name": "stdout",
     "output_type": "stream",
     "text": [
      "------------------------------------------------------------------------------------------------------------------------------------------\n",
      "Epoch [17/50]: Train Loss: 0.0435 | Val Loss: 1.4487 | Val Acc: 44.44%\n",
      "EarlyStopping counter: 6 out of 10\n"
     ]
    },
    {
     "name": "stderr",
     "output_type": "stream",
     "text": [
      "Training Progress:  36%|███▌      | 18/50 [04:12<07:08, 13.38s/it]"
     ]
    },
    {
     "name": "stdout",
     "output_type": "stream",
     "text": [
      "------------------------------------------------------------------------------------------------------------------------------------------\n",
      "Epoch [18/50]: Train Loss: 0.2466 | Val Loss: 0.9234 | Val Acc: 55.56%\n",
      "EarlyStopping counter: 7 out of 10\n"
     ]
    },
    {
     "name": "stderr",
     "output_type": "stream",
     "text": [
      "Training Progress:  38%|███▊      | 19/50 [04:25<06:55, 13.40s/it]"
     ]
    },
    {
     "name": "stdout",
     "output_type": "stream",
     "text": [
      "------------------------------------------------------------------------------------------------------------------------------------------\n",
      "Epoch [19/50]: Train Loss: 0.0866 | Val Loss: 1.8529 | Val Acc: 44.44%\n",
      "EarlyStopping counter: 8 out of 10\n"
     ]
    },
    {
     "name": "stderr",
     "output_type": "stream",
     "text": [
      "Training Progress:  40%|████      | 20/50 [04:38<06:37, 13.26s/it]"
     ]
    },
    {
     "name": "stdout",
     "output_type": "stream",
     "text": [
      "------------------------------------------------------------------------------------------------------------------------------------------\n",
      "Epoch [20/50]: Train Loss: 0.0797 | Val Loss: 2.9493 | Val Acc: 59.26%\n",
      "EarlyStopping counter: 9 out of 10\n"
     ]
    },
    {
     "name": "stderr",
     "output_type": "stream",
     "text": [
      "Training Progress:  40%|████      | 20/50 [04:51<07:17, 14.59s/it]"
     ]
    },
    {
     "name": "stdout",
     "output_type": "stream",
     "text": [
      "------------------------------------------------------------------------------------------------------------------------------------------\n",
      "Epoch [21/50]: Train Loss: 0.2930 | Val Loss: 2.4580 | Val Acc: 37.04%\n",
      "EarlyStopping counter: 10 out of 10\n",
      "Early stopping\n"
     ]
    },
    {
     "name": "stderr",
     "output_type": "stream",
     "text": [
      "\n"
     ]
    },
    {
     "name": "stdout",
     "output_type": "stream",
     "text": [
      "Test Loss: 1.561302\n",
      "\n",
      "Test Accuracy of     0:  0% ( 0/ 5)\n",
      "Test Accuracy of     1: 80% (59/73)\n",
      "Test Accuracy of     2:  7% ( 1/13)\n",
      "\n",
      "Test Accuracy (Overall): 65% (60/91)\n",
      "[[ 0  5  0]\n",
      " [ 8 59  6]\n",
      " [ 0 12  1]]\n"
     ]
    },
    {
     "name": "stderr",
     "output_type": "stream",
     "text": [
      "/home/amillanruiz/PycharmProjects/pythonProject/utils.py:109: RuntimeWarning: invalid value encountered in scalar divide\n",
      "  f1_scores[i] = 2 * ((precision * recall) / (precision + recall)) * 100\n"
     ]
    },
    {
     "name": "stdout",
     "output_type": "stream",
     "text": [
      "Loaded pretrained weights for efficientnet-b0\n",
      "TRAINING\n"
     ]
    },
    {
     "name": "stderr",
     "output_type": "stream",
     "text": [
      "Training Progress:   2%|▏         | 1/50 [00:13<10:42, 13.11s/it]"
     ]
    },
    {
     "name": "stdout",
     "output_type": "stream",
     "text": [
      "------------------------------------------------------------------------------------------------------------------------------------------\n",
      "Epoch [1/50]: Train Loss: 1.1788 | Val Loss: 1.1233 | Val Acc: 6.67%\n",
      "Validation loss decreased (inf --> 1.123266).  Saving model ...\n"
     ]
    },
    {
     "name": "stderr",
     "output_type": "stream",
     "text": [
      "Training Progress:   4%|▍         | 2/50 [00:25<10:20, 12.93s/it]"
     ]
    },
    {
     "name": "stdout",
     "output_type": "stream",
     "text": [
      "------------------------------------------------------------------------------------------------------------------------------------------\n",
      "Epoch [2/50]: Train Loss: 1.0748 | Val Loss: 1.1132 | Val Acc: 10.00%\n",
      "Validation loss decreased (1.123266 --> 1.113201).  Saving model ...\n"
     ]
    },
    {
     "name": "stderr",
     "output_type": "stream",
     "text": [
      "Training Progress:   6%|▌         | 3/50 [00:36<09:15, 11.82s/it]"
     ]
    },
    {
     "name": "stdout",
     "output_type": "stream",
     "text": [
      "------------------------------------------------------------------------------------------------------------------------------------------\n",
      "Epoch [3/50]: Train Loss: 0.7472 | Val Loss: 1.1863 | Val Acc: 16.67%\n",
      "EarlyStopping counter: 1 out of 10\n"
     ]
    },
    {
     "name": "stderr",
     "output_type": "stream",
     "text": [
      "Training Progress:   8%|▊         | 4/50 [00:47<08:44, 11.41s/it]"
     ]
    },
    {
     "name": "stdout",
     "output_type": "stream",
     "text": [
      "------------------------------------------------------------------------------------------------------------------------------------------\n",
      "Epoch [4/50]: Train Loss: 0.6557 | Val Loss: 1.0397 | Val Acc: 36.67%\n",
      "Validation loss decreased (1.113201 --> 1.039656).  Saving model ...\n"
     ]
    },
    {
     "name": "stderr",
     "output_type": "stream",
     "text": [
      "Training Progress:  10%|█         | 5/50 [01:01<09:17, 12.40s/it]"
     ]
    },
    {
     "name": "stdout",
     "output_type": "stream",
     "text": [
      "------------------------------------------------------------------------------------------------------------------------------------------\n",
      "Epoch [5/50]: Train Loss: 0.7771 | Val Loss: 1.0893 | Val Acc: 46.67%\n",
      "EarlyStopping counter: 1 out of 10\n"
     ]
    },
    {
     "name": "stderr",
     "output_type": "stream",
     "text": [
      "Training Progress:  12%|█▏        | 6/50 [01:13<09:01, 12.31s/it]"
     ]
    },
    {
     "name": "stdout",
     "output_type": "stream",
     "text": [
      "------------------------------------------------------------------------------------------------------------------------------------------\n",
      "Epoch [6/50]: Train Loss: 0.5865 | Val Loss: 1.1735 | Val Acc: 53.33%\n",
      "EarlyStopping counter: 2 out of 10\n"
     ]
    },
    {
     "name": "stderr",
     "output_type": "stream",
     "text": [
      "Training Progress:  14%|█▍        | 7/50 [01:23<08:21, 11.66s/it]"
     ]
    },
    {
     "name": "stdout",
     "output_type": "stream",
     "text": [
      "------------------------------------------------------------------------------------------------------------------------------------------\n",
      "Epoch [7/50]: Train Loss: 0.4825 | Val Loss: 0.8607 | Val Acc: 50.00%\n",
      "Validation loss decreased (1.039656 --> 0.860679).  Saving model ...\n"
     ]
    },
    {
     "name": "stderr",
     "output_type": "stream",
     "text": [
      "Training Progress:  16%|█▌        | 8/50 [01:33<07:49, 11.18s/it]"
     ]
    },
    {
     "name": "stdout",
     "output_type": "stream",
     "text": [
      "------------------------------------------------------------------------------------------------------------------------------------------\n",
      "Epoch [8/50]: Train Loss: 0.2525 | Val Loss: 1.0745 | Val Acc: 33.33%\n",
      "EarlyStopping counter: 1 out of 10\n"
     ]
    },
    {
     "name": "stderr",
     "output_type": "stream",
     "text": [
      "Training Progress:  18%|█▊        | 9/50 [01:44<07:26, 10.88s/it]"
     ]
    },
    {
     "name": "stdout",
     "output_type": "stream",
     "text": [
      "------------------------------------------------------------------------------------------------------------------------------------------\n",
      "Epoch [9/50]: Train Loss: 0.2295 | Val Loss: 1.1302 | Val Acc: 53.33%\n",
      "EarlyStopping counter: 2 out of 10\n"
     ]
    },
    {
     "name": "stderr",
     "output_type": "stream",
     "text": [
      "Training Progress:  20%|██        | 10/50 [01:53<07:00, 10.50s/it]"
     ]
    },
    {
     "name": "stdout",
     "output_type": "stream",
     "text": [
      "------------------------------------------------------------------------------------------------------------------------------------------\n",
      "Epoch [10/50]: Train Loss: 0.2346 | Val Loss: 0.8802 | Val Acc: 60.00%\n",
      "EarlyStopping counter: 3 out of 10\n"
     ]
    },
    {
     "name": "stderr",
     "output_type": "stream",
     "text": [
      "Training Progress:  22%|██▏       | 11/50 [02:03<06:43, 10.34s/it]"
     ]
    },
    {
     "name": "stdout",
     "output_type": "stream",
     "text": [
      "------------------------------------------------------------------------------------------------------------------------------------------\n",
      "Epoch [11/50]: Train Loss: 0.0628 | Val Loss: 1.0988 | Val Acc: 36.67%\n",
      "EarlyStopping counter: 4 out of 10\n"
     ]
    },
    {
     "name": "stderr",
     "output_type": "stream",
     "text": [
      "Training Progress:  24%|██▍       | 12/50 [02:14<06:33, 10.35s/it]"
     ]
    },
    {
     "name": "stdout",
     "output_type": "stream",
     "text": [
      "------------------------------------------------------------------------------------------------------------------------------------------\n",
      "Epoch [12/50]: Train Loss: 0.1141 | Val Loss: 1.8547 | Val Acc: 20.00%\n",
      "EarlyStopping counter: 5 out of 10\n"
     ]
    },
    {
     "name": "stderr",
     "output_type": "stream",
     "text": [
      "Training Progress:  26%|██▌       | 13/50 [02:25<06:30, 10.57s/it]"
     ]
    },
    {
     "name": "stdout",
     "output_type": "stream",
     "text": [
      "------------------------------------------------------------------------------------------------------------------------------------------\n",
      "Epoch [13/50]: Train Loss: 0.1839 | Val Loss: 1.2044 | Val Acc: 53.33%\n",
      "EarlyStopping counter: 6 out of 10\n"
     ]
    },
    {
     "name": "stderr",
     "output_type": "stream",
     "text": [
      "Training Progress:  28%|██▊       | 14/50 [02:36<06:31, 10.88s/it]"
     ]
    },
    {
     "name": "stdout",
     "output_type": "stream",
     "text": [
      "------------------------------------------------------------------------------------------------------------------------------------------\n",
      "Epoch [14/50]: Train Loss: 0.1099 | Val Loss: 0.9211 | Val Acc: 56.67%\n",
      "EarlyStopping counter: 7 out of 10\n"
     ]
    },
    {
     "name": "stderr",
     "output_type": "stream",
     "text": [
      "Training Progress:  30%|███       | 15/50 [02:48<06:31, 11.18s/it]"
     ]
    },
    {
     "name": "stdout",
     "output_type": "stream",
     "text": [
      "------------------------------------------------------------------------------------------------------------------------------------------\n",
      "Epoch [15/50]: Train Loss: 0.0436 | Val Loss: 1.3737 | Val Acc: 53.33%\n",
      "EarlyStopping counter: 8 out of 10\n"
     ]
    },
    {
     "name": "stderr",
     "output_type": "stream",
     "text": [
      "Training Progress:  32%|███▏      | 16/50 [03:00<06:25, 11.33s/it]"
     ]
    },
    {
     "name": "stdout",
     "output_type": "stream",
     "text": [
      "------------------------------------------------------------------------------------------------------------------------------------------\n",
      "Epoch [16/50]: Train Loss: 0.2617 | Val Loss: 1.4880 | Val Acc: 60.00%\n",
      "EarlyStopping counter: 9 out of 10\n"
     ]
    },
    {
     "name": "stderr",
     "output_type": "stream",
     "text": [
      "Training Progress:  32%|███▏      | 16/50 [03:11<06:46, 11.96s/it]"
     ]
    },
    {
     "name": "stdout",
     "output_type": "stream",
     "text": [
      "------------------------------------------------------------------------------------------------------------------------------------------\n",
      "Epoch [17/50]: Train Loss: 0.3107 | Val Loss: 1.5376 | Val Acc: 60.00%\n",
      "EarlyStopping counter: 10 out of 10\n",
      "Early stopping\n"
     ]
    },
    {
     "name": "stderr",
     "output_type": "stream",
     "text": [
      "\n"
     ]
    },
    {
     "name": "stdout",
     "output_type": "stream",
     "text": [
      "Test Loss: 1.325037\n",
      "\n",
      "Test Accuracy of     0: 40% ( 2/ 5)\n",
      "Test Accuracy of     1: 52% (38/73)\n",
      "Test Accuracy of     2: 23% ( 3/13)\n",
      "\n",
      "Test Accuracy (Overall): 47% (43/91)\n",
      "[[ 2  3  0]\n",
      " [29 38  6]\n",
      " [ 4  6  3]]\n",
      "Loaded pretrained weights for efficientnet-b0\n",
      "TRAINING\n"
     ]
    },
    {
     "name": "stderr",
     "output_type": "stream",
     "text": [
      "Training Progress:   2%|▏         | 1/50 [00:09<08:01,  9.83s/it]"
     ]
    },
    {
     "name": "stdout",
     "output_type": "stream",
     "text": [
      "------------------------------------------------------------------------------------------------------------------------------------------\n",
      "Epoch [1/50]: Train Loss: 0.9054 | Val Loss: 1.2274 | Val Acc: 13.79%\n",
      "Validation loss decreased (inf --> 1.227427).  Saving model ...\n"
     ]
    },
    {
     "name": "stderr",
     "output_type": "stream",
     "text": [
      "Training Progress:   4%|▍         | 2/50 [00:20<08:14, 10.31s/it]"
     ]
    },
    {
     "name": "stdout",
     "output_type": "stream",
     "text": [
      "------------------------------------------------------------------------------------------------------------------------------------------\n",
      "Epoch [2/50]: Train Loss: 0.7632 | Val Loss: 1.3863 | Val Acc: 6.90%\n",
      "EarlyStopping counter: 1 out of 10\n"
     ]
    },
    {
     "name": "stderr",
     "output_type": "stream",
     "text": [
      "Training Progress:   6%|▌         | 3/50 [00:31<08:11, 10.46s/it]"
     ]
    },
    {
     "name": "stdout",
     "output_type": "stream",
     "text": [
      "------------------------------------------------------------------------------------------------------------------------------------------\n",
      "Epoch [3/50]: Train Loss: 0.6937 | Val Loss: 1.1166 | Val Acc: 10.34%\n",
      "Validation loss decreased (1.227427 --> 1.116634).  Saving model ...\n"
     ]
    },
    {
     "name": "stderr",
     "output_type": "stream",
     "text": [
      "Training Progress:   8%|▊         | 4/50 [00:41<07:50, 10.24s/it]"
     ]
    },
    {
     "name": "stdout",
     "output_type": "stream",
     "text": [
      "------------------------------------------------------------------------------------------------------------------------------------------\n",
      "Epoch [4/50]: Train Loss: 0.5633 | Val Loss: 1.2858 | Val Acc: 13.79%\n",
      "EarlyStopping counter: 1 out of 10\n"
     ]
    },
    {
     "name": "stderr",
     "output_type": "stream",
     "text": [
      "Training Progress:  10%|█         | 5/50 [00:51<07:41, 10.26s/it]"
     ]
    },
    {
     "name": "stdout",
     "output_type": "stream",
     "text": [
      "------------------------------------------------------------------------------------------------------------------------------------------\n",
      "Epoch [5/50]: Train Loss: 0.7281 | Val Loss: 1.3719 | Val Acc: 17.24%\n",
      "EarlyStopping counter: 2 out of 10\n"
     ]
    },
    {
     "name": "stderr",
     "output_type": "stream",
     "text": [
      "Training Progress:  12%|█▏        | 6/50 [01:01<07:35, 10.36s/it]"
     ]
    },
    {
     "name": "stdout",
     "output_type": "stream",
     "text": [
      "------------------------------------------------------------------------------------------------------------------------------------------\n",
      "Epoch [6/50]: Train Loss: 0.3019 | Val Loss: 1.0989 | Val Acc: 44.83%\n",
      "Validation loss decreased (1.116634 --> 1.098906).  Saving model ...\n"
     ]
    },
    {
     "name": "stderr",
     "output_type": "stream",
     "text": [
      "Training Progress:  14%|█▍        | 7/50 [01:12<07:31, 10.51s/it]"
     ]
    },
    {
     "name": "stdout",
     "output_type": "stream",
     "text": [
      "------------------------------------------------------------------------------------------------------------------------------------------\n",
      "Epoch [7/50]: Train Loss: 0.3576 | Val Loss: 0.9245 | Val Acc: 41.38%\n",
      "Validation loss decreased (1.098906 --> 0.924537).  Saving model ...\n"
     ]
    },
    {
     "name": "stderr",
     "output_type": "stream",
     "text": [
      "Training Progress:  16%|█▌        | 8/50 [01:23<07:30, 10.72s/it]"
     ]
    },
    {
     "name": "stdout",
     "output_type": "stream",
     "text": [
      "------------------------------------------------------------------------------------------------------------------------------------------\n",
      "Epoch [8/50]: Train Loss: 0.3691 | Val Loss: 1.3703 | Val Acc: 13.79%\n",
      "EarlyStopping counter: 1 out of 10\n"
     ]
    },
    {
     "name": "stderr",
     "output_type": "stream",
     "text": [
      "Training Progress:  18%|█▊        | 9/50 [01:35<07:25, 10.87s/it]"
     ]
    },
    {
     "name": "stdout",
     "output_type": "stream",
     "text": [
      "------------------------------------------------------------------------------------------------------------------------------------------\n",
      "Epoch [9/50]: Train Loss: 0.4958 | Val Loss: 2.5395 | Val Acc: 10.34%\n",
      "EarlyStopping counter: 2 out of 10\n"
     ]
    },
    {
     "name": "stderr",
     "output_type": "stream",
     "text": [
      "Training Progress:  20%|██        | 10/50 [01:46<07:20, 11.01s/it]"
     ]
    },
    {
     "name": "stdout",
     "output_type": "stream",
     "text": [
      "------------------------------------------------------------------------------------------------------------------------------------------\n",
      "Epoch [10/50]: Train Loss: 0.2944 | Val Loss: 2.6572 | Val Acc: 10.34%\n",
      "EarlyStopping counter: 3 out of 10\n"
     ]
    },
    {
     "name": "stderr",
     "output_type": "stream",
     "text": [
      "Training Progress:  22%|██▏       | 11/50 [01:59<07:30, 11.55s/it]"
     ]
    },
    {
     "name": "stdout",
     "output_type": "stream",
     "text": [
      "------------------------------------------------------------------------------------------------------------------------------------------\n",
      "Epoch [11/50]: Train Loss: 0.3155 | Val Loss: 1.2294 | Val Acc: 72.41%\n",
      "EarlyStopping counter: 4 out of 10\n"
     ]
    },
    {
     "name": "stderr",
     "output_type": "stream",
     "text": [
      "Training Progress:  24%|██▍       | 12/50 [02:11<07:23, 11.66s/it]"
     ]
    },
    {
     "name": "stdout",
     "output_type": "stream",
     "text": [
      "------------------------------------------------------------------------------------------------------------------------------------------\n",
      "Epoch [12/50]: Train Loss: 0.1365 | Val Loss: 2.1460 | Val Acc: 24.14%\n",
      "EarlyStopping counter: 5 out of 10\n"
     ]
    },
    {
     "name": "stderr",
     "output_type": "stream",
     "text": [
      "Training Progress:  26%|██▌       | 13/50 [02:23<07:15, 11.76s/it]"
     ]
    },
    {
     "name": "stdout",
     "output_type": "stream",
     "text": [
      "------------------------------------------------------------------------------------------------------------------------------------------\n",
      "Epoch [13/50]: Train Loss: 0.3913 | Val Loss: 2.2355 | Val Acc: 24.14%\n",
      "EarlyStopping counter: 6 out of 10\n"
     ]
    },
    {
     "name": "stderr",
     "output_type": "stream",
     "text": [
      "Training Progress:  28%|██▊       | 14/50 [02:35<07:07, 11.88s/it]"
     ]
    },
    {
     "name": "stdout",
     "output_type": "stream",
     "text": [
      "------------------------------------------------------------------------------------------------------------------------------------------\n",
      "Epoch [14/50]: Train Loss: 0.3361 | Val Loss: 1.9499 | Val Acc: 24.14%\n",
      "EarlyStopping counter: 7 out of 10\n"
     ]
    },
    {
     "name": "stderr",
     "output_type": "stream",
     "text": [
      "Training Progress:  30%|███       | 15/50 [02:46<06:50, 11.72s/it]"
     ]
    },
    {
     "name": "stdout",
     "output_type": "stream",
     "text": [
      "------------------------------------------------------------------------------------------------------------------------------------------\n",
      "Epoch [15/50]: Train Loss: 0.2152 | Val Loss: 2.4864 | Val Acc: 37.93%\n",
      "EarlyStopping counter: 8 out of 10\n"
     ]
    },
    {
     "name": "stderr",
     "output_type": "stream",
     "text": [
      "Training Progress:  32%|███▏      | 16/50 [03:01<07:13, 12.74s/it]"
     ]
    },
    {
     "name": "stdout",
     "output_type": "stream",
     "text": [
      "------------------------------------------------------------------------------------------------------------------------------------------\n",
      "Epoch [16/50]: Train Loss: 0.2315 | Val Loss: 2.5587 | Val Acc: 55.17%\n",
      "EarlyStopping counter: 9 out of 10\n"
     ]
    },
    {
     "name": "stderr",
     "output_type": "stream",
     "text": [
      "Training Progress:  32%|███▏      | 16/50 [03:26<07:18, 12.90s/it]"
     ]
    },
    {
     "name": "stdout",
     "output_type": "stream",
     "text": [
      "------------------------------------------------------------------------------------------------------------------------------------------\n",
      "Epoch [17/50]: Train Loss: 0.1066 | Val Loss: 4.5472 | Val Acc: 62.07%\n",
      "EarlyStopping counter: 10 out of 10\n",
      "Early stopping\n"
     ]
    },
    {
     "name": "stderr",
     "output_type": "stream",
     "text": [
      "\n"
     ]
    },
    {
     "name": "stdout",
     "output_type": "stream",
     "text": [
      "Test Loss: 1.757480\n",
      "\n",
      "Test Accuracy of     0: 20% ( 1/ 5)\n",
      "Test Accuracy of     1: 56% (41/73)\n",
      "Test Accuracy of     2:  0% ( 0/13)\n",
      "\n",
      "Test Accuracy (Overall): 46% (42/91)\n",
      "[[ 1  4  0]\n",
      " [29 41  3]\n",
      " [ 5  8  0]]\n"
     ]
    },
    {
     "name": "stderr",
     "output_type": "stream",
     "text": [
      "/home/amillanruiz/PycharmProjects/pythonProject/utils.py:109: RuntimeWarning: invalid value encountered in scalar divide\n",
      "  f1_scores[i] = 2 * ((precision * recall) / (precision + recall)) * 100\n"
     ]
    },
    {
     "name": "stdout",
     "output_type": "stream",
     "text": [
      "Loaded pretrained weights for efficientnet-b0\n",
      "TRAINING\n"
     ]
    },
    {
     "name": "stderr",
     "output_type": "stream",
     "text": [
      "Training Progress:   2%|▏         | 1/50 [00:11<09:26, 11.57s/it]"
     ]
    },
    {
     "name": "stdout",
     "output_type": "stream",
     "text": [
      "------------------------------------------------------------------------------------------------------------------------------------------\n",
      "Epoch [1/50]: Train Loss: 1.0657 | Val Loss: 0.9938 | Val Acc: 55.00%\n",
      "Validation loss decreased (inf --> 0.993796).  Saving model ...\n"
     ]
    },
    {
     "name": "stderr",
     "output_type": "stream",
     "text": [
      "Training Progress:   4%|▍         | 2/50 [00:27<11:17, 14.10s/it]"
     ]
    },
    {
     "name": "stdout",
     "output_type": "stream",
     "text": [
      "------------------------------------------------------------------------------------------------------------------------------------------\n",
      "Epoch [2/50]: Train Loss: 0.8082 | Val Loss: 1.0350 | Val Acc: 57.50%\n",
      "EarlyStopping counter: 1 out of 10\n"
     ]
    },
    {
     "name": "stderr",
     "output_type": "stream",
     "text": [
      "Training Progress:   6%|▌         | 3/50 [00:57<16:38, 21.24s/it]"
     ]
    },
    {
     "name": "stdout",
     "output_type": "stream",
     "text": [
      "------------------------------------------------------------------------------------------------------------------------------------------\n",
      "Epoch [3/50]: Train Loss: 0.6031 | Val Loss: 1.2404 | Val Acc: 45.00%\n",
      "EarlyStopping counter: 2 out of 10\n"
     ]
    },
    {
     "name": "stderr",
     "output_type": "stream",
     "text": [
      "Training Progress:   8%|▊         | 4/50 [01:13<14:39, 19.11s/it]"
     ]
    },
    {
     "name": "stdout",
     "output_type": "stream",
     "text": [
      "------------------------------------------------------------------------------------------------------------------------------------------\n",
      "Epoch [4/50]: Train Loss: 0.6991 | Val Loss: 1.2930 | Val Acc: 27.50%\n",
      "EarlyStopping counter: 3 out of 10\n"
     ]
    },
    {
     "name": "stderr",
     "output_type": "stream",
     "text": [
      "Training Progress:  10%|█         | 5/50 [01:26<12:43, 16.96s/it]"
     ]
    },
    {
     "name": "stdout",
     "output_type": "stream",
     "text": [
      "------------------------------------------------------------------------------------------------------------------------------------------\n",
      "Epoch [5/50]: Train Loss: 0.2570 | Val Loss: 0.9976 | Val Acc: 42.50%\n",
      "EarlyStopping counter: 4 out of 10\n"
     ]
    },
    {
     "name": "stderr",
     "output_type": "stream",
     "text": [
      "Training Progress:  12%|█▏        | 6/50 [01:37<10:55, 14.90s/it]"
     ]
    },
    {
     "name": "stdout",
     "output_type": "stream",
     "text": [
      "------------------------------------------------------------------------------------------------------------------------------------------\n",
      "Epoch [6/50]: Train Loss: 0.4732 | Val Loss: 1.3506 | Val Acc: 47.50%\n",
      "EarlyStopping counter: 5 out of 10\n"
     ]
    },
    {
     "name": "stderr",
     "output_type": "stream",
     "text": [
      "Training Progress:  14%|█▍        | 7/50 [01:51<10:27, 14.59s/it]"
     ]
    },
    {
     "name": "stdout",
     "output_type": "stream",
     "text": [
      "------------------------------------------------------------------------------------------------------------------------------------------\n",
      "Epoch [7/50]: Train Loss: 0.6176 | Val Loss: 1.7851 | Val Acc: 65.00%\n",
      "EarlyStopping counter: 6 out of 10\n"
     ]
    },
    {
     "name": "stderr",
     "output_type": "stream",
     "text": [
      "Training Progress:  16%|█▌        | 8/50 [02:20<13:32, 19.34s/it]"
     ]
    },
    {
     "name": "stdout",
     "output_type": "stream",
     "text": [
      "------------------------------------------------------------------------------------------------------------------------------------------\n",
      "Epoch [8/50]: Train Loss: 0.6243 | Val Loss: 1.0650 | Val Acc: 52.50%\n",
      "EarlyStopping counter: 7 out of 10\n"
     ]
    },
    {
     "name": "stderr",
     "output_type": "stream",
     "text": [
      "Training Progress:  18%|█▊        | 9/50 [02:37<12:47, 18.72s/it]"
     ]
    },
    {
     "name": "stdout",
     "output_type": "stream",
     "text": [
      "------------------------------------------------------------------------------------------------------------------------------------------\n",
      "Epoch [9/50]: Train Loss: 0.2021 | Val Loss: 1.1184 | Val Acc: 65.00%\n",
      "EarlyStopping counter: 8 out of 10\n"
     ]
    },
    {
     "name": "stderr",
     "output_type": "stream",
     "text": [
      "Training Progress:  20%|██        | 10/50 [02:50<11:12, 16.80s/it]"
     ]
    },
    {
     "name": "stdout",
     "output_type": "stream",
     "text": [
      "------------------------------------------------------------------------------------------------------------------------------------------\n",
      "Epoch [10/50]: Train Loss: 0.4817 | Val Loss: 1.1343 | Val Acc: 67.50%\n",
      "EarlyStopping counter: 9 out of 10\n"
     ]
    },
    {
     "name": "stderr",
     "output_type": "stream",
     "text": [
      "Training Progress:  20%|██        | 10/50 [03:01<12:05, 18.13s/it]"
     ]
    },
    {
     "name": "stdout",
     "output_type": "stream",
     "text": [
      "------------------------------------------------------------------------------------------------------------------------------------------\n",
      "Epoch [11/50]: Train Loss: 0.2038 | Val Loss: 1.6167 | Val Acc: 67.50%\n",
      "EarlyStopping counter: 10 out of 10\n",
      "Early stopping\n"
     ]
    },
    {
     "name": "stderr",
     "output_type": "stream",
     "text": [
      "\n"
     ]
    },
    {
     "name": "stdout",
     "output_type": "stream",
     "text": [
      "Test Loss: 1.121034\n",
      "\n",
      "Test Accuracy of     0: 40% ( 2/ 5)\n",
      "Test Accuracy of     1:  8% ( 6/73)\n",
      "Test Accuracy of     2: 61% ( 8/13)\n",
      "\n",
      "Test Accuracy (Overall): 17% (16/91)\n",
      "[[ 2  1  2]\n",
      " [11  6 56]\n",
      " [ 2  3  8]]\n",
      "Loaded pretrained weights for efficientnet-b0\n",
      "TRAINING\n"
     ]
    },
    {
     "name": "stderr",
     "output_type": "stream",
     "text": [
      "Training Progress:   2%|▏         | 1/50 [00:28<22:53, 28.03s/it]"
     ]
    },
    {
     "name": "stdout",
     "output_type": "stream",
     "text": [
      "------------------------------------------------------------------------------------------------------------------------------------------\n",
      "Epoch [1/50]: Train Loss: 0.9523 | Val Loss: 1.3487 | Val Acc: 21.43%\n",
      "Validation loss decreased (inf --> 1.348696).  Saving model ...\n"
     ]
    },
    {
     "name": "stderr",
     "output_type": "stream",
     "text": [
      "Training Progress:   4%|▍         | 2/50 [00:43<16:25, 20.52s/it]"
     ]
    },
    {
     "name": "stdout",
     "output_type": "stream",
     "text": [
      "------------------------------------------------------------------------------------------------------------------------------------------\n",
      "Epoch [2/50]: Train Loss: 0.9142 | Val Loss: 1.7601 | Val Acc: 35.71%\n",
      "EarlyStopping counter: 1 out of 10\n"
     ]
    },
    {
     "name": "stderr",
     "output_type": "stream",
     "text": [
      "Training Progress:   6%|▌         | 3/50 [00:55<13:15, 16.92s/it]"
     ]
    },
    {
     "name": "stdout",
     "output_type": "stream",
     "text": [
      "------------------------------------------------------------------------------------------------------------------------------------------\n",
      "Epoch [3/50]: Train Loss: 0.6626 | Val Loss: 2.7225 | Val Acc: 32.14%\n",
      "EarlyStopping counter: 2 out of 10\n"
     ]
    },
    {
     "name": "stderr",
     "output_type": "stream",
     "text": [
      "Training Progress:   8%|▊         | 4/50 [01:07<11:19, 14.77s/it]"
     ]
    },
    {
     "name": "stdout",
     "output_type": "stream",
     "text": [
      "------------------------------------------------------------------------------------------------------------------------------------------\n",
      "Epoch [4/50]: Train Loss: 0.6700 | Val Loss: 2.3805 | Val Acc: 32.14%\n",
      "EarlyStopping counter: 3 out of 10\n"
     ]
    },
    {
     "name": "stderr",
     "output_type": "stream",
     "text": [
      "Training Progress:  10%|█         | 5/50 [01:23<11:27, 15.28s/it]"
     ]
    },
    {
     "name": "stdout",
     "output_type": "stream",
     "text": [
      "------------------------------------------------------------------------------------------------------------------------------------------\n",
      "Epoch [5/50]: Train Loss: 0.4158 | Val Loss: 2.7564 | Val Acc: 28.57%\n",
      "EarlyStopping counter: 4 out of 10\n"
     ]
    },
    {
     "name": "stderr",
     "output_type": "stream",
     "text": [
      "Training Progress:  12%|█▏        | 6/50 [01:51<14:20, 19.56s/it]"
     ]
    },
    {
     "name": "stdout",
     "output_type": "stream",
     "text": [
      "------------------------------------------------------------------------------------------------------------------------------------------\n",
      "Epoch [6/50]: Train Loss: 0.4312 | Val Loss: 2.9798 | Val Acc: 28.57%\n",
      "EarlyStopping counter: 5 out of 10\n"
     ]
    },
    {
     "name": "stderr",
     "output_type": "stream",
     "text": [
      "Training Progress:  14%|█▍        | 7/50 [02:08<13:24, 18.71s/it]"
     ]
    },
    {
     "name": "stdout",
     "output_type": "stream",
     "text": [
      "------------------------------------------------------------------------------------------------------------------------------------------\n",
      "Epoch [7/50]: Train Loss: 0.2407 | Val Loss: 2.5928 | Val Acc: 28.57%\n",
      "EarlyStopping counter: 6 out of 10\n"
     ]
    },
    {
     "name": "stderr",
     "output_type": "stream",
     "text": [
      "Training Progress:  16%|█▌        | 8/50 [02:21<11:45, 16.81s/it]"
     ]
    },
    {
     "name": "stdout",
     "output_type": "stream",
     "text": [
      "------------------------------------------------------------------------------------------------------------------------------------------\n",
      "Epoch [8/50]: Train Loss: 0.6998 | Val Loss: 2.2446 | Val Acc: 21.43%\n",
      "EarlyStopping counter: 7 out of 10\n"
     ]
    },
    {
     "name": "stderr",
     "output_type": "stream",
     "text": [
      "Training Progress:  18%|█▊        | 9/50 [02:34<10:42, 15.67s/it]"
     ]
    },
    {
     "name": "stdout",
     "output_type": "stream",
     "text": [
      "------------------------------------------------------------------------------------------------------------------------------------------\n",
      "Epoch [9/50]: Train Loss: 0.3040 | Val Loss: 3.1713 | Val Acc: 25.00%\n",
      "EarlyStopping counter: 8 out of 10\n"
     ]
    },
    {
     "name": "stderr",
     "output_type": "stream",
     "text": [
      "Training Progress:  20%|██        | 10/50 [02:49<10:16, 15.40s/it]"
     ]
    },
    {
     "name": "stdout",
     "output_type": "stream",
     "text": [
      "------------------------------------------------------------------------------------------------------------------------------------------\n",
      "Epoch [10/50]: Train Loss: 0.3360 | Val Loss: 2.1264 | Val Acc: 42.86%\n",
      "EarlyStopping counter: 9 out of 10\n"
     ]
    },
    {
     "name": "stderr",
     "output_type": "stream",
     "text": [
      "Training Progress:  20%|██        | 10/50 [03:13<12:55, 19.38s/it]"
     ]
    },
    {
     "name": "stdout",
     "output_type": "stream",
     "text": [
      "------------------------------------------------------------------------------------------------------------------------------------------\n",
      "Epoch [11/50]: Train Loss: 0.2364 | Val Loss: 2.9500 | Val Acc: 42.86%\n",
      "EarlyStopping counter: 10 out of 10\n",
      "Early stopping\n"
     ]
    },
    {
     "name": "stderr",
     "output_type": "stream",
     "text": [
      "\n"
     ]
    },
    {
     "name": "stdout",
     "output_type": "stream",
     "text": [
      "Test Loss: 1.133674\n",
      "\n",
      "Test Accuracy of     0: 40% ( 2/ 5)\n",
      "Test Accuracy of     1:  2% ( 2/73)\n",
      "Test Accuracy of     2: 84% (11/13)\n",
      "\n",
      "Test Accuracy (Overall): 16% (15/91)\n",
      "[[ 2  0  3]\n",
      " [ 9  2 62]\n",
      " [ 1  1 11]]\n"
     ]
    }
   ],
   "source": [
    "scores = {'acc': [], 'SD_acc': [], 'CI_acc': [], 'auc_tot': [], 'SD_auc_tot': [], 'CI_auc_tot': [], 'auc_class': [], 'SD_auc_class': [], 'CI_auc_class': [], 'Sen_mean': [], 'Sen_CI': [], 'Sen_SD': [], 'Spe_mean': [], 'Spe_CI': [], 'Spe_sd': [], 'Pre_mean': [], 'Pre_CI': [], 'Pre_sd': [], 'F1_mean': [], 'F1_CI': [], 'F1_sd': [], 'Accy_mean': [], 'Accy_CI': [], 'Accy_sd': []}\n",
    "\n",
    "num_classes = len(np.unique(y))\n",
    "sum_confusion_matrix_rf = np.zeros((num_classes, num_classes))\n",
    "\n",
    "data_loader = DataLoader2DT1GD()\n",
    "\n",
    "# Splitting into train, validation, and test sets\n",
    "unique_patients = list(new_df['Subjid'])\n",
    "\n",
    "\n",
    "# Splitting unique_patient_ids into trainval and test patient IDs\n",
    "trainval_patient_ids, test_patient_ids = train_test_split(unique_patients, test_size=0.2, random_state=0, stratify = y_patients)\n",
    "\n",
    "trainval_y = [new_df[new_df['Subjid'] == i]['Labels'].values[0] for i in trainval_patient_ids]\n",
    "\n",
    "# Perform stratified shuffle split on train indices\n",
    "#kf = KFold(n_splits=5, random_state=42, shuffle=True)\n",
    "sss = StratifiedKFold(n_splits=10, random_state=0, shuffle=True)\n",
    "#sss = StratifiedShuffleSplit(n_splits=5, test_size=0.25, random_state=42)\n",
    "fold_acc = []\n",
    "fold_auc_tot = []\n",
    "fold_auc_class = []\n",
    "sensi = []\n",
    "speci = []\n",
    "prec = []\n",
    "f1 = []\n",
    "accy = []\n",
    "for train_index, val_index in sss.split(trainval_patient_ids, trainval_y):\n",
    "    ######## training #########################################################\n",
    "    train_patients = [trainval_patient_ids[i] for i in train_index]\n",
    "    training_tumors = flatten([df3[df3['subjid'] == s].index for s in train_patients])\n",
    "    X_train, y_train = data_loader[training_tumors]\n",
    "    ########## validation ############################################################\n",
    "    val_patients = [trainval_patient_ids[i] for i in val_index]\n",
    "    val_tumors = flatten([df3[df3['subjid'] == s].index for s in val_patients])\n",
    "    X_val, y_val = data_loader[val_tumors]\n",
    "\n",
    "    ######## test ############################################################################\n",
    "    test_tumors = flatten([df3[df3['subjid'] == s].index for s in test_patient_ids])\n",
    "    X_test, y_test = data_loader[test_tumors]\n",
    "\n",
    "    #### set class weights to account for imbalanced dataset\n",
    "    class_weights = compute_class_weight('balanced', classes=np.unique(y_train), y=y_train)\n",
    "\n",
    "    ## Rescaling\n",
    "    #rescale = RescaleIntensity((0.05, 99.5))\n",
    "    #randaffine = torchio.RandomAffine(scales=(0.9,1.2),degrees=10, isotropic=True, image_interpolation='nearest')\n",
    "    #flip = torchio.RandomFlip(axes=('LR'), p=0.5)\n",
    "    #transforms = [flip, randaffine]\n",
    "    #transform = Compose(transforms)\n",
    "\n",
    "    train_transform = T.Compose([\n",
    "    T.RandomHorizontalFlip(0.5),\n",
    "    T.RandomVerticalFlip(0.5),\n",
    "    T.RandomRotation(degrees=15),\n",
    "    T.CenterCrop(size=150)])\n",
    "\n",
    "    model = EfficientNet.from_pretrained('efficientnet-b0')\n",
    "    model._conv_stem.in_channels = 1\n",
    "    #model._conv_stem.weight = torch.mean(model._conv_stem.weight, axis = 1, keepdim=True)\n",
    "    weights = torch.mean(model._conv_stem.weight, axis=1, keepdim=True)\n",
    "    model._conv_stem.weight = torch.nn.Parameter(weights)\n",
    "    #model._conv_stem.weight = torch.nn.Parameter(torch.cat([model._conv_stem.weight, model._conv_stem.weight], axis=1))\n",
    "    model._fc = nn.Linear(in_features=1280, out_features=3, bias=True)\n",
    "\n",
    "    criterion = nn.CrossEntropyLoss(weight=torch.FloatTensor(class_weights))\n",
    "    optimizer = optim.Adam(model.parameters(), lr=0.001)\n",
    "\n",
    "    # Convert data to TensorDataset\n",
    "    train_dataset = CustomDataset(X_train, y_train, transform = train_transform)\n",
    "    val_dataset = CustomDataset(X_val, y_val, transform = train_transform)\n",
    "    test_dataset = CustomDataset(X_test, y_test)\n",
    "\n",
    "    batch_size = 32\n",
    "    num_epochs = 50\n",
    "    patience = 10\n",
    "    path=f'checkpoint_EfficientNet.pt'\n",
    "    # Create data loaders\n",
    "    train_loader = DataLoader(train_dataset, batch_size=batch_size, shuffle= True)\n",
    "    val_loader = DataLoader(val_dataset, batch_size=batch_size, shuffle = True)\n",
    "    test_loader = DataLoader(test_dataset, batch_size=batch_size)\n",
    "    print('TRAINING')\n",
    "    train_validate_model(model, train_loader, val_loader, criterion, optimizer, num_epochs, patience, path=path)\n",
    "\n",
    "    model.load_state_dict(torch.load(path))\n",
    "    y_pred = test_model(model, test_loader, criterion)\n",
    "\n",
    "    accuracy = accuracy_score(y_test, y_pred)\n",
    "    num_classes = len(np.unique(y_test))\n",
    "    cm = confusion_matrix(y_test, y_pred, labels=np.unique(y_test))\n",
    "    print(cm)\n",
    "    specificity = calculate_specificity(cm)\n",
    "    sensitivity = calculate_sensitivity(cm)\n",
    "    precision = calculate_precision(cm)\n",
    "    F1 = calculate_f1_score(cm)\n",
    "    Accuracy = calculate_accuracy(cm)\n",
    "    sum_confusion_matrix_rf += cm\n",
    "\n",
    "    #accuracy = accuracy_score(y_test, y_pred)\n",
    "    fold_acc.append(accuracy)\n",
    "\n",
    "    # Calculate AUC score\n",
    "    auc_tot = multiclass_roc_auc_score(y_test, y_pred)\n",
    "    fold_auc_tot.append(auc_tot)\n",
    "\n",
    "    auc_class = class_vs_rest_roc_auc_score(y_test, y_pred)\n",
    "    fold_auc_class.append(auc_class)\n",
    "\n",
    "    speci.append(specificity)\n",
    "    sensi.append(sensitivity)\n",
    "    prec.append(precision)\n",
    "    f1.append(F1)\n",
    "    accy.append(Accuracy)"
   ],
   "metadata": {
    "collapsed": false,
    "ExecuteTime": {
     "start_time": "2023-07-25T17:05:28.386888Z",
     "end_time": "2023-07-25T17:38:10.709027Z"
    }
   }
  },
  {
   "cell_type": "code",
   "execution_count": 26,
   "outputs": [
    {
     "data": {
      "text/plain": "array([[ 27.,  18.,   5.],\n       [256., 274., 200.],\n       [ 32.,  65.,  33.]])"
     },
     "execution_count": 26,
     "metadata": {},
     "output_type": "execute_result"
    }
   ],
   "source": [
    "sum_confusion_matrix_rf"
   ],
   "metadata": {
    "collapsed": false,
    "ExecuteTime": {
     "start_time": "2023-07-25T17:39:53.651694Z",
     "end_time": "2023-07-25T17:39:53.657795Z"
    }
   }
  },
  {
   "cell_type": "code",
   "execution_count": 27,
   "outputs": [],
   "source": [
    "from scipy import stats\n",
    "confidence = 0.95\n",
    "avg_acc = np.mean(fold_acc)\n",
    "scores['acc'].append(avg_acc)\n",
    "#scores_svc['acc'] = scores_svc['acc'][-1]\n",
    "ci = stats.t.interval(confidence, len(fold_acc) - 1, loc=np.mean(fold_acc), scale=stats.sem(fold_acc))\n",
    "scores['CI_acc'].append(ci)\n",
    "scores['SD_acc'].append(np.std(fold_acc))\n",
    "\n",
    "#auc_tot\n",
    "avg_auc_tot = np.mean(fold_auc_tot)\n",
    "scores['auc_tot'].append(avg_auc_tot)\n",
    "scores['auc_tot'] = scores['auc_tot'][-1]\n",
    "ci = stats.t.interval(confidence, len(fold_auc_tot) - 1, loc=np.mean(fold_auc_tot), scale=stats.sem(fold_auc_tot))\n",
    "scores['CI_auc_tot'].append(ci)\n",
    "scores['SD_auc_tot'].append(np.std(fold_auc_tot))\n",
    "\n",
    "#auc_class\n",
    "list_0 = list(d[0] for d in fold_auc_class)\n",
    "list_1 = list(d[1] for d in fold_auc_class)\n",
    "list_2 = list(d[2] for d in fold_auc_class)\n",
    "\n",
    "avg_auc_class = {0: np.mean(list_0), 1: np.mean(list_1), 2: np.mean(list_2)}\n",
    "scores['auc_class'].append(avg_auc_class)\n",
    "\n",
    "sd_auc_class = {0: np.std(list_0), 1: np.std(list_1), 2: np.std(list_2)}\n",
    "scores['SD_auc_class'].append(sd_auc_class)\n",
    "\n",
    "ci_0 = stats.t.interval(confidence, len(list_0) - 1, loc=np.mean(list_0), scale=stats.sem(list_0))\n",
    "ci_1 = stats.t.interval(confidence, len(list_1) - 1, loc=np.mean(list_1), scale=stats.sem(list_1))\n",
    "ci_2 = stats.t.interval(confidence, len(list_2) - 1, loc=np.mean(list_2), scale=stats.sem(list_2))\n",
    "\n",
    "CI_auc_class = {0: ci_0, 1: ci_1, 2: ci_2}\n",
    "scores['CI_auc_class'].append(CI_auc_class)\n",
    "\n",
    "#sensitivity\n",
    "list_0 = list(d[0] for d in sensi)\n",
    "list_1 = list(d[1] for d in sensi)\n",
    "list_2 = list(d[2] for d in sensi)\n",
    "\n",
    "avg_sensi_class = {0: np.mean(list_0), 1: np.mean(list_1), 2: np.mean(list_2)}\n",
    "scores['Sen_mean'].append(avg_sensi_class)\n",
    "\n",
    "sd_sensi_class = {0: np.std(list_0), 1: np.std(list_1), 2: np.std(list_2)}\n",
    "scores['Sen_SD'].append(sd_sensi_class)\n",
    "\n",
    "ci_0 = stats.t.interval(confidence, len(list_0) - 1, loc=np.mean(list_0), scale=stats.sem(list_0))\n",
    "ci_1 = stats.t.interval(confidence, len(list_1) - 1, loc=np.mean(list_1), scale=stats.sem(list_1))\n",
    "ci_2 = stats.t.interval(confidence, len(list_2) - 1, loc=np.mean(list_2), scale=stats.sem(list_2))\n",
    "\n",
    "CI_sen_class = {0: ci_0, 1: ci_1, 2: ci_2}\n",
    "scores['Sen_CI'].append(CI_sen_class)\n",
    "\n",
    "#specificity\n",
    "list_0 = list(d[0] for d in speci)\n",
    "list_1 = list(d[1] for d in speci)\n",
    "list_2 = list(d[2] for d in speci)\n",
    "\n",
    "avg_speci_class = {0: np.mean(list_0), 1: np.mean(list_1), 2: np.mean(list_2)}\n",
    "scores['Spe_mean'].append(avg_speci_class)\n",
    "sd_speci_class = {0: np.std(list_0), 1: np.std(list_1), 2: np.std(list_2)}\n",
    "scores['Spe_sd'].append(sd_speci_class)\n",
    "\n",
    "ci_0 = stats.t.interval(confidence, len(list_0) - 1, loc=np.mean(list_0), scale=stats.sem(list_0))\n",
    "ci_1 = stats.t.interval(confidence, len(list_1) - 1, loc=np.mean(list_1), scale=stats.sem(list_1))\n",
    "ci_2 = stats.t.interval(confidence, len(list_2) - 1, loc=np.mean(list_2), scale=stats.sem(list_2))\n",
    "\n",
    "CI_spe_class = {0: ci_0, 1: ci_1, 2: ci_2}\n",
    "scores['Spe_CI'].append(CI_spe_class)\n",
    "\n",
    "#precision\n",
    "list_0 = list(d[0] for d in prec)\n",
    "list_1 = list(d[1] for d in prec)\n",
    "list_2 = list(d[2] for d in prec)\n",
    "\n",
    "avg_prec_class = {0: np.mean(list_0), 1: np.mean(list_1), 2: np.mean(list_2)}\n",
    "scores['Pre_mean'].append(avg_prec_class)\n",
    "sd_prec_class = {0: np.std(list_0), 1: np.std(list_1), 2: np.std(list_2)}\n",
    "scores['Pre_sd'].append(sd_prec_class)\n",
    "\n",
    "ci_0 = stats.t.interval(confidence, len(list_0) - 1, loc=np.mean(list_0), scale=stats.sem(list_0))\n",
    "ci_1 = stats.t.interval(confidence, len(list_1) - 1, loc=np.mean(list_1), scale=stats.sem(list_1))\n",
    "ci_2 = stats.t.interval(confidence, len(list_2) - 1, loc=np.mean(list_2), scale=stats.sem(list_2))\n",
    "\n",
    "CI_pre_class = {0: ci_0, 1: ci_1, 2: ci_2}\n",
    "scores['Pre_CI'].append(CI_pre_class)\n",
    "\n",
    "#F1\n",
    "list_0 = list(d[0] for d in f1)\n",
    "list_1 = list(d[1] for d in f1)\n",
    "list_2 = list(d[2] for d in f1)\n",
    "\n",
    "avg_f1_class = {0: np.mean(list_0), 1: np.mean(list_1), 2: np.mean(list_2)}\n",
    "scores['F1_mean'].append(avg_f1_class)\n",
    "sd_f1_class = {0: np.std(list_0), 1: np.std(list_1), 2: np.std(list_2)}\n",
    "scores['F1_sd'].append(sd_f1_class)\n",
    "\n",
    "ci_0 = stats.t.interval(confidence, len(list_0) - 1, loc=np.mean(list_0), scale=stats.sem(list_0))\n",
    "ci_1 = stats.t.interval(confidence, len(list_1) - 1, loc=np.mean(list_1), scale=stats.sem(list_1))\n",
    "ci_2 = stats.t.interval(confidence, len(list_2) - 1, loc=np.mean(list_2), scale=stats.sem(list_2))\n",
    "\n",
    "CI_F1_class = {0: ci_0, 1: ci_1, 2: ci_2}\n",
    "scores['F1_CI'].append(CI_F1_class)\n",
    "list_0 = list(d[0] for d in accy)\n",
    "list_1 = list(d[1] for d in accy)\n",
    "list_2 = list(d[2] for d in accy)\n",
    "\n",
    "avg_accy_class = {0: np.mean(list_0), 1: np.mean(list_1), 2: np.mean(list_2)}\n",
    "scores['Accy_mean'].append(avg_accy_class)\n",
    "sd_accy_class = {0: np.std(list_0), 1: np.std(list_1), 2: np.std(list_2)}\n",
    "scores['Accy_sd'].append(sd_accy_class)\n",
    "\n",
    "ci_0 = stats.t.interval(confidence, len(list_0) - 1, loc=np.mean(list_0), scale=stats.sem(list_0))\n",
    "ci_1 = stats.t.interval(confidence, len(list_1) - 1, loc=np.mean(list_1), scale=stats.sem(list_1))\n",
    "ci_2 = stats.t.interval(confidence, len(list_2) - 1, loc=np.mean(list_2), scale=stats.sem(list_2))\n",
    "\n",
    "CI_accy_class = {0: ci_0, 1: ci_1, 2: ci_2}\n",
    "scores['Accy_CI'].append(CI_accy_class)"
   ],
   "metadata": {
    "collapsed": false,
    "ExecuteTime": {
     "start_time": "2023-07-25T17:41:28.530589Z",
     "end_time": "2023-07-25T17:41:28.564174Z"
    }
   }
  },
  {
   "cell_type": "code",
   "execution_count": 28,
   "outputs": [
    {
     "data": {
      "text/plain": "{'acc': [0.36703296703296695],\n 'SD_acc': [0.1602437462290829],\n 'CI_acc': [(0.2462007875941104, 0.4878651464718235)],\n 'auc_tot': 0.5183955457896203,\n 'SD_auc_tot': [0.057868299484171694],\n 'CI_auc_tot': [(0.47475981639836706, 0.5620312751808736)],\n 'auc_class': [{0: 0.6025581395348837,\n   1: 0.4571156773211567,\n   2: 0.49551282051282053}],\n 'SD_auc_class': [{0: 0.11228464755610303,\n   1: 0.049815554774439934,\n   2: 0.06365549227091459}],\n 'CI_auc_class': [{0: (0.5178896329565883, 0.6872266461131791),\n   1: (0.4195521393048515, 0.4946792153374619),\n   2: (0.44751324458333613, 0.543512396442305)}],\n 'Sen_mean': [{0: 54.0, 1: 37.534246575342465, 2: 25.384615384615383}],\n 'Sen_CI': [{0: (26.980081714986135, 81.01991828501386),\n   1: (18.17534804284507, 56.89314510783986),\n   2: (2.7630437572054696, 48.00618701202529)}],\n 'Sen_SD': [{0: 35.832945734337834, 1: 25.67314798195644, 2: 30.0}],\n 'Spe_mean': [{0: 66.51162790697674,\n   1: 53.88888888888889,\n   2: 73.71794871794872}],\n 'Spe_CI': [{0: (51.189850748215065, 81.83340506573842),\n   1: (30.336158416497945, 77.44161936127983),\n   2: (51.04500023528912, 96.39089720060831)}],\n 'Spe_sd': [{0: 20.31924758958398,\n   1: 31.234872881934663,\n   2: 30.068134331375227}],\n 'Pre_mean': [{0: 9.091994810744811, 1: nan, 2: 22.493858163194545}],\n 'Pre_CI': [{0: (5.386685925973971, 12.797303695515652),\n   1: (nan, nan),\n   2: (1.1321567823143326, 43.85555954407476)}],\n 'Pre_sd': [{0: 4.913861352074967, 1: nan, 2: 28.329200640060982}],\n 'F1_mean': [{0: nan, 1: nan, 2: nan}],\n 'F1_CI': [{0: (nan, nan), 1: (nan, nan), 2: (nan, nan)}],\n 'F1_sd': [{0: nan, 1: nan, 2: nan}],\n 'Accy_mean': [{0: 65.82417582417581,\n   1: 40.76923076923077,\n   2: 66.8131868131868}],\n 'Accy_CI': [{0: (52.53274973591667, 79.11560191243495),\n   1: (29.61839649107941, 51.920065047382124),\n   2: (50.26631430401261, 83.360059322361)}],\n 'Accy_sd': [{0: 17.62666136620804,\n   1: 14.787877423123263,\n   2: 21.943929601855977}]}"
     },
     "execution_count": 28,
     "metadata": {},
     "output_type": "execute_result"
    }
   ],
   "source": [
    "scores"
   ],
   "metadata": {
    "collapsed": false,
    "ExecuteTime": {
     "start_time": "2023-07-25T17:41:42.204862Z",
     "end_time": "2023-07-25T17:41:42.275700Z"
    }
   }
  },
  {
   "cell_type": "code",
   "execution_count": 29,
   "outputs": [
    {
     "data": {
      "text/plain": "array([[ 27.,  18.,   5.],\n       [256., 274., 200.],\n       [ 32.,  65.,  33.]])"
     },
     "execution_count": 29,
     "metadata": {},
     "output_type": "execute_result"
    }
   ],
   "source": [
    "sum_confusion_matrix_rf"
   ],
   "metadata": {
    "collapsed": false,
    "ExecuteTime": {
     "start_time": "2023-07-25T17:43:50.300351Z",
     "end_time": "2023-07-25T17:43:50.388740Z"
    }
   }
  },
  {
   "cell_type": "markdown",
   "source": [
    "## freeze layers + shuffle"
   ],
   "metadata": {
    "collapsed": false
   }
  },
  {
   "cell_type": "code",
   "execution_count": 33,
   "outputs": [
    {
     "name": "stdout",
     "output_type": "stream",
     "text": [
      "Loaded pretrained weights for efficientnet-b0\n",
      "TRAINING\n"
     ]
    },
    {
     "name": "stderr",
     "output_type": "stream",
     "text": [
      "Training Progress:   2%|▏         | 1/50 [00:15<12:44, 15.60s/it]"
     ]
    },
    {
     "name": "stdout",
     "output_type": "stream",
     "text": [
      "------------------------------------------------------------------------------------------------------------------------------------------\n",
      "Epoch [1/50]: Train Loss: 0.9548 | Val Loss: 1.0985 | Val Acc: 20.00%\n",
      "Validation loss decreased (inf --> 1.098463).  Saving model ...\n"
     ]
    },
    {
     "name": "stderr",
     "output_type": "stream",
     "text": [
      "Training Progress:   4%|▍         | 2/50 [00:28<11:06, 13.89s/it]"
     ]
    },
    {
     "name": "stdout",
     "output_type": "stream",
     "text": [
      "------------------------------------------------------------------------------------------------------------------------------------------\n",
      "Epoch [2/50]: Train Loss: 1.1648 | Val Loss: 1.0986 | Val Acc: 24.44%\n",
      "EarlyStopping counter: 1 out of 10\n"
     ]
    },
    {
     "name": "stderr",
     "output_type": "stream",
     "text": [
      "Training Progress:   6%|▌         | 3/50 [00:39<09:49, 12.54s/it]"
     ]
    },
    {
     "name": "stdout",
     "output_type": "stream",
     "text": [
      "------------------------------------------------------------------------------------------------------------------------------------------\n",
      "Epoch [3/50]: Train Loss: 0.9928 | Val Loss: 1.1049 | Val Acc: 15.56%\n",
      "EarlyStopping counter: 2 out of 10\n"
     ]
    },
    {
     "name": "stderr",
     "output_type": "stream",
     "text": [
      "Training Progress:   8%|▊         | 4/50 [00:51<09:34, 12.49s/it]"
     ]
    },
    {
     "name": "stdout",
     "output_type": "stream",
     "text": [
      "------------------------------------------------------------------------------------------------------------------------------------------\n",
      "Epoch [4/50]: Train Loss: 1.0081 | Val Loss: 1.1141 | Val Acc: 15.56%\n",
      "EarlyStopping counter: 3 out of 10\n"
     ]
    },
    {
     "name": "stderr",
     "output_type": "stream",
     "text": [
      "Training Progress:  10%|█         | 5/50 [01:05<09:52, 13.16s/it]"
     ]
    },
    {
     "name": "stdout",
     "output_type": "stream",
     "text": [
      "------------------------------------------------------------------------------------------------------------------------------------------\n",
      "Epoch [5/50]: Train Loss: 0.9734 | Val Loss: 1.1030 | Val Acc: 13.33%\n",
      "EarlyStopping counter: 4 out of 10\n"
     ]
    },
    {
     "name": "stderr",
     "output_type": "stream",
     "text": [
      "Training Progress:  12%|█▏        | 6/50 [01:18<09:35, 13.08s/it]"
     ]
    },
    {
     "name": "stdout",
     "output_type": "stream",
     "text": [
      "------------------------------------------------------------------------------------------------------------------------------------------\n",
      "Epoch [6/50]: Train Loss: 1.0363 | Val Loss: 1.1302 | Val Acc: 15.56%\n",
      "EarlyStopping counter: 5 out of 10\n"
     ]
    },
    {
     "name": "stderr",
     "output_type": "stream",
     "text": [
      "Training Progress:  14%|█▍        | 7/50 [01:31<09:14, 12.90s/it]"
     ]
    },
    {
     "name": "stdout",
     "output_type": "stream",
     "text": [
      "------------------------------------------------------------------------------------------------------------------------------------------\n",
      "Epoch [7/50]: Train Loss: 0.9385 | Val Loss: 1.0969 | Val Acc: 15.56%\n",
      "Validation loss decreased (1.098463 --> 1.096940).  Saving model ...\n"
     ]
    },
    {
     "name": "stderr",
     "output_type": "stream",
     "text": [
      "Training Progress:  16%|█▌        | 8/50 [01:43<08:46, 12.54s/it]"
     ]
    },
    {
     "name": "stdout",
     "output_type": "stream",
     "text": [
      "------------------------------------------------------------------------------------------------------------------------------------------\n",
      "Epoch [8/50]: Train Loss: 0.8763 | Val Loss: 1.1740 | Val Acc: 13.33%\n",
      "EarlyStopping counter: 1 out of 10\n"
     ]
    },
    {
     "name": "stderr",
     "output_type": "stream",
     "text": [
      "Training Progress:  18%|█▊        | 9/50 [01:55<08:24, 12.31s/it]"
     ]
    },
    {
     "name": "stdout",
     "output_type": "stream",
     "text": [
      "------------------------------------------------------------------------------------------------------------------------------------------\n",
      "Epoch [9/50]: Train Loss: 0.9018 | Val Loss: 1.0535 | Val Acc: 15.56%\n",
      "Validation loss decreased (1.096940 --> 1.053517).  Saving model ...\n"
     ]
    },
    {
     "name": "stderr",
     "output_type": "stream",
     "text": [
      "Training Progress:  20%|██        | 10/50 [02:07<08:17, 12.44s/it]"
     ]
    },
    {
     "name": "stdout",
     "output_type": "stream",
     "text": [
      "------------------------------------------------------------------------------------------------------------------------------------------\n",
      "Epoch [10/50]: Train Loss: 0.9445 | Val Loss: 1.0802 | Val Acc: 15.56%\n",
      "EarlyStopping counter: 1 out of 10\n"
     ]
    },
    {
     "name": "stderr",
     "output_type": "stream",
     "text": [
      "Training Progress:  22%|██▏       | 11/50 [02:19<07:58, 12.27s/it]"
     ]
    },
    {
     "name": "stdout",
     "output_type": "stream",
     "text": [
      "------------------------------------------------------------------------------------------------------------------------------------------\n",
      "Epoch [11/50]: Train Loss: 0.7707 | Val Loss: 1.1362 | Val Acc: 15.56%\n",
      "EarlyStopping counter: 2 out of 10\n"
     ]
    },
    {
     "name": "stderr",
     "output_type": "stream",
     "text": [
      "Training Progress:  24%|██▍       | 12/50 [02:31<07:44, 12.21s/it]"
     ]
    },
    {
     "name": "stdout",
     "output_type": "stream",
     "text": [
      "------------------------------------------------------------------------------------------------------------------------------------------\n",
      "Epoch [12/50]: Train Loss: 0.9155 | Val Loss: 1.1007 | Val Acc: 20.00%\n",
      "EarlyStopping counter: 3 out of 10\n"
     ]
    },
    {
     "name": "stderr",
     "output_type": "stream",
     "text": [
      "Training Progress:  26%|██▌       | 13/50 [02:43<07:31, 12.21s/it]"
     ]
    },
    {
     "name": "stdout",
     "output_type": "stream",
     "text": [
      "------------------------------------------------------------------------------------------------------------------------------------------\n",
      "Epoch [13/50]: Train Loss: 0.7576 | Val Loss: 1.0621 | Val Acc: 20.00%\n",
      "EarlyStopping counter: 4 out of 10\n"
     ]
    },
    {
     "name": "stderr",
     "output_type": "stream",
     "text": [
      "Training Progress:  28%|██▊       | 14/50 [02:56<07:23, 12.32s/it]"
     ]
    },
    {
     "name": "stdout",
     "output_type": "stream",
     "text": [
      "------------------------------------------------------------------------------------------------------------------------------------------\n",
      "Epoch [14/50]: Train Loss: 0.8477 | Val Loss: 1.0469 | Val Acc: 22.22%\n",
      "Validation loss decreased (1.053517 --> 1.046924).  Saving model ...\n"
     ]
    },
    {
     "name": "stderr",
     "output_type": "stream",
     "text": [
      "Training Progress:  30%|███       | 15/50 [03:09<07:17, 12.50s/it]"
     ]
    },
    {
     "name": "stdout",
     "output_type": "stream",
     "text": [
      "------------------------------------------------------------------------------------------------------------------------------------------\n",
      "Epoch [15/50]: Train Loss: 0.8565 | Val Loss: 1.1054 | Val Acc: 17.78%\n",
      "EarlyStopping counter: 1 out of 10\n",
      "------------------------------------------------------------------------------------------------------------------------------------------\n",
      "Epoch [16/50]: Train Loss: 0.8300 | Val Loss: 1.0021 | Val Acc: 24.44%\n",
      "Validation loss decreased (1.046924 --> 1.002071).  Saving model ...\n"
     ]
    },
    {
     "name": "stderr",
     "output_type": "stream",
     "text": [
      "Training Progress:  34%|███▍      | 17/50 [03:32<06:35, 11.99s/it]"
     ]
    },
    {
     "name": "stdout",
     "output_type": "stream",
     "text": [
      "------------------------------------------------------------------------------------------------------------------------------------------\n",
      "Epoch [17/50]: Train Loss: 1.0984 | Val Loss: 0.9671 | Val Acc: 26.67%\n",
      "Validation loss decreased (1.002071 --> 0.967087).  Saving model ...\n"
     ]
    },
    {
     "name": "stderr",
     "output_type": "stream",
     "text": [
      "Training Progress:  36%|███▌      | 18/50 [03:42<06:08, 11.53s/it]"
     ]
    },
    {
     "name": "stdout",
     "output_type": "stream",
     "text": [
      "------------------------------------------------------------------------------------------------------------------------------------------\n",
      "Epoch [18/50]: Train Loss: 0.8193 | Val Loss: 1.0542 | Val Acc: 26.67%\n",
      "EarlyStopping counter: 1 out of 10\n"
     ]
    },
    {
     "name": "stderr",
     "output_type": "stream",
     "text": [
      "Training Progress:  38%|███▊      | 19/50 [03:53<05:47, 11.21s/it]"
     ]
    },
    {
     "name": "stdout",
     "output_type": "stream",
     "text": [
      "------------------------------------------------------------------------------------------------------------------------------------------\n",
      "Epoch [19/50]: Train Loss: 0.9562 | Val Loss: 1.0174 | Val Acc: 26.67%\n",
      "EarlyStopping counter: 2 out of 10\n",
      "------------------------------------------------------------------------------------------------------------------------------------------\n",
      "Epoch [20/50]: Train Loss: 0.7663 | Val Loss: 0.8976 | Val Acc: 31.11%\n",
      "Validation loss decreased (0.967087 --> 0.897621).  Saving model ...\n"
     ]
    },
    {
     "name": "stderr",
     "output_type": "stream",
     "text": [
      "Training Progress:  42%|████▏     | 21/50 [04:10<04:46,  9.89s/it]"
     ]
    },
    {
     "name": "stdout",
     "output_type": "stream",
     "text": [
      "------------------------------------------------------------------------------------------------------------------------------------------\n",
      "Epoch [21/50]: Train Loss: 1.0442 | Val Loss: 1.0030 | Val Acc: 33.33%\n",
      "EarlyStopping counter: 1 out of 10\n"
     ]
    },
    {
     "name": "stderr",
     "output_type": "stream",
     "text": [
      "Training Progress:  44%|████▍     | 22/50 [04:19<04:24,  9.44s/it]"
     ]
    },
    {
     "name": "stdout",
     "output_type": "stream",
     "text": [
      "------------------------------------------------------------------------------------------------------------------------------------------\n",
      "Epoch [22/50]: Train Loss: 0.9321 | Val Loss: 0.9873 | Val Acc: 31.11%\n",
      "EarlyStopping counter: 2 out of 10\n"
     ]
    },
    {
     "name": "stderr",
     "output_type": "stream",
     "text": [
      "Training Progress:  46%|████▌     | 23/50 [04:28<04:13,  9.40s/it]"
     ]
    },
    {
     "name": "stdout",
     "output_type": "stream",
     "text": [
      "------------------------------------------------------------------------------------------------------------------------------------------\n",
      "Epoch [23/50]: Train Loss: 1.0694 | Val Loss: 1.1549 | Val Acc: 22.22%\n",
      "EarlyStopping counter: 3 out of 10\n"
     ]
    },
    {
     "name": "stderr",
     "output_type": "stream",
     "text": [
      "Training Progress:  48%|████▊     | 24/50 [04:37<03:58,  9.19s/it]"
     ]
    },
    {
     "name": "stdout",
     "output_type": "stream",
     "text": [
      "------------------------------------------------------------------------------------------------------------------------------------------\n",
      "Epoch [24/50]: Train Loss: 1.1718 | Val Loss: 1.1363 | Val Acc: 22.22%\n",
      "EarlyStopping counter: 4 out of 10\n"
     ]
    },
    {
     "name": "stderr",
     "output_type": "stream",
     "text": [
      "Training Progress:  50%|█████     | 25/50 [04:45<03:42,  8.90s/it]"
     ]
    },
    {
     "name": "stdout",
     "output_type": "stream",
     "text": [
      "------------------------------------------------------------------------------------------------------------------------------------------\n",
      "Epoch [25/50]: Train Loss: 0.6271 | Val Loss: 1.0723 | Val Acc: 22.22%\n",
      "EarlyStopping counter: 5 out of 10\n"
     ]
    },
    {
     "name": "stderr",
     "output_type": "stream",
     "text": [
      "Training Progress:  52%|█████▏    | 26/50 [04:53<03:30,  8.75s/it]"
     ]
    },
    {
     "name": "stdout",
     "output_type": "stream",
     "text": [
      "------------------------------------------------------------------------------------------------------------------------------------------\n",
      "Epoch [26/50]: Train Loss: 0.6603 | Val Loss: 1.1862 | Val Acc: 24.44%\n",
      "EarlyStopping counter: 6 out of 10\n"
     ]
    },
    {
     "name": "stderr",
     "output_type": "stream",
     "text": [
      "Training Progress:  54%|█████▍    | 27/50 [05:02<03:20,  8.71s/it]"
     ]
    },
    {
     "name": "stdout",
     "output_type": "stream",
     "text": [
      "------------------------------------------------------------------------------------------------------------------------------------------\n",
      "Epoch [27/50]: Train Loss: 0.6586 | Val Loss: 0.9379 | Val Acc: 24.44%\n",
      "EarlyStopping counter: 7 out of 10\n"
     ]
    },
    {
     "name": "stderr",
     "output_type": "stream",
     "text": [
      "Training Progress:  56%|█████▌    | 28/50 [05:10<03:07,  8.51s/it]"
     ]
    },
    {
     "name": "stdout",
     "output_type": "stream",
     "text": [
      "------------------------------------------------------------------------------------------------------------------------------------------\n",
      "Epoch [28/50]: Train Loss: 0.8904 | Val Loss: 1.0402 | Val Acc: 15.56%\n",
      "EarlyStopping counter: 8 out of 10\n"
     ]
    },
    {
     "name": "stderr",
     "output_type": "stream",
     "text": [
      "Training Progress:  58%|█████▊    | 29/50 [05:18<02:54,  8.30s/it]"
     ]
    },
    {
     "name": "stdout",
     "output_type": "stream",
     "text": [
      "------------------------------------------------------------------------------------------------------------------------------------------\n",
      "Epoch [29/50]: Train Loss: 0.5358 | Val Loss: 1.0887 | Val Acc: 22.22%\n",
      "EarlyStopping counter: 9 out of 10\n"
     ]
    },
    {
     "name": "stderr",
     "output_type": "stream",
     "text": [
      "Training Progress:  58%|█████▊    | 29/50 [05:26<03:56, 11.26s/it]"
     ]
    },
    {
     "name": "stdout",
     "output_type": "stream",
     "text": [
      "------------------------------------------------------------------------------------------------------------------------------------------\n",
      "Epoch [30/50]: Train Loss: 0.8017 | Val Loss: 1.2271 | Val Acc: 20.00%\n",
      "EarlyStopping counter: 10 out of 10\n",
      "Early stopping\n"
     ]
    },
    {
     "name": "stderr",
     "output_type": "stream",
     "text": [
      "\n"
     ]
    },
    {
     "name": "stdout",
     "output_type": "stream",
     "text": [
      "Test Loss: 1.304541\n",
      "\n",
      "Test Accuracy of     0: 80% ( 4/ 5)\n",
      "Test Accuracy of     1: 10% ( 8/73)\n",
      "Test Accuracy of     2:  7% ( 1/13)\n",
      "\n",
      "Test Accuracy (Overall): 14% (13/91)\n",
      "[[ 4  1  0]\n",
      " [62  8  3]\n",
      " [10  2  1]]\n",
      "Loaded pretrained weights for efficientnet-b0\n",
      "TRAINING\n"
     ]
    },
    {
     "name": "stderr",
     "output_type": "stream",
     "text": [
      "Training Progress:   2%|▏         | 1/50 [00:09<07:24,  9.08s/it]"
     ]
    },
    {
     "name": "stdout",
     "output_type": "stream",
     "text": [
      "------------------------------------------------------------------------------------------------------------------------------------------\n",
      "Epoch [1/50]: Train Loss: 1.0749 | Val Loss: 1.1391 | Val Acc: 35.48%\n",
      "Validation loss decreased (inf --> 1.139116).  Saving model ...\n"
     ]
    },
    {
     "name": "stderr",
     "output_type": "stream",
     "text": [
      "Training Progress:   4%|▍         | 2/50 [00:18<07:13,  9.03s/it]"
     ]
    },
    {
     "name": "stdout",
     "output_type": "stream",
     "text": [
      "------------------------------------------------------------------------------------------------------------------------------------------\n",
      "Epoch [2/50]: Train Loss: 1.0562 | Val Loss: 1.0696 | Val Acc: 38.71%\n",
      "Validation loss decreased (1.139116 --> 1.069588).  Saving model ...\n"
     ]
    },
    {
     "name": "stderr",
     "output_type": "stream",
     "text": [
      "Training Progress:   6%|▌         | 3/50 [00:26<07:01,  8.97s/it]"
     ]
    },
    {
     "name": "stdout",
     "output_type": "stream",
     "text": [
      "------------------------------------------------------------------------------------------------------------------------------------------\n",
      "Epoch [3/50]: Train Loss: 0.9559 | Val Loss: 1.0715 | Val Acc: 35.48%\n",
      "EarlyStopping counter: 1 out of 10\n"
     ]
    },
    {
     "name": "stderr",
     "output_type": "stream",
     "text": [
      "Training Progress:   8%|▊         | 4/50 [00:36<06:55,  9.03s/it]"
     ]
    },
    {
     "name": "stdout",
     "output_type": "stream",
     "text": [
      "------------------------------------------------------------------------------------------------------------------------------------------\n",
      "Epoch [4/50]: Train Loss: 0.9910 | Val Loss: 1.0444 | Val Acc: 48.39%\n",
      "Validation loss decreased (1.069588 --> 1.044418).  Saving model ...\n"
     ]
    },
    {
     "name": "stderr",
     "output_type": "stream",
     "text": [
      "Training Progress:  10%|█         | 5/50 [00:45<06:51,  9.15s/it]"
     ]
    },
    {
     "name": "stdout",
     "output_type": "stream",
     "text": [
      "------------------------------------------------------------------------------------------------------------------------------------------\n",
      "Epoch [5/50]: Train Loss: 1.0113 | Val Loss: 1.0389 | Val Acc: 41.94%\n",
      "Validation loss decreased (1.044418 --> 1.038945).  Saving model ...\n"
     ]
    },
    {
     "name": "stderr",
     "output_type": "stream",
     "text": [
      "Training Progress:  12%|█▏        | 6/50 [00:54<06:43,  9.17s/it]"
     ]
    },
    {
     "name": "stdout",
     "output_type": "stream",
     "text": [
      "------------------------------------------------------------------------------------------------------------------------------------------\n",
      "Epoch [6/50]: Train Loss: 0.9450 | Val Loss: 0.9646 | Val Acc: 32.26%\n",
      "Validation loss decreased (1.038945 --> 0.964618).  Saving model ...\n"
     ]
    },
    {
     "name": "stderr",
     "output_type": "stream",
     "text": [
      "Training Progress:  14%|█▍        | 7/50 [01:03<06:29,  9.05s/it]"
     ]
    },
    {
     "name": "stdout",
     "output_type": "stream",
     "text": [
      "------------------------------------------------------------------------------------------------------------------------------------------\n",
      "Epoch [7/50]: Train Loss: 0.9302 | Val Loss: 0.9878 | Val Acc: 29.03%\n",
      "EarlyStopping counter: 1 out of 10\n"
     ]
    },
    {
     "name": "stderr",
     "output_type": "stream",
     "text": [
      "Training Progress:  16%|█▌        | 8/50 [01:12<06:19,  9.04s/it]"
     ]
    },
    {
     "name": "stdout",
     "output_type": "stream",
     "text": [
      "------------------------------------------------------------------------------------------------------------------------------------------\n",
      "Epoch [8/50]: Train Loss: 0.7888 | Val Loss: 1.0186 | Val Acc: 19.35%\n",
      "EarlyStopping counter: 2 out of 10\n"
     ]
    },
    {
     "name": "stderr",
     "output_type": "stream",
     "text": [
      "Training Progress:  18%|█▊        | 9/50 [01:21<06:15,  9.15s/it]"
     ]
    },
    {
     "name": "stdout",
     "output_type": "stream",
     "text": [
      "------------------------------------------------------------------------------------------------------------------------------------------\n",
      "Epoch [9/50]: Train Loss: 1.0244 | Val Loss: 0.9655 | Val Acc: 25.81%\n",
      "EarlyStopping counter: 3 out of 10\n"
     ]
    },
    {
     "name": "stderr",
     "output_type": "stream",
     "text": [
      "Training Progress:  20%|██        | 10/50 [01:31<06:06,  9.17s/it]"
     ]
    },
    {
     "name": "stdout",
     "output_type": "stream",
     "text": [
      "------------------------------------------------------------------------------------------------------------------------------------------\n",
      "Epoch [10/50]: Train Loss: 0.9478 | Val Loss: 0.9812 | Val Acc: 29.03%\n",
      "EarlyStopping counter: 4 out of 10\n"
     ]
    },
    {
     "name": "stderr",
     "output_type": "stream",
     "text": [
      "Training Progress:  22%|██▏       | 11/50 [01:40<05:56,  9.14s/it]"
     ]
    },
    {
     "name": "stdout",
     "output_type": "stream",
     "text": [
      "------------------------------------------------------------------------------------------------------------------------------------------\n",
      "Epoch [11/50]: Train Loss: 1.0918 | Val Loss: 1.0181 | Val Acc: 19.35%\n",
      "EarlyStopping counter: 5 out of 10\n"
     ]
    },
    {
     "name": "stderr",
     "output_type": "stream",
     "text": [
      "Training Progress:  24%|██▍       | 12/50 [01:49<05:43,  9.05s/it]"
     ]
    },
    {
     "name": "stdout",
     "output_type": "stream",
     "text": [
      "------------------------------------------------------------------------------------------------------------------------------------------\n",
      "Epoch [12/50]: Train Loss: 0.9762 | Val Loss: 0.9759 | Val Acc: 29.03%\n",
      "EarlyStopping counter: 6 out of 10\n"
     ]
    },
    {
     "name": "stderr",
     "output_type": "stream",
     "text": [
      "Training Progress:  26%|██▌       | 13/50 [01:57<05:29,  8.92s/it]"
     ]
    },
    {
     "name": "stdout",
     "output_type": "stream",
     "text": [
      "------------------------------------------------------------------------------------------------------------------------------------------\n",
      "Epoch [13/50]: Train Loss: 0.6746 | Val Loss: 0.9840 | Val Acc: 22.58%\n",
      "EarlyStopping counter: 7 out of 10\n"
     ]
    },
    {
     "name": "stderr",
     "output_type": "stream",
     "text": [
      "Training Progress:  28%|██▊       | 14/50 [02:06<05:20,  8.90s/it]"
     ]
    },
    {
     "name": "stdout",
     "output_type": "stream",
     "text": [
      "------------------------------------------------------------------------------------------------------------------------------------------\n",
      "Epoch [14/50]: Train Loss: 0.7406 | Val Loss: 1.0099 | Val Acc: 22.58%\n",
      "EarlyStopping counter: 8 out of 10\n"
     ]
    },
    {
     "name": "stderr",
     "output_type": "stream",
     "text": [
      "Training Progress:  30%|███       | 15/50 [02:16<05:20,  9.15s/it]"
     ]
    },
    {
     "name": "stdout",
     "output_type": "stream",
     "text": [
      "------------------------------------------------------------------------------------------------------------------------------------------\n",
      "Epoch [15/50]: Train Loss: 0.9774 | Val Loss: 1.0543 | Val Acc: 16.13%\n",
      "EarlyStopping counter: 9 out of 10\n"
     ]
    },
    {
     "name": "stderr",
     "output_type": "stream",
     "text": [
      "Training Progress:  30%|███       | 15/50 [02:27<05:44,  9.84s/it]"
     ]
    },
    {
     "name": "stdout",
     "output_type": "stream",
     "text": [
      "------------------------------------------------------------------------------------------------------------------------------------------\n",
      "Epoch [16/50]: Train Loss: 1.0300 | Val Loss: 1.0126 | Val Acc: 19.35%\n",
      "EarlyStopping counter: 10 out of 10\n",
      "Early stopping\n"
     ]
    },
    {
     "name": "stderr",
     "output_type": "stream",
     "text": [
      "\n"
     ]
    },
    {
     "name": "stdout",
     "output_type": "stream",
     "text": [
      "Test Loss: 1.041478\n",
      "\n",
      "Test Accuracy of     0: 60% ( 3/ 5)\n",
      "Test Accuracy of     1: 30% (22/73)\n",
      "Test Accuracy of     2: 46% ( 6/13)\n",
      "\n",
      "Test Accuracy (Overall): 34% (31/91)\n",
      "[[ 3  0  2]\n",
      " [15 22 36]\n",
      " [ 3  4  6]]\n",
      "Loaded pretrained weights for efficientnet-b0\n",
      "TRAINING\n"
     ]
    },
    {
     "name": "stderr",
     "output_type": "stream",
     "text": [
      "Training Progress:   2%|▏         | 1/50 [00:10<08:23, 10.27s/it]"
     ]
    },
    {
     "name": "stdout",
     "output_type": "stream",
     "text": [
      "------------------------------------------------------------------------------------------------------------------------------------------\n",
      "Epoch [1/50]: Train Loss: 1.0688 | Val Loss: 1.0213 | Val Acc: 32.00%\n",
      "Validation loss decreased (inf --> 1.021311).  Saving model ...\n"
     ]
    },
    {
     "name": "stderr",
     "output_type": "stream",
     "text": [
      "Training Progress:   4%|▍         | 2/50 [00:20<08:21, 10.45s/it]"
     ]
    },
    {
     "name": "stdout",
     "output_type": "stream",
     "text": [
      "------------------------------------------------------------------------------------------------------------------------------------------\n",
      "Epoch [2/50]: Train Loss: 1.0993 | Val Loss: 1.0522 | Val Acc: 28.00%\n",
      "EarlyStopping counter: 1 out of 10\n"
     ]
    },
    {
     "name": "stderr",
     "output_type": "stream",
     "text": [
      "Training Progress:   6%|▌         | 3/50 [00:29<07:39,  9.77s/it]"
     ]
    },
    {
     "name": "stdout",
     "output_type": "stream",
     "text": [
      "------------------------------------------------------------------------------------------------------------------------------------------\n",
      "Epoch [3/50]: Train Loss: 1.1148 | Val Loss: 1.0127 | Val Acc: 28.00%\n",
      "Validation loss decreased (1.021311 --> 1.012725).  Saving model ...\n"
     ]
    },
    {
     "name": "stderr",
     "output_type": "stream",
     "text": [
      "Training Progress:   8%|▊         | 4/50 [00:38<07:14,  9.44s/it]"
     ]
    },
    {
     "name": "stdout",
     "output_type": "stream",
     "text": [
      "------------------------------------------------------------------------------------------------------------------------------------------\n",
      "Epoch [4/50]: Train Loss: 0.8367 | Val Loss: 1.0078 | Val Acc: 28.00%\n",
      "Validation loss decreased (1.012725 --> 1.007766).  Saving model ...\n"
     ]
    },
    {
     "name": "stderr",
     "output_type": "stream",
     "text": [
      "Training Progress:  10%|█         | 5/50 [00:48<07:08,  9.52s/it]"
     ]
    },
    {
     "name": "stdout",
     "output_type": "stream",
     "text": [
      "------------------------------------------------------------------------------------------------------------------------------------------\n",
      "Epoch [5/50]: Train Loss: 0.7496 | Val Loss: 1.0598 | Val Acc: 24.00%\n",
      "EarlyStopping counter: 1 out of 10\n"
     ]
    },
    {
     "name": "stderr",
     "output_type": "stream",
     "text": [
      "Training Progress:  12%|█▏        | 6/50 [00:59<07:18,  9.97s/it]"
     ]
    },
    {
     "name": "stdout",
     "output_type": "stream",
     "text": [
      "------------------------------------------------------------------------------------------------------------------------------------------\n",
      "Epoch [6/50]: Train Loss: 1.3104 | Val Loss: 1.0467 | Val Acc: 20.00%\n",
      "EarlyStopping counter: 2 out of 10\n"
     ]
    },
    {
     "name": "stderr",
     "output_type": "stream",
     "text": [
      "Training Progress:  14%|█▍        | 7/50 [01:10<07:28, 10.43s/it]"
     ]
    },
    {
     "name": "stdout",
     "output_type": "stream",
     "text": [
      "------------------------------------------------------------------------------------------------------------------------------------------\n",
      "Epoch [7/50]: Train Loss: 1.0097 | Val Loss: 1.0615 | Val Acc: 16.00%\n",
      "EarlyStopping counter: 3 out of 10\n"
     ]
    },
    {
     "name": "stderr",
     "output_type": "stream",
     "text": [
      "Training Progress:  16%|█▌        | 8/50 [01:21<07:27, 10.65s/it]"
     ]
    },
    {
     "name": "stdout",
     "output_type": "stream",
     "text": [
      "------------------------------------------------------------------------------------------------------------------------------------------\n",
      "Epoch [8/50]: Train Loss: 0.9035 | Val Loss: 1.0405 | Val Acc: 20.00%\n",
      "EarlyStopping counter: 4 out of 10\n"
     ]
    },
    {
     "name": "stderr",
     "output_type": "stream",
     "text": [
      "Training Progress:  18%|█▊        | 9/50 [01:32<07:16, 10.65s/it]"
     ]
    },
    {
     "name": "stdout",
     "output_type": "stream",
     "text": [
      "------------------------------------------------------------------------------------------------------------------------------------------\n",
      "Epoch [9/50]: Train Loss: 0.7839 | Val Loss: 1.0553 | Val Acc: 16.00%\n",
      "EarlyStopping counter: 5 out of 10\n"
     ]
    },
    {
     "name": "stderr",
     "output_type": "stream",
     "text": [
      "Training Progress:  20%|██        | 10/50 [01:53<09:18, 13.96s/it]"
     ]
    },
    {
     "name": "stdout",
     "output_type": "stream",
     "text": [
      "------------------------------------------------------------------------------------------------------------------------------------------\n",
      "Epoch [10/50]: Train Loss: 1.5360 | Val Loss: 1.0358 | Val Acc: 24.00%\n",
      "EarlyStopping counter: 6 out of 10\n"
     ]
    },
    {
     "name": "stderr",
     "output_type": "stream",
     "text": [
      "Training Progress:  22%|██▏       | 11/50 [02:09<09:20, 14.37s/it]"
     ]
    },
    {
     "name": "stdout",
     "output_type": "stream",
     "text": [
      "------------------------------------------------------------------------------------------------------------------------------------------\n",
      "Epoch [11/50]: Train Loss: 0.8979 | Val Loss: 1.0905 | Val Acc: 16.00%\n",
      "EarlyStopping counter: 7 out of 10\n"
     ]
    },
    {
     "name": "stderr",
     "output_type": "stream",
     "text": [
      "Training Progress:  24%|██▍       | 12/50 [02:21<08:39, 13.66s/it]"
     ]
    },
    {
     "name": "stdout",
     "output_type": "stream",
     "text": [
      "------------------------------------------------------------------------------------------------------------------------------------------\n",
      "Epoch [12/50]: Train Loss: 0.7514 | Val Loss: 1.0152 | Val Acc: 24.00%\n",
      "EarlyStopping counter: 8 out of 10\n"
     ]
    },
    {
     "name": "stderr",
     "output_type": "stream",
     "text": [
      "Training Progress:  26%|██▌       | 13/50 [02:31<07:50, 12.71s/it]"
     ]
    },
    {
     "name": "stdout",
     "output_type": "stream",
     "text": [
      "------------------------------------------------------------------------------------------------------------------------------------------\n",
      "Epoch [13/50]: Train Loss: 0.8388 | Val Loss: 1.0927 | Val Acc: 20.00%\n",
      "EarlyStopping counter: 9 out of 10\n"
     ]
    },
    {
     "name": "stderr",
     "output_type": "stream",
     "text": [
      "Training Progress:  26%|██▌       | 13/50 [02:45<07:50, 12.71s/it]"
     ]
    },
    {
     "name": "stdout",
     "output_type": "stream",
     "text": [
      "------------------------------------------------------------------------------------------------------------------------------------------\n",
      "Epoch [14/50]: Train Loss: 0.7937 | Val Loss: 1.0743 | Val Acc: 16.00%\n",
      "EarlyStopping counter: 10 out of 10\n",
      "Early stopping\n"
     ]
    },
    {
     "name": "stderr",
     "output_type": "stream",
     "text": [
      "\n"
     ]
    },
    {
     "name": "stdout",
     "output_type": "stream",
     "text": [
      "Test Loss: 1.063795\n",
      "\n",
      "Test Accuracy of     0: 40% ( 2/ 5)\n",
      "Test Accuracy of     1: 36% (27/73)\n",
      "Test Accuracy of     2: 53% ( 7/13)\n",
      "\n",
      "Test Accuracy (Overall): 39% (36/91)\n",
      "[[ 2  2  1]\n",
      " [19 27 27]\n",
      " [ 2  4  7]]\n",
      "Loaded pretrained weights for efficientnet-b0\n",
      "TRAINING\n"
     ]
    },
    {
     "name": "stderr",
     "output_type": "stream",
     "text": [
      "Training Progress:   2%|▏         | 1/50 [00:19<16:19, 19.98s/it]"
     ]
    },
    {
     "name": "stdout",
     "output_type": "stream",
     "text": [
      "------------------------------------------------------------------------------------------------------------------------------------------\n",
      "Epoch [1/50]: Train Loss: 1.1473 | Val Loss: 1.0889 | Val Acc: 55.26%\n",
      "Validation loss decreased (inf --> 1.088902).  Saving model ...\n"
     ]
    },
    {
     "name": "stderr",
     "output_type": "stream",
     "text": [
      "Training Progress:   4%|▍         | 2/50 [00:33<13:02, 16.30s/it]"
     ]
    },
    {
     "name": "stdout",
     "output_type": "stream",
     "text": [
      "------------------------------------------------------------------------------------------------------------------------------------------\n",
      "Epoch [2/50]: Train Loss: 1.0996 | Val Loss: 1.1018 | Val Acc: 44.74%\n",
      "EarlyStopping counter: 1 out of 10\n"
     ]
    },
    {
     "name": "stderr",
     "output_type": "stream",
     "text": [
      "Training Progress:   6%|▌         | 3/50 [00:44<10:43, 13.69s/it]"
     ]
    },
    {
     "name": "stdout",
     "output_type": "stream",
     "text": [
      "------------------------------------------------------------------------------------------------------------------------------------------\n",
      "Epoch [3/50]: Train Loss: 0.8425 | Val Loss: 1.1613 | Val Acc: 28.95%\n",
      "EarlyStopping counter: 2 out of 10\n"
     ]
    },
    {
     "name": "stderr",
     "output_type": "stream",
     "text": [
      "Training Progress:   8%|▊         | 4/50 [00:52<08:56, 11.66s/it]"
     ]
    },
    {
     "name": "stdout",
     "output_type": "stream",
     "text": [
      "------------------------------------------------------------------------------------------------------------------------------------------\n",
      "Epoch [4/50]: Train Loss: 1.2739 | Val Loss: 1.1518 | Val Acc: 13.16%\n",
      "EarlyStopping counter: 3 out of 10\n"
     ]
    },
    {
     "name": "stderr",
     "output_type": "stream",
     "text": [
      "Training Progress:  10%|█         | 5/50 [01:03<08:32, 11.39s/it]"
     ]
    },
    {
     "name": "stdout",
     "output_type": "stream",
     "text": [
      "------------------------------------------------------------------------------------------------------------------------------------------\n",
      "Epoch [5/50]: Train Loss: 0.9706 | Val Loss: 1.2359 | Val Acc: 18.42%\n",
      "EarlyStopping counter: 4 out of 10\n"
     ]
    },
    {
     "name": "stderr",
     "output_type": "stream",
     "text": [
      "Training Progress:  12%|█▏        | 6/50 [01:14<08:09, 11.12s/it]"
     ]
    },
    {
     "name": "stdout",
     "output_type": "stream",
     "text": [
      "------------------------------------------------------------------------------------------------------------------------------------------\n",
      "Epoch [6/50]: Train Loss: 0.8979 | Val Loss: 1.2339 | Val Acc: 10.53%\n",
      "EarlyStopping counter: 5 out of 10\n"
     ]
    },
    {
     "name": "stderr",
     "output_type": "stream",
     "text": [
      "Training Progress:  14%|█▍        | 7/50 [01:38<11:00, 15.35s/it]"
     ]
    },
    {
     "name": "stdout",
     "output_type": "stream",
     "text": [
      "------------------------------------------------------------------------------------------------------------------------------------------\n",
      "Epoch [7/50]: Train Loss: 0.7941 | Val Loss: 1.2257 | Val Acc: 10.53%\n",
      "EarlyStopping counter: 6 out of 10\n"
     ]
    },
    {
     "name": "stderr",
     "output_type": "stream",
     "text": [
      "Training Progress:  16%|█▌        | 8/50 [01:52<10:24, 14.88s/it]"
     ]
    },
    {
     "name": "stdout",
     "output_type": "stream",
     "text": [
      "------------------------------------------------------------------------------------------------------------------------------------------\n",
      "Epoch [8/50]: Train Loss: 1.0054 | Val Loss: 1.1751 | Val Acc: 18.42%\n",
      "EarlyStopping counter: 7 out of 10\n"
     ]
    },
    {
     "name": "stderr",
     "output_type": "stream",
     "text": [
      "Training Progress:  18%|█▊        | 9/50 [02:03<09:22, 13.72s/it]"
     ]
    },
    {
     "name": "stdout",
     "output_type": "stream",
     "text": [
      "------------------------------------------------------------------------------------------------------------------------------------------\n",
      "Epoch [9/50]: Train Loss: 1.0033 | Val Loss: 1.2778 | Val Acc: 13.16%\n",
      "EarlyStopping counter: 8 out of 10\n"
     ]
    },
    {
     "name": "stderr",
     "output_type": "stream",
     "text": [
      "Training Progress:  20%|██        | 10/50 [02:11<08:04, 12.12s/it]"
     ]
    },
    {
     "name": "stdout",
     "output_type": "stream",
     "text": [
      "------------------------------------------------------------------------------------------------------------------------------------------\n",
      "Epoch [10/50]: Train Loss: 1.1738 | Val Loss: 1.1709 | Val Acc: 21.05%\n",
      "EarlyStopping counter: 9 out of 10\n"
     ]
    },
    {
     "name": "stderr",
     "output_type": "stream",
     "text": [
      "Training Progress:  20%|██        | 10/50 [02:22<09:28, 14.22s/it]"
     ]
    },
    {
     "name": "stdout",
     "output_type": "stream",
     "text": [
      "------------------------------------------------------------------------------------------------------------------------------------------\n",
      "Epoch [11/50]: Train Loss: 0.7496 | Val Loss: 1.0931 | Val Acc: 15.79%\n",
      "EarlyStopping counter: 10 out of 10\n",
      "Early stopping\n"
     ]
    },
    {
     "name": "stderr",
     "output_type": "stream",
     "text": [
      "\n"
     ]
    },
    {
     "name": "stdout",
     "output_type": "stream",
     "text": [
      "Test Loss: 1.113861\n",
      "\n",
      "Test Accuracy of     0: 40% ( 2/ 5)\n",
      "Test Accuracy of     1: 13% (10/73)\n",
      "Test Accuracy of     2: 76% (10/13)\n",
      "\n",
      "Test Accuracy (Overall): 24% (22/91)\n",
      "[[ 2  2  1]\n",
      " [ 9 10 54]\n",
      " [ 2  1 10]]\n",
      "Loaded pretrained weights for efficientnet-b0\n",
      "TRAINING\n"
     ]
    },
    {
     "name": "stderr",
     "output_type": "stream",
     "text": [
      "Training Progress:   2%|▏         | 1/50 [00:22<18:15, 22.36s/it]"
     ]
    },
    {
     "name": "stdout",
     "output_type": "stream",
     "text": [
      "------------------------------------------------------------------------------------------------------------------------------------------\n",
      "Epoch [1/50]: Train Loss: 1.0094 | Val Loss: 1.0790 | Val Acc: 35.85%\n",
      "Validation loss decreased (inf --> 1.079031).  Saving model ...\n"
     ]
    },
    {
     "name": "stderr",
     "output_type": "stream",
     "text": [
      "Training Progress:   4%|▍         | 2/50 [00:35<13:41, 17.12s/it]"
     ]
    },
    {
     "name": "stdout",
     "output_type": "stream",
     "text": [
      "------------------------------------------------------------------------------------------------------------------------------------------\n",
      "Epoch [2/50]: Train Loss: 0.7666 | Val Loss: 1.1113 | Val Acc: 33.96%\n",
      "EarlyStopping counter: 1 out of 10\n"
     ]
    },
    {
     "name": "stderr",
     "output_type": "stream",
     "text": [
      "Training Progress:   6%|▌         | 3/50 [00:45<10:43, 13.70s/it]"
     ]
    },
    {
     "name": "stdout",
     "output_type": "stream",
     "text": [
      "------------------------------------------------------------------------------------------------------------------------------------------\n",
      "Epoch [3/50]: Train Loss: 0.7325 | Val Loss: 1.0901 | Val Acc: 45.28%\n",
      "EarlyStopping counter: 2 out of 10\n"
     ]
    },
    {
     "name": "stderr",
     "output_type": "stream",
     "text": [
      "Training Progress:   8%|▊         | 4/50 [00:54<08:59, 11.74s/it]"
     ]
    },
    {
     "name": "stdout",
     "output_type": "stream",
     "text": [
      "------------------------------------------------------------------------------------------------------------------------------------------\n",
      "Epoch [4/50]: Train Loss: 0.9909 | Val Loss: 1.0708 | Val Acc: 33.96%\n",
      "Validation loss decreased (1.079031 --> 1.070824).  Saving model ...\n"
     ]
    },
    {
     "name": "stderr",
     "output_type": "stream",
     "text": [
      "Training Progress:  10%|█         | 5/50 [01:05<08:34, 11.43s/it]"
     ]
    },
    {
     "name": "stdout",
     "output_type": "stream",
     "text": [
      "------------------------------------------------------------------------------------------------------------------------------------------\n",
      "Epoch [5/50]: Train Loss: 1.0754 | Val Loss: 1.0918 | Val Acc: 33.96%\n",
      "EarlyStopping counter: 1 out of 10\n"
     ]
    },
    {
     "name": "stderr",
     "output_type": "stream",
     "text": [
      "Training Progress:  12%|█▏        | 6/50 [01:14<07:53, 10.76s/it]"
     ]
    },
    {
     "name": "stdout",
     "output_type": "stream",
     "text": [
      "------------------------------------------------------------------------------------------------------------------------------------------\n",
      "Epoch [6/50]: Train Loss: 0.7771 | Val Loss: 1.0670 | Val Acc: 32.08%\n",
      "Validation loss decreased (1.070824 --> 1.067028).  Saving model ...\n"
     ]
    },
    {
     "name": "stderr",
     "output_type": "stream",
     "text": [
      "Training Progress:  14%|█▍        | 7/50 [01:30<08:59, 12.54s/it]"
     ]
    },
    {
     "name": "stdout",
     "output_type": "stream",
     "text": [
      "------------------------------------------------------------------------------------------------------------------------------------------\n",
      "Epoch [7/50]: Train Loss: 0.7904 | Val Loss: 1.1214 | Val Acc: 32.08%\n",
      "EarlyStopping counter: 1 out of 10\n"
     ]
    },
    {
     "name": "stderr",
     "output_type": "stream",
     "text": [
      "Training Progress:  16%|█▌        | 8/50 [01:46<09:27, 13.52s/it]"
     ]
    },
    {
     "name": "stdout",
     "output_type": "stream",
     "text": [
      "------------------------------------------------------------------------------------------------------------------------------------------\n",
      "Epoch [8/50]: Train Loss: 0.5995 | Val Loss: 1.1028 | Val Acc: 30.19%\n",
      "EarlyStopping counter: 2 out of 10\n"
     ]
    },
    {
     "name": "stderr",
     "output_type": "stream",
     "text": [
      "Training Progress:  18%|█▊        | 9/50 [01:57<08:48, 12.90s/it]"
     ]
    },
    {
     "name": "stdout",
     "output_type": "stream",
     "text": [
      "------------------------------------------------------------------------------------------------------------------------------------------\n",
      "Epoch [9/50]: Train Loss: 0.9552 | Val Loss: 1.1196 | Val Acc: 26.42%\n",
      "EarlyStopping counter: 3 out of 10\n"
     ]
    },
    {
     "name": "stderr",
     "output_type": "stream",
     "text": [
      "Training Progress:  20%|██        | 10/50 [02:06<07:47, 11.68s/it]"
     ]
    },
    {
     "name": "stdout",
     "output_type": "stream",
     "text": [
      "------------------------------------------------------------------------------------------------------------------------------------------\n",
      "Epoch [10/50]: Train Loss: 1.5113 | Val Loss: 1.1089 | Val Acc: 37.74%\n",
      "EarlyStopping counter: 4 out of 10\n"
     ]
    },
    {
     "name": "stderr",
     "output_type": "stream",
     "text": [
      "Training Progress:  22%|██▏       | 11/50 [02:15<07:02, 10.83s/it]"
     ]
    },
    {
     "name": "stdout",
     "output_type": "stream",
     "text": [
      "------------------------------------------------------------------------------------------------------------------------------------------\n",
      "Epoch [11/50]: Train Loss: 0.6976 | Val Loss: 1.0872 | Val Acc: 35.85%\n",
      "EarlyStopping counter: 5 out of 10\n"
     ]
    },
    {
     "name": "stderr",
     "output_type": "stream",
     "text": [
      "Training Progress:  24%|██▍       | 12/50 [02:27<06:59, 11.03s/it]"
     ]
    },
    {
     "name": "stdout",
     "output_type": "stream",
     "text": [
      "------------------------------------------------------------------------------------------------------------------------------------------\n",
      "Epoch [12/50]: Train Loss: 1.3280 | Val Loss: 1.1030 | Val Acc: 33.96%\n",
      "EarlyStopping counter: 6 out of 10\n"
     ]
    },
    {
     "name": "stderr",
     "output_type": "stream",
     "text": [
      "Training Progress:  26%|██▌       | 13/50 [02:39<06:57, 11.29s/it]"
     ]
    },
    {
     "name": "stdout",
     "output_type": "stream",
     "text": [
      "------------------------------------------------------------------------------------------------------------------------------------------\n",
      "Epoch [13/50]: Train Loss: 0.9876 | Val Loss: 1.1163 | Val Acc: 32.08%\n",
      "EarlyStopping counter: 7 out of 10\n"
     ]
    },
    {
     "name": "stderr",
     "output_type": "stream",
     "text": [
      "Training Progress:  28%|██▊       | 14/50 [03:00<08:41, 14.50s/it]"
     ]
    },
    {
     "name": "stdout",
     "output_type": "stream",
     "text": [
      "------------------------------------------------------------------------------------------------------------------------------------------\n",
      "Epoch [14/50]: Train Loss: 0.8099 | Val Loss: 1.1549 | Val Acc: 22.64%\n",
      "EarlyStopping counter: 8 out of 10\n"
     ]
    },
    {
     "name": "stderr",
     "output_type": "stream",
     "text": [
      "Training Progress:  30%|███       | 15/50 [03:13<08:04, 13.83s/it]"
     ]
    },
    {
     "name": "stdout",
     "output_type": "stream",
     "text": [
      "------------------------------------------------------------------------------------------------------------------------------------------\n",
      "Epoch [15/50]: Train Loss: 0.6882 | Val Loss: 1.1167 | Val Acc: 35.85%\n",
      "EarlyStopping counter: 9 out of 10\n"
     ]
    },
    {
     "name": "stderr",
     "output_type": "stream",
     "text": [
      "Training Progress:  30%|███       | 15/50 [03:23<07:55, 13.60s/it]"
     ]
    },
    {
     "name": "stdout",
     "output_type": "stream",
     "text": [
      "------------------------------------------------------------------------------------------------------------------------------------------\n",
      "Epoch [16/50]: Train Loss: 1.0055 | Val Loss: 1.1749 | Val Acc: 33.96%\n",
      "EarlyStopping counter: 10 out of 10\n",
      "Early stopping\n"
     ]
    },
    {
     "name": "stderr",
     "output_type": "stream",
     "text": [
      "\n"
     ]
    },
    {
     "name": "stdout",
     "output_type": "stream",
     "text": [
      "Test Loss: 1.013606\n",
      "\n",
      "Test Accuracy of     0: 20% ( 1/ 5)\n",
      "Test Accuracy of     1: 80% (59/73)\n",
      "Test Accuracy of     2: 15% ( 2/13)\n",
      "\n",
      "Test Accuracy (Overall): 68% (62/91)\n",
      "[[ 1  4  0]\n",
      " [ 8 59  6]\n",
      " [ 3  8  2]]\n",
      "Loaded pretrained weights for efficientnet-b0\n",
      "TRAINING\n"
     ]
    },
    {
     "name": "stderr",
     "output_type": "stream",
     "text": [
      "Training Progress:   2%|▏         | 1/50 [00:11<09:01, 11.06s/it]"
     ]
    },
    {
     "name": "stdout",
     "output_type": "stream",
     "text": [
      "------------------------------------------------------------------------------------------------------------------------------------------\n",
      "Epoch [1/50]: Train Loss: 1.0519 | Val Loss: 1.1384 | Val Acc: 11.11%\n",
      "Validation loss decreased (inf --> 1.138390).  Saving model ...\n"
     ]
    },
    {
     "name": "stderr",
     "output_type": "stream",
     "text": [
      "Training Progress:   4%|▍         | 2/50 [00:27<11:10, 13.97s/it]"
     ]
    },
    {
     "name": "stdout",
     "output_type": "stream",
     "text": [
      "------------------------------------------------------------------------------------------------------------------------------------------\n",
      "Epoch [2/50]: Train Loss: 1.1164 | Val Loss: 1.1006 | Val Acc: 18.52%\n",
      "Validation loss decreased (1.138390 --> 1.100576).  Saving model ...\n"
     ]
    },
    {
     "name": "stderr",
     "output_type": "stream",
     "text": [
      "Training Progress:   6%|▌         | 3/50 [00:46<12:49, 16.37s/it]"
     ]
    },
    {
     "name": "stdout",
     "output_type": "stream",
     "text": [
      "------------------------------------------------------------------------------------------------------------------------------------------\n",
      "Epoch [3/50]: Train Loss: 0.9501 | Val Loss: 1.0624 | Val Acc: 25.93%\n",
      "Validation loss decreased (1.100576 --> 1.062446).  Saving model ...\n"
     ]
    },
    {
     "name": "stderr",
     "output_type": "stream",
     "text": [
      "Training Progress:   8%|▊         | 4/50 [00:59<11:42, 15.28s/it]"
     ]
    },
    {
     "name": "stdout",
     "output_type": "stream",
     "text": [
      "------------------------------------------------------------------------------------------------------------------------------------------\n",
      "Epoch [4/50]: Train Loss: 1.0127 | Val Loss: 1.0205 | Val Acc: 22.22%\n",
      "Validation loss decreased (1.062446 --> 1.020467).  Saving model ...\n"
     ]
    },
    {
     "name": "stderr",
     "output_type": "stream",
     "text": [
      "Training Progress:  10%|█         | 5/50 [01:10<10:16, 13.69s/it]"
     ]
    },
    {
     "name": "stdout",
     "output_type": "stream",
     "text": [
      "------------------------------------------------------------------------------------------------------------------------------------------\n",
      "Epoch [5/50]: Train Loss: 0.8828 | Val Loss: 1.0205 | Val Acc: 25.93%\n",
      "EarlyStopping counter: 1 out of 10\n"
     ]
    },
    {
     "name": "stderr",
     "output_type": "stream",
     "text": [
      "Training Progress:  12%|█▏        | 6/50 [01:21<09:11, 12.54s/it]"
     ]
    },
    {
     "name": "stdout",
     "output_type": "stream",
     "text": [
      "------------------------------------------------------------------------------------------------------------------------------------------\n",
      "Epoch [6/50]: Train Loss: 0.7813 | Val Loss: 1.0598 | Val Acc: 18.52%\n",
      "EarlyStopping counter: 2 out of 10\n"
     ]
    },
    {
     "name": "stderr",
     "output_type": "stream",
     "text": [
      "Training Progress:  14%|█▍        | 7/50 [01:31<08:34, 11.96s/it]"
     ]
    },
    {
     "name": "stdout",
     "output_type": "stream",
     "text": [
      "------------------------------------------------------------------------------------------------------------------------------------------\n",
      "Epoch [7/50]: Train Loss: 0.8284 | Val Loss: 1.0456 | Val Acc: 18.52%\n",
      "EarlyStopping counter: 3 out of 10\n"
     ]
    },
    {
     "name": "stderr",
     "output_type": "stream",
     "text": [
      "Training Progress:  16%|█▌        | 8/50 [01:54<10:45, 15.37s/it]"
     ]
    },
    {
     "name": "stdout",
     "output_type": "stream",
     "text": [
      "------------------------------------------------------------------------------------------------------------------------------------------\n",
      "Epoch [8/50]: Train Loss: 0.7406 | Val Loss: 1.0881 | Val Acc: 14.81%\n",
      "EarlyStopping counter: 4 out of 10\n"
     ]
    },
    {
     "name": "stderr",
     "output_type": "stream",
     "text": [
      "Training Progress:  18%|█▊        | 9/50 [02:04<09:24, 13.76s/it]"
     ]
    },
    {
     "name": "stdout",
     "output_type": "stream",
     "text": [
      "------------------------------------------------------------------------------------------------------------------------------------------\n",
      "Epoch [9/50]: Train Loss: 1.0567 | Val Loss: 1.1122 | Val Acc: 7.41%\n",
      "EarlyStopping counter: 5 out of 10\n"
     ]
    },
    {
     "name": "stderr",
     "output_type": "stream",
     "text": [
      "Training Progress:  20%|██        | 10/50 [02:19<09:16, 13.92s/it]"
     ]
    },
    {
     "name": "stdout",
     "output_type": "stream",
     "text": [
      "------------------------------------------------------------------------------------------------------------------------------------------\n",
      "Epoch [10/50]: Train Loss: 0.7092 | Val Loss: 1.1303 | Val Acc: 7.41%\n",
      "EarlyStopping counter: 6 out of 10\n"
     ]
    },
    {
     "name": "stderr",
     "output_type": "stream",
     "text": [
      "Training Progress:  22%|██▏       | 11/50 [02:34<09:22, 14.42s/it]"
     ]
    },
    {
     "name": "stdout",
     "output_type": "stream",
     "text": [
      "------------------------------------------------------------------------------------------------------------------------------------------\n",
      "Epoch [11/50]: Train Loss: 0.8425 | Val Loss: 1.1310 | Val Acc: 7.41%\n",
      "EarlyStopping counter: 7 out of 10\n"
     ]
    },
    {
     "name": "stderr",
     "output_type": "stream",
     "text": [
      "Training Progress:  24%|██▍       | 12/50 [02:49<09:11, 14.52s/it]"
     ]
    },
    {
     "name": "stdout",
     "output_type": "stream",
     "text": [
      "------------------------------------------------------------------------------------------------------------------------------------------\n",
      "Epoch [12/50]: Train Loss: 0.8314 | Val Loss: 1.1841 | Val Acc: 7.41%\n",
      "EarlyStopping counter: 8 out of 10\n"
     ]
    },
    {
     "name": "stderr",
     "output_type": "stream",
     "text": [
      "Training Progress:  26%|██▌       | 13/50 [03:03<08:51, 14.36s/it]"
     ]
    },
    {
     "name": "stdout",
     "output_type": "stream",
     "text": [
      "------------------------------------------------------------------------------------------------------------------------------------------\n",
      "Epoch [13/50]: Train Loss: 0.8116 | Val Loss: 1.0864 | Val Acc: 14.81%\n",
      "EarlyStopping counter: 9 out of 10\n"
     ]
    },
    {
     "name": "stderr",
     "output_type": "stream",
     "text": [
      "Training Progress:  26%|██▌       | 13/50 [03:16<09:18, 15.10s/it]"
     ]
    },
    {
     "name": "stdout",
     "output_type": "stream",
     "text": [
      "------------------------------------------------------------------------------------------------------------------------------------------\n",
      "Epoch [14/50]: Train Loss: 1.0136 | Val Loss: 1.1770 | Val Acc: 11.11%\n",
      "EarlyStopping counter: 10 out of 10\n",
      "Early stopping\n"
     ]
    },
    {
     "name": "stderr",
     "output_type": "stream",
     "text": [
      "\n"
     ]
    },
    {
     "name": "stdout",
     "output_type": "stream",
     "text": [
      "Test Loss: 1.079103\n",
      "\n",
      "Test Accuracy of     0: 60% ( 3/ 5)\n",
      "Test Accuracy of     1: 31% (23/73)\n",
      "Test Accuracy of     2: 46% ( 6/13)\n",
      "\n",
      "Test Accuracy (Overall): 35% (32/91)\n",
      "[[ 3  1  1]\n",
      " [34 23 16]\n",
      " [ 3  4  6]]\n",
      "Loaded pretrained weights for efficientnet-b0\n",
      "TRAINING\n"
     ]
    },
    {
     "name": "stderr",
     "output_type": "stream",
     "text": [
      "Training Progress:   2%|▏         | 1/50 [00:15<12:52, 15.77s/it]"
     ]
    },
    {
     "name": "stdout",
     "output_type": "stream",
     "text": [
      "------------------------------------------------------------------------------------------------------------------------------------------\n",
      "Epoch [1/50]: Train Loss: 1.0872 | Val Loss: 1.1097 | Val Acc: 50.00%\n",
      "Validation loss decreased (inf --> 1.109662).  Saving model ...\n"
     ]
    },
    {
     "name": "stderr",
     "output_type": "stream",
     "text": [
      "Training Progress:   4%|▍         | 2/50 [00:32<13:05, 16.37s/it]"
     ]
    },
    {
     "name": "stdout",
     "output_type": "stream",
     "text": [
      "------------------------------------------------------------------------------------------------------------------------------------------\n",
      "Epoch [2/50]: Train Loss: 0.9245 | Val Loss: 1.0982 | Val Acc: 46.67%\n",
      "Validation loss decreased (1.109662 --> 1.098183).  Saving model ...\n"
     ]
    },
    {
     "name": "stderr",
     "output_type": "stream",
     "text": [
      "Training Progress:   6%|▌         | 3/50 [00:44<11:20, 14.48s/it]"
     ]
    },
    {
     "name": "stdout",
     "output_type": "stream",
     "text": [
      "------------------------------------------------------------------------------------------------------------------------------------------\n",
      "Epoch [3/50]: Train Loss: 0.9642 | Val Loss: 1.0922 | Val Acc: 76.67%\n",
      "Validation loss decreased (1.098183 --> 1.092162).  Saving model ...\n"
     ]
    },
    {
     "name": "stderr",
     "output_type": "stream",
     "text": [
      "Training Progress:   8%|▊         | 4/50 [00:59<11:10, 14.57s/it]"
     ]
    },
    {
     "name": "stdout",
     "output_type": "stream",
     "text": [
      "------------------------------------------------------------------------------------------------------------------------------------------\n",
      "Epoch [4/50]: Train Loss: 0.9614 | Val Loss: 1.0800 | Val Acc: 76.67%\n",
      "Validation loss decreased (1.092162 --> 1.080010).  Saving model ...\n",
      "------------------------------------------------------------------------------------------------------------------------------------------\n",
      "Epoch [5/50]: Train Loss: 0.9630 | Val Loss: 1.0614 | Val Acc: 60.00%\n",
      "Validation loss decreased (1.080010 --> 1.061447).  Saving model ...\n"
     ]
    },
    {
     "name": "stderr",
     "output_type": "stream",
     "text": [
      "Training Progress:  12%|█▏        | 6/50 [01:26<10:14, 13.98s/it]"
     ]
    },
    {
     "name": "stdout",
     "output_type": "stream",
     "text": [
      "------------------------------------------------------------------------------------------------------------------------------------------\n",
      "Epoch [6/50]: Train Loss: 0.8907 | Val Loss: 1.0691 | Val Acc: 66.67%\n",
      "EarlyStopping counter: 1 out of 10\n"
     ]
    },
    {
     "name": "stderr",
     "output_type": "stream",
     "text": [
      "Training Progress:  14%|█▍        | 7/50 [01:39<09:34, 13.37s/it]"
     ]
    },
    {
     "name": "stdout",
     "output_type": "stream",
     "text": [
      "------------------------------------------------------------------------------------------------------------------------------------------\n",
      "Epoch [7/50]: Train Loss: 0.9053 | Val Loss: 1.0893 | Val Acc: 56.67%\n",
      "EarlyStopping counter: 2 out of 10\n"
     ]
    },
    {
     "name": "stderr",
     "output_type": "stream",
     "text": [
      "Training Progress:  16%|█▌        | 8/50 [01:52<09:21, 13.37s/it]"
     ]
    },
    {
     "name": "stdout",
     "output_type": "stream",
     "text": [
      "------------------------------------------------------------------------------------------------------------------------------------------\n",
      "Epoch [8/50]: Train Loss: 0.8620 | Val Loss: 1.0972 | Val Acc: 53.33%\n",
      "EarlyStopping counter: 3 out of 10\n"
     ]
    },
    {
     "name": "stderr",
     "output_type": "stream",
     "text": [
      "Training Progress:  18%|█▊        | 9/50 [02:06<09:11, 13.45s/it]"
     ]
    },
    {
     "name": "stdout",
     "output_type": "stream",
     "text": [
      "------------------------------------------------------------------------------------------------------------------------------------------\n",
      "Epoch [9/50]: Train Loss: 0.8807 | Val Loss: 1.0586 | Val Acc: 53.33%\n",
      "Validation loss decreased (1.061447 --> 1.058630).  Saving model ...\n"
     ]
    },
    {
     "name": "stderr",
     "output_type": "stream",
     "text": [
      "Training Progress:  20%|██        | 10/50 [02:18<08:48, 13.21s/it]"
     ]
    },
    {
     "name": "stdout",
     "output_type": "stream",
     "text": [
      "------------------------------------------------------------------------------------------------------------------------------------------\n",
      "Epoch [10/50]: Train Loss: 0.8625 | Val Loss: 1.1037 | Val Acc: 46.67%\n",
      "EarlyStopping counter: 1 out of 10\n"
     ]
    },
    {
     "name": "stderr",
     "output_type": "stream",
     "text": [
      "Training Progress:  22%|██▏       | 11/50 [02:30<08:22, 12.87s/it]"
     ]
    },
    {
     "name": "stdout",
     "output_type": "stream",
     "text": [
      "------------------------------------------------------------------------------------------------------------------------------------------\n",
      "Epoch [11/50]: Train Loss: 0.9498 | Val Loss: 1.0784 | Val Acc: 33.33%\n",
      "EarlyStopping counter: 2 out of 10\n"
     ]
    },
    {
     "name": "stderr",
     "output_type": "stream",
     "text": [
      "Training Progress:  24%|██▍       | 12/50 [02:42<07:54, 12.47s/it]"
     ]
    },
    {
     "name": "stdout",
     "output_type": "stream",
     "text": [
      "------------------------------------------------------------------------------------------------------------------------------------------\n",
      "Epoch [12/50]: Train Loss: 0.9556 | Val Loss: 1.1139 | Val Acc: 40.00%\n",
      "EarlyStopping counter: 3 out of 10\n"
     ]
    },
    {
     "name": "stderr",
     "output_type": "stream",
     "text": [
      "Training Progress:  26%|██▌       | 13/50 [02:52<07:17, 11.82s/it]"
     ]
    },
    {
     "name": "stdout",
     "output_type": "stream",
     "text": [
      "------------------------------------------------------------------------------------------------------------------------------------------\n",
      "Epoch [13/50]: Train Loss: 0.8097 | Val Loss: 1.0976 | Val Acc: 23.33%\n",
      "EarlyStopping counter: 4 out of 10\n"
     ]
    },
    {
     "name": "stderr",
     "output_type": "stream",
     "text": [
      "Training Progress:  28%|██▊       | 14/50 [03:02<06:40, 11.13s/it]"
     ]
    },
    {
     "name": "stdout",
     "output_type": "stream",
     "text": [
      "------------------------------------------------------------------------------------------------------------------------------------------\n",
      "Epoch [14/50]: Train Loss: 0.7054 | Val Loss: 1.1657 | Val Acc: 16.67%\n",
      "EarlyStopping counter: 5 out of 10\n"
     ]
    },
    {
     "name": "stderr",
     "output_type": "stream",
     "text": [
      "Training Progress:  30%|███       | 15/50 [03:11<06:07, 10.50s/it]"
     ]
    },
    {
     "name": "stdout",
     "output_type": "stream",
     "text": [
      "------------------------------------------------------------------------------------------------------------------------------------------\n",
      "Epoch [15/50]: Train Loss: 0.7176 | Val Loss: 1.0790 | Val Acc: 26.67%\n",
      "EarlyStopping counter: 6 out of 10\n"
     ]
    },
    {
     "name": "stderr",
     "output_type": "stream",
     "text": [
      "Training Progress:  32%|███▏      | 16/50 [03:20<05:41, 10.05s/it]"
     ]
    },
    {
     "name": "stdout",
     "output_type": "stream",
     "text": [
      "------------------------------------------------------------------------------------------------------------------------------------------\n",
      "Epoch [16/50]: Train Loss: 0.9603 | Val Loss: 1.0597 | Val Acc: 26.67%\n",
      "EarlyStopping counter: 7 out of 10\n"
     ]
    },
    {
     "name": "stderr",
     "output_type": "stream",
     "text": [
      "Training Progress:  34%|███▍      | 17/50 [03:30<05:31, 10.04s/it]"
     ]
    },
    {
     "name": "stdout",
     "output_type": "stream",
     "text": [
      "------------------------------------------------------------------------------------------------------------------------------------------\n",
      "Epoch [17/50]: Train Loss: 0.9393 | Val Loss: 1.1801 | Val Acc: 16.67%\n",
      "EarlyStopping counter: 8 out of 10\n"
     ]
    },
    {
     "name": "stderr",
     "output_type": "stream",
     "text": [
      "Training Progress:  36%|███▌      | 18/50 [03:38<05:07,  9.62s/it]"
     ]
    },
    {
     "name": "stdout",
     "output_type": "stream",
     "text": [
      "------------------------------------------------------------------------------------------------------------------------------------------\n",
      "Epoch [18/50]: Train Loss: 0.9213 | Val Loss: 1.1054 | Val Acc: 20.00%\n",
      "EarlyStopping counter: 9 out of 10\n"
     ]
    },
    {
     "name": "stderr",
     "output_type": "stream",
     "text": [
      "Training Progress:  36%|███▌      | 18/50 [03:48<06:45, 12.67s/it]"
     ]
    },
    {
     "name": "stdout",
     "output_type": "stream",
     "text": [
      "------------------------------------------------------------------------------------------------------------------------------------------\n",
      "Epoch [19/50]: Train Loss: 0.7253 | Val Loss: 1.1414 | Val Acc: 13.33%\n",
      "EarlyStopping counter: 10 out of 10\n",
      "Early stopping\n"
     ]
    },
    {
     "name": "stderr",
     "output_type": "stream",
     "text": [
      "\n"
     ]
    },
    {
     "name": "stdout",
     "output_type": "stream",
     "text": [
      "Test Loss: 1.090353\n",
      "\n",
      "Test Accuracy of     0: 100% ( 5/ 5)\n",
      "Test Accuracy of     1: 24% (18/73)\n",
      "Test Accuracy of     2:  0% ( 0/13)\n",
      "\n",
      "Test Accuracy (Overall): 25% (23/91)\n",
      "[[ 5  0  0]\n",
      " [54 18  1]\n",
      " [ 6  7  0]]\n"
     ]
    },
    {
     "name": "stderr",
     "output_type": "stream",
     "text": [
      "/home/amillanruiz/PycharmProjects/pythonProject/utils.py:109: RuntimeWarning: invalid value encountered in scalar divide\n",
      "  f1_scores[i] = 2 * ((precision * recall) / (precision + recall)) * 100\n"
     ]
    },
    {
     "name": "stdout",
     "output_type": "stream",
     "text": [
      "Loaded pretrained weights for efficientnet-b0\n",
      "TRAINING\n"
     ]
    },
    {
     "name": "stderr",
     "output_type": "stream",
     "text": [
      "Training Progress:   2%|▏         | 1/50 [00:08<07:14,  8.87s/it]"
     ]
    },
    {
     "name": "stdout",
     "output_type": "stream",
     "text": [
      "------------------------------------------------------------------------------------------------------------------------------------------\n",
      "Epoch [1/50]: Train Loss: 1.1344 | Val Loss: 1.0304 | Val Acc: 44.83%\n",
      "Validation loss decreased (inf --> 1.030438).  Saving model ...\n"
     ]
    },
    {
     "name": "stderr",
     "output_type": "stream",
     "text": [
      "Training Progress:   4%|▍         | 2/50 [00:17<07:00,  8.77s/it]"
     ]
    },
    {
     "name": "stdout",
     "output_type": "stream",
     "text": [
      "------------------------------------------------------------------------------------------------------------------------------------------\n",
      "Epoch [2/50]: Train Loss: 1.0619 | Val Loss: 1.0487 | Val Acc: 41.38%\n",
      "EarlyStopping counter: 1 out of 10\n"
     ]
    },
    {
     "name": "stderr",
     "output_type": "stream",
     "text": [
      "Training Progress:   6%|▌         | 3/50 [00:25<06:44,  8.60s/it]"
     ]
    },
    {
     "name": "stdout",
     "output_type": "stream",
     "text": [
      "------------------------------------------------------------------------------------------------------------------------------------------\n",
      "Epoch [3/50]: Train Loss: 0.9031 | Val Loss: 1.1076 | Val Acc: 17.24%\n",
      "EarlyStopping counter: 2 out of 10\n"
     ]
    },
    {
     "name": "stderr",
     "output_type": "stream",
     "text": [
      "Training Progress:   8%|▊         | 4/50 [00:34<06:33,  8.55s/it]"
     ]
    },
    {
     "name": "stdout",
     "output_type": "stream",
     "text": [
      "------------------------------------------------------------------------------------------------------------------------------------------\n",
      "Epoch [4/50]: Train Loss: 1.0594 | Val Loss: 1.0600 | Val Acc: 31.03%\n",
      "EarlyStopping counter: 3 out of 10\n"
     ]
    },
    {
     "name": "stderr",
     "output_type": "stream",
     "text": [
      "Training Progress:  10%|█         | 5/50 [00:42<06:20,  8.46s/it]"
     ]
    },
    {
     "name": "stdout",
     "output_type": "stream",
     "text": [
      "------------------------------------------------------------------------------------------------------------------------------------------\n",
      "Epoch [5/50]: Train Loss: 0.9034 | Val Loss: 1.0717 | Val Acc: 31.03%\n",
      "EarlyStopping counter: 4 out of 10\n"
     ]
    },
    {
     "name": "stderr",
     "output_type": "stream",
     "text": [
      "Training Progress:  12%|█▏        | 6/50 [00:51<06:11,  8.45s/it]"
     ]
    },
    {
     "name": "stdout",
     "output_type": "stream",
     "text": [
      "------------------------------------------------------------------------------------------------------------------------------------------\n",
      "Epoch [6/50]: Train Loss: 0.9705 | Val Loss: 1.0329 | Val Acc: 24.14%\n",
      "EarlyStopping counter: 5 out of 10\n"
     ]
    },
    {
     "name": "stderr",
     "output_type": "stream",
     "text": [
      "Training Progress:  14%|█▍        | 7/50 [00:59<06:03,  8.46s/it]"
     ]
    },
    {
     "name": "stdout",
     "output_type": "stream",
     "text": [
      "------------------------------------------------------------------------------------------------------------------------------------------\n",
      "Epoch [7/50]: Train Loss: 0.9664 | Val Loss: 1.0682 | Val Acc: 27.59%\n",
      "EarlyStopping counter: 6 out of 10\n"
     ]
    },
    {
     "name": "stderr",
     "output_type": "stream",
     "text": [
      "Training Progress:  16%|█▌        | 8/50 [01:07<05:50,  8.34s/it]"
     ]
    },
    {
     "name": "stdout",
     "output_type": "stream",
     "text": [
      "------------------------------------------------------------------------------------------------------------------------------------------\n",
      "Epoch [8/50]: Train Loss: 0.9256 | Val Loss: 1.0713 | Val Acc: 24.14%\n",
      "EarlyStopping counter: 7 out of 10\n"
     ]
    },
    {
     "name": "stderr",
     "output_type": "stream",
     "text": [
      "Training Progress:  18%|█▊        | 9/50 [01:16<05:51,  8.56s/it]"
     ]
    },
    {
     "name": "stdout",
     "output_type": "stream",
     "text": [
      "------------------------------------------------------------------------------------------------------------------------------------------\n",
      "Epoch [9/50]: Train Loss: 0.8882 | Val Loss: 1.0362 | Val Acc: 34.48%\n",
      "EarlyStopping counter: 8 out of 10\n"
     ]
    },
    {
     "name": "stderr",
     "output_type": "stream",
     "text": [
      "Training Progress:  20%|██        | 10/50 [01:25<05:47,  8.70s/it]"
     ]
    },
    {
     "name": "stdout",
     "output_type": "stream",
     "text": [
      "------------------------------------------------------------------------------------------------------------------------------------------\n",
      "Epoch [10/50]: Train Loss: 0.9002 | Val Loss: 1.1072 | Val Acc: 13.79%\n",
      "EarlyStopping counter: 9 out of 10\n"
     ]
    },
    {
     "name": "stderr",
     "output_type": "stream",
     "text": [
      "Training Progress:  20%|██        | 10/50 [01:33<06:14,  9.35s/it]"
     ]
    },
    {
     "name": "stdout",
     "output_type": "stream",
     "text": [
      "------------------------------------------------------------------------------------------------------------------------------------------\n",
      "Epoch [11/50]: Train Loss: 0.8448 | Val Loss: 1.0765 | Val Acc: 24.14%\n",
      "EarlyStopping counter: 10 out of 10\n",
      "Early stopping\n"
     ]
    },
    {
     "name": "stderr",
     "output_type": "stream",
     "text": [
      "\n"
     ]
    },
    {
     "name": "stdout",
     "output_type": "stream",
     "text": [
      "Test Loss: 1.025353\n",
      "\n",
      "Test Accuracy of     0: 40% ( 2/ 5)\n",
      "Test Accuracy of     1: 39% (29/73)\n",
      "Test Accuracy of     2: 53% ( 7/13)\n",
      "\n",
      "Test Accuracy (Overall): 41% (38/91)\n",
      "[[ 2  2  1]\n",
      " [ 5 29 39]\n",
      " [ 1  5  7]]\n",
      "Loaded pretrained weights for efficientnet-b0\n",
      "TRAINING\n"
     ]
    },
    {
     "name": "stderr",
     "output_type": "stream",
     "text": [
      "Training Progress:   2%|▏         | 1/50 [00:08<06:59,  8.56s/it]"
     ]
    },
    {
     "name": "stdout",
     "output_type": "stream",
     "text": [
      "------------------------------------------------------------------------------------------------------------------------------------------\n",
      "Epoch [1/50]: Train Loss: 1.0360 | Val Loss: 1.2909 | Val Acc: 5.00%\n",
      "Validation loss decreased (inf --> 1.290880).  Saving model ...\n"
     ]
    },
    {
     "name": "stderr",
     "output_type": "stream",
     "text": [
      "Training Progress:   4%|▍         | 2/50 [00:16<06:40,  8.35s/it]"
     ]
    },
    {
     "name": "stdout",
     "output_type": "stream",
     "text": [
      "------------------------------------------------------------------------------------------------------------------------------------------\n",
      "Epoch [2/50]: Train Loss: 0.9508 | Val Loss: 1.2469 | Val Acc: 5.00%\n",
      "Validation loss decreased (1.290880 --> 1.246932).  Saving model ...\n"
     ]
    },
    {
     "name": "stderr",
     "output_type": "stream",
     "text": [
      "Training Progress:   6%|▌         | 3/50 [00:24<06:25,  8.20s/it]"
     ]
    },
    {
     "name": "stdout",
     "output_type": "stream",
     "text": [
      "------------------------------------------------------------------------------------------------------------------------------------------\n",
      "Epoch [3/50]: Train Loss: 1.1534 | Val Loss: 1.3422 | Val Acc: 7.50%\n",
      "EarlyStopping counter: 1 out of 10\n"
     ]
    },
    {
     "name": "stderr",
     "output_type": "stream",
     "text": [
      "Training Progress:   8%|▊         | 4/50 [00:33<06:19,  8.25s/it]"
     ]
    },
    {
     "name": "stdout",
     "output_type": "stream",
     "text": [
      "------------------------------------------------------------------------------------------------------------------------------------------\n",
      "Epoch [4/50]: Train Loss: 0.8761 | Val Loss: 1.2311 | Val Acc: 5.00%\n",
      "Validation loss decreased (1.246932 --> 1.231142).  Saving model ...\n"
     ]
    },
    {
     "name": "stderr",
     "output_type": "stream",
     "text": [
      "Training Progress:  10%|█         | 5/50 [00:41<06:09,  8.21s/it]"
     ]
    },
    {
     "name": "stdout",
     "output_type": "stream",
     "text": [
      "------------------------------------------------------------------------------------------------------------------------------------------\n",
      "Epoch [5/50]: Train Loss: 0.9003 | Val Loss: 1.2537 | Val Acc: 7.50%\n",
      "EarlyStopping counter: 1 out of 10\n"
     ]
    },
    {
     "name": "stderr",
     "output_type": "stream",
     "text": [
      "Training Progress:  12%|█▏        | 6/50 [00:49<06:00,  8.20s/it]"
     ]
    },
    {
     "name": "stdout",
     "output_type": "stream",
     "text": [
      "------------------------------------------------------------------------------------------------------------------------------------------\n",
      "Epoch [6/50]: Train Loss: 0.7668 | Val Loss: 1.2658 | Val Acc: 7.50%\n",
      "EarlyStopping counter: 2 out of 10\n"
     ]
    },
    {
     "name": "stderr",
     "output_type": "stream",
     "text": [
      "Training Progress:  14%|█▍        | 7/50 [00:57<05:53,  8.22s/it]"
     ]
    },
    {
     "name": "stdout",
     "output_type": "stream",
     "text": [
      "------------------------------------------------------------------------------------------------------------------------------------------\n",
      "Epoch [7/50]: Train Loss: 0.8347 | Val Loss: 1.2809 | Val Acc: 5.00%\n",
      "EarlyStopping counter: 3 out of 10\n"
     ]
    },
    {
     "name": "stderr",
     "output_type": "stream",
     "text": [
      "Training Progress:  16%|█▌        | 8/50 [01:06<05:47,  8.29s/it]"
     ]
    },
    {
     "name": "stdout",
     "output_type": "stream",
     "text": [
      "------------------------------------------------------------------------------------------------------------------------------------------\n",
      "Epoch [8/50]: Train Loss: 0.9969 | Val Loss: 1.3764 | Val Acc: 7.50%\n",
      "EarlyStopping counter: 4 out of 10\n"
     ]
    },
    {
     "name": "stderr",
     "output_type": "stream",
     "text": [
      "Training Progress:  18%|█▊        | 9/50 [01:14<05:45,  8.44s/it]"
     ]
    },
    {
     "name": "stdout",
     "output_type": "stream",
     "text": [
      "------------------------------------------------------------------------------------------------------------------------------------------\n",
      "Epoch [9/50]: Train Loss: 0.6968 | Val Loss: 1.4270 | Val Acc: 7.50%\n",
      "EarlyStopping counter: 5 out of 10\n"
     ]
    },
    {
     "name": "stderr",
     "output_type": "stream",
     "text": [
      "Training Progress:  20%|██        | 10/50 [01:23<05:37,  8.44s/it]"
     ]
    },
    {
     "name": "stdout",
     "output_type": "stream",
     "text": [
      "------------------------------------------------------------------------------------------------------------------------------------------\n",
      "Epoch [10/50]: Train Loss: 0.6855 | Val Loss: 1.2919 | Val Acc: 7.50%\n",
      "EarlyStopping counter: 6 out of 10\n"
     ]
    },
    {
     "name": "stderr",
     "output_type": "stream",
     "text": [
      "Training Progress:  22%|██▏       | 11/50 [01:31<05:23,  8.30s/it]"
     ]
    },
    {
     "name": "stdout",
     "output_type": "stream",
     "text": [
      "------------------------------------------------------------------------------------------------------------------------------------------\n",
      "Epoch [11/50]: Train Loss: 0.7734 | Val Loss: 1.2773 | Val Acc: 7.50%\n",
      "EarlyStopping counter: 7 out of 10\n"
     ]
    },
    {
     "name": "stderr",
     "output_type": "stream",
     "text": [
      "Training Progress:  24%|██▍       | 12/50 [01:40<05:20,  8.43s/it]"
     ]
    },
    {
     "name": "stdout",
     "output_type": "stream",
     "text": [
      "------------------------------------------------------------------------------------------------------------------------------------------\n",
      "Epoch [12/50]: Train Loss: 0.7557 | Val Loss: 1.3726 | Val Acc: 7.50%\n",
      "EarlyStopping counter: 8 out of 10\n"
     ]
    },
    {
     "name": "stderr",
     "output_type": "stream",
     "text": [
      "Training Progress:  26%|██▌       | 13/50 [01:48<05:11,  8.43s/it]"
     ]
    },
    {
     "name": "stdout",
     "output_type": "stream",
     "text": [
      "------------------------------------------------------------------------------------------------------------------------------------------\n",
      "Epoch [13/50]: Train Loss: 0.6816 | Val Loss: 1.2790 | Val Acc: 7.50%\n",
      "EarlyStopping counter: 9 out of 10\n"
     ]
    },
    {
     "name": "stderr",
     "output_type": "stream",
     "text": [
      "Training Progress:  26%|██▌       | 13/50 [01:56<05:32,  8.99s/it]"
     ]
    },
    {
     "name": "stdout",
     "output_type": "stream",
     "text": [
      "------------------------------------------------------------------------------------------------------------------------------------------\n",
      "Epoch [14/50]: Train Loss: 0.9708 | Val Loss: 1.3078 | Val Acc: 5.00%\n",
      "EarlyStopping counter: 10 out of 10\n",
      "Early stopping\n"
     ]
    },
    {
     "name": "stderr",
     "output_type": "stream",
     "text": [
      "\n"
     ]
    },
    {
     "name": "stdout",
     "output_type": "stream",
     "text": [
      "Test Loss: 1.086727\n",
      "\n",
      "Test Accuracy of     0: 60% ( 3/ 5)\n",
      "Test Accuracy of     1: 38% (28/73)\n",
      "Test Accuracy of     2: 30% ( 4/13)\n",
      "\n",
      "Test Accuracy (Overall): 38% (35/91)\n",
      "[[ 3  1  1]\n",
      " [27 28 18]\n",
      " [ 5  4  4]]\n",
      "Loaded pretrained weights for efficientnet-b0\n",
      "TRAINING\n"
     ]
    },
    {
     "name": "stderr",
     "output_type": "stream",
     "text": [
      "Training Progress:   2%|▏         | 1/50 [00:09<07:29,  9.18s/it]"
     ]
    },
    {
     "name": "stdout",
     "output_type": "stream",
     "text": [
      "------------------------------------------------------------------------------------------------------------------------------------------\n",
      "Epoch [1/50]: Train Loss: 1.1295 | Val Loss: 1.2373 | Val Acc: 46.43%\n",
      "Validation loss decreased (inf --> 1.237326).  Saving model ...\n"
     ]
    },
    {
     "name": "stderr",
     "output_type": "stream",
     "text": [
      "Training Progress:   4%|▍         | 2/50 [00:17<07:01,  8.78s/it]"
     ]
    },
    {
     "name": "stdout",
     "output_type": "stream",
     "text": [
      "------------------------------------------------------------------------------------------------------------------------------------------\n",
      "Epoch [2/50]: Train Loss: 0.9753 | Val Loss: 1.2725 | Val Acc: 53.57%\n",
      "EarlyStopping counter: 1 out of 10\n"
     ]
    },
    {
     "name": "stderr",
     "output_type": "stream",
     "text": [
      "Training Progress:   6%|▌         | 3/50 [00:25<06:36,  8.43s/it]"
     ]
    },
    {
     "name": "stdout",
     "output_type": "stream",
     "text": [
      "------------------------------------------------------------------------------------------------------------------------------------------\n",
      "Epoch [3/50]: Train Loss: 0.8767 | Val Loss: 1.1795 | Val Acc: 39.29%\n",
      "Validation loss decreased (1.237326 --> 1.179503).  Saving model ...\n"
     ]
    },
    {
     "name": "stderr",
     "output_type": "stream",
     "text": [
      "Training Progress:   8%|▊         | 4/50 [00:33<06:16,  8.19s/it]"
     ]
    },
    {
     "name": "stdout",
     "output_type": "stream",
     "text": [
      "------------------------------------------------------------------------------------------------------------------------------------------\n",
      "Epoch [4/50]: Train Loss: 0.8507 | Val Loss: 1.2054 | Val Acc: 32.14%\n",
      "EarlyStopping counter: 1 out of 10\n"
     ]
    },
    {
     "name": "stderr",
     "output_type": "stream",
     "text": [
      "Training Progress:  10%|█         | 5/50 [00:41<06:04,  8.10s/it]"
     ]
    },
    {
     "name": "stdout",
     "output_type": "stream",
     "text": [
      "------------------------------------------------------------------------------------------------------------------------------------------\n",
      "Epoch [5/50]: Train Loss: 0.7171 | Val Loss: 1.1957 | Val Acc: 32.14%\n",
      "EarlyStopping counter: 2 out of 10\n"
     ]
    },
    {
     "name": "stderr",
     "output_type": "stream",
     "text": [
      "Training Progress:  12%|█▏        | 6/50 [00:49<05:48,  7.93s/it]"
     ]
    },
    {
     "name": "stdout",
     "output_type": "stream",
     "text": [
      "------------------------------------------------------------------------------------------------------------------------------------------\n",
      "Epoch [6/50]: Train Loss: 0.9202 | Val Loss: 1.1876 | Val Acc: 7.14%\n",
      "EarlyStopping counter: 3 out of 10\n"
     ]
    },
    {
     "name": "stderr",
     "output_type": "stream",
     "text": [
      "Training Progress:  14%|█▍        | 7/50 [00:56<05:40,  7.92s/it]"
     ]
    },
    {
     "name": "stdout",
     "output_type": "stream",
     "text": [
      "------------------------------------------------------------------------------------------------------------------------------------------\n",
      "Epoch [7/50]: Train Loss: 1.0173 | Val Loss: 1.1839 | Val Acc: 14.29%\n",
      "EarlyStopping counter: 4 out of 10\n"
     ]
    },
    {
     "name": "stderr",
     "output_type": "stream",
     "text": [
      "Training Progress:  16%|█▌        | 8/50 [01:04<05:29,  7.85s/it]"
     ]
    },
    {
     "name": "stdout",
     "output_type": "stream",
     "text": [
      "------------------------------------------------------------------------------------------------------------------------------------------\n",
      "Epoch [8/50]: Train Loss: 0.8254 | Val Loss: 1.1477 | Val Acc: 14.29%\n",
      "Validation loss decreased (1.179503 --> 1.147694).  Saving model ...\n"
     ]
    },
    {
     "name": "stderr",
     "output_type": "stream",
     "text": [
      "Training Progress:  18%|█▊        | 9/50 [01:18<06:42,  9.82s/it]"
     ]
    },
    {
     "name": "stdout",
     "output_type": "stream",
     "text": [
      "------------------------------------------------------------------------------------------------------------------------------------------\n",
      "Epoch [9/50]: Train Loss: 1.0240 | Val Loss: 1.2106 | Val Acc: 14.29%\n",
      "EarlyStopping counter: 1 out of 10\n"
     ]
    },
    {
     "name": "stderr",
     "output_type": "stream",
     "text": [
      "Training Progress:  20%|██        | 10/50 [01:34<07:42, 11.57s/it]"
     ]
    },
    {
     "name": "stdout",
     "output_type": "stream",
     "text": [
      "------------------------------------------------------------------------------------------------------------------------------------------\n",
      "Epoch [10/50]: Train Loss: 0.7317 | Val Loss: 1.1786 | Val Acc: 17.86%\n",
      "EarlyStopping counter: 2 out of 10\n"
     ]
    },
    {
     "name": "stderr",
     "output_type": "stream",
     "text": [
      "Training Progress:  22%|██▏       | 11/50 [01:45<07:26, 11.46s/it]"
     ]
    },
    {
     "name": "stdout",
     "output_type": "stream",
     "text": [
      "------------------------------------------------------------------------------------------------------------------------------------------\n",
      "Epoch [11/50]: Train Loss: 0.7676 | Val Loss: 1.1861 | Val Acc: 17.86%\n",
      "EarlyStopping counter: 3 out of 10\n"
     ]
    },
    {
     "name": "stderr",
     "output_type": "stream",
     "text": [
      "Training Progress:  24%|██▍       | 12/50 [01:55<06:55, 10.93s/it]"
     ]
    },
    {
     "name": "stdout",
     "output_type": "stream",
     "text": [
      "------------------------------------------------------------------------------------------------------------------------------------------\n",
      "Epoch [12/50]: Train Loss: 0.8151 | Val Loss: 1.0709 | Val Acc: 21.43%\n",
      "Validation loss decreased (1.147694 --> 1.070924).  Saving model ...\n"
     ]
    },
    {
     "name": "stderr",
     "output_type": "stream",
     "text": [
      "Training Progress:  26%|██▌       | 13/50 [02:04<06:21, 10.30s/it]"
     ]
    },
    {
     "name": "stdout",
     "output_type": "stream",
     "text": [
      "------------------------------------------------------------------------------------------------------------------------------------------\n",
      "Epoch [13/50]: Train Loss: 0.9803 | Val Loss: 1.1442 | Val Acc: 14.29%\n",
      "EarlyStopping counter: 1 out of 10\n"
     ]
    },
    {
     "name": "stderr",
     "output_type": "stream",
     "text": [
      "Training Progress:  28%|██▊       | 14/50 [02:14<06:15, 10.42s/it]"
     ]
    },
    {
     "name": "stdout",
     "output_type": "stream",
     "text": [
      "------------------------------------------------------------------------------------------------------------------------------------------\n",
      "Epoch [14/50]: Train Loss: 0.9213 | Val Loss: 1.0945 | Val Acc: 17.86%\n",
      "EarlyStopping counter: 2 out of 10\n"
     ]
    },
    {
     "name": "stderr",
     "output_type": "stream",
     "text": [
      "Training Progress:  30%|███       | 15/50 [02:24<05:52, 10.07s/it]"
     ]
    },
    {
     "name": "stdout",
     "output_type": "stream",
     "text": [
      "------------------------------------------------------------------------------------------------------------------------------------------\n",
      "Epoch [15/50]: Train Loss: 0.8057 | Val Loss: 1.0393 | Val Acc: 17.86%\n",
      "Validation loss decreased (1.070924 --> 1.039268).  Saving model ...\n"
     ]
    },
    {
     "name": "stderr",
     "output_type": "stream",
     "text": [
      "Training Progress:  32%|███▏      | 16/50 [02:44<07:27, 13.16s/it]"
     ]
    },
    {
     "name": "stdout",
     "output_type": "stream",
     "text": [
      "------------------------------------------------------------------------------------------------------------------------------------------\n",
      "Epoch [16/50]: Train Loss: 0.7921 | Val Loss: 1.0417 | Val Acc: 17.86%\n",
      "EarlyStopping counter: 1 out of 10\n"
     ]
    },
    {
     "name": "stderr",
     "output_type": "stream",
     "text": [
      "Training Progress:  34%|███▍      | 17/50 [02:58<07:22, 13.40s/it]"
     ]
    },
    {
     "name": "stdout",
     "output_type": "stream",
     "text": [
      "------------------------------------------------------------------------------------------------------------------------------------------\n",
      "Epoch [17/50]: Train Loss: 0.7961 | Val Loss: 1.0747 | Val Acc: 21.43%\n",
      "EarlyStopping counter: 2 out of 10\n"
     ]
    },
    {
     "name": "stderr",
     "output_type": "stream",
     "text": [
      "Training Progress:  36%|███▌      | 18/50 [03:10<06:55, 12.97s/it]"
     ]
    },
    {
     "name": "stdout",
     "output_type": "stream",
     "text": [
      "------------------------------------------------------------------------------------------------------------------------------------------\n",
      "Epoch [18/50]: Train Loss: 0.9500 | Val Loss: 0.9518 | Val Acc: 14.29%\n",
      "Validation loss decreased (1.039268 --> 0.951825).  Saving model ...\n"
     ]
    },
    {
     "name": "stderr",
     "output_type": "stream",
     "text": [
      "Training Progress:  38%|███▊      | 19/50 [03:19<06:05, 11.80s/it]"
     ]
    },
    {
     "name": "stdout",
     "output_type": "stream",
     "text": [
      "------------------------------------------------------------------------------------------------------------------------------------------\n",
      "Epoch [19/50]: Train Loss: 0.7519 | Val Loss: 1.1610 | Val Acc: 17.86%\n",
      "EarlyStopping counter: 1 out of 10\n"
     ]
    },
    {
     "name": "stderr",
     "output_type": "stream",
     "text": [
      "Training Progress:  40%|████      | 20/50 [03:28<05:34, 11.14s/it]"
     ]
    },
    {
     "name": "stdout",
     "output_type": "stream",
     "text": [
      "------------------------------------------------------------------------------------------------------------------------------------------\n",
      "Epoch [20/50]: Train Loss: 1.0559 | Val Loss: 1.0907 | Val Acc: 17.86%\n",
      "EarlyStopping counter: 2 out of 10\n"
     ]
    },
    {
     "name": "stderr",
     "output_type": "stream",
     "text": [
      "Training Progress:  42%|████▏     | 21/50 [03:39<05:17, 10.96s/it]"
     ]
    },
    {
     "name": "stdout",
     "output_type": "stream",
     "text": [
      "------------------------------------------------------------------------------------------------------------------------------------------\n",
      "Epoch [21/50]: Train Loss: 0.5359 | Val Loss: 1.0153 | Val Acc: 17.86%\n",
      "EarlyStopping counter: 3 out of 10\n"
     ]
    },
    {
     "name": "stderr",
     "output_type": "stream",
     "text": [
      "Training Progress:  44%|████▍     | 22/50 [03:50<05:06, 10.93s/it]"
     ]
    },
    {
     "name": "stdout",
     "output_type": "stream",
     "text": [
      "------------------------------------------------------------------------------------------------------------------------------------------\n",
      "Epoch [22/50]: Train Loss: 0.7735 | Val Loss: 0.9713 | Val Acc: 21.43%\n",
      "EarlyStopping counter: 4 out of 10\n"
     ]
    },
    {
     "name": "stderr",
     "output_type": "stream",
     "text": [
      "Training Progress:  46%|████▌     | 23/50 [04:12<06:23, 14.20s/it]"
     ]
    },
    {
     "name": "stdout",
     "output_type": "stream",
     "text": [
      "------------------------------------------------------------------------------------------------------------------------------------------\n",
      "Epoch [23/50]: Train Loss: 0.8155 | Val Loss: 1.0409 | Val Acc: 17.86%\n",
      "EarlyStopping counter: 5 out of 10\n"
     ]
    },
    {
     "name": "stderr",
     "output_type": "stream",
     "text": [
      "Training Progress:  48%|████▊     | 24/50 [04:23<05:47, 13.35s/it]"
     ]
    },
    {
     "name": "stdout",
     "output_type": "stream",
     "text": [
      "------------------------------------------------------------------------------------------------------------------------------------------\n",
      "Epoch [24/50]: Train Loss: 0.6982 | Val Loss: 1.0833 | Val Acc: 21.43%\n",
      "EarlyStopping counter: 6 out of 10\n"
     ]
    },
    {
     "name": "stderr",
     "output_type": "stream",
     "text": [
      "Training Progress:  50%|█████     | 25/50 [04:34<05:12, 12.50s/it]"
     ]
    },
    {
     "name": "stdout",
     "output_type": "stream",
     "text": [
      "------------------------------------------------------------------------------------------------------------------------------------------\n",
      "Epoch [25/50]: Train Loss: 0.9766 | Val Loss: 1.0430 | Val Acc: 14.29%\n",
      "EarlyStopping counter: 7 out of 10\n"
     ]
    },
    {
     "name": "stderr",
     "output_type": "stream",
     "text": [
      "Training Progress:  52%|█████▏    | 26/50 [04:43<04:35, 11.48s/it]"
     ]
    },
    {
     "name": "stdout",
     "output_type": "stream",
     "text": [
      "------------------------------------------------------------------------------------------------------------------------------------------\n",
      "Epoch [26/50]: Train Loss: 0.7283 | Val Loss: 1.0496 | Val Acc: 21.43%\n",
      "EarlyStopping counter: 8 out of 10\n"
     ]
    },
    {
     "name": "stderr",
     "output_type": "stream",
     "text": [
      "Training Progress:  54%|█████▍    | 27/50 [04:52<04:06, 10.70s/it]"
     ]
    },
    {
     "name": "stdout",
     "output_type": "stream",
     "text": [
      "------------------------------------------------------------------------------------------------------------------------------------------\n",
      "Epoch [27/50]: Train Loss: 0.6977 | Val Loss: 1.1260 | Val Acc: 14.29%\n",
      "EarlyStopping counter: 9 out of 10\n"
     ]
    },
    {
     "name": "stderr",
     "output_type": "stream",
     "text": [
      "Training Progress:  54%|█████▍    | 27/50 [05:02<04:17, 11.20s/it]"
     ]
    },
    {
     "name": "stdout",
     "output_type": "stream",
     "text": [
      "------------------------------------------------------------------------------------------------------------------------------------------\n",
      "Epoch [28/50]: Train Loss: 0.7024 | Val Loss: 1.0065 | Val Acc: 21.43%\n",
      "EarlyStopping counter: 10 out of 10\n",
      "Early stopping\n"
     ]
    },
    {
     "name": "stderr",
     "output_type": "stream",
     "text": [
      "\n"
     ]
    },
    {
     "name": "stdout",
     "output_type": "stream",
     "text": [
      "Test Loss: 1.319530\n",
      "\n",
      "Test Accuracy of     0: 100% ( 5/ 5)\n",
      "Test Accuracy of     1:  0% ( 0/73)\n",
      "Test Accuracy of     2:  0% ( 0/13)\n",
      "\n",
      "Test Accuracy (Overall):  5% ( 5/91)\n",
      "[[ 5  0  0]\n",
      " [73  0  0]\n",
      " [12  1  0]]\n"
     ]
    },
    {
     "name": "stderr",
     "output_type": "stream",
     "text": [
      "/home/amillanruiz/PycharmProjects/pythonProject/utils.py:90: RuntimeWarning: invalid value encountered in scalar divide\n",
      "  precision[i] = 100*(tp / (tp + fp))\n",
      "/home/amillanruiz/PycharmProjects/pythonProject/utils.py:109: RuntimeWarning: invalid value encountered in scalar divide\n",
      "  f1_scores[i] = 2 * ((precision * recall) / (precision + recall)) * 100\n",
      "/home/amillanruiz/PycharmProjects/pythonProject/utils.py:107: RuntimeWarning: invalid value encountered in scalar divide\n",
      "  precision = tp / (tp + fp)\n"
     ]
    }
   ],
   "source": [
    "scores = {'acc': [], 'SD_acc': [], 'CI_acc': [], 'auc_tot': [], 'SD_auc_tot': [], 'CI_auc_tot': [], 'auc_class': [], 'SD_auc_class': [], 'CI_auc_class': [], 'Sen_mean': [], 'Sen_CI': [], 'Sen_SD': [], 'Spe_mean': [], 'Spe_CI': [], 'Spe_sd': [], 'Pre_mean': [], 'Pre_CI': [], 'Pre_sd': [], 'F1_mean': [], 'F1_CI': [], 'F1_sd': [], 'Accy_mean': [], 'Accy_CI': [], 'Accy_sd': []}\n",
    "\n",
    "num_classes = len(np.unique(y))\n",
    "sum_confusion_matrix_rf = np.zeros((num_classes, num_classes))\n",
    "\n",
    "data_loader = DataLoader2DT1GD()\n",
    "\n",
    "# Splitting into train, validation, and test sets\n",
    "unique_patients = list(new_df['Subjid'])\n",
    "\n",
    "\n",
    "# Splitting unique_patient_ids into trainval and test patient IDs\n",
    "trainval_patient_ids, test_patient_ids = train_test_split(unique_patients, test_size=0.2, random_state=0, stratify = y_patients)\n",
    "\n",
    "trainval_y = [new_df[new_df['Subjid'] == i]['Labels'].values[0] for i in trainval_patient_ids]\n",
    "\n",
    "# Perform stratified shuffle split on train indices\n",
    "#kf = KFold(n_splits=5, random_state=42, shuffle=True)\n",
    "sss = StratifiedKFold(n_splits=10, random_state=0, shuffle=True)\n",
    "#sss = StratifiedShuffleSplit(n_splits=5, test_size=0.25, random_state=42)\n",
    "fold_acc = []\n",
    "fold_auc_tot = []\n",
    "fold_auc_class = []\n",
    "sensi = []\n",
    "speci = []\n",
    "prec = []\n",
    "f1 = []\n",
    "accy = []\n",
    "for train_index, val_index in sss.split(trainval_patient_ids, trainval_y):\n",
    "    ######## training #########################################################\n",
    "    train_patients = [trainval_patient_ids[i] for i in train_index]\n",
    "    training_tumors = flatten([df3[df3['subjid'] == s].index for s in train_patients])\n",
    "    X_train, y_train = data_loader[training_tumors]\n",
    "    ########## validation ############################################################\n",
    "    val_patients = [trainval_patient_ids[i] for i in val_index]\n",
    "    val_tumors = flatten([df3[df3['subjid'] == s].index for s in val_patients])\n",
    "    X_val, y_val = data_loader[val_tumors]\n",
    "\n",
    "    ######## test ############################################################################\n",
    "    test_tumors = flatten([df3[df3['subjid'] == s].index for s in test_patient_ids])\n",
    "    X_test, y_test = data_loader[test_tumors]\n",
    "\n",
    "    #### set class weights to account for imbalanced dataset\n",
    "    class_weights = compute_class_weight('balanced', classes=np.unique(y_train), y=y_train)\n",
    "\n",
    "    ## Rescaling\n",
    "    #rescale = RescaleIntensity((0.05, 99.5))\n",
    "    #randaffine = torchio.RandomAffine(scales=(0.9,1.2),degrees=10, isotropic=True, image_interpolation='nearest')\n",
    "    #flip = torchio.RandomFlip(axes=('LR'), p=0.5)\n",
    "    #transforms = [flip, randaffine]\n",
    "    #transform = Compose(transforms)\n",
    "\n",
    "    train_transform = T.Compose([\n",
    "    T.RandomHorizontalFlip(0.5),\n",
    "    T.RandomVerticalFlip(0.5),\n",
    "    T.RandomRotation(degrees=15),\n",
    "    T.CenterCrop(size=150)])\n",
    "\n",
    "    model = EfficientNet.from_pretrained('efficientnet-b0')\n",
    "\n",
    "    for param in model.parameters():\n",
    "        param.requires_grad = False\n",
    "    model._conv_stem.in_channels = 1\n",
    "    #model._conv_stem.weight = torch.mean(model._conv_stem.weight, axis = 1, keepdim=True)\n",
    "    weights = torch.mean(model._conv_stem.weight, axis=1, keepdim=True)\n",
    "    model._conv_stem.weight = torch.nn.Parameter(weights)\n",
    "    #model._conv_stem.weight = torch.nn.Parameter(torch.cat([model._conv_stem.weight, model._conv_stem.weight], axis=1))\n",
    "    model._fc = nn.Linear(in_features=1280, out_features=3, bias=True)\n",
    "\n",
    "\n",
    "    criterion = nn.CrossEntropyLoss(weight=torch.FloatTensor(class_weights))\n",
    "    optimizer = optim.Adam(model.parameters(), lr=0.001)\n",
    "\n",
    "    # Convert data to TensorDataset\n",
    "    train_dataset = CustomDataset(X_train, y_train, transform = train_transform)\n",
    "    val_dataset = CustomDataset(X_val, y_val, transform = train_transform)\n",
    "    test_dataset = CustomDataset(X_test, y_test)\n",
    "\n",
    "    batch_size = 32\n",
    "    num_epochs = 50\n",
    "    patience = 10\n",
    "    path=f'checkpoint_EfficientNet.pt'\n",
    "    # Create data loaders\n",
    "    train_loader = DataLoader(train_dataset, batch_size=batch_size, shuffle= True)\n",
    "    val_loader = DataLoader(val_dataset, batch_size=batch_size, shuffle = True)\n",
    "    test_loader = DataLoader(test_dataset, batch_size=batch_size)\n",
    "    print('TRAINING')\n",
    "    train_validate_model(model, train_loader, val_loader, criterion, optimizer, num_epochs, patience, path=path)\n",
    "\n",
    "    model.load_state_dict(torch.load(path))\n",
    "    y_pred = test_model(model, test_loader, criterion)\n",
    "\n",
    "    accuracy = accuracy_score(y_test, y_pred)\n",
    "    num_classes = len(np.unique(y_test))\n",
    "    cm = confusion_matrix(y_test, y_pred, labels=np.unique(y_test))\n",
    "    print(cm)\n",
    "    specificity = calculate_specificity(cm)\n",
    "    sensitivity = calculate_sensitivity(cm)\n",
    "    precision = calculate_precision(cm)\n",
    "    F1 = calculate_f1_score(cm)\n",
    "    Accuracy = calculate_accuracy(cm)\n",
    "    sum_confusion_matrix_rf += cm\n",
    "\n",
    "    #accuracy = accuracy_score(y_test, y_pred)\n",
    "    fold_acc.append(accuracy)\n",
    "\n",
    "    # Calculate AUC score\n",
    "    auc_tot = multiclass_roc_auc_score(y_test, y_pred)\n",
    "    fold_auc_tot.append(auc_tot)\n",
    "\n",
    "    auc_class = class_vs_rest_roc_auc_score(y_test, y_pred)\n",
    "    fold_auc_class.append(auc_class)\n",
    "\n",
    "    speci.append(specificity)\n",
    "    sensi.append(sensitivity)\n",
    "    prec.append(precision)\n",
    "    f1.append(F1)\n",
    "    accy.append(Accuracy)"
   ],
   "metadata": {
    "collapsed": false,
    "ExecuteTime": {
     "start_time": "2023-07-25T18:00:15.236912Z",
     "end_time": "2023-07-25T18:34:21.678860Z"
    }
   }
  },
  {
   "cell_type": "code",
   "execution_count": 34,
   "outputs": [
    {
     "data": {
      "text/plain": "array([[ 30.,  13.,   7.],\n       [306., 224., 200.],\n       [ 47.,  40.,  43.]])"
     },
     "execution_count": 34,
     "metadata": {},
     "output_type": "execute_result"
    }
   ],
   "source": [
    "sum_confusion_matrix_rf"
   ],
   "metadata": {
    "collapsed": false,
    "ExecuteTime": {
     "start_time": "2023-07-25T18:35:06.410603Z",
     "end_time": "2023-07-25T18:35:06.455920Z"
    }
   }
  },
  {
   "cell_type": "code",
   "execution_count": 35,
   "outputs": [],
   "source": [
    "from scipy import stats\n",
    "confidence = 0.95\n",
    "avg_acc = np.mean(fold_acc)\n",
    "scores['acc'].append(avg_acc)\n",
    "#scores_svc['acc'] = scores_svc['acc'][-1]\n",
    "ci = stats.t.interval(confidence, len(fold_acc) - 1, loc=np.mean(fold_acc), scale=stats.sem(fold_acc))\n",
    "scores['CI_acc'].append(ci)\n",
    "scores['SD_acc'].append(np.std(fold_acc))\n",
    "\n",
    "#auc_tot\n",
    "avg_auc_tot = np.mean(fold_auc_tot)\n",
    "scores['auc_tot'].append(avg_auc_tot)\n",
    "scores['auc_tot'] = scores['auc_tot'][-1]\n",
    "ci = stats.t.interval(confidence, len(fold_auc_tot) - 1, loc=np.mean(fold_auc_tot), scale=stats.sem(fold_auc_tot))\n",
    "scores['CI_auc_tot'].append(ci)\n",
    "scores['SD_auc_tot'].append(np.std(fold_auc_tot))\n",
    "\n",
    "#auc_class\n",
    "list_0 = list(d[0] for d in fold_auc_class)\n",
    "list_1 = list(d[1] for d in fold_auc_class)\n",
    "list_2 = list(d[2] for d in fold_auc_class)\n",
    "\n",
    "avg_auc_class = {0: np.mean(list_0), 1: np.mean(list_1), 2: np.mean(list_2)}\n",
    "scores['auc_class'].append(avg_auc_class)\n",
    "\n",
    "sd_auc_class = {0: np.std(list_0), 1: np.std(list_1), 2: np.std(list_2)}\n",
    "scores['SD_auc_class'].append(sd_auc_class)\n",
    "\n",
    "ci_0 = stats.t.interval(confidence, len(list_0) - 1, loc=np.mean(list_0), scale=stats.sem(list_0))\n",
    "ci_1 = stats.t.interval(confidence, len(list_1) - 1, loc=np.mean(list_1), scale=stats.sem(list_1))\n",
    "ci_2 = stats.t.interval(confidence, len(list_2) - 1, loc=np.mean(list_2), scale=stats.sem(list_2))\n",
    "\n",
    "CI_auc_class = {0: ci_0, 1: ci_1, 2: ci_2}\n",
    "scores['CI_auc_class'].append(CI_auc_class)\n",
    "\n",
    "#sensitivity\n",
    "list_0 = list(d[0] for d in sensi)\n",
    "list_1 = list(d[1] for d in sensi)\n",
    "list_2 = list(d[2] for d in sensi)\n",
    "\n",
    "avg_sensi_class = {0: np.mean(list_0), 1: np.mean(list_1), 2: np.mean(list_2)}\n",
    "scores['Sen_mean'].append(avg_sensi_class)\n",
    "\n",
    "sd_sensi_class = {0: np.std(list_0), 1: np.std(list_1), 2: np.std(list_2)}\n",
    "scores['Sen_SD'].append(sd_sensi_class)\n",
    "\n",
    "ci_0 = stats.t.interval(confidence, len(list_0) - 1, loc=np.mean(list_0), scale=stats.sem(list_0))\n",
    "ci_1 = stats.t.interval(confidence, len(list_1) - 1, loc=np.mean(list_1), scale=stats.sem(list_1))\n",
    "ci_2 = stats.t.interval(confidence, len(list_2) - 1, loc=np.mean(list_2), scale=stats.sem(list_2))\n",
    "\n",
    "CI_sen_class = {0: ci_0, 1: ci_1, 2: ci_2}\n",
    "scores['Sen_CI'].append(CI_sen_class)\n",
    "\n",
    "#specificity\n",
    "list_0 = list(d[0] for d in speci)\n",
    "list_1 = list(d[1] for d in speci)\n",
    "list_2 = list(d[2] for d in speci)\n",
    "\n",
    "avg_speci_class = {0: np.mean(list_0), 1: np.mean(list_1), 2: np.mean(list_2)}\n",
    "scores['Spe_mean'].append(avg_speci_class)\n",
    "sd_speci_class = {0: np.std(list_0), 1: np.std(list_1), 2: np.std(list_2)}\n",
    "scores['Spe_sd'].append(sd_speci_class)\n",
    "\n",
    "ci_0 = stats.t.interval(confidence, len(list_0) - 1, loc=np.mean(list_0), scale=stats.sem(list_0))\n",
    "ci_1 = stats.t.interval(confidence, len(list_1) - 1, loc=np.mean(list_1), scale=stats.sem(list_1))\n",
    "ci_2 = stats.t.interval(confidence, len(list_2) - 1, loc=np.mean(list_2), scale=stats.sem(list_2))\n",
    "\n",
    "CI_spe_class = {0: ci_0, 1: ci_1, 2: ci_2}\n",
    "scores['Spe_CI'].append(CI_spe_class)\n",
    "\n",
    "#precision\n",
    "list_0 = list(d[0] for d in prec)\n",
    "list_1 = list(d[1] for d in prec)\n",
    "list_2 = list(d[2] for d in prec)\n",
    "\n",
    "avg_prec_class = {0: np.mean(list_0), 1: np.mean(list_1), 2: np.mean(list_2)}\n",
    "scores['Pre_mean'].append(avg_prec_class)\n",
    "sd_prec_class = {0: np.std(list_0), 1: np.std(list_1), 2: np.std(list_2)}\n",
    "scores['Pre_sd'].append(sd_prec_class)\n",
    "\n",
    "ci_0 = stats.t.interval(confidence, len(list_0) - 1, loc=np.mean(list_0), scale=stats.sem(list_0))\n",
    "ci_1 = stats.t.interval(confidence, len(list_1) - 1, loc=np.mean(list_1), scale=stats.sem(list_1))\n",
    "ci_2 = stats.t.interval(confidence, len(list_2) - 1, loc=np.mean(list_2), scale=stats.sem(list_2))\n",
    "\n",
    "CI_pre_class = {0: ci_0, 1: ci_1, 2: ci_2}\n",
    "scores['Pre_CI'].append(CI_pre_class)\n",
    "\n",
    "#F1\n",
    "list_0 = list(d[0] for d in f1)\n",
    "list_1 = list(d[1] for d in f1)\n",
    "list_2 = list(d[2] for d in f1)\n",
    "\n",
    "avg_f1_class = {0: np.mean(list_0), 1: np.mean(list_1), 2: np.mean(list_2)}\n",
    "scores['F1_mean'].append(avg_f1_class)\n",
    "sd_f1_class = {0: np.std(list_0), 1: np.std(list_1), 2: np.std(list_2)}\n",
    "scores['F1_sd'].append(sd_f1_class)\n",
    "\n",
    "ci_0 = stats.t.interval(confidence, len(list_0) - 1, loc=np.mean(list_0), scale=stats.sem(list_0))\n",
    "ci_1 = stats.t.interval(confidence, len(list_1) - 1, loc=np.mean(list_1), scale=stats.sem(list_1))\n",
    "ci_2 = stats.t.interval(confidence, len(list_2) - 1, loc=np.mean(list_2), scale=stats.sem(list_2))\n",
    "\n",
    "CI_F1_class = {0: ci_0, 1: ci_1, 2: ci_2}\n",
    "scores['F1_CI'].append(CI_F1_class)\n",
    "list_0 = list(d[0] for d in accy)\n",
    "list_1 = list(d[1] for d in accy)\n",
    "list_2 = list(d[2] for d in accy)\n",
    "\n",
    "avg_accy_class = {0: np.mean(list_0), 1: np.mean(list_1), 2: np.mean(list_2)}\n",
    "scores['Accy_mean'].append(avg_accy_class)\n",
    "sd_accy_class = {0: np.std(list_0), 1: np.std(list_1), 2: np.std(list_2)}\n",
    "scores['Accy_sd'].append(sd_accy_class)\n",
    "\n",
    "ci_0 = stats.t.interval(confidence, len(list_0) - 1, loc=np.mean(list_0), scale=stats.sem(list_0))\n",
    "ci_1 = stats.t.interval(confidence, len(list_1) - 1, loc=np.mean(list_1), scale=stats.sem(list_1))\n",
    "ci_2 = stats.t.interval(confidence, len(list_2) - 1, loc=np.mean(list_2), scale=stats.sem(list_2))\n",
    "\n",
    "CI_accy_class = {0: ci_0, 1: ci_1, 2: ci_2}\n",
    "scores['Accy_CI'].append(CI_accy_class)"
   ],
   "metadata": {
    "collapsed": false,
    "ExecuteTime": {
     "start_time": "2023-07-25T18:40:16.042665Z",
     "end_time": "2023-07-25T18:40:16.082900Z"
    }
   }
  },
  {
   "cell_type": "code",
   "execution_count": 36,
   "outputs": [
    {
     "data": {
      "text/plain": "{'acc': [0.3263736263736264],\n 'SD_acc': [0.1622545241657221],\n 'CI_acc': [(0.2040252150307532, 0.44872203771649954)],\n 'auc_tot': 0.544554061621599,\n 'SD_auc_tot': [0.029816247274482198],\n 'CI_auc_tot': [(0.5220710491755902, 0.5670370740676078)],\n 'auc_class': [{0: 0.5947674418604653,\n   1: 0.5062024353120245,\n   2: 0.5326923076923078}],\n 'SD_auc_class': [{0: 0.06701801457808265,\n   1: 0.0406897777271661,\n   2: 0.0405876054314788}],\n 'CI_auc_class': [{0: (0.5442323479569686, 0.6453025357639619),\n   1: (0.47552021126674193, 0.536884659357307),\n   2: (0.5020871269105328, 0.5632974884740828)}],\n 'Sen_mean': [{0: 60.0, 1: 30.684931506849313, 2: 33.07692307692308}],\n 'Sen_CI': [{0: (40.92381584126474, 79.07618415873526),\n   1: (14.956955305138433, 46.4129077085602),\n   2: (14.183273374967502, 51.97057277887866)}],\n 'Sen_SD': [{0: 25.298221281347036,\n   1: 20.85793568293072,\n   2: 25.0561499613882}],\n 'Spe_mean': [{0: 58.95348837209302,\n   1: 70.55555555555556,\n   2: 73.46153846153847}],\n 'Spe_CI': [{0: (35.78176726641777, 82.12520947776827),\n   1: (58.55225742802939, 82.55885368308172),\n   2: (55.99573195918128, 90.92734496389565)}],\n 'Spe_sd': [{0: 30.729590526237438,\n   1: 15.918387535438228,\n   2: 23.1625902789102}],\n 'Pre_mean': [{0: 10.62817648916047, 1: 71.87294051801095, 2: nan}],\n 'Pre_CI': [{0: (6.305006046895069, 14.95134693142587),\n   1: (53.51290888745337, 90.23297214856854),\n   2: (nan, nan)}],\n 'Pre_sd': [{0: 5.733249457823441, 1: 24.348482854716316, 2: nan}],\n 'F1_mean': [{0: 16.514070285484113, 1: nan, 2: nan}],\n 'F1_CI': [{0: (11.723192018219908, 21.304948552748318),\n   1: (nan, nan),\n   2: (nan, nan)}],\n 'F1_sd': [{0: 6.35350851767421, 1: nan, 2: nan}],\n 'Accy_mean': [{0: 59.01098901098902,\n   1: 38.57142857142857,\n   2: 67.69230769230768}],\n 'Accy_CI': [{0: (38.0545373646805, 79.96744065729754),\n   1: (28.14616924844522, 48.99668789441192),\n   2: (55.245207866344714, 80.13940751827064)}],\n 'Accy_sd': [{0: 27.79177148892191,\n   1: 13.825643277169165,\n   2: 16.50694305989046}]}"
     },
     "execution_count": 36,
     "metadata": {},
     "output_type": "execute_result"
    }
   ],
   "source": [
    "scores"
   ],
   "metadata": {
    "collapsed": false,
    "ExecuteTime": {
     "start_time": "2023-07-25T18:40:23.637105Z",
     "end_time": "2023-07-25T18:40:23.663111Z"
    }
   }
  },
  {
   "cell_type": "code",
   "execution_count": null,
   "outputs": [],
   "source": [],
   "metadata": {
    "collapsed": false
   }
  }
 ],
 "metadata": {
  "kernelspec": {
   "display_name": "Python 3",
   "language": "python",
   "name": "python3"
  },
  "language_info": {
   "codemirror_mode": {
    "name": "ipython",
    "version": 2
   },
   "file_extension": ".py",
   "mimetype": "text/x-python",
   "name": "python",
   "nbconvert_exporter": "python",
   "pygments_lexer": "ipython2",
   "version": "2.7.6"
  }
 },
 "nbformat": 4,
 "nbformat_minor": 0
}
