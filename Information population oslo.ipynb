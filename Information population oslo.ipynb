{
 "cells": [
  {
   "cell_type": "code",
   "execution_count": 1,
   "outputs": [],
   "source": [
    "import pandas as pd\n",
    "import numpy as np"
   ],
   "metadata": {
    "collapsed": false,
    "ExecuteTime": {
     "start_time": "2023-06-12T00:17:10.667588Z",
     "end_time": "2023-06-12T00:17:10.669878Z"
    }
   }
  },
  {
   "cell_type": "code",
   "execution_count": 18,
   "outputs": [
    {
     "data": {
      "text/plain": "        subjid  label  Age  F  M  labels\n0       Oslo01      1   58  0  1       0\n1       Oslo01      2   58  0  1       0\n2       Oslo02      2   50  1  0       1\n3       Oslo02      3   50  1  0       1\n4       Oslo02      4   50  1  0       1\n...        ...    ...  ... .. ..     ...\n2423  Stan_328     16   53  0  1       1\n2424  Stan_338      1   42  1  0       1\n2425  Stan_338      2   42  1  0       1\n2426  Stan_338      3   42  1  0       1\n2427  Stan_338      4   42  1  0       1\n\n[2247 rows x 6 columns]",
      "text/html": "<div>\n<style scoped>\n    .dataframe tbody tr th:only-of-type {\n        vertical-align: middle;\n    }\n\n    .dataframe tbody tr th {\n        vertical-align: top;\n    }\n\n    .dataframe thead th {\n        text-align: right;\n    }\n</style>\n<table border=\"1\" class=\"dataframe\">\n  <thead>\n    <tr style=\"text-align: right;\">\n      <th></th>\n      <th>subjid</th>\n      <th>label</th>\n      <th>Age</th>\n      <th>F</th>\n      <th>M</th>\n      <th>labels</th>\n    </tr>\n  </thead>\n  <tbody>\n    <tr>\n      <th>0</th>\n      <td>Oslo01</td>\n      <td>1</td>\n      <td>58</td>\n      <td>0</td>\n      <td>1</td>\n      <td>0</td>\n    </tr>\n    <tr>\n      <th>1</th>\n      <td>Oslo01</td>\n      <td>2</td>\n      <td>58</td>\n      <td>0</td>\n      <td>1</td>\n      <td>0</td>\n    </tr>\n    <tr>\n      <th>2</th>\n      <td>Oslo02</td>\n      <td>2</td>\n      <td>50</td>\n      <td>1</td>\n      <td>0</td>\n      <td>1</td>\n    </tr>\n    <tr>\n      <th>3</th>\n      <td>Oslo02</td>\n      <td>3</td>\n      <td>50</td>\n      <td>1</td>\n      <td>0</td>\n      <td>1</td>\n    </tr>\n    <tr>\n      <th>4</th>\n      <td>Oslo02</td>\n      <td>4</td>\n      <td>50</td>\n      <td>1</td>\n      <td>0</td>\n      <td>1</td>\n    </tr>\n    <tr>\n      <th>...</th>\n      <td>...</td>\n      <td>...</td>\n      <td>...</td>\n      <td>...</td>\n      <td>...</td>\n      <td>...</td>\n    </tr>\n    <tr>\n      <th>2423</th>\n      <td>Stan_328</td>\n      <td>16</td>\n      <td>53</td>\n      <td>0</td>\n      <td>1</td>\n      <td>1</td>\n    </tr>\n    <tr>\n      <th>2424</th>\n      <td>Stan_338</td>\n      <td>1</td>\n      <td>42</td>\n      <td>1</td>\n      <td>0</td>\n      <td>1</td>\n    </tr>\n    <tr>\n      <th>2425</th>\n      <td>Stan_338</td>\n      <td>2</td>\n      <td>42</td>\n      <td>1</td>\n      <td>0</td>\n      <td>1</td>\n    </tr>\n    <tr>\n      <th>2426</th>\n      <td>Stan_338</td>\n      <td>3</td>\n      <td>42</td>\n      <td>1</td>\n      <td>0</td>\n      <td>1</td>\n    </tr>\n    <tr>\n      <th>2427</th>\n      <td>Stan_338</td>\n      <td>4</td>\n      <td>42</td>\n      <td>1</td>\n      <td>0</td>\n      <td>1</td>\n    </tr>\n  </tbody>\n</table>\n<p>2247 rows × 6 columns</p>\n</div>"
     },
     "execution_count": 18,
     "metadata": {},
     "output_type": "execute_result"
    }
   ],
   "source": [
    "df = pd.read_excel('all_patients.xlsx')\n",
    "#df = df.set_index(['subjid'])\n",
    "df = df.drop('number_annotations', axis = 1)\n",
    "#df = df[df.shape_VoxelVolume > 125]\n",
    "df.drop(df[df['labels'] == 3].index, inplace = True) ## dropping label of the call OTHERS\n",
    "#df = df.set_index(['subjid', 'label'])\n",
    "df = df.iloc[:,:2].join(df.iloc[:, -4:])\n",
    "df"
   ],
   "metadata": {
    "collapsed": false,
    "ExecuteTime": {
     "start_time": "2023-05-29T20:07:52.644061Z",
     "end_time": "2023-05-29T20:07:55.039591Z"
    }
   }
  },
  {
   "cell_type": "markdown",
   "source": [
    "## Total patietns in the study"
   ],
   "metadata": {
    "collapsed": false
   }
  },
  {
   "cell_type": "code",
   "execution_count": 20,
   "outputs": [
    {
     "name": "stdout",
     "output_type": "stream",
     "text": [
      "13\n",
      "13\n",
      "32 86\n",
      "68\n"
     ]
    }
   ],
   "source": [
    "#melanoma\n",
    "melanoma = df[df['labels']==0]\n",
    "\n",
    "unique_count_female = melanoma[melanoma['F'] == 1]['subjid'].nunique() ## number of feamales with melanoma in teh study\n",
    "print('melanoma females', unique_count_female)\n",
    "\n",
    "unique_count_male = melanoma[melanoma['M'] == 1]['subjid'].nunique() ## number of feamales with melanoma in teh study\n",
    "print('melanoma males',unique_count_male)\n",
    "\n",
    "print('mean age', melanoma['Age'].mean()) ## mean of patietns in the whole study\n",
    "print('print age range',melanoma['Age'].min(), melanoma['Age'].max())\n",
    "\n",
    "print('total number of lung tumors',len(melanoma[melanoma['F'] == 1]) + len(melanoma[melanoma['F'] == 0]))"
   ],
   "metadata": {
    "collapsed": false,
    "ExecuteTime": {
     "start_time": "2023-05-29T20:08:05.190166Z",
     "end_time": "2023-05-29T20:08:05.208997Z"
    }
   }
  },
  {
   "cell_type": "code",
   "execution_count": 22,
   "outputs": [
    {
     "name": "stdout",
     "output_type": "stream",
     "text": [
      "29\n",
      "1\n",
      "441\n"
     ]
    }
   ],
   "source": [
    "#breast\n",
    "breast = df[df['labels']==2]\n",
    "\n",
    "unique_count_female = breast[breast['F'] == 1]['subjid'].nunique() ## number of feamales with breast in teh study\n",
    "print('melanoma females', unique_count_female)\n",
    "\n",
    "unique_count_male = breast[breast['M'] == 1]['subjid'].nunique() ## number of feamales with melanoma in teh study\n",
    "print('melanoma males', unique_count_male)\n",
    "\n",
    "print('mean age', breast['Age'].mean())## mean of patietns in the whole study\n",
    "print('print age range',breast['Age'].min(), breast['Age'].max())\n",
    "\n",
    "print('total number of tumors',len(breast[breast['F'] == 1]) + len(breast[breast['F'] == 0]))"
   ],
   "metadata": {
    "collapsed": false,
    "ExecuteTime": {
     "start_time": "2023-05-29T20:08:29.959308Z",
     "end_time": "2023-05-29T20:08:29.972746Z"
    }
   }
  },
  {
   "cell_type": "code",
   "execution_count": 24,
   "outputs": [
    {
     "name": "stdout",
     "output_type": "stream",
     "text": [
      "83\n",
      "51\n",
      "61.533947065592635\n",
      "32 90\n",
      "1738\n"
     ]
    }
   ],
   "source": [
    "## lung\n",
    "lung = df[df['labels']==1]\n",
    "\n",
    "unique_count_female = lung[lung['F'] == 1]['subjid'].nunique() ## number of feamales with lung in teh study\n",
    "print(unique_count_female)\n",
    "\n",
    "unique_count_male = lung[lung['F'] == 0]['subjid'].nunique() ## number of feamales with lung in teh study\n",
    "print(unique_count_male)\n",
    "\n",
    "print(lung['Age'].mean())## mean of patietns in the whole study\n",
    "print(lung['Age'].min(), breast['Age'].max())\n",
    "\n",
    "print(len(lung[lung['F'] == 1]) + len(lung[lung['F'] == 0]))"
   ],
   "metadata": {
    "collapsed": false,
    "ExecuteTime": {
     "start_time": "2023-05-29T20:31:44.156683Z",
     "end_time": "2023-05-29T20:31:44.199563Z"
    }
   }
  },
  {
   "cell_type": "code",
   "execution_count": 17,
   "outputs": [
    {
     "name": "stdout",
     "output_type": "stream",
     "text": [
      "83\n",
      "51\n",
      "61.533947065592635\n",
      "32 90\n",
      "1738\n"
     ]
    }
   ],
   "source": [
    "#lung\n",
    "lung = df[df['labels']==1]\n",
    "\n",
    "unique_count_female = lung[lung['F'] == 1]['subjid'].nunique() ## number of feamales with lung in teh study\n",
    "print(unique_count_female)\n",
    "\n",
    "unique_count_male = lung[lung['F'] == 0]['subjid'].nunique() ## number of feamales with lung in teh study\n",
    "print(unique_count_male)\n",
    "\n",
    "print(lung['Age'].mean())## mean of patietns in the whole study\n",
    "print(lung['Age'].min(), breast['Age'].max())\n",
    "\n",
    "print(len(lung[lung['F'] == 1]) + len(lung[lung['F'] == 0]))"
   ],
   "metadata": {
    "collapsed": false,
    "ExecuteTime": {
     "start_time": "2023-05-29T20:07:03.520674Z",
     "end_time": "2023-05-29T20:07:03.538092Z"
    }
   }
  },
  {
   "cell_type": "code",
   "execution_count": 2,
   "outputs": [],
   "source": [
    "df = pd.read_excel('all_patients.xlsx')\n",
    "#df = df.set_index(['subjid'])\n",
    "df = df.drop('number_annotations', axis = 1)\n",
    "df = df[df.shape_VoxelVolume > 125]\n",
    "df.drop(df[df['labels'] == 3].index, inplace = True) ## dropping label of the call OTHERS\n",
    "#df = df.set_index(['subjid', 'label'])\n",
    "df = df.iloc[:,:2].join(df.iloc[:, -4:])\n",
    "lung = df[df['labels']==1]\n",
    "breast = df[df['labels']==2]\n",
    "melanoma = df[df['labels']==0]"
   ],
   "metadata": {
    "collapsed": false,
    "ExecuteTime": {
     "start_time": "2023-06-12T00:17:15.197208Z",
     "end_time": "2023-06-12T00:17:18.024111Z"
    }
   }
  },
  {
   "cell_type": "code",
   "execution_count": 10,
   "outputs": [],
   "source": [
    "#df[df['labels']  == 0]\n",
    "\n",
    "df['labels'] = df['labels'].replace(0, 'Melanoma')\n",
    "df['labels'] = df['labels'].replace(1, 'Lung')\n",
    "df['labels'] = df['labels'].replace(2, 'Breast')"
   ],
   "metadata": {
    "collapsed": false,
    "ExecuteTime": {
     "start_time": "2023-06-12T00:27:32.181741Z",
     "end_time": "2023-06-12T00:27:32.227078Z"
    }
   }
  },
  {
   "cell_type": "code",
   "execution_count": 11,
   "outputs": [
    {
     "name": "stdout",
     "output_type": "stream",
     "text": [
      "Counter({'Lung': 321, 'Breast': 76, 'Melanoma': 41})\n"
     ]
    }
   ],
   "source": [
    "from collections import Counter\n",
    "X = df.iloc[:, :-1] #leaving the sex and age features out for now\n",
    "y = df.iloc[:, -1:]\n",
    "print(Counter(y.values.ravel()))"
   ],
   "metadata": {
    "collapsed": false,
    "ExecuteTime": {
     "start_time": "2023-06-12T00:27:34.544061Z",
     "end_time": "2023-06-12T00:27:34.551063Z"
    }
   }
  },
  {
   "cell_type": "code",
   "execution_count": 13,
   "outputs": [
    {
     "data": {
      "text/plain": "<Figure size 640x480 with 1 Axes>",
      "image/png": "[encoded data removed]"
     },
     "metadata": {},
     "output_type": "display_data"
    }
   ],
   "source": [
    "import matplotlib.pyplot as plt\n",
    "from collections import Counter\n",
    "\n",
    "# Assuming you have already defined X and y\n",
    "\n",
    "# Count the occurrences of each class\n",
    "class_counts = Counter(y.values.ravel())\n",
    "\n",
    "# Extract the class labels and their respective counts\n",
    "classes = class_counts.keys()\n",
    "counts = class_counts.values()\n",
    "\n",
    "# Create a bar plot\n",
    "plt.bar(classes, counts, color='red', width=0.5)\n",
    "\n",
    "# Set plot title and axis labels\n",
    "plt.title(\"Class Distribution\")\n",
    "plt.xlabel(\"Class\")\n",
    "plt.ylabel(\"Count\")\n",
    "\n",
    "# Set the font size\n",
    "plt.xticks(fontsize=8)\n",
    "plt.yticks(fontsize=8)\n",
    "\n",
    "# Display the plot\n",
    "plt.show()"
   ],
   "metadata": {
    "collapsed": false,
    "ExecuteTime": {
     "start_time": "2023-06-12T00:28:22.611143Z",
     "end_time": "2023-06-12T00:28:22.751022Z"
    }
   }
  },
  {
   "cell_type": "code",
   "execution_count": 29,
   "outputs": [
    {
     "name": "stdout",
     "output_type": "stream",
     "text": [
      "total number of melanoma tumors 41\n",
      "total number of lung tumors 321\n",
      "total number of breast tumors 76\n"
     ]
    }
   ],
   "source": [
    "print('total number of melanoma tumors',len(melanoma[melanoma['F'] == 1]) + len(melanoma[melanoma['F'] == 0]))\n",
    "print('total number of lung tumors',len(lung[lung['F'] == 1]) + len(lung[lung['F'] == 0]))\n",
    "print('total number of breast tumors',len(breast[breast['F'] == 1]) + len(breast[breast['F'] == 0]))"
   ],
   "metadata": {
    "collapsed": false,
    "ExecuteTime": {
     "start_time": "2023-05-29T20:39:36.953402Z",
     "end_time": "2023-05-29T20:39:36.994009Z"
    }
   }
  }
 ],
 "metadata": {
  "kernelspec": {
   "display_name": "Python 3",
   "language": "python",
   "name": "python3"
  },
  "language_info": {
   "codemirror_mode": {
    "name": "ipython",
    "version": 2
   },
   "file_extension": ".py",
   "mimetype": "text/x-python",
   "name": "python",
   "nbconvert_exporter": "python",
   "pygments_lexer": "ipython2",
   "version": "2.7.6"
  }
 },
 "nbformat": 4,
 "nbformat_minor": 0
}
