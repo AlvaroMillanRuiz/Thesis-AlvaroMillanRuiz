{
 "cells": [
  {
   "cell_type": "markdown",
   "source": [
    "# This will be feature selection based on the paper by kniep HC in which they get tid off all those tumors which volume is less than 125 and select the 10 lasrgest metastsis per patient. I am going to go with 15 for now. The rest would be applying the same codes as before. Only the radiomic features of the 3 classes: Melanomma, Lung, Breast (0, 1, 2)."
   ],
   "metadata": {
    "collapsed": false
   }
  },
  {
   "cell_type": "code",
   "execution_count": 14,
   "outputs": [],
   "source": [
    "import pandas as pd\n",
    "import numpy as np\n",
    "import matplotlib.pyplot as plt\n",
    "import seaborn as sns\n",
    "from sklearn.model_selection import GroupShuffleSplit\n",
    "from sklearn.preprocessing import MinMaxScaler, StandardScaler\n",
    "from sklearn.model_selection import cross_val_score, train_test_split, cross_validate, KFold, RepeatedStratifiedKFold\n",
    "from sklearn.neighbors import KNeighborsClassifier\n",
    "from lightgbm import LGBMClassifier\n",
    "from sklearn.metrics import accuracy_score, roc_auc_score, make_scorer\n",
    "from sklearn.svm import LinearSVC\n",
    "from sklearn.ensemble import RandomForestClassifier\n",
    "from sklearn.model_selection import GridSearchCV, RandomizedSearchCV\n",
    "from sklearn.feature_selection import SelectKBest\n",
    "from sklearn.feature_selection import f_classif\n",
    "from sklearn.feature_selection import chi2\n",
    "from sklearn.pipeline import Pipeline\n",
    "from sklearn.pipeline import make_pipeline\n",
    "from sklearn.feature_selection import mutual_info_classif\n",
    "from sklearn.metrics import confusion_matrix\n",
    "from sklearn.ensemble import VotingClassifier\n",
    "from sklearn.compose import ColumnTransformer\n",
    "from sklearn.preprocessing import LabelBinarizer\n",
    "from sklearn.feature_selection import VarianceThreshold\n",
    "from collections import Counter\n",
    "from imblearn.combine import SMOTEENN, SMOTETomek\n",
    "from imblearn.pipeline import Pipeline as imbpipeline\n",
    "from mrmr import mrmr_classif\n",
    "from scipy import stats\n",
    "from sklearn.calibration import CalibratedClassifierCV\n",
    "from sklearn.feature_selection import f_classif"
   ],
   "metadata": {
    "collapsed": false,
    "ExecuteTime": {
     "start_time": "2023-08-16T21:52:22.653240Z",
     "end_time": "2023-08-16T21:52:22.691627Z"
    }
   }
  },
  {
   "cell_type": "code",
   "execution_count": 15,
   "outputs": [],
   "source": [
    "def multiclass_roc_auc_score(y_test, y_pred, average=\"macro\"):\n",
    "    lb = LabelBinarizer()\n",
    "    lb.fit(y_test)\n",
    "    y_test = lb.transform(y_test)\n",
    "    y_pred = lb.transform(y_pred)\n",
    "    return roc_auc_score(y_test, y_pred, multi_class='ovr', average=average)\n",
    "\n",
    "from sklearn.metrics import roc_auc_score\n",
    "\n",
    "def class_vs_rest_roc_auc_score(y_test, y_pred):\n",
    "    lb = LabelBinarizer()\n",
    "    lb.fit(y_test)\n",
    "    y_test_bin = lb.transform(y_test)\n",
    "    y_pred_bin = lb.transform(y_pred)\n",
    "    roc_auc_scores = {}\n",
    "\n",
    "    for i, class_label in enumerate(lb.classes_):\n",
    "        class_indices = lb.transform([class_label])[0]\n",
    "        rest_indices = ~class_indices\n",
    "        y_test_class = y_test_bin[:, i]\n",
    "        y_test_rest = y_test_bin[:, rest_indices]\n",
    "        y_pred_class = y_pred_bin[:, i]\n",
    "        y_pred_rest = y_pred_bin[:, rest_indices]\n",
    "        roc_auc_scores[class_label] = roc_auc_score(y_test_class, y_pred_class, multi_class='ovr', average=\"macro\")\n",
    "\n",
    "    return roc_auc_scores\n",
    "\n",
    "def calculate_specificity(cm):\n",
    "    num_classes = cm.shape[0]\n",
    "    specificity = {}\n",
    "\n",
    "    for i in range(num_classes):\n",
    "        tp = cm[i, i]\n",
    "        tn = np.sum(np.delete(np.delete(cm, i, axis=0), i, axis=1))\n",
    "        fp = np.sum(cm[:, i]) - tp\n",
    "        fn = np.sum(cm[i, :]) - tp\n",
    "\n",
    "        specificity[i] = 100*(tn / (tn + fp))\n",
    "\n",
    "    return specificity\n",
    "\n",
    "def calculate_sensitivity(cm):\n",
    "    num_classes = cm.shape[0]\n",
    "    sensitivity = {}\n",
    "\n",
    "    for i in range(num_classes):\n",
    "        tp = cm[i, i]\n",
    "        fn = np.sum(cm[i, :]) - tp\n",
    "\n",
    "        sensitivity[i] = 100*(tp / (tp + fn))\n",
    "\n",
    "    return sensitivity\n",
    "\n",
    "\n",
    "def calculate_precision(cm):\n",
    "    num_classes = cm.shape[0]\n",
    "    precision = {}\n",
    "\n",
    "    for i in range(num_classes):\n",
    "        tp = cm[i, i]\n",
    "        fp = np.sum(cm[:, i]) - tp\n",
    "\n",
    "        precision[i] = 100*(tp / (tp + fp))\n",
    "\n",
    "    return precision\n",
    "\n",
    "\n",
    "def calculate_f1_score(cm):\n",
    "    num_classes = cm.shape[0]\n",
    "    f1_scores = {}\n",
    "\n",
    "    for i in range(num_classes):\n",
    "        tp = cm[i, i]\n",
    "        fp = np.sum(cm[:, i]) - tp\n",
    "        fn = np.sum(cm[i, :]) - tp\n",
    "\n",
    "        precision = tp / (tp + fp)\n",
    "        recall = tp / (tp + fn)\n",
    "        f1_scores[i] = 2 * ((precision * recall) / (precision + recall)) * 100\n",
    "\n",
    "    return f1_scores\n",
    "\n",
    "def calculate_accuracy(cm):\n",
    "    num_classes = cm.shape[0]\n",
    "    accuracy = {}\n",
    "\n",
    "    for i in range(num_classes):\n",
    "        tp = cm[i, i]\n",
    "        fp = np.sum(cm[:, i]) - tp\n",
    "        fn = np.sum(cm[i, :]) - tp\n",
    "        tn = np.sum(cm) - tp - fp - fn\n",
    "\n",
    "        accuracy[i] = 100 * ((tp + tn) / (tp + tn + fp + fn))\n",
    "\n",
    "    return accuracy"
   ],
   "metadata": {
    "collapsed": false,
    "ExecuteTime": {
     "start_time": "2023-08-16T21:52:22.670342Z",
     "end_time": "2023-08-16T21:52:22.722158Z"
    }
   }
  },
  {
   "cell_type": "code",
   "execution_count": 16,
   "outputs": [
    {
     "data": {
      "text/plain": "                shape_Elongation  shape_Flatness  shape_LeastAxisLength   \nsubjid   label                                                            \nOslo01   1              0.829356        0.682981               8.512717  \\\n         2              0.944143        0.900681              14.133927   \nOslo02   4              0.849295        0.841082               8.703783   \n         5              0.939828        0.821847              12.093804   \nOslo03   1              0.930698        0.629604              10.914986   \n...                          ...             ...                    ...   \nStan_328 1              0.810571        0.325076               8.769420   \n         8              0.967496        0.597282               6.131668   \n         11             0.561746        0.506390               5.004740   \n         12             0.959775        0.756903               5.164755   \nStan_338 4              0.819799        0.618051               8.548537   \n\n                shape_MajorAxisLength  shape_Maximum2DDiameterColumn   \nsubjid   label                                                         \nOslo01   1                  12.464063                      14.866069  \\\n         2                  15.692487                      17.804494   \nOslo02   4                  10.348315                      10.816654   \n         5                  14.715396                      17.262677   \nOslo03   1                  17.336268                      20.615528   \n...                               ...                            ...   \nStan_328 1                  26.976501                      31.384710   \n         8                  10.265944                      11.661904   \n         11                  9.883181                       8.246211   \n         12                  6.823538                       7.615773   \nStan_338 4                  13.831433                      14.142136   \n\n                shape_Maximum2DDiameterRow  shape_Maximum2DDiameterSlice   \nsubjid   label                                                             \nOslo01   1                       14.560220                     12.529964  \\\n         2                       19.416488                     18.681542   \nOslo02   4                       11.704700                     11.704700   \n         5                       17.888544                     17.492856   \nOslo03   1                       18.439089                     19.416488   \n...                                    ...                           ...   \nStan_328 1                       28.160256                     27.459060   \n         8                       12.369317                     12.165525   \n         11                      11.704700                     10.000000   \n         12                       8.602325                      8.602325   \nStan_338 4                       15.297059                     17.204651   \n\n                shape_Maximum3DDiameter  shape_MeshVolume   \nsubjid   label                                              \nOslo01   1                    15.394804        728.083333  \\\n         2                    19.467922       2320.625000   \nOslo02   4                    12.449900        538.666667   \n         5                    18.000000       1681.250000   \nOslo03   1                    20.712315       2068.958333   \n...                                 ...               ...   \nStan_328 1                    33.075671       3310.541667   \n         8                    12.688578        375.166667   \n         11                   12.124356        159.791667   \n         12                    8.602325        149.333333   \nStan_338 4                    17.291616        821.541667   \n\n                shape_MinorAxisLength  ...  glszm_ZoneVariance   \nsubjid   label                         ...                       \nOslo01   1                  10.337151  ...        3.039725e+04  \\\n         2                  14.815951  ...        1.935116e+05   \nOslo02   4                   8.788767  ...        2.845492e+04   \n         5                  13.829936  ...        2.494262e+05   \nOslo03   1                  16.134831  ...        5.461509e+05   \n...                               ...  ...                 ...   \nStan_328 1                  21.866369  ...        1.298363e+06   \n         8                   9.932261  ...        1.211469e+04   \n         11                  5.551835  ...        6.480250e+03   \n         12                  6.549062  ...        0.000000e+00   \nStan_338 4                  11.338998  ...        3.509118e+04   \n\n                ngtdm_Busyness  ngtdm_Coarseness  ngtdm_Complexity   \nsubjid   label                                                       \nOslo01   1          158.977235          0.008929          0.302273  \\\n         2           39.445794          0.007407          0.115448   \nOslo02   4           14.239428          0.022868          0.159307   \n         5           49.609354          0.008536          0.137901   \nOslo03   1           43.648474          0.007781          0.123220   \n...                        ...               ...               ...   \nStan_328 1           12.988427          0.019891          0.030104   \n         8           18.452502          0.024791          0.208465   \n         11           0.553323          0.468447          0.025263   \n         12           0.000000    1000000.000000          0.000000   \nStan_338 4            6.977967          0.040814          0.057854   \n\n                ngtdm_Contrast  ngtdm_Strength  Age  F  M  labels  \nsubjid   label                                                     \nOslo01   1            0.074659        0.008950   58  0  1       0  \n         2            0.010426        0.007130   58  0  1       0  \nOslo02   4            0.020316        0.023465   50  1  0       1  \n         5            0.028455        0.008212   50  1  0       1  \nOslo03   1            0.017415        0.007982   64  0  1       0  \n...                        ...             ...  ... .. ..     ...  \nStan_328 1            0.000639        0.019768   53  0  1       1  \n         8            0.046975        0.023205   53  0  1       1  \n         11           0.000748        0.365681   53  0  1       1  \n         12           0.000000        0.000000   53  0  1       1  \nStan_338 4            0.005610        0.031493   42  1  0       1  \n\n[438 rows x 111 columns]",
      "text/html": "<div>\n<style scoped>\n    .dataframe tbody tr th:only-of-type {\n        vertical-align: middle;\n    }\n\n    .dataframe tbody tr th {\n        vertical-align: top;\n    }\n\n    .dataframe thead th {\n        text-align: right;\n    }\n</style>\n<table border=\"1\" class=\"dataframe\">\n  <thead>\n    <tr style=\"text-align: right;\">\n      <th></th>\n      <th></th>\n      <th>shape_Elongation</th>\n      <th>shape_Flatness</th>\n      <th>shape_LeastAxisLength</th>\n      <th>shape_MajorAxisLength</th>\n      <th>shape_Maximum2DDiameterColumn</th>\n      <th>shape_Maximum2DDiameterRow</th>\n      <th>shape_Maximum2DDiameterSlice</th>\n      <th>shape_Maximum3DDiameter</th>\n      <th>shape_MeshVolume</th>\n      <th>shape_MinorAxisLength</th>\n      <th>...</th>\n      <th>glszm_ZoneVariance</th>\n      <th>ngtdm_Busyness</th>\n      <th>ngtdm_Coarseness</th>\n      <th>ngtdm_Complexity</th>\n      <th>ngtdm_Contrast</th>\n      <th>ngtdm_Strength</th>\n      <th>Age</th>\n      <th>F</th>\n      <th>M</th>\n      <th>labels</th>\n    </tr>\n    <tr>\n      <th>subjid</th>\n      <th>label</th>\n      <th></th>\n      <th></th>\n      <th></th>\n      <th></th>\n      <th></th>\n      <th></th>\n      <th></th>\n      <th></th>\n      <th></th>\n      <th></th>\n      <th></th>\n      <th></th>\n      <th></th>\n      <th></th>\n      <th></th>\n      <th></th>\n      <th></th>\n      <th></th>\n      <th></th>\n      <th></th>\n      <th></th>\n    </tr>\n  </thead>\n  <tbody>\n    <tr>\n      <th rowspan=\"2\" valign=\"top\">Oslo01</th>\n      <th>1</th>\n      <td>0.829356</td>\n      <td>0.682981</td>\n      <td>8.512717</td>\n      <td>12.464063</td>\n      <td>14.866069</td>\n      <td>14.560220</td>\n      <td>12.529964</td>\n      <td>15.394804</td>\n      <td>728.083333</td>\n      <td>10.337151</td>\n      <td>...</td>\n      <td>3.039725e+04</td>\n      <td>158.977235</td>\n      <td>0.008929</td>\n      <td>0.302273</td>\n      <td>0.074659</td>\n      <td>0.008950</td>\n      <td>58</td>\n      <td>0</td>\n      <td>1</td>\n      <td>0</td>\n    </tr>\n    <tr>\n      <th>2</th>\n      <td>0.944143</td>\n      <td>0.900681</td>\n      <td>14.133927</td>\n      <td>15.692487</td>\n      <td>17.804494</td>\n      <td>19.416488</td>\n      <td>18.681542</td>\n      <td>19.467922</td>\n      <td>2320.625000</td>\n      <td>14.815951</td>\n      <td>...</td>\n      <td>1.935116e+05</td>\n      <td>39.445794</td>\n      <td>0.007407</td>\n      <td>0.115448</td>\n      <td>0.010426</td>\n      <td>0.007130</td>\n      <td>58</td>\n      <td>0</td>\n      <td>1</td>\n      <td>0</td>\n    </tr>\n    <tr>\n      <th rowspan=\"2\" valign=\"top\">Oslo02</th>\n      <th>4</th>\n      <td>0.849295</td>\n      <td>0.841082</td>\n      <td>8.703783</td>\n      <td>10.348315</td>\n      <td>10.816654</td>\n      <td>11.704700</td>\n      <td>11.704700</td>\n      <td>12.449900</td>\n      <td>538.666667</td>\n      <td>8.788767</td>\n      <td>...</td>\n      <td>2.845492e+04</td>\n      <td>14.239428</td>\n      <td>0.022868</td>\n      <td>0.159307</td>\n      <td>0.020316</td>\n      <td>0.023465</td>\n      <td>50</td>\n      <td>1</td>\n      <td>0</td>\n      <td>1</td>\n    </tr>\n    <tr>\n      <th>5</th>\n      <td>0.939828</td>\n      <td>0.821847</td>\n      <td>12.093804</td>\n      <td>14.715396</td>\n      <td>17.262677</td>\n      <td>17.888544</td>\n      <td>17.492856</td>\n      <td>18.000000</td>\n      <td>1681.250000</td>\n      <td>13.829936</td>\n      <td>...</td>\n      <td>2.494262e+05</td>\n      <td>49.609354</td>\n      <td>0.008536</td>\n      <td>0.137901</td>\n      <td>0.028455</td>\n      <td>0.008212</td>\n      <td>50</td>\n      <td>1</td>\n      <td>0</td>\n      <td>1</td>\n    </tr>\n    <tr>\n      <th>Oslo03</th>\n      <th>1</th>\n      <td>0.930698</td>\n      <td>0.629604</td>\n      <td>10.914986</td>\n      <td>17.336268</td>\n      <td>20.615528</td>\n      <td>18.439089</td>\n      <td>19.416488</td>\n      <td>20.712315</td>\n      <td>2068.958333</td>\n      <td>16.134831</td>\n      <td>...</td>\n      <td>5.461509e+05</td>\n      <td>43.648474</td>\n      <td>0.007781</td>\n      <td>0.123220</td>\n      <td>0.017415</td>\n      <td>0.007982</td>\n      <td>64</td>\n      <td>0</td>\n      <td>1</td>\n      <td>0</td>\n    </tr>\n    <tr>\n      <th>...</th>\n      <th>...</th>\n      <td>...</td>\n      <td>...</td>\n      <td>...</td>\n      <td>...</td>\n      <td>...</td>\n      <td>...</td>\n      <td>...</td>\n      <td>...</td>\n      <td>...</td>\n      <td>...</td>\n      <td>...</td>\n      <td>...</td>\n      <td>...</td>\n      <td>...</td>\n      <td>...</td>\n      <td>...</td>\n      <td>...</td>\n      <td>...</td>\n      <td>...</td>\n      <td>...</td>\n      <td>...</td>\n    </tr>\n    <tr>\n      <th rowspan=\"4\" valign=\"top\">Stan_328</th>\n      <th>1</th>\n      <td>0.810571</td>\n      <td>0.325076</td>\n      <td>8.769420</td>\n      <td>26.976501</td>\n      <td>31.384710</td>\n      <td>28.160256</td>\n      <td>27.459060</td>\n      <td>33.075671</td>\n      <td>3310.541667</td>\n      <td>21.866369</td>\n      <td>...</td>\n      <td>1.298363e+06</td>\n      <td>12.988427</td>\n      <td>0.019891</td>\n      <td>0.030104</td>\n      <td>0.000639</td>\n      <td>0.019768</td>\n      <td>53</td>\n      <td>0</td>\n      <td>1</td>\n      <td>1</td>\n    </tr>\n    <tr>\n      <th>8</th>\n      <td>0.967496</td>\n      <td>0.597282</td>\n      <td>6.131668</td>\n      <td>10.265944</td>\n      <td>11.661904</td>\n      <td>12.369317</td>\n      <td>12.165525</td>\n      <td>12.688578</td>\n      <td>375.166667</td>\n      <td>9.932261</td>\n      <td>...</td>\n      <td>1.211469e+04</td>\n      <td>18.452502</td>\n      <td>0.024791</td>\n      <td>0.208465</td>\n      <td>0.046975</td>\n      <td>0.023205</td>\n      <td>53</td>\n      <td>0</td>\n      <td>1</td>\n      <td>1</td>\n    </tr>\n    <tr>\n      <th>11</th>\n      <td>0.561746</td>\n      <td>0.506390</td>\n      <td>5.004740</td>\n      <td>9.883181</td>\n      <td>8.246211</td>\n      <td>11.704700</td>\n      <td>10.000000</td>\n      <td>12.124356</td>\n      <td>159.791667</td>\n      <td>5.551835</td>\n      <td>...</td>\n      <td>6.480250e+03</td>\n      <td>0.553323</td>\n      <td>0.468447</td>\n      <td>0.025263</td>\n      <td>0.000748</td>\n      <td>0.365681</td>\n      <td>53</td>\n      <td>0</td>\n      <td>1</td>\n      <td>1</td>\n    </tr>\n    <tr>\n      <th>12</th>\n      <td>0.959775</td>\n      <td>0.756903</td>\n      <td>5.164755</td>\n      <td>6.823538</td>\n      <td>7.615773</td>\n      <td>8.602325</td>\n      <td>8.602325</td>\n      <td>8.602325</td>\n      <td>149.333333</td>\n      <td>6.549062</td>\n      <td>...</td>\n      <td>0.000000e+00</td>\n      <td>0.000000</td>\n      <td>1000000.000000</td>\n      <td>0.000000</td>\n      <td>0.000000</td>\n      <td>0.000000</td>\n      <td>53</td>\n      <td>0</td>\n      <td>1</td>\n      <td>1</td>\n    </tr>\n    <tr>\n      <th>Stan_338</th>\n      <th>4</th>\n      <td>0.819799</td>\n      <td>0.618051</td>\n      <td>8.548537</td>\n      <td>13.831433</td>\n      <td>14.142136</td>\n      <td>15.297059</td>\n      <td>17.204651</td>\n      <td>17.291616</td>\n      <td>821.541667</td>\n      <td>11.338998</td>\n      <td>...</td>\n      <td>3.509118e+04</td>\n      <td>6.977967</td>\n      <td>0.040814</td>\n      <td>0.057854</td>\n      <td>0.005610</td>\n      <td>0.031493</td>\n      <td>42</td>\n      <td>1</td>\n      <td>0</td>\n      <td>1</td>\n    </tr>\n  </tbody>\n</table>\n<p>438 rows × 111 columns</p>\n</div>"
     },
     "execution_count": 16,
     "metadata": {},
     "output_type": "execute_result"
    }
   ],
   "source": [
    "df = pd.read_excel('all_patients.xlsx')\n",
    "#df = df.set_index(['subjid'])\n",
    "df = df.drop('number_annotations', axis = 1)\n",
    "df = df[df.shape_VoxelVolume > 125]\n",
    "df.drop(df[df['labels'] == 3].index, inplace = True) ## dropping label of the call OTHERS\n",
    "df = df.set_index(['subjid', 'label'])\n",
    "confidence = 0.95\n",
    "seed = 0\n",
    "df"
   ],
   "metadata": {
    "collapsed": false,
    "ExecuteTime": {
     "start_time": "2023-08-16T21:52:22.670582Z",
     "end_time": "2023-08-16T21:52:25.187448Z"
    }
   }
  },
  {
   "cell_type": "code",
   "execution_count": 17,
   "outputs": [
    {
     "name": "stdout",
     "output_type": "stream",
     "text": [
      "Counter({1: 321, 2: 76, 0: 41})\n"
     ]
    }
   ],
   "source": [
    "# we select X and y\n",
    "X = df.iloc[:, :-4] #leaving the sex and age features out for now\n",
    "y = df.iloc[:, -1:]\n",
    "print(Counter(y.values.ravel()))"
   ],
   "metadata": {
    "collapsed": false,
    "ExecuteTime": {
     "start_time": "2023-08-16T21:52:25.186316Z",
     "end_time": "2023-08-16T21:52:25.187973Z"
    }
   }
  },
  {
   "cell_type": "markdown",
   "source": [
    "There is an obvious inbalane of the labes wih a great majority coming from the lung. To counter attck this inbalance we eill make use of oversampling and undersapmling techniques that have proven to be useful in literature"
   ],
   "metadata": {
    "collapsed": false
   }
  },
  {
   "cell_type": "markdown",
   "source": [
    "## mRMR"
   ],
   "metadata": {
    "collapsed": false
   }
  },
  {
   "cell_type": "code",
   "execution_count": 68,
   "outputs": [],
   "source": [
    "pipelines = {\n",
    "    'rf': imbpipeline([('smoteen', SMOTEENN(random_state=0)),\n",
    "                       ('clf', RandomForestClassifier(random_state=0, class_weight=\"balanced\"))]),\n",
    "    #'svc': imbpipeline([('smoteen', SMOTEENN(random_state=0)),\n",
    "                        #('clf', CalibratedClassifierCV(LinearSVC(multi_class='ovr', random_state=0, class_weight=\"balanced\")))])\n",
    "    }\n",
    "\n",
    "param_grids = {\n",
    "    'rf': {'clf__n_estimators': [100, 250, 1000, 3500]},\n",
    "    #'svc': {'clf__base_estimator__C': [0.1, 1, 5, 10], 'clf__base_estimator__max_iter': [10000, 20000, 30000]}\n",
    "}\n",
    "\n",
    "cv_outer = RepeatedStratifiedKFold(n_splits=6, n_repeats=6, random_state=seed)"
   ],
   "metadata": {
    "collapsed": false,
    "ExecuteTime": {
     "start_time": "2023-08-18T10:49:24.175479Z",
     "end_time": "2023-08-18T10:49:24.225336Z"
    }
   }
  },
  {
   "cell_type": "markdown",
   "source": [
    "## f 10"
   ],
   "metadata": {
    "collapsed": false
   }
  },
  {
   "cell_type": "code",
   "execution_count": 19,
   "outputs": [
    {
     "name": "stderr",
     "output_type": "stream",
     "text": [
      "100%|██████████| 10/10 [00:01<00:00,  8.34it/s]\n"
     ]
    },
    {
     "name": "stdout",
     "output_type": "stream",
     "text": [
      "Pipeline(steps=[('smoteen', SMOTEENN(random_state=0)),\n",
      "                ('clf',\n",
      "                 RandomForestClassifier(class_weight='balanced',\n",
      "                                        n_estimators=250, random_state=0))])\n",
      "Auc Score 0.7284374449674997\n",
      "Auc Score OvR {0: 0.7694805194805195, 1: 0.6296296296296297, 2: 0.7862021857923498}\n"
     ]
    },
    {
     "name": "stderr",
     "output_type": "stream",
     "text": [
      "100%|██████████| 10/10 [00:01<00:00,  9.08it/s]\n"
     ]
    },
    {
     "name": "stdout",
     "output_type": "stream",
     "text": [
      "Pipeline(steps=[('smoteen', SMOTEENN(random_state=0)),\n",
      "                ('clf',\n",
      "                 RandomForestClassifier(class_weight='balanced',\n",
      "                                        n_estimators=3500, random_state=0))])\n",
      "Auc Score 0.6297645089707212\n",
      "Auc Score OvR {0: 0.645021645021645, 1: 0.5584795321637427, 2: 0.6857923497267759}\n"
     ]
    },
    {
     "name": "stderr",
     "output_type": "stream",
     "text": [
      "100%|██████████| 10/10 [00:01<00:00,  9.24it/s]\n"
     ]
    },
    {
     "name": "stdout",
     "output_type": "stream",
     "text": [
      "Pipeline(steps=[('smoteen', SMOTEENN(random_state=0)),\n",
      "                ('clf',\n",
      "                 RandomForestClassifier(class_weight='balanced',\n",
      "                                        n_estimators=3500, random_state=0))])\n",
      "Auc Score 0.6546484437993872\n",
      "Auc Score OvR {0: 0.8333333333333334, 1: 0.5665094339622642, 2: 0.5641025641025642}\n"
     ]
    },
    {
     "name": "stderr",
     "output_type": "stream",
     "text": [
      "100%|██████████| 10/10 [00:01<00:00,  9.91it/s]\n"
     ]
    },
    {
     "name": "stdout",
     "output_type": "stream",
     "text": [
      "Pipeline(steps=[('smoteen', SMOTEENN(random_state=0)),\n",
      "                ('clf',\n",
      "                 RandomForestClassifier(class_weight='balanced',\n",
      "                                        n_estimators=1000, random_state=0))])\n",
      "Auc Score 0.5988314620390093\n",
      "Auc Score OvR {0: 0.4913419913419913, 1: 0.5820754716981132, 2: 0.7230769230769232}\n"
     ]
    },
    {
     "name": "stderr",
     "output_type": "stream",
     "text": [
      "100%|██████████| 10/10 [00:01<00:00,  9.93it/s]\n"
     ]
    },
    {
     "name": "stdout",
     "output_type": "stream",
     "text": [
      "Pipeline(steps=[('smoteen', SMOTEENN(random_state=0)),\n",
      "                ('clf',\n",
      "                 RandomForestClassifier(class_weight='balanced',\n",
      "                                        n_estimators=250, random_state=0))])\n",
      "Auc Score 0.6650497301440698\n",
      "Auc Score OvR {0: 0.6980519480519481, 1: 0.625943396226415, 2: 0.6711538461538462}\n"
     ]
    },
    {
     "name": "stderr",
     "output_type": "stream",
     "text": [
      "100%|██████████| 10/10 [00:00<00:00, 10.03it/s]\n"
     ]
    },
    {
     "name": "stdout",
     "output_type": "stream",
     "text": [
      "Pipeline(steps=[('smoteen', SMOTEENN(random_state=0)),\n",
      "                ('clf',\n",
      "                 RandomForestClassifier(class_weight='balanced',\n",
      "                                        n_estimators=250, random_state=0))])\n",
      "Auc Score 0.6879455250363865\n",
      "Auc Score OvR {0: 0.7437810945273631, 1: 0.5969785575048733, 2: 0.7230769230769232}\n"
     ]
    },
    {
     "name": "stderr",
     "output_type": "stream",
     "text": [
      "100%|██████████| 10/10 [00:01<00:00,  9.79it/s]\n"
     ]
    },
    {
     "name": "stdout",
     "output_type": "stream",
     "text": [
      "Pipeline(steps=[('smoteen', SMOTEENN(random_state=0)),\n",
      "                ('clf',\n",
      "                 RandomForestClassifier(class_weight='balanced',\n",
      "                                        n_estimators=1000, random_state=0))])\n",
      "Auc Score 0.6539958073967277\n",
      "Auc Score OvR {0: 0.5703463203463204, 1: 0.621832358674464, 2: 0.7698087431693988}\n"
     ]
    },
    {
     "name": "stderr",
     "output_type": "stream",
     "text": [
      "100%|██████████| 10/10 [00:01<00:00,  7.01it/s]\n"
     ]
    },
    {
     "name": "stdout",
     "output_type": "stream",
     "text": [
      "Pipeline(steps=[('smoteen', SMOTEENN(random_state=0)),\n",
      "                ('clf',\n",
      "                 RandomForestClassifier(class_weight='balanced',\n",
      "                                        n_estimators=1000, random_state=0))])\n",
      "Auc Score 0.6526323155960775\n",
      "Auc Score OvR {0: 0.6374458874458875, 1: 0.5847953216374271, 2: 0.7356557377049181}\n"
     ]
    },
    {
     "name": "stderr",
     "output_type": "stream",
     "text": [
      "100%|██████████| 10/10 [00:01<00:00,  9.57it/s]\n"
     ]
    },
    {
     "name": "stdout",
     "output_type": "stream",
     "text": [
      "Pipeline(steps=[('smoteen', SMOTEENN(random_state=0)),\n",
      "                ('clf',\n",
      "                 RandomForestClassifier(class_weight='balanced',\n",
      "                                        random_state=0))])\n",
      "Auc Score 0.6398661087340333\n",
      "Auc Score OvR {0: 0.7283549783549784, 1: 0.5886792452830188, 2: 0.6025641025641026}\n"
     ]
    },
    {
     "name": "stderr",
     "output_type": "stream",
     "text": [
      "100%|██████████| 10/10 [00:01<00:00,  8.30it/s]\n"
     ]
    },
    {
     "name": "stdout",
     "output_type": "stream",
     "text": [
      "Pipeline(steps=[('smoteen', SMOTEENN(random_state=0)),\n",
      "                ('clf',\n",
      "                 RandomForestClassifier(class_weight='balanced',\n",
      "                                        n_estimators=3500, random_state=0))])\n",
      "Auc Score 0.6494115423360706\n",
      "Auc Score OvR {0: 0.6645021645021645, 1: 0.629245283018868, 2: 0.6544871794871795}\n"
     ]
    },
    {
     "name": "stderr",
     "output_type": "stream",
     "text": [
      "100%|██████████| 10/10 [00:01<00:00,  9.82it/s]\n"
     ]
    },
    {
     "name": "stdout",
     "output_type": "stream",
     "text": [
      "Pipeline(steps=[('smoteen', SMOTEENN(random_state=0)),\n",
      "                ('clf',\n",
      "                 RandomForestClassifier(class_weight='balanced',\n",
      "                                        n_estimators=1000, random_state=0))])\n",
      "Auc Score 0.7194309882989129\n",
      "Auc Score OvR {0: 0.7132034632034633, 1: 0.6636792452830188, 2: 0.7814102564102565}\n"
     ]
    },
    {
     "name": "stderr",
     "output_type": "stream",
     "text": [
      "100%|██████████| 10/10 [00:01<00:00,  9.78it/s]\n"
     ]
    },
    {
     "name": "stdout",
     "output_type": "stream",
     "text": [
      "Pipeline(steps=[('smoteen', SMOTEENN(random_state=0)),\n",
      "                ('clf',\n",
      "                 RandomForestClassifier(class_weight='balanced',\n",
      "                                        n_estimators=250, random_state=0))])\n",
      "Auc Score 0.60886762394356\n",
      "Auc Score OvR {0: 0.6691542288557213, 1: 0.5414230019493177, 2: 0.6160256410256411}\n"
     ]
    },
    {
     "name": "stderr",
     "output_type": "stream",
     "text": [
      "100%|██████████| 10/10 [00:01<00:00,  9.04it/s]\n"
     ]
    },
    {
     "name": "stdout",
     "output_type": "stream",
     "text": [
      "Pipeline(steps=[('smoteen', SMOTEENN(random_state=0)),\n",
      "                ('clf',\n",
      "                 RandomForestClassifier(class_weight='balanced',\n",
      "                                        n_estimators=1000, random_state=0))])\n",
      "Auc Score 0.6183809173814926\n",
      "Auc Score OvR {0: 0.6190476190476191, 1: 0.5414230019493177, 2: 0.694672131147541}\n"
     ]
    },
    {
     "name": "stderr",
     "output_type": "stream",
     "text": [
      "100%|██████████| 10/10 [00:01<00:00,  9.96it/s]\n"
     ]
    },
    {
     "name": "stdout",
     "output_type": "stream",
     "text": [
      "Pipeline(steps=[('smoteen', SMOTEENN(random_state=0)),\n",
      "                ('clf',\n",
      "                 RandomForestClassifier(class_weight='balanced',\n",
      "                                        n_estimators=3500, random_state=0))])\n",
      "Auc Score 0.579338656848004\n",
      "Auc Score OvR {0: 0.5854978354978355, 1: 0.49951267056530213, 2: 0.6530054644808744}\n"
     ]
    },
    {
     "name": "stderr",
     "output_type": "stream",
     "text": [
      "100%|██████████| 10/10 [00:01<00:00,  9.77it/s]\n"
     ]
    },
    {
     "name": "stdout",
     "output_type": "stream",
     "text": [
      "Pipeline(steps=[('smoteen', SMOTEENN(random_state=0)),\n",
      "                ('clf',\n",
      "                 RandomForestClassifier(class_weight='balanced',\n",
      "                                        n_estimators=1000, random_state=0))])\n",
      "Auc Score 0.5476403051874751\n",
      "Auc Score OvR {0: 0.461038961038961, 1: 0.45047169811320753, 2: 0.7314102564102565}\n"
     ]
    },
    {
     "name": "stderr",
     "output_type": "stream",
     "text": [
      "100%|██████████| 10/10 [00:01<00:00,  9.96it/s]\n"
     ]
    },
    {
     "name": "stdout",
     "output_type": "stream",
     "text": [
      "Pipeline(steps=[('smoteen', SMOTEENN(random_state=0)),\n",
      "                ('clf',\n",
      "                 RandomForestClassifier(class_weight='balanced',\n",
      "                                        n_estimators=3500, random_state=0))])\n",
      "Auc Score 0.6051051673693183\n",
      "Auc Score OvR {0: 0.7619047619047621, 1: 0.49764150943396224, 2: 0.5557692307692308}\n"
     ]
    },
    {
     "name": "stderr",
     "output_type": "stream",
     "text": [
      "100%|██████████| 10/10 [00:01<00:00,  9.58it/s]\n"
     ]
    },
    {
     "name": "stdout",
     "output_type": "stream",
     "text": [
      "Pipeline(steps=[('smoteen', SMOTEENN(random_state=0)),\n",
      "                ('clf',\n",
      "                 RandomForestClassifier(class_weight='balanced',\n",
      "                                        n_estimators=3500, random_state=0))])\n",
      "Auc Score 0.731499370650314\n",
      "Auc Score OvR {0: 0.7997835497835498, 1: 0.6165094339622641, 2: 0.7782051282051281}\n"
     ]
    },
    {
     "name": "stderr",
     "output_type": "stream",
     "text": [
      "100%|██████████| 10/10 [00:01<00:00,  8.97it/s]\n"
     ]
    },
    {
     "name": "stdout",
     "output_type": "stream",
     "text": [
      "Pipeline(steps=[('smoteen', SMOTEENN(random_state=0)),\n",
      "                ('clf',\n",
      "                 RandomForestClassifier(class_weight='balanced',\n",
      "                                        n_estimators=1000, random_state=0))])\n",
      "Auc Score 0.6006755098402127\n",
      "Auc Score OvR {0: 0.5559701492537313, 1: 0.5165692007797271, 2: 0.7294871794871794}\n"
     ]
    },
    {
     "name": "stderr",
     "output_type": "stream",
     "text": [
      "100%|██████████| 10/10 [00:01<00:00,  9.95it/s]\n"
     ]
    },
    {
     "name": "stdout",
     "output_type": "stream",
     "text": [
      "Pipeline(steps=[('smoteen', SMOTEENN(random_state=0)),\n",
      "                ('clf',\n",
      "                 RandomForestClassifier(class_weight='balanced',\n",
      "                                        n_estimators=250, random_state=0))])\n",
      "Auc Score 0.659586296701626\n",
      "Auc Score OvR {0: 0.5930735930735931, 1: 0.6247563352826511, 2: 0.7609289617486339}\n"
     ]
    },
    {
     "name": "stderr",
     "output_type": "stream",
     "text": [
      "100%|██████████| 10/10 [00:01<00:00,  9.85it/s]\n"
     ]
    },
    {
     "name": "stdout",
     "output_type": "stream",
     "text": [
      "Pipeline(steps=[('smoteen', SMOTEENN(random_state=0)),\n",
      "                ('clf',\n",
      "                 RandomForestClassifier(class_weight='balanced',\n",
      "                                        n_estimators=250, random_state=0))])\n",
      "Auc Score 0.712009262268106\n",
      "Auc Score OvR {0: 0.7543290043290043, 1: 0.6125730994152047, 2: 0.7691256830601094}\n"
     ]
    },
    {
     "name": "stderr",
     "output_type": "stream",
     "text": [
      "100%|██████████| 10/10 [00:01<00:00,  9.29it/s]\n"
     ]
    },
    {
     "name": "stdout",
     "output_type": "stream",
     "text": [
      "Pipeline(steps=[('smoteen', SMOTEENN(random_state=0)),\n",
      "                ('clf',\n",
      "                 RandomForestClassifier(class_weight='balanced',\n",
      "                                        n_estimators=3500, random_state=0))])\n",
      "Auc Score 0.5814631908971531\n",
      "Auc Score OvR {0: 0.6038961038961039, 1: 0.4693396226415094, 2: 0.6711538461538462}\n"
     ]
    },
    {
     "name": "stderr",
     "output_type": "stream",
     "text": [
      "100%|██████████| 10/10 [00:01<00:00,  7.61it/s]\n"
     ]
    },
    {
     "name": "stdout",
     "output_type": "stream",
     "text": [
      "Pipeline(steps=[('smoteen', SMOTEENN(random_state=0)),\n",
      "                ('clf',\n",
      "                 RandomForestClassifier(class_weight='balanced',\n",
      "                                        random_state=0))])\n",
      "Auc Score 0.648659411866959\n",
      "Auc Score OvR {0: 0.6677489177489178, 1: 0.5820754716981132, 2: 0.6961538461538461}\n"
     ]
    },
    {
     "name": "stderr",
     "output_type": "stream",
     "text": [
      "100%|██████████| 10/10 [00:01<00:00,  9.56it/s]\n"
     ]
    },
    {
     "name": "stdout",
     "output_type": "stream",
     "text": [
      "Pipeline(steps=[('smoteen', SMOTEENN(random_state=0)),\n",
      "                ('clf',\n",
      "                 RandomForestClassifier(class_weight='balanced',\n",
      "                                        n_estimators=3500, random_state=0))])\n",
      "Auc Score 0.7053932964310322\n",
      "Auc Score OvR {0: 0.7359307359307359, 1: 0.5853773584905659, 2: 0.7948717948717949}\n"
     ]
    },
    {
     "name": "stderr",
     "output_type": "stream",
     "text": [
      "100%|██████████| 10/10 [00:01<00:00,  9.41it/s]\n"
     ]
    },
    {
     "name": "stdout",
     "output_type": "stream",
     "text": [
      "Pipeline(steps=[('smoteen', SMOTEENN(random_state=0)),\n",
      "                ('clf',\n",
      "                 RandomForestClassifier(class_weight='balanced',\n",
      "                                        n_estimators=3500, random_state=0))])\n",
      "Auc Score 0.5943999077934663\n",
      "Auc Score OvR {0: 0.7002487562189056, 1: 0.5073099415204678, 2: 0.5756410256410255}\n"
     ]
    },
    {
     "name": "stderr",
     "output_type": "stream",
     "text": [
      "100%|██████████| 10/10 [00:01<00:00,  7.26it/s]\n"
     ]
    },
    {
     "name": "stdout",
     "output_type": "stream",
     "text": [
      "Pipeline(steps=[('smoteen', SMOTEENN(random_state=0)),\n",
      "                ('clf',\n",
      "                 RandomForestClassifier(class_weight='balanced',\n",
      "                                        n_estimators=1000, random_state=0))])\n",
      "Auc Score 0.6247947413104158\n",
      "Auc Score OvR {0: 0.6525974025974026, 1: 0.5940545808966862, 2: 0.6277322404371586}\n"
     ]
    },
    {
     "name": "stderr",
     "output_type": "stream",
     "text": [
      "100%|██████████| 10/10 [00:01<00:00,  9.53it/s]\n"
     ]
    },
    {
     "name": "stdout",
     "output_type": "stream",
     "text": [
      "Pipeline(steps=[('smoteen', SMOTEENN(random_state=0)),\n",
      "                ('clf',\n",
      "                 RandomForestClassifier(class_weight='balanced',\n",
      "                                        n_estimators=3500, random_state=0))])\n",
      "Auc Score 0.651644359007028\n",
      "Auc Score OvR {0: 0.6038961038961039, 1: 0.5477582846003899, 2: 0.8032786885245902}\n"
     ]
    },
    {
     "name": "stderr",
     "output_type": "stream",
     "text": [
      "100%|██████████| 10/10 [00:01<00:00,  9.58it/s]\n"
     ]
    },
    {
     "name": "stdout",
     "output_type": "stream",
     "text": [
      "Pipeline(steps=[('smoteen', SMOTEENN(random_state=0)),\n",
      "                ('clf',\n",
      "                 RandomForestClassifier(class_weight='balanced',\n",
      "                                        n_estimators=3500, random_state=0))])\n",
      "Auc Score 0.627306236740199\n",
      "Auc Score OvR {0: 0.6645021645021645, 1: 0.5443396226415095, 2: 0.6730769230769231}\n"
     ]
    },
    {
     "name": "stderr",
     "output_type": "stream",
     "text": [
      "100%|██████████| 10/10 [00:01<00:00,  9.28it/s]\n"
     ]
    },
    {
     "name": "stdout",
     "output_type": "stream",
     "text": [
      "Pipeline(steps=[('smoteen', SMOTEENN(random_state=0)),\n",
      "                ('clf',\n",
      "                 RandomForestClassifier(class_weight='balanced',\n",
      "                                        n_estimators=1000, random_state=0))])\n",
      "Auc Score 0.6146506009713557\n",
      "Auc Score OvR {0: 0.6980519480519481, 1: 0.5382075471698112, 2: 0.6076923076923078}\n"
     ]
    },
    {
     "name": "stderr",
     "output_type": "stream",
     "text": [
      "100%|██████████| 10/10 [00:01<00:00,  8.10it/s]\n"
     ]
    },
    {
     "name": "stdout",
     "output_type": "stream",
     "text": [
      "Pipeline(steps=[('smoteen', SMOTEENN(random_state=0)),\n",
      "                ('clf',\n",
      "                 RandomForestClassifier(class_weight='balanced',\n",
      "                                        n_estimators=250, random_state=0))])\n",
      "Auc Score 0.6866397229604777\n",
      "Auc Score OvR {0: 0.7435064935064934, 1: 0.5882075471698113, 2: 0.7282051282051282}\n"
     ]
    },
    {
     "name": "stderr",
     "output_type": "stream",
     "text": [
      "100%|██████████| 10/10 [00:01<00:00,  9.62it/s]\n"
     ]
    },
    {
     "name": "stdout",
     "output_type": "stream",
     "text": [
      "Pipeline(steps=[('smoteen', SMOTEENN(random_state=0)),\n",
      "                ('clf',\n",
      "                 RandomForestClassifier(class_weight='balanced',\n",
      "                                        n_estimators=3500, random_state=0))])\n",
      "Auc Score 0.56161352854859\n",
      "Auc Score OvR {0: 0.6007462686567164, 1: 0.4731968810916179, 2: 0.610897435897436}\n"
     ]
    },
    {
     "name": "stderr",
     "output_type": "stream",
     "text": [
      "100%|██████████| 10/10 [00:01<00:00,  8.71it/s]\n"
     ]
    },
    {
     "name": "stdout",
     "output_type": "stream",
     "text": [
      "Pipeline(steps=[('smoteen', SMOTEENN(random_state=0)),\n",
      "                ('clf',\n",
      "                 RandomForestClassifier(class_weight='balanced',\n",
      "                                        random_state=0))])\n",
      "Auc Score 0.5713158953020904\n",
      "Auc Score OvR {0: 0.4913419913419913, 1: 0.5614035087719298, 2: 0.6612021857923498}\n"
     ]
    },
    {
     "name": "stderr",
     "output_type": "stream",
     "text": [
      "100%|██████████| 10/10 [00:01<00:00,  5.56it/s]\n"
     ]
    },
    {
     "name": "stdout",
     "output_type": "stream",
     "text": [
      "Pipeline(steps=[('smoteen', SMOTEENN(random_state=0)),\n",
      "                ('clf',\n",
      "                 RandomForestClassifier(class_weight='balanced',\n",
      "                                        random_state=0))])\n",
      "Auc Score 0.6036834614272061\n",
      "Auc Score OvR {0: 0.5400432900432901, 1: 0.5599415204678362, 2: 0.7110655737704918}\n"
     ]
    },
    {
     "name": "stderr",
     "output_type": "stream",
     "text": [
      "100%|██████████| 10/10 [00:01<00:00,  6.28it/s]\n"
     ]
    },
    {
     "name": "stdout",
     "output_type": "stream",
     "text": [
      "Pipeline(steps=[('smoteen', SMOTEENN(random_state=0)),\n",
      "                ('clf',\n",
      "                 RandomForestClassifier(class_weight='balanced',\n",
      "                                        n_estimators=250, random_state=0))])\n",
      "Auc Score 0.6128484722824346\n",
      "Auc Score OvR {0: 0.6980519480519481, 1: 0.49433962264150944, 2: 0.6461538461538461}\n"
     ]
    },
    {
     "name": "stderr",
     "output_type": "stream",
     "text": [
      "100%|██████████| 10/10 [00:01<00:00,  6.37it/s]\n"
     ]
    },
    {
     "name": "stdout",
     "output_type": "stream",
     "text": [
      "Pipeline(steps=[('smoteen', SMOTEENN(random_state=0)),\n",
      "                ('clf',\n",
      "                 RandomForestClassifier(class_weight='balanced',\n",
      "                                        n_estimators=250, random_state=0))])\n",
      "Auc Score 0.6526254667764101\n",
      "Auc Score OvR {0: 0.6266233766233766, 1: 0.5665094339622642, 2: 0.7647435897435898}\n"
     ]
    },
    {
     "name": "stderr",
     "output_type": "stream",
     "text": [
      "100%|██████████| 10/10 [00:01<00:00,  6.63it/s]\n"
     ]
    },
    {
     "name": "stdout",
     "output_type": "stream",
     "text": [
      "Pipeline(steps=[('smoteen', SMOTEENN(random_state=0)),\n",
      "                ('clf',\n",
      "                 RandomForestClassifier(class_weight='balanced',\n",
      "                                        n_estimators=250, random_state=0))])\n",
      "Auc Score 0.7340697038810245\n",
      "Auc Score OvR {0: 0.8528138528138529, 1: 0.6731132075471699, 2: 0.6762820512820512}\n"
     ]
    },
    {
     "name": "stderr",
     "output_type": "stream",
     "text": [
      "100%|██████████| 10/10 [00:01<00:00,  6.73it/s]\n"
     ]
    },
    {
     "name": "stdout",
     "output_type": "stream",
     "text": [
      "Pipeline(steps=[('smoteen', SMOTEENN(random_state=0)),\n",
      "                ('clf',\n",
      "                 RandomForestClassifier(class_weight='balanced',\n",
      "                                        n_estimators=250, random_state=0))])\n",
      "Auc Score 0.549922340613621\n",
      "Auc Score OvR {0: 0.5485074626865671, 1: 0.42690058479532167, 2: 0.6743589743589744}\n"
     ]
    }
   ],
   "source": [
    "# Store the scores and metrics\n",
    "scores_rf = {'acc': [], 'SD_acc': [], 'CI_acc': [], 'auc_tot': [], 'SD_auc_tot': [], 'CI_auc_tot': [], 'auc_class': [], 'SD_auc_class': [], 'CI_auc_class': [], 'Sen_mean': [], 'Sen_CI': [], 'Sen_SD': [], 'Spe_mean': [], 'Spe_CI': [], 'Spe_sd': [], 'Pre_mean': [], 'Pre_CI': [], 'Pre_sd': [], 'F1_mean': [], 'F1_CI': [], 'F1_sd': [], 'Accy_mean': [], 'Accy_CI': [], 'Accy_sd': []}\n",
    "\n",
    "best_features_RF = []\n",
    "\n",
    "for name, pipeline in pipelines.items():\n",
    "    # Initialize lists to store scores for each fold\n",
    "    fold_acc = []\n",
    "    fold_auc_tot = []\n",
    "    fold_auc_class = []\n",
    "    sensi = []\n",
    "    speci = []\n",
    "    prec = []\n",
    "    f1 = []\n",
    "    accy = []\n",
    "    features = []\n",
    "    p_value = []\n",
    "    feat = []\n",
    "    value = []\n",
    "    for train_index, test_index in cv_outer.split(X, y):\n",
    "        X_train, X_test = X.iloc[train_index], X.iloc[test_index]\n",
    "        y_train, y_test = y.iloc[train_index], y.iloc[test_index]\n",
    "\n",
    "        scaler = StandardScaler()\n",
    "        X_train_normed = scaler.fit_transform(X_train)\n",
    "        X_test_normed = scaler.transform(X_test)\n",
    "\n",
    "        X_train_scal = pd.DataFrame(X_train_normed, columns=X_train.columns, index=X_train.index)\n",
    "        X_test_scal = pd.DataFrame(X_test_normed, columns=X_test.columns, index=X_test.index)\n",
    "\n",
    "        #select the best 15 features\n",
    "        selected_feature_names = mrmr_classif(X_train_scal, y_train, K=10)\n",
    "        X_train_new = X_train_scal[selected_feature_names]\n",
    "        X_test_new = X_test_scal[selected_feature_names]\n",
    "        f_scores, p_values = f_classif(X_train_new, y_train)\n",
    "        feature_p_values = dict(zip(selected_feature_names, p_values))\n",
    "        p_value.append(feature_p_values)\n",
    "\n",
    "        cv_inner = RepeatedStratifiedKFold(n_splits=4, n_repeats=4, random_state=seed)\n",
    "        grid_search = GridSearchCV(pipeline, param_grids[name], cv=cv_inner, scoring='roc_auc_ovr', error_score=\"raise\")\n",
    "        grid_search.fit(X_train_new, y_train)\n",
    "        clf = grid_search.best_estimator_\n",
    "        print(clf)\n",
    "        clf.fit(X_train_new, y_train)\n",
    "        y_pred = clf.predict(X_test_new)\n",
    "        accuracy = accuracy_score(y_test, y_pred)\n",
    "        num_classes = len(np.unique(y_test))\n",
    "        cm = confusion_matrix(y_test, y_pred, labels=clf.classes_)\n",
    "        specificity = calculate_specificity(cm)\n",
    "        sensitivity = calculate_sensitivity(cm)\n",
    "        precision = calculate_precision(cm)\n",
    "        F1 = calculate_f1_score(cm)\n",
    "        Accy = calculate_accuracy(cm)\n",
    "        #sum_confusion_matrix_rf += cm\n",
    "        # Print the results\n",
    "\n",
    "        accuracy = accuracy_score(y_test, y_pred)\n",
    "        fold_acc.append(accuracy)\n",
    "\n",
    "        # Calculate AUC score\n",
    "        auc_tot = multiclass_roc_auc_score(y_test, y_pred)\n",
    "        fold_auc_tot.append(auc_tot)\n",
    "\n",
    "        auc_class = class_vs_rest_roc_auc_score(y_test, y_pred)\n",
    "        fold_auc_class.append(auc_class)\n",
    "\n",
    "        speci.append(specificity)\n",
    "        sensi.append(sensitivity)\n",
    "        prec.append(precision)\n",
    "        f1.append(F1)\n",
    "        accy.append(Accy)\n",
    "\n",
    "        print('Auc Score', multiclass_roc_auc_score(y_test, y_pred))\n",
    "        print('Auc Score OvR', class_vs_rest_roc_auc_score(y_test, y_pred))\n",
    "\n",
    "        if name == 'rf':\n",
    "            params_rf = grid_search.best_estimator_\n",
    "            feature_importance = clf.named_steps['clf'].feature_importances_\n",
    "            for featureses, importance in zip(selected_feature_names, feature_importance):\n",
    "                best_features_RF.append((featureses, importance))\n",
    "        else:\n",
    "            continue\n",
    "    # Calculate average scores across folds\n",
    "    if name == 'rf':\n",
    "       #acc\n",
    "        avg_acc = np.mean(fold_acc)\n",
    "        scores_rf['acc'].append(avg_acc)\n",
    "        scores_rf['acc'] = scores_rf['acc'][-1]\n",
    "        ci = stats.t.interval(confidence, len(fold_acc) - 1, loc=np.mean(fold_acc), scale=stats.sem(fold_acc))\n",
    "        scores_rf['CI_acc'].append(ci)\n",
    "        scores_rf['SD_acc'].append(np.std(fold_acc))\n",
    "\n",
    "        #auc_tot\n",
    "        avg_auc_tot = np.mean(fold_auc_tot)\n",
    "        scores_rf['auc_tot'].append(avg_auc_tot)\n",
    "        scores_rf['auc_tot'] = scores_rf['auc_tot'][-1]\n",
    "        ci = stats.t.interval(confidence, len(fold_auc_tot) - 1, loc=np.mean(fold_auc_tot), scale=stats.sem(fold_auc_tot))\n",
    "        scores_rf['CI_auc_tot'].append(ci)\n",
    "        scores_rf['SD_auc_tot'].append(np.std(fold_acc))\n",
    "\n",
    "        #auc_class\n",
    "        list_0 = list(d[0] for d in fold_auc_class)\n",
    "        list_1 = list(d[1] for d in fold_auc_class)\n",
    "        list_2 = list(d[2] for d in fold_auc_class)\n",
    "\n",
    "        avg_auc_class = {0: np.mean(list_0), 1: np.mean(list_1), 2: np.mean(list_2)}\n",
    "        scores_rf['auc_class'].append(avg_auc_class)\n",
    "\n",
    "        sd_auc_class = {0: np.std(list_0), 1: np.std(list_1), 2: np.std(list_2)}\n",
    "        scores_rf['SD_auc_class'].append(sd_auc_class)\n",
    "\n",
    "        ci_0 = stats.t.interval(confidence, len(list_0) - 1, loc=np.mean(list_0), scale=stats.sem(list_0))\n",
    "        ci_1 = stats.t.interval(confidence, len(list_1) - 1, loc=np.mean(list_1), scale=stats.sem(list_1))\n",
    "        ci_2 = stats.t.interval(confidence, len(list_2) - 1, loc=np.mean(list_2), scale=stats.sem(list_2))\n",
    "\n",
    "        CI_auc_class = {0: ci_0, 1: ci_1, 2: ci_2}\n",
    "        scores_rf['CI_auc_class'].append(CI_auc_class)\n",
    "\n",
    "        #sensitivity\n",
    "        list_0 = list(d[0] for d in sensi)\n",
    "        list_1 = list(d[1] for d in sensi)\n",
    "        list_2 = list(d[2] for d in sensi)\n",
    "\n",
    "        avg_sensi_class = {0: np.mean(list_0), 1: np.mean(list_1), 2: np.mean(list_2)}\n",
    "        scores_rf['Sen_mean'].append(avg_sensi_class)\n",
    "\n",
    "        sd_sensi_class = {0: np.std(list_0), 1: np.std(list_1), 2: np.std(list_2)}\n",
    "        scores_rf['Sen_SD'].append(sd_sensi_class)\n",
    "\n",
    "        ci_0 = stats.t.interval(confidence, len(list_0) - 1, loc=np.mean(list_0), scale=stats.sem(list_0))\n",
    "        ci_1 = stats.t.interval(confidence, len(list_1) - 1, loc=np.mean(list_1), scale=stats.sem(list_1))\n",
    "        ci_2 = stats.t.interval(confidence, len(list_2) - 1, loc=np.mean(list_2), scale=stats.sem(list_2))\n",
    "\n",
    "        CI_sen_class = {0: ci_0, 1: ci_1, 2: ci_2}\n",
    "        scores_rf['Sen_CI'].append(CI_sen_class)\n",
    "\n",
    "        #specificity\n",
    "        list_0 = list(d[0] for d in speci)\n",
    "        list_1 = list(d[1] for d in speci)\n",
    "        list_2 = list(d[2] for d in speci)\n",
    "\n",
    "        avg_speci_class = {0: np.mean(list_0), 1: np.mean(list_1), 2: np.mean(list_2)}\n",
    "        scores_rf['Spe_mean'].append(avg_speci_class)\n",
    "        sd_speci_class = {0: np.std(list_0), 1: np.std(list_1), 2: np.std(list_2)}\n",
    "        scores_rf['Spe_sd'].append(sd_speci_class)\n",
    "\n",
    "        ci_0 = stats.t.interval(confidence, len(list_0) - 1, loc=np.mean(list_0), scale=stats.sem(list_0))\n",
    "        ci_1 = stats.t.interval(confidence, len(list_1) - 1, loc=np.mean(list_1), scale=stats.sem(list_1))\n",
    "        ci_2 = stats.t.interval(confidence, len(list_2) - 1, loc=np.mean(list_2), scale=stats.sem(list_2))\n",
    "\n",
    "        CI_spe_class = {0: ci_0, 1: ci_1, 2: ci_2}\n",
    "        scores_rf['Spe_CI'].append(CI_spe_class)\n",
    "\n",
    "        #precision\n",
    "        list_0 = list(d[0] for d in prec)\n",
    "        list_1 = list(d[1] for d in prec)\n",
    "        list_2 = list(d[2] for d in prec)\n",
    "\n",
    "        avg_prec_class = {0: np.mean(list_0), 1: np.mean(list_1), 2: np.mean(list_2)}\n",
    "        scores_rf['Pre_mean'].append(avg_prec_class)\n",
    "        sd_prec_class = {0: np.std(list_0), 1: np.std(list_1), 2: np.std(list_2)}\n",
    "        scores_rf['Pre_sd'].append(sd_prec_class)\n",
    "\n",
    "        ci_0 = stats.t.interval(confidence, len(list_0) - 1, loc=np.mean(list_0), scale=stats.sem(list_0))\n",
    "        ci_1 = stats.t.interval(confidence, len(list_1) - 1, loc=np.mean(list_1), scale=stats.sem(list_1))\n",
    "        ci_2 = stats.t.interval(confidence, len(list_2) - 1, loc=np.mean(list_2), scale=stats.sem(list_2))\n",
    "\n",
    "        CI_pre_class = {0: ci_0, 1: ci_1, 2: ci_2}\n",
    "        scores_rf['Pre_CI'].append(CI_pre_class)\n",
    "\n",
    "        #F1\n",
    "        list_0 = list(d[0] for d in f1)\n",
    "        list_1 = list(d[1] for d in f1)\n",
    "        list_2 = list(d[2] for d in f1)\n",
    "\n",
    "        avg_f1_class = {0: np.mean(list_0), 1: np.mean(list_1), 2: np.mean(list_2)}\n",
    "        scores_rf['F1_mean'].append(avg_f1_class)\n",
    "        sd_f1_class = {0: np.std(list_0), 1: np.std(list_1), 2: np.std(list_2)}\n",
    "        scores_rf['F1_sd'].append(sd_f1_class)\n",
    "\n",
    "        ci_0 = stats.t.interval(confidence, len(list_0) - 1, loc=np.mean(list_0), scale=stats.sem(list_0))\n",
    "        ci_1 = stats.t.interval(confidence, len(list_1) - 1, loc=np.mean(list_1), scale=stats.sem(list_1))\n",
    "        ci_2 = stats.t.interval(confidence, len(list_2) - 1, loc=np.mean(list_2), scale=stats.sem(list_2))\n",
    "\n",
    "        CI_F1_class = {0: ci_0, 1: ci_1, 2: ci_2}\n",
    "        scores_rf['F1_CI'].append(CI_F1_class)\n",
    "\n",
    "        ###Accuracy per class\n",
    "        list_0 = list(d[0] for d in accy)\n",
    "        list_1 = list(d[1] for d in accy)\n",
    "        list_2 = list(d[2] for d in accy)\n",
    "\n",
    "        avg_accy_class = {0: np.mean(list_0), 1: np.mean(list_1), 2: np.mean(list_2)}\n",
    "        scores_rf['Accy_mean'].append(avg_accy_class)\n",
    "        sd_accy_class = {0: np.std(list_0), 1: np.std(list_1), 2: np.std(list_2)}\n",
    "        scores_rf['Accy_sd'].append(sd_accy_class)\n",
    "\n",
    "        ci_0 = stats.t.interval(confidence, len(list_0) - 1, loc=np.mean(list_0), scale=stats.sem(list_0))\n",
    "        ci_1 = stats.t.interval(confidence, len(list_1) - 1, loc=np.mean(list_1), scale=stats.sem(list_1))\n",
    "        ci_2 = stats.t.interval(confidence, len(list_2) - 1, loc=np.mean(list_2), scale=stats.sem(list_2))\n",
    "\n",
    "        CI_accy_class = {0: ci_0, 1: ci_1, 2: ci_2}\n",
    "        scores_rf['Accy_CI'].append(CI_accy_class)"
   ],
   "metadata": {
    "collapsed": false,
    "ExecuteTime": {
     "start_time": "2023-08-16T21:52:25.186988Z",
     "end_time": "2023-08-16T23:13:06.706755Z"
    }
   }
  },
  {
   "cell_type": "code",
   "execution_count": 20,
   "outputs": [
    {
     "name": "stdout",
     "output_type": "stream",
     "text": [
      "rf acc: 0.38698630136986295\n",
      "rf SD_acc: [0.05387111969861605]\n",
      "rf CI_acc: [(0.3685003797438053, 0.4054722229959206)]\n",
      "rf auc_tot: 0.6378929812310685\n",
      "rf SD_auc_tot: [0.05387111969861605]\n",
      "rf CI_auc_tot: [(0.6204564615673896, 0.6553295008947474)]\n",
      "rf auc_class: [{0: 0.6589769406933585, 1: 0.562800060073314, 2: 0.6919019429265331}]\n",
      "rf SD_auc_class: [{0: 0.09383390906196587, 1: 0.05803313213728958, 2: 0.06783343633305608}]\n",
      "rf CI_auc_class: [{0: (0.626777753104713, 0.6911761282820041), 1: (0.5428859402553785, 0.5827141798912494), 2: (0.6686248401914425, 0.7151790456616236)}]\n",
      "rf Sen_mean: [{0: 63.35978835978837, 1: 27.41381318425343, 2: 73.14814814814815}]\n",
      "rf Sen_CI: [{0: (57.3457841676382, 69.37379255193854), 1: (25.211037013301762, 29.6165893552051), 2: (68.1046301515038, 78.1916661447925)}]\n",
      "rf Sen_SD: [{0: 17.52583107604537, 1: 6.419264409696807, 2: 14.697669242325764}]\n",
      "rf Spe_mean: [{0: 68.43559977888334, 1: 85.14619883040935, 2: 65.2322404371585}]\n",
      "rf Spe_CI: [{0: (66.12136029960635, 70.74983925816034), 1: (81.91441289524607, 88.37798476557262), 2: (63.29587700857309, 67.1686038657439)}]\n",
      "rf Spe_sd: [{0: 6.744087447804528, 1: 9.41797387629698, 2: 5.642892367038191}]\n",
      "rf Pre_mean: [{0: 17.62639195518968, 1: 83.75774949459722, 2: 30.603082555432746}]\n",
      "rf Pre_CI: [{0: (15.596983617580335, 19.65580029279902), 1: (80.50740292893633, 87.00809606025811), 2: (29.115297447015564, 32.09086766384993)}]\n",
      "rf Pre_sd: [{0: 5.914041056985565, 1: 9.47206271035381, 2: 4.335658847995079}]\n",
      "rf F1_mean: [{0: 27.372008966635608, 1: 40.94547577044208, 2: 42.94929967159291}]\n",
      "rf F1_CI: [{0: (24.494173074540964, 30.249844858730253), 1: (38.271194381938244, 43.619757158945916), 2: (40.76340313185437, 45.135196211331454)}]\n",
      "rf F1_sd: [{0: 8.386503251072511, 1: 7.7933108071169155, 2: 6.37007429345889}]\n",
      "rf Accy_mean: [{0: 67.96042617960427, 1: 42.8462709284627, 2: 66.59056316590562}]\n",
      "rf Accy_CI: [{0: (65.78565798680066, 70.13519437240788), 1: (40.9738066477756, 44.7187352091498), 2: (65.10292575829727, 68.07820057351397)}]\n",
      "rf Accy_sd: [{0: 6.337644397784439, 1: 5.456679382113654, 2: 4.3352284227172335}]\n"
     ]
    }
   ],
   "source": [
    "for name, score in scores_rf.items():\n",
    "    print('rf', f'{name}: {score}')"
   ],
   "metadata": {
    "collapsed": false,
    "ExecuteTime": {
     "start_time": "2023-08-16T23:13:06.707326Z",
     "end_time": "2023-08-16T23:13:06.710998Z"
    }
   }
  },
  {
   "cell_type": "code",
   "execution_count": 30,
   "outputs": [
    {
     "data": {
      "text/plain": "[{0: 0.7694805194805195, 1: 0.6296296296296297, 2: 0.7862021857923498},\n {0: 0.645021645021645, 1: 0.5584795321637427, 2: 0.6857923497267759},\n {0: 0.8333333333333334, 1: 0.5665094339622642, 2: 0.5641025641025642},\n {0: 0.4913419913419913, 1: 0.5820754716981132, 2: 0.7230769230769232},\n {0: 0.6980519480519481, 1: 0.625943396226415, 2: 0.6711538461538462},\n {0: 0.7437810945273631, 1: 0.5969785575048733, 2: 0.7230769230769232},\n {0: 0.5703463203463204, 1: 0.621832358674464, 2: 0.7698087431693988},\n {0: 0.6374458874458875, 1: 0.5847953216374271, 2: 0.7356557377049181},\n {0: 0.7283549783549784, 1: 0.5886792452830188, 2: 0.6025641025641026},\n {0: 0.6645021645021645, 1: 0.629245283018868, 2: 0.6544871794871795},\n {0: 0.7132034632034633, 1: 0.6636792452830188, 2: 0.7814102564102565},\n {0: 0.6691542288557213, 1: 0.5414230019493177, 2: 0.6160256410256411},\n {0: 0.6190476190476191, 1: 0.5414230019493177, 2: 0.694672131147541},\n {0: 0.5854978354978355, 1: 0.49951267056530213, 2: 0.6530054644808744},\n {0: 0.461038961038961, 1: 0.45047169811320753, 2: 0.7314102564102565},\n {0: 0.7619047619047621, 1: 0.49764150943396224, 2: 0.5557692307692308},\n {0: 0.7997835497835498, 1: 0.6165094339622641, 2: 0.7782051282051281},\n {0: 0.5559701492537313, 1: 0.5165692007797271, 2: 0.7294871794871794},\n {0: 0.5930735930735931, 1: 0.6247563352826511, 2: 0.7609289617486339},\n {0: 0.7543290043290043, 1: 0.6125730994152047, 2: 0.7691256830601094},\n {0: 0.6038961038961039, 1: 0.4693396226415094, 2: 0.6711538461538462},\n {0: 0.6677489177489178, 1: 0.5820754716981132, 2: 0.6961538461538461},\n {0: 0.7359307359307359, 1: 0.5853773584905659, 2: 0.7948717948717949},\n {0: 0.7002487562189056, 1: 0.5073099415204678, 2: 0.5756410256410255},\n {0: 0.6525974025974026, 1: 0.5940545808966862, 2: 0.6277322404371586},\n {0: 0.6038961038961039, 1: 0.5477582846003899, 2: 0.8032786885245902},\n {0: 0.6645021645021645, 1: 0.5443396226415095, 2: 0.6730769230769231},\n {0: 0.6980519480519481, 1: 0.5382075471698112, 2: 0.6076923076923078},\n {0: 0.7435064935064934, 1: 0.5882075471698113, 2: 0.7282051282051282},\n {0: 0.6007462686567164, 1: 0.4731968810916179, 2: 0.610897435897436},\n {0: 0.4913419913419913, 1: 0.5614035087719298, 2: 0.6612021857923498},\n {0: 0.5400432900432901, 1: 0.5599415204678362, 2: 0.7110655737704918},\n {0: 0.6980519480519481, 1: 0.49433962264150944, 2: 0.6461538461538461},\n {0: 0.6266233766233766, 1: 0.5665094339622642, 2: 0.7647435897435898},\n {0: 0.8528138528138529, 1: 0.6731132075471699, 2: 0.6762820512820512},\n {0: 0.5485074626865671, 1: 0.42690058479532167, 2: 0.6743589743589744}]"
     },
     "execution_count": 30,
     "metadata": {},
     "output_type": "execute_result"
    }
   ],
   "source": [
    "fold_auc_class"
   ],
   "metadata": {
    "collapsed": false,
    "ExecuteTime": {
     "start_time": "2023-08-17T10:06:30.619296Z",
     "end_time": "2023-08-17T10:06:30.637396Z"
    }
   }
  },
  {
   "cell_type": "code",
   "execution_count": 36,
   "outputs": [],
   "source": [
    "random_forest_radiomic_features_melanoma = list(d[0] for d in fold_auc_class)\n",
    "random_forest_radiomic_features_lung = list(d[1] for d in fold_auc_class)\n",
    "random_forest_radiomic_features_breast = list(d[2] for d in fold_auc_class)\n",
    "data_list = [random_forest_radiomic_features_melanoma, random_forest_radiomic_features_lung, random_forest_radiomic_features_breast]"
   ],
   "metadata": {
    "collapsed": false,
    "ExecuteTime": {
     "start_time": "2023-08-17T10:11:00.645470Z",
     "end_time": "2023-08-17T10:11:00.686076Z"
    }
   }
  },
  {
   "cell_type": "code",
   "execution_count": 43,
   "outputs": [
    {
     "data": {
      "text/plain": "([<matplotlib.axis.XTick at 0x7f2111822850>,\n  <matplotlib.axis.XTick at 0x7f2111822400>,\n  <matplotlib.axis.XTick at 0x7f2111863ca0>],\n [Text(1, 0, 'Melanoma_RF_RaFe'),\n  Text(2, 0, 'Lung_RF_RaFe'),\n  Text(3, 0, 'Breast_RF_RaFe')])"
     },
     "execution_count": 43,
     "metadata": {},
     "output_type": "execute_result"
    },
    {
     "data": {
      "text/plain": "<Figure size 640x480 with 1 Axes>",
      "image/png": "[encoded data removed]"
     },
     "metadata": {},
     "output_type": "display_data"
    }
   ],
   "source": [
    "import seaborn as sns\n",
    "import matplotlib.pyplot as plt\n",
    "#sns.boxplot(random_forest_radiomic_features_melanoma)\n",
    "plt.boxplot(data_list)\n",
    "plt.title('Boxplot of Multiple Lists')\n",
    "plt.xlabel('Data Lists')\n",
    "plt.ylabel('Values')\n",
    "plt.xticks(ticks=range(1, len(data_list) + 1), labels=['Melanoma_RF_RaFe', 'Lung_RF_RaFe', 'Breast_RF_RaFe'])  # Customize x-axis labels"
   ],
   "metadata": {
    "collapsed": false,
    "ExecuteTime": {
     "start_time": "2023-08-17T10:15:37.675904Z",
     "end_time": "2023-08-17T10:15:37.841368Z"
    }
   }
  },
  {
   "cell_type": "markdown",
   "source": [
    "## f 10 + Age and Sex"
   ],
   "metadata": {
    "collapsed": false
   }
  },
  {
   "cell_type": "code",
   "execution_count": 46,
   "outputs": [],
   "source": [
    "df = pd.read_excel('all_patients.xlsx')\n",
    "#df = df.set_index(['subjid'])\n",
    "df = df.drop('number_annotations', axis = 1)\n",
    "df = df[df.shape_VoxelVolume > 125]\n",
    "df.drop(df[df['labels'] == 3].index, inplace = True) ## dropping label of the call OTHERS\n",
    "df = df.set_index(['subjid', 'label'])\n",
    "\n",
    "# we select X and y\n",
    "X = df.iloc[:, :-4] #leaving the sex and age features out for now\n",
    "y = df.iloc[:, -1:]\n",
    "X_age_sex = df.iloc[:, :-1]\n",
    "confidence = 0.95\n",
    "seed = 0"
   ],
   "metadata": {
    "collapsed": false,
    "ExecuteTime": {
     "start_time": "2023-08-17T10:18:31.466852Z",
     "end_time": "2023-08-17T10:18:34.064917Z"
    }
   }
  },
  {
   "cell_type": "code",
   "execution_count": 47,
   "outputs": [
    {
     "name": "stderr",
     "output_type": "stream",
     "text": [
      "100%|██████████| 10/10 [00:01<00:00,  8.35it/s]\n"
     ]
    },
    {
     "name": "stdout",
     "output_type": "stream",
     "text": [
      "Pipeline(steps=[('smoteen', SMOTEENN(random_state=0)),\n",
      "                ('clf',\n",
      "                 RandomForestClassifier(class_weight='balanced',\n",
      "                                        n_estimators=3500, random_state=0))])\n",
      "Auc Score 0.796791268893656\n",
      "Auc Score OvR {0: 0.8376623376623377, 1: 0.7344054580896685, 2: 0.8183060109289618}\n"
     ]
    },
    {
     "name": "stderr",
     "output_type": "stream",
     "text": [
      "100%|██████████| 10/10 [00:01<00:00,  9.43it/s]\n"
     ]
    },
    {
     "name": "stdout",
     "output_type": "stream",
     "text": [
      "Pipeline(steps=[('smoteen', SMOTEENN(random_state=0)),\n",
      "                ('clf',\n",
      "                 RandomForestClassifier(class_weight='balanced',\n",
      "                                        n_estimators=1000, random_state=0))])\n",
      "Auc Score 0.6768000651017619\n",
      "Auc Score OvR {0: 0.6082251082251082, 1: 0.6291423001949318, 2: 0.7930327868852459}\n"
     ]
    },
    {
     "name": "stderr",
     "output_type": "stream",
     "text": [
      "100%|██████████| 10/10 [00:01<00:00,  9.33it/s]\n"
     ]
    },
    {
     "name": "stdout",
     "output_type": "stream",
     "text": [
      "Pipeline(steps=[('smoteen', SMOTEENN(random_state=0)),\n",
      "                ('clf',\n",
      "                 RandomForestClassifier(class_weight='balanced',\n",
      "                                        n_estimators=1000, random_state=0))])\n",
      "Auc Score 0.7542347065931972\n",
      "Auc Score OvR {0: 0.867965367965368, 1: 0.6985849056603773, 2: 0.6961538461538461}\n"
     ]
    },
    {
     "name": "stderr",
     "output_type": "stream",
     "text": [
      "100%|██████████| 10/10 [00:01<00:00,  8.53it/s]\n"
     ]
    },
    {
     "name": "stdout",
     "output_type": "stream",
     "text": [
      "Pipeline(steps=[('smoteen', SMOTEENN(random_state=0)),\n",
      "                ('clf',\n",
      "                 RandomForestClassifier(class_weight='balanced',\n",
      "                                        n_estimators=3500, random_state=0))])\n",
      "Auc Score 0.6237758049078804\n",
      "Auc Score OvR {0: 0.48051948051948046, 1: 0.6363207547169811, 2: 0.7544871794871795}\n"
     ]
    },
    {
     "name": "stderr",
     "output_type": "stream",
     "text": [
      "100%|██████████| 10/10 [00:01<00:00,  8.28it/s]\n"
     ]
    },
    {
     "name": "stdout",
     "output_type": "stream",
     "text": [
      "Pipeline(steps=[('smoteen', SMOTEENN(random_state=0)),\n",
      "                ('clf',\n",
      "                 RandomForestClassifier(class_weight='balanced',\n",
      "                                        n_estimators=3500, random_state=0))])\n",
      "Auc Score 0.6875564686885441\n",
      "Auc Score OvR {0: 0.6385281385281385, 1: 0.6863207547169812, 2: 0.7378205128205128}\n"
     ]
    },
    {
     "name": "stderr",
     "output_type": "stream",
     "text": [
      "100%|██████████| 10/10 [00:01<00:00,  9.14it/s]\n"
     ]
    },
    {
     "name": "stdout",
     "output_type": "stream",
     "text": [
      "Pipeline(steps=[('smoteen', SMOTEENN(random_state=0)),\n",
      "                ('clf',\n",
      "                 RandomForestClassifier(class_weight='balanced',\n",
      "                                        n_estimators=3500, random_state=0))])\n",
      "Auc Score 0.6713266215033693\n",
      "Auc Score OvR {0: 0.6293532338308457, 1: 0.6198830409356726, 2: 0.7647435897435898}\n"
     ]
    },
    {
     "name": "stderr",
     "output_type": "stream",
     "text": [
      "100%|██████████| 10/10 [00:01<00:00,  8.37it/s]\n"
     ]
    },
    {
     "name": "stdout",
     "output_type": "stream",
     "text": [
      "Pipeline(steps=[('smoteen', SMOTEENN(random_state=0)),\n",
      "                ('clf',\n",
      "                 RandomForestClassifier(class_weight='balanced',\n",
      "                                        n_estimators=3500, random_state=0))])\n",
      "Auc Score 0.7298709356877318\n",
      "Auc Score OvR {0: 0.5595238095238095, 1: 0.7373294346978558, 2: 0.8927595628415299}\n"
     ]
    },
    {
     "name": "stderr",
     "output_type": "stream",
     "text": [
      "100%|██████████| 10/10 [00:01<00:00,  8.58it/s]\n"
     ]
    },
    {
     "name": "stdout",
     "output_type": "stream",
     "text": [
      "Pipeline(steps=[('smoteen', SMOTEENN(random_state=0)),\n",
      "                ('clf',\n",
      "                 RandomForestClassifier(class_weight='balanced',\n",
      "                                        n_estimators=1000, random_state=0))])\n",
      "Auc Score 0.7523655069671751\n",
      "Auc Score OvR {0: 0.773809523809524, 1: 0.689571150097466, 2: 0.7937158469945356}\n"
     ]
    },
    {
     "name": "stderr",
     "output_type": "stream",
     "text": [
      "100%|██████████| 10/10 [00:01<00:00,  7.17it/s]\n"
     ]
    },
    {
     "name": "stdout",
     "output_type": "stream",
     "text": [
      "Pipeline(steps=[('smoteen', SMOTEENN(random_state=0)),\n",
      "                ('clf',\n",
      "                 RandomForestClassifier(class_weight='balanced',\n",
      "                                        n_estimators=3500, random_state=0))])\n",
      "Auc Score 0.695233382969232\n",
      "Auc Score OvR {0: 0.683982683982684, 1: 0.6773584905660377, 2: 0.7243589743589745}\n"
     ]
    },
    {
     "name": "stderr",
     "output_type": "stream",
     "text": [
      "100%|██████████| 10/10 [00:01<00:00,  7.94it/s]\n"
     ]
    },
    {
     "name": "stdout",
     "output_type": "stream",
     "text": [
      "Pipeline(steps=[('smoteen', SMOTEENN(random_state=0)),\n",
      "                ('clf',\n",
      "                 RandomForestClassifier(class_weight='balanced',\n",
      "                                        n_estimators=250, random_state=0))])\n",
      "Auc Score 0.6731757236474217\n",
      "Auc Score OvR {0: 0.6385281385281385, 1: 0.6547169811320755, 2: 0.7262820512820513}\n"
     ]
    },
    {
     "name": "stderr",
     "output_type": "stream",
     "text": [
      "100%|██████████| 10/10 [00:01<00:00,  7.59it/s]\n"
     ]
    },
    {
     "name": "stdout",
     "output_type": "stream",
     "text": [
      "Pipeline(steps=[('smoteen', SMOTEENN(random_state=0)),\n",
      "                ('clf',\n",
      "                 RandomForestClassifier(class_weight='balanced',\n",
      "                                        n_estimators=3500, random_state=0))])\n",
      "Auc Score 0.7241942543829335\n",
      "Auc Score OvR {0: 0.6309523809523809, 1: 0.72688679245283, 2: 0.8147435897435897}\n"
     ]
    },
    {
     "name": "stderr",
     "output_type": "stream",
     "text": [
      "100%|██████████| 10/10 [00:01<00:00,  8.81it/s]\n"
     ]
    },
    {
     "name": "stdout",
     "output_type": "stream",
     "text": [
      "Pipeline(steps=[('smoteen', SMOTEENN(random_state=0)),\n",
      "                ('clf',\n",
      "                 RandomForestClassifier(class_weight='balanced',\n",
      "                                        n_estimators=3500, random_state=0))])\n",
      "Auc Score 0.7282239275954908\n",
      "Auc Score OvR {0: 0.8271144278606966, 1: 0.644736842105263, 2: 0.7128205128205128}\n"
     ]
    },
    {
     "name": "stderr",
     "output_type": "stream",
     "text": [
      "100%|██████████| 10/10 [00:01<00:00,  8.26it/s]\n"
     ]
    },
    {
     "name": "stdout",
     "output_type": "stream",
     "text": [
      "Pipeline(steps=[('smoteen', SMOTEENN(random_state=0)),\n",
      "                ('clf',\n",
      "                 RandomForestClassifier(class_weight='balanced',\n",
      "                                        n_estimators=3500, random_state=0))])\n",
      "Auc Score 0.6981722154644214\n",
      "Auc Score OvR {0: 0.672077922077922, 1: 0.6539961013645225, 2: 0.7684426229508197}\n"
     ]
    },
    {
     "name": "stderr",
     "output_type": "stream",
     "text": [
      "100%|██████████| 10/10 [00:01<00:00,  8.98it/s]\n"
     ]
    },
    {
     "name": "stdout",
     "output_type": "stream",
     "text": [
      "Pipeline(steps=[('smoteen', SMOTEENN(random_state=0)),\n",
      "                ('clf',\n",
      "                 RandomForestClassifier(class_weight='balanced',\n",
      "                                        n_estimators=3500, random_state=0))])\n",
      "Auc Score 0.7199698582715551\n",
      "Auc Score OvR {0: 0.7099567099567099, 1: 0.6569200779727096, 2: 0.7930327868852459}\n"
     ]
    },
    {
     "name": "stderr",
     "output_type": "stream",
     "text": [
      "100%|██████████| 10/10 [00:01<00:00,  8.53it/s]\n"
     ]
    },
    {
     "name": "stdout",
     "output_type": "stream",
     "text": [
      "Pipeline(steps=[('smoteen', SMOTEENN(random_state=0)),\n",
      "                ('clf',\n",
      "                 RandomForestClassifier(class_weight='balanced',\n",
      "                                        n_estimators=3500, random_state=0))])\n",
      "Auc Score 0.6211017494036363\n",
      "Auc Score OvR {0: 0.4956709956709957, 1: 0.6080188679245283, 2: 0.7596153846153846}\n"
     ]
    },
    {
     "name": "stderr",
     "output_type": "stream",
     "text": [
      "100%|██████████| 10/10 [00:01<00:00,  7.06it/s]\n"
     ]
    },
    {
     "name": "stdout",
     "output_type": "stream",
     "text": [
      "Pipeline(steps=[('smoteen', SMOTEENN(random_state=0)),\n",
      "                ('clf',\n",
      "                 RandomForestClassifier(class_weight='balanced',\n",
      "                                        n_estimators=3500, random_state=0))])\n",
      "Auc Score 0.6907013845693092\n",
      "Auc Score OvR {0: 0.773809523809524, 1: 0.6136792452830188, 2: 0.6846153846153846}\n"
     ]
    },
    {
     "name": "stderr",
     "output_type": "stream",
     "text": [
      "100%|██████████| 10/10 [00:01<00:00,  7.86it/s]\n"
     ]
    },
    {
     "name": "stdout",
     "output_type": "stream",
     "text": [
      "Pipeline(steps=[('smoteen', SMOTEENN(random_state=0)),\n",
      "                ('clf',\n",
      "                 RandomForestClassifier(class_weight='balanced',\n",
      "                                        n_estimators=3500, random_state=0))])\n",
      "Auc Score 0.8130126163145032\n",
      "Auc Score OvR {0: 0.8528138528138529, 1: 0.7330188679245283, 2: 0.8532051282051282}\n"
     ]
    },
    {
     "name": "stderr",
     "output_type": "stream",
     "text": [
      "100%|██████████| 10/10 [00:01<00:00,  7.95it/s]\n"
     ]
    },
    {
     "name": "stdout",
     "output_type": "stream",
     "text": [
      "Pipeline(steps=[('smoteen', SMOTEENN(random_state=0)),\n",
      "                ('clf',\n",
      "                 RandomForestClassifier(class_weight='balanced',\n",
      "                                        n_estimators=250, random_state=0))])\n",
      "Auc Score 0.7164824214509996\n",
      "Auc Score OvR {0: 0.6455223880597016, 1: 0.672514619883041, 2: 0.8314102564102563}\n"
     ]
    },
    {
     "name": "stderr",
     "output_type": "stream",
     "text": [
      "100%|██████████| 10/10 [00:01<00:00,  6.72it/s]\n"
     ]
    },
    {
     "name": "stdout",
     "output_type": "stream",
     "text": [
      "Pipeline(steps=[('smoteen', SMOTEENN(random_state=0)),\n",
      "                ('clf',\n",
      "                 RandomForestClassifier(class_weight='balanced',\n",
      "                                        n_estimators=3500, random_state=0))])\n",
      "Auc Score 0.7010127052189175\n",
      "Auc Score OvR {0: 0.5670995670995671, 1: 0.7251461988304093, 2: 0.8107923497267759}\n"
     ]
    },
    {
     "name": "stderr",
     "output_type": "stream",
     "text": [
      "100%|██████████| 10/10 [00:01<00:00,  8.65it/s]\n"
     ]
    },
    {
     "name": "stdout",
     "output_type": "stream",
     "text": [
      "Pipeline(steps=[('smoteen', SMOTEENN(random_state=0)),\n",
      "                ('clf',\n",
      "                 RandomForestClassifier(class_weight='balanced',\n",
      "                                        n_estimators=3500, random_state=0))])\n",
      "Auc Score 0.7372540751890767\n",
      "Auc Score OvR {0: 0.7099567099567099, 1: 0.7080896686159843, 2: 0.7937158469945356}\n"
     ]
    },
    {
     "name": "stderr",
     "output_type": "stream",
     "text": [
      "100%|██████████| 10/10 [00:01<00:00,  8.48it/s]\n"
     ]
    },
    {
     "name": "stdout",
     "output_type": "stream",
     "text": [
      "Pipeline(steps=[('smoteen', SMOTEENN(random_state=0)),\n",
      "                ('clf',\n",
      "                 RandomForestClassifier(class_weight='balanced',\n",
      "                                        n_estimators=3500, random_state=0))])\n",
      "Auc Score 0.7000767052653845\n",
      "Auc Score OvR {0: 0.7207792207792209, 1: 0.6518867924528301, 2: 0.7275641025641025}\n"
     ]
    },
    {
     "name": "stderr",
     "output_type": "stream",
     "text": [
      "100%|██████████| 10/10 [00:01<00:00,  8.88it/s]\n"
     ]
    },
    {
     "name": "stdout",
     "output_type": "stream",
     "text": [
      "Pipeline(steps=[('smoteen', SMOTEENN(random_state=0)),\n",
      "                ('clf',\n",
      "                 RandomForestClassifier(class_weight='balanced',\n",
      "                                        n_estimators=3500, random_state=0))])\n",
      "Auc Score 0.5962769410882619\n",
      "Auc Score OvR {0: 0.4426406926406926, 1: 0.5731132075471699, 2: 0.7730769230769231}\n"
     ]
    },
    {
     "name": "stderr",
     "output_type": "stream",
     "text": [
      "100%|██████████| 10/10 [00:01<00:00,  8.60it/s]\n"
     ]
    },
    {
     "name": "stdout",
     "output_type": "stream",
     "text": [
      "Pipeline(steps=[('smoteen', SMOTEENN(random_state=0)),\n",
      "                ('clf',\n",
      "                 RandomForestClassifier(class_weight='balanced',\n",
      "                                        n_estimators=3500, random_state=0))])\n",
      "Auc Score 0.7899262163413107\n",
      "Auc Score OvR {0: 0.788961038961039, 1: 0.7141509433962264, 2: 0.8666666666666667}\n"
     ]
    },
    {
     "name": "stderr",
     "output_type": "stream",
     "text": [
      "100%|██████████| 10/10 [00:01<00:00,  8.21it/s]\n"
     ]
    },
    {
     "name": "stdout",
     "output_type": "stream",
     "text": [
      "Pipeline(steps=[('smoteen', SMOTEENN(random_state=0)),\n",
      "                ('clf',\n",
      "                 RandomForestClassifier(class_weight='balanced',\n",
      "                                        n_estimators=3500, random_state=0))])\n",
      "Auc Score 0.7580950398703737\n",
      "Auc Score OvR {0: 0.8196517412935324, 1: 0.7251461988304093, 2: 0.7294871794871794}\n"
     ]
    },
    {
     "name": "stderr",
     "output_type": "stream",
     "text": [
      "100%|██████████| 10/10 [00:01<00:00,  8.54it/s]\n"
     ]
    },
    {
     "name": "stdout",
     "output_type": "stream",
     "text": [
      "Pipeline(steps=[('smoteen', SMOTEENN(random_state=0)),\n",
      "                ('clf',\n",
      "                 RandomForestClassifier(class_weight='balanced',\n",
      "                                        n_estimators=3500, random_state=0))])\n",
      "Auc Score 0.6877837221524308\n",
      "Auc Score OvR {0: 0.6569264069264069, 1: 0.6632553606237818, 2: 0.7431693989071038}\n"
     ]
    },
    {
     "name": "stderr",
     "output_type": "stream",
     "text": [
      "100%|██████████| 10/10 [00:01<00:00,  8.05it/s]\n"
     ]
    },
    {
     "name": "stdout",
     "output_type": "stream",
     "text": [
      "Pipeline(steps=[('smoteen', SMOTEENN(random_state=0)),\n",
      "                ('clf',\n",
      "                 RandomForestClassifier(class_weight='balanced',\n",
      "                                        n_estimators=3500, random_state=0))])\n",
      "Auc Score 0.7152070785231556\n",
      "Auc Score OvR {0: 0.7099567099567099, 1: 0.692495126705653, 2: 0.7431693989071038}\n"
     ]
    },
    {
     "name": "stderr",
     "output_type": "stream",
     "text": [
      "100%|██████████| 10/10 [00:01<00:00,  8.45it/s]\n"
     ]
    },
    {
     "name": "stdout",
     "output_type": "stream",
     "text": [
      "Pipeline(steps=[('smoteen', SMOTEENN(random_state=0)),\n",
      "                ('clf',\n",
      "                 RandomForestClassifier(class_weight='balanced',\n",
      "                                        n_estimators=250, random_state=0))])\n",
      "Auc Score 0.7009805707918915\n",
      "Auc Score OvR {0: 0.7099567099567099, 1: 0.6231132075471698, 2: 0.7698717948717949}\n"
     ]
    },
    {
     "name": "stderr",
     "output_type": "stream",
     "text": [
      "100%|██████████| 10/10 [00:01<00:00,  8.36it/s]\n"
     ]
    },
    {
     "name": "stdout",
     "output_type": "stream",
     "text": [
      "Pipeline(steps=[('smoteen', SMOTEENN(random_state=0)),\n",
      "                ('clf',\n",
      "                 RandomForestClassifier(class_weight='balanced',\n",
      "                                        n_estimators=3500, random_state=0))])\n",
      "Auc Score 0.5766063077383833\n",
      "Auc Score OvR {0: 0.5595238095238095, 1: 0.5863207547169812, 2: 0.5839743589743589}\n"
     ]
    },
    {
     "name": "stderr",
     "output_type": "stream",
     "text": [
      "100%|██████████| 10/10 [00:01<00:00,  8.49it/s]\n"
     ]
    },
    {
     "name": "stdout",
     "output_type": "stream",
     "text": [
      "Pipeline(steps=[('smoteen', SMOTEENN(random_state=0)),\n",
      "                ('clf',\n",
      "                 RandomForestClassifier(class_weight='balanced',\n",
      "                                        n_estimators=3500, random_state=0))])\n",
      "Auc Score 0.725273625745324\n",
      "Auc Score OvR {0: 0.6461038961038962, 1: 0.6797169811320756, 2: 0.85}\n"
     ]
    },
    {
     "name": "stderr",
     "output_type": "stream",
     "text": [
      "100%|██████████| 10/10 [00:01<00:00,  8.12it/s]\n"
     ]
    },
    {
     "name": "stdout",
     "output_type": "stream",
     "text": [
      "Pipeline(steps=[('smoteen', SMOTEENN(random_state=0)),\n",
      "                ('clf',\n",
      "                 RandomForestClassifier(class_weight='balanced',\n",
      "                                        n_estimators=3500, random_state=0))])\n",
      "Auc Score 0.7680499884741833\n",
      "Auc Score OvR {0: 0.7437810945273631, 1: 0.6988304093567251, 2: 0.8615384615384616}\n"
     ]
    },
    {
     "name": "stderr",
     "output_type": "stream",
     "text": [
      "100%|██████████| 10/10 [00:01<00:00,  7.13it/s]\n"
     ]
    },
    {
     "name": "stdout",
     "output_type": "stream",
     "text": [
      "Pipeline(steps=[('smoteen', SMOTEENN(random_state=0)),\n",
      "                ('clf',\n",
      "                 RandomForestClassifier(class_weight='balanced',\n",
      "                                        n_estimators=3500, random_state=0))])\n",
      "Auc Score 0.7357231946676871\n",
      "Auc Score OvR {0: 0.788961038961039, 1: 0.6832358674463939, 2: 0.7349726775956283}\n"
     ]
    },
    {
     "name": "stderr",
     "output_type": "stream",
     "text": [
      "100%|██████████| 10/10 [00:01<00:00,  8.88it/s]\n"
     ]
    },
    {
     "name": "stdout",
     "output_type": "stream",
     "text": [
      "Pipeline(steps=[('smoteen', SMOTEENN(random_state=0)),\n",
      "                ('clf',\n",
      "                 RandomForestClassifier(class_weight='balanced',\n",
      "                                        n_estimators=3500, random_state=0))])\n",
      "Auc Score 0.7046258806756361\n",
      "Auc Score OvR {0: 0.6569264069264069, 1: 0.6803118908382066, 2: 0.7766393442622951}\n"
     ]
    },
    {
     "name": "stderr",
     "output_type": "stream",
     "text": [
      "100%|██████████| 10/10 [00:01<00:00,  6.36it/s]\n"
     ]
    },
    {
     "name": "stdout",
     "output_type": "stream",
     "text": [
      "Pipeline(steps=[('smoteen', SMOTEENN(random_state=0)),\n",
      "                ('clf',\n",
      "                 RandomForestClassifier(class_weight='balanced',\n",
      "                                        n_estimators=250, random_state=0))])\n",
      "Auc Score 0.6360967125118068\n",
      "Auc Score OvR {0: 0.5595238095238095, 1: 0.5891509433962264, 2: 0.7596153846153846}\n"
     ]
    },
    {
     "name": "stderr",
     "output_type": "stream",
     "text": [
      "100%|██████████| 10/10 [00:01<00:00,  8.52it/s]\n"
     ]
    },
    {
     "name": "stdout",
     "output_type": "stream",
     "text": [
      "Pipeline(steps=[('smoteen', SMOTEENN(random_state=0)),\n",
      "                ('clf',\n",
      "                 RandomForestClassifier(class_weight='balanced',\n",
      "                                        n_estimators=250, random_state=0))])\n",
      "Auc Score 0.7217887982038924\n",
      "Auc Score OvR {0: 0.6948051948051948, 1: 0.6641509433962264, 2: 0.8064102564102564}\n"
     ]
    },
    {
     "name": "stderr",
     "output_type": "stream",
     "text": [
      "100%|██████████| 10/10 [00:01<00:00,  8.63it/s]\n"
     ]
    },
    {
     "name": "stdout",
     "output_type": "stream",
     "text": [
      "Pipeline(steps=[('smoteen', SMOTEENN(random_state=0)),\n",
      "                ('clf',\n",
      "                 RandomForestClassifier(class_weight='balanced',\n",
      "                                        n_estimators=3500, random_state=0))])\n",
      "Auc Score 0.7441015483468313\n",
      "Auc Score OvR {0: 0.7251082251082251, 1: 0.7174528301886793, 2: 0.7897435897435898}\n"
     ]
    },
    {
     "name": "stderr",
     "output_type": "stream",
     "text": [
      "100%|██████████| 10/10 [00:01<00:00,  8.18it/s]\n"
     ]
    },
    {
     "name": "stdout",
     "output_type": "stream",
     "text": [
      "Pipeline(steps=[('smoteen', SMOTEENN(random_state=0)),\n",
      "                ('clf',\n",
      "                 RandomForestClassifier(class_weight='balanced',\n",
      "                                        n_estimators=3500, random_state=0))])\n",
      "Auc Score 0.6186353992520529\n",
      "Auc Score OvR {0: 0.5087064676616916, 1: 0.5657894736842105, 2: 0.7814102564102565}\n"
     ]
    }
   ],
   "source": [
    "# Store the scores and metrics\n",
    "scores_rf = {'acc': [], 'SD_acc': [], 'CI_acc': [], 'auc_tot': [], 'SD_auc_tot': [], 'CI_auc_tot': [], 'auc_class': [], 'SD_auc_class': [], 'CI_auc_class': [], 'Sen_mean': [], 'Sen_CI': [], 'Sen_SD': [], 'Spe_mean': [], 'Spe_CI': [], 'Spe_sd': [], 'Pre_mean': [], 'Pre_CI': [], 'Pre_sd': [], 'F1_mean': [], 'F1_CI': [], 'F1_sd': [], 'Accy_mean': [], 'Accy_CI': [], 'Accy_sd': []}\n",
    "\n",
    "best_features_RF = []\n",
    "num_classes = len(np.unique(y))\n",
    "sum_confusion_matrix_rf = np.zeros((num_classes, num_classes))\n",
    "for name, pipeline in pipelines.items():\n",
    "    # Initialize lists to store scores for each fold\n",
    "    fold_acc = []\n",
    "    fold_auc_tot = []\n",
    "    fold_auc_class_1 = []\n",
    "    sensi = []\n",
    "    speci = []\n",
    "    prec = []\n",
    "    f1 = []\n",
    "    accy = []\n",
    "    features = []\n",
    "    p_value = []\n",
    "    feat = []\n",
    "    value = []\n",
    "    for train_index, test_index in cv_outer.split(X, y):\n",
    "        X_train, X_test = X.iloc[train_index], X.iloc[test_index]\n",
    "        y_train, y_test = y.iloc[train_index], y.iloc[test_index]\n",
    "\n",
    "        scaler = StandardScaler()\n",
    "        X_train_normed = scaler.fit_transform(X_train)\n",
    "        X_test_normed = scaler.transform(X_test)\n",
    "\n",
    "        X_train_scal = pd.DataFrame(X_train_normed, columns=X_train.columns, index=X_train.index)\n",
    "        X_test_scal = pd.DataFrame(X_test_normed, columns=X_test.columns, index=X_test.index)\n",
    "\n",
    "        #select the best 15 features\n",
    "        selected_feature_names = mrmr_classif(X_train_scal, y_train, K=10)\n",
    "        additional_columns = ['Age', 'F', 'M']\n",
    "        X_train_new = X_train_scal[selected_feature_names].join(X_age_sex[additional_columns])\n",
    "        X_test_new = X_test_scal[selected_feature_names].join(X_age_sex[additional_columns])\n",
    "        f_scores, p_values = f_classif(X_train_new, y_train)\n",
    "        feature_p_values = dict(zip(selected_feature_names, p_values))\n",
    "        p_value.append(feature_p_values)\n",
    "\n",
    "        cv_inner = RepeatedStratifiedKFold(n_splits=4, n_repeats=4, random_state=seed)\n",
    "        grid_search = GridSearchCV(pipeline, param_grids[name], cv=cv_inner, scoring='roc_auc_ovr', error_score=\"raise\")\n",
    "        grid_search.fit(X_train_new, y_train)\n",
    "        clf = grid_search.best_estimator_\n",
    "        print(clf)\n",
    "        clf.fit(X_train_new, y_train)\n",
    "        y_pred = clf.predict(X_test_new)\n",
    "        accuracy = accuracy_score(y_test, y_pred)\n",
    "        num_classes = len(np.unique(y_test))\n",
    "        cm = confusion_matrix(y_test, y_pred, labels=clf.classes_)\n",
    "        specificity = calculate_specificity(cm)\n",
    "        sensitivity = calculate_sensitivity(cm)\n",
    "        precision = calculate_precision(cm)\n",
    "        F1 = calculate_f1_score(cm)\n",
    "        Accy = calculate_accuracy(cm)\n",
    "        sum_confusion_matrix_rf += cm\n",
    "        # Print the results\n",
    "\n",
    "        accuracy = accuracy_score(y_test, y_pred)\n",
    "        fold_acc.append(accuracy)\n",
    "\n",
    "        # Calculate AUC score\n",
    "        auc_tot = multiclass_roc_auc_score(y_test, y_pred)\n",
    "        fold_auc_tot.append(auc_tot)\n",
    "\n",
    "        auc_class = class_vs_rest_roc_auc_score(y_test, y_pred)\n",
    "        fold_auc_class_1.append(auc_class)\n",
    "\n",
    "        speci.append(specificity)\n",
    "        sensi.append(sensitivity)\n",
    "        prec.append(precision)\n",
    "        f1.append(F1)\n",
    "        accy.append(Accy)\n",
    "\n",
    "        print('Auc Score', multiclass_roc_auc_score(y_test, y_pred))\n",
    "        print('Auc Score OvR', class_vs_rest_roc_auc_score(y_test, y_pred))"
   ],
   "metadata": {
    "collapsed": false,
    "ExecuteTime": {
     "start_time": "2023-08-17T10:21:55.742020Z",
     "end_time": "2023-08-17T11:47:00.113004Z"
    }
   }
  },
  {
   "cell_type": "code",
   "execution_count": 52,
   "outputs": [],
   "source": [
    "#fold_auc_class_1\n",
    "random_forest_radiomic_features_age_and_sex_melanoma = list(d[0] for d in fold_auc_class_1)\n",
    "random_forest_radiomic_features_age_and_sex_lung = list(d[1] for d in fold_auc_class_1)\n",
    "random_forest_radiomic_features_age_and_sex_breast = list(d[2] for d in fold_auc_class_1)"
   ],
   "metadata": {
    "collapsed": false,
    "ExecuteTime": {
     "start_time": "2023-08-17T12:02:59.159467Z",
     "end_time": "2023-08-17T12:02:59.198933Z"
    }
   }
  },
  {
   "cell_type": "code",
   "execution_count": 53,
   "outputs": [],
   "source": [
    "data_list = [random_forest_radiomic_features_melanoma, random_forest_radiomic_features_age_and_sex_melanoma,random_forest_radiomic_features_lung, random_forest_radiomic_features_age_and_sex_lung, random_forest_radiomic_features_breast, random_forest_radiomic_features_age_and_sex_breast]"
   ],
   "metadata": {
    "collapsed": false,
    "ExecuteTime": {
     "start_time": "2023-08-17T12:04:16.322095Z",
     "end_time": "2023-08-17T12:04:16.362147Z"
    }
   }
  },
  {
   "cell_type": "code",
   "execution_count": 60,
   "outputs": [
    {
     "data": {
      "text/plain": "([<matplotlib.axis.YTick at 0x7f2110709bb0>,\n  <matplotlib.axis.YTick at 0x7f2110709550>,\n  <matplotlib.axis.YTick at 0x7f21107628e0>,\n  <matplotlib.axis.YTick at 0x7f2110696370>,\n  <matplotlib.axis.YTick at 0x7f21106a0b20>,\n  <matplotlib.axis.YTick at 0x7f21106a6610>,\n  <matplotlib.axis.YTick at 0x7f21106a6d60>,\n  <matplotlib.axis.YTick at 0x7f21106adbb0>,\n  <matplotlib.axis.YTick at 0x7f211069b940>,\n  <matplotlib.axis.YTick at 0x7f21106b43d0>,\n  <matplotlib.axis.YTick at 0x7f21106b4e80>,\n  <matplotlib.axis.YTick at 0x7f21106ba970>,\n  <matplotlib.axis.YTick at 0x7f21106ba100>,\n  <matplotlib.axis.YTick at 0x7f21106402b0>,\n  <matplotlib.axis.YTick at 0x7f2110640d60>,\n  <matplotlib.axis.YTick at 0x7f2110646850>,\n  <matplotlib.axis.YTick at 0x7f211064d340>],\n [Text(0, 0.1, '0.10'),\n  Text(0, 0.15, '0.15'),\n  Text(0, 0.2, '0.20'),\n  Text(0, 0.25, '0.25'),\n  Text(0, 0.3, '0.30'),\n  Text(0, 0.35, '0.35'),\n  Text(0, 0.4, '0.40'),\n  Text(0, 0.45, '0.45'),\n  Text(0, 0.5, '0.50'),\n  Text(0, 0.55, '0.55'),\n  Text(0, 0.6, '0.60'),\n  Text(0, 0.65, '0.65'),\n  Text(0, 0.7, '0.70'),\n  Text(0, 0.75, '0.75'),\n  Text(0, 0.8, '0.80'),\n  Text(0, 0.85, '0.85'),\n  Text(0, 0.9, '0.90')])"
     },
     "execution_count": 60,
     "metadata": {},
     "output_type": "execute_result"
    },
    {
     "data": {
      "text/plain": "<Figure size 1000x800 with 1 Axes>",
      "image/png": "[encoded data removed]"
     },
     "metadata": {},
     "output_type": "display_data"
    }
   ],
   "source": [
    "import seaborn as sns\n",
    "import matplotlib.pyplot as plt\n",
    "#sns.boxplot(random_forest_radiomic_features_melanoma)\n",
    "plt.figure(figsize=(10, 8))\n",
    "plt.boxplot(data_list)\n",
    "plt.title('Boxplot of Multiple Lists')\n",
    "plt.xlabel('Data Lists')\n",
    "plt.ylabel('Values')\n",
    "plt.xticks(ticks=range(1, len(data_list) + 1), labels=['Melanoma_RF_RaFe', 'Melanoma_RF_ALL','Lung_RF_RaFe', 'Lung_RF_ALL','Breast_RF_RaFe', 'Breast_RF_ALL'])  # Customize x-axis labels\n",
    "desired_y_ticks = [0.1, 0.15, 0.2,0.25, 0.3, 0.35,0.4, 0.45,0.5, 0.55,0.6, 0.65, 0.7, 0.75, 0.8, 0.85 ,0.9]  # Adjust as needed\n",
    "plt.yticks(desired_y_ticks)"
   ],
   "metadata": {
    "collapsed": false,
    "ExecuteTime": {
     "start_time": "2023-08-17T12:12:39.429758Z",
     "end_time": "2023-08-17T12:12:39.724782Z"
    }
   }
  },
  {
   "cell_type": "markdown",
   "source": [
    "## AGE & SEX RF"
   ],
   "metadata": {
    "collapsed": false
   }
  },
  {
   "cell_type": "code",
   "execution_count": 66,
   "outputs": [
    {
     "data": {
      "text/plain": "                Age  F  M\nsubjid   label           \nOslo01   1       58  0  1\n         2       58  0  1\nOslo02   4       50  1  0\n         5       50  1  0\nOslo03   1       64  0  1\n...             ... .. ..\nStan_328 1       53  0  1\n         8       53  0  1\n         11      53  0  1\n         12      53  0  1\nStan_338 4       42  1  0\n\n[438 rows x 3 columns]",
      "text/html": "<div>\n<style scoped>\n    .dataframe tbody tr th:only-of-type {\n        vertical-align: middle;\n    }\n\n    .dataframe tbody tr th {\n        vertical-align: top;\n    }\n\n    .dataframe thead th {\n        text-align: right;\n    }\n</style>\n<table border=\"1\" class=\"dataframe\">\n  <thead>\n    <tr style=\"text-align: right;\">\n      <th></th>\n      <th></th>\n      <th>Age</th>\n      <th>F</th>\n      <th>M</th>\n    </tr>\n    <tr>\n      <th>subjid</th>\n      <th>label</th>\n      <th></th>\n      <th></th>\n      <th></th>\n    </tr>\n  </thead>\n  <tbody>\n    <tr>\n      <th rowspan=\"2\" valign=\"top\">Oslo01</th>\n      <th>1</th>\n      <td>58</td>\n      <td>0</td>\n      <td>1</td>\n    </tr>\n    <tr>\n      <th>2</th>\n      <td>58</td>\n      <td>0</td>\n      <td>1</td>\n    </tr>\n    <tr>\n      <th rowspan=\"2\" valign=\"top\">Oslo02</th>\n      <th>4</th>\n      <td>50</td>\n      <td>1</td>\n      <td>0</td>\n    </tr>\n    <tr>\n      <th>5</th>\n      <td>50</td>\n      <td>1</td>\n      <td>0</td>\n    </tr>\n    <tr>\n      <th>Oslo03</th>\n      <th>1</th>\n      <td>64</td>\n      <td>0</td>\n      <td>1</td>\n    </tr>\n    <tr>\n      <th>...</th>\n      <th>...</th>\n      <td>...</td>\n      <td>...</td>\n      <td>...</td>\n    </tr>\n    <tr>\n      <th rowspan=\"4\" valign=\"top\">Stan_328</th>\n      <th>1</th>\n      <td>53</td>\n      <td>0</td>\n      <td>1</td>\n    </tr>\n    <tr>\n      <th>8</th>\n      <td>53</td>\n      <td>0</td>\n      <td>1</td>\n    </tr>\n    <tr>\n      <th>11</th>\n      <td>53</td>\n      <td>0</td>\n      <td>1</td>\n    </tr>\n    <tr>\n      <th>12</th>\n      <td>53</td>\n      <td>0</td>\n      <td>1</td>\n    </tr>\n    <tr>\n      <th>Stan_338</th>\n      <th>4</th>\n      <td>42</td>\n      <td>1</td>\n      <td>0</td>\n    </tr>\n  </tbody>\n</table>\n<p>438 rows × 3 columns</p>\n</div>"
     },
     "execution_count": 66,
     "metadata": {},
     "output_type": "execute_result"
    }
   ],
   "source": [
    "X_sex_age = X_age_sex[['Age', 'F', 'M']]\n",
    "X_sex_age"
   ],
   "metadata": {
    "collapsed": false,
    "ExecuteTime": {
     "start_time": "2023-08-18T10:47:22.986303Z",
     "end_time": "2023-08-18T10:47:23.086662Z"
    }
   }
  },
  {
   "cell_type": "code",
   "execution_count": 70,
   "outputs": [
    {
     "name": "stdout",
     "output_type": "stream",
     "text": [
      "Pipeline(steps=[('smoteen', SMOTEENN(random_state=0)),\n",
      "                ('clf',\n",
      "                 RandomForestClassifier(class_weight='balanced',\n",
      "                                        n_estimators=3500, random_state=0))])\n",
      "Auc Score 0.7149577246643685\n",
      "Auc Score OvR {0: 0.7478354978354979, 1: 0.6798245614035089, 2: 0.7172131147540984}\n",
      "Pipeline(steps=[('smoteen', SMOTEENN(random_state=0)),\n",
      "                ('clf',\n",
      "                 RandomForestClassifier(class_weight='balanced',\n",
      "                                        n_estimators=3500, random_state=0))])\n",
      "Auc Score 0.6679537268406984\n",
      "Auc Score OvR {0: 0.5562770562770563, 1: 0.6798245614035089, 2: 0.76775956284153}\n",
      "Pipeline(steps=[('smoteen', SMOTEENN(random_state=0)),\n",
      "                ('clf',\n",
      "                 RandomForestClassifier(class_weight='balanced',\n",
      "                                        n_estimators=3500, random_state=0))])\n",
      "Auc Score 0.6051818726347028\n",
      "Auc Score OvR {0: 0.7326839826839826, 1: 0.6245283018867924, 2: 0.4583333333333333}\n",
      "Pipeline(steps=[('smoteen', SMOTEENN(random_state=0)),\n",
      "                ('clf',\n",
      "                 RandomForestClassifier(class_weight='balanced',\n",
      "                                        n_estimators=3500, random_state=0))])\n",
      "Auc Score 0.49885973565218844\n",
      "Auc Score OvR {0: 0.5183982683982683, 1: 0.46792452830188674, 2: 0.5102564102564102}\n",
      "Pipeline(steps=[('smoteen', SMOTEENN(random_state=0)),\n",
      "                ('clf',\n",
      "                 RandomForestClassifier(class_weight='balanced',\n",
      "                                        n_estimators=3500, random_state=0))])\n",
      "Auc Score 0.6791512994343183\n",
      "Auc Score OvR {0: 0.683982683982684, 1: 0.6778301886792453, 2: 0.6756410256410256}\n",
      "Pipeline(steps=[('smoteen', SMOTEENN(random_state=0)),\n",
      "                ('clf',\n",
      "                 RandomForestClassifier(class_weight='balanced',\n",
      "                                        n_estimators=3500, random_state=0))])\n",
      "Auc Score 0.7653574420594582\n",
      "Auc Score OvR {0: 0.7425373134328358, 1: 0.7387914230019493, 2: 0.8147435897435897}\n",
      "Pipeline(steps=[('smoteen', SMOTEENN(random_state=0)),\n",
      "                ('clf',\n",
      "                 RandomForestClassifier(class_weight='balanced',\n",
      "                                        n_estimators=3500, random_state=0))])\n",
      "Auc Score 0.6122435961018072\n",
      "Auc Score OvR {0: 0.5411255411255411, 1: 0.6364522417153996, 2: 0.6591530054644809}\n",
      "Pipeline(steps=[('smoteen', SMOTEENN(random_state=0)),\n",
      "                ('clf',\n",
      "                 RandomForestClassifier(class_weight='balanced',\n",
      "                                        n_estimators=1000, random_state=0))])\n",
      "Auc Score 0.7935497033138678\n",
      "Auc Score OvR {0: 0.762987012987013, 1: 0.7665692007797271, 2: 0.8510928961748634}\n",
      "Pipeline(steps=[('smoteen', SMOTEENN(random_state=0)),\n",
      "                ('clf',\n",
      "                 RandomForestClassifier(class_weight='balanced',\n",
      "                                        n_estimators=3500, random_state=0))])\n",
      "Auc Score 0.7366904060300287\n",
      "Auc Score OvR {0: 0.683982683982684, 1: 0.7433962264150944, 2: 0.7826923076923076}\n",
      "Pipeline(steps=[('smoteen', SMOTEENN(random_state=0)),\n",
      "                ('clf',\n",
      "                 RandomForestClassifier(class_weight='balanced',\n",
      "                                        n_estimators=1000, random_state=0))])\n",
      "Auc Score 0.6627288330118518\n",
      "Auc Score OvR {0: 0.5411255411255411, 1: 0.7028301886792453, 2: 0.744230769230769}\n",
      "Pipeline(steps=[('smoteen', SMOTEENN(random_state=0)),\n",
      "                ('clf',\n",
      "                 RandomForestClassifier(class_weight='balanced',\n",
      "                                        n_estimators=3500, random_state=0))])\n",
      "Auc Score 0.7609782774877113\n",
      "Auc Score OvR {0: 0.6915584415584416, 1: 0.7650943396226415, 2: 0.8262820512820511}\n",
      "Pipeline(steps=[('smoteen', SMOTEENN(random_state=0)),\n",
      "                ('clf',\n",
      "                 RandomForestClassifier(class_weight='balanced',\n",
      "                                        n_estimators=3500, random_state=0))])\n",
      "Auc Score 0.783920348027444\n",
      "Auc Score OvR {0: 0.781094527363184, 1: 0.7495126705653021, 2: 0.8211538461538461}\n",
      "Pipeline(steps=[('smoteen', SMOTEENN(random_state=0)),\n",
      "                ('clf',\n",
      "                 RandomForestClassifier(class_weight='balanced',\n",
      "                                        n_estimators=3500, random_state=0))])\n",
      "Auc Score 0.6379433674156135\n",
      "Auc Score OvR {0: 0.6352813852813852, 1: 0.6193957115009747, 2: 0.6591530054644809}\n",
      "Pipeline(steps=[('smoteen', SMOTEENN(random_state=0)),\n",
      "                ('clf',\n",
      "                 RandomForestClassifier(class_weight='balanced',\n",
      "                                        n_estimators=1000, random_state=0))])\n",
      "Auc Score 0.7559703994489729\n",
      "Auc Score OvR {0: 0.683982683982684, 1: 0.7417153996101364, 2: 0.8422131147540984}\n",
      "Pipeline(steps=[('smoteen', SMOTEENN(random_state=0)),\n",
      "                ('clf',\n",
      "                 RandomForestClassifier(class_weight='balanced',\n",
      "                                        n_estimators=3500, random_state=0))])\n",
      "Auc Score 0.7092234285630513\n",
      "Auc Score OvR {0: 0.7067099567099567, 1: 0.6933962264150944, 2: 0.7275641025641025}\n",
      "Pipeline(steps=[('smoteen', SMOTEENN(random_state=0)),\n",
      "                ('clf',\n",
      "                 RandomForestClassifier(class_weight='balanced',\n",
      "                                        n_estimators=3500, random_state=0))])\n",
      "Auc Score 0.7605131241923694\n",
      "Auc Score OvR {0: 0.7402597402597403, 1: 0.7617924528301887, 2: 0.7794871794871795}\n",
      "Pipeline(steps=[('smoteen', SMOTEENN(random_state=0)),\n",
      "                ('clf',\n",
      "                 RandomForestClassifier(class_weight='balanced',\n",
      "                                        n_estimators=1000, random_state=0))])\n",
      "Auc Score 0.8250275405935783\n",
      "Auc Score OvR {0: 0.8982683982683983, 1: 0.7806603773584906, 2: 0.7961538461538461}\n",
      "Pipeline(steps=[('smoteen', SMOTEENN(random_state=0)),\n",
      "                ('clf',\n",
      "                 RandomForestClassifier(class_weight='balanced',\n",
      "                                        n_estimators=3500, random_state=0))])\n",
      "Auc Score 0.7119445880508986\n",
      "Auc Score OvR {0: 0.6368159203980099, 1: 0.7246588693957114, 2: 0.7743589743589744}\n",
      "Pipeline(steps=[('smoteen', SMOTEENN(random_state=0)),\n",
      "                ('clf',\n",
      "                 RandomForestClassifier(class_weight='balanced',\n",
      "                                        n_estimators=3500, random_state=0))])\n",
      "Auc Score 0.7272910743215603\n",
      "Auc Score OvR {0: 0.6688311688311688, 1: 0.6954191033138402, 2: 0.8176229508196722}\n",
      "Pipeline(steps=[('smoteen', SMOTEENN(random_state=0)),\n",
      "                ('clf',\n",
      "                 RandomForestClassifier(class_weight='balanced',\n",
      "                                        n_estimators=3500, random_state=0))])\n",
      "Auc Score 0.6571160334462031\n",
      "Auc Score OvR {0: 0.5638528138528138, 1: 0.665692007797271, 2: 0.7418032786885245}\n",
      "Pipeline(steps=[('smoteen', SMOTEENN(random_state=0)),\n",
      "                ('clf',\n",
      "                 RandomForestClassifier(class_weight='balanced',\n",
      "                                        n_estimators=3500, random_state=0))])\n",
      "Auc Score 0.6581118043382195\n",
      "Auc Score OvR {0: 0.6915584415584416, 1: 0.6372641509433963, 2: 0.6455128205128204}\n",
      "Pipeline(steps=[('smoteen', SMOTEENN(random_state=0)),\n",
      "                ('clf',\n",
      "                 RandomForestClassifier(class_weight='balanced',\n",
      "                                        n_estimators=1000, random_state=0))])\n",
      "Auc Score 0.6804406285538361\n",
      "Auc Score OvR {0: 0.7781385281385281, 1: 0.6561320754716982, 2: 0.607051282051282}\n",
      "Pipeline(steps=[('smoteen', SMOTEENN(random_state=0)),\n",
      "                ('clf',\n",
      "                 RandomForestClassifier(class_weight='balanced',\n",
      "                                        n_estimators=1000, random_state=0))])\n",
      "Auc Score 0.5813778988307291\n",
      "Auc Score OvR {0: 0.6125541125541125, 1: 0.5495283018867925, 2: 0.5820512820512821}\n",
      "Pipeline(steps=[('smoteen', SMOTEENN(random_state=0)),\n",
      "                ('clf',\n",
      "                 RandomForestClassifier(class_weight='balanced',\n",
      "                                        n_estimators=3500, random_state=0))])\n",
      "Auc Score 0.7281251748455205\n",
      "Auc Score OvR {0: 0.8034825870646766, 1: 0.7353801169590644, 2: 0.6455128205128204}\n",
      "Pipeline(steps=[('smoteen', SMOTEENN(random_state=0)),\n",
      "                ('clf',\n",
      "                 RandomForestClassifier(class_weight='balanced',\n",
      "                                        n_estimators=3500, random_state=0))])\n",
      "Auc Score 0.6478782857126256\n",
      "Auc Score OvR {0: 0.6612554112554112, 1: 0.597953216374269, 2: 0.6844262295081968}\n",
      "Pipeline(steps=[('smoteen', SMOTEENN(random_state=0)),\n",
      "                ('clf',\n",
      "                 RandomForestClassifier(class_weight='balanced',\n",
      "                                        n_estimators=1000, random_state=0))])\n",
      "Auc Score 0.6277478207302769\n",
      "Auc Score OvR {0: 0.604978354978355, 1: 0.611598440545809, 2: 0.6666666666666666}\n",
      "Pipeline(steps=[('smoteen', SMOTEENN(random_state=0)),\n",
      "                ('clf',\n",
      "                 RandomForestClassifier(class_weight='balanced',\n",
      "                                        n_estimators=3500, random_state=0))])\n",
      "Auc Score 0.5979224653752956\n",
      "Auc Score OvR {0: 0.683982683982684, 1: 0.5745283018867925, 2: 0.5352564102564101}\n",
      "Pipeline(steps=[('smoteen', SMOTEENN(random_state=0)),\n",
      "                ('clf',\n",
      "                 RandomForestClassifier(class_weight='balanced',\n",
      "                                        n_estimators=1000, random_state=0))])\n",
      "Auc Score 0.6234890371682824\n",
      "Auc Score OvR {0: 0.7099567099567099, 1: 0.5617924528301887, 2: 0.5987179487179487}\n",
      "Pipeline(steps=[('smoteen', SMOTEENN(random_state=0)),\n",
      "                ('clf',\n",
      "                 RandomForestClassifier(class_weight='balanced',\n",
      "                                        n_estimators=3500, random_state=0))])\n",
      "Auc Score 0.6961770933469046\n",
      "Auc Score OvR {0: 0.762987012987013, 1: 0.6716981132075472, 2: 0.6538461538461539}\n",
      "Pipeline(steps=[('smoteen', SMOTEENN(random_state=0)),\n",
      "                ('clf',\n",
      "                 RandomForestClassifier(class_weight='balanced',\n",
      "                                        n_estimators=3500, random_state=0))])\n",
      "Auc Score 0.6824261508472035\n",
      "Auc Score OvR {0: 0.75, 1: 0.6549707602339181, 2: 0.6423076923076924}\n",
      "Pipeline(steps=[('smoteen', SMOTEENN(random_state=0)),\n",
      "                ('clf',\n",
      "                 RandomForestClassifier(class_weight='balanced',\n",
      "                                        n_estimators=3500, random_state=0))])\n",
      "Auc Score 0.6420736668076329\n",
      "Auc Score OvR {0: 0.6688311688311688, 1: 0.6057504873294348, 2: 0.6516393442622952}\n",
      "Pipeline(steps=[('smoteen', SMOTEENN(random_state=0)),\n",
      "                ('clf',\n",
      "                 RandomForestClassifier(class_weight='balanced',\n",
      "                                        n_estimators=3500, random_state=0))])\n",
      "Auc Score 0.6821692831183772\n",
      "Auc Score OvR {0: 0.683982683982684, 1: 0.6535087719298246, 2: 0.7090163934426229}\n",
      "Pipeline(steps=[('smoteen', SMOTEENN(random_state=0)),\n",
      "                ('clf',\n",
      "                 RandomForestClassifier(class_weight='balanced',\n",
      "                                        n_estimators=3500, random_state=0))])\n",
      "Auc Score 0.6527926999625112\n",
      "Auc Score OvR {0: 0.6277056277056277, 1: 0.6466981132075471, 2: 0.6839743589743589}\n",
      "Pipeline(steps=[('smoteen', SMOTEENN(random_state=0)),\n",
      "                ('clf',\n",
      "                 RandomForestClassifier(class_weight='balanced',\n",
      "                                        n_estimators=3500, random_state=0))])\n",
      "Auc Score 0.7624617520843936\n",
      "Auc Score OvR {0: 0.8603896103896104, 1: 0.7212264150943397, 2: 0.7057692307692308}\n",
      "Pipeline(steps=[('smoteen', SMOTEENN(random_state=0)),\n",
      "                ('clf',\n",
      "                 RandomForestClassifier(class_weight='balanced',\n",
      "                                        n_estimators=1000, random_state=0))])\n",
      "Auc Score 0.628637819203857\n",
      "Auc Score OvR {0: 0.6764069264069265, 1: 0.6056603773584905, 2: 0.6038461538461539}\n",
      "Pipeline(steps=[('smoteen', SMOTEENN(random_state=0)),\n",
      "                ('clf',\n",
      "                 RandomForestClassifier(class_weight='balanced',\n",
      "                                        n_estimators=3500, random_state=0))])\n",
      "Auc Score 0.7755307657245337\n",
      "Auc Score OvR {0: 0.7276119402985074, 1: 0.7694931773879142, 2: 0.8294871794871794}\n"
     ]
    },
    {
     "ename": "TypeError",
     "evalue": "unsupported operand type(s) for +: 'dict' and 'dict'",
     "output_type": "error",
     "traceback": [
      "\u001B[0;31m---------------------------------------------------------------------------\u001B[0m",
      "\u001B[0;31mTypeError\u001B[0m                                 Traceback (most recent call last)",
      "Cell \u001B[0;32mIn[70], line 59\u001B[0m\n\u001B[1;32m     56\u001B[0m scores_rf[\u001B[38;5;124m'\u001B[39m\u001B[38;5;124mSD_acc\u001B[39m\u001B[38;5;124m'\u001B[39m]\u001B[38;5;241m.\u001B[39mappend(np\u001B[38;5;241m.\u001B[39mstd(fold_acc))\n\u001B[1;32m     58\u001B[0m \u001B[38;5;66;03m#auc_tot\u001B[39;00m\n\u001B[0;32m---> 59\u001B[0m avg_auc_tot \u001B[38;5;241m=\u001B[39m \u001B[43mnp\u001B[49m\u001B[38;5;241;43m.\u001B[39;49m\u001B[43mmean\u001B[49m\u001B[43m(\u001B[49m\u001B[43mfold_auc_class_2\u001B[49m\u001B[43m)\u001B[49m\n\u001B[1;32m     60\u001B[0m scores_rf[\u001B[38;5;124m'\u001B[39m\u001B[38;5;124mauc_tot\u001B[39m\u001B[38;5;124m'\u001B[39m]\u001B[38;5;241m.\u001B[39mappend(avg_auc_tot)\n\u001B[1;32m     61\u001B[0m scores_rf[\u001B[38;5;124m'\u001B[39m\u001B[38;5;124mauc_tot\u001B[39m\u001B[38;5;124m'\u001B[39m] \u001B[38;5;241m=\u001B[39m scores_rf[\u001B[38;5;124m'\u001B[39m\u001B[38;5;124mauc_tot\u001B[39m\u001B[38;5;124m'\u001B[39m][\u001B[38;5;241m-\u001B[39m\u001B[38;5;241m1\u001B[39m]\n",
      "File \u001B[0;32m<__array_function__ internals>:200\u001B[0m, in \u001B[0;36mmean\u001B[0;34m(*args, **kwargs)\u001B[0m\n",
      "File \u001B[0;32m~/.conda/envs/secondenv/lib/python3.9/site-packages/numpy/core/fromnumeric.py:3464\u001B[0m, in \u001B[0;36mmean\u001B[0;34m(a, axis, dtype, out, keepdims, where)\u001B[0m\n\u001B[1;32m   3461\u001B[0m     \u001B[38;5;28;01melse\u001B[39;00m:\n\u001B[1;32m   3462\u001B[0m         \u001B[38;5;28;01mreturn\u001B[39;00m mean(axis\u001B[38;5;241m=\u001B[39maxis, dtype\u001B[38;5;241m=\u001B[39mdtype, out\u001B[38;5;241m=\u001B[39mout, \u001B[38;5;241m*\u001B[39m\u001B[38;5;241m*\u001B[39mkwargs)\n\u001B[0;32m-> 3464\u001B[0m \u001B[38;5;28;01mreturn\u001B[39;00m \u001B[43m_methods\u001B[49m\u001B[38;5;241;43m.\u001B[39;49m\u001B[43m_mean\u001B[49m\u001B[43m(\u001B[49m\u001B[43ma\u001B[49m\u001B[43m,\u001B[49m\u001B[43m \u001B[49m\u001B[43maxis\u001B[49m\u001B[38;5;241;43m=\u001B[39;49m\u001B[43maxis\u001B[49m\u001B[43m,\u001B[49m\u001B[43m \u001B[49m\u001B[43mdtype\u001B[49m\u001B[38;5;241;43m=\u001B[39;49m\u001B[43mdtype\u001B[49m\u001B[43m,\u001B[49m\n\u001B[1;32m   3465\u001B[0m \u001B[43m                      \u001B[49m\u001B[43mout\u001B[49m\u001B[38;5;241;43m=\u001B[39;49m\u001B[43mout\u001B[49m\u001B[43m,\u001B[49m\u001B[43m \u001B[49m\u001B[38;5;241;43m*\u001B[39;49m\u001B[38;5;241;43m*\u001B[39;49m\u001B[43mkwargs\u001B[49m\u001B[43m)\u001B[49m\n",
      "File \u001B[0;32m~/.conda/envs/secondenv/lib/python3.9/site-packages/numpy/core/_methods.py:181\u001B[0m, in \u001B[0;36m_mean\u001B[0;34m(a, axis, dtype, out, keepdims, where)\u001B[0m\n\u001B[1;32m    178\u001B[0m         dtype \u001B[38;5;241m=\u001B[39m mu\u001B[38;5;241m.\u001B[39mdtype(\u001B[38;5;124m'\u001B[39m\u001B[38;5;124mf4\u001B[39m\u001B[38;5;124m'\u001B[39m)\n\u001B[1;32m    179\u001B[0m         is_float16_result \u001B[38;5;241m=\u001B[39m \u001B[38;5;28;01mTrue\u001B[39;00m\n\u001B[0;32m--> 181\u001B[0m ret \u001B[38;5;241m=\u001B[39m \u001B[43mumr_sum\u001B[49m\u001B[43m(\u001B[49m\u001B[43marr\u001B[49m\u001B[43m,\u001B[49m\u001B[43m \u001B[49m\u001B[43maxis\u001B[49m\u001B[43m,\u001B[49m\u001B[43m \u001B[49m\u001B[43mdtype\u001B[49m\u001B[43m,\u001B[49m\u001B[43m \u001B[49m\u001B[43mout\u001B[49m\u001B[43m,\u001B[49m\u001B[43m \u001B[49m\u001B[43mkeepdims\u001B[49m\u001B[43m,\u001B[49m\u001B[43m \u001B[49m\u001B[43mwhere\u001B[49m\u001B[38;5;241;43m=\u001B[39;49m\u001B[43mwhere\u001B[49m\u001B[43m)\u001B[49m\n\u001B[1;32m    182\u001B[0m \u001B[38;5;28;01mif\u001B[39;00m \u001B[38;5;28misinstance\u001B[39m(ret, mu\u001B[38;5;241m.\u001B[39mndarray):\n\u001B[1;32m    183\u001B[0m     \u001B[38;5;28;01mwith\u001B[39;00m _no_nep50_warning():\n",
      "\u001B[0;31mTypeError\u001B[0m: unsupported operand type(s) for +: 'dict' and 'dict'"
     ]
    }
   ],
   "source": [
    "# Store the scores and metrics\n",
    "scores_rf = {'acc': [], 'SD_acc': [], 'CI_acc': [], 'auc_tot': [], 'SD_auc_tot': [], 'CI_auc_tot': [], 'auc_class': [], 'SD_auc_class': [], 'CI_auc_class': [], 'Sen_mean': [], 'Sen_CI': [], 'Sen_SD': [], 'Spe_mean': [], 'Spe_CI': [], 'Spe_sd': []}\n",
    "\n",
    "\n",
    "for name, pipeline in pipelines.items():\n",
    "    # Initialize lists to store scores for each fold\n",
    "    fold_acc = []\n",
    "    fold_auc_tot = []\n",
    "    fold_auc_class_2 = []\n",
    "    sensi = []\n",
    "    speci = []\n",
    "    features = []\n",
    "    p_value = []\n",
    "    feat = []\n",
    "    value = []\n",
    "    for train_index, test_index in cv_outer.split(X_sex_age, y):\n",
    "        X_train_new, X_test_new = X_sex_age.iloc[train_index], X_sex_age.iloc[test_index]\n",
    "        y_train, y_test = y.iloc[train_index], y.iloc[test_index]\n",
    "\n",
    "        cv_inner = RepeatedStratifiedKFold(n_splits=4, n_repeats=4, random_state=seed)\n",
    "        grid_search = GridSearchCV(pipeline, param_grids[name], cv=cv_inner, scoring='roc_auc_ovr', error_score=\"raise\")\n",
    "        grid_search.fit(X_train_new, y_train)\n",
    "        clf = grid_search.best_estimator_\n",
    "        print(clf)\n",
    "        clf.fit(X_train_new, y_train)\n",
    "        y_pred = clf.predict(X_test_new)\n",
    "        accuracy = accuracy_score(y_test, y_pred)\n",
    "        num_classes = len(np.unique(y_test))\n",
    "        cm = confusion_matrix(y_test, y_pred)\n",
    "        specificity = calculate_specificity(cm)\n",
    "        sensitivity = calculate_sensitivity(cm)\n",
    "        # Print the results\n",
    "        accuracy = accuracy_score(y_test, y_pred)\n",
    "        fold_acc.append(accuracy)\n",
    "\n",
    "        # Calculate AUC score\n",
    "        auc_tot = multiclass_roc_auc_score(y_test, y_pred)\n",
    "        fold_auc_tot.append(auc_tot)\n",
    "\n",
    "        auc_class = class_vs_rest_roc_auc_score(y_test, y_pred)\n",
    "        fold_auc_class_2.append(auc_class)\n",
    "\n",
    "        speci.append(specificity)\n",
    "        sensi.append(sensitivity)\n",
    "\n",
    "        print('Auc Score', multiclass_roc_auc_score(y_test, y_pred))\n",
    "        print('Auc Score OvR', class_vs_rest_roc_auc_score(y_test, y_pred))\n",
    "    # Calculate average scores across folds\n",
    "    if name == 'rf':\n",
    "        #acc\n",
    "        avg_acc = np.mean(fold_acc)\n",
    "        scores_rf['acc'].append(avg_acc)\n",
    "        scores_rf['acc'] = scores_rf['acc'][-1]\n",
    "        ci = stats.t.interval(confidence, len(fold_acc) - 1, loc=np.mean(fold_acc), scale=stats.sem(fold_acc))\n",
    "        scores_rf['CI_acc'].append(ci)\n",
    "        scores_rf['SD_acc'].append(np.std(fold_acc))\n",
    "\n",
    "        #auc_tot\n",
    "        avg_auc_tot = np.mean(fold_auc_tot)\n",
    "        scores_rf['auc_tot'].append(avg_auc_tot)\n",
    "        scores_rf['auc_tot'] = scores_rf['auc_tot'][-1]\n",
    "        ci = stats.t.interval(confidence, len(fold_auc_tot) - 1, loc=np.mean(fold_auc_tot), scale=stats.sem(fold_auc_tot))\n",
    "        scores_rf['CI_auc_tot'].append(ci)\n",
    "        scores_rf['SD_auc_tot'].append(np.std(fold_auc_class_2))\n",
    "\n",
    "        #auc_class\n",
    "        list_0 = list(d[0] for d in fold_auc_class_2)\n",
    "        list_1 = list(d[1] for d in fold_auc_class_2)\n",
    "        list_2 = list(d[2] for d in fold_auc_class_2)\n",
    "\n",
    "        avg_auc_class = {0: np.mean(list_0), 1: np.mean(list_1), 2: np.mean(list_2)}\n",
    "        scores_rf['auc_class'].append(avg_auc_class)\n",
    "\n",
    "        sd_auc_class = {0: np.std(list_0), 1: np.std(list_1), 2: np.std(list_2)}\n",
    "        scores_rf['SD_auc_class'].append(sd_auc_class)\n",
    "\n",
    "        ci_0 = stats.t.interval(confidence, len(list_0) - 1, loc=np.mean(list_0), scale=stats.sem(list_0))\n",
    "        ci_1 = stats.t.interval(confidence, len(list_1) - 1, loc=np.mean(list_1), scale=stats.sem(list_1))\n",
    "        ci_2 = stats.t.interval(confidence, len(list_2) - 1, loc=np.mean(list_2), scale=stats.sem(list_2))\n",
    "\n",
    "        CI_auc_class = {0: ci_0, 1: ci_1, 2: ci_2}\n",
    "        scores_rf['CI_auc_class'].append(CI_auc_class)\n",
    "\n",
    "        #sensitivity\n",
    "        list_0 = list(d[0] for d in sensi)\n",
    "        list_1 = list(d[1] for d in sensi)\n",
    "        list_2 = list(d[2] for d in sensi)\n",
    "\n",
    "        avg_sensi_class = {0: np.mean(list_0), 1: np.mean(list_1), 2: np.mean(list_2)}\n",
    "        scores_rf['Sen_mean'].append(avg_sensi_class)\n",
    "\n",
    "        sd_sensi_class = {0: np.std(list_0), 1: np.std(list_1), 2: np.std(list_2)}\n",
    "        scores_rf['Sen_SD'].append(sd_sensi_class)\n",
    "\n",
    "        ci_0 = stats.t.interval(confidence, len(list_0) - 1, loc=np.mean(list_0), scale=stats.sem(list_0))\n",
    "        ci_1 = stats.t.interval(confidence, len(list_1) - 1, loc=np.mean(list_1), scale=stats.sem(list_1))\n",
    "        ci_2 = stats.t.interval(confidence, len(list_2) - 1, loc=np.mean(list_2), scale=stats.sem(list_2))\n",
    "\n",
    "        CI_sen_class = {0: ci_0, 1: ci_1, 2: ci_2}\n",
    "        scores_rf['Sen_CI'].append(CI_sen_class)\n",
    "\n",
    "        #specificity\n",
    "        list_0 = list(d[0] for d in speci)\n",
    "        list_1 = list(d[1] for d in speci)\n",
    "        list_2 = list(d[2] for d in speci)\n",
    "\n",
    "        avg_speci_class = {0: np.mean(list_0), 1: np.mean(list_1), 2: np.mean(list_2)}\n",
    "        scores_rf['Spe_mean'].append(avg_speci_class)\n",
    "        sd_speci_class = {0: np.std(list_0), 1: np.std(list_1), 2: np.std(list_2)}\n",
    "        scores_rf['Spe_sd'].append(sd_speci_class)\n",
    "\n",
    "        ci_0 = stats.t.interval(confidence, len(list_0) - 1, loc=np.mean(list_0), scale=stats.sem(list_0))\n",
    "        ci_1 = stats.t.interval(confidence, len(list_1) - 1, loc=np.mean(list_1), scale=stats.sem(list_1))\n",
    "        ci_2 = stats.t.interval(confidence, len(list_2) - 1, loc=np.mean(list_2), scale=stats.sem(list_2))\n",
    "\n",
    "        CI_spe_class = {0: ci_0, 1: ci_1, 2: ci_2}\n",
    "        scores_rf['Spe_CI'].append(CI_spe_class)"
   ],
   "metadata": {
    "collapsed": false
   }
  },
  {
   "cell_type": "code",
   "execution_count": 73,
   "outputs": [],
   "source": [
    "random_forest_age_and_sex_melanoma = list(d[0] for d in fold_auc_class_2)\n",
    "random_forest_age_and_sex_lung = list(d[1] for d in fold_auc_class_2)\n",
    "random_forest_age_and_sex_breast = list(d[2] for d in fold_auc_class_2)"
   ],
   "metadata": {
    "collapsed": false,
    "ExecuteTime": {
     "start_time": "2023-08-18T13:16:48.123738Z",
     "end_time": "2023-08-18T13:16:48.163129Z"
    }
   }
  },
  {
   "cell_type": "code",
   "execution_count": 84,
   "outputs": [],
   "source": [
    "data_list_RF = [random_forest_age_and_sex_melanoma, random_forest_radiomic_features_melanoma, random_forest_radiomic_features_age_and_sex_melanoma,random_forest_age_and_sex_lung, random_forest_radiomic_features_lung, random_forest_radiomic_features_age_and_sex_lung, random_forest_age_and_sex_breast,random_forest_radiomic_features_breast, random_forest_radiomic_features_age_and_sex_breast]"
   ],
   "metadata": {
    "collapsed": false,
    "ExecuteTime": {
     "start_time": "2023-08-18T13:25:30.738531Z",
     "end_time": "2023-08-18T13:25:30.794399Z"
    }
   }
  },
  {
   "cell_type": "code",
   "execution_count": 81,
   "outputs": [
    {
     "data": {
      "text/plain": "([<matplotlib.axis.YTick at 0x7f21073f9880>,\n  <matplotlib.axis.YTick at 0x7f21073f9220>,\n  <matplotlib.axis.YTick at 0x7f2107824eb0>,\n  <matplotlib.axis.YTick at 0x7f21072ca610>,\n  <matplotlib.axis.YTick at 0x7f21072cad60>,\n  <matplotlib.axis.YTick at 0x7f21072c4640>,\n  <matplotlib.axis.YTick at 0x7f21072cf850>,\n  <matplotlib.axis.YTick at 0x7f21072d7340>,\n  <matplotlib.axis.YTick at 0x7f21072d7df0>,\n  <matplotlib.axis.YTick at 0x7f21072d7a30>,\n  <matplotlib.axis.YTick at 0x7f21072de730>,\n  <matplotlib.axis.YTick at 0x7f21072e4220>,\n  <matplotlib.axis.YTick at 0x7f21072e4cd0>,\n  <matplotlib.axis.YTick at 0x7f21072ea7c0>,\n  <matplotlib.axis.YTick at 0x7f21072dea90>,\n  <matplotlib.axis.YTick at 0x7f21072ee220>,\n  <matplotlib.axis.YTick at 0x7f21072eecd0>],\n [Text(0, 0.1, '0.10'),\n  Text(0, 0.15, '0.15'),\n  Text(0, 0.2, '0.20'),\n  Text(0, 0.25, '0.25'),\n  Text(0, 0.3, '0.30'),\n  Text(0, 0.35, '0.35'),\n  Text(0, 0.4, '0.40'),\n  Text(0, 0.45, '0.45'),\n  Text(0, 0.5, '0.50'),\n  Text(0, 0.55, '0.55'),\n  Text(0, 0.6, '0.60'),\n  Text(0, 0.65, '0.65'),\n  Text(0, 0.7, '0.70'),\n  Text(0, 0.75, '0.75'),\n  Text(0, 0.8, '0.80'),\n  Text(0, 0.85, '0.85'),\n  Text(0, 0.9, '0.90')])"
     },
     "execution_count": 81,
     "metadata": {},
     "output_type": "execute_result"
    },
    {
     "data": {
      "text/plain": "<Figure size 1600x800 with 1 Axes>",
      "image/png": "[encoded data removed]"
     },
     "metadata": {},
     "output_type": "display_data"
    }
   ],
   "source": [
    "import seaborn as sns\n",
    "import matplotlib.pyplot as plt\n",
    "#sns.boxplot(random_forest_radiomic_features_melanoma)\n",
    "plt.figure(figsize=(16, 8))\n",
    "plt.boxplot(data_list)\n",
    "plt.title('RF RESULTS')\n",
    "plt.xlabel('CLASSES')\n",
    "plt.ylabel('AUC')\n",
    "plt.xticks(ticks=range(1, len(data_list) + 1), labels=['Melanoma_A&S', 'Melanoma_RaFe', 'Melanoma_ALL', 'Lung_A&S', 'Lung_RaFe', 'Lung_ALL', 'Breast_A&S','Breast_RaFe', 'Breast_ALL'])  # Customize x-axis labels\n",
    "desired_y_ticks = [0.1, 0.15, 0.2,0.25, 0.3, 0.35,0.4, 0.45,0.5, 0.55,0.6, 0.65, 0.7, 0.75, 0.8, 0.85 ,0.9]  # Adjust as needed\n",
    "plt.yticks(desired_y_ticks)"
   ],
   "metadata": {
    "collapsed": false,
    "ExecuteTime": {
     "start_time": "2023-08-18T13:21:53.459054Z",
     "end_time": "2023-08-18T13:21:53.948410Z"
    }
   }
  },
  {
   "cell_type": "code",
   "execution_count": 91,
   "outputs": [
    {
     "data": {
      "text/plain": "<Figure size 1600x800 with 3 Axes>",
      "image/png": "[encoded data removed]"
     },
     "metadata": {},
     "output_type": "display_data"
    }
   ],
   "source": [
    "import seaborn as sns\n",
    "import matplotlib.pyplot as plt\n",
    "# Create a figure with two subplots\n",
    "fig, (ax1, ax2, ax3) = plt.subplots(1, 3, figsize=(16, 8))\n",
    "\n",
    "# Plot the first three boxplots in the first subplot\n",
    "sns.boxplot(data=data_list[:3], ax=ax1)\n",
    "ax1.set_title('RF RESULTS - Melanoma')\n",
    "ax1.set_xlabel('CLASSES')\n",
    "ax1.set_ylabel('AUC')\n",
    "ax1.set_xticklabels(['A&S', 'RaFe', 'ALL'])\n",
    "\n",
    "# Plot the next three boxplots in the second subplot\n",
    "sns.boxplot(data=data_list[3:6], ax=ax2)\n",
    "ax2.set_title('RF RESULTS - Lung')\n",
    "ax2.set_xlabel('CLASSES')\n",
    "ax2.set_ylabel('AUC')\n",
    "ax2.set_xticklabels(['A&S', 'RaFe', 'ALL'])\n",
    "\n",
    "sns.boxplot(data=data_list[6:], ax=ax3)\n",
    "ax3.set_title('RF RESULTS - Breast')\n",
    "ax3.set_xlabel('CLASSES')\n",
    "ax3.set_ylabel('AUC')\n",
    "ax3.set_xticklabels(['A&S', 'RaFe', 'ALL'])\n",
    "\n",
    "# Adjust y-axis ticks if needed\n",
    "desired_y_ticks = [0.1, 0.15, 0.2, 0.25, 0.3, 0.35, 0.4, 0.45, 0.5, 0.55, 0.6, 0.65, 0.7, 0.75, 0.8, 0.85, 0.9]\n",
    "ax1.set_yticks(desired_y_ticks)\n",
    "ax2.set_yticks(desired_y_ticks)\n",
    "ax3.set_yticks(desired_y_ticks)\n",
    "\n",
    "# Adjust layout spacing between subplots\n",
    "plt.tight_layout()\n",
    "\n",
    "# Show the plot\n",
    "plt.show()\n"
   ],
   "metadata": {
    "collapsed": false,
    "ExecuteTime": {
     "start_time": "2023-08-18T13:31:16.322782Z",
     "end_time": "2023-08-18T13:31:16.917824Z"
    }
   }
  },
  {
   "cell_type": "code",
   "execution_count": 92,
   "outputs": [
    {
     "data": {
      "text/plain": "[[0.7478354978354979,\n  0.5562770562770563,\n  0.7326839826839826,\n  0.5183982683982683,\n  0.683982683982684,\n  0.7425373134328358,\n  0.5411255411255411,\n  0.762987012987013,\n  0.683982683982684,\n  0.5411255411255411,\n  0.6915584415584416,\n  0.781094527363184,\n  0.6352813852813852,\n  0.683982683982684,\n  0.7067099567099567,\n  0.7402597402597403,\n  0.8982683982683983,\n  0.6368159203980099,\n  0.6688311688311688,\n  0.5638528138528138,\n  0.6915584415584416,\n  0.7781385281385281,\n  0.6125541125541125,\n  0.8034825870646766,\n  0.6612554112554112,\n  0.604978354978355,\n  0.683982683982684,\n  0.7099567099567099,\n  0.762987012987013,\n  0.75,\n  0.6688311688311688,\n  0.683982683982684,\n  0.6277056277056277,\n  0.8603896103896104,\n  0.6764069264069265,\n  0.7276119402985074],\n [0.7694805194805195,\n  0.645021645021645,\n  0.8333333333333334,\n  0.4913419913419913,\n  0.6980519480519481,\n  0.7437810945273631,\n  0.5703463203463204,\n  0.6374458874458875,\n  0.7283549783549784,\n  0.6645021645021645,\n  0.7132034632034633,\n  0.6691542288557213,\n  0.6190476190476191,\n  0.5854978354978355,\n  0.461038961038961,\n  0.7619047619047621,\n  0.7997835497835498,\n  0.5559701492537313,\n  0.5930735930735931,\n  0.7543290043290043,\n  0.6038961038961039,\n  0.6677489177489178,\n  0.7359307359307359,\n  0.7002487562189056,\n  0.6525974025974026,\n  0.6038961038961039,\n  0.6645021645021645,\n  0.6980519480519481,\n  0.7435064935064934,\n  0.6007462686567164,\n  0.4913419913419913,\n  0.5400432900432901,\n  0.6980519480519481,\n  0.6266233766233766,\n  0.8528138528138529,\n  0.5485074626865671],\n [0.8376623376623377,\n  0.6082251082251082,\n  0.867965367965368,\n  0.48051948051948046,\n  0.6385281385281385,\n  0.6293532338308457,\n  0.5595238095238095,\n  0.773809523809524,\n  0.683982683982684,\n  0.6385281385281385,\n  0.6309523809523809,\n  0.8271144278606966,\n  0.672077922077922,\n  0.7099567099567099,\n  0.4956709956709957,\n  0.773809523809524,\n  0.8528138528138529,\n  0.6455223880597016,\n  0.5670995670995671,\n  0.7099567099567099,\n  0.7207792207792209,\n  0.4426406926406926,\n  0.788961038961039,\n  0.8196517412935324,\n  0.6569264069264069,\n  0.7099567099567099,\n  0.7099567099567099,\n  0.5595238095238095,\n  0.6461038961038962,\n  0.7437810945273631,\n  0.788961038961039,\n  0.6569264069264069,\n  0.5595238095238095,\n  0.6948051948051948,\n  0.7251082251082251,\n  0.5087064676616916],\n [0.6798245614035089,\n  0.6798245614035089,\n  0.6245283018867924,\n  0.46792452830188674,\n  0.6778301886792453,\n  0.7387914230019493,\n  0.6364522417153996,\n  0.7665692007797271,\n  0.7433962264150944,\n  0.7028301886792453,\n  0.7650943396226415,\n  0.7495126705653021,\n  0.6193957115009747,\n  0.7417153996101364,\n  0.6933962264150944,\n  0.7617924528301887,\n  0.7806603773584906,\n  0.7246588693957114,\n  0.6954191033138402,\n  0.665692007797271,\n  0.6372641509433963,\n  0.6561320754716982,\n  0.5495283018867925,\n  0.7353801169590644,\n  0.597953216374269,\n  0.611598440545809,\n  0.5745283018867925,\n  0.5617924528301887,\n  0.6716981132075472,\n  0.6549707602339181,\n  0.6057504873294348,\n  0.6535087719298246,\n  0.6466981132075471,\n  0.7212264150943397,\n  0.6056603773584905,\n  0.7694931773879142],\n [0.6296296296296297,\n  0.5584795321637427,\n  0.5665094339622642,\n  0.5820754716981132,\n  0.625943396226415,\n  0.5969785575048733,\n  0.621832358674464,\n  0.5847953216374271,\n  0.5886792452830188,\n  0.629245283018868,\n  0.6636792452830188,\n  0.5414230019493177,\n  0.5414230019493177,\n  0.49951267056530213,\n  0.45047169811320753,\n  0.49764150943396224,\n  0.6165094339622641,\n  0.5165692007797271,\n  0.6247563352826511,\n  0.6125730994152047,\n  0.4693396226415094,\n  0.5820754716981132,\n  0.5853773584905659,\n  0.5073099415204678,\n  0.5940545808966862,\n  0.5477582846003899,\n  0.5443396226415095,\n  0.5382075471698112,\n  0.5882075471698113,\n  0.4731968810916179,\n  0.5614035087719298,\n  0.5599415204678362,\n  0.49433962264150944,\n  0.5665094339622642,\n  0.6731132075471699,\n  0.42690058479532167],\n [0.7344054580896685,\n  0.6291423001949318,\n  0.6985849056603773,\n  0.6363207547169811,\n  0.6863207547169812,\n  0.6198830409356726,\n  0.7373294346978558,\n  0.689571150097466,\n  0.6773584905660377,\n  0.6547169811320755,\n  0.72688679245283,\n  0.644736842105263,\n  0.6539961013645225,\n  0.6569200779727096,\n  0.6080188679245283,\n  0.6136792452830188,\n  0.7330188679245283,\n  0.672514619883041,\n  0.7251461988304093,\n  0.7080896686159843,\n  0.6518867924528301,\n  0.5731132075471699,\n  0.7141509433962264,\n  0.7251461988304093,\n  0.6632553606237818,\n  0.692495126705653,\n  0.6231132075471698,\n  0.5863207547169812,\n  0.6797169811320756,\n  0.6988304093567251,\n  0.6832358674463939,\n  0.6803118908382066,\n  0.5891509433962264,\n  0.6641509433962264,\n  0.7174528301886793,\n  0.5657894736842105],\n [0.7172131147540984,\n  0.76775956284153,\n  0.4583333333333333,\n  0.5102564102564102,\n  0.6756410256410256,\n  0.8147435897435897,\n  0.6591530054644809,\n  0.8510928961748634,\n  0.7826923076923076,\n  0.744230769230769,\n  0.8262820512820511,\n  0.8211538461538461,\n  0.6591530054644809,\n  0.8422131147540984,\n  0.7275641025641025,\n  0.7794871794871795,\n  0.7961538461538461,\n  0.7743589743589744,\n  0.8176229508196722,\n  0.7418032786885245,\n  0.6455128205128204,\n  0.607051282051282,\n  0.5820512820512821,\n  0.6455128205128204,\n  0.6844262295081968,\n  0.6666666666666666,\n  0.5352564102564101,\n  0.5987179487179487,\n  0.6538461538461539,\n  0.6423076923076924,\n  0.6516393442622952,\n  0.7090163934426229,\n  0.6839743589743589,\n  0.7057692307692308,\n  0.6038461538461539,\n  0.8294871794871794],\n [0.7862021857923498,\n  0.6857923497267759,\n  0.5641025641025642,\n  0.7230769230769232,\n  0.6711538461538462,\n  0.7230769230769232,\n  0.7698087431693988,\n  0.7356557377049181,\n  0.6025641025641026,\n  0.6544871794871795,\n  0.7814102564102565,\n  0.6160256410256411,\n  0.694672131147541,\n  0.6530054644808744,\n  0.7314102564102565,\n  0.5557692307692308,\n  0.7782051282051281,\n  0.7294871794871794,\n  0.7609289617486339,\n  0.7691256830601094,\n  0.6711538461538462,\n  0.6961538461538461,\n  0.7948717948717949,\n  0.5756410256410255,\n  0.6277322404371586,\n  0.8032786885245902,\n  0.6730769230769231,\n  0.6076923076923078,\n  0.7282051282051282,\n  0.610897435897436,\n  0.6612021857923498,\n  0.7110655737704918,\n  0.6461538461538461,\n  0.7647435897435898,\n  0.6762820512820512,\n  0.6743589743589744],\n [0.8183060109289618,\n  0.7930327868852459,\n  0.6961538461538461,\n  0.7544871794871795,\n  0.7378205128205128,\n  0.7647435897435898,\n  0.8927595628415299,\n  0.7937158469945356,\n  0.7243589743589745,\n  0.7262820512820513,\n  0.8147435897435897,\n  0.7128205128205128,\n  0.7684426229508197,\n  0.7930327868852459,\n  0.7596153846153846,\n  0.6846153846153846,\n  0.8532051282051282,\n  0.8314102564102563,\n  0.8107923497267759,\n  0.7937158469945356,\n  0.7275641025641025,\n  0.7730769230769231,\n  0.8666666666666667,\n  0.7294871794871794,\n  0.7431693989071038,\n  0.7431693989071038,\n  0.7698717948717949,\n  0.5839743589743589,\n  0.85,\n  0.8615384615384616,\n  0.7349726775956283,\n  0.7766393442622951,\n  0.7596153846153846,\n  0.8064102564102564,\n  0.7897435897435898,\n  0.7814102564102565]]"
     },
     "execution_count": 92,
     "metadata": {},
     "output_type": "execute_result"
    }
   ],
   "source": [
    "data_list"
   ],
   "metadata": {
    "collapsed": false,
    "ExecuteTime": {
     "start_time": "2023-08-18T13:31:38.030262Z",
     "end_time": "2023-08-18T13:31:38.069899Z"
    }
   }
  },
  {
   "cell_type": "code",
   "execution_count": null,
   "outputs": [],
   "source": [],
   "metadata": {
    "collapsed": false
   }
  },
  {
   "cell_type": "code",
   "execution_count": null,
   "outputs": [],
   "source": [],
   "metadata": {
    "collapsed": false
   }
  },
  {
   "cell_type": "markdown",
   "source": [
    "## LinearSVM"
   ],
   "metadata": {
    "collapsed": false
   }
  },
  {
   "cell_type": "code",
   "execution_count": 192,
   "outputs": [],
   "source": [
    "pipelines = {\n",
    "    #'rf': imbpipeline([('smoteen', SMOTEENN(random_state=0)),\n",
    "                       #('clf', RandomForestClassifier(random_state=0, class_weight=\"balanced\"))]),\n",
    "    'svc': imbpipeline([('smoteen', SMOTEENN(random_state=0)),\n",
    "                        ('clf', CalibratedClassifierCV(LinearSVC(multi_class='ovr', random_state=0, class_weight=\"balanced\")))])\n",
    "    }\n",
    "\n",
    "param_grids = {\n",
    "    #'rf': {'clf__n_estimators': [100, 250, 1000, 3500]},\n",
    "    'svc': {'clf__base_estimator__C': [0.1, 1, 10], 'clf__base_estimator__max_iter': [10000, 20000]}\n",
    "}\n",
    "\n",
    "cv_outer = RepeatedStratifiedKFold(n_splits=6, n_repeats=6, random_state=seed)"
   ],
   "metadata": {
    "collapsed": false,
    "ExecuteTime": {
     "start_time": "2023-08-18T22:08:37.016924Z",
     "end_time": "2023-08-18T22:08:37.512686Z"
    }
   }
  },
  {
   "cell_type": "markdown",
   "source": [
    "## Age and sex"
   ],
   "metadata": {
    "collapsed": false
   }
  },
  {
   "cell_type": "code",
   "execution_count": 199,
   "outputs": [
    {
     "data": {
      "text/plain": "                Age  F  M\nsubjid   label           \nOslo01   1       58  0  1\n         2       58  0  1\nOslo02   4       50  1  0\n         5       50  1  0\nOslo03   1       64  0  1\n...             ... .. ..\nStan_328 1       53  0  1\n         8       53  0  1\n         11      53  0  1\n         12      53  0  1\nStan_338 4       42  1  0\n\n[438 rows x 3 columns]",
      "text/html": "<div>\n<style scoped>\n    .dataframe tbody tr th:only-of-type {\n        vertical-align: middle;\n    }\n\n    .dataframe tbody tr th {\n        vertical-align: top;\n    }\n\n    .dataframe thead th {\n        text-align: right;\n    }\n</style>\n<table border=\"1\" class=\"dataframe\">\n  <thead>\n    <tr style=\"text-align: right;\">\n      <th></th>\n      <th></th>\n      <th>Age</th>\n      <th>F</th>\n      <th>M</th>\n    </tr>\n    <tr>\n      <th>subjid</th>\n      <th>label</th>\n      <th></th>\n      <th></th>\n      <th></th>\n    </tr>\n  </thead>\n  <tbody>\n    <tr>\n      <th rowspan=\"2\" valign=\"top\">Oslo01</th>\n      <th>1</th>\n      <td>58</td>\n      <td>0</td>\n      <td>1</td>\n    </tr>\n    <tr>\n      <th>2</th>\n      <td>58</td>\n      <td>0</td>\n      <td>1</td>\n    </tr>\n    <tr>\n      <th rowspan=\"2\" valign=\"top\">Oslo02</th>\n      <th>4</th>\n      <td>50</td>\n      <td>1</td>\n      <td>0</td>\n    </tr>\n    <tr>\n      <th>5</th>\n      <td>50</td>\n      <td>1</td>\n      <td>0</td>\n    </tr>\n    <tr>\n      <th>Oslo03</th>\n      <th>1</th>\n      <td>64</td>\n      <td>0</td>\n      <td>1</td>\n    </tr>\n    <tr>\n      <th>...</th>\n      <th>...</th>\n      <td>...</td>\n      <td>...</td>\n      <td>...</td>\n    </tr>\n    <tr>\n      <th rowspan=\"4\" valign=\"top\">Stan_328</th>\n      <th>1</th>\n      <td>53</td>\n      <td>0</td>\n      <td>1</td>\n    </tr>\n    <tr>\n      <th>8</th>\n      <td>53</td>\n      <td>0</td>\n      <td>1</td>\n    </tr>\n    <tr>\n      <th>11</th>\n      <td>53</td>\n      <td>0</td>\n      <td>1</td>\n    </tr>\n    <tr>\n      <th>12</th>\n      <td>53</td>\n      <td>0</td>\n      <td>1</td>\n    </tr>\n    <tr>\n      <th>Stan_338</th>\n      <th>4</th>\n      <td>42</td>\n      <td>1</td>\n      <td>0</td>\n    </tr>\n  </tbody>\n</table>\n<p>438 rows × 3 columns</p>\n</div>"
     },
     "execution_count": 199,
     "metadata": {},
     "output_type": "execute_result"
    }
   ],
   "source": [
    "X_sex_age"
   ],
   "metadata": {
    "collapsed": false,
    "ExecuteTime": {
     "start_time": "2023-08-18T22:11:42.260898Z",
     "end_time": "2023-08-18T22:11:42.313515Z"
    }
   }
  },
  {
   "cell_type": "code",
   "execution_count": 97,
   "outputs": [
    {
     "name": "stdout",
     "output_type": "stream",
     "text": [
      "Pipeline(steps=[('smoteen', SMOTEENN(random_state=0)),\n",
      "                ('clf',\n",
      "                 CalibratedClassifierCV(estimator=LinearSVC(C=1,\n",
      "                                                            class_weight='balanced',\n",
      "                                                            max_iter=10000,\n",
      "                                                            random_state=0)))])\n",
      "Auc Score 0.5030956019236146\n",
      "Auc Score OvR {0: 0.5183982683982683, 1: 0.44785575048732945, 2: 0.5430327868852459}\n",
      "Pipeline(steps=[('smoteen', SMOTEENN(random_state=0)),\n",
      "                ('clf',\n",
      "                 CalibratedClassifierCV(estimator=LinearSVC(C=10,\n",
      "                                                            class_weight='balanced',\n",
      "                                                            max_iter=20000,\n",
      "                                                            random_state=0)))])\n",
      "Auc Score 0.5568350763202647\n",
      "Auc Score OvR {0: 0.683982683982684, 1: 0.5097465886939572, 2: 0.47677595628415304}\n",
      "Pipeline(steps=[('smoteen', SMOTEENN(random_state=0)),\n",
      "                ('clf',\n",
      "                 CalibratedClassifierCV(estimator=LinearSVC(C=10,\n",
      "                                                            class_weight='balanced',\n",
      "                                                            max_iter=20000,\n",
      "                                                            random_state=0)))])\n",
      "Auc Score 0.5524914289065231\n",
      "Auc Score OvR {0: 0.5292207792207791, 1: 0.4891509433962264, 2: 0.6391025641025642}\n",
      "Pipeline(steps=[('smoteen', SMOTEENN(random_state=0)),\n",
      "                ('clf',\n",
      "                 CalibratedClassifierCV(estimator=LinearSVC(C=10,\n",
      "                                                            class_weight='balanced',\n",
      "                                                            max_iter=20000,\n",
      "                                                            random_state=0)))])\n",
      "Auc Score 0.4614218590633685\n",
      "Auc Score OvR {0: 0.41233766233766234, 1: 0.40141509433962264, 2: 0.5705128205128206}\n",
      "Pipeline(steps=[('smoteen', SMOTEENN(random_state=0)),\n",
      "                ('clf',\n",
      "                 CalibratedClassifierCV(estimator=LinearSVC(C=0.1,\n",
      "                                                            class_weight='balanced',\n",
      "                                                            max_iter=20000,\n",
      "                                                            random_state=0)))])\n",
      "Auc Score 0.4697767117578438\n",
      "Auc Score OvR {0: 0.5324675324675324, 1: 0.36981132075471695, 2: 0.507051282051282}\n",
      "Pipeline(steps=[('smoteen', SMOTEENN(random_state=0)),\n",
      "                ('clf',\n",
      "                 CalibratedClassifierCV(estimator=LinearSVC(C=10,\n",
      "                                                            class_weight='balanced',\n",
      "                                                            max_iter=20000,\n",
      "                                                            random_state=0)))])\n",
      "Auc Score 0.5962832038637224\n",
      "Auc Score OvR {0: 0.5385572139303483, 1: 0.5336257309941521, 2: 0.7166666666666667}\n",
      "Pipeline(steps=[('smoteen', SMOTEENN(random_state=0)),\n",
      "                ('clf',\n",
      "                 CalibratedClassifierCV(estimator=LinearSVC(C=10,\n",
      "                                                            class_weight='balanced',\n",
      "                                                            max_iter=20000,\n",
      "                                                            random_state=0)))])\n",
      "Auc Score 0.40912466351062843\n",
      "Auc Score OvR {0: 0.40476190476190477, 1: 0.3226120857699805, 2: 0.5}\n",
      "Pipeline(steps=[('smoteen', SMOTEENN(random_state=0)),\n",
      "                ('clf',\n",
      "                 CalibratedClassifierCV(estimator=LinearSVC(C=10,\n",
      "                                                            class_weight='balanced',\n",
      "                                                            max_iter=10000,\n",
      "                                                            random_state=0)))])\n",
      "Auc Score 0.5615905068737971\n",
      "Auc Score OvR {0: 0.5259740259740259, 1: 0.47027290448343084, 2: 0.6885245901639344}\n",
      "Pipeline(steps=[('smoteen', SMOTEENN(random_state=0)),\n",
      "                ('clf',\n",
      "                 CalibratedClassifierCV(estimator=LinearSVC(C=0.1,\n",
      "                                                            class_weight='balanced',\n",
      "                                                            max_iter=10000,\n",
      "                                                            random_state=0)))])\n",
      "Auc Score 0.6276542116164757\n",
      "Auc Score OvR {0: 0.5638528138528138, 1: 0.6146226415094339, 2: 0.7044871794871794}\n",
      "Pipeline(steps=[('smoteen', SMOTEENN(random_state=0)),\n",
      "                ('clf',\n",
      "                 CalibratedClassifierCV(estimator=LinearSVC(C=0.1,\n",
      "                                                            class_weight='balanced',\n",
      "                                                            max_iter=20000,\n",
      "                                                            random_state=0)))])\n",
      "Auc Score 0.5476669556858237\n",
      "Auc Score OvR {0: 0.6493506493506493, 1: 0.455188679245283, 2: 0.5384615384615384}\n",
      "Pipeline(steps=[('smoteen', SMOTEENN(random_state=0)),\n",
      "                ('clf',\n",
      "                 CalibratedClassifierCV(estimator=LinearSVC(C=10,\n",
      "                                                            class_weight='balanced',\n",
      "                                                            max_iter=20000,\n",
      "                                                            random_state=0)))])\n",
      "Auc Score 0.5625738517247951\n",
      "Auc Score OvR {0: 0.45454545454545453, 1: 0.5165094339622641, 2: 0.7166666666666667}\n",
      "Pipeline(steps=[('smoteen', SMOTEENN(random_state=0)),\n",
      "                ('clf',\n",
      "                 CalibratedClassifierCV(estimator=LinearSVC(C=10,\n",
      "                                                            class_weight='balanced',\n",
      "                                                            max_iter=10000,\n",
      "                                                            random_state=0)))])\n",
      "Auc Score 0.5788787170758891\n",
      "Auc Score OvR {0: 0.7139303482587064, 1: 0.4605263157894737, 2: 0.5621794871794872}\n",
      "Pipeline(steps=[('smoteen', SMOTEENN(random_state=0)),\n",
      "                ('clf',\n",
      "                 CalibratedClassifierCV(estimator=LinearSVC(C=10,\n",
      "                                                            class_weight='balanced',\n",
      "                                                            max_iter=20000,\n",
      "                                                            random_state=0)))])\n",
      "Auc Score 0.6584949499099629\n",
      "Auc Score OvR {0: 0.6536796536796537, 1: 0.5950292397660819, 2: 0.7267759562841529}\n",
      "Pipeline(steps=[('smoteen', SMOTEENN(random_state=0)),\n",
      "                ('clf',\n",
      "                 CalibratedClassifierCV(estimator=LinearSVC(C=1,\n",
      "                                                            class_weight='balanced',\n",
      "                                                            max_iter=20000,\n",
      "                                                            random_state=0)))])\n",
      "Auc Score 0.6195093386997327\n",
      "Auc Score OvR {0: 0.5443722943722943, 1: 0.5443469785575049, 2: 0.7698087431693988}\n",
      "Pipeline(steps=[('smoteen', SMOTEENN(random_state=0)),\n",
      "                ('clf',\n",
      "                 CalibratedClassifierCV(estimator=LinearSVC(C=1,\n",
      "                                                            class_weight='balanced',\n",
      "                                                            max_iter=10000,\n",
      "                                                            random_state=0)))])\n",
      "Auc Score 0.5259199395991848\n",
      "Auc Score OvR {0: 0.4621212121212121, 1: 0.5367924528301887, 2: 0.5788461538461539}\n",
      "Pipeline(steps=[('smoteen', SMOTEENN(random_state=0)),\n",
      "                ('clf',\n",
      "                 CalibratedClassifierCV(estimator=LinearSVC(C=1,\n",
      "                                                            class_weight='balanced',\n",
      "                                                            max_iter=10000,\n",
      "                                                            random_state=0)))])\n",
      "Auc Score 0.7036147290864273\n",
      "Auc Score OvR {0: 0.6612554112554112, 1: 0.6547169811320755, 2: 0.7948717948717949}\n",
      "Pipeline(steps=[('smoteen', SMOTEENN(random_state=0)),\n",
      "                ('clf',\n",
      "                 CalibratedClassifierCV(estimator=LinearSVC(C=1,\n",
      "                                                            class_weight='balanced',\n",
      "                                                            max_iter=10000,\n",
      "                                                            random_state=0)))])\n",
      "Auc Score 0.6843724409762145\n",
      "Auc Score OvR {0: 0.7922077922077921, 1: 0.5410377358490566, 2: 0.7198717948717949}\n",
      "Pipeline(steps=[('smoteen', SMOTEENN(random_state=0)),\n",
      "                ('clf',\n",
      "                 CalibratedClassifierCV(estimator=LinearSVC(C=10,\n",
      "                                                            class_weight='balanced',\n",
      "                                                            max_iter=10000,\n",
      "                                                            random_state=0)))])\n",
      "Auc Score 0.4940699486523001\n",
      "Auc Score OvR {0: 0.48631840796019904, 1: 0.48050682261208577, 2: 0.5153846153846154}\n",
      "Pipeline(steps=[('smoteen', SMOTEENN(random_state=0)),\n",
      "                ('clf',\n",
      "                 CalibratedClassifierCV(estimator=LinearSVC(C=10,\n",
      "                                                            class_weight='balanced',\n",
      "                                                            max_iter=20000,\n",
      "                                                            random_state=0)))])\n",
      "Auc Score 0.5248888697982744\n",
      "Auc Score OvR {0: 0.5443722943722943, 1: 0.4619883040935673, 2: 0.5683060109289617}\n",
      "Pipeline(steps=[('smoteen', SMOTEENN(random_state=0)),\n",
      "                ('clf',\n",
      "                 CalibratedClassifierCV(estimator=LinearSVC(C=1,\n",
      "                                                            class_weight='balanced',\n",
      "                                                            max_iter=20000,\n",
      "                                                            random_state=0)))])\n",
      "Auc Score 0.4866206783448659\n",
      "Auc Score OvR {0: 0.5216450216450216, 1: 0.4293372319688109, 2: 0.5088797814207651}\n",
      "Pipeline(steps=[('smoteen', SMOTEENN(random_state=0)),\n",
      "                ('clf',\n",
      "                 CalibratedClassifierCV(estimator=LinearSVC(C=1,\n",
      "                                                            class_weight='balanced',\n",
      "                                                            max_iter=10000,\n",
      "                                                            random_state=0)))])\n",
      "Auc Score 0.5918460470347263\n",
      "Auc Score OvR {0: 0.6948051948051948, 1: 0.5018867924528302, 2: 0.5788461538461539}\n",
      "Pipeline(steps=[('smoteen', SMOTEENN(random_state=0)),\n",
      "                ('clf',\n",
      "                 CalibratedClassifierCV(estimator=LinearSVC(C=10,\n",
      "                                                            class_weight='balanced',\n",
      "                                                            max_iter=10000,\n",
      "                                                            random_state=0)))])\n",
      "Auc Score 0.5143755615453728\n",
      "Auc Score OvR {0: 0.5714285714285714, 1: 0.4966981132075472, 2: 0.475}\n",
      "Pipeline(steps=[('smoteen', SMOTEENN(random_state=0)),\n",
      "                ('clf',\n",
      "                 CalibratedClassifierCV(estimator=LinearSVC(C=1,\n",
      "                                                            class_weight='balanced',\n",
      "                                                            max_iter=10000,\n",
      "                                                            random_state=0)))])\n",
      "Auc Score 0.5302452788301845\n",
      "Auc Score OvR {0: 0.6645021645021645, 1: 0.4108490566037736, 2: 0.5153846153846154}\n",
      "Pipeline(steps=[('smoteen', SMOTEENN(random_state=0)),\n",
      "                ('clf',\n",
      "                 CalibratedClassifierCV(estimator=LinearSVC(C=0.1,\n",
      "                                                            class_weight='balanced',\n",
      "                                                            max_iter=20000,\n",
      "                                                            random_state=0)))])\n",
      "Auc Score 0.6217361796505552\n",
      "Auc Score OvR {0: 0.7736318407960199, 1: 0.5409356725146199, 2: 0.5506410256410257}\n",
      "Pipeline(steps=[('smoteen', SMOTEENN(random_state=0)),\n",
      "                ('clf',\n",
      "                 CalibratedClassifierCV(estimator=LinearSVC(C=10,\n",
      "                                                            class_weight='balanced',\n",
      "                                                            max_iter=10000,\n",
      "                                                            random_state=0)))])\n",
      "Auc Score 0.5467148372670374\n",
      "Auc Score OvR {0: 0.5443722943722943, 1: 0.4605263157894737, 2: 0.6352459016393441}\n",
      "Pipeline(steps=[('smoteen', SMOTEENN(random_state=0)),\n",
      "                ('clf',\n",
      "                 CalibratedClassifierCV(estimator=LinearSVC(C=0.1,\n",
      "                                                            class_weight='balanced',\n",
      "                                                            max_iter=20000,\n",
      "                                                            random_state=0)))])\n",
      "Auc Score 0.4844223352995283\n",
      "Auc Score OvR {0: 0.5887445887445888, 1: 0.3645224171539961, 2: 0.5}\n",
      "Pipeline(steps=[('smoteen', SMOTEENN(random_state=0)),\n",
      "                ('clf',\n",
      "                 CalibratedClassifierCV(estimator=LinearSVC(C=10,\n",
      "                                                            class_weight='balanced',\n",
      "                                                            max_iter=10000,\n",
      "                                                            random_state=0)))])\n",
      "Auc Score 0.47985389872182327\n",
      "Auc Score OvR {0: 0.5854978354978355, 1: 0.3886792452830189, 2: 0.4653846153846154}\n",
      "Pipeline(steps=[('smoteen', SMOTEENN(random_state=0)),\n",
      "                ('clf',\n",
      "                 CalibratedClassifierCV(estimator=LinearSVC(C=10,\n",
      "                                                            class_weight='balanced',\n",
      "                                                            max_iter=10000,\n",
      "                                                            random_state=0)))])\n",
      "Auc Score 0.5818271351290218\n",
      "Auc Score OvR {0: 0.672077922077922, 1: 0.5580188679245283, 2: 0.5153846153846154}\n",
      "Pipeline(steps=[('smoteen', SMOTEENN(random_state=0)),\n",
      "                ('clf',\n",
      "                 CalibratedClassifierCV(estimator=LinearSVC(C=10,\n",
      "                                                            class_weight='balanced',\n",
      "                                                            max_iter=20000,\n",
      "                                                            random_state=0)))])\n",
      "Auc Score 0.48447899061106603\n",
      "Auc Score OvR {0: 0.5183982683982683, 1: 0.4363207547169811, 2: 0.4987179487179487}\n",
      "Pipeline(steps=[('smoteen', SMOTEENN(random_state=0)),\n",
      "                ('clf',\n",
      "                 CalibratedClassifierCV(estimator=LinearSVC(C=10,\n",
      "                                                            class_weight='balanced',\n",
      "                                                            max_iter=20000,\n",
      "                                                            random_state=0)))])\n",
      "Auc Score 0.6022782884199485\n",
      "Auc Score OvR {0: 0.6293532338308457, 1: 0.5653021442495126, 2: 0.6121794871794871}\n",
      "Pipeline(steps=[('smoteen', SMOTEENN(random_state=0)),\n",
      "                ('clf',\n",
      "                 CalibratedClassifierCV(estimator=LinearSVC(C=1,\n",
      "                                                            class_weight='balanced',\n",
      "                                                            max_iter=20000,\n",
      "                                                            random_state=0)))])\n",
      "Auc Score 0.579716924230873\n",
      "Auc Score OvR {0: 0.683982683982684, 1: 0.5531189083820662, 2: 0.5020491803278688}\n",
      "Pipeline(steps=[('smoteen', SMOTEENN(random_state=0)),\n",
      "                ('clf',\n",
      "                 CalibratedClassifierCV(estimator=LinearSVC(C=0.1,\n",
      "                                                            class_weight='balanced',\n",
      "                                                            max_iter=10000,\n",
      "                                                            random_state=0)))])\n",
      "Auc Score 0.6180560483839173\n",
      "Auc Score OvR {0: 0.5854978354978355, 1: 0.5555555555555556, 2: 0.7131147540983607}\n",
      "Pipeline(steps=[('smoteen', SMOTEENN(random_state=0)),\n",
      "                ('clf',\n",
      "                 CalibratedClassifierCV(estimator=LinearSVC(C=10,\n",
      "                                                            class_weight='balanced',\n",
      "                                                            max_iter=10000,\n",
      "                                                            random_state=0)))])\n",
      "Auc Score 0.5570021697380189\n",
      "Auc Score OvR {0: 0.45454545454545453, 1: 0.5523584905660378, 2: 0.6641025641025642}\n",
      "Pipeline(steps=[('smoteen', SMOTEENN(random_state=0)),\n",
      "                ('clf',\n",
      "                 CalibratedClassifierCV(estimator=LinearSVC(C=0.1,\n",
      "                                                            class_weight='balanced',\n",
      "                                                            max_iter=10000,\n",
      "                                                            random_state=0)))])\n",
      "Auc Score 0.540604259472184\n",
      "Auc Score OvR {0: 0.6677489177489178, 1: 0.41367924528301886, 2: 0.5403846153846155}\n",
      "Pipeline(steps=[('smoteen', SMOTEENN(random_state=0)),\n",
      "                ('clf',\n",
      "                 CalibratedClassifierCV(estimator=LinearSVC(C=10,\n",
      "                                                            class_weight='balanced',\n",
      "                                                            max_iter=20000,\n",
      "                                                            random_state=0)))])\n",
      "Auc Score 0.5374674591655724\n",
      "Auc Score OvR {0: 0.5595238095238095, 1: 0.4419811320754717, 2: 0.610897435897436}\n",
      "Pipeline(steps=[('smoteen', SMOTEENN(random_state=0)),\n",
      "                ('clf',\n",
      "                 CalibratedClassifierCV(estimator=LinearSVC(C=1,\n",
      "                                                            class_weight='balanced',\n",
      "                                                            max_iter=20000,\n",
      "                                                            random_state=0)))])\n",
      "Auc Score 0.49158274081683345\n",
      "Auc Score OvR {0: 0.5783582089552238, 1: 0.3508771929824561, 2: 0.5455128205128205}\n"
     ]
    }
   ],
   "source": [
    "# Store the scores and metrics\n",
    "scores_svc = {'acc': [], 'SD_acc': [], 'CI_acc': [], 'auc_tot': [], 'SD_auc_tot': [], 'CI_auc_tot': [], 'auc_class': [], 'SD_auc_class': [], 'CI_auc_class': [], 'Sen_mean': [], 'Sen_CI': [], 'Sen_SD': [], 'Spe_mean': [], 'Spe_CI': [], 'Spe_sd': []}\n",
    "\n",
    "\n",
    "for name, pipeline in pipelines.items():\n",
    "    # Initialize lists to store scores for each fold\n",
    "    fold_acc = []\n",
    "    fold_auc_tot = []\n",
    "    fold_auc_class_3 = []\n",
    "    sensi = []\n",
    "    speci = []\n",
    "    features = []\n",
    "    p_value = []\n",
    "    feat = []\n",
    "    value = []\n",
    "    for train_index, test_index in cv_outer.split(X_sex_age, y):\n",
    "        X_train_new, X_test_new = X_sex_age.iloc[train_index], X_sex_age.iloc[test_index]\n",
    "        y_train, y_test = y.iloc[train_index], y.iloc[test_index]\n",
    "\n",
    "        cv_inner = RepeatedStratifiedKFold(n_splits=4, n_repeats=4, random_state=seed)\n",
    "        grid_search = GridSearchCV(pipeline, param_grids[name], cv=cv_inner, scoring='roc_auc_ovr', error_score=\"raise\")\n",
    "        grid_search.fit(X_train_new, y_train)\n",
    "        clf = grid_search.best_estimator_\n",
    "        print(clf)\n",
    "        clf.fit(X_train_new, y_train)\n",
    "        y_pred = clf.predict(X_test_new)\n",
    "        accuracy = accuracy_score(y_test, y_pred)\n",
    "        num_classes = len(np.unique(y_test))\n",
    "        cm = confusion_matrix(y_test, y_pred)\n",
    "        specificity = calculate_specificity(cm)\n",
    "        sensitivity = calculate_sensitivity(cm)\n",
    "        # Print the results\n",
    "        accuracy = accuracy_score(y_test, y_pred)\n",
    "        fold_acc.append(accuracy)\n",
    "\n",
    "        # Calculate AUC score\n",
    "        auc_tot = multiclass_roc_auc_score(y_test, y_pred)\n",
    "        fold_auc_tot.append(auc_tot)\n",
    "\n",
    "        auc_class = class_vs_rest_roc_auc_score(y_test, y_pred)\n",
    "        fold_auc_class_3.append(auc_class)\n",
    "\n",
    "        speci.append(specificity)\n",
    "        sensi.append(sensitivity)\n",
    "\n",
    "        print('Auc Score', multiclass_roc_auc_score(y_test, y_pred))\n",
    "        print('Auc Score OvR', class_vs_rest_roc_auc_score(y_test, y_pred))\n",
    "    # Calculate average scores across folds\n",
    "    if name == 'svc':\n",
    "        #acc\n",
    "        avg_acc = np.mean(fold_acc)\n",
    "        scores_svc['acc'].append(avg_acc)\n",
    "        scores_svc['acc'] = scores_svc['acc'][-1]\n",
    "        ci = stats.t.interval(confidence, len(fold_acc) - 1, loc=np.mean(fold_acc), scale=stats.sem(fold_acc))\n",
    "        scores_svc['CI_acc'].append(ci)\n",
    "        scores_svc['SD_acc'].append(np.std(fold_acc))\n",
    "\n",
    "        ## AUC tot\n",
    "        avg_auc_tot = np.mean(fold_auc_tot)\n",
    "        scores_svc['auc_tot'].append(avg_auc_tot)\n",
    "        scores_svc['auc_tot'] = scores_svc['auc_tot'][-1]\n",
    "        ci = stats.t.interval(confidence, len(fold_auc_tot) - 1, loc=np.mean(fold_auc_tot), scale=stats.sem(fold_auc_tot))\n",
    "        scores_svc['CI_auc_tot'].append(ci)\n",
    "        scores_svc['SD_auc_tot'].append(np.std(fold_acc))\n",
    "\n",
    "        #auc_class\n",
    "        list_0 = list(d[0] for d in fold_auc_class_3)\n",
    "        list_1 = list(d[1] for d in fold_auc_class_3)\n",
    "        list_2 = list(d[2] for d in fold_auc_class_3)\n",
    "\n",
    "        avg_auc_class = {0: np.mean(list_0), 1: np.mean(list_1), 2: np.mean(list_2)}\n",
    "        scores_svc['auc_class'].append(avg_auc_class)\n",
    "\n",
    "        sd_auc_class = {0: np.std(list_0), 1: np.std(list_1), 2: np.std(list_2)}\n",
    "        scores_svc['SD_auc_class'].append(sd_auc_class)\n",
    "\n",
    "        ci_0 = stats.t.interval(confidence, len(list_0) - 1, loc=np.mean(list_0), scale=stats.sem(list_0))\n",
    "        ci_1 = stats.t.interval(confidence, len(list_1) - 1, loc=np.mean(list_1), scale=stats.sem(list_1))\n",
    "        ci_2 = stats.t.interval(confidence, len(list_2) - 1, loc=np.mean(list_2), scale=stats.sem(list_2))\n",
    "\n",
    "        CI_auc_class = {0: ci_0, 1: ci_1, 2: ci_2}\n",
    "        scores_svc['CI_auc_class'].append(CI_auc_class)"
   ],
   "metadata": {
    "collapsed": false,
    "ExecuteTime": {
     "start_time": "2023-08-18T13:52:10.251490Z",
     "end_time": "2023-08-18T15:09:39.848031Z"
    }
   }
  },
  {
   "cell_type": "code",
   "execution_count": 102,
   "outputs": [
    {
     "data": {
      "text/plain": "[{0: 0.5183982683982683, 1: 0.44785575048732945, 2: 0.5430327868852459},\n {0: 0.683982683982684, 1: 0.5097465886939572, 2: 0.47677595628415304},\n {0: 0.5292207792207791, 1: 0.4891509433962264, 2: 0.6391025641025642},\n {0: 0.41233766233766234, 1: 0.40141509433962264, 2: 0.5705128205128206},\n {0: 0.5324675324675324, 1: 0.36981132075471695, 2: 0.507051282051282},\n {0: 0.5385572139303483, 1: 0.5336257309941521, 2: 0.7166666666666667},\n {0: 0.40476190476190477, 1: 0.3226120857699805, 2: 0.5},\n {0: 0.5259740259740259, 1: 0.47027290448343084, 2: 0.6885245901639344},\n {0: 0.5638528138528138, 1: 0.6146226415094339, 2: 0.7044871794871794},\n {0: 0.6493506493506493, 1: 0.455188679245283, 2: 0.5384615384615384},\n {0: 0.45454545454545453, 1: 0.5165094339622641, 2: 0.7166666666666667},\n {0: 0.7139303482587064, 1: 0.4605263157894737, 2: 0.5621794871794872},\n {0: 0.6536796536796537, 1: 0.5950292397660819, 2: 0.7267759562841529},\n {0: 0.5443722943722943, 1: 0.5443469785575049, 2: 0.7698087431693988},\n {0: 0.4621212121212121, 1: 0.5367924528301887, 2: 0.5788461538461539},\n {0: 0.6612554112554112, 1: 0.6547169811320755, 2: 0.7948717948717949},\n {0: 0.7922077922077921, 1: 0.5410377358490566, 2: 0.7198717948717949},\n {0: 0.48631840796019904, 1: 0.48050682261208577, 2: 0.5153846153846154},\n {0: 0.5443722943722943, 1: 0.4619883040935673, 2: 0.5683060109289617},\n {0: 0.5216450216450216, 1: 0.4293372319688109, 2: 0.5088797814207651},\n {0: 0.6948051948051948, 1: 0.5018867924528302, 2: 0.5788461538461539},\n {0: 0.5714285714285714, 1: 0.4966981132075472, 2: 0.475},\n {0: 0.6645021645021645, 1: 0.4108490566037736, 2: 0.5153846153846154},\n {0: 0.7736318407960199, 1: 0.5409356725146199, 2: 0.5506410256410257},\n {0: 0.5443722943722943, 1: 0.4605263157894737, 2: 0.6352459016393441},\n {0: 0.5887445887445888, 1: 0.3645224171539961, 2: 0.5},\n {0: 0.5854978354978355, 1: 0.3886792452830189, 2: 0.4653846153846154},\n {0: 0.672077922077922, 1: 0.5580188679245283, 2: 0.5153846153846154},\n {0: 0.5183982683982683, 1: 0.4363207547169811, 2: 0.4987179487179487},\n {0: 0.6293532338308457, 1: 0.5653021442495126, 2: 0.6121794871794871},\n {0: 0.683982683982684, 1: 0.5531189083820662, 2: 0.5020491803278688},\n {0: 0.5854978354978355, 1: 0.5555555555555556, 2: 0.7131147540983607},\n {0: 0.45454545454545453, 1: 0.5523584905660378, 2: 0.6641025641025642},\n {0: 0.6677489177489178, 1: 0.41367924528301886, 2: 0.5403846153846155},\n {0: 0.5595238095238095, 1: 0.4419811320754717, 2: 0.610897435897436},\n {0: 0.5783582089552238, 1: 0.3508771929824561, 2: 0.5455128205128205}]"
     },
     "execution_count": 102,
     "metadata": {},
     "output_type": "execute_result"
    }
   ],
   "source": [
    "fold_auc_class_3"
   ],
   "metadata": {
    "collapsed": false,
    "ExecuteTime": {
     "start_time": "2023-08-18T19:12:05.856939Z",
     "end_time": "2023-08-18T19:12:05.866423Z"
    }
   }
  },
  {
   "cell_type": "code",
   "execution_count": 103,
   "outputs": [],
   "source": [
    "svc_age_and_sex_melanoma = list(d[0] for d in fold_auc_class_3)\n",
    "svc_age_and_sex_lung = list(d[1] for d in fold_auc_class_3)\n",
    "svc_age_and_sex_breast = list(d[2] for d in fold_auc_class_3)"
   ],
   "metadata": {
    "collapsed": false,
    "ExecuteTime": {
     "start_time": "2023-08-18T19:13:24.582208Z",
     "end_time": "2023-08-18T19:13:24.635093Z"
    }
   }
  },
  {
   "cell_type": "code",
   "execution_count": 139,
   "outputs": [],
   "source": [
    "data_list = [svc_age_and_sex_melanoma, random_forest_age_and_sex_melanoma, random_forest_radiomic_features_melanoma, random_forest_radiomic_features_age_and_sex_melanoma,svc_age_and_sex_lung, random_forest_age_and_sex_lung, random_forest_radiomic_features_lung, random_forest_radiomic_features_age_and_sex_lung, svc_age_and_sex_breast, random_forest_age_and_sex_breast,random_forest_radiomic_features_breast, random_forest_radiomic_features_age_and_sex_breast]"
   ],
   "metadata": {
    "collapsed": false,
    "ExecuteTime": {
     "start_time": "2023-08-18T21:48:17.119583Z",
     "end_time": "2023-08-18T21:48:17.601879Z"
    }
   }
  },
  {
   "cell_type": "code",
   "execution_count": 140,
   "outputs": [
    {
     "data": {
      "text/plain": "12"
     },
     "execution_count": 140,
     "metadata": {},
     "output_type": "execute_result"
    }
   ],
   "source": [
    "len(data_list)"
   ],
   "metadata": {
    "collapsed": false,
    "ExecuteTime": {
     "start_time": "2023-08-18T21:48:25.447480Z",
     "end_time": "2023-08-18T21:48:25.493547Z"
    }
   }
  },
  {
   "cell_type": "code",
   "execution_count": 143,
   "outputs": [
    {
     "data": {
      "text/plain": "([<matplotlib.axis.YTick at 0x7f20fdd9d3a0>,\n  <matplotlib.axis.YTick at 0x7f20fdd96d60>,\n  <matplotlib.axis.YTick at 0x7f20fdd96250>,\n  <matplotlib.axis.YTick at 0x7f21062e48e0>,\n  <matplotlib.axis.YTick at 0x7f20fdcfae50>,\n  <matplotlib.axis.YTick at 0x7f20fdcff670>,\n  <matplotlib.axis.YTick at 0x7f20fdcffe50>,\n  <matplotlib.axis.YTick at 0x7f20fdd06670>,\n  <matplotlib.axis.YTick at 0x7f20fdd06e50>,\n  <matplotlib.axis.YTick at 0x7f20fdd06730>,\n  <matplotlib.axis.YTick at 0x7f20fdd6cd60>,\n  <matplotlib.axis.YTick at 0x7f20fdd0e8b0>,\n  <matplotlib.axis.YTick at 0x7f20fdd0edc0>,\n  <matplotlib.axis.YTick at 0x7f20fdd188b0>,\n  <matplotlib.axis.YTick at 0x7f20fdd0e6a0>,\n  <matplotlib.axis.YTick at 0x7f20fdd18670>,\n  <matplotlib.axis.YTick at 0x7f20fdd243a0>],\n [Text(0, 0.1, '0.10'),\n  Text(0, 0.15, '0.15'),\n  Text(0, 0.2, '0.20'),\n  Text(0, 0.25, '0.25'),\n  Text(0, 0.3, '0.30'),\n  Text(0, 0.35, '0.35'),\n  Text(0, 0.4, '0.40'),\n  Text(0, 0.45, '0.45'),\n  Text(0, 0.5, '0.50'),\n  Text(0, 0.55, '0.55'),\n  Text(0, 0.6, '0.60'),\n  Text(0, 0.65, '0.65'),\n  Text(0, 0.7, '0.70'),\n  Text(0, 0.75, '0.75'),\n  Text(0, 0.8, '0.80'),\n  Text(0, 0.85, '0.85'),\n  Text(0, 0.9, '0.90')])"
     },
     "execution_count": 143,
     "metadata": {},
     "output_type": "execute_result"
    },
    {
     "data": {
      "text/plain": "<Figure size 1600x800 with 1 Axes>",
      "image/png": "[encoded data removed]"
     },
     "metadata": {},
     "output_type": "display_data"
    }
   ],
   "source": [
    "import seaborn as sns\n",
    "import matplotlib.pyplot as plt\n",
    "#sns.boxplot(random_forest_radiomic_features_melanoma)\n",
    "plt.figure(figsize=(16, 8))\n",
    "plt.boxplot(data_list[0:9:4])\n",
    "plt.title('SVC RESULTS')\n",
    "plt.xlabel('CLASSES')\n",
    "plt.ylabel('AUC')\n",
    "plt.xticks(ticks=range(1, len(data_list[0:9:4]) + 1), labels=['Melanoma_A&S', 'Lung_A&S','Breast_A&S'])  # Customize x-axis labels\n",
    "desired_y_ticks = [0.1, 0.15, 0.2,0.25, 0.3, 0.35,0.4, 0.45,0.5, 0.55,0.6, 0.65, 0.7, 0.75, 0.8, 0.85 ,0.9]  # Adjust as needed\n",
    "plt.yticks(desired_y_ticks)"
   ],
   "metadata": {
    "collapsed": false,
    "ExecuteTime": {
     "start_time": "2023-08-18T21:50:46.882967Z",
     "end_time": "2023-08-18T21:50:47.417512Z"
    }
   }
  },
  {
   "cell_type": "code",
   "execution_count": null,
   "outputs": [],
   "source": [],
   "metadata": {
    "collapsed": false
   }
  },
  {
   "cell_type": "markdown",
   "source": [
    "## Rdiomic features SVC"
   ],
   "metadata": {
    "collapsed": false
   }
  },
  {
   "cell_type": "code",
   "execution_count": 114,
   "outputs": [
    {
     "name": "stdout",
     "output_type": "stream",
     "text": [
      "Pipeline(steps=[('smoteen', SMOTEENN(random_state=0)),\n",
      "                ('clf',\n",
      "                 CalibratedClassifierCV(estimator=LinearSVC(C=0.1,\n",
      "                                                            class_weight='balanced',\n",
      "                                                            max_iter=10000,\n",
      "                                                            random_state=0)))])\n",
      "Auc Score 0.6917070336325443\n",
      "Auc Score OvR {0: 0.6980519480519481, 1: 0.6496101364522417, 2: 0.7274590163934426}\n",
      "Pipeline(steps=[('smoteen', SMOTEENN(random_state=0)),\n",
      "                ('clf',\n",
      "                 CalibratedClassifierCV(estimator=LinearSVC(C=0.1,\n",
      "                                                            class_weight='balanced',\n",
      "                                                            max_iter=10000,\n",
      "                                                            random_state=0)))])\n",
      "Auc Score 0.6681904227920908\n",
      "Auc Score OvR {0: 0.6601731601731602, 1: 0.550682261208577, 2: 0.7937158469945356}\n",
      "Pipeline(steps=[('smoteen', SMOTEENN(random_state=0)),\n",
      "                ('clf',\n",
      "                 CalibratedClassifierCV(estimator=LinearSVC(C=0.1,\n",
      "                                                            class_weight='balanced',\n",
      "                                                            max_iter=10000,\n",
      "                                                            random_state=0)))])\n",
      "Auc Score 0.6731015315920977\n",
      "Auc Score OvR {0: 0.7164502164502164, 1: 0.5849056603773585, 2: 0.717948717948718}\n",
      "Pipeline(steps=[('smoteen', SMOTEENN(random_state=0)),\n",
      "                ('clf',\n",
      "                 CalibratedClassifierCV(estimator=LinearSVC(C=0.1,\n",
      "                                                            class_weight='balanced',\n",
      "                                                            max_iter=10000,\n",
      "                                                            random_state=0)))])\n",
      "Auc Score 0.5499236612444159\n",
      "Auc Score OvR {0: 0.46861471861471854, 1: 0.4632075471698113, 2: 0.717948717948718}\n",
      "Pipeline(steps=[('smoteen', SMOTEENN(random_state=0)),\n",
      "                ('clf',\n",
      "                 CalibratedClassifierCV(estimator=LinearSVC(C=0.1,\n",
      "                                                            class_weight='balanced',\n",
      "                                                            max_iter=10000,\n",
      "                                                            random_state=0)))])\n",
      "Auc Score 0.6753211673022994\n",
      "Auc Score OvR {0: 0.7132034632034633, 1: 0.569811320754717, 2: 0.742948717948718}\n",
      "Pipeline(steps=[('smoteen', SMOTEENN(random_state=0)),\n",
      "                ('clf',\n",
      "                 CalibratedClassifierCV(estimator=LinearSVC(C=0.1,\n",
      "                                                            class_weight='balanced',\n",
      "                                                            max_iter=10000,\n",
      "                                                            random_state=0)))])\n",
      "Auc Score 0.6161872449120419\n",
      "Auc Score OvR {0: 0.6766169154228855, 1: 0.4873294346978557, 2: 0.6846153846153846}\n",
      "Pipeline(steps=[('smoteen', SMOTEENN(random_state=0)),\n",
      "                ('clf',\n",
      "                 CalibratedClassifierCV(estimator=LinearSVC(C=0.1,\n",
      "                                                            class_weight='balanced',\n",
      "                                                            max_iter=10000,\n",
      "                                                            random_state=0)))])\n",
      "Auc Score 0.610169826232524\n",
      "Auc Score OvR {0: 0.49891774891774887, 1: 0.5706627680311891, 2: 0.7609289617486339}\n",
      "Pipeline(steps=[('smoteen', SMOTEENN(random_state=0)),\n",
      "                ('clf',\n",
      "                 CalibratedClassifierCV(estimator=LinearSVC(C=0.1,\n",
      "                                                            class_weight='balanced',\n",
      "                                                            max_iter=10000,\n",
      "                                                            random_state=0)))])\n",
      "Auc Score 0.6280268826285508\n",
      "Auc Score OvR {0: 0.6785714285714286, 1: 0.4951267056530214, 2: 0.7103825136612021}\n",
      "Pipeline(steps=[('smoteen', SMOTEENN(random_state=0)),\n",
      "                ('clf',\n",
      "                 CalibratedClassifierCV(estimator=LinearSVC(C=0.1,\n",
      "                                                            class_weight='balanced',\n",
      "                                                            max_iter=10000,\n",
      "                                                            random_state=0)))])\n",
      "Auc Score 0.6409776282417793\n",
      "Auc Score OvR {0: 0.8560606060606061, 1: 0.4726415094339622, 2: 0.5942307692307692}\n",
      "Pipeline(steps=[('smoteen', SMOTEENN(random_state=0)),\n",
      "                ('clf',\n",
      "                 CalibratedClassifierCV(estimator=LinearSVC(C=0.1,\n",
      "                                                            class_weight='balanced',\n",
      "                                                            max_iter=10000,\n",
      "                                                            random_state=0)))])\n",
      "Auc Score 0.5609631982273492\n",
      "Auc Score OvR {0: 0.6493506493506493, 1: 0.4726415094339622, 2: 0.5608974358974358}\n",
      "Pipeline(steps=[('smoteen', SMOTEENN(random_state=0)),\n",
      "                ('clf',\n",
      "                 CalibratedClassifierCV(estimator=LinearSVC(C=0.1,\n",
      "                                                            class_weight='balanced',\n",
      "                                                            max_iter=10000,\n",
      "                                                            random_state=0)))])\n",
      "Auc Score 0.6360064463838048\n",
      "Auc Score OvR {0: 0.5811688311688311, 1: 0.5537735849056604, 2: 0.7730769230769231}\n",
      "Pipeline(steps=[('smoteen', SMOTEENN(random_state=0)),\n",
      "                ('clf',\n",
      "                 CalibratedClassifierCV(estimator=LinearSVC(C=0.1,\n",
      "                                                            class_weight='balanced',\n",
      "                                                            max_iter=10000,\n",
      "                                                            random_state=0)))])\n",
      "Auc Score 0.6836086660713526\n",
      "Auc Score OvR {0: 0.7300995024875623, 1: 0.6111111111111112, 2: 0.7096153846153845}\n",
      "Pipeline(steps=[('smoteen', SMOTEENN(random_state=0)),\n",
      "                ('clf',\n",
      "                 CalibratedClassifierCV(estimator=LinearSVC(C=0.1,\n",
      "                                                            class_weight='balanced',\n",
      "                                                            max_iter=10000,\n",
      "                                                            random_state=0)))])\n",
      "Auc Score 0.6576769067062423\n",
      "Auc Score OvR {0: 0.6266233766233766, 1: 0.5847953216374271, 2: 0.7616120218579234}\n",
      "Pipeline(steps=[('smoteen', SMOTEENN(random_state=0)),\n",
      "                ('clf',\n",
      "                 CalibratedClassifierCV(estimator=LinearSVC(C=0.1,\n",
      "                                                            class_weight='balanced',\n",
      "                                                            max_iter=10000,\n",
      "                                                            random_state=0)))])\n",
      "Auc Score 0.62894807394376\n",
      "Auc Score OvR {0: 0.6645021645021645, 1: 0.5365497076023392, 2: 0.6857923497267759}\n",
      "Pipeline(steps=[('smoteen', SMOTEENN(random_state=0)),\n",
      "                ('clf',\n",
      "                 CalibratedClassifierCV(estimator=LinearSVC(C=0.1,\n",
      "                                                            class_weight='balanced',\n",
      "                                                            max_iter=10000,\n",
      "                                                            random_state=0)))])\n",
      "Auc Score 0.5934462288235873\n",
      "Auc Score OvR {0: 0.5887445887445888, 1: 0.5037735849056604, 2: 0.6878205128205128}\n",
      "Pipeline(steps=[('smoteen', SMOTEENN(random_state=0)),\n",
      "                ('clf',\n",
      "                 CalibratedClassifierCV(estimator=LinearSVC(C=0.1,\n",
      "                                                            class_weight='balanced',\n",
      "                                                            max_iter=10000,\n",
      "                                                            random_state=0)))])\n",
      "Auc Score 0.6632636755278264\n",
      "Auc Score OvR {0: 0.7543290043290043, 1: 0.5476415094339622, 2: 0.6878205128205128}\n",
      "Pipeline(steps=[('smoteen', SMOTEENN(random_state=0)),\n",
      "                ('clf',\n",
      "                 CalibratedClassifierCV(estimator=LinearSVC(C=0.1,\n",
      "                                                            class_weight='balanced',\n",
      "                                                            max_iter=10000,\n",
      "                                                            random_state=0)))])\n",
      "Auc Score 0.7541950711762033\n",
      "Auc Score OvR {0: 0.8863636363636364, 1: 0.619811320754717, 2: 0.7564102564102566}\n",
      "Pipeline(steps=[('smoteen', SMOTEENN(random_state=0)),\n",
      "                ('clf',\n",
      "                 CalibratedClassifierCV(estimator=LinearSVC(C=0.1,\n",
      "                                                            class_weight='balanced',\n",
      "                                                            max_iter=10000,\n",
      "                                                            random_state=0)))])\n",
      "Auc Score 0.6179285384443802\n",
      "Auc Score OvR {0: 0.6318407960199004, 1: 0.4873294346978557, 2: 0.7346153846153846}\n",
      "Pipeline(steps=[('smoteen', SMOTEENN(random_state=0)),\n",
      "                ('clf',\n",
      "                 CalibratedClassifierCV(estimator=LinearSVC(C=0.1,\n",
      "                                                            class_weight='balanced',\n",
      "                                                            max_iter=10000,\n",
      "                                                            random_state=0)))])\n",
      "Auc Score 0.6019810593437284\n",
      "Auc Score OvR {0: 0.566017316017316, 1: 0.5199805068226121, 2: 0.7199453551912569}\n",
      "Pipeline(steps=[('smoteen', SMOTEENN(random_state=0)),\n",
      "                ('clf',\n",
      "                 CalibratedClassifierCV(estimator=LinearSVC(C=0.1,\n",
      "                                                            class_weight='balanced',\n",
      "                                                            max_iter=10000,\n",
      "                                                            random_state=0)))])\n",
      "Auc Score 0.6324574096000612\n",
      "Auc Score OvR {0: 0.7207792207792209, 1: 0.5229044834307992, 2: 0.6536885245901638}\n",
      "Pipeline(steps=[('smoteen', SMOTEENN(random_state=0)),\n",
      "                ('clf',\n",
      "                 CalibratedClassifierCV(estimator=LinearSVC(C=0.1,\n",
      "                                                            class_weight='balanced',\n",
      "                                                            max_iter=10000,\n",
      "                                                            random_state=0)))])\n",
      "Auc Score 0.6128645463551123\n",
      "Auc Score OvR {0: 0.7543290043290043, 1: 0.45990566037735847, 2: 0.6243589743589744}\n",
      "Pipeline(steps=[('smoteen', SMOTEENN(random_state=0)),\n",
      "                ('clf',\n",
      "                 CalibratedClassifierCV(estimator=LinearSVC(C=0.1,\n",
      "                                                            class_weight='balanced',\n",
      "                                                            max_iter=10000,\n",
      "                                                            random_state=0)))])\n",
      "Auc Score 0.592255176689139\n",
      "Auc Score OvR {0: 0.44588744588744583, 1: 0.5443396226415095, 2: 0.7865384615384615}\n",
      "Pipeline(steps=[('smoteen', SMOTEENN(random_state=0)),\n",
      "                ('clf',\n",
      "                 CalibratedClassifierCV(estimator=LinearSVC(C=0.1,\n",
      "                                                            class_weight='balanced',\n",
      "                                                            max_iter=10000,\n",
      "                                                            random_state=0)))])\n",
      "Auc Score 0.687022673343428\n",
      "Auc Score OvR {0: 0.7997835497835498, 1: 0.5382075471698112, 2: 0.7230769230769232}\n",
      "Pipeline(steps=[('smoteen', SMOTEENN(random_state=0)),\n",
      "                ('clf',\n",
      "                 CalibratedClassifierCV(estimator=LinearSVC(C=0.1,\n",
      "                                                            class_weight='balanced',\n",
      "                                                            max_iter=10000,\n",
      "                                                            random_state=0)))])\n",
      "Auc Score 0.689983934727323\n",
      "Auc Score OvR {0: 0.6467661691542288, 1: 0.6033138401559455, 2: 0.8198717948717948}\n",
      "Pipeline(steps=[('smoteen', SMOTEENN(random_state=0)),\n",
      "                ('clf',\n",
      "                 CalibratedClassifierCV(estimator=LinearSVC(C=0.1,\n",
      "                                                            class_weight='balanced',\n",
      "                                                            max_iter=10000,\n",
      "                                                            random_state=0)))])\n",
      "Auc Score 0.6554714219727161\n",
      "Auc Score OvR {0: 0.7164502164502164, 1: 0.530701754385965, 2: 0.7192622950819672}\n",
      "Pipeline(steps=[('smoteen', SMOTEENN(random_state=0)),\n",
      "                ('clf',\n",
      "                 CalibratedClassifierCV(estimator=LinearSVC(C=0.1,\n",
      "                                                            class_weight='balanced',\n",
      "                                                            max_iter=10000,\n",
      "                                                            random_state=0)))])\n",
      "Auc Score 0.6145734119202627\n",
      "Auc Score OvR {0: 0.7283549783549784, 1: 0.47807017543859653, 2: 0.6372950819672132}\n",
      "Pipeline(steps=[('smoteen', SMOTEENN(random_state=0)),\n",
      "                ('clf',\n",
      "                 CalibratedClassifierCV(estimator=LinearSVC(C=0.1,\n",
      "                                                            class_weight='balanced',\n",
      "                                                            max_iter=10000,\n",
      "                                                            random_state=0)))])\n",
      "Auc Score 0.6948348820990331\n",
      "Auc Score OvR {0: 0.6753246753246754, 1: 0.5976415094339622, 2: 0.8115384615384615}\n",
      "Pipeline(steps=[('smoteen', SMOTEENN(random_state=0)),\n",
      "                ('clf',\n",
      "                 CalibratedClassifierCV(estimator=LinearSVC(C=0.1,\n",
      "                                                            class_weight='balanced',\n",
      "                                                            max_iter=10000,\n",
      "                                                            random_state=0)))])\n",
      "Auc Score 0.7014272415215812\n",
      "Auc Score OvR {0: 0.777056277056277, 1: 0.6009433962264151, 2: 0.7262820512820513}\n",
      "Pipeline(steps=[('smoteen', SMOTEENN(random_state=0)),\n",
      "                ('clf',\n",
      "                 CalibratedClassifierCV(estimator=LinearSVC(C=0.1,\n",
      "                                                            class_weight='balanced',\n",
      "                                                            max_iter=10000,\n",
      "                                                            random_state=0)))])\n",
      "Auc Score 0.6937104300311847\n",
      "Auc Score OvR {0: 0.6980519480519481, 1: 0.6132075471698113, 2: 0.7698717948717949}\n",
      "Pipeline(steps=[('smoteen', SMOTEENN(random_state=0)),\n",
      "                ('clf',\n",
      "                 CalibratedClassifierCV(estimator=LinearSVC(C=0.1,\n",
      "                                                            class_weight='balanced',\n",
      "                                                            max_iter=10000,\n",
      "                                                            random_state=0)))])\n",
      "Auc Score 0.6432730633830398\n",
      "Auc Score OvR {0: 0.6156716417910447, 1: 0.5628654970760234, 2: 0.7512820512820513}\n",
      "Pipeline(steps=[('smoteen', SMOTEENN(random_state=0)),\n",
      "                ('clf',\n",
      "                 CalibratedClassifierCV(estimator=LinearSVC(C=0.1,\n",
      "                                                            class_weight='balanced',\n",
      "                                                            max_iter=10000,\n",
      "                                                            random_state=0)))])\n",
      "Auc Score 0.5783836246519594\n",
      "Auc Score OvR {0: 0.42316017316017307, 1: 0.5599415204678362, 2: 0.7520491803278688}\n",
      "Pipeline(steps=[('smoteen', SMOTEENN(random_state=0)),\n",
      "                ('clf',\n",
      "                 CalibratedClassifierCV(estimator=LinearSVC(C=0.1,\n",
      "                                                            class_weight='balanced',\n",
      "                                                            max_iter=10000,\n",
      "                                                            random_state=0)))])\n",
      "Auc Score 0.680758600840568\n",
      "Auc Score OvR {0: 0.6417748917748918, 1: 0.6388888888888888, 2: 0.7616120218579234}\n",
      "Pipeline(steps=[('smoteen', SMOTEENN(random_state=0)),\n",
      "                ('clf',\n",
      "                 CalibratedClassifierCV(estimator=LinearSVC(C=0.1,\n",
      "                                                            class_weight='balanced',\n",
      "                                                            max_iter=10000,\n",
      "                                                            random_state=0)))])\n",
      "Auc Score 0.6264716415659812\n",
      "Auc Score OvR {0: 0.7207792207792209, 1: 0.5259433962264151, 2: 0.6326923076923077}\n",
      "Pipeline(steps=[('smoteen', SMOTEENN(random_state=0)),\n",
      "                ('clf',\n",
      "                 CalibratedClassifierCV(estimator=LinearSVC(C=0.1,\n",
      "                                                            class_weight='balanced',\n",
      "                                                            max_iter=10000,\n",
      "                                                            random_state=0)))])\n",
      "Auc Score 0.6670010283217831\n",
      "Auc Score OvR {0: 0.6980519480519481, 1: 0.5632075471698114, 2: 0.7397435897435898}\n",
      "Pipeline(steps=[('smoteen', SMOTEENN(random_state=0)),\n",
      "                ('clf',\n",
      "                 CalibratedClassifierCV(estimator=LinearSVC(C=0.1,\n",
      "                                                            class_weight='balanced',\n",
      "                                                            max_iter=10000,\n",
      "                                                            random_state=0)))])\n",
      "Auc Score 0.6666103288744799\n",
      "Auc Score OvR {0: 0.7207792207792209, 1: 0.5476415094339622, 2: 0.7314102564102565}\n",
      "Pipeline(steps=[('smoteen', SMOTEENN(random_state=0)),\n",
      "                ('clf',\n",
      "                 CalibratedClassifierCV(estimator=LinearSVC(C=0.1,\n",
      "                                                            class_weight='balanced',\n",
      "                                                            max_iter=10000,\n",
      "                                                            random_state=0)))])\n",
      "Auc Score 0.6491744680406635\n",
      "Auc Score OvR {0: 0.5634328358208955, 1: 0.5443469785575049, 2: 0.8397435897435898}\n"
     ]
    }
   ],
   "source": [
    "# Store the scores and metrics\n",
    "scores_svc = {'acc': [], 'SD_acc': [], 'CI_acc': [], 'auc_tot': [], 'SD_auc_tot': [], 'CI_auc_tot': [], 'auc_class': [], 'SD_auc_class': [], 'CI_auc_class': [], 'Sen_mean': [], 'Sen_CI':[], 'Sen_SD': [], 'Spe_mean': [], 'Spe_CI': [], 'Spe_sd': []}\n",
    "\n",
    "for name, pipeline in pipelines.items():\n",
    "    # Initialize lists to store scores for each fold\n",
    "    fold_acc = []\n",
    "    fold_auc_tot = []\n",
    "    fold_auc_class_4 = []\n",
    "    for train_index, test_index in cv_outer.split(X, y):\n",
    "        X_train, X_test = X.iloc[train_index], X.iloc[test_index]\n",
    "        y_train, y_test = y.iloc[train_index], y.iloc[test_index]\n",
    "\n",
    "        scaler = StandardScaler()\n",
    "        X_train_normed = scaler.fit_transform(X_train)\n",
    "        X_test_normed = scaler.transform(X_test)\n",
    "\n",
    "        X_train_scal = pd.DataFrame(X_train_normed, columns=X_train.columns, index=X_train.index)\n",
    "        X_test_scal = pd.DataFrame(X_test_normed, columns=X_test.columns, index=X_test.index)\n",
    "\n",
    "        #select the best 15 features\n",
    "        selector = SelectKBest(f_classif, k=107) #20\n",
    "        fit = selector.fit(X_train_scal, y_train)\n",
    "        X_train_new = selector.fit_transform(X_train_scal, y_train)\n",
    "        X_test_new = selector.transform(X_test_scal)\n",
    "        selected_features_mask = selector.get_support()\n",
    "        selected_feature_indices = [i for i, selected in enumerate(selected_features_mask)if selected]\n",
    "        selected_feature_names = X.columns[selected_feature_indices]\n",
    "        f_scores, p_values = f_classif(X_train_new, y_train)\n",
    "        feature_p_values = dict(zip(selected_feature_names, p_values))\n",
    "        p_value.append(feature_p_values)\n",
    "\n",
    "        cv_inner = RepeatedStratifiedKFold(n_splits=4, n_repeats=4, random_state=seed)\n",
    "        grid_search = GridSearchCV(pipeline, param_grids[name], cv=cv_inner, scoring='roc_auc_ovr', error_score=\"raise\")\n",
    "        grid_search.fit(X_train_new, y_train)\n",
    "        clf = grid_search.best_estimator_\n",
    "        print(clf)\n",
    "        clf.fit(X_train_new, y_train)\n",
    "        y_pred = clf.predict(X_test_new)\n",
    "        accuracy = accuracy_score(y_test, y_pred)\n",
    "        num_classes = len(np.unique(y_test))\n",
    "        cm = confusion_matrix(y_test, y_pred)\n",
    "        specificity = calculate_specificity(cm)\n",
    "        sensitivity = calculate_sensitivity(cm)\n",
    "        # Print the results\n",
    "        accuracy = accuracy_score(y_test, y_pred)\n",
    "        fold_acc.append(accuracy)\n",
    "\n",
    "        # Calculate AUC score\n",
    "        auc_tot = multiclass_roc_auc_score(y_test, y_pred)\n",
    "        fold_auc_tot.append(auc_tot)\n",
    "\n",
    "        auc_class = class_vs_rest_roc_auc_score(y_test, y_pred)\n",
    "        fold_auc_class_4.append(auc_class)\n",
    "\n",
    "        print('Auc Score', multiclass_roc_auc_score(y_test, y_pred))\n",
    "        print('Auc Score OvR', class_vs_rest_roc_auc_score(y_test, y_pred))\n",
    "\n",
    "    # Calculate average scores across folds\n",
    "    if name == 'svc':\n",
    "        #auc_class\n",
    "        list_0 = list(d[0] for d in fold_auc_class_4)\n",
    "        list_1 = list(d[1] for d in fold_auc_class_4)\n",
    "        list_2 = list(d[2] for d in fold_auc_class_4)\n",
    "\n",
    "        avg_auc_class = {0: np.mean(list_0), 1: np.mean(list_1), 2: np.mean(list_2)}\n",
    "        scores_svc['auc_class'].append(avg_auc_class)\n",
    "\n",
    "        sd_auc_class = {0: np.std(list_0), 1: np.std(list_1), 2: np.std(list_2)}\n",
    "        scores_svc['SD_auc_class'].append(sd_auc_class)\n",
    "\n",
    "        ci_0 = stats.t.interval(confidence, len(list_0) - 1, loc=np.mean(list_0), scale=stats.sem(list_0))\n",
    "        ci_1 = stats.t.interval(confidence, len(list_1) - 1, loc=np.mean(list_1), scale=stats.sem(list_1))\n",
    "        ci_2 = stats.t.interval(confidence, len(list_2) - 1, loc=np.mean(list_2), scale=stats.sem(list_2))\n",
    "\n",
    "        CI_auc_class = {0: ci_0, 1: ci_1, 2: ci_2}\n",
    "        scores_svc['CI_auc_class'].append(CI_auc_class)"
   ],
   "metadata": {
    "collapsed": false,
    "ExecuteTime": {
     "start_time": "2023-08-18T19:28:02.590991Z",
     "end_time": "2023-08-18T21:17:32.109937Z"
    }
   }
  },
  {
   "cell_type": "code",
   "execution_count": 115,
   "outputs": [
    {
     "data": {
      "text/plain": "{'acc': [],\n 'SD_acc': [],\n 'CI_acc': [],\n 'auc_tot': [],\n 'SD_auc_tot': [],\n 'CI_auc_tot': [],\n 'auc_class': [{0: 0.6664481524556151,\n   1: 0.5475959947037405,\n   2: 0.7224472817710524}],\n 'SD_auc_class': [{0: 0.10175800819115649,\n   1: 0.050112466297441975,\n   2: 0.06039640606742273}],\n 'CI_auc_class': [{0: (0.6315298033518786, 0.7013665015593515),\n   1: (0.5303998582646687, 0.5647921311428123),\n   2: (0.7017222024464693, 0.7431723610956356)}],\n 'Sen_mean': [],\n 'Sen_CI': [],\n 'Sen_SD': [],\n 'Spe_mean': [],\n 'Spe_CI': [],\n 'Spe_sd': []}"
     },
     "execution_count": 115,
     "metadata": {},
     "output_type": "execute_result"
    }
   ],
   "source": [
    "scores_svc"
   ],
   "metadata": {
    "collapsed": false,
    "ExecuteTime": {
     "start_time": "2023-08-18T21:17:32.112130Z",
     "end_time": "2023-08-18T21:17:32.115860Z"
    }
   }
  },
  {
   "cell_type": "code",
   "execution_count": 116,
   "outputs": [
    {
     "data": {
      "text/plain": "[{0: 0.6980519480519481, 1: 0.6496101364522417, 2: 0.7274590163934426},\n {0: 0.6601731601731602, 1: 0.550682261208577, 2: 0.7937158469945356},\n {0: 0.7164502164502164, 1: 0.5849056603773585, 2: 0.717948717948718},\n {0: 0.46861471861471854, 1: 0.4632075471698113, 2: 0.717948717948718},\n {0: 0.7132034632034633, 1: 0.569811320754717, 2: 0.742948717948718},\n {0: 0.6766169154228855, 1: 0.4873294346978557, 2: 0.6846153846153846},\n {0: 0.49891774891774887, 1: 0.5706627680311891, 2: 0.7609289617486339},\n {0: 0.6785714285714286, 1: 0.4951267056530214, 2: 0.7103825136612021},\n {0: 0.8560606060606061, 1: 0.4726415094339622, 2: 0.5942307692307692},\n {0: 0.6493506493506493, 1: 0.4726415094339622, 2: 0.5608974358974358},\n {0: 0.5811688311688311, 1: 0.5537735849056604, 2: 0.7730769230769231},\n {0: 0.7300995024875623, 1: 0.6111111111111112, 2: 0.7096153846153845},\n {0: 0.6266233766233766, 1: 0.5847953216374271, 2: 0.7616120218579234},\n {0: 0.6645021645021645, 1: 0.5365497076023392, 2: 0.6857923497267759},\n {0: 0.5887445887445888, 1: 0.5037735849056604, 2: 0.6878205128205128},\n {0: 0.7543290043290043, 1: 0.5476415094339622, 2: 0.6878205128205128},\n {0: 0.8863636363636364, 1: 0.619811320754717, 2: 0.7564102564102566},\n {0: 0.6318407960199004, 1: 0.4873294346978557, 2: 0.7346153846153846},\n {0: 0.566017316017316, 1: 0.5199805068226121, 2: 0.7199453551912569},\n {0: 0.7207792207792209, 1: 0.5229044834307992, 2: 0.6536885245901638},\n {0: 0.7543290043290043, 1: 0.45990566037735847, 2: 0.6243589743589744},\n {0: 0.44588744588744583, 1: 0.5443396226415095, 2: 0.7865384615384615},\n {0: 0.7997835497835498, 1: 0.5382075471698112, 2: 0.7230769230769232},\n {0: 0.6467661691542288, 1: 0.6033138401559455, 2: 0.8198717948717948},\n {0: 0.7164502164502164, 1: 0.530701754385965, 2: 0.7192622950819672},\n {0: 0.7283549783549784, 1: 0.47807017543859653, 2: 0.6372950819672132},\n {0: 0.6753246753246754, 1: 0.5976415094339622, 2: 0.8115384615384615},\n {0: 0.777056277056277, 1: 0.6009433962264151, 2: 0.7262820512820513},\n {0: 0.6980519480519481, 1: 0.6132075471698113, 2: 0.7698717948717949},\n {0: 0.6156716417910447, 1: 0.5628654970760234, 2: 0.7512820512820513},\n {0: 0.42316017316017307, 1: 0.5599415204678362, 2: 0.7520491803278688},\n {0: 0.6417748917748918, 1: 0.6388888888888888, 2: 0.7616120218579234},\n {0: 0.7207792207792209, 1: 0.5259433962264151, 2: 0.6326923076923077},\n {0: 0.6980519480519481, 1: 0.5632075471698114, 2: 0.7397435897435898},\n {0: 0.7207792207792209, 1: 0.5476415094339622, 2: 0.7314102564102565},\n {0: 0.5634328358208955, 1: 0.5443469785575049, 2: 0.8397435897435898}]"
     },
     "execution_count": 116,
     "metadata": {},
     "output_type": "execute_result"
    }
   ],
   "source": [
    "fold_auc_class_4"
   ],
   "metadata": {
    "collapsed": false,
    "ExecuteTime": {
     "start_time": "2023-08-18T21:17:32.115036Z",
     "end_time": "2023-08-18T21:17:32.218884Z"
    }
   }
  },
  {
   "cell_type": "code",
   "execution_count": 144,
   "outputs": [],
   "source": [
    "svc_radiomic_features_melanoma = list(d[0] for d in fold_auc_class_4)\n",
    "svc_radiomic_features_lung = list(d[1] for d in fold_auc_class_4)\n",
    "svc_radiomic_features_breast = list(d[2] for d in fold_auc_class_4)"
   ],
   "metadata": {
    "collapsed": false,
    "ExecuteTime": {
     "start_time": "2023-08-18T21:51:25.897280Z",
     "end_time": "2023-08-18T21:51:25.957145Z"
    }
   }
  },
  {
   "cell_type": "code",
   "execution_count": 145,
   "outputs": [],
   "source": [
    "data_list = [svc_age_and_sex_melanoma, svc_radiomic_features_melanoma, random_forest_age_and_sex_melanoma, random_forest_radiomic_features_melanoma, random_forest_radiomic_features_age_and_sex_melanoma, svc_age_and_sex_lung, svc_radiomic_features_lung, random_forest_age_and_sex_lung, random_forest_radiomic_features_lung, random_forest_radiomic_features_age_and_sex_lung, svc_age_and_sex_breast, svc_radiomic_features_breast, random_forest_age_and_sex_breast,random_forest_radiomic_features_breast, random_forest_radiomic_features_age_and_sex_breast]"
   ],
   "metadata": {
    "collapsed": false,
    "ExecuteTime": {
     "start_time": "2023-08-18T21:51:27.504472Z",
     "end_time": "2023-08-18T21:51:27.549087Z"
    }
   }
  },
  {
   "cell_type": "code",
   "execution_count": 189,
   "outputs": [
    {
     "data": {
      "text/plain": "([<matplotlib.axis.YTick at 0x7f20fd7b9550>,\n  <matplotlib.axis.YTick at 0x7f20fd7b2eb0>,\n  <matplotlib.axis.YTick at 0x7f20fd7b2040>,\n  <matplotlib.axis.YTick at 0x7f20fd8b1df0>,\n  <matplotlib.axis.YTick at 0x7f20fd71a370>,\n  <matplotlib.axis.YTick at 0x7f20fd71ab50>,\n  <matplotlib.axis.YTick at 0x7f20fd722370>,\n  <matplotlib.axis.YTick at 0x7f20fd722b50>,\n  <matplotlib.axis.YTick at 0x7f20fd7221f0>,\n  <matplotlib.axis.YTick at 0x7f20fd713ee0>,\n  <matplotlib.axis.YTick at 0x7f20fd72c7f0>,\n  <matplotlib.axis.YTick at 0x7f20fd72cfd0>,\n  <matplotlib.axis.YTick at 0x7f20fd7327f0>,\n  <matplotlib.axis.YTick at 0x7f20fd72c940>,\n  <matplotlib.axis.YTick at 0x7f20fd71a6a0>,\n  <matplotlib.axis.YTick at 0x7f20fd72ce50>,\n  <matplotlib.axis.YTick at 0x7f20fd6bea30>],\n [Text(0, 0.1, '0.10'),\n  Text(0, 0.15, '0.15'),\n  Text(0, 0.2, '0.20'),\n  Text(0, 0.25, '0.25'),\n  Text(0, 0.3, '0.30'),\n  Text(0, 0.35, '0.35'),\n  Text(0, 0.4, '0.40'),\n  Text(0, 0.45, '0.45'),\n  Text(0, 0.5, '0.50'),\n  Text(0, 0.55, '0.55'),\n  Text(0, 0.6, '0.60'),\n  Text(0, 0.65, '0.65'),\n  Text(0, 0.7, '0.70'),\n  Text(0, 0.75, '0.75'),\n  Text(0, 0.8, '0.80'),\n  Text(0, 0.85, '0.85'),\n  Text(0, 0.9, '0.90')])"
     },
     "execution_count": 189,
     "metadata": {},
     "output_type": "execute_result"
    },
    {
     "data": {
      "text/plain": "<Figure size 1600x800 with 1 Axes>",
      "image/png": "[encoded data removed]"
     },
     "metadata": {},
     "output_type": "display_data"
    }
   ],
   "source": [
    "import seaborn as sns\n",
    "import matplotlib.pyplot as plt\n",
    "\n",
    "plt.figure(figsize=(16, 8))\n",
    "plt.boxplot(data_list[1:13:5])\n",
    "plt.title('SVC RESULTS')\n",
    "plt.xlabel('CLASSES')\n",
    "plt.ylabel('AUC')\n",
    "plt.xticks(ticks=range(1, len(data_list[1:12:5]) + 1), labels=['Melanoma_RaFe', 'Lung_RaFe','Breast_RaFe'])  # Customize x-axis labels\n",
    "desired_y_ticks = [0.1, 0.15, 0.2,0.25, 0.3, 0.35,0.4, 0.45,0.5, 0.55,0.6, 0.65, 0.7,0.75, 0.8, 0.85 ,0.9]  # Adjust as needed\n",
    "plt.yticks(desired_y_ticks)"
   ],
   "metadata": {
    "collapsed": false,
    "ExecuteTime": {
     "start_time": "2023-08-18T22:04:19.506602Z",
     "end_time": "2023-08-18T22:04:20.056333Z"
    }
   }
  },
  {
   "cell_type": "code",
   "execution_count": 191,
   "outputs": [
    {
     "data": {
      "text/plain": "15"
     },
     "execution_count": 191,
     "metadata": {},
     "output_type": "execute_result"
    }
   ],
   "source": [
    "data_list"
   ],
   "metadata": {
    "collapsed": false,
    "ExecuteTime": {
     "start_time": "2023-08-18T22:04:40.344353Z",
     "end_time": "2023-08-18T22:04:40.355332Z"
    }
   }
  },
  {
   "cell_type": "markdown",
   "source": [
    "## All SVC"
   ],
   "metadata": {
    "collapsed": false
   }
  },
  {
   "cell_type": "code",
   "execution_count": 202,
   "outputs": [
    {
     "name": "stdout",
     "output_type": "stream",
     "text": [
      "svc\n",
      "Pipeline(steps=[('smoteen', SMOTEENN(random_state=0)),\n",
      "                ('clf',\n",
      "                 CalibratedClassifierCV(estimator=LinearSVC(C=0.1,\n",
      "                                                            class_weight='balanced',\n",
      "                                                            max_iter=10000,\n",
      "                                                            random_state=0)))])\n",
      "Auc Score 0.6804952056965287\n",
      "Auc Score OvR {0: 0.672077922077922, 1: 0.6091617933723197, 2: 0.7602459016393442}\n",
      "svc\n",
      "Pipeline(steps=[('smoteen', SMOTEENN(random_state=0)),\n",
      "                ('clf',\n",
      "                 CalibratedClassifierCV(estimator=LinearSVC(C=0.1,\n",
      "                                                            class_weight='balanced',\n",
      "                                                            max_iter=20000,\n",
      "                                                            random_state=0)))])\n",
      "Auc Score 0.6904301239935408\n",
      "Auc Score OvR {0: 0.6980519480519481, 1: 0.587719298245614, 2: 0.7855191256830601}\n",
      "svc\n",
      "Pipeline(steps=[('smoteen', SMOTEENN(random_state=0)),\n",
      "                ('clf',\n",
      "                 CalibratedClassifierCV(estimator=LinearSVC(C=0.1,\n",
      "                                                            class_weight='balanced',\n",
      "                                                            max_iter=20000,\n",
      "                                                            random_state=0)))])\n",
      "Auc Score 0.7450081888761134\n",
      "Auc Score OvR {0: 0.814935064935065, 1: 0.6636792452830188, 2: 0.7564102564102566}\n",
      "svc\n",
      "Pipeline(steps=[('smoteen', SMOTEENN(random_state=0)),\n",
      "                ('clf',\n",
      "                 CalibratedClassifierCV(estimator=LinearSVC(C=0.1,\n",
      "                                                            class_weight='balanced',\n",
      "                                                            max_iter=20000,\n",
      "                                                            random_state=0)))])\n",
      "Auc Score 0.590745208669737\n",
      "Auc Score OvR {0: 0.4199134199134199, 1: 0.5792452830188679, 2: 0.7730769230769231}\n",
      "svc\n",
      "Pipeline(steps=[('smoteen', SMOTEENN(random_state=0)),\n",
      "                ('clf',\n",
      "                 CalibratedClassifierCV(estimator=LinearSVC(C=0.1,\n",
      "                                                            class_weight='balanced',\n",
      "                                                            max_iter=20000,\n",
      "                                                            random_state=0)))])\n",
      "Auc Score 0.7427460903875996\n",
      "Auc Score OvR {0: 0.7922077922077921, 1: 0.6514150943396225, 2: 0.7846153846153847}\n",
      "svc\n",
      "Pipeline(steps=[('smoteen', SMOTEENN(random_state=0)),\n",
      "                ('clf',\n",
      "                 CalibratedClassifierCV(estimator=LinearSVC(C=0.1,\n",
      "                                                            class_weight='balanced',\n",
      "                                                            max_iter=20000,\n",
      "                                                            random_state=0)))])\n",
      "Auc Score 0.7423780408200414\n",
      "Auc Score OvR {0: 0.8196517412935324, 1: 0.6510721247563354, 2: 0.7564102564102566}\n",
      "svc\n",
      "Pipeline(steps=[('smoteen', SMOTEENN(random_state=0)),\n",
      "                ('clf',\n",
      "                 CalibratedClassifierCV(estimator=LinearSVC(C=0.1,\n",
      "                                                            class_weight='balanced',\n",
      "                                                            max_iter=10000,\n",
      "                                                            random_state=0)))])\n",
      "Auc Score 0.6213931707892019\n",
      "Auc Score OvR {0: 0.514069264069264, 1: 0.5891812865497077, 2: 0.7609289617486339}\n",
      "svc\n",
      "Pipeline(steps=[('smoteen', SMOTEENN(random_state=0)),\n",
      "                ('clf',\n",
      "                 CalibratedClassifierCV(estimator=LinearSVC(C=0.1,\n",
      "                                                            class_weight='balanced',\n",
      "                                                            max_iter=10000,\n",
      "                                                            random_state=0)))])\n",
      "Auc Score 0.677697081888914\n",
      "Auc Score OvR {0: 0.7467532467532467, 1: 0.550682261208577, 2: 0.7356557377049181}\n",
      "svc\n",
      "Pipeline(steps=[('smoteen', SMOTEENN(random_state=0)),\n",
      "                ('clf',\n",
      "                 CalibratedClassifierCV(estimator=LinearSVC(C=0.1,\n",
      "                                                            class_weight='balanced',\n",
      "                                                            max_iter=20000,\n",
      "                                                            random_state=0)))])\n",
      "Auc Score 0.6689815425664483\n",
      "Auc Score OvR {0: 0.8787878787878788, 1: 0.5358490566037736, 2: 0.5923076923076923}\n",
      "svc\n",
      "Pipeline(steps=[('smoteen', SMOTEENN(random_state=0)),\n",
      "                ('clf',\n",
      "                 CalibratedClassifierCV(estimator=LinearSVC(C=0.1,\n",
      "                                                            class_weight='balanced',\n",
      "                                                            max_iter=20000,\n",
      "                                                            random_state=0)))])\n",
      "Auc Score 0.6000808939488185\n",
      "Auc Score OvR {0: 0.5519480519480519, 1: 0.5636792452830188, 2: 0.6846153846153846}\n",
      "svc\n",
      "Pipeline(steps=[('smoteen', SMOTEENN(random_state=0)),\n",
      "                ('clf',\n",
      "                 CalibratedClassifierCV(estimator=LinearSVC(C=0.1,\n",
      "                                                            class_weight='balanced',\n",
      "                                                            max_iter=10000,\n",
      "                                                            random_state=0)))])\n",
      "Auc Score 0.7198961415942549\n",
      "Auc Score OvR {0: 0.6645021645021645, 1: 0.6669811320754718, 2: 0.8282051282051283}\n",
      "svc\n",
      "Pipeline(steps=[('smoteen', SMOTEENN(random_state=0)),\n",
      "                ('clf',\n",
      "                 CalibratedClassifierCV(estimator=LinearSVC(C=0.1,\n",
      "                                                            class_weight='balanced',\n",
      "                                                            max_iter=10000,\n",
      "                                                            random_state=0)))])\n",
      "Auc Score 0.6595514331178117\n",
      "Auc Score OvR {0: 0.6082089552238806, 1: 0.6140350877192982, 2: 0.7564102564102566}\n",
      "svc\n",
      "Pipeline(steps=[('smoteen', SMOTEENN(random_state=0)),\n",
      "                ('clf',\n",
      "                 CalibratedClassifierCV(estimator=LinearSVC(C=0.1,\n",
      "                                                            class_weight='balanced',\n",
      "                                                            max_iter=10000,\n",
      "                                                            random_state=0)))])\n",
      "Auc Score 0.6757794089186094\n",
      "Auc Score OvR {0: 0.6006493506493507, 1: 0.6076998050682261, 2: 0.8189890710382514}\n",
      "svc\n",
      "Pipeline(steps=[('smoteen', SMOTEENN(random_state=0)),\n",
      "                ('clf',\n",
      "                 CalibratedClassifierCV(estimator=LinearSVC(C=0.1,\n",
      "                                                            class_weight='balanced',\n",
      "                                                            max_iter=20000,\n",
      "                                                            random_state=0)))])\n",
      "Auc Score 0.6457830907787767\n",
      "Auc Score OvR {0: 0.6872294372294372, 1: 0.564327485380117, 2: 0.6857923497267759}\n",
      "svc\n",
      "Pipeline(steps=[('smoteen', SMOTEENN(random_state=0)),\n",
      "                ('clf',\n",
      "                 CalibratedClassifierCV(estimator=LinearSVC(C=0.1,\n",
      "                                                            class_weight='balanced',\n",
      "                                                            max_iter=10000,\n",
      "                                                            random_state=0)))])\n",
      "Auc Score 0.6222769892581214\n",
      "Auc Score OvR {0: 0.6341991341991342, 1: 0.5198113207547169, 2: 0.7128205128205128}\n",
      "svc\n",
      "Pipeline(steps=[('smoteen', SMOTEENN(random_state=0)),\n",
      "                ('clf',\n",
      "                 CalibratedClassifierCV(estimator=LinearSVC(C=0.1,\n",
      "                                                            class_weight='balanced',\n",
      "                                                            max_iter=20000,\n",
      "                                                            random_state=0)))])\n",
      "Auc Score 0.6857890537135821\n",
      "Auc Score OvR {0: 0.7435064935064934, 1: 0.6042452830188679, 2: 0.7096153846153845}\n",
      "svc\n",
      "Pipeline(steps=[('smoteen', SMOTEENN(random_state=0)),\n",
      "                ('clf',\n",
      "                 CalibratedClassifierCV(estimator=LinearSVC(C=0.1,\n",
      "                                                            class_weight='balanced',\n",
      "                                                            max_iter=20000,\n",
      "                                                            random_state=0)))])\n",
      "Auc Score 0.6950742129987413\n",
      "Auc Score OvR {0: 0.7662337662337663, 1: 0.5792452830188679, 2: 0.7397435897435898}\n",
      "svc\n",
      "Pipeline(steps=[('smoteen', SMOTEENN(random_state=0)),\n",
      "                ('clf',\n",
      "                 CalibratedClassifierCV(estimator=LinearSVC(C=0.1,\n",
      "                                                            class_weight='balanced',\n",
      "                                                            max_iter=20000,\n",
      "                                                            random_state=0)))])\n",
      "Auc Score 0.6541377122484743\n",
      "Auc Score OvR {0: 0.5932835820895523, 1: 0.587719298245614, 2: 0.7814102564102565}\n",
      "svc\n",
      "Pipeline(steps=[('smoteen', SMOTEENN(random_state=0)),\n",
      "                ('clf',\n",
      "                 CalibratedClassifierCV(estimator=LinearSVC(C=0.1,\n",
      "                                                            class_weight='balanced',\n",
      "                                                            max_iter=10000,\n",
      "                                                            random_state=0)))])\n",
      "Auc Score 0.6444960478969682\n",
      "Auc Score OvR {0: 0.514069264069264, 1: 0.6496101364522417, 2: 0.7698087431693988}\n",
      "svc\n",
      "Pipeline(steps=[('smoteen', SMOTEENN(random_state=0)),\n",
      "                ('clf',\n",
      "                 CalibratedClassifierCV(estimator=LinearSVC(C=0.1,\n",
      "                                                            class_weight='balanced',\n",
      "                                                            max_iter=20000,\n",
      "                                                            random_state=0)))])\n",
      "Auc Score 0.7074649870522749\n",
      "Auc Score OvR {0: 0.7359307359307359, 1: 0.6262183235867447, 2: 0.7602459016393442}\n",
      "svc\n",
      "Pipeline(steps=[('smoteen', SMOTEENN(random_state=0)),\n",
      "                ('clf',\n",
      "                 CalibratedClassifierCV(estimator=LinearSVC(C=0.1,\n",
      "                                                            class_weight='balanced',\n",
      "                                                            max_iter=20000,\n",
      "                                                            random_state=0)))])\n",
      "Auc Score 0.6464665837307347\n",
      "Auc Score OvR {0: 0.6904761904761906, 1: 0.5226415094339623, 2: 0.7262820512820513}\n",
      "svc\n",
      "Pipeline(steps=[('smoteen', SMOTEENN(random_state=0)),\n",
      "                ('clf',\n",
      "                 CalibratedClassifierCV(estimator=LinearSVC(C=0.1,\n",
      "                                                            class_weight='balanced',\n",
      "                                                            max_iter=10000,\n",
      "                                                            random_state=0)))])\n",
      "Auc Score 0.6332976771656017\n",
      "Auc Score OvR {0: 0.4913419913419913, 1: 0.5636792452830188, 2: 0.8448717948717948}\n",
      "svc\n",
      "Pipeline(steps=[('smoteen', SMOTEENN(random_state=0)),\n",
      "                ('clf',\n",
      "                 CalibratedClassifierCV(estimator=LinearSVC(C=0.1,\n",
      "                                                            class_weight='balanced',\n",
      "                                                            max_iter=20000,\n",
      "                                                            random_state=0)))])\n",
      "Auc Score 0.60026729036163\n",
      "Auc Score OvR {0: 0.7056277056277057, 1: 0.47594339622641507, 2: 0.619230769230769}\n",
      "svc\n",
      "Pipeline(steps=[('smoteen', SMOTEENN(random_state=0)),\n",
      "                ('clf',\n",
      "                 CalibratedClassifierCV(estimator=LinearSVC(C=0.1,\n",
      "                                                            class_weight='balanced',\n",
      "                                                            max_iter=20000,\n",
      "                                                            random_state=0)))])\n",
      "Auc Score 0.6686244888915743\n",
      "Auc Score OvR {0: 0.554726368159204, 1: 0.644736842105263, 2: 0.8064102564102564}\n",
      "svc\n",
      "Pipeline(steps=[('smoteen', SMOTEENN(random_state=0)),\n",
      "                ('clf',\n",
      "                 CalibratedClassifierCV(estimator=LinearSVC(C=0.1,\n",
      "                                                            class_weight='balanced',\n",
      "                                                            max_iter=10000,\n",
      "                                                            random_state=0)))])\n",
      "Auc Score 0.7413164507283\n",
      "Auc Score OvR {0: 0.777056277056277, 1: 0.6866471734892788, 2: 0.7602459016393442}\n",
      "svc\n",
      "Pipeline(steps=[('smoteen', SMOTEENN(random_state=0)),\n",
      "                ('clf',\n",
      "                 CalibratedClassifierCV(estimator=LinearSVC(C=0.1,\n",
      "                                                            class_weight='balanced',\n",
      "                                                            max_iter=10000,\n",
      "                                                            random_state=0)))])\n",
      "Auc Score 0.6952138446242558\n",
      "Auc Score OvR {0: 0.7359307359307359, 1: 0.5969785575048733, 2: 0.7527322404371586}\n",
      "svc\n",
      "Pipeline(steps=[('smoteen', SMOTEENN(random_state=0)),\n",
      "                ('clf',\n",
      "                 CalibratedClassifierCV(estimator=LinearSVC(C=0.1,\n",
      "                                                            class_weight='balanced',\n",
      "                                                            max_iter=10000,\n",
      "                                                            random_state=0)))])\n",
      "Auc Score 0.703768977353883\n",
      "Auc Score OvR {0: 0.7023809523809523, 1: 0.6358490566037737, 2: 0.7730769230769231}\n",
      "svc\n",
      "Pipeline(steps=[('smoteen', SMOTEENN(random_state=0)),\n",
      "                ('clf',\n",
      "                 CalibratedClassifierCV(estimator=LinearSVC(C=0.1,\n",
      "                                                            class_weight='balanced',\n",
      "                                                            max_iter=10000,\n",
      "                                                            random_state=0)))])\n",
      "Auc Score 0.5995226471641565\n",
      "Auc Score OvR {0: 0.577922077922078, 1: 0.5764150943396226, 2: 0.6442307692307692}\n",
      "svc\n",
      "Pipeline(steps=[('smoteen', SMOTEENN(random_state=0)),\n",
      "                ('clf',\n",
      "                 CalibratedClassifierCV(estimator=LinearSVC(C=0.1,\n",
      "                                                            class_weight='balanced',\n",
      "                                                            max_iter=20000,\n",
      "                                                            random_state=0)))])\n",
      "Auc Score 0.6803050722862044\n",
      "Auc Score OvR {0: 0.5627705627705628, 1: 0.619811320754717, 2: 0.8583333333333334}\n",
      "svc\n",
      "Pipeline(steps=[('smoteen', SMOTEENN(random_state=0)),\n",
      "                ('clf',\n",
      "                 CalibratedClassifierCV(estimator=LinearSVC(C=0.1,\n",
      "                                                            class_weight='balanced',\n",
      "                                                            max_iter=20000,\n",
      "                                                            random_state=0)))])\n",
      "Auc Score 0.5891004752814127\n",
      "Auc Score OvR {0: 0.5932835820895523, 1: 0.47465886939571145, 2: 0.6993589743589743}\n",
      "svc\n",
      "Pipeline(steps=[('smoteen', SMOTEENN(random_state=0)),\n",
      "                ('clf',\n",
      "                 CalibratedClassifierCV(estimator=LinearSVC(C=0.1,\n",
      "                                                            class_weight='balanced',\n",
      "                                                            max_iter=10000,\n",
      "                                                            random_state=0)))])\n",
      "Auc Score 0.6209255544889712\n",
      "Auc Score OvR {0: 0.5173160173160173, 1: 0.5599415204678362, 2: 0.7855191256830601}\n",
      "svc\n",
      "Pipeline(steps=[('smoteen', SMOTEENN(random_state=0)),\n",
      "                ('clf',\n",
      "                 CalibratedClassifierCV(estimator=LinearSVC(C=0.1,\n",
      "                                                            class_weight='balanced',\n",
      "                                                            max_iter=10000,\n",
      "                                                            random_state=0)))])\n",
      "Auc Score 0.7355516731055989\n",
      "Auc Score OvR {0: 0.7359307359307359, 1: 0.6681286549707602, 2: 0.8025956284153004}\n",
      "svc\n",
      "Pipeline(steps=[('smoteen', SMOTEENN(random_state=0)),\n",
      "                ('clf',\n",
      "                 CalibratedClassifierCV(estimator=LinearSVC(C=0.1,\n",
      "                                                            class_weight='balanced',\n",
      "                                                            max_iter=20000,\n",
      "                                                            random_state=0)))])\n",
      "Auc Score 0.7515500223047393\n",
      "Auc Score OvR {0: 0.8073593073593074, 1: 0.6575471698113208, 2: 0.7897435897435898}\n",
      "svc\n",
      "Pipeline(steps=[('smoteen', SMOTEENN(random_state=0)),\n",
      "                ('clf',\n",
      "                 CalibratedClassifierCV(estimator=LinearSVC(C=0.1,\n",
      "                                                            class_weight='balanced',\n",
      "                                                            max_iter=10000,\n",
      "                                                            random_state=0)))])\n",
      "Auc Score 0.7284636223315468\n",
      "Auc Score OvR {0: 0.7435064935064934, 1: 0.6386792452830189, 2: 0.8032051282051282}\n",
      "svc\n",
      "Pipeline(steps=[('smoteen', SMOTEENN(random_state=0)),\n",
      "                ('clf',\n",
      "                 CalibratedClassifierCV(estimator=LinearSVC(C=0.1,\n",
      "                                                            class_weight='balanced',\n",
      "                                                            max_iter=10000,\n",
      "                                                            random_state=0)))])\n",
      "Auc Score 0.674196715234451\n",
      "Auc Score OvR {0: 0.7359307359307359, 1: 0.5853773584905659, 2: 0.7012820512820512}\n",
      "svc\n",
      "Pipeline(steps=[('smoteen', SMOTEENN(random_state=0)),\n",
      "                ('clf',\n",
      "                 CalibratedClassifierCV(estimator=LinearSVC(C=0.1,\n",
      "                                                            class_weight='balanced',\n",
      "                                                            max_iter=20000,\n",
      "                                                            random_state=0)))])\n",
      "Auc Score 0.6597420007474996\n",
      "Auc Score OvR {0: 0.5932835820895523, 1: 0.5628654970760234, 2: 0.8230769230769232}\n",
      "mamawuevo\n"
     ]
    }
   ],
   "source": [
    "# Store the scores and metrics\n",
    "scores_svc = {'acc': [], 'SD_acc': [], 'CI_acc': [], 'auc_tot': [], 'SD_auc_tot': [], 'CI_auc_tot': [], 'auc_class': [], 'SD_auc_class': [], 'CI_auc_class': [], 'Sen_mean': [], 'Sen_CI': [], 'Sen_SD': [], 'Spe_mean': [], 'Spe_CI': [], 'Spe_sd': [], 'Pre_mean': [], 'Pre_CI': [], 'Pre_sd': [], 'F1_mean': [], 'F1_CI': [], 'F1_sd': [], 'Accy_mean': [], 'Accy_CI': [], 'Accy_sd': []}\n",
    "\n",
    "\n",
    "num_classes = len(np.unique(y))\n",
    "sum_confusion_matrix_rf = np.zeros((num_classes, num_classes))\n",
    "for name, pipeline in pipelines.items():\n",
    "    # Initialize lists to store scores for each fold\n",
    "    fold_acc = []\n",
    "    fold_auc_tot = []\n",
    "    fold_auc_class_5 = []\n",
    "\n",
    "    for train_index, test_index in cv_outer.split(X, y):\n",
    "        X_train, X_test = X.iloc[train_index], X.iloc[test_index]\n",
    "        y_train, y_test = y.iloc[train_index], y.iloc[test_index]\n",
    "\n",
    "        scaler = StandardScaler()\n",
    "        X_train_normed = scaler.fit_transform(X_train)\n",
    "        X_test_normed = scaler.transform(X_test)\n",
    "\n",
    "        X_train_scal = pd.DataFrame(X_train_normed, columns=X_train.columns, index=X_train.index)\n",
    "        X_test_scal = pd.DataFrame(X_test_normed, columns=X_test.columns, index=X_test.index)\n",
    "\n",
    "        #select the best 15 features\n",
    "        additional_columns = ['Age', 'F', 'M']\n",
    "        X_train_new = X_train_scal.join(X_sex_age[additional_columns])\n",
    "        X_test_new = X_test_scal.join(X_sex_age[additional_columns])\n",
    "\n",
    "        cv_inner = RepeatedStratifiedKFold(n_splits=4, n_repeats=4, random_state=seed)\n",
    "        grid_search = GridSearchCV(pipeline, param_grids[name], cv=cv_inner, scoring='roc_auc_ovr', error_score=\"raise\")\n",
    "        print(name)\n",
    "        grid_search.fit(X_train_new, y_train)\n",
    "        clf = grid_search.best_estimator_\n",
    "        print(clf)\n",
    "        clf.fit(X_train_new, y_train)\n",
    "        y_pred = clf.predict(X_test_new)\n",
    "        accuracy = accuracy_score(y_test, y_pred)\n",
    "        num_classes = len(np.unique(y_test))\n",
    "        cm = confusion_matrix(y_test, y_pred, labels=clf.classes_)\n",
    "        specificity = calculate_specificity(cm)\n",
    "        sensitivity = calculate_sensitivity(cm)\n",
    "        precision = calculate_precision(cm)\n",
    "        F1 = calculate_f1_score(cm)\n",
    "        Accuracy = calculate_accuracy(cm)\n",
    "        sum_confusion_matrix_rf += cm\n",
    "        # Print the results\n",
    "\n",
    "\n",
    "        # Calculate AUC score\n",
    "        auc_tot = multiclass_roc_auc_score(y_test, y_pred)\n",
    "        fold_auc_tot.append(auc_tot)\n",
    "\n",
    "        auc_class = class_vs_rest_roc_auc_score(y_test, y_pred)\n",
    "        fold_auc_class_5.append(auc_class)\n",
    "\n",
    "        print('Auc Score', multiclass_roc_auc_score(y_test, y_pred))\n",
    "        print('Auc Score OvR', class_vs_rest_roc_auc_score(y_test, y_pred))\n",
    "\n",
    "    # Calculate average scores across folds\n",
    "    if name == 'svc':\n",
    "        print('mamawuevo')\n",
    "\n",
    "        #auc_class\n",
    "        list_0 = list(d[0] for d in fold_auc_class_5)\n",
    "        list_1 = list(d[1] for d in fold_auc_class_5)\n",
    "        list_2 = list(d[2] for d in fold_auc_class_5)\n",
    "\n",
    "        avg_auc_class = {0: np.mean(list_0), 1: np.mean(list_1), 2: np.mean(list_2)}\n",
    "        scores_svc['auc_class'].append(avg_auc_class)\n",
    "\n",
    "        sd_auc_class = {0: np.std(list_0), 1: np.std(list_1), 2: np.std(list_2)}\n",
    "        scores_svc['SD_auc_class'].append(sd_auc_class)\n",
    "\n",
    "        ci_0 = stats.t.interval(confidence, len(list_0) - 1, loc=np.mean(list_0), scale=stats.sem(list_0))\n",
    "        ci_1 = stats.t.interval(confidence, len(list_1) - 1, loc=np.mean(list_1), scale=stats.sem(list_1))\n",
    "        ci_2 = stats.t.interval(confidence, len(list_2) - 1, loc=np.mean(list_2), scale=stats.sem(list_2))\n",
    "\n",
    "        CI_auc_class = {0: ci_0, 1: ci_1, 2: ci_2}\n",
    "        scores_svc['CI_auc_class'].append(CI_auc_class)"
   ],
   "metadata": {
    "collapsed": false,
    "ExecuteTime": {
     "start_time": "2023-08-18T22:13:48.622086Z",
     "end_time": "2023-08-19T05:43:35.128610Z"
    }
   }
  },
  {
   "cell_type": "code",
   "execution_count": 203,
   "outputs": [
    {
     "data": {
      "text/plain": "[{0: 0.672077922077922, 1: 0.6091617933723197, 2: 0.7602459016393442},\n {0: 0.6980519480519481, 1: 0.587719298245614, 2: 0.7855191256830601},\n {0: 0.814935064935065, 1: 0.6636792452830188, 2: 0.7564102564102566},\n {0: 0.4199134199134199, 1: 0.5792452830188679, 2: 0.7730769230769231},\n {0: 0.7922077922077921, 1: 0.6514150943396225, 2: 0.7846153846153847},\n {0: 0.8196517412935324, 1: 0.6510721247563354, 2: 0.7564102564102566},\n {0: 0.514069264069264, 1: 0.5891812865497077, 2: 0.7609289617486339},\n {0: 0.7467532467532467, 1: 0.550682261208577, 2: 0.7356557377049181},\n {0: 0.8787878787878788, 1: 0.5358490566037736, 2: 0.5923076923076923},\n {0: 0.5519480519480519, 1: 0.5636792452830188, 2: 0.6846153846153846},\n {0: 0.6645021645021645, 1: 0.6669811320754718, 2: 0.8282051282051283},\n {0: 0.6082089552238806, 1: 0.6140350877192982, 2: 0.7564102564102566},\n {0: 0.6006493506493507, 1: 0.6076998050682261, 2: 0.8189890710382514},\n {0: 0.6872294372294372, 1: 0.564327485380117, 2: 0.6857923497267759},\n {0: 0.6341991341991342, 1: 0.5198113207547169, 2: 0.7128205128205128},\n {0: 0.7435064935064934, 1: 0.6042452830188679, 2: 0.7096153846153845},\n {0: 0.7662337662337663, 1: 0.5792452830188679, 2: 0.7397435897435898},\n {0: 0.5932835820895523, 1: 0.587719298245614, 2: 0.7814102564102565},\n {0: 0.514069264069264, 1: 0.6496101364522417, 2: 0.7698087431693988},\n {0: 0.7359307359307359, 1: 0.6262183235867447, 2: 0.7602459016393442},\n {0: 0.6904761904761906, 1: 0.5226415094339623, 2: 0.7262820512820513},\n {0: 0.4913419913419913, 1: 0.5636792452830188, 2: 0.8448717948717948},\n {0: 0.7056277056277057, 1: 0.47594339622641507, 2: 0.619230769230769},\n {0: 0.554726368159204, 1: 0.644736842105263, 2: 0.8064102564102564},\n {0: 0.777056277056277, 1: 0.6866471734892788, 2: 0.7602459016393442},\n {0: 0.7359307359307359, 1: 0.5969785575048733, 2: 0.7527322404371586},\n {0: 0.7023809523809523, 1: 0.6358490566037737, 2: 0.7730769230769231},\n {0: 0.577922077922078, 1: 0.5764150943396226, 2: 0.6442307692307692},\n {0: 0.5627705627705628, 1: 0.619811320754717, 2: 0.8583333333333334},\n {0: 0.5932835820895523, 1: 0.47465886939571145, 2: 0.6993589743589743},\n {0: 0.5173160173160173, 1: 0.5599415204678362, 2: 0.7855191256830601},\n {0: 0.7359307359307359, 1: 0.6681286549707602, 2: 0.8025956284153004},\n {0: 0.8073593073593074, 1: 0.6575471698113208, 2: 0.7897435897435898},\n {0: 0.7435064935064934, 1: 0.6386792452830189, 2: 0.8032051282051282},\n {0: 0.7359307359307359, 1: 0.5853773584905659, 2: 0.7012820512820512},\n {0: 0.5932835820895523, 1: 0.5628654970760234, 2: 0.8230769230769232}]"
     },
     "execution_count": 203,
     "metadata": {},
     "output_type": "execute_result"
    }
   ],
   "source": [
    "fold_auc_class_5"
   ],
   "metadata": {
    "collapsed": false,
    "ExecuteTime": {
     "start_time": "2023-08-19T10:44:18.724850Z",
     "end_time": "2023-08-19T10:44:18.767424Z"
    }
   }
  },
  {
   "cell_type": "code",
   "execution_count": 204,
   "outputs": [
    {
     "data": {
      "text/plain": "{'acc': [],\n 'SD_acc': [],\n 'CI_acc': [],\n 'auc_tot': [],\n 'SD_auc_tot': [],\n 'CI_auc_tot': [],\n 'auc_class': [{0: 0.6661403480433331,\n   1: 0.5964299543115883,\n   2: 0.7539728410630049}],\n 'SD_auc_class': [{0: 0.1080241854078334,\n   1: 0.051772458117562654,\n   2: 0.05865406122956576}],\n 'CI_auc_class': [{0: (0.6290717547722111, 0.7032089413144551),\n   1: (0.5786641902342138, 0.6141957183889628),\n   2: (0.7338456488864592, 0.7741000332395506)}],\n 'Sen_mean': [],\n 'Sen_CI': [],\n 'Sen_SD': [],\n 'Spe_mean': [],\n 'Spe_CI': [],\n 'Spe_sd': [],\n 'Pre_mean': [],\n 'Pre_CI': [],\n 'Pre_sd': [],\n 'F1_mean': [],\n 'F1_CI': [],\n 'F1_sd': [],\n 'Accy_mean': [],\n 'Accy_CI': [],\n 'Accy_sd': []}"
     },
     "execution_count": 204,
     "metadata": {},
     "output_type": "execute_result"
    }
   ],
   "source": [
    "scores_svc"
   ],
   "metadata": {
    "collapsed": false,
    "ExecuteTime": {
     "start_time": "2023-08-19T10:44:29.533106Z",
     "end_time": "2023-08-19T10:44:29.573727Z"
    }
   }
  },
  {
   "cell_type": "code",
   "execution_count": 205,
   "outputs": [],
   "source": [
    "svc_radiomic_features_age_sex_melanoma = list(d[0] for d in fold_auc_class_5)\n",
    "svc_radiomic_features_age_sex_lung = list(d[1] for d in fold_auc_class_5)\n",
    "svc_radiomic_features_age_sex_breast = list(d[2] for d in fold_auc_class_5)"
   ],
   "metadata": {
    "collapsed": false,
    "ExecuteTime": {
     "start_time": "2023-08-19T10:47:18.584885Z",
     "end_time": "2023-08-19T10:47:18.594429Z"
    }
   }
  },
  {
   "cell_type": "code",
   "execution_count": 206,
   "outputs": [],
   "source": [
    "data_list = [svc_age_and_sex_melanoma, svc_radiomic_features_melanoma, svc_radiomic_features_age_sex_melanoma,random_forest_age_and_sex_melanoma, random_forest_radiomic_features_melanoma, random_forest_radiomic_features_age_and_sex_melanoma, svc_age_and_sex_lung, svc_radiomic_features_lung, svc_radiomic_features_age_sex_lung, random_forest_age_and_sex_lung, random_forest_radiomic_features_lung, random_forest_radiomic_features_age_and_sex_lung, svc_age_and_sex_breast, svc_radiomic_features_breast, svc_radiomic_features_age_sex_breast,random_forest_age_and_sex_breast,random_forest_radiomic_features_breast, random_forest_radiomic_features_age_and_sex_breast]"
   ],
   "metadata": {
    "collapsed": false,
    "ExecuteTime": {
     "start_time": "2023-08-19T10:48:41.166709Z",
     "end_time": "2023-08-19T10:48:41.207200Z"
    }
   }
  },
  {
   "cell_type": "markdown",
   "source": [
    "## Final representations"
   ],
   "metadata": {
    "collapsed": false
   }
  },
  {
   "cell_type": "code",
   "execution_count": 207,
   "outputs": [],
   "source": [
    "data_list_RF = [random_forest_age_and_sex_melanoma, random_forest_radiomic_features_melanoma, random_forest_radiomic_features_age_and_sex_melanoma,random_forest_age_and_sex_lung, random_forest_radiomic_features_lung, random_forest_radiomic_features_age_and_sex_lung, random_forest_age_and_sex_breast,random_forest_radiomic_features_breast, random_forest_radiomic_features_age_and_sex_breast]"
   ],
   "metadata": {
    "collapsed": false,
    "ExecuteTime": {
     "start_time": "2023-08-19T10:51:04.621102Z",
     "end_time": "2023-08-19T10:51:04.662001Z"
    }
   }
  },
  {
   "cell_type": "code",
   "execution_count": 209,
   "outputs": [
    {
     "data": {
      "text/plain": "9"
     },
     "execution_count": 209,
     "metadata": {},
     "output_type": "execute_result"
    }
   ],
   "source": [
    "len(data_list_RF)"
   ],
   "metadata": {
    "collapsed": false,
    "ExecuteTime": {
     "start_time": "2023-08-19T10:51:20.073235Z",
     "end_time": "2023-08-19T10:51:20.093192Z"
    }
   }
  },
  {
   "cell_type": "code",
   "execution_count": 221,
   "outputs": [
    {
     "data": {
      "text/plain": "<Figure size 1600x800 with 3 Axes>",
      "image/png": "[encoded data removed]"
     },
     "metadata": {},
     "output_type": "display_data"
    }
   ],
   "source": [
    "import seaborn as sns\n",
    "import matplotlib.pyplot as plt\n",
    "# Create a figure with two subplots\n",
    "fig, (ax1, ax2, ax3) = plt.subplots(1, 3, figsize=(16, 8))\n",
    "\n",
    "# Plot the first three boxplots in the first subplot\n",
    "sns.boxplot(data=data_list_RF[:3], ax=ax1)\n",
    "ax1.set_title('RF results')\n",
    "ax1.set_xlabel('MELANOMA')\n",
    "ax1.set_ylabel('AUC')\n",
    "ax1.set_xticklabels(['Age&Sex', 'Radiomic Features', 'All Features'])\n",
    "\n",
    "# Plot the next three boxplots in the second subplot\n",
    "sns.boxplot(data=data_list_RF[3:6], ax=ax2)\n",
    "ax2.set_title('RF results')\n",
    "ax2.set_xlabel('LUNG')\n",
    "ax2.set_ylabel('AUC')\n",
    "ax2.set_xticklabels(['Age&Sex', 'Radiomic Features', 'All Features'])\n",
    "\n",
    "sns.boxplot(data=data_list_RF[6:], ax=ax3)\n",
    "ax3.set_title('RF results')\n",
    "ax3.set_xlabel('BREAST')\n",
    "ax3.set_ylabel('AUC')\n",
    "ax3.set_xticklabels(['Age&Sex', 'Radiomic Features', 'All Features'])\n",
    "\n",
    "# Adjust y-axis ticks if needed\n",
    "desired_y_ticks = [0.1, 0.15, 0.2, 0.25, 0.3, 0.35, 0.4, 0.45, 0.5, 0.55, 0.6, 0.65, 0.7, 0.75, 0.8, 0.85, 0.9]\n",
    "ax1.set_yticks(desired_y_ticks)\n",
    "ax2.set_yticks(desired_y_ticks)\n",
    "ax3.set_yticks(desired_y_ticks)\n",
    "\n",
    "# Adjust layout spacing between subplots\n",
    "plt.tight_layout()\n",
    "\n",
    "# Show the plot\n",
    "plt.show()"
   ],
   "metadata": {
    "collapsed": false,
    "ExecuteTime": {
     "start_time": "2023-08-19T10:59:48.585989Z",
     "end_time": "2023-08-19T10:59:49.268823Z"
    }
   }
  },
  {
   "cell_type": "code",
   "execution_count": 217,
   "outputs": [],
   "source": [
    "data_list_SVC = [svc_age_and_sex_melanoma, svc_radiomic_features_melanoma, svc_radiomic_features_age_sex_melanoma, svc_age_and_sex_lung, svc_radiomic_features_lung, svc_radiomic_features_age_sex_lung, svc_age_and_sex_breast, svc_radiomic_features_breast, svc_radiomic_features_age_sex_breast]"
   ],
   "metadata": {
    "collapsed": false,
    "ExecuteTime": {
     "start_time": "2023-08-19T10:57:22.606900Z",
     "end_time": "2023-08-19T10:57:22.653686Z"
    }
   }
  },
  {
   "cell_type": "code",
   "execution_count": 218,
   "outputs": [
    {
     "data": {
      "text/plain": "9"
     },
     "execution_count": 218,
     "metadata": {},
     "output_type": "execute_result"
    }
   ],
   "source": [
    "len(data_list_SVC)"
   ],
   "metadata": {
    "collapsed": false,
    "ExecuteTime": {
     "start_time": "2023-08-19T10:57:23.775805Z",
     "end_time": "2023-08-19T10:57:23.779671Z"
    }
   }
  },
  {
   "cell_type": "code",
   "execution_count": 235,
   "outputs": [
    {
     "data": {
      "text/plain": "<Figure size 1600x800 with 3 Axes>",
      "image/png": "[encoded data removed]"
     },
     "metadata": {},
     "output_type": "display_data"
    }
   ],
   "source": [
    "import seaborn as sns\n",
    "import matplotlib.pyplot as plt\n",
    "# Create a figure with two subplots\n",
    "fig, (ax1, ax2, ax3) = plt.subplots(1, 3, figsize=(16, 8))\n",
    "\n",
    "# Plot the first three boxplots in the first subplot\n",
    "sns.boxplot(data=data_list_SVC[0:3], ax=ax1)\n",
    "ax1.set_title('LinearSVC results')\n",
    "ax1.set_xlabel('MELNAOMA')\n",
    "ax1.set_ylabel('AUC')\n",
    "ax1.set_xticklabels(['Age&Sex', 'Radiomic Features', 'All Features'])\n",
    "\n",
    "# Plot the next three boxplots in the second subplot\n",
    "sns.boxplot(data=data_list_SVC[3:6], ax=ax2)\n",
    "ax2.set_title('LinearSVC results')\n",
    "ax2.set_xlabel('LUNG')\n",
    "ax2.set_ylabel('AUC')\n",
    "ax2.set_xticklabels(['Age&Sex', 'Radiomic Features', 'All Features'])\n",
    "\n",
    "sns.boxplot(data=data_list_SVC[6:], ax=ax3)\n",
    "ax3.set_title('LinearSVC results')\n",
    "ax3.set_xlabel('BREAST')\n",
    "ax3.set_ylabel('AUC')\n",
    "ax3.set_xticklabels(['Age&Sex', 'Radiomic Features', 'All Features'])\n",
    "\n",
    "# Adjust y-axis ticks if needed\n",
    "desired_y_ticks = [0.1, 0.15, 0.2, 0.25, 0.3, 0.35, 0.4, 0.45, 0.5, 0.55, 0.6, 0.65, 0.7, 0.75, 0.8, 0.85, 0.9]\n",
    "ax1.set_yticks(desired_y_ticks)\n",
    "ax2.set_yticks(desired_y_ticks)\n",
    "ax3.set_yticks(desired_y_ticks)\n",
    "\n",
    "# Adjust layout spacing between subplots\n",
    "plt.tight_layout()\n",
    "\n",
    "# Show the plot\n",
    "plt.show()"
   ],
   "metadata": {
    "collapsed": false,
    "ExecuteTime": {
     "start_time": "2023-08-19T11:11:07.396409Z",
     "end_time": "2023-08-19T11:11:08.085043Z"
    }
   }
  },
  {
   "cell_type": "markdown",
   "source": [
    "## Idont know why in the representation it might be a bit off the result of the breast AUC when only age and sex are taken into condieration"
   ],
   "metadata": {
    "collapsed": false
   }
  },
  {
   "cell_type": "code",
   "execution_count": 247,
   "outputs": [
    {
     "data": {
      "text/plain": "0.5908070034094624"
     },
     "execution_count": 247,
     "metadata": {},
     "output_type": "execute_result"
    }
   ],
   "source": [
    "np.mean(data_list_SVC[6:][0])"
   ],
   "metadata": {
    "collapsed": false,
    "ExecuteTime": {
     "start_time": "2023-08-19T11:15:56.331366Z",
     "end_time": "2023-08-19T11:15:56.825328Z"
    }
   }
  },
  {
   "cell_type": "markdown",
   "source": [
    "## Data lists"
   ],
   "metadata": {
    "collapsed": false
   }
  },
  {
   "cell_type": "code",
   "execution_count": 250,
   "outputs": [
    {
     "data": {
      "text/plain": "18"
     },
     "execution_count": 250,
     "metadata": {},
     "output_type": "execute_result"
    }
   ],
   "source": [
    "data_list = [svc_age_and_sex_melanoma, svc_radiomic_features_melanoma, svc_radiomic_features_age_sex_melanoma,random_forest_age_and_sex_melanoma, random_forest_radiomic_features_melanoma, random_forest_radiomic_features_age_and_sex_melanoma, svc_age_and_sex_lung, svc_radiomic_features_lung, svc_radiomic_features_age_sex_lung, random_forest_age_and_sex_lung, random_forest_radiomic_features_lung, random_forest_radiomic_features_age_and_sex_lung, svc_age_and_sex_breast, svc_radiomic_features_breast, svc_radiomic_features_age_sex_breast,random_forest_age_and_sex_breast,random_forest_radiomic_features_breast, random_forest_radiomic_features_age_and_sex_breast]\n",
    "len(data_list)"
   ],
   "metadata": {
    "collapsed": false,
    "ExecuteTime": {
     "start_time": "2023-08-19T13:37:29.933830Z",
     "end_time": "2023-08-19T13:37:30.271608Z"
    }
   }
  },
  {
   "cell_type": "markdown",
   "source": [
    "## Reporsentation of Age & Sex"
   ],
   "metadata": {
    "collapsed": false
   }
  },
  {
   "cell_type": "code",
   "execution_count": 285,
   "outputs": [
    {
     "data": {
      "text/plain": "<Figure size 1600x800 with 3 Axes>",
      "image/png": "[encoded data removed]"
     },
     "metadata": {},
     "output_type": "display_data"
    }
   ],
   "source": [
    "import seaborn as sns\n",
    "import matplotlib.pyplot as plt\n",
    "# Create a figure with two subplots\n",
    "fig, (ax1, ax2, ax3) = plt.subplots(1, 3, figsize=(16, 8))\n",
    "\n",
    "# Plot the first three boxplots in the first subplot\n",
    "sns.boxplot(data=data_list[0:4:3], ax=ax1)\n",
    "ax1.set_title('MELNAOMA')\n",
    "ax1.set_xlabel('Age & Sex')\n",
    "ax1.set_ylabel('AUC')\n",
    "ax1.set_xticklabels(['LInearSVC', 'RandomForest'])\n",
    "\n",
    "sns.boxplot(data=data_list[6:10:3], ax=ax2)\n",
    "ax2.set_title('Lung')\n",
    "ax2.set_xlabel('Age & Sex')\n",
    "ax2.set_ylabel('AUC')\n",
    "ax2.set_xticklabels(['LInearSVC', 'RandomForest'])\n",
    "\n",
    "sns.boxplot(data=data_list[12:18:3], ax=ax3)\n",
    "ax3.set_title('Breast')\n",
    "ax3.set_xlabel('Age & Sex')\n",
    "ax3.set_ylabel('AUC')\n",
    "ax3.set_xticklabels(['LInearSVC', 'RandomForest'])\n",
    "\n",
    "\n",
    "# Adjust y-axis ticks if needed\n",
    "desired_y_ticks = [0.1, 0.15, 0.2, 0.25, 0.3, 0.35, 0.4, 0.45, 0.5, 0.55, 0.6, 0.65, 0.7, 0.75, 0.8, 0.85, 0.9]\n",
    "ax1.set_yticks(desired_y_ticks)\n",
    "ax2.set_yticks(desired_y_ticks)\n",
    "ax3.set_yticks(desired_y_ticks)\n",
    "\n",
    "# Adjust layout spacing between subplots\n",
    "plt.tight_layout()\n",
    "\n",
    "# Show the plot\n",
    "plt.show()"
   ],
   "metadata": {
    "collapsed": false,
    "ExecuteTime": {
     "start_time": "2023-08-19T13:57:32.139532Z",
     "end_time": "2023-08-19T13:57:32.731278Z"
    }
   }
  },
  {
   "cell_type": "code",
   "execution_count": null,
   "outputs": [],
   "source": [
    "## Radiomic features represenatuon"
   ],
   "metadata": {
    "collapsed": false
   }
  },
  {
   "cell_type": "code",
   "execution_count": 289,
   "outputs": [
    {
     "data": {
      "text/plain": "<Figure size 1600x800 with 3 Axes>",
      "image/png": "[encoded data removed]"
     },
     "metadata": {},
     "output_type": "display_data"
    }
   ],
   "source": [
    "import seaborn as sns\n",
    "import matplotlib.pyplot as plt\n",
    "# Create a figure with two subplots\n",
    "fig, (ax1, ax2, ax3) = plt.subplots(1, 3, figsize=(16, 8))\n",
    "\n",
    "# Plot the first three boxplots in the first subplot\n",
    "sns.boxplot(data=data_list[1:5:3], ax=ax1)\n",
    "ax1.set_title('Melanoma')\n",
    "ax1.set_xlabel('Radiomic Features')\n",
    "ax1.set_ylabel('AUC')\n",
    "ax1.set_xticklabels(['LInearSVC', 'RandomForest'])\n",
    "\n",
    "sns.boxplot(data=data_list[7:11:3], ax=ax2)\n",
    "ax2.set_title('Lung')\n",
    "ax2.set_xlabel('Radiomic Features')\n",
    "ax2.set_ylabel('AUC')\n",
    "ax2.set_xticklabels(['LInearSVC', 'RandomForest'])\n",
    "\n",
    "sns.boxplot(data=data_list[13:17:3], ax=ax3)\n",
    "ax3.set_title('Breast')\n",
    "ax3.set_xlabel('Radiomic Features')\n",
    "ax3.set_ylabel('AUC')\n",
    "ax3.set_xticklabels(['LInearSVC', 'RandomForest'])\n",
    "\n",
    "\n",
    "# Adjust y-axis ticks if needed\n",
    "desired_y_ticks = [0.1, 0.15, 0.2, 0.25, 0.3, 0.35, 0.4, 0.45, 0.5, 0.55, 0.6, 0.65, 0.7, 0.75, 0.8, 0.85, 0.9]\n",
    "ax1.set_yticks(desired_y_ticks)\n",
    "ax2.set_yticks(desired_y_ticks)\n",
    "ax3.set_yticks(desired_y_ticks)\n",
    "\n",
    "# Adjust layout spacing between subplots\n",
    "plt.tight_layout()\n",
    "\n",
    "# Show the plot\n",
    "plt.show()"
   ],
   "metadata": {
    "collapsed": false,
    "ExecuteTime": {
     "start_time": "2023-08-19T15:16:23.344482Z",
     "end_time": "2023-08-19T15:16:24.232853Z"
    }
   }
  },
  {
   "cell_type": "markdown",
   "source": [
    "## All features"
   ],
   "metadata": {
    "collapsed": false
   }
  },
  {
   "cell_type": "code",
   "execution_count": 304,
   "outputs": [
    {
     "data": {
      "text/plain": "<Figure size 1600x800 with 3 Axes>",
      "image/png": "[encoded data removed]"
     },
     "metadata": {},
     "output_type": "display_data"
    }
   ],
   "source": [
    "import seaborn as sns\n",
    "import matplotlib.pyplot as plt\n",
    "# Create a figure with two subplots\n",
    "fig, (ax1, ax2, ax3) = plt.subplots(1, 3, figsize=(16, 8))\n",
    "\n",
    "# Plot the first three boxplots in the first subplot\n",
    "sns.boxplot(data=data_list[2:6:3], ax=ax1)\n",
    "ax1.set_title('Melanoma')\n",
    "ax1.set_xlabel('Age & Sex and Radiomic Features')\n",
    "ax1.set_ylabel('AUC')\n",
    "ax1.set_xticklabels(['LInearSVC', 'RandomForest'])\n",
    "\n",
    "sns.boxplot(data=data_list[8:12:3], ax=ax2)\n",
    "ax2.set_title('Lung')\n",
    "ax2.set_xlabel('Age & Sex and Radiomic Features')\n",
    "ax2.set_ylabel('AUC')\n",
    "ax2.set_xticklabels(['LInearSVC', 'RandomForest'])\n",
    "\n",
    "sns.boxplot(data=data_list[14:18:3], ax=ax3)\n",
    "ax3.set_title('Breast')\n",
    "ax3.set_xlabel('Age & Sex and Radiomic Features')\n",
    "ax3.set_ylabel('AUC')\n",
    "ax3.set_xticklabels(['LInearSVC', 'RandomForest'])\n",
    "\n",
    "\n",
    "# Adjust y-axis ticks if needed\n",
    "desired_y_ticks = [0.1, 0.15, 0.2, 0.25, 0.3, 0.35, 0.4, 0.45, 0.5, 0.55, 0.6, 0.65, 0.7, 0.75, 0.8, 0.85, 0.9]\n",
    "ax1.set_yticks(desired_y_ticks)\n",
    "ax2.set_yticks(desired_y_ticks)\n",
    "ax3.set_yticks(desired_y_ticks)\n",
    "\n",
    "# Adjust layout spacing between subplots\n",
    "plt.tight_layout()\n",
    "\n",
    "# Show the plot\n",
    "plt.show()"
   ],
   "metadata": {
    "collapsed": false,
    "ExecuteTime": {
     "start_time": "2023-08-19T15:21:48.747306Z",
     "end_time": "2023-08-19T15:21:49.379406Z"
    }
   }
  },
  {
   "cell_type": "code",
   "execution_count": null,
   "outputs": [],
   "source": [],
   "metadata": {
    "collapsed": false
   }
  }
 ],
 "metadata": {
  "kernelspec": {
   "display_name": "Python 3",
   "language": "python",
   "name": "python3"
  },
  "language_info": {
   "codemirror_mode": {
    "name": "ipython",
    "version": 2
   },
   "file_extension": ".py",
   "mimetype": "text/x-python",
   "name": "python",
   "nbconvert_exporter": "python",
   "pygments_lexer": "ipython2",
   "version": "2.7.6"
  }
 },
 "nbformat": 4,
 "nbformat_minor": 0
}
